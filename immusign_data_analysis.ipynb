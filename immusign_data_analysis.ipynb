{
 "cells": [
  {
   "cell_type": "code",
   "execution_count": null,
   "id": "fe731b21-00a5-480e-a105-3b0f59aafdf4",
   "metadata": {},
   "outputs": [],
   "source": [
    "import numpy as np\n",
    "import pandas as pd\n",
    "from tqdm.notebook import tqdm\n",
    "np.float = float\n",
    "np.bool = bool\n",
    "np.int = int\n",
    "import matplotlib.pyplot as plt\n",
    "import seaborn as sns\n",
    "import random\n",
    "import torch\n",
    "import time\n",
    "from torch.nn.utils.rnn import pack_padded_sequence, pad_packed_sequence\n",
    "import utils\n",
    "import shap\n",
    "from sklearn.metrics import classification_report\n",
    "from sklearn.metrics import confusion_matrix, ConfusionMatrixDisplay"
   ]
  },
  {
   "cell_type": "code",
   "execution_count": 2,
   "id": "e630106d",
   "metadata": {},
   "outputs": [],
   "source": [
    "df_meta = pd.read_csv(\"/Users/labadmin/Projects/immusign/data/lymphoma-reps-file-infos.csv\")\n",
    "lymphoma_types = df_meta[\"lymphoma_specification\"].unique()"
   ]
  },
  {
   "cell_type": "code",
   "execution_count": 3,
   "id": "baff45fc",
   "metadata": {},
   "outputs": [
    {
     "data": {
      "text/plain": [
       "Index(['pcr_target_locus', 'organism', 'template', 'tissue', 'lymphoma_type',\n",
       "       'lymphoma_specification', 'clones.txt.name', 'subject_id', 'sex',\n",
       "       'dosc', 'age', 'dob'],\n",
       "      dtype='object')"
      ]
     },
     "execution_count": 3,
     "metadata": {},
     "output_type": "execute_result"
    }
   ],
   "source": [
    "df_meta.columns"
   ]
  },
  {
   "cell_type": "code",
   "execution_count": 4,
   "id": "07b05eae",
   "metadata": {},
   "outputs": [
    {
     "data": {
      "text/plain": [
       "array(['cll', 'hd', 'unspecified', 'abc_dlbcl', 'nlphl', 'thrlbcl',\n",
       "       'dlbcl', 'lymphadenitis', 'gcb_dlbcl'], dtype=object)"
      ]
     },
     "execution_count": 4,
     "metadata": {},
     "output_type": "execute_result"
    }
   ],
   "source": [
    "lymphoma_types"
   ]
  },
  {
   "cell_type": "code",
   "execution_count": 9,
   "id": "5adbb22f-86a3-4a55-afa8-7eac2a50d8e8",
   "metadata": {},
   "outputs": [
    {
     "data": {
      "application/vnd.jupyter.widget-view+json": {
       "model_id": "884a937f70a4410b9c50576bc439d736",
       "version_major": 2,
       "version_minor": 0
      },
      "text/plain": [
       "  0%|          | 0/1394 [00:00<?, ?it/s]"
      ]
     },
     "metadata": {},
     "output_type": "display_data"
    }
   ],
   "source": [
    "df_raw = utils.read_clones_txt(df_meta[\"clones.txt.name\"].values, \"/Users/labadmin/Projects/immusign/data/clones_mit_kidera\")\n",
    "df_raw[\"cloneFraction\"] = df_raw[\"cloneFraction\"].apply(lambda x: float(x.replace(\",\",\".\").replace(\"+\",\"-\")) if type(x) == str else float(x))"
   ]
  },
  {
   "cell_type": "code",
   "execution_count": 51,
   "id": "475db4d5-ce9e-4e50-9a6c-ac6d8752e4f3",
   "metadata": {},
   "outputs": [
    {
     "data": {
      "text/plain": [
       "Index(['cloneId', 'cloneCount', 'cloneFraction', 'nSeqCDR3', 'aaSeqCDR3',\n",
       "       'bestVGene', 'bestDGene', 'bestJGene', 'vBestIdentityPercent',\n",
       "       'lengthOfCDR3', 'targetSequences', 'allVGenes', 'allDGenes',\n",
       "       'allJGenes', 'allVHits', 'allDHits', 'allJHits', 'allVAlignments',\n",
       "       'allDAlignments', 'allJAlignments', 'KF1', 'KF2', 'KF3', 'KF4', 'KF5',\n",
       "       'KF6', 'KF7', 'KF8', 'KF9', 'KF10', 'clones.txt.name',\n",
       "       'dBestIdentityPercent', 'jBestIdentityPercent', 'aaSeqCDR2',\n",
       "       'aaSeqCDR1', 'aaSeqFR2', 'aaSeqFR3', 'aaSeqFR4',\n",
       "       'aaSeqImputedVDJRegion'],\n",
       "      dtype='object')"
      ]
     },
     "execution_count": 51,
     "metadata": {},
     "output_type": "execute_result"
    }
   ],
   "source": [
    "df_raw.columns"
   ]
  },
  {
   "cell_type": "markdown",
   "id": "d244d37e-813b-4db5-b43e-e348fc029d69",
   "metadata": {},
   "source": [
    "# Load Data read from R-Script"
   ]
  },
  {
   "cell_type": "code",
   "execution_count": 51,
   "id": "6371eb1f-42be-440e-a744-a4364b7e0fc4",
   "metadata": {},
   "outputs": [],
   "source": [
    "import rpy2.robjects as robjects\n",
    "robjects.r['load'](\"/Users/labadmin/Projects/immusign/immusign_40000_reads_with_out_of_frame.RData\")\n",
    "twb = robjects.r['twb']"
   ]
  },
  {
   "cell_type": "code",
   "execution_count": 52,
   "id": "fce4991b-c577-493b-ab24-18e9bafe692b",
   "metadata": {},
   "outputs": [],
   "source": [
    "df = utils.convert_rtwb_to_pdtwb(twb)"
   ]
  },
  {
   "cell_type": "code",
   "execution_count": 53,
   "id": "b946aeb3-b426-490c-bd73-c45a14851e90",
   "metadata": {},
   "outputs": [],
   "source": [
    "df[\"clones.txt.name\"] = df[\"sample\"].apply(lambda x: x + \".clones.txt\")"
   ]
  },
  {
   "cell_type": "code",
   "execution_count": 20,
   "id": "ddf5715b-6bd3-429b-8ef9-2f1960c0973f",
   "metadata": {},
   "outputs": [
    {
     "data": {
      "text/plain": [
       "Index(['Umi.count', 'Umi.proportion', 'Read.count', 'Read.proportion',\n",
       "       'CDR3.nucleotide.sequence', 'CDR3.amino.acid.sequence', 'V.gene',\n",
       "       'J.gene', 'D.gene', 'V.end', 'J.start', 'D5.end', 'D3.end',\n",
       "       'VD.insertions', 'DJ.insertions', 'Total.insertions', 'sample',\n",
       "       'cloneId', 'clones.txt.name'],\n",
       "      dtype='object')"
      ]
     },
     "execution_count": 20,
     "metadata": {},
     "output_type": "execute_result"
    }
   ],
   "source": [
    "df.columns"
   ]
  },
  {
   "cell_type": "markdown",
   "id": "9c4b8ed7-7644-406e-b804-f5228be408dd",
   "metadata": {},
   "source": [
    "# Add metric info"
   ]
  },
  {
   "cell_type": "code",
   "execution_count": 21,
   "id": "61026e0b-7574-4a73-844d-9b0d6686bd1b",
   "metadata": {},
   "outputs": [],
   "source": [
    "stats = pd.read_csv(\"/Users/labadmin/Projects/immusign/output/stats.csv\", sep=\";\")\n",
    "stats.rename(columns={stats.columns[0]:\"sample\"}, inplace=True)"
   ]
  },
  {
   "cell_type": "code",
   "execution_count": 22,
   "id": "7966d974-f7f1-46cf-b47f-0d430764ea4d",
   "metadata": {},
   "outputs": [],
   "source": [
    "df = df.merge(stats.iloc[:-2], on = \"sample\")"
   ]
  },
  {
   "cell_type": "markdown",
   "id": "fddccc49-ad07-40e3-9116-802336babe43",
   "metadata": {},
   "source": [
    "# Add meta info"
   ]
  },
  {
   "cell_type": "code",
   "execution_count": 23,
   "id": "586b816e",
   "metadata": {},
   "outputs": [],
   "source": [
    "df = df.merge(df_meta, on = \"clones.txt.name\")"
   ]
  },
  {
   "cell_type": "code",
   "execution_count": 24,
   "id": "4d34b3a2",
   "metadata": {},
   "outputs": [
    {
     "data": {
      "text/plain": [
       "Index(['Umi.count', 'Umi.proportion', 'Read.count', 'Read.proportion',\n",
       "       'CDR3.nucleotide.sequence', 'CDR3.amino.acid.sequence', 'V.gene',\n",
       "       'J.gene', 'D.gene', 'V.end', 'J.start', 'D5.end', 'D3.end',\n",
       "       'VD.insertions', 'DJ.insertions', 'Total.insertions', 'sample',\n",
       "       'cloneId', 'clones.txt.name', '#Nucleotide clones',\n",
       "       '#Aminoacid clonotypes', '%Aminoacid clonotypes', '#In-frames',\n",
       "       '%In-frames', '#Out-of-frames', '%Out-of-frames', 'Sum.reads',\n",
       "       'Min.reads', '1st Qu.reads', 'Median.reads', 'Mean.reads',\n",
       "       '3rd Qu.reads', 'Max.reads', 'Sum.UMIs', 'Min.UMIs', '1st Qu.UMIs',\n",
       "       'Median.UMIs', 'Mean.UMIs', '3rd Qu.UMIs', 'Max.UMIs', 'Clonality',\n",
       "       'twb.shannon', 'twb.simp', 'pcr_target_locus', 'organism', 'template',\n",
       "       'tissue', 'lymphoma_type', 'lymphoma_specification', 'subject_id',\n",
       "       'sex', 'dosc', 'age', 'dob'],\n",
       "      dtype='object')"
      ]
     },
     "execution_count": 24,
     "metadata": {},
     "output_type": "execute_result"
    }
   ],
   "source": [
    "df.columns"
   ]
  },
  {
   "cell_type": "markdown",
   "id": "ea5a2dea-2992-456d-8fac-134d1d30d84b",
   "metadata": {},
   "source": [
    "# Add correct clone Id before adding info from raw files"
   ]
  },
  {
   "cell_type": "code",
   "execution_count": 108,
   "id": "43dfade0-0c2c-45e5-940c-04e0f875104f",
   "metadata": {},
   "outputs": [
    {
     "data": {
      "application/vnd.jupyter.widget-view+json": {
       "model_id": "e7dd6779275b4ea38dddf33e17f17bbe",
       "version_major": 2,
       "version_minor": 0
      },
      "text/plain": [
       "  0%|          | 0/679 [00:00<?, ?it/s]"
      ]
     },
     "metadata": {},
     "output_type": "display_data"
    }
   ],
   "source": [
    "df[\"cloneId\"] = None\n",
    "\n",
    "for file in tqdm(df[\"clones.txt.name\"].unique()):\n",
    "    df_sub_file = df[df[\"clones.txt.name\"] == file]\n",
    "    df_raw_sub_file = df_raw[df_raw[\"clones.txt.name\"] == file]\n",
    "    for i, index_row in enumerate(df_sub_file.iterrows()):\n",
    "        index, row = index_row[0], index_row[1]  \n",
    "        if row[\"CDR3.nucleotide.sequence\"] == df_raw_sub_file.iloc[i][\"nSeqCDR3\"]:\n",
    "            df.loc[index,\"cloneId\"] = df_raw_sub_file.iloc[i][\"cloneId\"]"
   ]
  },
  {
   "cell_type": "code",
   "execution_count": 116,
   "id": "22aa0774-3c99-4e4f-8d71-157b33310d2b",
   "metadata": {},
   "outputs": [],
   "source": [
    "df2 = df.merge(df_raw, left_on=[\"clones.txt.name\", \"cloneId\", \"CDR3.nucleotide.sequence\"], right_on =[\"clones.txt.name\", \"cloneId\", \"nSeqCDR3\"], how = \"left\")"
   ]
  },
  {
   "cell_type": "code",
   "execution_count": 55,
   "id": "787011ca-f354-4083-bc53-7f566231148e",
   "metadata": {},
   "outputs": [
    {
     "data": {
      "text/plain": [
       "Index(['Umi.count', 'Umi.proportion', 'Read.count', 'Read.proportion',\n",
       "       'CDR3.nucleotide.sequence', 'CDR3.amino.acid.sequence', 'V.gene',\n",
       "       'J.gene', 'D.gene', 'V.end', 'J.start', 'D5.end', 'D3.end',\n",
       "       'VD.insertions', 'DJ.insertions', 'Total.insertions', 'sample',\n",
       "       'cloneId', 'clones.txt.name', '#Nucleotide clones',\n",
       "       '#Aminoacid clonotypes', '%Aminoacid clonotypes', '#In-frames',\n",
       "       '%In-frames', '#Out-of-frames', '%Out-of-frames', 'Sum.reads',\n",
       "       'Min.reads', '1st Qu.reads', 'Median.reads', 'Mean.reads',\n",
       "       '3rd Qu.reads', 'Max.reads', 'Sum.UMIs', 'Min.UMIs', '1st Qu.UMIs',\n",
       "       'Median.UMIs', 'Mean.UMIs', '3rd Qu.UMIs', 'Max.UMIs', 'Clonality',\n",
       "       'twb.shannon', 'twb.simp', 'pcr_target_locus', 'organism', 'template',\n",
       "       'tissue', 'lymphoma_type', 'lymphoma_specification', 'subject_id',\n",
       "       'sex', 'dosc', 'age', 'dob', 'cloneCount', 'cloneFraction', 'nSeqCDR3',\n",
       "       'aaSeqCDR3', 'bestVGene', 'bestDGene', 'bestJGene',\n",
       "       'vBestIdentityPercent', 'lengthOfCDR3', 'targetSequences', 'allVGenes',\n",
       "       'allDGenes', 'allJGenes', 'allVHits', 'allDHits', 'allJHits',\n",
       "       'allVAlignments', 'allDAlignments', 'allJAlignments', 'KF1', 'KF2',\n",
       "       'KF3', 'KF4', 'KF5', 'KF6', 'KF7', 'KF8', 'KF9', 'KF10',\n",
       "       'dBestIdentityPercent', 'jBestIdentityPercent', 'aaSeqCDR2',\n",
       "       'aaSeqCDR1', 'aaSeqFR2', 'aaSeqFR3', 'aaSeqFR4',\n",
       "       'aaSeqImputedVDJRegion'],\n",
       "      dtype='object')"
      ]
     },
     "execution_count": 55,
     "metadata": {},
     "output_type": "execute_result"
    }
   ],
   "source": [
    "df2.columns"
   ]
  },
  {
   "cell_type": "code",
   "execution_count": 122,
   "id": "8c917747",
   "metadata": {},
   "outputs": [],
   "source": [
    "#df2.to_pickle(\"immusign_40000_reads_with_mutations_merged_raw_data.pkl\")"
   ]
  },
  {
   "cell_type": "code",
   "execution_count": 91,
   "id": "06ffd9b4-bb59-47d3-a495-6676e24dabc5",
   "metadata": {},
   "outputs": [],
   "source": [
    "#df.to_pickle(\"immusign_40000_reads_with_mutations_merged_raw_data_cleaned.pkl\")"
   ]
  },
  {
   "cell_type": "markdown",
   "id": "0062e721-6775-4943-977c-15e1f073e542",
   "metadata": {},
   "source": [
    "# Get rid of redundant information"
   ]
  },
  {
   "cell_type": "code",
   "execution_count": 76,
   "id": "78cde13c-6be9-4c8e-b9e8-d30ede45b5e5",
   "metadata": {},
   "outputs": [],
   "source": [
    "#df = pd.read_pickle(\"immusign_40000_reads_with_out_of_frame_merged_raw_data.pkl\")"
   ]
  },
  {
   "cell_type": "markdown",
   "id": "8294ea78-0f58-4e98-bcfe-4d9e1650d516",
   "metadata": {},
   "source": [
    "### CDR3.amino.acid.sequence from R-scripts and aaSeqCDR3 from files not the same"
   ]
  },
  {
   "cell_type": "code",
   "execution_count": null,
   "id": "3633266f-087c-46c4-8003-34e2784aa96a",
   "metadata": {},
   "outputs": [],
   "source": [
    "# test = df[~(df[\"CDR3.amino.acid.sequence\"].apply(lambda x: x.replace(\"~\", \"_\")) == df[\"aaSeqCDR3\"])]"
   ]
  },
  {
   "cell_type": "code",
   "execution_count": 57,
   "id": "e2ca55c5-d8bc-41e7-aa4a-4321b7850f83",
   "metadata": {},
   "outputs": [
    {
     "name": "stdout",
     "output_type": "stream",
     "text": [
      "CASKSND_TGKGYW\n",
      "CASKSN_TGKGYW\n"
     ]
    }
   ],
   "source": [
    "print(df[\"CDR3.amino.acid.sequence\"].apply(lambda x: x.replace(\"~\", \"_\")).loc[7])\n",
    "print(df[\"aaSeqCDR3\"].loc[7])"
   ]
  },
  {
   "cell_type": "markdown",
   "id": "5f5ea6b6-555d-4906-bd53-06aa8c5081b9",
   "metadata": {},
   "source": [
    "### bunch.translate function either drops 2 nucleotide (seq_len % 3 = 2) or repeats 2 nucleotides (seq_len % 2 = 1) leading to additional AS e.g. D in example above"
   ]
  },
  {
   "cell_type": "code",
   "execution_count": 77,
   "id": "ccb03420-d4d1-4f06-a0cb-dae68945e624",
   "metadata": {},
   "outputs": [
    {
     "data": {
      "text/plain": [
       "Index(['Umi.count', 'Umi.proportion', 'Read.count', 'Read.proportion',\n",
       "       'CDR3.nucleotide.sequence', 'CDR3.amino.acid.sequence', 'V.gene',\n",
       "       'J.gene', 'D.gene', 'V.end', 'J.start', 'D5.end', 'D3.end',\n",
       "       'VD.insertions', 'DJ.insertions', 'Total.insertions', 'sample',\n",
       "       'cloneId', 'clones.txt.name', '#Nucleotide clones',\n",
       "       '#Aminoacid clonotypes', '%Aminoacid clonotypes', '#In-frames',\n",
       "       '%In-frames', '#Out-of-frames', '%Out-of-frames', 'Sum.reads',\n",
       "       'Min.reads', '1st Qu.reads', 'Median.reads', 'Mean.reads',\n",
       "       '3rd Qu.reads', 'Max.reads', 'Sum.UMIs', 'Min.UMIs', '1st Qu.UMIs',\n",
       "       'Median.UMIs', 'Mean.UMIs', '3rd Qu.UMIs', 'Max.UMIs', 'Clonality',\n",
       "       'twb.shannon', 'twb.simp', 'pcr_target_locus', 'organism', 'template',\n",
       "       'tissue', 'lymphoma_type', 'lymphoma_specification', 'subject_id',\n",
       "       'sex', 'dosc', 'age', 'dob', 'cloneCount', 'cloneFraction', 'nSeqCDR3',\n",
       "       'aaSeqCDR3', 'bestVGene', 'bestDGene', 'bestJGene',\n",
       "       'vBestIdentityPercent', 'lengthOfCDR3', 'targetSequences', 'allVGenes',\n",
       "       'allDGenes', 'allJGenes', 'allVHits', 'allDHits', 'allJHits',\n",
       "       'allVAlignments', 'allDAlignments', 'allJAlignments', 'KF1', 'KF2',\n",
       "       'KF3', 'KF4', 'KF5', 'KF6', 'KF7', 'KF8', 'KF9', 'KF10',\n",
       "       'dBestIdentityPercent', 'jBestIdentityPercent', 'aaSeqCDR2',\n",
       "       'aaSeqCDR1', 'aaSeqFR2', 'aaSeqFR3', 'aaSeqFR4',\n",
       "       'aaSeqImputedVDJRegion'],\n",
       "      dtype='object')"
      ]
     },
     "execution_count": 77,
     "metadata": {},
     "output_type": "execute_result"
    }
   ],
   "source": [
    "df.columns"
   ]
  },
  {
   "cell_type": "code",
   "execution_count": 90,
   "id": "da650320-31e5-4368-978c-e37560d0dedd",
   "metadata": {},
   "outputs": [],
   "source": [
    "df.drop(columns = ['Umi.count', 'Umi.proportion', 'Sum.UMIs', 'Min.UMIs', '1st Qu.UMIs',\n",
    "       'Median.UMIs', 'Mean.UMIs', '3rd Qu.UMIs', 'Max.UMIs', 'nSeqCDR3'],inplace=True)"
   ]
  },
  {
   "cell_type": "code",
   "execution_count": 4,
   "id": "a8c2e2b3-e209-406f-a32f-57e6d9873e5c",
   "metadata": {},
   "outputs": [
    {
     "data": {
      "text/plain": [
       "array(['CARSPDHW', 'CARDVVVGYYYGMDVW', 'CASGYFEYSSSRPYGMDVW', ...,\n",
       "       'CARAARQGSTGYYFFDYW', 'CARDLGRFSPPFCSGINCYEGGGFDPW',\n",
       "       'CAREQEPYSNTDFW'], dtype=object)"
      ]
     },
     "execution_count": 4,
     "metadata": {},
     "output_type": "execute_result"
    }
   ],
   "source": [
    "df[\"aaSeqCDR3\"].unique()"
   ]
  },
  {
   "cell_type": "code",
   "execution_count": 5,
   "id": "a1439fb2-d1e9-480d-bab1-fdb16584d394",
   "metadata": {},
   "outputs": [],
   "source": [
    "df[\"Clonality\"] = df[\"Clonality\"].apply(lambda x: float(x.replace(\",\",\".\").replace(\"+\",\"-\")) if type(x) == str else float(x))\n",
    "df[\"twb.shannon\"] = df[\"twb.shannon\"].apply(lambda x: float(x.replace(\",\",\".\").replace(\"+\",\"-\")) if type(x) == str else float(x))\n",
    "df[\"twb.simp\"] = df[\"twb.simp\"].apply(lambda x: float(x.replace(\",\",\".\").replace(\"+\",\"-\")) if type(x) == str else float(x))"
   ]
  },
  {
   "cell_type": "code",
   "execution_count": 6,
   "id": "dacc7442-2c73-43bc-9578-f8d86dd24454",
   "metadata": {},
   "outputs": [],
   "source": [
    "df[\"age\"] = df[\"age\"].apply(lambda x: utils.tryconvert(x, np.nan, float))"
   ]
  },
  {
   "cell_type": "code",
   "execution_count": 7,
   "id": "68493a7b-30c8-4654-b613-490d3187cc76",
   "metadata": {},
   "outputs": [
    {
     "data": {
      "text/plain": [
       "213328"
      ]
     },
     "execution_count": 7,
     "metadata": {},
     "output_type": "execute_result"
    }
   ],
   "source": [
    "np.sum(df[\"age\"].isnull())"
   ]
  },
  {
   "cell_type": "code",
   "execution_count": 8,
   "id": "dfed8cd5-a6d4-498b-a287-32bd1d379ad9",
   "metadata": {},
   "outputs": [
    {
     "data": {
      "text/plain": [
       "209223"
      ]
     },
     "execution_count": 8,
     "metadata": {},
     "output_type": "execute_result"
    }
   ],
   "source": [
    "np.sum(df[\"sex\"].isnull())"
   ]
  },
  {
   "cell_type": "code",
   "execution_count": 42,
   "id": "8fdf3246-beea-4de2-980c-664e8bf574e0",
   "metadata": {},
   "outputs": [],
   "source": [
    "unkown_sex_id = df[df[\"sex\"].isnull()][\"subject_id\"].unique()"
   ]
  },
  {
   "cell_type": "code",
   "execution_count": 43,
   "id": "b645b58f-d79b-4e34-aeee-fe86dd1fe996",
   "metadata": {
    "scrolled": true
   },
   "outputs": [
    {
     "data": {
      "text/html": [
       "<div>\n",
       "<style scoped>\n",
       "    .dataframe tbody tr th:only-of-type {\n",
       "        vertical-align: middle;\n",
       "    }\n",
       "\n",
       "    .dataframe tbody tr th {\n",
       "        vertical-align: top;\n",
       "    }\n",
       "\n",
       "    .dataframe thead th {\n",
       "        text-align: right;\n",
       "    }\n",
       "</style>\n",
       "<table border=\"1\" class=\"dataframe\">\n",
       "  <thead>\n",
       "    <tr style=\"text-align: right;\">\n",
       "      <th></th>\n",
       "      <th></th>\n",
       "    </tr>\n",
       "    <tr>\n",
       "      <th>sex</th>\n",
       "      <th>subject_id</th>\n",
       "    </tr>\n",
       "  </thead>\n",
       "  <tbody>\n",
       "    <tr>\n",
       "      <th rowspan=\"2\" valign=\"top\">female</th>\n",
       "      <th>CLL394</th>\n",
       "    </tr>\n",
       "    <tr>\n",
       "      <th>HD096</th>\n",
       "    </tr>\n",
       "    <tr>\n",
       "      <th rowspan=\"3\" valign=\"top\">male</th>\n",
       "      <th>CLL300</th>\n",
       "    </tr>\n",
       "    <tr>\n",
       "      <th>CLL374</th>\n",
       "    </tr>\n",
       "    <tr>\n",
       "      <th>DLBCL07</th>\n",
       "    </tr>\n",
       "  </tbody>\n",
       "</table>\n",
       "</div>"
      ],
      "text/plain": [
       "Empty DataFrame\n",
       "Columns: []\n",
       "Index: [(female, CLL394), (female, HD096), (male, CLL300), (male, CLL374), (male, DLBCL07)]"
      ]
     },
     "execution_count": 43,
     "metadata": {},
     "output_type": "execute_result"
    }
   ],
   "source": [
    "df[df.subject_id.isin(unkown_sex)][~df[df.subject_id.isin(unkown_sex)][\"sex\"].isnull()][[\"sex\", \"subject_id\"]].groupby([\"sex\", \"subject_id\"]).first()"
   ]
  },
  {
   "cell_type": "code",
   "execution_count": 54,
   "id": "2e576505-e7d0-41b7-b130-8377224c32bd",
   "metadata": {},
   "outputs": [
    {
     "data": {
      "text/html": [
       "<div>\n",
       "<style scoped>\n",
       "    .dataframe tbody tr th:only-of-type {\n",
       "        vertical-align: middle;\n",
       "    }\n",
       "\n",
       "    .dataframe tbody tr th {\n",
       "        vertical-align: top;\n",
       "    }\n",
       "\n",
       "    .dataframe thead th {\n",
       "        text-align: right;\n",
       "    }\n",
       "</style>\n",
       "<table border=\"1\" class=\"dataframe\">\n",
       "  <thead>\n",
       "    <tr style=\"text-align: right;\">\n",
       "      <th></th>\n",
       "      <th>clones.txt.name</th>\n",
       "      <th>sex</th>\n",
       "      <th>subject_id</th>\n",
       "    </tr>\n",
       "  </thead>\n",
       "  <tbody>\n",
       "    <tr>\n",
       "      <th>1195599</th>\n",
       "      <td>LisaS-hs-FR3-DLBCL07_S39.clones.txt</td>\n",
       "      <td>male</td>\n",
       "      <td>DLBCL07</td>\n",
       "    </tr>\n",
       "    <tr>\n",
       "      <th>1195600</th>\n",
       "      <td>LisaS-hs-FR3-DLBCL07_S39.clones.txt</td>\n",
       "      <td>male</td>\n",
       "      <td>DLBCL07</td>\n",
       "    </tr>\n",
       "    <tr>\n",
       "      <th>1195601</th>\n",
       "      <td>LisaS-hs-FR3-DLBCL07_S39.clones.txt</td>\n",
       "      <td>male</td>\n",
       "      <td>DLBCL07</td>\n",
       "    </tr>\n",
       "    <tr>\n",
       "      <th>1195602</th>\n",
       "      <td>LisaS-hs-FR3-DLBCL07_S39.clones.txt</td>\n",
       "      <td>male</td>\n",
       "      <td>DLBCL07</td>\n",
       "    </tr>\n",
       "    <tr>\n",
       "      <th>1195603</th>\n",
       "      <td>LisaS-hs-FR3-DLBCL07_S39.clones.txt</td>\n",
       "      <td>male</td>\n",
       "      <td>DLBCL07</td>\n",
       "    </tr>\n",
       "    <tr>\n",
       "      <th>...</th>\n",
       "      <td>...</td>\n",
       "      <td>...</td>\n",
       "      <td>...</td>\n",
       "    </tr>\n",
       "    <tr>\n",
       "      <th>1195690</th>\n",
       "      <td>LisaS-hs-FR3-DLBCL07-II_S128.clones.txt</td>\n",
       "      <td>male</td>\n",
       "      <td>DLBCL07</td>\n",
       "    </tr>\n",
       "    <tr>\n",
       "      <th>1195691</th>\n",
       "      <td>LisaS-hs-FR3-DLBCL07-II_S128.clones.txt</td>\n",
       "      <td>male</td>\n",
       "      <td>DLBCL07</td>\n",
       "    </tr>\n",
       "    <tr>\n",
       "      <th>1195692</th>\n",
       "      <td>LisaS-hs-FR3-DLBCL07-II_S128.clones.txt</td>\n",
       "      <td>male</td>\n",
       "      <td>DLBCL07</td>\n",
       "    </tr>\n",
       "    <tr>\n",
       "      <th>1195693</th>\n",
       "      <td>LisaS-hs-FR3-DLBCL07-II_S128.clones.txt</td>\n",
       "      <td>male</td>\n",
       "      <td>DLBCL07</td>\n",
       "    </tr>\n",
       "    <tr>\n",
       "      <th>1195694</th>\n",
       "      <td>LisaS-hs-FR3-DLBCL07-II_S128.clones.txt</td>\n",
       "      <td>male</td>\n",
       "      <td>DLBCL07</td>\n",
       "    </tr>\n",
       "  </tbody>\n",
       "</table>\n",
       "<p>96 rows × 3 columns</p>\n",
       "</div>"
      ],
      "text/plain": [
       "                                 clones.txt.name   sex subject_id\n",
       "1195599      LisaS-hs-FR3-DLBCL07_S39.clones.txt  male    DLBCL07\n",
       "1195600      LisaS-hs-FR3-DLBCL07_S39.clones.txt  male    DLBCL07\n",
       "1195601      LisaS-hs-FR3-DLBCL07_S39.clones.txt  male    DLBCL07\n",
       "1195602      LisaS-hs-FR3-DLBCL07_S39.clones.txt  male    DLBCL07\n",
       "1195603      LisaS-hs-FR3-DLBCL07_S39.clones.txt  male    DLBCL07\n",
       "...                                          ...   ...        ...\n",
       "1195690  LisaS-hs-FR3-DLBCL07-II_S128.clones.txt  male    DLBCL07\n",
       "1195691  LisaS-hs-FR3-DLBCL07-II_S128.clones.txt  male    DLBCL07\n",
       "1195692  LisaS-hs-FR3-DLBCL07-II_S128.clones.txt  male    DLBCL07\n",
       "1195693  LisaS-hs-FR3-DLBCL07-II_S128.clones.txt  male    DLBCL07\n",
       "1195694  LisaS-hs-FR3-DLBCL07-II_S128.clones.txt  male    DLBCL07\n",
       "\n",
       "[96 rows x 3 columns]"
      ]
     },
     "execution_count": 54,
     "metadata": {},
     "output_type": "execute_result"
    }
   ],
   "source": [
    "df[df.subject_id == \"CLL394\"][[\"clones.txt.name\", \"sex\", \"subject_id\"]]\n",
    "df[df.subject_id == \"HD096\"][[\"clones.txt.name\", \"sex\", \"subject_id\"]]\n",
    "df[df.subject_id == \"CLL300\"][[\"clones.txt.name\", \"sex\", \"subject_id\"]]\n",
    "df[df.subject_id == \"CLL374\"][[\"clones.txt.name\", \"sex\", \"subject_id\"]]\n",
    "df[df.subject_id == \"DLBCL07\"][[\"clones.txt.name\", \"sex\", \"subject_id\"]]"
   ]
  },
  {
   "cell_type": "code",
   "execution_count": 53,
   "id": "715a477a-29a0-4eec-9acf-1844c3562aee",
   "metadata": {},
   "outputs": [],
   "source": [
    "df.loc[df.subject_id == \"CLL394\",\"sex\"] = \"female\"\n",
    "df.loc[df.subject_id == \"HD096\",\"sex\"] = \"female\"\n",
    "df.loc[df.subject_id == \"CLL300\",\"sex\"] = \"male\"\n",
    "df.loc[df.subject_id == \"CLL374\",\"sex\"] = \"male\"\n",
    "df.loc[df.subject_id == \"DLBCL07\",\"sex\"] = \"male\""
   ]
  },
  {
   "cell_type": "code",
   "execution_count": 55,
   "id": "7766fd68-cb71-48c5-bc24-c3043fb52f41",
   "metadata": {},
   "outputs": [
    {
     "data": {
      "text/plain": [
       "207410"
      ]
     },
     "execution_count": 55,
     "metadata": {},
     "output_type": "execute_result"
    }
   ],
   "source": [
    "np.sum(df[\"sex\"].isnull())"
   ]
  },
  {
   "cell_type": "code",
   "execution_count": 56,
   "id": "5a3bbf59-dfa9-4eda-a97a-632a7161028b",
   "metadata": {},
   "outputs": [],
   "source": [
    "unkown_age_id = df[df[\"age\"].isnull()][\"subject_id\"].unique()"
   ]
  },
  {
   "cell_type": "code",
   "execution_count": 58,
   "id": "0782e3cf-7275-4a2a-bbc3-306e8443ae26",
   "metadata": {},
   "outputs": [
    {
     "data": {
      "text/html": [
       "<div>\n",
       "<style scoped>\n",
       "    .dataframe tbody tr th:only-of-type {\n",
       "        vertical-align: middle;\n",
       "    }\n",
       "\n",
       "    .dataframe tbody tr th {\n",
       "        vertical-align: top;\n",
       "    }\n",
       "\n",
       "    .dataframe thead th {\n",
       "        text-align: right;\n",
       "    }\n",
       "</style>\n",
       "<table border=\"1\" class=\"dataframe\">\n",
       "  <thead>\n",
       "    <tr style=\"text-align: right;\">\n",
       "      <th></th>\n",
       "      <th></th>\n",
       "    </tr>\n",
       "    <tr>\n",
       "      <th>age</th>\n",
       "      <th>subject_id</th>\n",
       "    </tr>\n",
       "  </thead>\n",
       "  <tbody>\n",
       "    <tr>\n",
       "      <th>38.0</th>\n",
       "      <th>HD096</th>\n",
       "    </tr>\n",
       "    <tr>\n",
       "      <th>52.0</th>\n",
       "      <th>HD020</th>\n",
       "    </tr>\n",
       "    <tr>\n",
       "      <th>59.0</th>\n",
       "      <th>CLL367</th>\n",
       "    </tr>\n",
       "    <tr>\n",
       "      <th>61.0</th>\n",
       "      <th>CLL144</th>\n",
       "    </tr>\n",
       "    <tr>\n",
       "      <th rowspan=\"2\" valign=\"top\">63.0</th>\n",
       "      <th>CLL300</th>\n",
       "    </tr>\n",
       "    <tr>\n",
       "      <th>CLL368</th>\n",
       "    </tr>\n",
       "    <tr>\n",
       "      <th rowspan=\"2\" valign=\"top\">64.0</th>\n",
       "      <th>CLL144</th>\n",
       "    </tr>\n",
       "    <tr>\n",
       "      <th>CLL368</th>\n",
       "    </tr>\n",
       "    <tr>\n",
       "      <th>65.0</th>\n",
       "      <th>CLL306</th>\n",
       "    </tr>\n",
       "    <tr>\n",
       "      <th rowspan=\"3\" valign=\"top\">66.0</th>\n",
       "      <th>CLL144</th>\n",
       "    </tr>\n",
       "    <tr>\n",
       "      <th>CLL306</th>\n",
       "    </tr>\n",
       "    <tr>\n",
       "      <th>CLL374</th>\n",
       "    </tr>\n",
       "    <tr>\n",
       "      <th>67.0</th>\n",
       "      <th>CLL306</th>\n",
       "    </tr>\n",
       "    <tr>\n",
       "      <th>71.0</th>\n",
       "      <th>CLL353</th>\n",
       "    </tr>\n",
       "    <tr>\n",
       "      <th rowspan=\"2\" valign=\"top\">72.0</th>\n",
       "      <th>CLL353</th>\n",
       "    </tr>\n",
       "    <tr>\n",
       "      <th>CLL394</th>\n",
       "    </tr>\n",
       "    <tr>\n",
       "      <th>90.0</th>\n",
       "      <th>DLBCL07</th>\n",
       "    </tr>\n",
       "  </tbody>\n",
       "</table>\n",
       "</div>"
      ],
      "text/plain": [
       "Empty DataFrame\n",
       "Columns: []\n",
       "Index: [(38.0, HD096), (52.0, HD020), (59.0, CLL367), (61.0, CLL144), (63.0, CLL300), (63.0, CLL368), (64.0, CLL144), (64.0, CLL368), (65.0, CLL306), (66.0, CLL144), (66.0, CLL306), (66.0, CLL374), (67.0, CLL306), (71.0, CLL353), (72.0, CLL353), (72.0, CLL394), (90.0, DLBCL07)]"
      ]
     },
     "execution_count": 58,
     "metadata": {},
     "output_type": "execute_result"
    }
   ],
   "source": [
    "df[df.subject_id.isin(unkown_age_id)][~df[df.subject_id.isin(unkown_age_id)][\"age\"].isnull()][[\"age\", \"subject_id\"]].groupby([\"age\", \"subject_id\"]).first()"
   ]
  },
  {
   "cell_type": "code",
   "execution_count": 65,
   "id": "1b1aa320-6a7c-4622-9369-259e79c0df46",
   "metadata": {},
   "outputs": [
    {
     "data": {
      "text/plain": [
       "array([63., 64., nan])"
      ]
     },
     "execution_count": 65,
     "metadata": {},
     "output_type": "execute_result"
    }
   ],
   "source": [
    "df.loc[df.subject_id == \"CLL368\",[\"age\", ]].unique()"
   ]
  },
  {
   "cell_type": "code",
   "execution_count": 112,
   "id": "12fa717f-fe57-4e6f-9a1c-448511ee0a81",
   "metadata": {},
   "outputs": [],
   "source": [
    "for idx, row in df[df[\"age\"].isnull()].iterrows():\n",
    "    if (not pd.isnull(row.dob)) and (not pd.isnull(row.dosc)):\n",
    "        df.loc[idx, \"age\"] = utils.from_dosc_and_dob_to_age(row.dob, row.dosc)"
   ]
  },
  {
   "cell_type": "code",
   "execution_count": 114,
   "id": "1db0e661-a8ff-4e93-8b98-697b4e0d5fc5",
   "metadata": {},
   "outputs": [],
   "source": [
    "unkown_age_id = df[df[\"age\"].isnull()][\"subject_id\"].unique()"
   ]
  },
  {
   "cell_type": "code",
   "execution_count": 117,
   "id": "ff12f1eb-05dc-415e-92a2-a7afac5f936d",
   "metadata": {},
   "outputs": [
    {
     "data": {
      "text/html": [
       "<div>\n",
       "<style scoped>\n",
       "    .dataframe tbody tr th:only-of-type {\n",
       "        vertical-align: middle;\n",
       "    }\n",
       "\n",
       "    .dataframe tbody tr th {\n",
       "        vertical-align: top;\n",
       "    }\n",
       "\n",
       "    .dataframe thead th {\n",
       "        text-align: right;\n",
       "    }\n",
       "</style>\n",
       "<table border=\"1\" class=\"dataframe\">\n",
       "  <thead>\n",
       "    <tr style=\"text-align: right;\">\n",
       "      <th></th>\n",
       "      <th></th>\n",
       "    </tr>\n",
       "    <tr>\n",
       "      <th>age</th>\n",
       "      <th>subject_id</th>\n",
       "    </tr>\n",
       "  </thead>\n",
       "  <tbody>\n",
       "    <tr>\n",
       "      <th>38.0</th>\n",
       "      <th>HD096</th>\n",
       "    </tr>\n",
       "    <tr>\n",
       "      <th>52.0</th>\n",
       "      <th>HD020</th>\n",
       "    </tr>\n",
       "    <tr>\n",
       "      <th>61.0</th>\n",
       "      <th>CLL144</th>\n",
       "    </tr>\n",
       "    <tr>\n",
       "      <th>63.0</th>\n",
       "      <th>CLL300</th>\n",
       "    </tr>\n",
       "    <tr>\n",
       "      <th>64.0</th>\n",
       "      <th>CLL144</th>\n",
       "    </tr>\n",
       "    <tr>\n",
       "      <th rowspan=\"2\" valign=\"top\">66.0</th>\n",
       "      <th>CLL144</th>\n",
       "    </tr>\n",
       "    <tr>\n",
       "      <th>CLL374</th>\n",
       "    </tr>\n",
       "    <tr>\n",
       "      <th>72.0</th>\n",
       "      <th>CLL394</th>\n",
       "    </tr>\n",
       "    <tr>\n",
       "      <th>90.0</th>\n",
       "      <th>DLBCL07</th>\n",
       "    </tr>\n",
       "  </tbody>\n",
       "</table>\n",
       "</div>"
      ],
      "text/plain": [
       "Empty DataFrame\n",
       "Columns: []\n",
       "Index: [(38.0, HD096), (52.0, HD020), (61.0, CLL144), (63.0, CLL300), (64.0, CLL144), (66.0, CLL144), (66.0, CLL374), (72.0, CLL394), (90.0, DLBCL07)]"
      ]
     },
     "execution_count": 117,
     "metadata": {},
     "output_type": "execute_result"
    }
   ],
   "source": [
    "df[df.subject_id.isin(unkown_age_id)][~df[df.subject_id.isin(unkown_age_id)][\"age\"].isnull()][[\"age\", \"subject_id\"]].groupby([\"age\", \"subject_id\"]).first()"
   ]
  },
  {
   "cell_type": "code",
   "execution_count": 133,
   "id": "2609fb1a-068a-41c1-a316-47bd9ec1de4c",
   "metadata": {},
   "outputs": [],
   "source": [
    "df.loc[df.subject_id == \"HD096\",\"age\"] = 38\n",
    "df.loc[df.subject_id == \"HD020\",\"age\"] = 52\n",
    "df.loc[df.subject_id == \"CLL300\",\"age\"] = 63\n",
    "df.loc[df.subject_id == \"CLL374\",\"age\"] = 66\n",
    "df.loc[df.subject_id == \"CLL394\",\"age\"] = 72\n",
    "df.loc[df.subject_id == \"DLBCL07\",\"age\"] = 90\n",
    "df.loc[(df.subject_id == \"CLL144\") & (df.age.isnull()),\"age\"] = 65"
   ]
  },
  {
   "cell_type": "code",
   "execution_count": 134,
   "id": "efd33619-9037-4589-a402-e1b213a74112",
   "metadata": {},
   "outputs": [
    {
     "data": {
      "text/plain": [
       "196150"
      ]
     },
     "execution_count": 134,
     "metadata": {},
     "output_type": "execute_result"
    }
   ],
   "source": [
    "np.sum(df[\"age\"].isnull())"
   ]
  },
  {
   "cell_type": "code",
   "execution_count": 135,
   "id": "52091683-8bef-4d8d-bb42-439ff726926f",
   "metadata": {},
   "outputs": [],
   "source": [
    "df[\"has_mutation\"] = df[\"aaSeqCDR3\"].apply(lambda x: \"_\" in x or \"*\" in x)"
   ]
  },
  {
   "cell_type": "code",
   "execution_count": 136,
   "id": "7328f1b3-2d41-46aa-b557-5e52af9783a3",
   "metadata": {},
   "outputs": [],
   "source": [
    "#df.to_pickle(\"immusign/immusign_40000_reads_with_out_of_frame_merged_raw_data_cleaned.pkl\")"
   ]
  },
  {
   "cell_type": "markdown",
   "id": "c3c4e6cd-5a1b-435c-9932-2acd7fc9a0b0",
   "metadata": {},
   "source": [
    "# Small Analysis"
   ]
  },
  {
   "cell_type": "code",
   "execution_count": 2,
   "id": "2fc6d4d1",
   "metadata": {},
   "outputs": [],
   "source": [
    "df = pd.read_pickle(\"immusign/immusign_40000_reads_with_out_of_frame_merged_raw_data_cleaned.pkl\")"
   ]
  },
  {
   "cell_type": "code",
   "execution_count": 5,
   "id": "994b6f45-9fe1-4c67-8f92-18d13dd1cd15",
   "metadata": {
    "scrolled": true
   },
   "outputs": [
    {
     "data": {
      "text/plain": [
       "Index(['Read.count', 'Read.proportion', 'CDR3.nucleotide.sequence',\n",
       "       'CDR3.amino.acid.sequence', 'V.gene', 'J.gene', 'D.gene', 'V.end',\n",
       "       'J.start', 'D5.end', 'D3.end', 'VD.insertions', 'DJ.insertions',\n",
       "       'Total.insertions', 'sample', 'cloneId', 'clones.txt.name',\n",
       "       '#Nucleotide clones', '#Aminoacid clonotypes', '%Aminoacid clonotypes',\n",
       "       '#In-frames', '%In-frames', '#Out-of-frames', '%Out-of-frames',\n",
       "       'Sum.reads', 'Min.reads', '1st Qu.reads', 'Median.reads', 'Mean.reads',\n",
       "       '3rd Qu.reads', 'Max.reads', 'Clonality', 'twb.shannon', 'twb.simp',\n",
       "       'pcr_target_locus', 'organism', 'template', 'tissue', 'lymphoma_type',\n",
       "       'lymphoma_specification', 'subject_id', 'sex', 'dosc', 'age', 'dob',\n",
       "       'cloneCount', 'cloneFraction', 'aaSeqCDR3', 'bestVGene', 'bestDGene',\n",
       "       'bestJGene', 'vBestIdentityPercent', 'lengthOfCDR3', 'targetSequences',\n",
       "       'allVGenes', 'allDGenes', 'allJGenes', 'allVHits', 'allDHits',\n",
       "       'allJHits', 'allVAlignments', 'allDAlignments', 'allJAlignments', 'KF1',\n",
       "       'KF2', 'KF3', 'KF4', 'KF5', 'KF6', 'KF7', 'KF8', 'KF9', 'KF10',\n",
       "       'dBestIdentityPercent', 'jBestIdentityPercent', 'aaSeqCDR2',\n",
       "       'aaSeqCDR1', 'aaSeqFR2', 'aaSeqFR3', 'aaSeqFR4',\n",
       "       'aaSeqImputedVDJRegion'],\n",
       "      dtype='object')"
      ]
     },
     "execution_count": 5,
     "metadata": {},
     "output_type": "execute_result"
    }
   ],
   "source": [
    "df.columns"
   ]
  },
  {
   "cell_type": "markdown",
   "id": "03b7a3f2-a18a-42a1-9668-51ff5e24c09e",
   "metadata": {
    "jp-MarkdownHeadingCollapsed": true
   },
   "source": [
    "## Columns\n",
    "cloneId --> Identified clones per sample <br>\n",
    "cloneCount --> Absolute number found in sample <br>\n",
    "cloneFraction --> Relative number found in sample (Attention: smaller than cloneCount/sum(cloneCount) because cut off < 2<br>\n",
    "nSeqCDR3 --> Nucleotid sequence <br>\n",
    "aaSeqCDR3 --> Amino Acid Sequence <br>\n",
    "bestVGene --> best matching VGene <br>\n",
    "bestDGene --> best matching DGene <br>\n",
    "bestJGene --> best matching JGene <br>\n",
    "vBestIdentityPercent --> Certainty of best matching VGene <br>\n",
    "lengthOfCDR3 --> length of nucleotid sequence <br>\n",
    "targetSequences --> Full sequence of nSeqCDR3 <br>\n",
    "allVGenes --> All possible matches of V genes<br>\n",
    "allDGenes --> All possible matches of D genes <br>\n",
    "allJGenes --> All possible matches of J genes <br>\n",
    "allVHits --> All V hits <br>\n",
    "allDHits --> All D hits <br>\n",
    "allJHits --> All J hits <br>\n",
    "allVAlignments --> Alignments for each V hit <br>\n",
    "allDAlignments --> Alignments for each D hit <br>\n",
    "allJAlignments --> Alignments for each J hit <br>\n",
    "KF1 - KF10 --> Kidera Factors <br>\n",
    "clones.txt.name --> Sample file <br>\n",
    "dBestIdentityPercent  --> Certainty of best matching DGene  <br>\n",
    "jBestIdentityPercent  --> Certainty of best matching JGene  <br>\n",
    "aaSeqCDR2 --> Amino Acid Sequence <br>\n",
    "aaSeqCDR1 --> Amino Acid Sequence <br>\n",
    "aaSeqFR2 --> Amino Acid Sequence  <br>\n",
    "aaSeqFR3 --> Amino Acid Sequence  <br>\n",
    "aaSeqFR4 --> Amino Acid Sequence <br>\n",
    "aaSeqImputedVDJRegion --> Amino Acid Sequence <br>\n",
    "<br>\n",
    "--- META DATA ---<br>\n",
    "pcr_target_locus --> Target Region of PCR ('IGH', 'TRB', 'IGHFR3', 'IGHFR2', 'TRBFR3') <br>\n",
    "organism --> Organism of sample (hs) <br>\n",
    "template --> DNA <br>\n",
    "tissue --> Blood or Tissue['pb', 'tm'] <br>\n",
    "lymphoma_type --> Identified lymphoma type <br>\n",
    "lymphoma_specification --> dentified lymphoma type <br>\n",
    "subject_id <br>\n",
    "sex <br>\n",
    "dosc --> date of sample collection <br>\n",
    "age <br>\n",
    "dob -->  date of birth<br>\n"
   ]
  },
  {
   "cell_type": "markdown",
   "id": "ee2cabf6-4e45-4fbc-b98d-18f503ee72b0",
   "metadata": {},
   "source": [
    "# Distribution of data"
   ]
  },
  {
   "cell_type": "code",
   "execution_count": 3,
   "id": "a86a38c8",
   "metadata": {},
   "outputs": [
    {
     "data": {
      "text/plain": [
       "<Axes: xlabel='lymphoma_specification', ylabel='Count'>"
      ]
     },
     "execution_count": 3,
     "metadata": {},
     "output_type": "execute_result"
    },
    {
     "data": {
      "image/png": "[encoded data removed]",
      "text/plain": [
       "<Figure size 1000x600 with 1 Axes>"
      ]
     },
     "metadata": {},
     "output_type": "display_data"
    }
   ],
   "source": [
    "fig, ax = plt.subplots(figsize=(10, 6))\n",
    "sns.histplot(df.groupby(\"clones.txt.name\").first().reset_index()[\"lymphoma_specification\"],ax = ax)"
   ]
  },
  {
   "cell_type": "code",
   "execution_count": 10,
   "id": "93e520d9",
   "metadata": {},
   "outputs": [
    {
     "data": {
      "text/plain": [
       "Index(['Umi.count', 'Umi.proportion', 'Read.count', 'Read.proportion',\n",
       "       'CDR3.nucleotide.sequence', 'CDR3.amino.acid.sequence', 'V.gene',\n",
       "       'J.gene', 'D.gene', 'V.end', 'J.start', 'D5.end', 'D3.end',\n",
       "       'VD.insertions', 'DJ.insertions', 'Total.insertions', 'sample',\n",
       "       'cloneId', 'clones.txt.name', '#Nucleotide clones',\n",
       "       '#Aminoacid clonotypes', '%Aminoacid clonotypes', '#In-frames',\n",
       "       '%In-frames', '#Out-of-frames', '%Out-of-frames', 'Sum.reads',\n",
       "       'Min.reads', '1st Qu.reads', 'Median.reads', 'Mean.reads',\n",
       "       '3rd Qu.reads', 'Max.reads', 'Sum.UMIs', 'Min.UMIs', '1st Qu.UMIs',\n",
       "       'Median.UMIs', 'Mean.UMIs', '3rd Qu.UMIs', 'Max.UMIs', 'Clonality',\n",
       "       'twb.shannon', 'twb.simp', 'pcr_target_locus', 'organism', 'template',\n",
       "       'tissue', 'lymphoma_type', 'lymphoma_specification', 'subject_id',\n",
       "       'sex', 'dosc', 'age', 'dob', 'cloneCount', 'cloneFraction', 'nSeqCDR3',\n",
       "       'aaSeqCDR3', 'bestVGene', 'bestDGene', 'bestJGene',\n",
       "       'vBestIdentityPercent', 'lengthOfCDR3', 'targetSequences', 'allVGenes',\n",
       "       'allDGenes', 'allJGenes', 'allVHits', 'allDHits', 'allJHits',\n",
       "       'allVAlignments', 'allDAlignments', 'allJAlignments', 'KF1', 'KF2',\n",
       "       'KF3', 'KF4', 'KF5', 'KF6', 'KF7', 'KF8', 'KF9', 'KF10',\n",
       "       'dBestIdentityPercent', 'jBestIdentityPercent', 'aaSeqCDR2',\n",
       "       'aaSeqCDR1', 'aaSeqFR2', 'aaSeqFR3', 'aaSeqFR4',\n",
       "       'aaSeqImputedVDJRegion'],\n",
       "      dtype='object')"
      ]
     },
     "execution_count": 10,
     "metadata": {},
     "output_type": "execute_result"
    }
   ],
   "source": [
    "df.columns"
   ]
  },
  {
   "cell_type": "markdown",
   "id": "3013f240-1778-4ca2-a10c-2dc312a59b96",
   "metadata": {},
   "source": [
    "# Mutations in Data"
   ]
  },
  {
   "cell_type": "code",
   "execution_count": 11,
   "id": "800f5c68-fbd4-467d-9693-055e8fe5777d",
   "metadata": {},
   "outputs": [],
   "source": [
    "df_mutations = df[df[\"aaSeqCDR3\"].apply(lambda x: \"_\" in x or \"*\" in x)]\n",
    "mutations_per_group = df_mutations.groupby(\"lymphoma_specification\").apply(len).reset_index()\n",
    "total_per_group = df.groupby(\"lymphoma_specification\").apply(len).reset_index()"
   ]
  },
  {
   "cell_type": "code",
   "execution_count": 12,
   "id": "7b8719d5-8948-4c0c-b37a-88c752125389",
   "metadata": {},
   "outputs": [
    {
     "data": {
      "text/html": [
       "<div>\n",
       "<style scoped>\n",
       "    .dataframe tbody tr th:only-of-type {\n",
       "        vertical-align: middle;\n",
       "    }\n",
       "\n",
       "    .dataframe tbody tr th {\n",
       "        vertical-align: top;\n",
       "    }\n",
       "\n",
       "    .dataframe thead th {\n",
       "        text-align: right;\n",
       "    }\n",
       "</style>\n",
       "<table border=\"1\" class=\"dataframe\">\n",
       "  <thead>\n",
       "    <tr style=\"text-align: right;\">\n",
       "      <th></th>\n",
       "      <th>lymphoma_specification</th>\n",
       "      <th>0</th>\n",
       "    </tr>\n",
       "  </thead>\n",
       "  <tbody>\n",
       "    <tr>\n",
       "      <th>0</th>\n",
       "      <td>abc_dlbcl</td>\n",
       "      <td>8846</td>\n",
       "    </tr>\n",
       "    <tr>\n",
       "      <th>1</th>\n",
       "      <td>cll</td>\n",
       "      <td>101752</td>\n",
       "    </tr>\n",
       "    <tr>\n",
       "      <th>2</th>\n",
       "      <td>dlbcl</td>\n",
       "      <td>8955</td>\n",
       "    </tr>\n",
       "    <tr>\n",
       "      <th>3</th>\n",
       "      <td>gcb_dlbcl</td>\n",
       "      <td>2498</td>\n",
       "    </tr>\n",
       "    <tr>\n",
       "      <th>4</th>\n",
       "      <td>hd</td>\n",
       "      <td>1162418</td>\n",
       "    </tr>\n",
       "    <tr>\n",
       "      <th>5</th>\n",
       "      <td>lymphadenitis</td>\n",
       "      <td>46484</td>\n",
       "    </tr>\n",
       "    <tr>\n",
       "      <th>6</th>\n",
       "      <td>nlphl</td>\n",
       "      <td>181327</td>\n",
       "    </tr>\n",
       "    <tr>\n",
       "      <th>7</th>\n",
       "      <td>thrlbcl</td>\n",
       "      <td>14480</td>\n",
       "    </tr>\n",
       "    <tr>\n",
       "      <th>8</th>\n",
       "      <td>unspecified</td>\n",
       "      <td>19853</td>\n",
       "    </tr>\n",
       "  </tbody>\n",
       "</table>\n",
       "</div>"
      ],
      "text/plain": [
       "  lymphoma_specification        0\n",
       "0              abc_dlbcl     8846\n",
       "1                    cll   101752\n",
       "2                  dlbcl     8955\n",
       "3              gcb_dlbcl     2498\n",
       "4                     hd  1162418\n",
       "5          lymphadenitis    46484\n",
       "6                  nlphl   181327\n",
       "7                thrlbcl    14480\n",
       "8            unspecified    19853"
      ]
     },
     "execution_count": 12,
     "metadata": {},
     "output_type": "execute_result"
    }
   ],
   "source": [
    "total_per_group"
   ]
  },
  {
   "cell_type": "code",
   "execution_count": 13,
   "id": "8b1e0270-8427-4f08-8112-61195e01b8b3",
   "metadata": {},
   "outputs": [
    {
     "data": {
      "text/html": [
       "<div>\n",
       "<style scoped>\n",
       "    .dataframe tbody tr th:only-of-type {\n",
       "        vertical-align: middle;\n",
       "    }\n",
       "\n",
       "    .dataframe tbody tr th {\n",
       "        vertical-align: top;\n",
       "    }\n",
       "\n",
       "    .dataframe thead th {\n",
       "        text-align: right;\n",
       "    }\n",
       "</style>\n",
       "<table border=\"1\" class=\"dataframe\">\n",
       "  <thead>\n",
       "    <tr style=\"text-align: right;\">\n",
       "      <th></th>\n",
       "      <th>lymphoma_specification</th>\n",
       "      <th>0</th>\n",
       "    </tr>\n",
       "  </thead>\n",
       "  <tbody>\n",
       "    <tr>\n",
       "      <th>0</th>\n",
       "      <td>abc_dlbcl</td>\n",
       "      <td>859</td>\n",
       "    </tr>\n",
       "    <tr>\n",
       "      <th>1</th>\n",
       "      <td>cll</td>\n",
       "      <td>15315</td>\n",
       "    </tr>\n",
       "    <tr>\n",
       "      <th>2</th>\n",
       "      <td>dlbcl</td>\n",
       "      <td>1204</td>\n",
       "    </tr>\n",
       "    <tr>\n",
       "      <th>3</th>\n",
       "      <td>gcb_dlbcl</td>\n",
       "      <td>314</td>\n",
       "    </tr>\n",
       "    <tr>\n",
       "      <th>4</th>\n",
       "      <td>hd</td>\n",
       "      <td>170284</td>\n",
       "    </tr>\n",
       "    <tr>\n",
       "      <th>5</th>\n",
       "      <td>lymphadenitis</td>\n",
       "      <td>4951</td>\n",
       "    </tr>\n",
       "    <tr>\n",
       "      <th>6</th>\n",
       "      <td>nlphl</td>\n",
       "      <td>20802</td>\n",
       "    </tr>\n",
       "    <tr>\n",
       "      <th>7</th>\n",
       "      <td>thrlbcl</td>\n",
       "      <td>1557</td>\n",
       "    </tr>\n",
       "    <tr>\n",
       "      <th>8</th>\n",
       "      <td>unspecified</td>\n",
       "      <td>2494</td>\n",
       "    </tr>\n",
       "  </tbody>\n",
       "</table>\n",
       "</div>"
      ],
      "text/plain": [
       "  lymphoma_specification       0\n",
       "0              abc_dlbcl     859\n",
       "1                    cll   15315\n",
       "2                  dlbcl    1204\n",
       "3              gcb_dlbcl     314\n",
       "4                     hd  170284\n",
       "5          lymphadenitis    4951\n",
       "6                  nlphl   20802\n",
       "7                thrlbcl    1557\n",
       "8            unspecified    2494"
      ]
     },
     "execution_count": 13,
     "metadata": {},
     "output_type": "execute_result"
    }
   ],
   "source": [
    "mutations_per_group"
   ]
  },
  {
   "cell_type": "code",
   "execution_count": 14,
   "id": "31eee441-eb5b-4328-956e-11f00e828d3d",
   "metadata": {},
   "outputs": [
    {
     "data": {
      "text/plain": [
       "0    0.097106\n",
       "1    0.150513\n",
       "2    0.134450\n",
       "3    0.125701\n",
       "4    0.146491\n",
       "5    0.106510\n",
       "6    0.114721\n",
       "7    0.107528\n",
       "8    0.125623\n",
       "Name: 0, dtype: float64"
      ]
     },
     "execution_count": 14,
     "metadata": {},
     "output_type": "execute_result"
    }
   ],
   "source": [
    "mutations_per_group[0]/total_per_group[0]"
   ]
  },
  {
   "cell_type": "markdown",
   "id": "f47056eb-4f64-4ff1-a7fe-9f0d46083453",
   "metadata": {},
   "source": [
    "## % Mutations per Group"
   ]
  },
  {
   "cell_type": "code",
   "execution_count": 28,
   "id": "b96b1b4d-ffad-4b59-8592-6e8df1184d5a",
   "metadata": {},
   "outputs": [
    {
     "data": {
      "text/plain": [
       "Text(0, 0.5, 'non-productive AA (%)')"
      ]
     },
     "execution_count": 28,
     "metadata": {},
     "output_type": "execute_result"
    },
    {
     "data": {
      "image/png": "[encoded data removed]",
      "text/plain": [
       "<Figure size 1000x600 with 1 Axes>"
      ]
     },
     "metadata": {},
     "output_type": "display_data"
    }
   ],
   "source": [
    "fig, ax = plt.subplots(figsize=(10, 6))\n",
    "ax.bar(mutations_per_group[\"lymphoma_specification\"],mutations_per_group[0]/total_per_group[0] * 100)\n",
    "ax.set_ylabel(\"non-productive AA (%)\", size=12)"
   ]
  },
  {
   "cell_type": "code",
   "execution_count": 16,
   "id": "0330cdf1-73ec-45c0-8688-09f3191932d1",
   "metadata": {},
   "outputs": [],
   "source": [
    "mutations_per_patient = df_mutations.groupby(\"clones.txt.name\").apply(len).reset_index()\n",
    "total_per_patient = df.groupby(\"clones.txt.name\").apply(len).reset_index()"
   ]
  },
  {
   "cell_type": "code",
   "execution_count": 17,
   "id": "8552dd81-9a81-4094-b290-df3aa0cb20fc",
   "metadata": {},
   "outputs": [],
   "source": [
    "mutations_per_patient = mutations_per_patient.merge(total_per_patient, on=\"clones.txt.name\",how=\"left\")"
   ]
  },
  {
   "cell_type": "code",
   "execution_count": 18,
   "id": "2c39d51d-af1b-4ffa-a783-10cf87707aee",
   "metadata": {},
   "outputs": [],
   "source": [
    "mutations_per_patient = mutations_per_patient.merge(df_mutations[[\"clones.txt.name\",\"lymphoma_specification\"]], on=\"clones.txt.name\", how=\"left\")"
   ]
  },
  {
   "cell_type": "code",
   "execution_count": 29,
   "id": "0371b187-d580-4582-bdb4-b2c6ff52d07f",
   "metadata": {},
   "outputs": [],
   "source": [
    "mutations_per_patient[\"non-productive AA (%)\"] = mutations_per_patient[\"0_x\"]/mutations_per_patient[\"0_y\"] * 100"
   ]
  },
  {
   "cell_type": "code",
   "execution_count": 20,
   "id": "9e49a759-2579-485c-8be1-1e995ad9a277",
   "metadata": {},
   "outputs": [],
   "source": [
    "mutations_per_patient.sort_values(by=\"lymphoma_specification\", inplace = True)"
   ]
  },
  {
   "cell_type": "markdown",
   "id": "7371e7d7-f71b-427e-9c8c-a61a6af2e406",
   "metadata": {},
   "source": [
    "## % Mutations per patient in groups"
   ]
  },
  {
   "cell_type": "code",
   "execution_count": 34,
   "id": "bf617291-25cc-40ce-82e8-0def2c2ee96c",
   "metadata": {
    "scrolled": true
   },
   "outputs": [
    {
     "data": {
      "image/png": "[encoded data removed]",
      "text/plain": [
       "<Figure size 1000x600 with 1 Axes>"
      ]
     },
     "metadata": {},
     "output_type": "display_data"
    }
   ],
   "source": [
    "fig, ax = plt.subplots(figsize=(10, 6))\n",
    "sns.scatterplot(x='clones.txt.name', y='non-productive AA (%)', hue='lymphoma_specification', data=mutations_per_patient) \n",
    "ax.set_xticks([])\n",
    "ax.set_ylabel(\"non-productive AA (%)\", size=12)\n",
    "ax.set_xlabel(\"Samples\", size=12)\n",
    "ax.legend(title='Lymphoma Specification')\n",
    "plt.show()"
   ]
  },
  {
   "cell_type": "code",
   "execution_count": 364,
   "id": "707af2bf-3ac2-458c-af0f-7dac0bd5c2d2",
   "metadata": {},
   "outputs": [
    {
     "data": {
      "text/plain": [
       "453878     True\n",
       "453879     True\n",
       "453880     True\n",
       "453881     True\n",
       "453882     True\n",
       "           ... \n",
       "1388423    True\n",
       "1388424    True\n",
       "1388425    True\n",
       "1388426    True\n",
       "1388427    True\n",
       "Name: age, Length: 8955, dtype: bool"
      ]
     },
     "execution_count": 364,
     "metadata": {},
     "output_type": "execute_result"
    }
   ],
   "source": [
    "df[df[\"lymphoma_specification\"] == \"dlbcl\"].age.isnull()"
   ]
  },
  {
   "cell_type": "code",
   "execution_count": 374,
   "id": "c0c96ffe-8b83-4734-8058-4f61192aa4a8",
   "metadata": {},
   "outputs": [
    {
     "name": "stdout",
     "output_type": "stream",
     "text": [
      "  lymphoma_specification   age\n",
      "0              abc_dlbcl  71.0\n",
      "1                    cll  66.0\n",
      "2                  dlbcl   NaN\n",
      "3              gcb_dlbcl   NaN\n",
      "4                     hd  37.0\n",
      "5          lymphadenitis  24.0\n",
      "6                  nlphl  37.0\n",
      "7                thrlbcl  40.0\n",
      "8            unspecified  23.5 \n",
      "\n",
      "abc_dlbcl 0  0 %\n",
      "cll 37 19 %\n",
      "dlbcl 14 100 %\n",
      "gcb_dlbcl 14 100 %\n",
      "hd 58 17 %\n",
      "lymphadenitis 0  0 %\n",
      "nlphl 2  4 %\n",
      "thrlbcl 4 44 %\n",
      "unspecified 14 88 %\n"
     ]
    },
    {
     "name": "stderr",
     "output_type": "stream",
     "text": [
      "All-NaN slice encountered\n"
     ]
    }
   ],
   "source": [
    "df_age = df.groupby(\"clones.txt.name\").first().reset_index()\n",
    "age_per_group = df_age.groupby(\"lymphoma_specification\")\n",
    "age_per_group_median = age_per_group[\"age\"].apply(np.nanmedian).reset_index()\n",
    "print(age_per_group_median, \"\\n\")\n",
    "\n",
    "for key, group in age_per_group:\n",
    "    print(key, sum(group[\"age\"].isnull()), \"%2.f %%\" % (sum(group[\"age\"].isnull())/len(group) * 100))"
   ]
  },
  {
   "cell_type": "code",
   "execution_count": 377,
   "id": "e757245a-aece-4a0b-bf47-99f33424f10c",
   "metadata": {},
   "outputs": [],
   "source": [
    "# for dlbcl, gcb_dlbcl set median to 71 (abc_dlbcl)\n",
    "age_per_group_median.loc[age_per_group_median[\"lymphoma_specification\"].isin([\"dlbcl\", \"gcb_dlbcl\"]), \"age\"] = 71.0"
   ]
  },
  {
   "cell_type": "code",
   "execution_count": 378,
   "id": "5953800c-cb5e-4cf9-a7b9-5d4239a28cc2",
   "metadata": {},
   "outputs": [
    {
     "data": {
      "text/html": [
       "<div>\n",
       "<style scoped>\n",
       "    .dataframe tbody tr th:only-of-type {\n",
       "        vertical-align: middle;\n",
       "    }\n",
       "\n",
       "    .dataframe tbody tr th {\n",
       "        vertical-align: top;\n",
       "    }\n",
       "\n",
       "    .dataframe thead th {\n",
       "        text-align: right;\n",
       "    }\n",
       "</style>\n",
       "<table border=\"1\" class=\"dataframe\">\n",
       "  <thead>\n",
       "    <tr style=\"text-align: right;\">\n",
       "      <th></th>\n",
       "      <th>lymphoma_specification</th>\n",
       "      <th>age</th>\n",
       "    </tr>\n",
       "  </thead>\n",
       "  <tbody>\n",
       "    <tr>\n",
       "      <th>0</th>\n",
       "      <td>abc_dlbcl</td>\n",
       "      <td>71.0</td>\n",
       "    </tr>\n",
       "    <tr>\n",
       "      <th>1</th>\n",
       "      <td>cll</td>\n",
       "      <td>66.0</td>\n",
       "    </tr>\n",
       "    <tr>\n",
       "      <th>2</th>\n",
       "      <td>dlbcl</td>\n",
       "      <td>71.0</td>\n",
       "    </tr>\n",
       "    <tr>\n",
       "      <th>3</th>\n",
       "      <td>gcb_dlbcl</td>\n",
       "      <td>71.0</td>\n",
       "    </tr>\n",
       "    <tr>\n",
       "      <th>4</th>\n",
       "      <td>hd</td>\n",
       "      <td>37.0</td>\n",
       "    </tr>\n",
       "    <tr>\n",
       "      <th>5</th>\n",
       "      <td>lymphadenitis</td>\n",
       "      <td>24.0</td>\n",
       "    </tr>\n",
       "    <tr>\n",
       "      <th>6</th>\n",
       "      <td>nlphl</td>\n",
       "      <td>37.0</td>\n",
       "    </tr>\n",
       "    <tr>\n",
       "      <th>7</th>\n",
       "      <td>thrlbcl</td>\n",
       "      <td>40.0</td>\n",
       "    </tr>\n",
       "    <tr>\n",
       "      <th>8</th>\n",
       "      <td>unspecified</td>\n",
       "      <td>23.5</td>\n",
       "    </tr>\n",
       "  </tbody>\n",
       "</table>\n",
       "</div>"
      ],
      "text/plain": [
       "  lymphoma_specification   age\n",
       "0              abc_dlbcl  71.0\n",
       "1                    cll  66.0\n",
       "2                  dlbcl  71.0\n",
       "3              gcb_dlbcl  71.0\n",
       "4                     hd  37.0\n",
       "5          lymphadenitis  24.0\n",
       "6                  nlphl  37.0\n",
       "7                thrlbcl  40.0\n",
       "8            unspecified  23.5"
      ]
     },
     "execution_count": 378,
     "metadata": {},
     "output_type": "execute_result"
    }
   ],
   "source": [
    "age_per_group_median"
   ]
  },
  {
   "cell_type": "markdown",
   "id": "8d5825ff-38d3-46d4-a607-926e755dc8fe",
   "metadata": {},
   "source": [
    "# Classification of Data"
   ]
  },
  {
   "cell_type": "code",
   "execution_count": 2,
   "id": "7b469b66-1808-4433-a285-ecaaef309df3",
   "metadata": {},
   "outputs": [],
   "source": [
    "df = pd.read_pickle(\"immusign/immusign_40000_reads_with_out_of_frame_merged_raw_data_cleaned.pkl\")"
   ]
  },
  {
   "cell_type": "code",
   "execution_count": 3,
   "id": "9ad7a068",
   "metadata": {},
   "outputs": [
    {
     "data": {
      "text/plain": [
       "Index(['Read.count', 'Read.proportion', 'CDR3.nucleotide.sequence',\n",
       "       'CDR3.amino.acid.sequence', 'V.gene', 'J.gene', 'D.gene', 'V.end',\n",
       "       'J.start', 'D5.end', 'D3.end', 'VD.insertions', 'DJ.insertions',\n",
       "       'Total.insertions', 'sample', 'cloneId', 'clones.txt.name',\n",
       "       '#Nucleotide clones', '#Aminoacid clonotypes', '%Aminoacid clonotypes',\n",
       "       '#In-frames', '%In-frames', '#Out-of-frames', '%Out-of-frames',\n",
       "       'Sum.reads', 'Min.reads', '1st Qu.reads', 'Median.reads', 'Mean.reads',\n",
       "       '3rd Qu.reads', 'Max.reads', 'Clonality', 'twb.shannon', 'twb.simp',\n",
       "       'pcr_target_locus', 'organism', 'template', 'tissue', 'lymphoma_type',\n",
       "       'lymphoma_specification', 'subject_id', 'sex', 'dosc', 'age', 'dob',\n",
       "       'cloneCount', 'cloneFraction', 'aaSeqCDR3', 'bestVGene', 'bestDGene',\n",
       "       'bestJGene', 'vBestIdentityPercent', 'lengthOfCDR3', 'targetSequences',\n",
       "       'allVGenes', 'allDGenes', 'allJGenes', 'allVHits', 'allDHits',\n",
       "       'allJHits', 'allVAlignments', 'allDAlignments', 'allJAlignments', 'KF1',\n",
       "       'KF2', 'KF3', 'KF4', 'KF5', 'KF6', 'KF7', 'KF8', 'KF9', 'KF10',\n",
       "       'dBestIdentityPercent', 'jBestIdentityPercent', 'aaSeqCDR2',\n",
       "       'aaSeqCDR1', 'aaSeqFR2', 'aaSeqFR3', 'aaSeqFR4',\n",
       "       'aaSeqImputedVDJRegion', 'has_mutation'],\n",
       "      dtype='object')"
      ]
     },
     "execution_count": 3,
     "metadata": {},
     "output_type": "execute_result"
    }
   ],
   "source": [
    "df.columns"
   ]
  },
  {
   "cell_type": "code",
   "execution_count": 3,
   "id": "e07d4f75-c689-4825-8341-d3e87e4fb9a1",
   "metadata": {},
   "outputs": [],
   "source": [
    "# Shannon = 0 --> Eveness = 0 -- > Clonality = 1\n",
    "df.loc[df[\"Clonality\"].isnull(),\"Clonality\"] = 1.0"
   ]
  },
  {
   "cell_type": "code",
   "execution_count": 4,
   "id": "3e11efb4-ba72-43f8-971c-b33e14829d55",
   "metadata": {},
   "outputs": [],
   "source": [
    "top_n_clones = 20"
   ]
  },
  {
   "cell_type": "code",
   "execution_count": 422,
   "id": "248498a1-af40-49b1-8d88-1d6bcc2cf595",
   "metadata": {},
   "outputs": [],
   "source": [
    "#df_age_above_60 = df[df.age > 60]"
   ]
  },
  {
   "cell_type": "code",
   "execution_count": 55,
   "id": "daaf396f-2f8d-4250-8d50-53049bc8b7e3",
   "metadata": {},
   "outputs": [],
   "source": [
    "wide_format =False\n",
    "if wide_format:\n",
    "    X = utils.get_top_n_features_wide(df, [\"lymphoma_specification\"], ['bestVGene', \"has_mutation\", 'Read.proportion', 'Clonality', 'twb.shannon', 'twb.simp', 'lengthOfCDR3', 'KF1', 'KF2',\n",
    "       'KF3', 'KF4', 'KF5', 'KF6', 'KF7', 'KF8', 'KF9', 'KF10'], top_n_clones=top_n_clones, keep_remaining_columns=False)\n",
    "\n",
    "    for column in X.columns:\n",
    "        if X[column].dtype == float:\n",
    "            if np.sum(X[column].isnull()):\n",
    "                X[column] = X[column].fillna(0)\n",
    "        elif X[column].dtype == object:\n",
    "            if type(X[column].iloc[0]) == bool:\n",
    "                if np.sum(X[column].isnull()):\n",
    "                    X[column] = X[column].fillna(False)\n",
    "            elif type(X[column].iloc[0]) == str:\n",
    "                if np.sum(X_wide[column].isnull()):\n",
    "                    X[column] = X[column].fillna(\"nan\")\n",
    "else:\n",
    "    feature_list = [\"clones.txt.name\", \"cloneId\", \"lymphoma_specification\", 'bestVGene', \"has_mutation\", 'Read.proportion', 'Clonality', 'twb.shannon', 'twb.simp', 'lengthOfCDR3', 'KF1', 'KF2',\n",
    "       'KF3', 'KF4', 'KF5', 'KF6', 'KF7', 'KF8', 'KF9', 'KF10']\n",
    "    \n",
    "    df_top_n = utils.get_top_n_clones(df, top_n_clones = top_n_clones)\n",
    "    X = df_top_n[feature_list].copy()\n"
   ]
  },
  {
   "cell_type": "markdown",
   "id": "18cc281d",
   "metadata": {},
   "source": [
    "## Get info about nan values"
   ]
  },
  {
   "cell_type": "code",
   "execution_count": 56,
   "id": "b1b1d23a-5040-4110-aece-f6c21fd25d0d",
   "metadata": {},
   "outputs": [
    {
     "name": "stdout",
     "output_type": "stream",
     "text": [
      "clones.txt.name : 0.00 % object\n",
      "cloneId : 0.00 % object\n",
      "lymphoma_specification : 0.00 % object\n",
      "bestVGene : 0.00 % object\n",
      "has_mutation : 0.00 % bool\n",
      "Read.proportion : 0.00 % float64\n",
      "Clonality : 0.00 % float64\n",
      "twb.shannon : 0.00 % float64\n",
      "twb.simp : 0.00 % float64\n",
      "lengthOfCDR3 : 0.00 % int64\n",
      "KF1 : 0.00 % float64\n",
      "KF2 : 0.00 % float64\n",
      "KF3 : 0.00 % float64\n",
      "KF4 : 0.00 % float64\n",
      "KF5 : 0.00 % float64\n",
      "KF6 : 0.00 % float64\n",
      "KF7 : 0.00 % float64\n",
      "KF8 : 0.00 % float64\n",
      "KF9 : 0.00 % float64\n",
      "KF10 : 0.00 % float64\n"
     ]
    }
   ],
   "source": [
    "for column in X.columns:\n",
    "    print(column + \" :\", \"%.2f %%\" % (X[column].isnull().sum()/len(X)*100), X[column].dtype)"
   ]
  },
  {
   "cell_type": "markdown",
   "id": "52a2c021-1e54-4068-92fe-5c99186acf66",
   "metadata": {},
   "source": [
    "## Sex and Age as predictor \n",
    "- can be important but in our case should be balanced (e.g. undpsecified and hd younger)\n",
    "- for df_age_above_60 age less important role "
   ]
  },
  {
   "cell_type": "code",
   "execution_count": 373,
   "id": "57cd7f3f-d450-4568-bfa1-466cc8fa00d0",
   "metadata": {},
   "outputs": [],
   "source": [
    "#X[\"sex\"] = X[\"sex\"].fillna(X['sex'].value_counts().index[0])"
   ]
  },
  {
   "cell_type": "code",
   "execution_count": 387,
   "id": "6fc66b11-8e7e-430c-982d-6e50e1351018",
   "metadata": {},
   "outputs": [],
   "source": [
    "# fill age with group median: \n",
    "\n",
    "#for i,row in age_per_group_median.iterrows():\n",
    "#    X.loc[(X[\"lymphoma_specification\"] == row.lymphoma_specification) & (X[\"age\"].isnull()), \"age\"] = row.age"
   ]
  },
  {
   "cell_type": "code",
   "execution_count": 28,
   "id": "6dddf6d0-2f03-44b2-ae73-9129e5fa7a27",
   "metadata": {},
   "outputs": [],
   "source": [
    "#X.dropna(axis=0, inplace = True)"
   ]
  },
  {
   "cell_type": "code",
   "execution_count": 122,
   "id": "1f026c65-5556-4aef-9b47-a0020e50663b",
   "metadata": {},
   "outputs": [],
   "source": [
    "#X = X[~(X[\"lymphoma_specification\"] == 'unspecified')]"
   ]
  },
  {
   "cell_type": "markdown",
   "id": "ba9df06b-fdda-493b-9b50-50535f30c5e2",
   "metadata": {},
   "source": [
    "# Feature Preprocessing"
   ]
  },
  {
   "cell_type": "code",
   "execution_count": 57,
   "id": "1501408f-aecf-464e-9715-c8f119361e43",
   "metadata": {},
   "outputs": [],
   "source": [
    "def custom_combiner(feature, category):\n",
    "    return str(feature) + \"_\" + str(category)"
   ]
  },
  {
   "cell_type": "code",
   "execution_count": 58,
   "id": "530cdc47",
   "metadata": {},
   "outputs": [],
   "source": [
    "from sklearn.preprocessing import OneHotEncoder, StandardScaler, LabelEncoder\n",
    "\n",
    "categorical_preprocessor = OneHotEncoder(handle_unknown = 'ignore',feature_name_combiner=custom_combiner, sparse_output=False)\n",
    "numerical_preprocessor = StandardScaler()\n",
    "target_preprocessor = LabelEncoder()"
   ]
  },
  {
   "cell_type": "code",
   "execution_count": 216,
   "id": "49427039-8dfd-4fb9-a821-0e9124a92fb1",
   "metadata": {},
   "outputs": [],
   "source": [
    "X = X[~(X[\"lymphoma_specification\"] == 'unspecified')]"
   ]
  },
  {
   "cell_type": "code",
   "execution_count": 217,
   "id": "a115fad0-47cf-4f1b-9032-fd781a776504",
   "metadata": {},
   "outputs": [],
   "source": [
    "X = X[~(X[\"lymphoma_specification\"] == 'lymphadenitis')]"
   ]
  },
  {
   "cell_type": "code",
   "execution_count": 218,
   "id": "0bf56ea4-4c4d-426d-b087-eb9dba68e732",
   "metadata": {},
   "outputs": [],
   "source": [
    "X = X[~(X[\"lymphoma_specification\"] == 'thrlbcl')]"
   ]
  },
  {
   "cell_type": "code",
   "execution_count": 219,
   "id": "c964abe5-65a7-45c7-89f4-9d80c1007e51",
   "metadata": {},
   "outputs": [],
   "source": [
    "X = X[~(X[\"lymphoma_specification\"] == 'nlphl')]"
   ]
  },
  {
   "cell_type": "code",
   "execution_count": 59,
   "id": "ddb4a32c-d063-45cb-b76d-969558e20f15",
   "metadata": {},
   "outputs": [
    {
     "data": {
      "text/plain": [
       "array(['hd', 'dlbcl', 'cll', 'unspecified', 'gcb_dlbcl', 'nlphl',\n",
       "       'abc_dlbcl', 'lymphadenitis', 'thrlbcl'], dtype=object)"
      ]
     },
     "execution_count": 59,
     "metadata": {},
     "output_type": "execute_result"
    }
   ],
   "source": [
    "X[\"lymphoma_specification\"].unique()"
   ]
  },
  {
   "cell_type": "code",
   "execution_count": 60,
   "id": "e6581efc-30be-475a-ad33-5a6dda483515",
   "metadata": {},
   "outputs": [],
   "source": [
    "dlbcl_types = [\"dlbcl\", \"gcb_dlbcl\", \"abc_dlbcl\"]"
   ]
  },
  {
   "cell_type": "code",
   "execution_count": 222,
   "id": "fff6dd73-d2a7-49cc-833e-1af8a04e33ef",
   "metadata": {},
   "outputs": [],
   "source": [
    "X[\"lymphoma_specification_grouped\"] = X[\"lymphoma_specification\"].apply(lambda x: \"dlbcl\" if x in dlbcl_types else x)"
   ]
  },
  {
   "cell_type": "code",
   "execution_count": 61,
   "id": "3696f34e",
   "metadata": {},
   "outputs": [],
   "source": [
    "Y_target = target_preprocessor.fit_transform(X[\"lymphoma_specification\"])"
   ]
  },
  {
   "cell_type": "code",
   "execution_count": 62,
   "id": "27b41c94-a025-4a70-93e3-12661d8df57d",
   "metadata": {},
   "outputs": [
    {
     "data": {
      "text/plain": [
       "array([0, 1, 2, 3, 4, 5, 6, 7, 8])"
      ]
     },
     "execution_count": 62,
     "metadata": {},
     "output_type": "execute_result"
    }
   ],
   "source": [
    "np.unique(Y_target)"
   ]
  },
  {
   "cell_type": "code",
   "execution_count": 63,
   "id": "e1a89e7b",
   "metadata": {},
   "outputs": [],
   "source": [
    "labels = []\n",
    "for i in range(len(X[\"lymphoma_specification\"].unique())):\n",
    "    labels.append(np.asarray(X[\"lymphoma_specification\"])[Y_target==i][0])"
   ]
  },
  {
   "cell_type": "code",
   "execution_count": 35,
   "id": "4137ec53-d5b1-4c63-9269-875a51ada5fe",
   "metadata": {},
   "outputs": [
    {
     "data": {
      "text/plain": [
       "['abc_dlbcl',\n",
       " 'cll',\n",
       " 'dlbcl',\n",
       " 'gcb_dlbcl',\n",
       " 'hd',\n",
       " 'lymphadenitis',\n",
       " 'nlphl',\n",
       " 'thrlbcl',\n",
       " 'unspecified']"
      ]
     },
     "execution_count": 35,
     "metadata": {},
     "output_type": "execute_result"
    }
   ],
   "source": [
    "labels"
   ]
  },
  {
   "cell_type": "code",
   "execution_count": 64,
   "id": "1450339f-227c-467d-a1c2-b88b16e7a4c9",
   "metadata": {},
   "outputs": [],
   "source": [
    "X.insert(loc=0, column = \"lymphoma_specification_encoded\", value=Y_target)"
   ]
  },
  {
   "cell_type": "code",
   "execution_count": 37,
   "id": "fef420d6-8c0f-4e45-ad0a-e9935fb252ad",
   "metadata": {},
   "outputs": [
    {
     "data": {
      "text/plain": [
       "Index(['lymphoma_specification_encoded', 'clones.txt.name', 'cloneId',\n",
       "       'lymphoma_specification', 'bestVGene', 'has_mutation',\n",
       "       'Read.proportion', 'Clonality', 'twb.shannon', 'twb.simp',\n",
       "       'lengthOfCDR3', 'KF1', 'KF2', 'KF3', 'KF4', 'KF5', 'KF6', 'KF7', 'KF8',\n",
       "       'KF9', 'KF10'],\n",
       "      dtype='object')"
      ]
     },
     "execution_count": 37,
     "metadata": {},
     "output_type": "execute_result"
    }
   ],
   "source": [
    "X.columns"
   ]
  },
  {
   "cell_type": "code",
   "execution_count": 65,
   "id": "55b452eb-dbfa-4d1b-a0c7-11111eb936bb",
   "metadata": {},
   "outputs": [],
   "source": [
    "columns = list(X.columns)\n",
    "features = columns.copy()\n",
    "for x in [\"lymphoma_specification_encoded\", \"clones.txt.name\", \"lymphoma_specification\", \"cloneId\"]:\n",
    "    features.remove(x)\n",
    "\n",
    "if wide_format: \n",
    "    categorical = [\"bestVGene_%d\" % (i+1) for i in range(top_n_clones)] + [\"has_mutation_%d\" % (i+1) for i in range(top_n_clones)]\n",
    "else:\n",
    "    categorical = [\"bestVGene\", \"has_mutation\"]\n",
    "\n",
    "\n",
    "numerical = features\n",
    "for x in categorical:\n",
    "    numerical.remove(x)"
   ]
  },
  {
   "cell_type": "code",
   "execution_count": 66,
   "id": "7c879a5b-3d7c-43b4-9396-4420294f71a5",
   "metadata": {},
   "outputs": [],
   "source": [
    "transformed_categories = categorical_preprocessor.fit_transform(X[categorical])\n",
    "transformed_categories = pd.DataFrame(data = transformed_categories, columns=categorical_preprocessor.get_feature_names_out())\n",
    "\n",
    "X = pd.concat([X.reset_index(drop=True), transformed_categories], axis=1) "
   ]
  },
  {
   "cell_type": "markdown",
   "id": "5e79bd32-7513-45bb-9deb-5326852377e8",
   "metadata": {},
   "source": [
    "## a) Random Splitting in Training and Test"
   ]
  },
  {
   "cell_type": "code",
   "execution_count": 67,
   "id": "eeba0288",
   "metadata": {},
   "outputs": [],
   "source": [
    "from sklearn.model_selection import train_test_split\n",
    "X_train, X_test, y_train, y_test = train_test_split(\n",
    "    X, Y_target, random_state=42\n",
    ")"
   ]
  },
  {
   "cell_type": "markdown",
   "id": "b468e8fe-70ad-464f-92d1-f9bab6c63ebb",
   "metadata": {},
   "source": [
    "## b) Patientwise Splitting"
   ]
  },
  {
   "cell_type": "code",
   "execution_count": 437,
   "id": "bc01413b-e37d-4a8a-a804-f842931c167a",
   "metadata": {},
   "outputs": [],
   "source": [
    "test_clones = np.asarray(X.groupby([\"lymphoma_specification\",\"clones.txt.name\"]).size().reset_index().groupby(\"lymphoma_specification\").sample(frac=0.25, random_state=42)[\"clones.txt.name\"])"
   ]
  },
  {
   "cell_type": "code",
   "execution_count": 78,
   "id": "7db67546-7f42-46d2-9cfe-0376c81343e6",
   "metadata": {},
   "outputs": [],
   "source": [
    "X_test = X[X[\"clones.txt.name\"].isin(test_clones)]\n",
    "y_test = np.asarray(X_test[\"lymphoma_specification_encoded\"])"
   ]
  },
  {
   "cell_type": "code",
   "execution_count": 79,
   "id": "e275796c-b1e7-4045-b206-38908ad69e5c",
   "metadata": {},
   "outputs": [],
   "source": [
    "X_train = X[~X[\"clones.txt.name\"].isin(test_clones)]\n",
    "y_train = np.asarray(X_train[\"lymphoma_specification_encoded\"])"
   ]
  },
  {
   "cell_type": "code",
   "execution_count": 70,
   "id": "5bb289be-4d72-4412-aea2-7c668e544e53",
   "metadata": {},
   "outputs": [
    {
     "name": "stdout",
     "output_type": "stream",
     "text": [
      "389763\n",
      "1156842\n"
     ]
    }
   ],
   "source": [
    "print(len(test))\n",
    "print(len(train))"
   ]
  },
  {
   "cell_type": "code",
   "execution_count": 71,
   "id": "dd0f4ce2-c0ac-44e1-af7b-44a0fb760d12",
   "metadata": {},
   "outputs": [
    {
     "data": {
      "text/plain": [
       "Index(['lymphoma_specification_encoded', 'clones.txt.name',\n",
       "       'lymphoma_specification', 'bestVGene', 'has_mutation',\n",
       "       'Read.proportion', 'Clonality', 'twb.shannon', 'twb.simp',\n",
       "       'lengthOfCDR3', 'KF1', 'KF2', 'KF3', 'KF4', 'KF5', 'KF6', 'KF7', 'KF8',\n",
       "       'KF9', 'KF10'],\n",
       "      dtype='object')"
      ]
     },
     "execution_count": 71,
     "metadata": {},
     "output_type": "execute_result"
    }
   ],
   "source": [
    "X_train.columns"
   ]
  },
  {
   "cell_type": "code",
   "execution_count": 80,
   "id": "1c9d4118",
   "metadata": {},
   "outputs": [],
   "source": [
    "X_train.iloc[:, 5:] = numerical_preprocessor.fit_transform(X_train.iloc[:, 5:])\n",
    "X_test.iloc[:, 5:] = numerical_preprocessor.transform(X_test.iloc[:, 5:])"
   ]
  },
  {
   "cell_type": "code",
   "execution_count": 81,
   "id": "885302f7",
   "metadata": {},
   "outputs": [],
   "source": [
    "transformed_categories_train = categorical_preprocessor.fit_transform(X_train.iloc[:,3:5])\n",
    "transformed_categories_test = categorical_preprocessor.transform(X_test.iloc[:,3:5])"
   ]
  },
  {
   "cell_type": "code",
   "execution_count": 82,
   "id": "3ad1e5c8",
   "metadata": {},
   "outputs": [],
   "source": [
    "transformed_categories_train = pd.DataFrame(data = transformed_categories_train, columns=categorical_preprocessor.get_feature_names_out())\n",
    "transformed_categories_test = pd.DataFrame(data = transformed_categories_test, columns=categorical_preprocessor.get_feature_names_out())"
   ]
  },
  {
   "cell_type": "code",
   "execution_count": 83,
   "id": "22ae91ec",
   "metadata": {},
   "outputs": [],
   "source": [
    "X_train = pd.concat([X_train.reset_index(drop=True), transformed_categories_train], axis=1) \n",
    "X_test = pd.concat([X_test.reset_index(drop=True), transformed_categories_test], axis=1) "
   ]
  },
  {
   "cell_type": "code",
   "execution_count": 84,
   "id": "bafb488e-7c2e-45bb-bc97-d2e5145e78f6",
   "metadata": {},
   "outputs": [
    {
     "data": {
      "text/plain": [
       "Index(['lymphoma_specification_encoded', 'clones.txt.name',\n",
       "       'lymphoma_specification', 'bestVGene', 'has_mutation',\n",
       "       'Read.proportion', 'Clonality', 'twb.shannon', 'twb.simp',\n",
       "       'lengthOfCDR3',\n",
       "       ...\n",
       "       'bestVGene_TRBV7-3', 'bestVGene_TRBV7-4', 'bestVGene_TRBV7-5',\n",
       "       'bestVGene_TRBV7-6', 'bestVGene_TRBV7-7', 'bestVGene_TRBV7-8',\n",
       "       'bestVGene_TRBV7-9', 'bestVGene_TRBV9', 'has_mutation_False',\n",
       "       'has_mutation_True'],\n",
       "      dtype='object', length=164)"
      ]
     },
     "execution_count": 84,
     "metadata": {},
     "output_type": "execute_result"
    }
   ],
   "source": [
    "X_train.columns"
   ]
  },
  {
   "cell_type": "markdown",
   "id": "f0ea8428-86b8-42d2-bb80-37860e4835e2",
   "metadata": {},
   "source": [
    "## c) Groupwise K-Fold Cross Validation"
   ]
  },
  {
   "cell_type": "code",
   "execution_count": 68,
   "id": "9e0c91ef-4da6-4c63-a1af-5a86d2fd0c5f",
   "metadata": {},
   "outputs": [],
   "source": [
    "lymphoma_fold_dict,  train_fold_patients, test_fold_patients = utils.grouped_patientwise_k_folds(X, \"lymphoma_specification_encoded\", \"clones.txt.name\")"
   ]
  },
  {
   "cell_type": "code",
   "execution_count": 16,
   "id": "c14a28e4-763d-451a-a841-b70c9a32b863",
   "metadata": {},
   "outputs": [
    {
     "data": {
      "text/plain": [
       "Index(['Read.proportion', 'Clonality', 'twb.shannon', 'twb.simp',\n",
       "       'lengthOfCDR3', 'KF1', 'KF2', 'KF3', 'KF4', 'KF5', 'KF6', 'KF7', 'KF8',\n",
       "       'KF9', 'KF10'],\n",
       "      dtype='object')"
      ]
     },
     "execution_count": 16,
     "metadata": {},
     "output_type": "execute_result"
    }
   ],
   "source": [
    "X.columns[6:21]"
   ]
  },
  {
   "cell_type": "code",
   "execution_count": 69,
   "id": "d447d3a9-bfa5-484a-8d4a-75a2f4e6ab52",
   "metadata": {},
   "outputs": [
    {
     "data": {
      "application/vnd.jupyter.widget-view+json": {
       "model_id": "ca2f7b85ed824041b6508c2c42513848",
       "version_major": 2,
       "version_minor": 0
      },
      "text/plain": [
       "  0%|          | 0/5 [00:00<?, ?it/s]"
      ]
     },
     "metadata": {},
     "output_type": "display_data"
    }
   ],
   "source": [
    "X_train_folds = []\n",
    "y_train_folds = []\n",
    "X_test_folds = []\n",
    "y_test_folds = []\n",
    "\n",
    "for i, train_fold in enumerate(tqdm(train_fold_patients)):\n",
    "    test_fold = test_fold_patients[i]\n",
    "    X_test = X[X[\"clones.txt.name\"].isin(test_fold)]\n",
    "    y_test = np.asarray(X_test[\"lymphoma_specification_encoded\"])\n",
    "\n",
    "    X_train = X[X[\"clones.txt.name\"].isin(train_fold)]\n",
    "    y_train = np.asarray(X_train[\"lymphoma_specification_encoded\"])\n",
    "\n",
    "    X_train.loc[:, numerical] = numerical_preprocessor.fit_transform(X_train.loc[:, numerical])\n",
    "    X_test.loc[:, numerical] = numerical_preprocessor.transform(X_test.loc[:, numerical])\n",
    "\n",
    "    X_train_folds.append(X_train)\n",
    "    X_test_folds.append(X_test)\n",
    "\n",
    "    y_train_folds.append(y_train)\n",
    "    y_test_folds.append(y_test)"
   ]
  },
  {
   "cell_type": "code",
   "execution_count": 70,
   "id": "859bba35-1459-4bd2-b4ea-68650970be5a",
   "metadata": {},
   "outputs": [],
   "source": [
    "from imblearn.over_sampling import ADASYN, RandomOverSampler, SMOTE\n",
    "from imblearn.under_sampling import RandomUnderSampler"
   ]
  },
  {
   "cell_type": "code",
   "execution_count": 71,
   "id": "7729de60-7250-4666-90df-4a4a38be03f8",
   "metadata": {},
   "outputs": [],
   "source": [
    "sampling_strategies = {\n",
    "    'None': None,\n",
    "    'adasyn': ADASYN(random_state=42),\n",
    "    'random_over': RandomOverSampler(random_state=42),\n",
    "    'smote': SMOTE(random_state=42),\n",
    "    'random_under' : RandomUnderSampler(random_state=42)\n",
    "}\n",
    "\n",
    "# ADASYN improved version of smote (KNN) synthetic data\n",
    "# Under sampling --> loose data \n",
    "# Over sampling --> see datapoints multiple times generalization?"
   ]
  },
  {
   "cell_type": "code",
   "execution_count": 20,
   "id": "1beb1cee-a0bc-4a5a-8c39-ae6b0402c3ba",
   "metadata": {},
   "outputs": [],
   "source": [
    "sampler = sampling_strategies[\"adasyn\"]"
   ]
  },
  {
   "cell_type": "markdown",
   "id": "a6334fb4-facf-41ca-ae1b-51c402580148",
   "metadata": {},
   "source": [
    "# Random Forrest vs. Logistic Regression vs. SVM"
   ]
  },
  {
   "cell_type": "code",
   "execution_count": 72,
   "id": "d3cbb02a-ee23-4b90-a153-89089b7a0eae",
   "metadata": {},
   "outputs": [],
   "source": [
    "from sklearn.linear_model import LogisticRegression\n",
    "from sklearn.ensemble import RandomForestClassifier\n",
    "from sklearn.svm import SVC"
   ]
  },
  {
   "cell_type": "code",
   "execution_count": 74,
   "id": "1fa739cf-4b8c-41b5-923f-806fd2ace76f",
   "metadata": {},
   "outputs": [],
   "source": [
    "features_fit = list(X.columns)\n",
    "for x in (categorical + [\"lymphoma_specification_encoded\", \"clones.txt.name\", \"lymphoma_specification\", \"cloneId\"]):\n",
    "    features_fit.remove(x)"
   ]
  },
  {
   "cell_type": "code",
   "execution_count": 75,
   "id": "49786ae2-36d9-4da7-a43d-c4cd489f1d61",
   "metadata": {},
   "outputs": [],
   "source": [
    "fold_predictions = {\"tree\": [], \"svm\" : [], \"reg\" : []}\n",
    "coefficients = {\"tree\": [], \"svm\" : [], \"reg\" : []}"
   ]
  },
  {
   "cell_type": "code",
   "execution_count": 76,
   "id": "62bacc46-5789-440c-8214-969687ff5c71",
   "metadata": {},
   "outputs": [
    {
     "data": {
      "application/vnd.jupyter.widget-view+json": {
       "model_id": "bdc939ed775d4fa1bd9c51601419c728",
       "version_major": 2,
       "version_minor": 0
      },
      "text/plain": [
       "  0%|          | 0/5 [00:00<?, ?it/s]"
      ]
     },
     "metadata": {},
     "output_type": "display_data"
    },
    {
     "name": "stderr",
     "output_type": "stream",
     "text": [
      "lbfgs failed to converge (status=1):\n",
      "STOP: TOTAL NO. of ITERATIONS REACHED LIMIT.\n",
      "\n",
      "Increase the number of iterations (max_iter) or scale the data as shown in:\n",
      "    https://scikit-learn.org/stable/modules/preprocessing.html\n",
      "Please also refer to the documentation for alternative solver options:\n",
      "    https://scikit-learn.org/stable/modules/linear_model.html#logistic-regression\n",
      "lbfgs failed to converge (status=1):\n",
      "STOP: TOTAL NO. of ITERATIONS REACHED LIMIT.\n",
      "\n",
      "Increase the number of iterations (max_iter) or scale the data as shown in:\n",
      "    https://scikit-learn.org/stable/modules/preprocessing.html\n",
      "Please also refer to the documentation for alternative solver options:\n",
      "    https://scikit-learn.org/stable/modules/linear_model.html#logistic-regression\n",
      "lbfgs failed to converge (status=1):\n",
      "STOP: TOTAL NO. of ITERATIONS REACHED LIMIT.\n",
      "\n",
      "Increase the number of iterations (max_iter) or scale the data as shown in:\n",
      "    https://scikit-learn.org/stable/modules/preprocessing.html\n",
      "Please also refer to the documentation for alternative solver options:\n",
      "    https://scikit-learn.org/stable/modules/linear_model.html#logistic-regression\n",
      "lbfgs failed to converge (status=1):\n",
      "STOP: TOTAL NO. of ITERATIONS REACHED LIMIT.\n",
      "\n",
      "Increase the number of iterations (max_iter) or scale the data as shown in:\n",
      "    https://scikit-learn.org/stable/modules/preprocessing.html\n",
      "Please also refer to the documentation for alternative solver options:\n",
      "    https://scikit-learn.org/stable/modules/linear_model.html#logistic-regression\n",
      "lbfgs failed to converge (status=1):\n",
      "STOP: TOTAL NO. of ITERATIONS REACHED LIMIT.\n",
      "\n",
      "Increase the number of iterations (max_iter) or scale the data as shown in:\n",
      "    https://scikit-learn.org/stable/modules/preprocessing.html\n",
      "Please also refer to the documentation for alternative solver options:\n",
      "    https://scikit-learn.org/stable/modules/linear_model.html#logistic-regression\n"
     ]
    }
   ],
   "source": [
    "for i, X_train in enumerate(tqdm(X_train_folds)):\n",
    "    y_train = y_train_folds[i]\n",
    "    X_test = X_test_folds[i]\n",
    "    y_test = y_test_folds[i]\n",
    "    \n",
    "    X_train, y_train = sampler.fit_resample(X_train.loc[:,features_fit], y_train)\n",
    "\n",
    "    # random forrest\n",
    "    model_tree_i = RandomForestClassifier(random_state=42)\n",
    "    model_tree_i.fit(X_train, y_train)\n",
    "\n",
    "    # logistic regression \n",
    "    model_reg_i = LogisticRegression()\n",
    "    model_reg_i.fit(X_train, y_train)\n",
    "\n",
    "    # SVM + RBF\n",
    "    model_svm_i = SVC(kernel='rbf')\n",
    "    model_svm_i.fit(X_train, y_train)\n",
    "\n",
    "    y_pred = model_tree_i.predict(X_test.loc[:,features_fit])\n",
    "    fold_predictions[\"tree\"].append(y_pred)\n",
    "\n",
    "    y_pred = model_reg_i.predict(X_test.loc[:,features_fit])\n",
    "    fold_predictions[\"reg\"].append(y_pred)\n",
    "\n",
    "    y_pred = model_svm_i.predict(X_test.loc[:,features_fit])\n",
    "    fold_predictions[\"svm\"].append(y_pred)\n",
    "\n",
    "    coefficients[\"tree\"].append(model_tree_i.feature_importances_)\n",
    "    coefficients[\"reg\"].append(model_reg_i.coef_)\n",
    "    #coefficients_reg.append(model_svm_i.coef_)\n",
    "     \n",
    "    # Fits the explainer\n",
    "    #explainer = shap.Explainer(model_reg_i.predict, X_test.iloc[:,7:])\n",
    "    # Calculates the SHAP values - It takes some time\n",
    "    #shap_values = explainer(X_test.iloc[:,7:])\n",
    "    #shap_values_reg.append(shap_values)"
   ]
  },
  {
   "cell_type": "code",
   "execution_count": 77,
   "id": "da3629c8-9dc6-46e5-acd8-a106d7dd2b08",
   "metadata": {},
   "outputs": [
    {
     "data": {
      "application/vnd.jupyter.widget-view+json": {
       "model_id": "ffffac6802b5491a9e9062659445bc3b",
       "version_major": 2,
       "version_minor": 0
      },
      "text/plain": [
       "  0%|          | 0/5 [00:00<?, ?it/s]"
      ]
     },
     "metadata": {},
     "output_type": "display_data"
    },
    {
     "name": "stderr",
     "output_type": "stream",
     "text": [
      "Precision and F-score are ill-defined and being set to 0.0 in labels with no predicted samples. Use `zero_division` parameter to control this behavior.\n",
      "Precision and F-score are ill-defined and being set to 0.0 in labels with no predicted samples. Use `zero_division` parameter to control this behavior.\n",
      "Precision and F-score are ill-defined and being set to 0.0 in labels with no predicted samples. Use `zero_division` parameter to control this behavior.\n"
     ]
    },
    {
     "data": {
      "application/vnd.jupyter.widget-view+json": {
       "model_id": "866c578c11374beabb17bc8e637e8c33",
       "version_major": 2,
       "version_minor": 0
      },
      "text/plain": [
       "  0%|          | 0/5 [00:00<?, ?it/s]"
      ]
     },
     "metadata": {},
     "output_type": "display_data"
    },
    {
     "data": {
      "application/vnd.jupyter.widget-view+json": {
       "model_id": "e2659d62c143497fa67c23ce510a4565",
       "version_major": 2,
       "version_minor": 0
      },
      "text/plain": [
       "  0%|          | 0/5 [00:00<?, ?it/s]"
      ]
     },
     "metadata": {},
     "output_type": "display_data"
    },
    {
     "name": "stdout",
     "output_type": "stream",
     "text": [
      "Random Forrest Classifier\n",
      "               precision    recall  f1-score   support\n",
      "\n",
      "    abc_dlbcl       0.35      0.45      0.38     89.80\n",
      "          cll       0.68      0.75      0.71    550.80\n",
      "        dlbcl       0.12      0.13      0.11     42.40\n",
      "    gcb_dlbcl       0.36      0.30      0.30     52.00\n",
      "           hd       0.89      0.87      0.88   1400.00\n",
      "lymphadenitis       0.38      0.35      0.36     28.00\n",
      "        nlphl       0.65      0.66      0.65    180.00\n",
      "      thrlbcl       0.36      0.06      0.08     36.00\n",
      "  unspecified       0.43      0.34      0.37     64.00\n",
      "\n",
      "     accuracy                           0.75   2443.00\n",
      "    macro avg       0.47      0.43      0.43   2443.00\n",
      " weighted avg       0.76      0.75      0.75   2443.00\n",
      "\n",
      "\n",
      "\n",
      "\n",
      "SVM + RBF Kernel\n",
      "               precision    recall  f1-score   support\n",
      "\n",
      "    abc_dlbcl       0.35      0.48      0.40     89.80\n",
      "          cll       0.62      0.69      0.65    550.80\n",
      "        dlbcl       0.11      0.13      0.11     42.40\n",
      "    gcb_dlbcl       0.25      0.26      0.25     52.00\n",
      "           hd       0.91      0.76      0.83   1400.00\n",
      "lymphadenitis       0.17      0.28      0.20     28.00\n",
      "        nlphl       0.54      0.67      0.59    180.00\n",
      "      thrlbcl       0.09      0.17      0.11     36.00\n",
      "  unspecified       0.27      0.39      0.31     64.00\n",
      "\n",
      "     accuracy                           0.68   2443.00\n",
      "    macro avg       0.37      0.43      0.38   2443.00\n",
      " weighted avg       0.73      0.68      0.70   2443.00\n",
      "\n",
      "\n",
      "\n",
      "\n",
      "Logistic Regression\n",
      "               precision    recall  f1-score   support\n",
      "\n",
      "    abc_dlbcl       0.35      0.46      0.40     89.80\n",
      "          cll       0.60      0.45      0.51    550.80\n",
      "        dlbcl       0.07      0.22      0.10     42.40\n",
      "    gcb_dlbcl       0.24      0.46      0.31     52.00\n",
      "           hd       0.92      0.59      0.72   1400.00\n",
      "lymphadenitis       0.16      0.58      0.24     28.00\n",
      "        nlphl       0.39      0.48      0.43    180.00\n",
      "      thrlbcl       0.05      0.30      0.09     36.00\n",
      "  unspecified       0.15      0.53      0.24     64.00\n",
      "\n",
      "     accuracy                           0.53   2443.00\n",
      "    macro avg       0.33      0.45      0.34   2443.00\n",
      " weighted avg       0.72      0.53      0.59   2443.00\n",
      "\n"
     ]
    }
   ],
   "source": [
    "classification_reports = {\"tree\" : [], \"svm\": [], \"reg\": []}\n",
    "average_classification_reports = {\"tree\" : \"\", \"svm\": \"\", \"reg\": \"\"}\n",
    "\n",
    "for key in classification_reports.keys():    \n",
    "    for i, y_pred in enumerate(tqdm(fold_predictions[key])):\n",
    "        target_names_in_targets = np.unique(y_test_folds[i])\n",
    "        target_names = [labels[i] for i in target_names_in_targets]\n",
    "        classification_reports[key].append(classification_report(y_test_folds[i], y_pred, target_names=np.asarray(target_names),output_dict=True))\n",
    "\n",
    "    average_classification_reports[key] = utils.get_averaged_classification_report(classification_reports[key])\n",
    "\n",
    "print(\"Random Forrest Classifier\")\n",
    "print(average_classification_reports[\"tree\"])\n",
    "print(\"\\n\\n\")\n",
    "print(\"SVM + RBF Kernel\")\n",
    "print(average_classification_reports[\"svm\"])\n",
    "print(\"\\n\\n\")\n",
    "print(\"Logistic Regression\")\n",
    "print(average_classification_reports[\"reg\"])"
   ]
  },
  {
   "cell_type": "code",
   "execution_count": 78,
   "id": "af072bdd",
   "metadata": {},
   "outputs": [
    {
     "data": {
      "application/vnd.jupyter.widget-view+json": {
       "model_id": "f05f61601546434bb9b47c707ff8f301",
       "version_major": 2,
       "version_minor": 0
      },
      "text/plain": [
       "  0%|          | 0/5 [00:00<?, ?it/s]"
      ]
     },
     "metadata": {},
     "output_type": "display_data"
    },
    {
     "data": {
      "application/vnd.jupyter.widget-view+json": {
       "model_id": "1101322bf226411991749545a84db4da",
       "version_major": 2,
       "version_minor": 0
      },
      "text/plain": [
       "  0%|          | 0/5 [00:00<?, ?it/s]"
      ]
     },
     "metadata": {},
     "output_type": "display_data"
    },
    {
     "data": {
      "application/vnd.jupyter.widget-view+json": {
       "model_id": "b4fc66127c1e4cc38925d9c88da57d23",
       "version_major": 2,
       "version_minor": 0
      },
      "text/plain": [
       "  0%|          | 0/5 [00:00<?, ?it/s]"
      ]
     },
     "metadata": {},
     "output_type": "display_data"
    },
    {
     "data": {
      "image/png": "[encoded data removed]",
      "text/plain": [
       "<Figure size 1500x800 with 2 Axes>"
      ]
     },
     "metadata": {},
     "output_type": "display_data"
    },
    {
     "data": {
      "image/png": "[encoded data removed]",
      "text/plain": [
       "<Figure size 1500x800 with 2 Axes>"
      ]
     },
     "metadata": {},
     "output_type": "display_data"
    },
    {
     "data": {
      "image/png": "[encoded data removed]",
      "text/plain": [
       "<Figure size 1500x800 with 2 Axes>"
      ]
     },
     "metadata": {},
     "output_type": "display_data"
    }
   ],
   "source": [
    "for key in fold_predictions.keys():\n",
    "    cms = []\n",
    "    for i, y_pred in enumerate(tqdm(fold_predictions[key])):\n",
    "        cm = confusion_matrix(y_test_folds[i], y_pred, normalize=\"true\") # normalize over true values\n",
    "        cms.append(cm)\n",
    "    cms = np.asarray(cms)\n",
    "    \n",
    "    fig, ax = plt.subplots(figsize = (15,8))\n",
    "    disp = ConfusionMatrixDisplay(confusion_matrix=np.mean(cms,axis=0),display_labels=labels,)\n",
    "    ax.set_title(key)\n",
    "    disp.plot(ax=ax)\n",
    "    disp.ax_.get_images()[0].set_clim(0, 1)"
   ]
  },
  {
   "cell_type": "markdown",
   "id": "64054138-c966-401c-8ff3-e32040a4d0c3",
   "metadata": {},
   "source": [
    "## Feature Importance"
   ]
  },
  {
   "cell_type": "code",
   "execution_count": 79,
   "id": "2345bdff-9284-4894-9cd2-4f9a81730da3",
   "metadata": {
    "scrolled": true
   },
   "outputs": [
    {
     "name": "stdout",
     "output_type": "stream",
     "text": [
      "(129,)\n"
     ]
    },
    {
     "data": {
      "text/plain": [
       "Text(0.5, 1.0, 'tree')"
      ]
     },
     "execution_count": 79,
     "metadata": {},
     "output_type": "execute_result"
    },
    {
     "data": {
      "image/png": "[encoded data removed]",
      "text/plain": [
       "<Figure size 1000x600 with 1 Axes>"
      ]
     },
     "metadata": {},
     "output_type": "display_data"
    }
   ],
   "source": [
    "key=\"tree\"\n",
    "mean_coef = np.mean(np.asarray(coefficients[key]), axis=0)\n",
    "print(mean_coef.shape)\n",
    "palette = sns.color_palette(palette='Blues')\n",
    "\n",
    "fig, ax = plt.subplots(figsize=(10, 6))\n",
    "feature_importance = pd.DataFrame({'Feature': X_train.columns[0:20], 'Importance': mean_coef[0:20]})\n",
    "feature_importance = feature_importance.sort_values('Importance', ascending=True)\n",
    "feature_importance.plot(x='Feature', y='Importance', kind='barh', ax=ax, label = \"Fold Average Importance\")\n",
    "\n",
    "for i, cof in enumerate(coefficients[key]):\n",
    "    feature_importance_i = pd.DataFrame({'Feature': X_train.columns[:20], 'Importance': cof[0:20]})\n",
    "    feature_importance_i = feature_importance_i.sort_values('Importance', ascending=True)\n",
    "    feature_importance_i.plot(x='Feature', y='Importance', kind='barh', ax=ax, color =palette[i], alpha=0.4, label=\"\", legend=False)\n",
    "ax.set_title(key)\n",
    "\n",
    "#feature_importance = pd.DataFrame({'Feature': X_train.columns[:10], 'Importance': coefficients[0:10]})\n",
    "#feature_importance = feature_importance.sort_values('Importance', ascending=True)\n",
    "#feature_importance.plot(x='Feature', y='Importance', kind='barh',alpha=0.0 , hatch = \"/\", ax=ax , legend = False)"
   ]
  },
  {
   "cell_type": "markdown",
   "id": "ecd198b8-6ca6-45b7-b9f2-3e5fa6163153",
   "metadata": {},
   "source": [
    "# CatBoost"
   ]
  },
  {
   "cell_type": "code",
   "execution_count": 80,
   "id": "1f6bf02a-500a-44f2-b0bf-88a1826b92ef",
   "metadata": {},
   "outputs": [],
   "source": [
    "from catboost import CatBoostClassifier "
   ]
  },
  {
   "cell_type": "code",
   "execution_count": 81,
   "id": "2150f1fa-2ae0-4325-8990-39fdf6fcc403",
   "metadata": {},
   "outputs": [],
   "source": [
    "fold_predictions[\"cat\"] =  []\n",
    "coefficients[\"cat\"] = []"
   ]
  },
  {
   "cell_type": "code",
   "execution_count": 82,
   "id": "3783e7de-6e86-4e5b-a64e-f4f5e26a1b60",
   "metadata": {},
   "outputs": [
    {
     "data": {
      "application/vnd.jupyter.widget-view+json": {
       "model_id": "7a2d4a8bd45a4873bfd4bc2da5c4b829",
       "version_major": 2,
       "version_minor": 0
      },
      "text/plain": [
       "  0%|          | 0/5 [00:00<?, ?it/s]"
      ]
     },
     "metadata": {},
     "output_type": "display_data"
    }
   ],
   "source": [
    "for i, X_train in enumerate(tqdm(X_train_folds)):\n",
    "    y_train = y_train_folds[i]\n",
    "    X_test = X_test_folds[i]\n",
    "    y_test = y_test_folds[i]\n",
    "    \n",
    "    X_train, y_train = sampler.fit_resample(X_train.loc[:,features_fit], y_train)\n",
    "\n",
    "    model_tree_i.fit(X_train, y_train)\n",
    "    \n",
    "    model_cat_i = CatBoostClassifier(loss_function='MultiClass', verbose=False)\n",
    "    model_cat_i.fit(X_train, y_train)\n",
    "\n",
    "    y_pred = model_cat_i.predict(X_test.loc[:,features_fit])\n",
    "    fold_predictions[\"cat\"].append(y_pred)\n",
    "\n",
    "    coefficients[\"cat\"].append(model_cat_i.feature_importances_)"
   ]
  },
  {
   "cell_type": "code",
   "execution_count": 83,
   "id": "10c5e1f1-6e88-4b52-b5e4-05b33ad34f44",
   "metadata": {},
   "outputs": [
    {
     "data": {
      "application/vnd.jupyter.widget-view+json": {
       "model_id": "9e6072fa5c0d4626a88f74de616500ab",
       "version_major": 2,
       "version_minor": 0
      },
      "text/plain": [
       "  0%|          | 0/5 [00:00<?, ?it/s]"
      ]
     },
     "metadata": {},
     "output_type": "display_data"
    },
    {
     "name": "stdout",
     "output_type": "stream",
     "text": [
      "CatBoost Classifier\n",
      "               precision    recall  f1-score   support\n",
      "\n",
      "    abc_dlbcl       0.36      0.39      0.36     89.80\n",
      "          cll       0.68      0.73      0.70    550.80\n",
      "        dlbcl       0.07      0.10      0.07     42.40\n",
      "    gcb_dlbcl       0.44      0.40      0.39     52.00\n",
      "           hd       0.90      0.86      0.88   1400.00\n",
      "lymphadenitis       0.42      0.50      0.40     28.00\n",
      "        nlphl       0.66      0.71      0.68    180.00\n",
      "      thrlbcl       0.04      0.05      0.04     36.00\n",
      "  unspecified       0.32      0.30      0.31     64.00\n",
      "\n",
      "     accuracy                           0.74   2443.00\n",
      "    macro avg       0.43      0.45      0.43   2443.00\n",
      " weighted avg       0.76      0.74      0.75   2443.00\n",
      "\n"
     ]
    }
   ],
   "source": [
    "key = \"cat\"\n",
    "classification_reports[key] = []\n",
    "for i, y_pred in enumerate(tqdm(fold_predictions[key])):\n",
    "        target_names_in_targets = np.unique(y_test_folds[i])\n",
    "        target_names = [labels[i] for i in target_names_in_targets]\n",
    "        classification_reports[key].append(classification_report(y_test_folds[i], y_pred, target_names=np.asarray(target_names),output_dict=True))\n",
    "\n",
    "average_classification_reports[key] = utils.get_averaged_classification_report(classification_reports[key])\n",
    "\n",
    "print(\"CatBoost Classifier\")\n",
    "print(average_classification_reports[key])"
   ]
  },
  {
   "cell_type": "code",
   "execution_count": 84,
   "id": "b37c2e12-8001-4915-bb89-d955e5b7b82e",
   "metadata": {},
   "outputs": [
    {
     "data": {
      "application/vnd.jupyter.widget-view+json": {
       "model_id": "b8c356c9c31b47c08eeef04ee22ff337",
       "version_major": 2,
       "version_minor": 0
      },
      "text/plain": [
       "  0%|          | 0/5 [00:00<?, ?it/s]"
      ]
     },
     "metadata": {},
     "output_type": "display_data"
    },
    {
     "data": {
      "image/png": "[encoded data removed]",
      "text/plain": [
       "<Figure size 1500x800 with 2 Axes>"
      ]
     },
     "metadata": {},
     "output_type": "display_data"
    }
   ],
   "source": [
    "cms = []\n",
    "for i, y_pred in enumerate(tqdm(fold_predictions[key])):\n",
    "    cm = confusion_matrix(y_test_folds[i], y_pred, normalize=\"true\") # normalize over true values\n",
    "    cms.append(cm)\n",
    "cms = np.asarray(cms)\n",
    "\n",
    "fig, ax = plt.subplots(figsize = (15,8))\n",
    "disp = ConfusionMatrixDisplay(confusion_matrix=np.mean(cms,axis=0),display_labels=labels,)\n",
    "ax.set_title(key)\n",
    "disp.plot(ax=ax)\n",
    "disp.ax_.get_images()[0].set_clim(0, 1)"
   ]
  },
  {
   "cell_type": "code",
   "execution_count": 85,
   "id": "d6979057-bef2-4d97-ab65-9e111b2b12d3",
   "metadata": {},
   "outputs": [
    {
     "name": "stdout",
     "output_type": "stream",
     "text": [
      "(129,)\n"
     ]
    },
    {
     "data": {
      "text/plain": [
       "Text(0.5, 1.0, 'cat')"
      ]
     },
     "execution_count": 85,
     "metadata": {},
     "output_type": "execute_result"
    },
    {
     "data": {
      "image/png": "[encoded data removed]",
      "text/plain": [
       "<Figure size 1000x600 with 1 Axes>"
      ]
     },
     "metadata": {},
     "output_type": "display_data"
    }
   ],
   "source": [
    "key=\"cat\"\n",
    "mean_coef = np.mean(np.asarray(coefficients[key]), axis=0)\n",
    "print(mean_coef.shape)\n",
    "palette = sns.color_palette(palette='Blues')\n",
    "\n",
    "fig, ax = plt.subplots(figsize=(10, 6))\n",
    "feature_importance = pd.DataFrame({'Feature': X_train.columns[0:20], 'Importance': mean_coef[0:20]})\n",
    "feature_importance = feature_importance.sort_values('Importance', ascending=True)\n",
    "feature_importance.plot(x='Feature', y='Importance', kind='barh', ax=ax, label = \"Fold Average Importance\")\n",
    "\n",
    "for i, cof in enumerate(coefficients[key]):\n",
    "    feature_importance_i = pd.DataFrame({'Feature': X_train.columns[:20], 'Importance': cof[0:20]})\n",
    "    feature_importance_i = feature_importance_i.sort_values('Importance', ascending=True)\n",
    "    feature_importance_i.plot(x='Feature', y='Importance', kind='barh', ax=ax, color =palette[i], alpha=0.4, label=\"\", legend=False)\n",
    "ax.set_title(key)\n",
    "\n",
    "#feature_importance = pd.DataFrame({'Feature': X_train.columns[:10], 'Importance': coefficients[0:10]})\n",
    "#feature_importance = feature_importance.sort_values('Importance', ascending=True)\n",
    "#feature_importance.plot(x='Feature', y='Importance', kind='barh',alpha=0.0 , hatch = \"/\", ax=ax , legend = False)"
   ]
  },
  {
   "cell_type": "markdown",
   "id": "a6b59f88",
   "metadata": {},
   "source": [
    "# ANN"
   ]
  },
  {
   "cell_type": "code",
   "execution_count": 268,
   "id": "73556a8c-074f-4d69-a3e2-a54f3c59d72f",
   "metadata": {},
   "outputs": [
    {
     "data": {
      "text/plain": [
       "Index(['Read.count', 'Read.proportion', 'CDR3.nucleotide.sequence',\n",
       "       'CDR3.amino.acid.sequence', 'V.gene', 'J.gene', 'D.gene', 'V.end',\n",
       "       'J.start', 'D5.end', 'D3.end', 'VD.insertions', 'DJ.insertions',\n",
       "       'Total.insertions', 'sample', 'cloneId', 'clones.txt.name',\n",
       "       '#Nucleotide clones', '#Aminoacid clonotypes', '%Aminoacid clonotypes',\n",
       "       '#In-frames', '%In-frames', '#Out-of-frames', '%Out-of-frames',\n",
       "       'Sum.reads', 'Min.reads', '1st Qu.reads', 'Median.reads', 'Mean.reads',\n",
       "       '3rd Qu.reads', 'Max.reads', 'Clonality', 'twb.shannon', 'twb.simp',\n",
       "       'pcr_target_locus', 'organism', 'template', 'tissue', 'lymphoma_type',\n",
       "       'lymphoma_specification', 'subject_id', 'sex', 'dosc', 'age', 'dob',\n",
       "       'cloneCount', 'cloneFraction', 'aaSeqCDR3', 'bestVGene', 'bestDGene',\n",
       "       'bestJGene', 'vBestIdentityPercent', 'lengthOfCDR3', 'targetSequences',\n",
       "       'allVGenes', 'allDGenes', 'allJGenes', 'allVHits', 'allDHits',\n",
       "       'allJHits', 'allVAlignments', 'allDAlignments', 'allJAlignments', 'KF1',\n",
       "       'KF2', 'KF3', 'KF4', 'KF5', 'KF6', 'KF7', 'KF8', 'KF9', 'KF10',\n",
       "       'dBestIdentityPercent', 'jBestIdentityPercent', 'aaSeqCDR2',\n",
       "       'aaSeqCDR1', 'aaSeqFR2', 'aaSeqFR3', 'aaSeqFR4',\n",
       "       'aaSeqImputedVDJRegion', 'has_mutation'],\n",
       "      dtype='object')"
      ]
     },
     "execution_count": 268,
     "metadata": {},
     "output_type": "execute_result"
    }
   ],
   "source": [
    "df.columns"
   ]
  },
  {
   "cell_type": "code",
   "execution_count": 90,
   "id": "59408883-6eb4-4141-8af6-ad7fb4a4a22a",
   "metadata": {},
   "outputs": [
    {
     "data": {
      "text/plain": [
       "<module 'utils' from '/Users/labadmin/Projects/immusign/utils.py'>"
      ]
     },
     "execution_count": 90,
     "metadata": {},
     "output_type": "execute_result"
    }
   ],
   "source": [
    "import importlib\n",
    "importlib.reload(utils)"
   ]
  },
  {
   "cell_type": "code",
   "execution_count": 295,
   "id": "78cc068a-646d-4cbd-9b20-e485c29754c7",
   "metadata": {},
   "outputs": [],
   "source": [
    "from sklearn.model_selection import train_test_split"
   ]
  },
  {
   "cell_type": "code",
   "execution_count": null,
   "id": "46d68c83-368f-4f7b-bb32-09ec958522ec",
   "metadata": {},
   "outputs": [],
   "source": [
    "labels = ['abc_dlbcl', 'cll', 'dlbcl', 'gcb_dlbcl', 'hd', 'lymphadenitis', 'nlphl', 'thrlbcl', 'unspecified']"
   ]
  },
  {
   "cell_type": "code",
   "execution_count": 124,
   "id": "c68349c3-582a-4bac-96ff-1b7ca14427b0",
   "metadata": {},
   "outputs": [],
   "source": [
    "lymphoma_specification_dict = {}\n",
    "for i, label in enumerate(labels):\n",
    "    one_hot_vec = np.zeros(len(labels)) \n",
    "    one_hot_vec[i] = 1\n",
    "    lymphoma_specification_dict[label] = one_hot_vec"
   ]
  },
  {
   "cell_type": "code",
   "execution_count": 92,
   "id": "ce70a1e9-8a35-4101-9226-c8c0eae192a7",
   "metadata": {},
   "outputs": [
    {
     "data": {
      "text/plain": [
       "Index(['Read.count', 'Read.proportion', 'CDR3.nucleotide.sequence',\n",
       "       'CDR3.amino.acid.sequence', 'V.gene', 'J.gene', 'D.gene', 'V.end',\n",
       "       'J.start', 'D5.end', 'D3.end', 'VD.insertions', 'DJ.insertions',\n",
       "       'Total.insertions', 'sample', 'cloneId', 'clones.txt.name',\n",
       "       '#Nucleotide clones', '#Aminoacid clonotypes', '%Aminoacid clonotypes',\n",
       "       '#In-frames', '%In-frames', '#Out-of-frames', '%Out-of-frames',\n",
       "       'Sum.reads', 'Min.reads', '1st Qu.reads', 'Median.reads', 'Mean.reads',\n",
       "       '3rd Qu.reads', 'Max.reads', 'Clonality', 'twb.shannon', 'twb.simp',\n",
       "       'pcr_target_locus', 'organism', 'template', 'tissue', 'lymphoma_type',\n",
       "       'lymphoma_specification', 'subject_id', 'sex', 'dosc', 'age', 'dob',\n",
       "       'cloneCount', 'cloneFraction', 'aaSeqCDR3', 'bestVGene', 'bestDGene',\n",
       "       'bestJGene', 'vBestIdentityPercent', 'lengthOfCDR3', 'targetSequences',\n",
       "       'allVGenes', 'allDGenes', 'allJGenes', 'allVHits', 'allDHits',\n",
       "       'allJHits', 'allVAlignments', 'allDAlignments', 'allJAlignments', 'KF1',\n",
       "       'KF2', 'KF3', 'KF4', 'KF5', 'KF6', 'KF7', 'KF8', 'KF9', 'KF10',\n",
       "       'dBestIdentityPercent', 'jBestIdentityPercent', 'aaSeqCDR2',\n",
       "       'aaSeqCDR1', 'aaSeqFR2', 'aaSeqFR3', 'aaSeqFR4',\n",
       "       'aaSeqImputedVDJRegion', 'has_mutation'],\n",
       "      dtype='object')"
      ]
     },
     "execution_count": 92,
     "metadata": {},
     "output_type": "execute_result"
    }
   ],
   "source": [
    "df_top_n.columns"
   ]
  },
  {
   "cell_type": "code",
   "execution_count": 320,
   "id": "e7e6668d",
   "metadata": {},
   "outputs": [],
   "source": [
    "X = df_top_n[\"CDR3.nucleotide.sequence\"].apply(utils.encode_nucleotides)\n",
    "Y = df_top_n[\"lymphoma_specification\"].apply(lambda x: np.asarray(lymphoma_specification_dict[x]))"
   ]
  },
  {
   "cell_type": "code",
   "execution_count": 321,
   "id": "793d3894-dc64-4ef1-bf1a-a7d10aa6368b",
   "metadata": {},
   "outputs": [],
   "source": [
    "X_train, X_valid, Y_train, Y_valid = train_test_split(\n",
    "    X, Y, random_state=42\n",
    ")\n",
    "\n",
    "X_train_lens = X_train.apply(len)\n",
    "X_valid_lens = X_valid.apply(len)"
   ]
  },
  {
   "cell_type": "code",
   "execution_count": 387,
   "id": "f1957e7e-69cc-4515-b370-b54ad234ad9b",
   "metadata": {},
   "outputs": [],
   "source": [
    "lymphoma_fold_dict,  train_fold_patients, test_fold_patients = utils.grouped_patientwise_k_folds(df_top_n, \"lymphoma_specification\", \"clones.txt.name\")"
   ]
  },
  {
   "cell_type": "code",
   "execution_count": 391,
   "id": "81d6f76a-1b76-4b30-8ecc-695c6553d83d",
   "metadata": {},
   "outputs": [
    {
     "data": {
      "application/vnd.jupyter.widget-view+json": {
       "model_id": "7cbe0ee5fdfb4f03a176ae0b1b54542f",
       "version_major": 2,
       "version_minor": 0
      },
      "text/plain": [
       "  0%|          | 0/5 [00:00<?, ?it/s]"
      ]
     },
     "metadata": {},
     "output_type": "display_data"
    }
   ],
   "source": [
    "X_train_folds = []\n",
    "y_train_folds = []\n",
    "X_test_folds = []\n",
    "y_test_folds = []\n",
    "\n",
    "for i, train_fold in enumerate(tqdm(train_fold_patients)):\n",
    "    test_fold = test_fold_patients[i]\n",
    "    X_test = df_top_n[df_top_n[\"clones.txt.name\"].isin(test_fold)]\n",
    "    y_test = np.asarray(X_test[\"lymphoma_specification\"])\n",
    "\n",
    "    X_train = df_top_n[df_top_n[\"clones.txt.name\"].isin(train_fold)]\n",
    "    y_train = np.asarray(X_train[\"lymphoma_specification\"])\n",
    "\n",
    "    X_train_folds.append(X_train)\n",
    "    X_test_folds.append(X_test)\n",
    "\n",
    "    y_train_folds.append(y_train)\n",
    "    y_test_folds.append(y_test)"
   ]
  },
  {
   "cell_type": "code",
   "execution_count": 394,
   "id": "feb74c9f-b755-498e-8264-dd2cc0194f3d",
   "metadata": {},
   "outputs": [],
   "source": [
    "X_train = X_train_folds[0][\"CDR3.nucleotide.sequence\"].apply(utils.encode_nucleotides)\n",
    "Y_train = X_train_folds[0][\"lymphoma_specification\"].apply(lambda x: np.asarray(lymphoma_specification_dict[x]))\n",
    "\n",
    "X_valid = X_test_folds[0][\"CDR3.nucleotide.sequence\"].apply(utils.encode_nucleotides)\n",
    "Y_valid = X_test_folds[0][\"lymphoma_specification\"].apply(lambda x: np.asarray(lymphoma_specification_dict[x]))"
   ]
  },
  {
   "cell_type": "code",
   "execution_count": 395,
   "id": "5a404a95-9f99-4fbb-ac47-0ad918c1a406",
   "metadata": {},
   "outputs": [],
   "source": [
    "X_train_lens = X_train.apply(len)\n",
    "X_valid_lens = X_valid.apply(len)"
   ]
  },
  {
   "cell_type": "code",
   "execution_count": 396,
   "id": "c8b9e8dd",
   "metadata": {},
   "outputs": [],
   "source": [
    "length_with_index_dict = {}\n",
    "lengths = np.asarray(X_train.apply(len))\n",
    "for i in np.sort(np.unique(lengths)):\n",
    "    length_with_index_dict[i] = np.where(lengths == i)[0]"
   ]
  },
  {
   "cell_type": "code",
   "execution_count": 397,
   "id": "abff17fa-0e34-4381-a795-46bff0d17448",
   "metadata": {},
   "outputs": [
    {
     "data": {
      "text/plain": [
       "<torch._C.Generator at 0x16e2accd0>"
      ]
     },
     "execution_count": 397,
     "metadata": {},
     "output_type": "execute_result"
    }
   ],
   "source": [
    "torch.manual_seed(SEED)"
   ]
  },
  {
   "cell_type": "code",
   "execution_count": 398,
   "id": "13024f5e",
   "metadata": {},
   "outputs": [],
   "source": [
    "INPUT_DIM = 4\n",
    "NUM_HIDDEN_NODES = 128\n",
    "NUM_OUTPUT_NODES = 9\n",
    "NUM_LAYERS = 2\n",
    "DROPOUT = 0.5"
   ]
  },
  {
   "cell_type": "code",
   "execution_count": 399,
   "id": "6a70b538-ce6e-4745-a8fd-e5d3fd49040a",
   "metadata": {},
   "outputs": [
    {
     "data": {
      "text/plain": [
       "<module 'model_zoo' from '/Users/labadmin/Projects/immusign/model_zoo.py'>"
      ]
     },
     "execution_count": 399,
     "metadata": {},
     "output_type": "execute_result"
    }
   ],
   "source": [
    "importlib.reload(model_zoo)"
   ]
  },
  {
   "cell_type": "code",
   "execution_count": 325,
   "id": "7795ed4e-320e-49a9-adc8-7b4cf7f2f7eb",
   "metadata": {},
   "outputs": [],
   "source": [
    "import model_zoo"
   ]
  },
  {
   "cell_type": "code",
   "execution_count": 354,
   "id": "a3c84c59",
   "metadata": {},
   "outputs": [],
   "source": [
    "model = model_zoo.LSTMNet(INPUT_DIM, \n",
    "                 NUM_OUTPUT_NODES, \n",
    "                 lstm_layers=2,\n",
    "                 lstm_units=128,\n",
    "                 bidirectional=True,\n",
    "                 dropout=0.5,\n",
    "                 fc_layer=2,\n",
    "                 fc_hidden_dim=256,\n",
    "               )"
   ]
  },
  {
   "cell_type": "code",
   "execution_count": 406,
   "id": "968457a2-27dd-466f-b44a-39a2f5e3c0b1",
   "metadata": {},
   "outputs": [],
   "source": [
    "model = model_zoo.NonLinearModel(input_channel=INPUT_DIM,\n",
    "                 output_channel=NUM_OUTPUT_NODES,\n",
    "                 hidden_units = 256,)"
   ]
  },
  {
   "cell_type": "code",
   "execution_count": 250,
   "id": "378c6c94-51a0-4166-bacd-fb4ec4ccf1b7",
   "metadata": {},
   "outputs": [],
   "source": [
    "model = ResnetModel(input_channel=INPUT_DIM,output_channel=NUM_OUTPUT_NODES,hidden_layers=NUM_LAYERS,hidden_units=NUM_HIDDEN_NODES)"
   ]
  },
  {
   "cell_type": "code",
   "execution_count": 301,
   "id": "642e3be0-2a24-4cab-af40-9e05da88b999",
   "metadata": {},
   "outputs": [],
   "source": [
    "# per patient\n",
    "#class_counts = df.groupby([\"lymphoma_specification\", \"clones.txt.name\"]).size().reset_index().groupby(\"lymphoma_specification\").size().reset_index()\n",
    "# per clone\n",
    "class_counts = df.groupby([\"lymphoma_specification\"]).size()\n",
    "total_samples = sum(class_counts.values)\n",
    "class_weights = [total_samples / (class_counts[i] * len(class_counts)) for i in range(len(class_counts))]\n",
    "class_weights = torch.tensor(class_weights)"
   ]
  },
  {
   "cell_type": "code",
   "execution_count": 407,
   "id": "8bffa54d",
   "metadata": {},
   "outputs": [],
   "source": [
    "device = torch.device(\"mps\")\n",
    "#device = torch.device(\"cpu\")\n",
    "import torch.optim as optim\n",
    "model = model.to(device)\n",
    "optimizer = optim.Adam(model.parameters(),lr=0.001)\n",
    "criterion = torch.nn.CrossEntropyLoss()\n",
    "#criterion = torch.nn.BCELoss()"
   ]
  },
  {
   "cell_type": "code",
   "execution_count": 408,
   "id": "30805ec9-2d1d-4e8d-8947-0dd43e0bb6b9",
   "metadata": {},
   "outputs": [
    {
     "data": {
      "text/plain": [
       "NonLinearModel(\n",
       "  (activation_function): LeakyReLU(negative_slope=0.01)\n",
       "  (non_linear): Linear(in_features=4, out_features=256, bias=True)\n",
       "  (linear): Linear(in_features=256, out_features=9, bias=True)\n",
       ")"
      ]
     },
     "execution_count": 408,
     "metadata": {},
     "output_type": "execute_result"
    }
   ],
   "source": [
    "model.train()"
   ]
  },
  {
   "cell_type": "code",
   "execution_count": 410,
   "id": "d420d2c1",
   "metadata": {},
   "outputs": [],
   "source": [
    "BATCH_SIZE =16\n",
    "N_EPOCHS = 100"
   ]
  },
  {
   "cell_type": "code",
   "execution_count": 411,
   "id": "eccd8ad6",
   "metadata": {},
   "outputs": [
    {
     "data": {
      "application/vnd.jupyter.widget-view+json": {
       "model_id": "3156c5e4c83c4fcfa657c2d1ff5d940c",
       "version_major": 2,
       "version_minor": 0
      },
      "text/plain": [
       "Training...:   0%|          | 0/100 [00:00<?, ?it/s]"
      ]
     },
     "metadata": {},
     "output_type": "display_data"
    },
    {
     "data": {
      "application/vnd.jupyter.widget-view+json": {
       "model_id": "",
       "version_major": 2,
       "version_minor": 0
      },
      "text/plain": [
       "Batch...:   0%|          | 0/613 [00:00<?, ?it/s]"
      ]
     },
     "metadata": {},
     "output_type": "display_data"
    },
    {
     "data": {
      "application/vnd.jupyter.widget-view+json": {
       "model_id": "",
       "version_major": 2,
       "version_minor": 0
      },
      "text/plain": [
       "Batch...:   0%|          | 0/613 [00:00<?, ?it/s]"
      ]
     },
     "metadata": {},
     "output_type": "display_data"
    },
    {
     "data": {
      "application/vnd.jupyter.widget-view+json": {
       "model_id": "",
       "version_major": 2,
       "version_minor": 0
      },
      "text/plain": [
       "Batch...:   0%|          | 0/613 [00:00<?, ?it/s]"
      ]
     },
     "metadata": {},
     "output_type": "display_data"
    },
    {
     "data": {
      "application/vnd.jupyter.widget-view+json": {
       "model_id": "",
       "version_major": 2,
       "version_minor": 0
      },
      "text/plain": [
       "Batch...:   0%|          | 0/613 [00:00<?, ?it/s]"
      ]
     },
     "metadata": {},
     "output_type": "display_data"
    },
    {
     "data": {
      "application/vnd.jupyter.widget-view+json": {
       "model_id": "",
       "version_major": 2,
       "version_minor": 0
      },
      "text/plain": [
       "Batch...:   0%|          | 0/613 [00:00<?, ?it/s]"
      ]
     },
     "metadata": {},
     "output_type": "display_data"
    },
    {
     "data": {
      "application/vnd.jupyter.widget-view+json": {
       "model_id": "",
       "version_major": 2,
       "version_minor": 0
      },
      "text/plain": [
       "Batch...:   0%|          | 0/613 [00:00<?, ?it/s]"
      ]
     },
     "metadata": {},
     "output_type": "display_data"
    },
    {
     "data": {
      "application/vnd.jupyter.widget-view+json": {
       "model_id": "",
       "version_major": 2,
       "version_minor": 0
      },
      "text/plain": [
       "Batch...:   0%|          | 0/613 [00:00<?, ?it/s]"
      ]
     },
     "metadata": {},
     "output_type": "display_data"
    },
    {
     "data": {
      "application/vnd.jupyter.widget-view+json": {
       "model_id": "",
       "version_major": 2,
       "version_minor": 0
      },
      "text/plain": [
       "Batch...:   0%|          | 0/613 [00:00<?, ?it/s]"
      ]
     },
     "metadata": {},
     "output_type": "display_data"
    },
    {
     "data": {
      "application/vnd.jupyter.widget-view+json": {
       "model_id": "",
       "version_major": 2,
       "version_minor": 0
      },
      "text/plain": [
       "Batch...:   0%|          | 0/613 [00:00<?, ?it/s]"
      ]
     },
     "metadata": {},
     "output_type": "display_data"
    },
    {
     "data": {
      "application/vnd.jupyter.widget-view+json": {
       "model_id": "",
       "version_major": 2,
       "version_minor": 0
      },
      "text/plain": [
       "Batch...:   0%|          | 0/613 [00:00<?, ?it/s]"
      ]
     },
     "metadata": {},
     "output_type": "display_data"
    },
    {
     "data": {
      "application/vnd.jupyter.widget-view+json": {
       "model_id": "",
       "version_major": 2,
       "version_minor": 0
      },
      "text/plain": [
       "Batch...:   0%|          | 0/613 [00:00<?, ?it/s]"
      ]
     },
     "metadata": {},
     "output_type": "display_data"
    },
    {
     "data": {
      "application/vnd.jupyter.widget-view+json": {
       "model_id": "",
       "version_major": 2,
       "version_minor": 0
      },
      "text/plain": [
       "Batch...:   0%|          | 0/613 [00:00<?, ?it/s]"
      ]
     },
     "metadata": {},
     "output_type": "display_data"
    },
    {
     "data": {
      "application/vnd.jupyter.widget-view+json": {
       "model_id": "",
       "version_major": 2,
       "version_minor": 0
      },
      "text/plain": [
       "Batch...:   0%|          | 0/613 [00:00<?, ?it/s]"
      ]
     },
     "metadata": {},
     "output_type": "display_data"
    },
    {
     "data": {
      "application/vnd.jupyter.widget-view+json": {
       "model_id": "",
       "version_major": 2,
       "version_minor": 0
      },
      "text/plain": [
       "Batch...:   0%|          | 0/613 [00:00<?, ?it/s]"
      ]
     },
     "metadata": {},
     "output_type": "display_data"
    },
    {
     "data": {
      "application/vnd.jupyter.widget-view+json": {
       "model_id": "",
       "version_major": 2,
       "version_minor": 0
      },
      "text/plain": [
       "Batch...:   0%|          | 0/613 [00:00<?, ?it/s]"
      ]
     },
     "metadata": {},
     "output_type": "display_data"
    },
    {
     "data": {
      "application/vnd.jupyter.widget-view+json": {
       "model_id": "",
       "version_major": 2,
       "version_minor": 0
      },
      "text/plain": [
       "Batch...:   0%|          | 0/613 [00:00<?, ?it/s]"
      ]
     },
     "metadata": {},
     "output_type": "display_data"
    },
    {
     "data": {
      "application/vnd.jupyter.widget-view+json": {
       "model_id": "",
       "version_major": 2,
       "version_minor": 0
      },
      "text/plain": [
       "Batch...:   0%|          | 0/613 [00:00<?, ?it/s]"
      ]
     },
     "metadata": {},
     "output_type": "display_data"
    },
    {
     "data": {
      "application/vnd.jupyter.widget-view+json": {
       "model_id": "",
       "version_major": 2,
       "version_minor": 0
      },
      "text/plain": [
       "Batch...:   0%|          | 0/613 [00:00<?, ?it/s]"
      ]
     },
     "metadata": {},
     "output_type": "display_data"
    },
    {
     "data": {
      "application/vnd.jupyter.widget-view+json": {
       "model_id": "",
       "version_major": 2,
       "version_minor": 0
      },
      "text/plain": [
       "Batch...:   0%|          | 0/613 [00:00<?, ?it/s]"
      ]
     },
     "metadata": {},
     "output_type": "display_data"
    },
    {
     "data": {
      "application/vnd.jupyter.widget-view+json": {
       "model_id": "",
       "version_major": 2,
       "version_minor": 0
      },
      "text/plain": [
       "Batch...:   0%|          | 0/613 [00:00<?, ?it/s]"
      ]
     },
     "metadata": {},
     "output_type": "display_data"
    },
    {
     "data": {
      "application/vnd.jupyter.widget-view+json": {
       "model_id": "",
       "version_major": 2,
       "version_minor": 0
      },
      "text/plain": [
       "Batch...:   0%|          | 0/613 [00:00<?, ?it/s]"
      ]
     },
     "metadata": {},
     "output_type": "display_data"
    },
    {
     "data": {
      "application/vnd.jupyter.widget-view+json": {
       "model_id": "",
       "version_major": 2,
       "version_minor": 0
      },
      "text/plain": [
       "Batch...:   0%|          | 0/613 [00:00<?, ?it/s]"
      ]
     },
     "metadata": {},
     "output_type": "display_data"
    },
    {
     "data": {
      "application/vnd.jupyter.widget-view+json": {
       "model_id": "",
       "version_major": 2,
       "version_minor": 0
      },
      "text/plain": [
       "Batch...:   0%|          | 0/613 [00:00<?, ?it/s]"
      ]
     },
     "metadata": {},
     "output_type": "display_data"
    },
    {
     "data": {
      "application/vnd.jupyter.widget-view+json": {
       "model_id": "",
       "version_major": 2,
       "version_minor": 0
      },
      "text/plain": [
       "Batch...:   0%|          | 0/613 [00:00<?, ?it/s]"
      ]
     },
     "metadata": {},
     "output_type": "display_data"
    },
    {
     "data": {
      "application/vnd.jupyter.widget-view+json": {
       "model_id": "",
       "version_major": 2,
       "version_minor": 0
      },
      "text/plain": [
       "Batch...:   0%|          | 0/613 [00:00<?, ?it/s]"
      ]
     },
     "metadata": {},
     "output_type": "display_data"
    },
    {
     "data": {
      "application/vnd.jupyter.widget-view+json": {
       "model_id": "",
       "version_major": 2,
       "version_minor": 0
      },
      "text/plain": [
       "Batch...:   0%|          | 0/613 [00:00<?, ?it/s]"
      ]
     },
     "metadata": {},
     "output_type": "display_data"
    },
    {
     "data": {
      "application/vnd.jupyter.widget-view+json": {
       "model_id": "",
       "version_major": 2,
       "version_minor": 0
      },
      "text/plain": [
       "Batch...:   0%|          | 0/613 [00:00<?, ?it/s]"
      ]
     },
     "metadata": {},
     "output_type": "display_data"
    },
    {
     "data": {
      "application/vnd.jupyter.widget-view+json": {
       "model_id": "",
       "version_major": 2,
       "version_minor": 0
      },
      "text/plain": [
       "Batch...:   0%|          | 0/613 [00:00<?, ?it/s]"
      ]
     },
     "metadata": {},
     "output_type": "display_data"
    },
    {
     "data": {
      "application/vnd.jupyter.widget-view+json": {
       "model_id": "",
       "version_major": 2,
       "version_minor": 0
      },
      "text/plain": [
       "Batch...:   0%|          | 0/613 [00:00<?, ?it/s]"
      ]
     },
     "metadata": {},
     "output_type": "display_data"
    },
    {
     "data": {
      "application/vnd.jupyter.widget-view+json": {
       "model_id": "",
       "version_major": 2,
       "version_minor": 0
      },
      "text/plain": [
       "Batch...:   0%|          | 0/613 [00:00<?, ?it/s]"
      ]
     },
     "metadata": {},
     "output_type": "display_data"
    },
    {
     "data": {
      "application/vnd.jupyter.widget-view+json": {
       "model_id": "",
       "version_major": 2,
       "version_minor": 0
      },
      "text/plain": [
       "Batch...:   0%|          | 0/613 [00:00<?, ?it/s]"
      ]
     },
     "metadata": {},
     "output_type": "display_data"
    },
    {
     "data": {
      "application/vnd.jupyter.widget-view+json": {
       "model_id": "",
       "version_major": 2,
       "version_minor": 0
      },
      "text/plain": [
       "Batch...:   0%|          | 0/613 [00:00<?, ?it/s]"
      ]
     },
     "metadata": {},
     "output_type": "display_data"
    },
    {
     "data": {
      "application/vnd.jupyter.widget-view+json": {
       "model_id": "",
       "version_major": 2,
       "version_minor": 0
      },
      "text/plain": [
       "Batch...:   0%|          | 0/613 [00:00<?, ?it/s]"
      ]
     },
     "metadata": {},
     "output_type": "display_data"
    },
    {
     "data": {
      "application/vnd.jupyter.widget-view+json": {
       "model_id": "",
       "version_major": 2,
       "version_minor": 0
      },
      "text/plain": [
       "Batch...:   0%|          | 0/613 [00:00<?, ?it/s]"
      ]
     },
     "metadata": {},
     "output_type": "display_data"
    },
    {
     "data": {
      "application/vnd.jupyter.widget-view+json": {
       "model_id": "",
       "version_major": 2,
       "version_minor": 0
      },
      "text/plain": [
       "Batch...:   0%|          | 0/613 [00:00<?, ?it/s]"
      ]
     },
     "metadata": {},
     "output_type": "display_data"
    },
    {
     "data": {
      "application/vnd.jupyter.widget-view+json": {
       "model_id": "",
       "version_major": 2,
       "version_minor": 0
      },
      "text/plain": [
       "Batch...:   0%|          | 0/613 [00:00<?, ?it/s]"
      ]
     },
     "metadata": {},
     "output_type": "display_data"
    },
    {
     "data": {
      "application/vnd.jupyter.widget-view+json": {
       "model_id": "",
       "version_major": 2,
       "version_minor": 0
      },
      "text/plain": [
       "Batch...:   0%|          | 0/613 [00:00<?, ?it/s]"
      ]
     },
     "metadata": {},
     "output_type": "display_data"
    },
    {
     "data": {
      "application/vnd.jupyter.widget-view+json": {
       "model_id": "",
       "version_major": 2,
       "version_minor": 0
      },
      "text/plain": [
       "Batch...:   0%|          | 0/613 [00:00<?, ?it/s]"
      ]
     },
     "metadata": {},
     "output_type": "display_data"
    },
    {
     "data": {
      "application/vnd.jupyter.widget-view+json": {
       "model_id": "",
       "version_major": 2,
       "version_minor": 0
      },
      "text/plain": [
       "Batch...:   0%|          | 0/613 [00:00<?, ?it/s]"
      ]
     },
     "metadata": {},
     "output_type": "display_data"
    },
    {
     "data": {
      "application/vnd.jupyter.widget-view+json": {
       "model_id": "",
       "version_major": 2,
       "version_minor": 0
      },
      "text/plain": [
       "Batch...:   0%|          | 0/613 [00:00<?, ?it/s]"
      ]
     },
     "metadata": {},
     "output_type": "display_data"
    },
    {
     "data": {
      "application/vnd.jupyter.widget-view+json": {
       "model_id": "",
       "version_major": 2,
       "version_minor": 0
      },
      "text/plain": [
       "Batch...:   0%|          | 0/613 [00:00<?, ?it/s]"
      ]
     },
     "metadata": {},
     "output_type": "display_data"
    },
    {
     "data": {
      "application/vnd.jupyter.widget-view+json": {
       "model_id": "",
       "version_major": 2,
       "version_minor": 0
      },
      "text/plain": [
       "Batch...:   0%|          | 0/613 [00:00<?, ?it/s]"
      ]
     },
     "metadata": {},
     "output_type": "display_data"
    },
    {
     "data": {
      "application/vnd.jupyter.widget-view+json": {
       "model_id": "",
       "version_major": 2,
       "version_minor": 0
      },
      "text/plain": [
       "Batch...:   0%|          | 0/613 [00:00<?, ?it/s]"
      ]
     },
     "metadata": {},
     "output_type": "display_data"
    },
    {
     "data": {
      "application/vnd.jupyter.widget-view+json": {
       "model_id": "",
       "version_major": 2,
       "version_minor": 0
      },
      "text/plain": [
       "Batch...:   0%|          | 0/613 [00:00<?, ?it/s]"
      ]
     },
     "metadata": {},
     "output_type": "display_data"
    },
    {
     "data": {
      "application/vnd.jupyter.widget-view+json": {
       "model_id": "",
       "version_major": 2,
       "version_minor": 0
      },
      "text/plain": [
       "Batch...:   0%|          | 0/613 [00:00<?, ?it/s]"
      ]
     },
     "metadata": {},
     "output_type": "display_data"
    },
    {
     "data": {
      "application/vnd.jupyter.widget-view+json": {
       "model_id": "",
       "version_major": 2,
       "version_minor": 0
      },
      "text/plain": [
       "Batch...:   0%|          | 0/613 [00:00<?, ?it/s]"
      ]
     },
     "metadata": {},
     "output_type": "display_data"
    },
    {
     "data": {
      "application/vnd.jupyter.widget-view+json": {
       "model_id": "",
       "version_major": 2,
       "version_minor": 0
      },
      "text/plain": [
       "Batch...:   0%|          | 0/613 [00:00<?, ?it/s]"
      ]
     },
     "metadata": {},
     "output_type": "display_data"
    },
    {
     "data": {
      "application/vnd.jupyter.widget-view+json": {
       "model_id": "",
       "version_major": 2,
       "version_minor": 0
      },
      "text/plain": [
       "Batch...:   0%|          | 0/613 [00:00<?, ?it/s]"
      ]
     },
     "metadata": {},
     "output_type": "display_data"
    },
    {
     "data": {
      "application/vnd.jupyter.widget-view+json": {
       "model_id": "",
       "version_major": 2,
       "version_minor": 0
      },
      "text/plain": [
       "Batch...:   0%|          | 0/613 [00:00<?, ?it/s]"
      ]
     },
     "metadata": {},
     "output_type": "display_data"
    },
    {
     "data": {
      "application/vnd.jupyter.widget-view+json": {
       "model_id": "5e59af83e29741d3a97815b7beb60e8a",
       "version_major": 2,
       "version_minor": 0
      },
      "text/plain": [
       "Batch...:   0%|          | 0/613 [00:00<?, ?it/s]"
      ]
     },
     "metadata": {},
     "output_type": "display_data"
    },
    {
     "data": {
      "application/vnd.jupyter.widget-view+json": {
       "model_id": "1080a783f7384b66a6f7976b57c44994",
       "version_major": 2,
       "version_minor": 0
      },
      "text/plain": [
       "Batch...:   0%|          | 0/613 [00:00<?, ?it/s]"
      ]
     },
     "metadata": {},
     "output_type": "display_data"
    },
    {
     "data": {
      "application/vnd.jupyter.widget-view+json": {
       "model_id": "f1950140d7754ce7a07bffa03944fc6f",
       "version_major": 2,
       "version_minor": 0
      },
      "text/plain": [
       "Batch...:   0%|          | 0/613 [00:00<?, ?it/s]"
      ]
     },
     "metadata": {},
     "output_type": "display_data"
    },
    {
     "data": {
      "application/vnd.jupyter.widget-view+json": {
       "model_id": "7eb6ed186e9144f49a9d0374e1444a91",
       "version_major": 2,
       "version_minor": 0
      },
      "text/plain": [
       "Batch...:   0%|          | 0/613 [00:00<?, ?it/s]"
      ]
     },
     "metadata": {},
     "output_type": "display_data"
    },
    {
     "data": {
      "application/vnd.jupyter.widget-view+json": {
       "model_id": "e36f8d3c110640019d5f3cff43149640",
       "version_major": 2,
       "version_minor": 0
      },
      "text/plain": [
       "Batch...:   0%|          | 0/613 [00:00<?, ?it/s]"
      ]
     },
     "metadata": {},
     "output_type": "display_data"
    },
    {
     "data": {
      "application/vnd.jupyter.widget-view+json": {
       "model_id": "28618b31d902495e81ea6fc92175722b",
       "version_major": 2,
       "version_minor": 0
      },
      "text/plain": [
       "Batch...:   0%|          | 0/613 [00:00<?, ?it/s]"
      ]
     },
     "metadata": {},
     "output_type": "display_data"
    },
    {
     "data": {
      "application/vnd.jupyter.widget-view+json": {
       "model_id": "d19a53be22a846e1be38a6a105132b8e",
       "version_major": 2,
       "version_minor": 0
      },
      "text/plain": [
       "Batch...:   0%|          | 0/613 [00:00<?, ?it/s]"
      ]
     },
     "metadata": {},
     "output_type": "display_data"
    },
    {
     "data": {
      "application/vnd.jupyter.widget-view+json": {
       "model_id": "bf5f48f461424298b53c7c2198a4ee62",
       "version_major": 2,
       "version_minor": 0
      },
      "text/plain": [
       "Batch...:   0%|          | 0/613 [00:00<?, ?it/s]"
      ]
     },
     "metadata": {},
     "output_type": "display_data"
    },
    {
     "data": {
      "application/vnd.jupyter.widget-view+json": {
       "model_id": "9743d5cc261d49ac87747d5a1b5e4b6b",
       "version_major": 2,
       "version_minor": 0
      },
      "text/plain": [
       "Batch...:   0%|          | 0/613 [00:00<?, ?it/s]"
      ]
     },
     "metadata": {},
     "output_type": "display_data"
    },
    {
     "data": {
      "application/vnd.jupyter.widget-view+json": {
       "model_id": "814e31d689db48dcbef0e81bf55f7fe8",
       "version_major": 2,
       "version_minor": 0
      },
      "text/plain": [
       "Batch...:   0%|          | 0/613 [00:00<?, ?it/s]"
      ]
     },
     "metadata": {},
     "output_type": "display_data"
    },
    {
     "data": {
      "application/vnd.jupyter.widget-view+json": {
       "model_id": "c5b529b3a7574b7d9626a7cc88d22866",
       "version_major": 2,
       "version_minor": 0
      },
      "text/plain": [
       "Batch...:   0%|          | 0/613 [00:00<?, ?it/s]"
      ]
     },
     "metadata": {},
     "output_type": "display_data"
    },
    {
     "data": {
      "application/vnd.jupyter.widget-view+json": {
       "model_id": "cff396a6cb454035b279d32963bb238b",
       "version_major": 2,
       "version_minor": 0
      },
      "text/plain": [
       "Batch...:   0%|          | 0/613 [00:00<?, ?it/s]"
      ]
     },
     "metadata": {},
     "output_type": "display_data"
    },
    {
     "data": {
      "application/vnd.jupyter.widget-view+json": {
       "model_id": "4f7719e4056d47f4b2a29efa258f80d7",
       "version_major": 2,
       "version_minor": 0
      },
      "text/plain": [
       "Batch...:   0%|          | 0/613 [00:00<?, ?it/s]"
      ]
     },
     "metadata": {},
     "output_type": "display_data"
    },
    {
     "data": {
      "application/vnd.jupyter.widget-view+json": {
       "model_id": "d1d0eb5150e445dd8270c6f8c619a371",
       "version_major": 2,
       "version_minor": 0
      },
      "text/plain": [
       "Batch...:   0%|          | 0/613 [00:00<?, ?it/s]"
      ]
     },
     "metadata": {},
     "output_type": "display_data"
    },
    {
     "data": {
      "application/vnd.jupyter.widget-view+json": {
       "model_id": "d8d51adfe4714ff385af612274da0390",
       "version_major": 2,
       "version_minor": 0
      },
      "text/plain": [
       "Batch...:   0%|          | 0/613 [00:00<?, ?it/s]"
      ]
     },
     "metadata": {},
     "output_type": "display_data"
    },
    {
     "data": {
      "application/vnd.jupyter.widget-view+json": {
       "model_id": "69163d4196d14f6698d842fbc55773e0",
       "version_major": 2,
       "version_minor": 0
      },
      "text/plain": [
       "Batch...:   0%|          | 0/613 [00:00<?, ?it/s]"
      ]
     },
     "metadata": {},
     "output_type": "display_data"
    },
    {
     "data": {
      "application/vnd.jupyter.widget-view+json": {
       "model_id": "7d3d1ad4f6b14b13bfcd7e0a96c9dbb8",
       "version_major": 2,
       "version_minor": 0
      },
      "text/plain": [
       "Batch...:   0%|          | 0/613 [00:00<?, ?it/s]"
      ]
     },
     "metadata": {},
     "output_type": "display_data"
    },
    {
     "data": {
      "application/vnd.jupyter.widget-view+json": {
       "model_id": "d37c25b2141948c1b1cb5a35128899c8",
       "version_major": 2,
       "version_minor": 0
      },
      "text/plain": [
       "Batch...:   0%|          | 0/613 [00:00<?, ?it/s]"
      ]
     },
     "metadata": {},
     "output_type": "display_data"
    },
    {
     "data": {
      "application/vnd.jupyter.widget-view+json": {
       "model_id": "ac1f17144b5a4ec199d5f31b0eacd381",
       "version_major": 2,
       "version_minor": 0
      },
      "text/plain": [
       "Batch...:   0%|          | 0/613 [00:00<?, ?it/s]"
      ]
     },
     "metadata": {},
     "output_type": "display_data"
    },
    {
     "data": {
      "application/vnd.jupyter.widget-view+json": {
       "model_id": "cbff3f9679d140a397dc0ddc94f40b70",
       "version_major": 2,
       "version_minor": 0
      },
      "text/plain": [
       "Batch...:   0%|          | 0/613 [00:00<?, ?it/s]"
      ]
     },
     "metadata": {},
     "output_type": "display_data"
    },
    {
     "data": {
      "application/vnd.jupyter.widget-view+json": {
       "model_id": "2a246078579b41d2a1ffd567e42167f8",
       "version_major": 2,
       "version_minor": 0
      },
      "text/plain": [
       "Batch...:   0%|          | 0/613 [00:00<?, ?it/s]"
      ]
     },
     "metadata": {},
     "output_type": "display_data"
    },
    {
     "data": {
      "application/vnd.jupyter.widget-view+json": {
       "model_id": "55a1afb0649448a2900919465e95f41f",
       "version_major": 2,
       "version_minor": 0
      },
      "text/plain": [
       "Batch...:   0%|          | 0/613 [00:00<?, ?it/s]"
      ]
     },
     "metadata": {},
     "output_type": "display_data"
    },
    {
     "data": {
      "application/vnd.jupyter.widget-view+json": {
       "model_id": "9ef52ef953754cd9851e96208a502b27",
       "version_major": 2,
       "version_minor": 0
      },
      "text/plain": [
       "Batch...:   0%|          | 0/613 [00:00<?, ?it/s]"
      ]
     },
     "metadata": {},
     "output_type": "display_data"
    },
    {
     "data": {
      "application/vnd.jupyter.widget-view+json": {
       "model_id": "246df8f6c5154793bbc9f38c8fe541d2",
       "version_major": 2,
       "version_minor": 0
      },
      "text/plain": [
       "Batch...:   0%|          | 0/613 [00:00<?, ?it/s]"
      ]
     },
     "metadata": {},
     "output_type": "display_data"
    },
    {
     "data": {
      "application/vnd.jupyter.widget-view+json": {
       "model_id": "64632f322056461a8071ed8597513fba",
       "version_major": 2,
       "version_minor": 0
      },
      "text/plain": [
       "Batch...:   0%|          | 0/613 [00:00<?, ?it/s]"
      ]
     },
     "metadata": {},
     "output_type": "display_data"
    },
    {
     "data": {
      "application/vnd.jupyter.widget-view+json": {
       "model_id": "8891bd87b1e8476baa60c532d578568c",
       "version_major": 2,
       "version_minor": 0
      },
      "text/plain": [
       "Batch...:   0%|          | 0/613 [00:00<?, ?it/s]"
      ]
     },
     "metadata": {},
     "output_type": "display_data"
    },
    {
     "data": {
      "application/vnd.jupyter.widget-view+json": {
       "model_id": "038f4a571c154054a26301903f43f844",
       "version_major": 2,
       "version_minor": 0
      },
      "text/plain": [
       "Batch...:   0%|          | 0/613 [00:00<?, ?it/s]"
      ]
     },
     "metadata": {},
     "output_type": "display_data"
    },
    {
     "data": {
      "application/vnd.jupyter.widget-view+json": {
       "model_id": "989a94c2fa73439c8e003e70abf425bd",
       "version_major": 2,
       "version_minor": 0
      },
      "text/plain": [
       "Batch...:   0%|          | 0/613 [00:00<?, ?it/s]"
      ]
     },
     "metadata": {},
     "output_type": "display_data"
    },
    {
     "data": {
      "application/vnd.jupyter.widget-view+json": {
       "model_id": "24027a0b29f24410aaf23ffbf9dc9fa8",
       "version_major": 2,
       "version_minor": 0
      },
      "text/plain": [
       "Batch...:   0%|          | 0/613 [00:00<?, ?it/s]"
      ]
     },
     "metadata": {},
     "output_type": "display_data"
    },
    {
     "data": {
      "application/vnd.jupyter.widget-view+json": {
       "model_id": "b70cac5ae3154437a7874db8749dd73d",
       "version_major": 2,
       "version_minor": 0
      },
      "text/plain": [
       "Batch...:   0%|          | 0/613 [00:00<?, ?it/s]"
      ]
     },
     "metadata": {},
     "output_type": "display_data"
    },
    {
     "data": {
      "application/vnd.jupyter.widget-view+json": {
       "model_id": "e928b558da244f08b4501623f82e4959",
       "version_major": 2,
       "version_minor": 0
      },
      "text/plain": [
       "Batch...:   0%|          | 0/613 [00:00<?, ?it/s]"
      ]
     },
     "metadata": {},
     "output_type": "display_data"
    },
    {
     "data": {
      "application/vnd.jupyter.widget-view+json": {
       "model_id": "e06492efaa7447dc8bbe960eb5ef4d98",
       "version_major": 2,
       "version_minor": 0
      },
      "text/plain": [
       "Batch...:   0%|          | 0/613 [00:00<?, ?it/s]"
      ]
     },
     "metadata": {},
     "output_type": "display_data"
    },
    {
     "data": {
      "application/vnd.jupyter.widget-view+json": {
       "model_id": "2c2f0219eb2a4610b7587fa7cb3fe0de",
       "version_major": 2,
       "version_minor": 0
      },
      "text/plain": [
       "Batch...:   0%|          | 0/613 [00:00<?, ?it/s]"
      ]
     },
     "metadata": {},
     "output_type": "display_data"
    },
    {
     "data": {
      "application/vnd.jupyter.widget-view+json": {
       "model_id": "74024f1e1bb74a678b2bb933fc037a37",
       "version_major": 2,
       "version_minor": 0
      },
      "text/plain": [
       "Batch...:   0%|          | 0/613 [00:00<?, ?it/s]"
      ]
     },
     "metadata": {},
     "output_type": "display_data"
    },
    {
     "data": {
      "application/vnd.jupyter.widget-view+json": {
       "model_id": "3486da3afbd74346a9c784cdefc9a77e",
       "version_major": 2,
       "version_minor": 0
      },
      "text/plain": [
       "Batch...:   0%|          | 0/613 [00:00<?, ?it/s]"
      ]
     },
     "metadata": {},
     "output_type": "display_data"
    },
    {
     "data": {
      "application/vnd.jupyter.widget-view+json": {
       "model_id": "59a904c8f54047cea3202f7e24be6f98",
       "version_major": 2,
       "version_minor": 0
      },
      "text/plain": [
       "Batch...:   0%|          | 0/613 [00:00<?, ?it/s]"
      ]
     },
     "metadata": {},
     "output_type": "display_data"
    },
    {
     "data": {
      "application/vnd.jupyter.widget-view+json": {
       "model_id": "611d34a44f424cc1bb499fdc82cddc09",
       "version_major": 2,
       "version_minor": 0
      },
      "text/plain": [
       "Batch...:   0%|          | 0/613 [00:00<?, ?it/s]"
      ]
     },
     "metadata": {},
     "output_type": "display_data"
    },
    {
     "data": {
      "application/vnd.jupyter.widget-view+json": {
       "model_id": "833c5aa6df0446ec8025ab2497c1e64b",
       "version_major": 2,
       "version_minor": 0
      },
      "text/plain": [
       "Batch...:   0%|          | 0/613 [00:00<?, ?it/s]"
      ]
     },
     "metadata": {},
     "output_type": "display_data"
    },
    {
     "data": {
      "application/vnd.jupyter.widget-view+json": {
       "model_id": "749ed5f8f9bf4f569c8e5aa8bced112f",
       "version_major": 2,
       "version_minor": 0
      },
      "text/plain": [
       "Batch...:   0%|          | 0/613 [00:00<?, ?it/s]"
      ]
     },
     "metadata": {},
     "output_type": "display_data"
    },
    {
     "data": {
      "application/vnd.jupyter.widget-view+json": {
       "model_id": "3f7f4010ecf34a26ae5cbfe2871eac50",
       "version_major": 2,
       "version_minor": 0
      },
      "text/plain": [
       "Batch...:   0%|          | 0/613 [00:00<?, ?it/s]"
      ]
     },
     "metadata": {},
     "output_type": "display_data"
    },
    {
     "data": {
      "application/vnd.jupyter.widget-view+json": {
       "model_id": "eb075f31e2e04d64a2c8475a6731dfca",
       "version_major": 2,
       "version_minor": 0
      },
      "text/plain": [
       "Batch...:   0%|          | 0/613 [00:00<?, ?it/s]"
      ]
     },
     "metadata": {},
     "output_type": "display_data"
    },
    {
     "data": {
      "application/vnd.jupyter.widget-view+json": {
       "model_id": "e2b2341a7692438aaaa113ba4321216a",
       "version_major": 2,
       "version_minor": 0
      },
      "text/plain": [
       "Batch...:   0%|          | 0/613 [00:00<?, ?it/s]"
      ]
     },
     "metadata": {},
     "output_type": "display_data"
    },
    {
     "data": {
      "application/vnd.jupyter.widget-view+json": {
       "model_id": "9b0f97560e634b0e9808a93bdacd0ca1",
       "version_major": 2,
       "version_minor": 0
      },
      "text/plain": [
       "Batch...:   0%|          | 0/613 [00:00<?, ?it/s]"
      ]
     },
     "metadata": {},
     "output_type": "display_data"
    },
    {
     "data": {
      "application/vnd.jupyter.widget-view+json": {
       "model_id": "af21edaa86434067bb6a6b25598a77bd",
       "version_major": 2,
       "version_minor": 0
      },
      "text/plain": [
       "Batch...:   0%|          | 0/613 [00:00<?, ?it/s]"
      ]
     },
     "metadata": {},
     "output_type": "display_data"
    },
    {
     "data": {
      "application/vnd.jupyter.widget-view+json": {
       "model_id": "b1d3193556ba47a5bc419ee456ebd939",
       "version_major": 2,
       "version_minor": 0
      },
      "text/plain": [
       "Batch...:   0%|          | 0/613 [00:00<?, ?it/s]"
      ]
     },
     "metadata": {},
     "output_type": "display_data"
    },
    {
     "data": {
      "application/vnd.jupyter.widget-view+json": {
       "model_id": "3c86349a4d6a4441ad545d8732634d7f",
       "version_major": 2,
       "version_minor": 0
      },
      "text/plain": [
       "Batch...:   0%|          | 0/613 [00:00<?, ?it/s]"
      ]
     },
     "metadata": {},
     "output_type": "display_data"
    },
    {
     "data": {
      "application/vnd.jupyter.widget-view+json": {
       "model_id": "062350e5e0504ce48bb36696c0d9e494",
       "version_major": 2,
       "version_minor": 0
      },
      "text/plain": [
       "Batch...:   0%|          | 0/613 [00:00<?, ?it/s]"
      ]
     },
     "metadata": {},
     "output_type": "display_data"
    },
    {
     "data": {
      "application/vnd.jupyter.widget-view+json": {
       "model_id": "a0e210d5073e4c72a86d92d1393aea19",
       "version_major": 2,
       "version_minor": 0
      },
      "text/plain": [
       "Batch...:   0%|          | 0/613 [00:00<?, ?it/s]"
      ]
     },
     "metadata": {},
     "output_type": "display_data"
    },
    {
     "data": {
      "application/vnd.jupyter.widget-view+json": {
       "model_id": "6331f5c5c01f4dbb82995c2e8376fe4a",
       "version_major": 2,
       "version_minor": 0
      },
      "text/plain": [
       "Batch...:   0%|          | 0/613 [00:00<?, ?it/s]"
      ]
     },
     "metadata": {},
     "output_type": "display_data"
    },
    {
     "data": {
      "application/vnd.jupyter.widget-view+json": {
       "model_id": "8b0d30d6f6c44f85aa557ad5b10f65c0",
       "version_major": 2,
       "version_minor": 0
      },
      "text/plain": [
       "Batch...:   0%|          | 0/613 [00:00<?, ?it/s]"
      ]
     },
     "metadata": {},
     "output_type": "display_data"
    },
    {
     "data": {
      "application/vnd.jupyter.widget-view+json": {
       "model_id": "6d98100ef9fc4d14a4a2b341644675a0",
       "version_major": 2,
       "version_minor": 0
      },
      "text/plain": [
       "Batch...:   0%|          | 0/613 [00:00<?, ?it/s]"
      ]
     },
     "metadata": {},
     "output_type": "display_data"
    }
   ],
   "source": [
    "epoch_loss = []\n",
    "epoch_acc = []\n",
    "for ii in tqdm(range(N_EPOCHS), desc ='Training...',position=0,leave=True):\n",
    "    average_epoch_loss = []\n",
    "    average_epoch_metric = []\n",
    "    average_epoch_acc = []\n",
    "    \n",
    "    running_loss = 0.0\n",
    "    epoch = create_epoch_with_same_size_batching(length_with_index_dict, BATCH_SIZE , shuffle=True)\n",
    "\n",
    "    for jj, idxs in enumerate(tqdm(epoch,desc = \"Batch...\",position=1, leave=False)): #enumerate(epoch):\n",
    "        model.train()\n",
    "        # index by indices in batch\n",
    "\n",
    "        batch_input_jj = X_train.iloc[idxs]\n",
    "        \n",
    "        batch_input_jj_lens = torch.from_numpy(X_train_lens.iloc[idxs].values)#.to(device)\n",
    "        \n",
    "        batch_input = pad_batch_online(batch_input_jj_lens, batch_input_jj, style=\"zero\")\n",
    "        batch_input = torch.from_numpy(batch_input).to(device, dtype=torch.float32)\n",
    "\n",
    "       \n",
    "        Y_hat = model(batch_input, batch_input_jj_lens)\n",
    "\n",
    "        batch_output_jj = torch.from_numpy(np.stack(Y_train.iloc[idxs].values)).to(device, dtype=torch.float32)\n",
    "\n",
    "\n",
    "        optimizer.zero_grad() # set gradients to zero before performing backprop\n",
    "        loss = criterion(Y_hat.squeeze(), batch_output_jj.to(torch.float32))\n",
    "        average_epoch_loss += [loss.item()]\n",
    "        \n",
    "        #f1score = metric(Y_hat, batch_output_jj)\n",
    "        #average_epoch_metric += [f1score.item()]\n",
    "        \n",
    "        running_loss += loss.item()\n",
    "        loss.backward()  # compute dloss/dx and accumulated into x.grad\n",
    "        optimizer.step()  # compute x += -learning_rate * x.grad\n",
    "\n",
    "        model.eval()\n",
    "        Y_hat = model(batch_input, batch_input_jj_lens)\n",
    "        Y_hat = torch.nn.functional.softmax(Y_hat, dim=1)\n",
    "        \n",
    "        pred_labels = np.argmax(Y_hat.detach().cpu().numpy(),axis=1)\n",
    "        true_labels = np.argmax(batch_output_jj.detach().cpu().numpy(), axis=1)\n",
    "        \n",
    "        acc = np.mean(pred_labels == true_labels)\n",
    "        average_epoch_acc += [acc]\n",
    "    \n",
    "    epoch_loss += [np.mean(average_epoch_loss)]\n",
    "    epoch_acc += [np.mean(average_epoch_acc)]\n",
    "    #print(\"Avg Training Loss: \" + str(np.mean(average_epoch_loss)) + \"\\n\" +\n",
    "    #      #\"Avg Training Score: \" + str(np.mean(average_epoch_metric)) + \"\\n\" +\n",
    "    #      \"Running Training Loss: \" + str(float(running_loss)))\n",
    "    #time.sleep(0.1)\n",
    "    "
   ]
  },
  {
   "cell_type": "code",
   "execution_count": 412,
   "id": "e9c35c57-532f-44c8-a03c-73a0b0387d3f",
   "metadata": {},
   "outputs": [
    {
     "data": {
      "text/plain": [
       "[<matplotlib.lines.Line2D at 0x2df956610>]"
      ]
     },
     "execution_count": 412,
     "metadata": {},
     "output_type": "execute_result"
    },
    {
     "data": {
      "image/png": "[encoded data removed]",
      "text/plain": [
       "<Figure size 640x480 with 1 Axes>"
      ]
     },
     "metadata": {},
     "output_type": "display_data"
    }
   ],
   "source": [
    "fig, ax = plt.subplots()\n",
    "ax.plot(range(len(epoch_loss )), epoch_loss)"
   ]
  },
  {
   "cell_type": "code",
   "execution_count": 413,
   "id": "fe1aba48-bc6f-4a65-98d9-d1db9b582314",
   "metadata": {},
   "outputs": [
    {
     "data": {
      "text/plain": [
       "[<matplotlib.lines.Line2D at 0x308f564d0>]"
      ]
     },
     "execution_count": 413,
     "metadata": {},
     "output_type": "execute_result"
    },
    {
     "data": {
      "image/png": "[encoded data removed]",
      "text/plain": [
       "<Figure size 640x480 with 1 Axes>"
      ]
     },
     "metadata": {},
     "output_type": "display_data"
    }
   ],
   "source": [
    "fig, ax = plt.subplots()\n",
    "ax.plot(range(len(epoch_acc)), epoch_acc)"
   ]
  },
  {
   "cell_type": "code",
   "execution_count": 414,
   "id": "5575c5c7-4d12-469a-9c13-e4ca6963280b",
   "metadata": {},
   "outputs": [
    {
     "data": {
      "application/vnd.jupyter.widget-view+json": {
       "model_id": "24daf927157e40018ad7f66a6221360a",
       "version_major": 2,
       "version_minor": 0
      },
      "text/plain": [
       "  0%|          | 0/2412 [00:00<?, ?it/s]"
      ]
     },
     "metadata": {},
     "output_type": "display_data"
    }
   ],
   "source": [
    "model.eval()\n",
    "true_labels = []\n",
    "pred_labels = []\n",
    "\n",
    "for i,x in enumerate(tqdm(X_valid)):\n",
    "    x_lens = torch.Tensor([X_valid_lens.iloc[i]])\n",
    "    x = torch.from_numpy(np.expand_dims(X_valid.iloc[i],axis=0)).to(torch.float32).to(device)\n",
    "    output = model(x, x_lens)\n",
    "    Y_hat = torch.nn.functional.softmax(output, dim=1)\n",
    "    \n",
    "    batch_output_jj = torch.from_numpy(Y_valid.iloc[i]).to(device,dtype=torch.float32)\n",
    "           \n",
    "    pred_labels += [np.argmax(Y_hat.detach().cpu().numpy(),axis=1)]\n",
    "    true_labels += [np.argmax(batch_output_jj.detach().cpu().numpy())]"
   ]
  },
  {
   "cell_type": "code",
   "execution_count": 415,
   "id": "3454fbf0-bc08-483d-b140-af6ebb5d6bb1",
   "metadata": {},
   "outputs": [
    {
     "name": "stdout",
     "output_type": "stream",
     "text": [
      "               precision    recall  f1-score   support\n",
      "\n",
      "    abc_dlbcl       0.00      0.00      0.00        83\n",
      "          cll       1.00      0.00      0.00       543\n",
      "        dlbcl       0.00      0.00      0.00        26\n",
      "    gcb_dlbcl       0.00      0.00      0.00        60\n",
      "           hd       0.58      1.00      0.73      1400\n",
      "lymphadenitis       0.00      0.00      0.00        20\n",
      "        nlphl       0.00      0.00      0.00       180\n",
      "      thrlbcl       0.00      0.00      0.00        40\n",
      "  unspecified       0.00      0.00      0.00        60\n",
      "\n",
      "     accuracy                           0.58      2412\n",
      "    macro avg       0.18      0.11      0.08      2412\n",
      " weighted avg       0.56      0.58      0.43      2412\n",
      "\n"
     ]
    },
    {
     "name": "stderr",
     "output_type": "stream",
     "text": [
      "Precision and F-score are ill-defined and being set to 0.0 in labels with no predicted samples. Use `zero_division` parameter to control this behavior.\n",
      "Precision and F-score are ill-defined and being set to 0.0 in labels with no predicted samples. Use `zero_division` parameter to control this behavior.\n",
      "Precision and F-score are ill-defined and being set to 0.0 in labels with no predicted samples. Use `zero_division` parameter to control this behavior.\n"
     ]
    }
   ],
   "source": [
    "print(classification_report(true_labels, pred_labels, target_names=np.asarray(target_names),output_dict=False))"
   ]
  },
  {
   "cell_type": "markdown",
   "id": "98a6e8fc-ad29-41ad-94b0-b4504521a1e5",
   "metadata": {},
   "source": [
    "# Stacked and padded input to SVM"
   ]
  },
  {
   "cell_type": "markdown",
   "id": "ca489712-8a7c-458b-af6f-806df6332974",
   "metadata": {},
   "source": [
    "input = pad_batch_online(X_train_lens, X_train, style=\"zero\").reshape((X_train.shape[0],-1))"
   ]
  },
  {
   "cell_type": "code",
   "execution_count": 184,
   "id": "22baa392-972c-4217-a524-ddf4c5220ee2",
   "metadata": {},
   "outputs": [],
   "source": [
    "input_valid = pad_batch_online(X_valid_lens, X_valid, style=\"zero\").reshape((X_valid.shape[0],-1))"
   ]
  },
  {
   "cell_type": "code",
   "execution_count": 185,
   "id": "27a9bd0e-4409-4576-b28b-855bef17ee4c",
   "metadata": {
    "scrolled": true
   },
   "outputs": [
    {
     "data": {
      "text/html": [
       "<style>#sk-container-id-2 {color: black;}#sk-container-id-2 pre{padding: 0;}#sk-container-id-2 div.sk-toggleable {background-color: white;}#sk-container-id-2 label.sk-toggleable__label {cursor: pointer;display: block;width: 100%;margin-bottom: 0;padding: 0.3em;box-sizing: border-box;text-align: center;}#sk-container-id-2 label.sk-toggleable__label-arrow:before {content: \"▸\";float: left;margin-right: 0.25em;color: #696969;}#sk-container-id-2 label.sk-toggleable__label-arrow:hover:before {color: black;}#sk-container-id-2 div.sk-estimator:hover label.sk-toggleable__label-arrow:before {color: black;}#sk-container-id-2 div.sk-toggleable__content {max-height: 0;max-width: 0;overflow: hidden;text-align: left;background-color: #f0f8ff;}#sk-container-id-2 div.sk-toggleable__content pre {margin: 0.2em;color: black;border-radius: 0.25em;background-color: #f0f8ff;}#sk-container-id-2 input.sk-toggleable__control:checked~div.sk-toggleable__content {max-height: 200px;max-width: 100%;overflow: auto;}#sk-container-id-2 input.sk-toggleable__control:checked~label.sk-toggleable__label-arrow:before {content: \"▾\";}#sk-container-id-2 div.sk-estimator input.sk-toggleable__control:checked~label.sk-toggleable__label {background-color: #d4ebff;}#sk-container-id-2 div.sk-label input.sk-toggleable__control:checked~label.sk-toggleable__label {background-color: #d4ebff;}#sk-container-id-2 input.sk-hidden--visually {border: 0;clip: rect(1px 1px 1px 1px);clip: rect(1px, 1px, 1px, 1px);height: 1px;margin: -1px;overflow: hidden;padding: 0;position: absolute;width: 1px;}#sk-container-id-2 div.sk-estimator {font-family: monospace;background-color: #f0f8ff;border: 1px dotted black;border-radius: 0.25em;box-sizing: border-box;margin-bottom: 0.5em;}#sk-container-id-2 div.sk-estimator:hover {background-color: #d4ebff;}#sk-container-id-2 div.sk-parallel-item::after {content: \"\";width: 100%;border-bottom: 1px solid gray;flex-grow: 1;}#sk-container-id-2 div.sk-label:hover label.sk-toggleable__label {background-color: #d4ebff;}#sk-container-id-2 div.sk-serial::before {content: \"\";position: absolute;border-left: 1px solid gray;box-sizing: border-box;top: 0;bottom: 0;left: 50%;z-index: 0;}#sk-container-id-2 div.sk-serial {display: flex;flex-direction: column;align-items: center;background-color: white;padding-right: 0.2em;padding-left: 0.2em;position: relative;}#sk-container-id-2 div.sk-item {position: relative;z-index: 1;}#sk-container-id-2 div.sk-parallel {display: flex;align-items: stretch;justify-content: center;background-color: white;position: relative;}#sk-container-id-2 div.sk-item::before, #sk-container-id-2 div.sk-parallel-item::before {content: \"\";position: absolute;border-left: 1px solid gray;box-sizing: border-box;top: 0;bottom: 0;left: 50%;z-index: -1;}#sk-container-id-2 div.sk-parallel-item {display: flex;flex-direction: column;z-index: 1;position: relative;background-color: white;}#sk-container-id-2 div.sk-parallel-item:first-child::after {align-self: flex-end;width: 50%;}#sk-container-id-2 div.sk-parallel-item:last-child::after {align-self: flex-start;width: 50%;}#sk-container-id-2 div.sk-parallel-item:only-child::after {width: 0;}#sk-container-id-2 div.sk-dashed-wrapped {border: 1px dashed gray;margin: 0 0.4em 0.5em 0.4em;box-sizing: border-box;padding-bottom: 0.4em;background-color: white;}#sk-container-id-2 div.sk-label label {font-family: monospace;font-weight: bold;display: inline-block;line-height: 1.2em;}#sk-container-id-2 div.sk-label-container {text-align: center;}#sk-container-id-2 div.sk-container {/* jupyter's `normalize.less` sets `[hidden] { display: none; }` but bootstrap.min.css set `[hidden] { display: none !important; }` so we also need the `!important` here to be able to override the default hidden behavior on the sphinx rendered scikit-learn.org. See: https://github.com/scikit-learn/scikit-learn/issues/21755 */display: inline-block !important;position: relative;}#sk-container-id-2 div.sk-text-repr-fallback {display: none;}</style><div id=\"sk-container-id-2\" class=\"sk-top-container\"><div class=\"sk-text-repr-fallback\"><pre>SVC()</pre><b>In a Jupyter environment, please rerun this cell to show the HTML representation or trust the notebook. <br />On GitHub, the HTML representation is unable to render, please try loading this page with nbviewer.org.</b></div><div class=\"sk-container\" hidden><div class=\"sk-item\"><div class=\"sk-estimator sk-toggleable\"><input class=\"sk-toggleable__control sk-hidden--visually\" id=\"sk-estimator-id-2\" type=\"checkbox\" checked><label for=\"sk-estimator-id-2\" class=\"sk-toggleable__label sk-toggleable__label-arrow\">SVC</label><div class=\"sk-toggleable__content\"><pre>SVC()</pre></div></div></div></div></div>"
      ],
      "text/plain": [
       "SVC()"
      ]
     },
     "execution_count": 185,
     "metadata": {},
     "output_type": "execute_result"
    }
   ],
   "source": [
    "model = SVC(kernel='rbf')\n",
    "model.fit(input, Y_train.apply(lambda x: np.where(x==1)[0][0]))"
   ]
  },
  {
   "cell_type": "code",
   "execution_count": 186,
   "id": "e1823d32-95dc-4782-909b-64036dcf7fb0",
   "metadata": {},
   "outputs": [
    {
     "data": {
      "text/plain": [
       "array([2, 0, 3, 1, 5])"
      ]
     },
     "execution_count": 186,
     "metadata": {},
     "output_type": "execute_result"
    }
   ],
   "source": [
    "Y_valid.apply(lambda x: np.where(x==1)[0][0]).unique()"
   ]
  },
  {
   "cell_type": "code",
   "execution_count": 187,
   "id": "be4a344e-b62e-4046-ab3a-836e82b7c4f6",
   "metadata": {},
   "outputs": [],
   "source": [
    "Y_pred = model.predict(input_valid)"
   ]
  },
  {
   "cell_type": "code",
   "execution_count": 190,
   "id": "cb5a3171-4ff8-4cac-b020-1b4cdfb2489b",
   "metadata": {},
   "outputs": [
    {
     "data": {
      "text/plain": [
       "array([0, 1, 2, 3, 5])"
      ]
     },
     "execution_count": 190,
     "metadata": {},
     "output_type": "execute_result"
    }
   ],
   "source": [
    "np.unique(Y_pred)"
   ]
  },
  {
   "cell_type": "code",
   "execution_count": 191,
   "id": "265b26f1-e830-4ba9-984f-4c417be2ab13",
   "metadata": {
    "scrolled": true
   },
   "outputs": [
    {
     "name": "stdout",
     "output_type": "stream",
     "text": [
      "              precision    recall  f1-score   support\n",
      "\n",
      "           0       0.56      0.87      0.68       133\n",
      "           1       0.84      0.28      0.42        57\n",
      "           2       0.63      0.65      0.64       113\n",
      "           3       1.00      0.19      0.32        31\n",
      "           5       1.00      0.07      0.13        14\n",
      "\n",
      "    accuracy                           0.61       348\n",
      "   macro avg       0.81      0.41      0.44       348\n",
      "weighted avg       0.69      0.61      0.57       348\n",
      "\n"
     ]
    }
   ],
   "source": [
    "print(classification_report(Y_valid.apply(lambda x: np.where(x==1)[0][0]), Y_pred, ))"
   ]
  }
 ],
 "metadata": {
  "kernelspec": {
   "display_name": "Python 3 (ipykernel)",
   "language": "python",
   "name": "python3"
  },
  "language_info": {
   "codemirror_mode": {
    "name": "ipython",
    "version": 3
   },
   "file_extension": ".py",
   "mimetype": "text/x-python",
   "name": "python",
   "nbconvert_exporter": "python",
   "pygments_lexer": "ipython3",
   "version": "3.11.4"
  }
 },
 "nbformat": 4,
 "nbformat_minor": 5
}
