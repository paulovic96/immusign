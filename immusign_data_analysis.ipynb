{
 "cells": [
  {
   "cell_type": "code",
   "execution_count": 1,
   "id": "25fad081",
   "metadata": {},
   "outputs": [],
   "source": [
    "import numpy as np\n",
    "import pandas as pd\n",
    "from tqdm.notebook import tqdm\n",
    "np.float = float\n",
    "np.bool = bool\n",
    "np.int = int\n",
    "import matplotlib.pyplot as plt\n",
    "import seaborn as sns\n",
    "import random\n",
    "import torch\n",
    "import time\n",
    "from IPython.display import display, clear_output\n",
    "from torch.nn.utils.rnn import pack_padded_sequence, pad_packed_sequence\n",
    "import utils"
   ]
  },
  {
   "cell_type": "code",
   "execution_count": 2,
   "id": "e630106d",
   "metadata": {},
   "outputs": [],
   "source": [
    "df_meta = pd.read_csv(\"/Users/labadmin/Projects/immusign/data/lymphoma-reps-file-infos.csv\")\n",
    "lymphoma_types = df_meta[\"lymphoma_specification\"].unique()"
   ]
  },
  {
   "cell_type": "code",
   "execution_count": 3,
   "id": "baff45fc",
   "metadata": {},
   "outputs": [
    {
     "data": {
      "text/plain": [
       "Index(['pcr_target_locus', 'organism', 'template', 'tissue', 'lymphoma_type',\n",
       "       'lymphoma_specification', 'clones.txt.name', 'subject_id', 'sex',\n",
       "       'dosc', 'age', 'dob'],\n",
       "      dtype='object')"
      ]
     },
     "execution_count": 3,
     "metadata": {},
     "output_type": "execute_result"
    }
   ],
   "source": [
    "df_meta.columns"
   ]
  },
  {
   "cell_type": "code",
   "execution_count": 4,
   "id": "07b05eae",
   "metadata": {},
   "outputs": [
    {
     "data": {
      "text/plain": [
       "array(['cll', 'hd', 'unspecified', 'abc_dlbcl', 'nlphl', 'thrlbcl',\n",
       "       'dlbcl', 'lymphadenitis', 'gcb_dlbcl'], dtype=object)"
      ]
     },
     "execution_count": 4,
     "metadata": {},
     "output_type": "execute_result"
    }
   ],
   "source": [
    "lymphoma_types"
   ]
  },
  {
   "cell_type": "code",
   "execution_count": 46,
   "id": "fde57e46",
   "metadata": {},
   "outputs": [
    {
     "data": {
      "application/vnd.jupyter.widget-view+json": {
       "model_id": "fb75246502e741e4be489c94059e027c",
       "version_major": 2,
       "version_minor": 0
      },
      "text/plain": [
       "  0%|          | 0/1394 [00:00<?, ?it/s]"
      ]
     },
     "metadata": {},
     "output_type": "display_data"
    }
   ],
   "source": [
    "df_raw = []\n",
    "for file in tqdm(df_meta[\"clones.txt.name\"].values):\n",
    "    df_file = pd.read_csv(\"/Users/labadmin/Projects/immusign/data/clones_mit_kidera/%s\" % file, sep=\"\\t\")\n",
    "    df_file[\"clones.txt.name\"] = file\n",
    "    df_raw.append(df_file)\n",
    "df_raw = pd.concat(df_raw)\n",
    "df_raw[\"cloneFraction\"] = df_raw[\"cloneFraction\"].apply(lambda x: float(x.replace(\",\",\".\").replace(\"+\",\"-\")) if type(x) == str else float(x))"
   ]
  },
  {
   "cell_type": "code",
   "execution_count": 51,
   "id": "475db4d5-ce9e-4e50-9a6c-ac6d8752e4f3",
   "metadata": {},
   "outputs": [
    {
     "data": {
      "text/plain": [
       "Index(['cloneId', 'cloneCount', 'cloneFraction', 'nSeqCDR3', 'aaSeqCDR3',\n",
       "       'bestVGene', 'bestDGene', 'bestJGene', 'vBestIdentityPercent',\n",
       "       'lengthOfCDR3', 'targetSequences', 'allVGenes', 'allDGenes',\n",
       "       'allJGenes', 'allVHits', 'allDHits', 'allJHits', 'allVAlignments',\n",
       "       'allDAlignments', 'allJAlignments', 'KF1', 'KF2', 'KF3', 'KF4', 'KF5',\n",
       "       'KF6', 'KF7', 'KF8', 'KF9', 'KF10', 'clones.txt.name',\n",
       "       'dBestIdentityPercent', 'jBestIdentityPercent', 'aaSeqCDR2',\n",
       "       'aaSeqCDR1', 'aaSeqFR2', 'aaSeqFR3', 'aaSeqFR4',\n",
       "       'aaSeqImputedVDJRegion'],\n",
       "      dtype='object')"
      ]
     },
     "execution_count": 51,
     "metadata": {},
     "output_type": "execute_result"
    }
   ],
   "source": [
    "df_raw.columns"
   ]
  },
  {
   "cell_type": "markdown",
   "id": "d244d37e-813b-4db5-b43e-e348fc029d69",
   "metadata": {},
   "source": [
    "# Load Data read from R-Script"
   ]
  },
  {
   "cell_type": "code",
   "execution_count": 7,
   "id": "6371eb1f-42be-440e-a744-a4364b7e0fc4",
   "metadata": {},
   "outputs": [],
   "source": [
    "import rpy2.robjects as robjects\n",
    "robjects.r['load'](\"/Users/labadmin/Projects/immusign/immusign_40000_reads_with_mutations.RData\")\n",
    "twb = robjects.r['twb']"
   ]
  },
  {
   "cell_type": "code",
   "execution_count": 18,
   "id": "fce4991b-c577-493b-ab24-18e9bafe692b",
   "metadata": {},
   "outputs": [],
   "source": [
    "df = utils.convert_rtwb_to_pdtwb(twb)"
   ]
  },
  {
   "cell_type": "code",
   "execution_count": 19,
   "id": "b946aeb3-b426-490c-bd73-c45a14851e90",
   "metadata": {},
   "outputs": [],
   "source": [
    "df[\"clones.txt.name\"] = df[\"sample\"].apply(lambda x: x + \".clones.txt\")"
   ]
  },
  {
   "cell_type": "code",
   "execution_count": 20,
   "id": "ddf5715b-6bd3-429b-8ef9-2f1960c0973f",
   "metadata": {},
   "outputs": [
    {
     "data": {
      "text/plain": [
       "Index(['Umi.count', 'Umi.proportion', 'Read.count', 'Read.proportion',\n",
       "       'CDR3.nucleotide.sequence', 'CDR3.amino.acid.sequence', 'V.gene',\n",
       "       'J.gene', 'D.gene', 'V.end', 'J.start', 'D5.end', 'D3.end',\n",
       "       'VD.insertions', 'DJ.insertions', 'Total.insertions', 'sample',\n",
       "       'cloneId', 'clones.txt.name'],\n",
       "      dtype='object')"
      ]
     },
     "execution_count": 20,
     "metadata": {},
     "output_type": "execute_result"
    }
   ],
   "source": [
    "df.columns"
   ]
  },
  {
   "cell_type": "markdown",
   "id": "9c4b8ed7-7644-406e-b804-f5228be408dd",
   "metadata": {},
   "source": [
    "# Add metric info"
   ]
  },
  {
   "cell_type": "code",
   "execution_count": 21,
   "id": "61026e0b-7574-4a73-844d-9b0d6686bd1b",
   "metadata": {},
   "outputs": [],
   "source": [
    "stats = pd.read_csv(\"/Users/labadmin/Projects/immusign/output/stats.csv\", sep=\";\")\n",
    "stats.rename(columns={stats.columns[0]:\"sample\"}, inplace=True)"
   ]
  },
  {
   "cell_type": "code",
   "execution_count": 22,
   "id": "7966d974-f7f1-46cf-b47f-0d430764ea4d",
   "metadata": {},
   "outputs": [],
   "source": [
    "df = df.merge(stats.iloc[:-2], on = \"sample\")"
   ]
  },
  {
   "cell_type": "code",
   "execution_count": 23,
   "id": "586b816e",
   "metadata": {},
   "outputs": [],
   "source": [
    "df = df.merge(df_meta, on = \"clones.txt.name\")"
   ]
  },
  {
   "cell_type": "code",
   "execution_count": 24,
   "id": "4d34b3a2",
   "metadata": {},
   "outputs": [
    {
     "data": {
      "text/plain": [
       "Index(['Umi.count', 'Umi.proportion', 'Read.count', 'Read.proportion',\n",
       "       'CDR3.nucleotide.sequence', 'CDR3.amino.acid.sequence', 'V.gene',\n",
       "       'J.gene', 'D.gene', 'V.end', 'J.start', 'D5.end', 'D3.end',\n",
       "       'VD.insertions', 'DJ.insertions', 'Total.insertions', 'sample',\n",
       "       'cloneId', 'clones.txt.name', '#Nucleotide clones',\n",
       "       '#Aminoacid clonotypes', '%Aminoacid clonotypes', '#In-frames',\n",
       "       '%In-frames', '#Out-of-frames', '%Out-of-frames', 'Sum.reads',\n",
       "       'Min.reads', '1st Qu.reads', 'Median.reads', 'Mean.reads',\n",
       "       '3rd Qu.reads', 'Max.reads', 'Sum.UMIs', 'Min.UMIs', '1st Qu.UMIs',\n",
       "       'Median.UMIs', 'Mean.UMIs', '3rd Qu.UMIs', 'Max.UMIs', 'Clonality',\n",
       "       'twb.shannon', 'twb.simp', 'pcr_target_locus', 'organism', 'template',\n",
       "       'tissue', 'lymphoma_type', 'lymphoma_specification', 'subject_id',\n",
       "       'sex', 'dosc', 'age', 'dob'],\n",
       "      dtype='object')"
      ]
     },
     "execution_count": 24,
     "metadata": {},
     "output_type": "execute_result"
    }
   ],
   "source": [
    "df.columns"
   ]
  },
  {
   "cell_type": "markdown",
   "id": "ea5a2dea-2992-456d-8fac-134d1d30d84b",
   "metadata": {},
   "source": [
    "# Add correct clone Id before adding info from raw files"
   ]
  },
  {
   "cell_type": "code",
   "execution_count": 108,
   "id": "43dfade0-0c2c-45e5-940c-04e0f875104f",
   "metadata": {},
   "outputs": [
    {
     "data": {
      "application/vnd.jupyter.widget-view+json": {
       "model_id": "e7dd6779275b4ea38dddf33e17f17bbe",
       "version_major": 2,
       "version_minor": 0
      },
      "text/plain": [
       "  0%|          | 0/679 [00:00<?, ?it/s]"
      ]
     },
     "metadata": {},
     "output_type": "display_data"
    }
   ],
   "source": [
    "df[\"cloneId\"] = None\n",
    "\n",
    "for file in tqdm(df[\"clones.txt.name\"].unique()):\n",
    "    df_sub_file = df[df[\"clones.txt.name\"] == file]\n",
    "    df_raw_sub_file = df_raw[df_raw[\"clones.txt.name\"] == file]\n",
    "    for i, index_row in enumerate(df_sub_file.iterrows()):\n",
    "        index, row = index_row[0], index_row[1]  \n",
    "        if row[\"CDR3.nucleotide.sequence\"] == df_raw_sub_file.iloc[i][\"nSeqCDR3\"]:\n",
    "            df.loc[index,\"cloneId\"] = df_raw_sub_file.iloc[i][\"cloneId\"]"
   ]
  },
  {
   "cell_type": "code",
   "execution_count": 116,
   "id": "22aa0774-3c99-4e4f-8d71-157b33310d2b",
   "metadata": {},
   "outputs": [],
   "source": [
    "df2 = df.merge(df_raw, left_on=[\"clones.txt.name\", \"cloneId\", \"CDR3.nucleotide.sequence\"], right_on =[\"clones.txt.name\", \"cloneId\", \"nSeqCDR3\"], how = \"left\")"
   ]
  },
  {
   "cell_type": "code",
   "execution_count": 55,
   "id": "787011ca-f354-4083-bc53-7f566231148e",
   "metadata": {},
   "outputs": [
    {
     "data": {
      "text/plain": [
       "Index(['Umi.count', 'Umi.proportion', 'Read.count', 'Read.proportion',\n",
       "       'CDR3.nucleotide.sequence', 'CDR3.amino.acid.sequence', 'V.gene',\n",
       "       'J.gene', 'D.gene', 'V.end', 'J.start', 'D5.end', 'D3.end',\n",
       "       'VD.insertions', 'DJ.insertions', 'Total.insertions', 'sample',\n",
       "       'cloneId', 'clones.txt.name', '#Nucleotide clones',\n",
       "       '#Aminoacid clonotypes', '%Aminoacid clonotypes', '#In-frames',\n",
       "       '%In-frames', '#Out-of-frames', '%Out-of-frames', 'Sum.reads',\n",
       "       'Min.reads', '1st Qu.reads', 'Median.reads', 'Mean.reads',\n",
       "       '3rd Qu.reads', 'Max.reads', 'Sum.UMIs', 'Min.UMIs', '1st Qu.UMIs',\n",
       "       'Median.UMIs', 'Mean.UMIs', '3rd Qu.UMIs', 'Max.UMIs', 'Clonality',\n",
       "       'twb.shannon', 'twb.simp', 'pcr_target_locus', 'organism', 'template',\n",
       "       'tissue', 'lymphoma_type', 'lymphoma_specification', 'subject_id',\n",
       "       'sex', 'dosc', 'age', 'dob', 'cloneCount', 'cloneFraction', 'nSeqCDR3',\n",
       "       'aaSeqCDR3', 'bestVGene', 'bestDGene', 'bestJGene',\n",
       "       'vBestIdentityPercent', 'lengthOfCDR3', 'targetSequences', 'allVGenes',\n",
       "       'allDGenes', 'allJGenes', 'allVHits', 'allDHits', 'allJHits',\n",
       "       'allVAlignments', 'allDAlignments', 'allJAlignments', 'KF1', 'KF2',\n",
       "       'KF3', 'KF4', 'KF5', 'KF6', 'KF7', 'KF8', 'KF9', 'KF10',\n",
       "       'dBestIdentityPercent', 'jBestIdentityPercent', 'aaSeqCDR2',\n",
       "       'aaSeqCDR1', 'aaSeqFR2', 'aaSeqFR3', 'aaSeqFR4',\n",
       "       'aaSeqImputedVDJRegion'],\n",
       "      dtype='object')"
      ]
     },
     "execution_count": 55,
     "metadata": {},
     "output_type": "execute_result"
    }
   ],
   "source": [
    "df2.columns"
   ]
  },
  {
   "cell_type": "code",
   "execution_count": 122,
   "id": "8c917747",
   "metadata": {},
   "outputs": [],
   "source": [
    "#df2.to_pickle(\"immusign_40000_reads_with_mutations_merged_raw_data.pkl\")"
   ]
  },
  {
   "cell_type": "markdown",
   "id": "f4e6ac55",
   "metadata": {},
   "source": [
    "# Small Analysis"
   ]
  },
  {
   "cell_type": "code",
   "execution_count": 52,
   "id": "2fc6d4d1",
   "metadata": {},
   "outputs": [],
   "source": [
    "df = pd.read_pickle(\"immusign_40000_reads_with_out_of_frame_merged_raw_data.pkl\")"
   ]
  },
  {
   "cell_type": "code",
   "execution_count": 5,
   "id": "994b6f45-9fe1-4c67-8f92-18d13dd1cd15",
   "metadata": {},
   "outputs": [
    {
     "data": {
      "text/plain": [
       "Index(['Umi.count', 'Umi.proportion', 'Read.count', 'Read.proportion',\n",
       "       'CDR3.nucleotide.sequence', 'CDR3.amino.acid.sequence', 'V.gene',\n",
       "       'J.gene', 'D.gene', 'V.end', 'J.start', 'D5.end', 'D3.end',\n",
       "       'VD.insertions', 'DJ.insertions', 'Total.insertions', 'sample',\n",
       "       'cloneId', 'clones.txt.name', '#Nucleotide clones',\n",
       "       '#Aminoacid clonotypes', '%Aminoacid clonotypes', '#In-frames',\n",
       "       '%In-frames', '#Out-of-frames', '%Out-of-frames', 'Sum.reads',\n",
       "       'Min.reads', '1st Qu.reads', 'Median.reads', 'Mean.reads',\n",
       "       '3rd Qu.reads', 'Max.reads', 'Sum.UMIs', 'Min.UMIs', '1st Qu.UMIs',\n",
       "       'Median.UMIs', 'Mean.UMIs', '3rd Qu.UMIs', 'Max.UMIs', 'Clonality',\n",
       "       'twb.shannon', 'twb.simp', 'pcr_target_locus', 'organism', 'template',\n",
       "       'tissue', 'lymphoma_type', 'lymphoma_specification', 'subject_id',\n",
       "       'sex', 'dosc', 'age', 'dob', 'cloneCount', 'cloneFraction', 'nSeqCDR3',\n",
       "       'aaSeqCDR3', 'bestVGene', 'bestDGene', 'bestJGene',\n",
       "       'vBestIdentityPercent', 'lengthOfCDR3', 'targetSequences', 'allVGenes',\n",
       "       'allDGenes', 'allJGenes', 'allVHits', 'allDHits', 'allJHits',\n",
       "       'allVAlignments', 'allDAlignments', 'allJAlignments', 'KF1', 'KF2',\n",
       "       'KF3', 'KF4', 'KF5', 'KF6', 'KF7', 'KF8', 'KF9', 'KF10',\n",
       "       'dBestIdentityPercent', 'jBestIdentityPercent', 'aaSeqCDR2',\n",
       "       'aaSeqCDR1', 'aaSeqFR2', 'aaSeqFR3', 'aaSeqFR4',\n",
       "       'aaSeqImputedVDJRegion'],\n",
       "      dtype='object')"
      ]
     },
     "execution_count": 5,
     "metadata": {},
     "output_type": "execute_result"
    }
   ],
   "source": [
    "df.columns"
   ]
  },
  {
   "cell_type": "markdown",
   "id": "84bc5f42",
   "metadata": {},
   "source": [
    "## Columns\n",
    "cloneId --> Identified clones per sample <br>\n",
    "cloneCount --> Absolute number found in sample <br>\n",
    "cloneFraction --> Relative number found in sample (Attention: smaller than cloneCount/sum(cloneCount) because cut off < 2<br>\n",
    "nSeqCDR3 --> Nucleotid sequence <br>\n",
    "aaSeqCDR3 --> Amino Acid Sequence <br>\n",
    "bestVGene --> best matching VGene <br>\n",
    "bestDGene --> best matching DGene <br>\n",
    "bestJGene --> best matching JGene <br>\n",
    "vBestIdentityPercent --> Certainty of best matching VGene <br>\n",
    "lengthOfCDR3 --> length of nucleotid sequence <br>\n",
    "targetSequences --> Full sequence of nSeqCDR3 <br>\n",
    "allVGenes --> All possible matches of V genes<br>\n",
    "allDGenes --> All possible matches of D genes <br>\n",
    "allJGenes --> All possible matches of J genes <br>\n",
    "allVHits --> All V hits <br>\n",
    "allDHits --> All D hits <br>\n",
    "allJHits --> All J hits <br>\n",
    "allVAlignments --> Alignments for each V hit <br>\n",
    "allDAlignments --> Alignments for each D hit <br>\n",
    "allJAlignments --> Alignments for each J hit <br>\n",
    "KF1 - KF10 --> Kidera Factors <br>\n",
    "clones.txt.name --> Sample file <br>\n",
    "dBestIdentityPercent  --> Certainty of best matching DGene  <br>\n",
    "jBestIdentityPercent  --> Certainty of best matching JGene  <br>\n",
    "aaSeqCDR2 --> Amino Acid Sequence <br>\n",
    "aaSeqCDR1 --> Amino Acid Sequence <br>\n",
    "aaSeqFR2 --> Amino Acid Sequence  <br>\n",
    "aaSeqFR3 --> Amino Acid Sequence  <br>\n",
    "aaSeqFR4 --> Amino Acid Sequence <br>\n",
    "aaSeqImputedVDJRegion --> Amino Acid Sequence <br>\n",
    "<br>\n",
    "--- META DATA ---<br>\n",
    "pcr_target_locus --> Target Region of PCR ('IGH', 'TRB', 'IGHFR3', 'IGHFR2', 'TRBFR3') <br>\n",
    "organism --> Organism of sample (hs) <br>\n",
    "template --> DNA <br>\n",
    "tissue --> Blood or Tissue['pb', 'tm'] <br>\n",
    "lymphoma_type --> Identified lymphoma type <br>\n",
    "lymphoma_specification --> dentified lymphoma type <br>\n",
    "subject_id <br>\n",
    "sex <br>\n",
    "dosc --> date of sample collection <br>\n",
    "age <br>\n",
    "dob -->  date of birth<br>\n"
   ]
  },
  {
   "cell_type": "code",
   "execution_count": 4,
   "id": "42a4f540",
   "metadata": {},
   "outputs": [
    {
     "data": {
      "text/html": [
       "<div>\n",
       "<style scoped>\n",
       "    .dataframe tbody tr th:only-of-type {\n",
       "        vertical-align: middle;\n",
       "    }\n",
       "\n",
       "    .dataframe tbody tr th {\n",
       "        vertical-align: top;\n",
       "    }\n",
       "\n",
       "    .dataframe thead th {\n",
       "        text-align: right;\n",
       "    }\n",
       "</style>\n",
       "<table border=\"1\" class=\"dataframe\">\n",
       "  <thead>\n",
       "    <tr style=\"text-align: right;\">\n",
       "      <th></th>\n",
       "      <th>count</th>\n",
       "      <th>mean</th>\n",
       "      <th>std</th>\n",
       "      <th>min</th>\n",
       "      <th>25%</th>\n",
       "      <th>50%</th>\n",
       "      <th>75%</th>\n",
       "      <th>max</th>\n",
       "    </tr>\n",
       "  </thead>\n",
       "  <tbody>\n",
       "    <tr>\n",
       "      <th>Umi.count</th>\n",
       "      <td>1546613.0</td>\n",
       "      <td>17.418807</td>\n",
       "      <td>397.543918</td>\n",
       "      <td>2.000000e+00</td>\n",
       "      <td>4.000000</td>\n",
       "      <td>6.000000</td>\n",
       "      <td>11.000000</td>\n",
       "      <td>40000.000000</td>\n",
       "    </tr>\n",
       "    <tr>\n",
       "      <th>Umi.proportion</th>\n",
       "      <td>1546613.0</td>\n",
       "      <td>0.000439</td>\n",
       "      <td>0.009979</td>\n",
       "      <td>5.004504e-05</td>\n",
       "      <td>0.000093</td>\n",
       "      <td>0.000148</td>\n",
       "      <td>0.000278</td>\n",
       "      <td>1.000000</td>\n",
       "    </tr>\n",
       "    <tr>\n",
       "      <th>Read.count</th>\n",
       "      <td>1546613.0</td>\n",
       "      <td>17.418807</td>\n",
       "      <td>397.543918</td>\n",
       "      <td>2.000000e+00</td>\n",
       "      <td>4.000000</td>\n",
       "      <td>6.000000</td>\n",
       "      <td>11.000000</td>\n",
       "      <td>40000.000000</td>\n",
       "    </tr>\n",
       "    <tr>\n",
       "      <th>Read.proportion</th>\n",
       "      <td>1546613.0</td>\n",
       "      <td>0.000439</td>\n",
       "      <td>0.009979</td>\n",
       "      <td>5.004504e-05</td>\n",
       "      <td>0.000093</td>\n",
       "      <td>0.000148</td>\n",
       "      <td>0.000278</td>\n",
       "      <td>1.000000</td>\n",
       "    </tr>\n",
       "    <tr>\n",
       "      <th>VD.insertions</th>\n",
       "      <td>1546613.0</td>\n",
       "      <td>5.062404</td>\n",
       "      <td>19.777911</td>\n",
       "      <td>-2.360000e+02</td>\n",
       "      <td>-1.000000</td>\n",
       "      <td>2.000000</td>\n",
       "      <td>5.000000</td>\n",
       "      <td>229.000000</td>\n",
       "    </tr>\n",
       "    <tr>\n",
       "      <th>DJ.insertions</th>\n",
       "      <td>1546613.0</td>\n",
       "      <td>2.773265</td>\n",
       "      <td>4.625236</td>\n",
       "      <td>-2.200000e+01</td>\n",
       "      <td>-1.000000</td>\n",
       "      <td>1.000000</td>\n",
       "      <td>5.000000</td>\n",
       "      <td>190.000000</td>\n",
       "    </tr>\n",
       "    <tr>\n",
       "      <th>Total.insertions</th>\n",
       "      <td>1546613.0</td>\n",
       "      <td>8.295069</td>\n",
       "      <td>19.792461</td>\n",
       "      <td>-1.000000e+00</td>\n",
       "      <td>0.000000</td>\n",
       "      <td>4.000000</td>\n",
       "      <td>10.000000</td>\n",
       "      <td>242.000000</td>\n",
       "    </tr>\n",
       "    <tr>\n",
       "      <th>cloneCount</th>\n",
       "      <td>1546613.0</td>\n",
       "      <td>32.809663</td>\n",
       "      <td>1036.315576</td>\n",
       "      <td>3.000000e+00</td>\n",
       "      <td>6.000000</td>\n",
       "      <td>10.000000</td>\n",
       "      <td>20.000000</td>\n",
       "      <td>552029.000000</td>\n",
       "    </tr>\n",
       "    <tr>\n",
       "      <th>cloneFraction</th>\n",
       "      <td>1546613.0</td>\n",
       "      <td>0.000412</td>\n",
       "      <td>0.009906</td>\n",
       "      <td>1.070000e-12</td>\n",
       "      <td>0.000074</td>\n",
       "      <td>0.000126</td>\n",
       "      <td>0.000252</td>\n",
       "      <td>0.999821</td>\n",
       "    </tr>\n",
       "    <tr>\n",
       "      <th>vBestIdentityPercent</th>\n",
       "      <td>1535920.0</td>\n",
       "      <td>0.988703</td>\n",
       "      <td>0.027926</td>\n",
       "      <td>6.666667e-01</td>\n",
       "      <td>0.994624</td>\n",
       "      <td>1.000000</td>\n",
       "      <td>1.000000</td>\n",
       "      <td>1.000000</td>\n",
       "    </tr>\n",
       "    <tr>\n",
       "      <th>lengthOfCDR3</th>\n",
       "      <td>1546613.0</td>\n",
       "      <td>47.415256</td>\n",
       "      <td>10.482328</td>\n",
       "      <td>1.200000e+01</td>\n",
       "      <td>42.000000</td>\n",
       "      <td>45.000000</td>\n",
       "      <td>51.000000</td>\n",
       "      <td>254.000000</td>\n",
       "    </tr>\n",
       "    <tr>\n",
       "      <th>KF1</th>\n",
       "      <td>1546613.0</td>\n",
       "      <td>0.175600</td>\n",
       "      <td>0.245823</td>\n",
       "      <td>-1.097143e+00</td>\n",
       "      <td>0.005333</td>\n",
       "      <td>0.176316</td>\n",
       "      <td>0.348000</td>\n",
       "      <td>1.222000</td>\n",
       "    </tr>\n",
       "    <tr>\n",
       "      <th>KF2</th>\n",
       "      <td>1546613.0</td>\n",
       "      <td>-0.236976</td>\n",
       "      <td>0.270471</td>\n",
       "      <td>-1.442500e+00</td>\n",
       "      <td>-0.431538</td>\n",
       "      <td>-0.251875</td>\n",
       "      <td>-0.052083</td>\n",
       "      <td>1.136250</td>\n",
       "    </tr>\n",
       "    <tr>\n",
       "      <th>KF3</th>\n",
       "      <td>1546613.0</td>\n",
       "      <td>-0.024507</td>\n",
       "      <td>0.205916</td>\n",
       "      <td>-9.937500e-01</td>\n",
       "      <td>-0.167333</td>\n",
       "      <td>-0.030769</td>\n",
       "      <td>0.112000</td>\n",
       "      <td>1.323333</td>\n",
       "    </tr>\n",
       "    <tr>\n",
       "      <th>KF4</th>\n",
       "      <td>1546613.0</td>\n",
       "      <td>-0.076112</td>\n",
       "      <td>0.176127</td>\n",
       "      <td>-1.170000e+00</td>\n",
       "      <td>-0.197308</td>\n",
       "      <td>-0.081667</td>\n",
       "      <td>0.041250</td>\n",
       "      <td>0.888333</td>\n",
       "    </tr>\n",
       "    <tr>\n",
       "      <th>KF5</th>\n",
       "      <td>1546613.0</td>\n",
       "      <td>-0.260755</td>\n",
       "      <td>0.193984</td>\n",
       "      <td>-1.315714e+00</td>\n",
       "      <td>-0.384286</td>\n",
       "      <td>-0.257500</td>\n",
       "      <td>-0.138125</td>\n",
       "      <td>0.721818</td>\n",
       "    </tr>\n",
       "    <tr>\n",
       "      <th>KF6</th>\n",
       "      <td>1546613.0</td>\n",
       "      <td>-0.083150</td>\n",
       "      <td>0.157682</td>\n",
       "      <td>-1.063636e+00</td>\n",
       "      <td>-0.187368</td>\n",
       "      <td>-0.082667</td>\n",
       "      <td>0.020000</td>\n",
       "      <td>1.035000</td>\n",
       "    </tr>\n",
       "    <tr>\n",
       "      <th>KF7</th>\n",
       "      <td>1546613.0</td>\n",
       "      <td>0.013076</td>\n",
       "      <td>0.217890</td>\n",
       "      <td>-1.159091e+00</td>\n",
       "      <td>-0.132632</td>\n",
       "      <td>0.015500</td>\n",
       "      <td>0.160667</td>\n",
       "      <td>1.027500</td>\n",
       "    </tr>\n",
       "    <tr>\n",
       "      <th>KF8</th>\n",
       "      <td>1546613.0</td>\n",
       "      <td>0.070751</td>\n",
       "      <td>0.253517</td>\n",
       "      <td>-1.341250e+00</td>\n",
       "      <td>-0.101333</td>\n",
       "      <td>0.072143</td>\n",
       "      <td>0.244000</td>\n",
       "      <td>1.355000</td>\n",
       "    </tr>\n",
       "    <tr>\n",
       "      <th>KF9</th>\n",
       "      <td>1546613.0</td>\n",
       "      <td>-0.061692</td>\n",
       "      <td>0.206657</td>\n",
       "      <td>-1.284444e+00</td>\n",
       "      <td>-0.200000</td>\n",
       "      <td>-0.060588</td>\n",
       "      <td>0.078750</td>\n",
       "      <td>1.000000</td>\n",
       "    </tr>\n",
       "    <tr>\n",
       "      <th>KF10</th>\n",
       "      <td>1546613.0</td>\n",
       "      <td>0.044750</td>\n",
       "      <td>0.214628</td>\n",
       "      <td>-1.023846e+00</td>\n",
       "      <td>-0.101176</td>\n",
       "      <td>0.051250</td>\n",
       "      <td>0.202353</td>\n",
       "      <td>0.868333</td>\n",
       "    </tr>\n",
       "    <tr>\n",
       "      <th>dBestIdentityPercent</th>\n",
       "      <td>9884.0</td>\n",
       "      <td>0.980439</td>\n",
       "      <td>0.039655</td>\n",
       "      <td>7.777778e-01</td>\n",
       "      <td>1.000000</td>\n",
       "      <td>1.000000</td>\n",
       "      <td>1.000000</td>\n",
       "      <td>1.000000</td>\n",
       "    </tr>\n",
       "    <tr>\n",
       "      <th>jBestIdentityPercent</th>\n",
       "      <td>10229.0</td>\n",
       "      <td>0.990438</td>\n",
       "      <td>0.018372</td>\n",
       "      <td>7.500000e-01</td>\n",
       "      <td>0.980000</td>\n",
       "      <td>1.000000</td>\n",
       "      <td>1.000000</td>\n",
       "      <td>1.000000</td>\n",
       "    </tr>\n",
       "  </tbody>\n",
       "</table>\n",
       "</div>"
      ],
      "text/plain": [
       "                          count       mean          std           min  \\\n",
       "Umi.count             1546613.0  17.418807   397.543918  2.000000e+00   \n",
       "Umi.proportion        1546613.0   0.000439     0.009979  5.004504e-05   \n",
       "Read.count            1546613.0  17.418807   397.543918  2.000000e+00   \n",
       "Read.proportion       1546613.0   0.000439     0.009979  5.004504e-05   \n",
       "VD.insertions         1546613.0   5.062404    19.777911 -2.360000e+02   \n",
       "DJ.insertions         1546613.0   2.773265     4.625236 -2.200000e+01   \n",
       "Total.insertions      1546613.0   8.295069    19.792461 -1.000000e+00   \n",
       "cloneCount            1546613.0  32.809663  1036.315576  3.000000e+00   \n",
       "cloneFraction         1546613.0   0.000412     0.009906  1.070000e-12   \n",
       "vBestIdentityPercent  1535920.0   0.988703     0.027926  6.666667e-01   \n",
       "lengthOfCDR3          1546613.0  47.415256    10.482328  1.200000e+01   \n",
       "KF1                   1546613.0   0.175600     0.245823 -1.097143e+00   \n",
       "KF2                   1546613.0  -0.236976     0.270471 -1.442500e+00   \n",
       "KF3                   1546613.0  -0.024507     0.205916 -9.937500e-01   \n",
       "KF4                   1546613.0  -0.076112     0.176127 -1.170000e+00   \n",
       "KF5                   1546613.0  -0.260755     0.193984 -1.315714e+00   \n",
       "KF6                   1546613.0  -0.083150     0.157682 -1.063636e+00   \n",
       "KF7                   1546613.0   0.013076     0.217890 -1.159091e+00   \n",
       "KF8                   1546613.0   0.070751     0.253517 -1.341250e+00   \n",
       "KF9                   1546613.0  -0.061692     0.206657 -1.284444e+00   \n",
       "KF10                  1546613.0   0.044750     0.214628 -1.023846e+00   \n",
       "dBestIdentityPercent     9884.0   0.980439     0.039655  7.777778e-01   \n",
       "jBestIdentityPercent    10229.0   0.990438     0.018372  7.500000e-01   \n",
       "\n",
       "                            25%        50%        75%            max  \n",
       "Umi.count              4.000000   6.000000  11.000000   40000.000000  \n",
       "Umi.proportion         0.000093   0.000148   0.000278       1.000000  \n",
       "Read.count             4.000000   6.000000  11.000000   40000.000000  \n",
       "Read.proportion        0.000093   0.000148   0.000278       1.000000  \n",
       "VD.insertions         -1.000000   2.000000   5.000000     229.000000  \n",
       "DJ.insertions         -1.000000   1.000000   5.000000     190.000000  \n",
       "Total.insertions       0.000000   4.000000  10.000000     242.000000  \n",
       "cloneCount             6.000000  10.000000  20.000000  552029.000000  \n",
       "cloneFraction          0.000074   0.000126   0.000252       0.999821  \n",
       "vBestIdentityPercent   0.994624   1.000000   1.000000       1.000000  \n",
       "lengthOfCDR3          42.000000  45.000000  51.000000     254.000000  \n",
       "KF1                    0.005333   0.176316   0.348000       1.222000  \n",
       "KF2                   -0.431538  -0.251875  -0.052083       1.136250  \n",
       "KF3                   -0.167333  -0.030769   0.112000       1.323333  \n",
       "KF4                   -0.197308  -0.081667   0.041250       0.888333  \n",
       "KF5                   -0.384286  -0.257500  -0.138125       0.721818  \n",
       "KF6                   -0.187368  -0.082667   0.020000       1.035000  \n",
       "KF7                   -0.132632   0.015500   0.160667       1.027500  \n",
       "KF8                   -0.101333   0.072143   0.244000       1.355000  \n",
       "KF9                   -0.200000  -0.060588   0.078750       1.000000  \n",
       "KF10                  -0.101176   0.051250   0.202353       0.868333  \n",
       "dBestIdentityPercent   1.000000   1.000000   1.000000       1.000000  \n",
       "jBestIdentityPercent   0.980000   1.000000   1.000000       1.000000  "
      ]
     },
     "execution_count": 4,
     "metadata": {},
     "output_type": "execute_result"
    }
   ],
   "source": [
    "df.describe().T "
   ]
  },
  {
   "cell_type": "code",
   "execution_count": 7,
   "id": "a86a38c8",
   "metadata": {},
   "outputs": [
    {
     "data": {
      "text/plain": [
       "<Axes: xlabel='lymphoma_specification', ylabel='Count'>"
      ]
     },
     "execution_count": 7,
     "metadata": {},
     "output_type": "execute_result"
    },
    {
     "data": {
      "image/png": "[encoded data removed]",
      "text/plain": [
       "<Figure size 1000x600 with 1 Axes>"
      ]
     },
     "metadata": {},
     "output_type": "display_data"
    }
   ],
   "source": [
    "fig, ax = plt.subplots(figsize=(10, 6))\n",
    "sns.histplot(df.groupby(\"clones.txt.name\").first().reset_index()[\"lymphoma_specification\"],ax = ax)"
   ]
  },
  {
   "cell_type": "code",
   "execution_count": 10,
   "id": "93e520d9",
   "metadata": {
    "scrolled": true
   },
   "outputs": [
    {
     "data": {
      "text/plain": [
       "Index(['Umi.count', 'Umi.proportion', 'Read.count', 'Read.proportion',\n",
       "       'CDR3.nucleotide.sequence', 'CDR3.amino.acid.sequence', 'V.gene',\n",
       "       'J.gene', 'D.gene', 'V.end', 'J.start', 'D5.end', 'D3.end',\n",
       "       'VD.insertions', 'DJ.insertions', 'Total.insertions', 'sample',\n",
       "       'cloneId', 'clones.txt.name', '#Nucleotide clones',\n",
       "       '#Aminoacid clonotypes', '%Aminoacid clonotypes', '#In-frames',\n",
       "       '%In-frames', '#Out-of-frames', '%Out-of-frames', 'Sum.reads',\n",
       "       'Min.reads', '1st Qu.reads', 'Median.reads', 'Mean.reads',\n",
       "       '3rd Qu.reads', 'Max.reads', 'Sum.UMIs', 'Min.UMIs', '1st Qu.UMIs',\n",
       "       'Median.UMIs', 'Mean.UMIs', '3rd Qu.UMIs', 'Max.UMIs', 'Clonality',\n",
       "       'twb.shannon', 'twb.simp', 'pcr_target_locus', 'organism', 'template',\n",
       "       'tissue', 'lymphoma_type', 'lymphoma_specification', 'subject_id',\n",
       "       'sex', 'dosc', 'age', 'dob', 'cloneCount', 'cloneFraction', 'nSeqCDR3',\n",
       "       'aaSeqCDR3', 'bestVGene', 'bestDGene', 'bestJGene',\n",
       "       'vBestIdentityPercent', 'lengthOfCDR3', 'targetSequences', 'allVGenes',\n",
       "       'allDGenes', 'allJGenes', 'allVHits', 'allDHits', 'allJHits',\n",
       "       'allVAlignments', 'allDAlignments', 'allJAlignments', 'KF1', 'KF2',\n",
       "       'KF3', 'KF4', 'KF5', 'KF6', 'KF7', 'KF8', 'KF9', 'KF10',\n",
       "       'dBestIdentityPercent', 'jBestIdentityPercent', 'aaSeqCDR2',\n",
       "       'aaSeqCDR1', 'aaSeqFR2', 'aaSeqFR3', 'aaSeqFR4',\n",
       "       'aaSeqImputedVDJRegion'],\n",
       "      dtype='object')"
      ]
     },
     "execution_count": 10,
     "metadata": {},
     "output_type": "execute_result"
    }
   ],
   "source": [
    "df.columns"
   ]
  },
  {
   "cell_type": "code",
   "execution_count": 11,
   "id": "800f5c68-fbd4-467d-9693-055e8fe5777d",
   "metadata": {},
   "outputs": [],
   "source": [
    "df_mutations = df[df[\"aaSeqCDR3\"].apply(lambda x: \"_\" in x or \"*\" in x)]\n",
    "mutations_per_group = df_mutations.groupby(\"lymphoma_specification\").apply(len).reset_index()\n",
    "total_per_group = df.groupby(\"lymphoma_specification\").apply(len).reset_index()"
   ]
  },
  {
   "cell_type": "code",
   "execution_count": 12,
   "id": "7b8719d5-8948-4c0c-b37a-88c752125389",
   "metadata": {},
   "outputs": [
    {
     "data": {
      "text/html": [
       "<div>\n",
       "<style scoped>\n",
       "    .dataframe tbody tr th:only-of-type {\n",
       "        vertical-align: middle;\n",
       "    }\n",
       "\n",
       "    .dataframe tbody tr th {\n",
       "        vertical-align: top;\n",
       "    }\n",
       "\n",
       "    .dataframe thead th {\n",
       "        text-align: right;\n",
       "    }\n",
       "</style>\n",
       "<table border=\"1\" class=\"dataframe\">\n",
       "  <thead>\n",
       "    <tr style=\"text-align: right;\">\n",
       "      <th></th>\n",
       "      <th>lymphoma_specification</th>\n",
       "      <th>0</th>\n",
       "    </tr>\n",
       "  </thead>\n",
       "  <tbody>\n",
       "    <tr>\n",
       "      <th>0</th>\n",
       "      <td>abc_dlbcl</td>\n",
       "      <td>8846</td>\n",
       "    </tr>\n",
       "    <tr>\n",
       "      <th>1</th>\n",
       "      <td>cll</td>\n",
       "      <td>101752</td>\n",
       "    </tr>\n",
       "    <tr>\n",
       "      <th>2</th>\n",
       "      <td>dlbcl</td>\n",
       "      <td>8955</td>\n",
       "    </tr>\n",
       "    <tr>\n",
       "      <th>3</th>\n",
       "      <td>gcb_dlbcl</td>\n",
       "      <td>2498</td>\n",
       "    </tr>\n",
       "    <tr>\n",
       "      <th>4</th>\n",
       "      <td>hd</td>\n",
       "      <td>1162418</td>\n",
       "    </tr>\n",
       "    <tr>\n",
       "      <th>5</th>\n",
       "      <td>lymphadenitis</td>\n",
       "      <td>46484</td>\n",
       "    </tr>\n",
       "    <tr>\n",
       "      <th>6</th>\n",
       "      <td>nlphl</td>\n",
       "      <td>181327</td>\n",
       "    </tr>\n",
       "    <tr>\n",
       "      <th>7</th>\n",
       "      <td>thrlbcl</td>\n",
       "      <td>14480</td>\n",
       "    </tr>\n",
       "    <tr>\n",
       "      <th>8</th>\n",
       "      <td>unspecified</td>\n",
       "      <td>19853</td>\n",
       "    </tr>\n",
       "  </tbody>\n",
       "</table>\n",
       "</div>"
      ],
      "text/plain": [
       "  lymphoma_specification        0\n",
       "0              abc_dlbcl     8846\n",
       "1                    cll   101752\n",
       "2                  dlbcl     8955\n",
       "3              gcb_dlbcl     2498\n",
       "4                     hd  1162418\n",
       "5          lymphadenitis    46484\n",
       "6                  nlphl   181327\n",
       "7                thrlbcl    14480\n",
       "8            unspecified    19853"
      ]
     },
     "execution_count": 12,
     "metadata": {},
     "output_type": "execute_result"
    }
   ],
   "source": [
    "total_per_group"
   ]
  },
  {
   "cell_type": "code",
   "execution_count": 13,
   "id": "8b1e0270-8427-4f08-8112-61195e01b8b3",
   "metadata": {},
   "outputs": [
    {
     "data": {
      "text/html": [
       "<div>\n",
       "<style scoped>\n",
       "    .dataframe tbody tr th:only-of-type {\n",
       "        vertical-align: middle;\n",
       "    }\n",
       "\n",
       "    .dataframe tbody tr th {\n",
       "        vertical-align: top;\n",
       "    }\n",
       "\n",
       "    .dataframe thead th {\n",
       "        text-align: right;\n",
       "    }\n",
       "</style>\n",
       "<table border=\"1\" class=\"dataframe\">\n",
       "  <thead>\n",
       "    <tr style=\"text-align: right;\">\n",
       "      <th></th>\n",
       "      <th>lymphoma_specification</th>\n",
       "      <th>0</th>\n",
       "    </tr>\n",
       "  </thead>\n",
       "  <tbody>\n",
       "    <tr>\n",
       "      <th>0</th>\n",
       "      <td>abc_dlbcl</td>\n",
       "      <td>859</td>\n",
       "    </tr>\n",
       "    <tr>\n",
       "      <th>1</th>\n",
       "      <td>cll</td>\n",
       "      <td>15315</td>\n",
       "    </tr>\n",
       "    <tr>\n",
       "      <th>2</th>\n",
       "      <td>dlbcl</td>\n",
       "      <td>1204</td>\n",
       "    </tr>\n",
       "    <tr>\n",
       "      <th>3</th>\n",
       "      <td>gcb_dlbcl</td>\n",
       "      <td>314</td>\n",
       "    </tr>\n",
       "    <tr>\n",
       "      <th>4</th>\n",
       "      <td>hd</td>\n",
       "      <td>170284</td>\n",
       "    </tr>\n",
       "    <tr>\n",
       "      <th>5</th>\n",
       "      <td>lymphadenitis</td>\n",
       "      <td>4951</td>\n",
       "    </tr>\n",
       "    <tr>\n",
       "      <th>6</th>\n",
       "      <td>nlphl</td>\n",
       "      <td>20802</td>\n",
       "    </tr>\n",
       "    <tr>\n",
       "      <th>7</th>\n",
       "      <td>thrlbcl</td>\n",
       "      <td>1557</td>\n",
       "    </tr>\n",
       "    <tr>\n",
       "      <th>8</th>\n",
       "      <td>unspecified</td>\n",
       "      <td>2494</td>\n",
       "    </tr>\n",
       "  </tbody>\n",
       "</table>\n",
       "</div>"
      ],
      "text/plain": [
       "  lymphoma_specification       0\n",
       "0              abc_dlbcl     859\n",
       "1                    cll   15315\n",
       "2                  dlbcl    1204\n",
       "3              gcb_dlbcl     314\n",
       "4                     hd  170284\n",
       "5          lymphadenitis    4951\n",
       "6                  nlphl   20802\n",
       "7                thrlbcl    1557\n",
       "8            unspecified    2494"
      ]
     },
     "execution_count": 13,
     "metadata": {},
     "output_type": "execute_result"
    }
   ],
   "source": [
    "mutations_per_group"
   ]
  },
  {
   "cell_type": "code",
   "execution_count": 14,
   "id": "31eee441-eb5b-4328-956e-11f00e828d3d",
   "metadata": {},
   "outputs": [
    {
     "data": {
      "text/plain": [
       "0    0.097106\n",
       "1    0.150513\n",
       "2    0.134450\n",
       "3    0.125701\n",
       "4    0.146491\n",
       "5    0.106510\n",
       "6    0.114721\n",
       "7    0.107528\n",
       "8    0.125623\n",
       "Name: 0, dtype: float64"
      ]
     },
     "execution_count": 14,
     "metadata": {},
     "output_type": "execute_result"
    }
   ],
   "source": [
    "mutations_per_group[0]/total_per_group[0]"
   ]
  },
  {
   "cell_type": "code",
   "execution_count": 28,
   "id": "b96b1b4d-ffad-4b59-8592-6e8df1184d5a",
   "metadata": {},
   "outputs": [
    {
     "data": {
      "text/plain": [
       "Text(0, 0.5, 'non-productive AA (%)')"
      ]
     },
     "execution_count": 28,
     "metadata": {},
     "output_type": "execute_result"
    },
    {
     "data": {
      "image/png": "[encoded data removed]",
      "text/plain": [
       "<Figure size 1000x600 with 1 Axes>"
      ]
     },
     "metadata": {},
     "output_type": "display_data"
    }
   ],
   "source": [
    "fig, ax = plt.subplots(figsize=(10, 6))\n",
    "ax.bar(mutations_per_group[\"lymphoma_specification\"],mutations_per_group[0]/total_per_group[0] * 100)\n",
    "ax.set_ylabel(\"non-productive AA (%)\", size=12)"
   ]
  },
  {
   "cell_type": "code",
   "execution_count": 16,
   "id": "0330cdf1-73ec-45c0-8688-09f3191932d1",
   "metadata": {},
   "outputs": [],
   "source": [
    "mutations_per_patient = df_mutations.groupby(\"clones.txt.name\").apply(len).reset_index()\n",
    "total_per_patient = df.groupby(\"clones.txt.name\").apply(len).reset_index()"
   ]
  },
  {
   "cell_type": "code",
   "execution_count": 17,
   "id": "8552dd81-9a81-4094-b290-df3aa0cb20fc",
   "metadata": {},
   "outputs": [],
   "source": [
    "mutations_per_patient = mutations_per_patient.merge(total_per_patient, on=\"clones.txt.name\",how=\"left\")"
   ]
  },
  {
   "cell_type": "code",
   "execution_count": 18,
   "id": "2c39d51d-af1b-4ffa-a783-10cf87707aee",
   "metadata": {},
   "outputs": [],
   "source": [
    "mutations_per_patient = mutations_per_patient.merge(df_mutations[[\"clones.txt.name\",\"lymphoma_specification\"]], on=\"clones.txt.name\", how=\"left\")"
   ]
  },
  {
   "cell_type": "code",
   "execution_count": 29,
   "id": "0371b187-d580-4582-bdb4-b2c6ff52d07f",
   "metadata": {},
   "outputs": [],
   "source": [
    "mutations_per_patient[\"non-productive AA (%)\"] = mutations_per_patient[\"0_x\"]/mutations_per_patient[\"0_y\"] * 100"
   ]
  },
  {
   "cell_type": "code",
   "execution_count": 20,
   "id": "9e49a759-2579-485c-8be1-1e995ad9a277",
   "metadata": {},
   "outputs": [],
   "source": [
    "mutations_per_patient.sort_values(by=\"lymphoma_specification\", inplace = True)"
   ]
  },
  {
   "cell_type": "code",
   "execution_count": 34,
   "id": "bf617291-25cc-40ce-82e8-0def2c2ee96c",
   "metadata": {
    "scrolled": true
   },
   "outputs": [
    {
     "data": {
      "image/png": "[encoded data removed]",
      "text/plain": [
       "<Figure size 1000x600 with 1 Axes>"
      ]
     },
     "metadata": {},
     "output_type": "display_data"
    }
   ],
   "source": [
    "fig, ax = plt.subplots(figsize=(10, 6))\n",
    "sns.scatterplot(x='clones.txt.name', y='non-productive AA (%)', hue='lymphoma_specification', data=mutations_per_patient) \n",
    "ax.set_xticks([])\n",
    "ax.set_ylabel(\"non-productive AA (%)\", size=12)\n",
    "ax.set_xlabel(\"Samples\", size=12)\n",
    "ax.legend(title='Lymphoma Specification')\n",
    "plt.show()"
   ]
  },
  {
   "cell_type": "markdown",
   "id": "22ef3d07",
   "metadata": {},
   "source": [
    "# Simple Logistic Regression"
   ]
  },
  {
   "cell_type": "code",
   "execution_count": 53,
   "id": "9ad7a068",
   "metadata": {},
   "outputs": [
    {
     "data": {
      "text/plain": [
       "Index(['Umi.count', 'Umi.proportion', 'Read.count', 'Read.proportion',\n",
       "       'CDR3.nucleotide.sequence', 'CDR3.amino.acid.sequence', 'V.gene',\n",
       "       'J.gene', 'D.gene', 'V.end', 'J.start', 'D5.end', 'D3.end',\n",
       "       'VD.insertions', 'DJ.insertions', 'Total.insertions', 'sample',\n",
       "       'cloneId', 'clones.txt.name', '#Nucleotide clones',\n",
       "       '#Aminoacid clonotypes', '%Aminoacid clonotypes', '#In-frames',\n",
       "       '%In-frames', '#Out-of-frames', '%Out-of-frames', 'Sum.reads',\n",
       "       'Min.reads', '1st Qu.reads', 'Median.reads', 'Mean.reads',\n",
       "       '3rd Qu.reads', 'Max.reads', 'Sum.UMIs', 'Min.UMIs', '1st Qu.UMIs',\n",
       "       'Median.UMIs', 'Mean.UMIs', '3rd Qu.UMIs', 'Max.UMIs', 'Clonality',\n",
       "       'twb.shannon', 'twb.simp', 'pcr_target_locus', 'organism', 'template',\n",
       "       'tissue', 'lymphoma_type', 'lymphoma_specification', 'subject_id',\n",
       "       'sex', 'dosc', 'age', 'dob', 'cloneCount', 'cloneFraction', 'nSeqCDR3',\n",
       "       'aaSeqCDR3', 'bestVGene', 'bestDGene', 'bestJGene',\n",
       "       'vBestIdentityPercent', 'lengthOfCDR3', 'targetSequences', 'allVGenes',\n",
       "       'allDGenes', 'allJGenes', 'allVHits', 'allDHits', 'allJHits',\n",
       "       'allVAlignments', 'allDAlignments', 'allJAlignments', 'KF1', 'KF2',\n",
       "       'KF3', 'KF4', 'KF5', 'KF6', 'KF7', 'KF8', 'KF9', 'KF10',\n",
       "       'dBestIdentityPercent', 'jBestIdentityPercent', 'aaSeqCDR2',\n",
       "       'aaSeqCDR1', 'aaSeqFR2', 'aaSeqFR3', 'aaSeqFR4',\n",
       "       'aaSeqImputedVDJRegion'],\n",
       "      dtype='object')"
      ]
     },
     "execution_count": 53,
     "metadata": {},
     "output_type": "execute_result"
    }
   ],
   "source": [
    "df.columns"
   ]
  },
  {
   "cell_type": "code",
   "execution_count": 55,
   "id": "a1439fb2-d1e9-480d-bab1-fdb16584d394",
   "metadata": {},
   "outputs": [],
   "source": [
    "df[\"Clonality\"] = df[\"Clonality\"].apply(lambda x: float(x.replace(\",\",\".\").replace(\"+\",\"-\")) if type(x) == str else float(x))\n",
    "df[\"twb.shannon\"] = df[\"twb.shannon\"].apply(lambda x: float(x.replace(\",\",\".\").replace(\"+\",\"-\")) if type(x) == str else float(x))\n",
    "df[\"twb.simp\"] = df[\"twb.simp\"].apply(lambda x: float(x.replace(\",\",\".\").replace(\"+\",\"-\")) if type(x) == str else float(x))"
   ]
  },
  {
   "cell_type": "code",
   "execution_count": 97,
   "id": "553550b5-c5c9-48f0-b34a-1baac4e5775c",
   "metadata": {},
   "outputs": [],
   "source": [
    "def tryconvert(value, default, *types):\n",
    "    for t in types:\n",
    "        try:\n",
    "            return t(value)\n",
    "        except (ValueError, TypeError):\n",
    "            continue\n",
    "    return default"
   ]
  },
  {
   "cell_type": "code",
   "execution_count": 99,
   "id": "dacc7442-2c73-43bc-9578-f8d86dd24454",
   "metadata": {},
   "outputs": [],
   "source": [
    "df[\"age\"] = df[\"age\"].apply(lambda x: tryconvert(x, np.nan, float))"
   ]
  },
  {
   "cell_type": "code",
   "execution_count": 164,
   "id": "68493a7b-30c8-4654-b613-490d3187cc76",
   "metadata": {},
   "outputs": [
    {
     "data": {
      "text/plain": [
       "213328"
      ]
     },
     "execution_count": 164,
     "metadata": {},
     "output_type": "execute_result"
    }
   ],
   "source": [
    "np.sum(df[\"age\"].isnull())"
   ]
  },
  {
   "cell_type": "code",
   "execution_count": 131,
   "id": "dfed8cd5-a6d4-498b-a287-32bd1d379ad9",
   "metadata": {},
   "outputs": [
    {
     "data": {
      "text/plain": [
       "209223"
      ]
     },
     "execution_count": 131,
     "metadata": {},
     "output_type": "execute_result"
    }
   ],
   "source": [
    "np.sum(df[\"sex\"].isnull())"
   ]
  },
  {
   "cell_type": "code",
   "execution_count": 191,
   "id": "8d34c528-ce93-44f2-b9af-ba3d1a9d6568",
   "metadata": {},
   "outputs": [],
   "source": [
    "X = df[[\"lymphoma_specification\", 'bestVGene','Read.proportion', 'Clonality', 'twb.shannon', 'twb.simp', 'lengthOfCDR3', 'KF1', 'KF2',\n",
    "       'KF3', 'KF4', 'KF5', 'KF6', 'KF7', 'KF8', 'KF9', 'KF10']].copy()"
   ]
  },
  {
   "cell_type": "markdown",
   "id": "18cc281d",
   "metadata": {},
   "source": [
    "## Get info about nan values"
   ]
  },
  {
   "cell_type": "code",
   "execution_count": 192,
   "id": "3cc7fd7e",
   "metadata": {
    "scrolled": true
   },
   "outputs": [
    {
     "name": "stdout",
     "output_type": "stream",
     "text": [
      "bestVGene:  0 object\n",
      "Read.proportion:  0 float64\n",
      "Clonality:  8 float64\n",
      "twb.shannon:  0 float64\n",
      "twb.shannon:  0 float64\n",
      "lengthOfCDR3:  0 int64\n",
      "KF1:  0 float64\n",
      "KF2:  0 float64\n",
      "KF3:  0 float64\n",
      "KF4:  0 float64\n",
      "KF5:  0 float64\n",
      "KF6:  0 float64\n",
      "KF7:  0 float64\n",
      "KF8:  0 float64\n",
      "KF9:  0 float64\n",
      "KF10:  0 float64\n"
     ]
    }
   ],
   "source": [
    "print(\"bestVGene: \", X.bestVGene.isnull().sum(), X.bestVGene.dtype)\n",
    "print(\"Read.proportion: \", X[\"Read.proportion\"].isnull().sum(), X[\"Read.proportion\"].dtype)\n",
    "print(\"Clonality: \", X[\"Clonality\"].isnull().sum(), X[\"Clonality\"].dtype)\n",
    "print(\"twb.shannon: \", X[\"twb.shannon\"].isnull().sum(), X[\"twb.shannon\"].dtype)\n",
    "print(\"twb.shannon: \", X[\"twb.simp\"].isnull().sum(), X[\"twb.simp\"].dtype)\n",
    "print(\"lengthOfCDR3: \", X.lengthOfCDR3.isnull().sum(), X.lengthOfCDR3.dtype)\n",
    "print(\"KF1: \", X.KF1.isnull().sum(), X.KF1.dtype)\n",
    "print(\"KF2: \", X.KF2.isnull().sum(), X.KF2.dtype)\n",
    "print(\"KF3: \", X.KF3.isnull().sum(), X.KF3.dtype)\n",
    "print(\"KF4: \", X.KF4.isnull().sum(), X.KF4.dtype)\n",
    "print(\"KF5: \", X.KF5.isnull().sum(), X.KF5.dtype)\n",
    "print(\"KF6: \", X.KF6.isnull().sum(), X.KF6.dtype)\n",
    "print(\"KF7: \", X.KF7.isnull().sum(), X.KF7.dtype)\n",
    "print(\"KF8: \", X.KF8.isnull().sum(), X.KF8.dtype)\n",
    "print(\"KF9: \", X.KF9.isnull().sum(), X.KF9.dtype)\n",
    "print(\"KF10: \", X.KF10.isnull().sum(), X.KF10.dtype)"
   ]
  },
  {
   "cell_type": "code",
   "execution_count": 193,
   "id": "57cd7f3f-d450-4568-bfa1-466cc8fa00d0",
   "metadata": {},
   "outputs": [],
   "source": [
    "X.dropna(inplace = True)"
   ]
  },
  {
   "cell_type": "code",
   "execution_count": 194,
   "id": "530cdc47",
   "metadata": {},
   "outputs": [],
   "source": [
    "from sklearn.preprocessing import OneHotEncoder, StandardScaler, LabelEncoder\n",
    "\n",
    "categorical_preprocessor = OneHotEncoder(handle_unknown = 'ignore')\n",
    "numerical_preprocessor = StandardScaler()\n",
    "target_preprocessor = LabelEncoder()"
   ]
  },
  {
   "cell_type": "code",
   "execution_count": 195,
   "id": "3696f34e",
   "metadata": {},
   "outputs": [],
   "source": [
    "Y_target = target_preprocessor.fit_transform(X[\"lymphoma_specification\"])"
   ]
  },
  {
   "cell_type": "code",
   "execution_count": 196,
   "id": "27b41c94-a025-4a70-93e3-12661d8df57d",
   "metadata": {},
   "outputs": [
    {
     "data": {
      "text/plain": [
       "array([4, 4, 4, ..., 1, 1, 1])"
      ]
     },
     "execution_count": 196,
     "metadata": {},
     "output_type": "execute_result"
    }
   ],
   "source": [
    "Y_target"
   ]
  },
  {
   "cell_type": "code",
   "execution_count": 198,
   "id": "e1a89e7b",
   "metadata": {},
   "outputs": [],
   "source": [
    "labels = []\n",
    "for i in range(len(X[\"lymphoma_specification\"].unique())):\n",
    "    labels.append(np.asarray(X[\"lymphoma_specification\"])[Y_target==i][0])"
   ]
  },
  {
   "cell_type": "code",
   "execution_count": 199,
   "id": "eeba0288",
   "metadata": {},
   "outputs": [],
   "source": [
    "from sklearn.model_selection import train_test_split\n",
    "X_train, X_test, y_train, y_test = train_test_split(\n",
    "    X, Y_target, random_state=42\n",
    ")"
   ]
  },
  {
   "cell_type": "code",
   "execution_count": 200,
   "id": "5c9e2526-3cbb-4ecd-87d3-af68401486a2",
   "metadata": {},
   "outputs": [
    {
     "data": {
      "text/plain": [
       "Index(['lymphoma_specification', 'bestVGene', 'Read.proportion', 'Clonality',\n",
       "       'twb.shannon', 'twb.simp', 'lengthOfCDR3', 'KF1', 'KF2', 'KF3', 'KF4',\n",
       "       'KF5', 'KF6', 'KF7', 'KF8', 'KF9', 'KF10'],\n",
       "      dtype='object')"
      ]
     },
     "execution_count": 200,
     "metadata": {},
     "output_type": "execute_result"
    }
   ],
   "source": [
    "X_train.columns"
   ]
  },
  {
   "cell_type": "code",
   "execution_count": 201,
   "id": "1c9d4118",
   "metadata": {},
   "outputs": [],
   "source": [
    "X_train.iloc[:, 2:] = numerical_preprocessor.fit_transform(X_train.iloc[:, 2:])\n",
    "X_test.iloc[:, 2:] = numerical_preprocessor.transform(X_test.iloc[:, 2:])"
   ]
  },
  {
   "cell_type": "code",
   "execution_count": 202,
   "id": "885302f7",
   "metadata": {},
   "outputs": [],
   "source": [
    "transformed_categoris_train = categorical_preprocessor.fit_transform(X_train.iloc[:,1:2])\n",
    "transformed_categoris_test = categorical_preprocessor.transform(X_test.iloc[:,1:2])"
   ]
  },
  {
   "cell_type": "code",
   "execution_count": 203,
   "id": "3ad1e5c8",
   "metadata": {},
   "outputs": [],
   "source": [
    "transformed_categoris_train = pd.DataFrame(data = transformed_categoris_train.todense(), columns=categorical_preprocessor.categories_[0])\n",
    "transformed_categoris_test = pd.DataFrame(data = transformed_categoris_test.todense(), columns=categorical_preprocessor.categories_[0])"
   ]
  },
  {
   "cell_type": "code",
   "execution_count": 204,
   "id": "22ae91ec",
   "metadata": {},
   "outputs": [],
   "source": [
    "X_train = pd.concat([X_train.reset_index(drop=True), transformed_categoris_train], axis=1) \n",
    "X_test = pd.concat([X_test.reset_index(drop=True), transformed_categoris_test], axis=1) "
   ]
  },
  {
   "cell_type": "code",
   "execution_count": 178,
   "id": "1a9ed661",
   "metadata": {},
   "outputs": [],
   "source": [
    "from sklearn.linear_model import LogisticRegression"
   ]
  },
  {
   "cell_type": "code",
   "execution_count": 205,
   "id": "4982d5fc",
   "metadata": {},
   "outputs": [
    {
     "name": "stderr",
     "output_type": "stream",
     "text": [
      "/Users/labadmin/anaconda3/envs/bonn17/lib/python3.11/site-packages/sklearn/linear_model/_logistic.py:460: ConvergenceWarning: lbfgs failed to converge (status=1):\n",
      "STOP: TOTAL NO. of ITERATIONS REACHED LIMIT.\n",
      "\n",
      "Increase the number of iterations (max_iter) or scale the data as shown in:\n",
      "    https://scikit-learn.org/stable/modules/preprocessing.html\n",
      "Please also refer to the documentation for alternative solver options:\n",
      "    https://scikit-learn.org/stable/modules/linear_model.html#logistic-regression\n",
      "  n_iter_i = _check_optimize_result(\n"
     ]
    },
    {
     "data": {
      "text/html": [
       "<style>#sk-container-id-1 {color: black;}#sk-container-id-1 pre{padding: 0;}#sk-container-id-1 div.sk-toggleable {background-color: white;}#sk-container-id-1 label.sk-toggleable__label {cursor: pointer;display: block;width: 100%;margin-bottom: 0;padding: 0.3em;box-sizing: border-box;text-align: center;}#sk-container-id-1 label.sk-toggleable__label-arrow:before {content: \"▸\";float: left;margin-right: 0.25em;color: #696969;}#sk-container-id-1 label.sk-toggleable__label-arrow:hover:before {color: black;}#sk-container-id-1 div.sk-estimator:hover label.sk-toggleable__label-arrow:before {color: black;}#sk-container-id-1 div.sk-toggleable__content {max-height: 0;max-width: 0;overflow: hidden;text-align: left;background-color: #f0f8ff;}#sk-container-id-1 div.sk-toggleable__content pre {margin: 0.2em;color: black;border-radius: 0.25em;background-color: #f0f8ff;}#sk-container-id-1 input.sk-toggleable__control:checked~div.sk-toggleable__content {max-height: 200px;max-width: 100%;overflow: auto;}#sk-container-id-1 input.sk-toggleable__control:checked~label.sk-toggleable__label-arrow:before {content: \"▾\";}#sk-container-id-1 div.sk-estimator input.sk-toggleable__control:checked~label.sk-toggleable__label {background-color: #d4ebff;}#sk-container-id-1 div.sk-label input.sk-toggleable__control:checked~label.sk-toggleable__label {background-color: #d4ebff;}#sk-container-id-1 input.sk-hidden--visually {border: 0;clip: rect(1px 1px 1px 1px);clip: rect(1px, 1px, 1px, 1px);height: 1px;margin: -1px;overflow: hidden;padding: 0;position: absolute;width: 1px;}#sk-container-id-1 div.sk-estimator {font-family: monospace;background-color: #f0f8ff;border: 1px dotted black;border-radius: 0.25em;box-sizing: border-box;margin-bottom: 0.5em;}#sk-container-id-1 div.sk-estimator:hover {background-color: #d4ebff;}#sk-container-id-1 div.sk-parallel-item::after {content: \"\";width: 100%;border-bottom: 1px solid gray;flex-grow: 1;}#sk-container-id-1 div.sk-label:hover label.sk-toggleable__label {background-color: #d4ebff;}#sk-container-id-1 div.sk-serial::before {content: \"\";position: absolute;border-left: 1px solid gray;box-sizing: border-box;top: 0;bottom: 0;left: 50%;z-index: 0;}#sk-container-id-1 div.sk-serial {display: flex;flex-direction: column;align-items: center;background-color: white;padding-right: 0.2em;padding-left: 0.2em;position: relative;}#sk-container-id-1 div.sk-item {position: relative;z-index: 1;}#sk-container-id-1 div.sk-parallel {display: flex;align-items: stretch;justify-content: center;background-color: white;position: relative;}#sk-container-id-1 div.sk-item::before, #sk-container-id-1 div.sk-parallel-item::before {content: \"\";position: absolute;border-left: 1px solid gray;box-sizing: border-box;top: 0;bottom: 0;left: 50%;z-index: -1;}#sk-container-id-1 div.sk-parallel-item {display: flex;flex-direction: column;z-index: 1;position: relative;background-color: white;}#sk-container-id-1 div.sk-parallel-item:first-child::after {align-self: flex-end;width: 50%;}#sk-container-id-1 div.sk-parallel-item:last-child::after {align-self: flex-start;width: 50%;}#sk-container-id-1 div.sk-parallel-item:only-child::after {width: 0;}#sk-container-id-1 div.sk-dashed-wrapped {border: 1px dashed gray;margin: 0 0.4em 0.5em 0.4em;box-sizing: border-box;padding-bottom: 0.4em;background-color: white;}#sk-container-id-1 div.sk-label label {font-family: monospace;font-weight: bold;display: inline-block;line-height: 1.2em;}#sk-container-id-1 div.sk-label-container {text-align: center;}#sk-container-id-1 div.sk-container {/* jupyter's `normalize.less` sets `[hidden] { display: none; }` but bootstrap.min.css set `[hidden] { display: none !important; }` so we also need the `!important` here to be able to override the default hidden behavior on the sphinx rendered scikit-learn.org. See: https://github.com/scikit-learn/scikit-learn/issues/21755 */display: inline-block !important;position: relative;}#sk-container-id-1 div.sk-text-repr-fallback {display: none;}</style><div id=\"sk-container-id-1\" class=\"sk-top-container\"><div class=\"sk-text-repr-fallback\"><pre>LogisticRegression(max_iter=500)</pre><b>In a Jupyter environment, please rerun this cell to show the HTML representation or trust the notebook. <br />On GitHub, the HTML representation is unable to render, please try loading this page with nbviewer.org.</b></div><div class=\"sk-container\" hidden><div class=\"sk-item\"><div class=\"sk-estimator sk-toggleable\"><input class=\"sk-toggleable__control sk-hidden--visually\" id=\"sk-estimator-id-1\" type=\"checkbox\" checked><label for=\"sk-estimator-id-1\" class=\"sk-toggleable__label sk-toggleable__label-arrow\">LogisticRegression</label><div class=\"sk-toggleable__content\"><pre>LogisticRegression(max_iter=500)</pre></div></div></div></div></div>"
      ],
      "text/plain": [
       "LogisticRegression(max_iter=500)"
      ]
     },
     "execution_count": 205,
     "metadata": {},
     "output_type": "execute_result"
    }
   ],
   "source": [
    "model = LogisticRegression(max_iter=500)\n",
    "model.fit(X_train.iloc[:,2:], y_train)"
   ]
  },
  {
   "cell_type": "code",
   "execution_count": 206,
   "id": "503bc52f",
   "metadata": {},
   "outputs": [],
   "source": [
    "coefficients = model.coef_\n",
    "avg_importance = np.mean(np.abs(coefficients), axis=0)"
   ]
  },
  {
   "cell_type": "code",
   "execution_count": 207,
   "id": "58674ed8",
   "metadata": {
    "scrolled": true
   },
   "outputs": [
    {
     "data": {
      "text/plain": [
       "<Axes: ylabel='Feature'>"
      ]
     },
     "execution_count": 207,
     "metadata": {},
     "output_type": "execute_result"
    },
    {
     "data": {
      "image/png": "[encoded data removed]",
      "text/plain": [
       "<Figure size 1000x600 with 1 Axes>"
      ]
     },
     "metadata": {},
     "output_type": "display_data"
    }
   ],
   "source": [
    "feature_importance = pd.DataFrame({'Feature': X_train.columns[2:17], 'Importance': avg_importance[0:15]})\n",
    "feature_importance = feature_importance.sort_values('Importance', ascending=True)\n",
    "feature_importance.plot(x='Feature', y='Importance', kind='barh', figsize=(10, 6))"
   ]
  },
  {
   "cell_type": "code",
   "execution_count": 208,
   "id": "b88e27a5",
   "metadata": {},
   "outputs": [],
   "source": [
    "y_pred = model.predict(X_test.iloc[:,2:])"
   ]
  },
  {
   "cell_type": "code",
   "execution_count": 209,
   "id": "da5eae1a",
   "metadata": {},
   "outputs": [
    {
     "name": "stderr",
     "output_type": "stream",
     "text": [
      "/Users/labadmin/anaconda3/envs/bonn17/lib/python3.11/site-packages/sklearn/metrics/_classification.py:1469: UndefinedMetricWarning: Precision and F-score are ill-defined and being set to 0.0 in labels with no predicted samples. Use `zero_division` parameter to control this behavior.\n",
      "  _warn_prf(average, modifier, msg_start, len(result))\n",
      "/Users/labadmin/anaconda3/envs/bonn17/lib/python3.11/site-packages/sklearn/metrics/_classification.py:1469: UndefinedMetricWarning: Precision and F-score are ill-defined and being set to 0.0 in labels with no predicted samples. Use `zero_division` parameter to control this behavior.\n",
      "  _warn_prf(average, modifier, msg_start, len(result))\n"
     ]
    },
    {
     "name": "stdout",
     "output_type": "stream",
     "text": [
      "               precision    recall  f1-score   support\n",
      "\n",
      "    abc_dlbcl       0.48      0.50      0.49      2157\n",
      "          cll       0.65      0.35      0.46     25453\n",
      "        dlbcl       0.27      0.08      0.13      2249\n",
      "    gcb_dlbcl       0.41      0.18      0.25       609\n",
      "           hd       0.87      0.96      0.91    290563\n",
      "lymphadenitis       0.05      0.01      0.02     11683\n",
      "        nlphl       0.63      0.63      0.63     45378\n",
      "      thrlbcl       0.00      0.00      0.00      3690\n",
      "  unspecified       0.46      0.15      0.22      4870\n",
      "\n",
      "     accuracy                           0.83    386652\n",
      "    macro avg       0.42      0.32      0.35    386652\n",
      " weighted avg       0.78      0.83      0.80    386652\n",
      "\n"
     ]
    },
    {
     "name": "stderr",
     "output_type": "stream",
     "text": [
      "/Users/labadmin/anaconda3/envs/bonn17/lib/python3.11/site-packages/sklearn/metrics/_classification.py:1469: UndefinedMetricWarning: Precision and F-score are ill-defined and being set to 0.0 in labels with no predicted samples. Use `zero_division` parameter to control this behavior.\n",
      "  _warn_prf(average, modifier, msg_start, len(result))\n"
     ]
    }
   ],
   "source": [
    "from sklearn.metrics import classification_report\n",
    "print(classification_report(y_test, y_pred, target_names=np.asarray(labels)))"
   ]
  },
  {
   "cell_type": "code",
   "execution_count": 210,
   "id": "df165ea8",
   "metadata": {},
   "outputs": [],
   "source": [
    "from sklearn.metrics import confusion_matrix, ConfusionMatrixDisplay"
   ]
  },
  {
   "cell_type": "code",
   "execution_count": 211,
   "id": "f67191bc",
   "metadata": {
    "scrolled": true
   },
   "outputs": [
    {
     "data": {
      "text/plain": [
       "<sklearn.metrics._plot.confusion_matrix.ConfusionMatrixDisplay at 0x4478d7e50>"
      ]
     },
     "execution_count": 211,
     "metadata": {},
     "output_type": "execute_result"
    },
    {
     "data": {
      "image/png": "[encoded data removed]",
      "text/plain": [
       "<Figure size 1500x800 with 2 Axes>"
      ]
     },
     "metadata": {},
     "output_type": "display_data"
    }
   ],
   "source": [
    "cm = confusion_matrix(y_test, y_pred, normalize=\"true\")\n",
    "fig, ax = plt.subplots(figsize = (15,8))\n",
    "disp = ConfusionMatrixDisplay(confusion_matrix=cm,display_labels=labels)\n",
    "disp.plot(ax=ax)"
   ]
  },
  {
   "cell_type": "markdown",
   "id": "827a2f0c",
   "metadata": {},
   "source": [
    "# SVM with RBF Kernel"
   ]
  },
  {
   "cell_type": "code",
   "execution_count": 3,
   "id": "0794479e",
   "metadata": {},
   "outputs": [],
   "source": [
    "from sklearn.svm import SVC"
   ]
  },
  {
   "cell_type": "code",
   "execution_count": 150,
   "id": "26413f41",
   "metadata": {
    "scrolled": true
   },
   "outputs": [
    {
     "data": {
      "text/html": [
       "<style>#sk-container-id-6 {color: black;}#sk-container-id-6 pre{padding: 0;}#sk-container-id-6 div.sk-toggleable {background-color: white;}#sk-container-id-6 label.sk-toggleable__label {cursor: pointer;display: block;width: 100%;margin-bottom: 0;padding: 0.3em;box-sizing: border-box;text-align: center;}#sk-container-id-6 label.sk-toggleable__label-arrow:before {content: \"▸\";float: left;margin-right: 0.25em;color: #696969;}#sk-container-id-6 label.sk-toggleable__label-arrow:hover:before {color: black;}#sk-container-id-6 div.sk-estimator:hover label.sk-toggleable__label-arrow:before {color: black;}#sk-container-id-6 div.sk-toggleable__content {max-height: 0;max-width: 0;overflow: hidden;text-align: left;background-color: #f0f8ff;}#sk-container-id-6 div.sk-toggleable__content pre {margin: 0.2em;color: black;border-radius: 0.25em;background-color: #f0f8ff;}#sk-container-id-6 input.sk-toggleable__control:checked~div.sk-toggleable__content {max-height: 200px;max-width: 100%;overflow: auto;}#sk-container-id-6 input.sk-toggleable__control:checked~label.sk-toggleable__label-arrow:before {content: \"▾\";}#sk-container-id-6 div.sk-estimator input.sk-toggleable__control:checked~label.sk-toggleable__label {background-color: #d4ebff;}#sk-container-id-6 div.sk-label input.sk-toggleable__control:checked~label.sk-toggleable__label {background-color: #d4ebff;}#sk-container-id-6 input.sk-hidden--visually {border: 0;clip: rect(1px 1px 1px 1px);clip: rect(1px, 1px, 1px, 1px);height: 1px;margin: -1px;overflow: hidden;padding: 0;position: absolute;width: 1px;}#sk-container-id-6 div.sk-estimator {font-family: monospace;background-color: #f0f8ff;border: 1px dotted black;border-radius: 0.25em;box-sizing: border-box;margin-bottom: 0.5em;}#sk-container-id-6 div.sk-estimator:hover {background-color: #d4ebff;}#sk-container-id-6 div.sk-parallel-item::after {content: \"\";width: 100%;border-bottom: 1px solid gray;flex-grow: 1;}#sk-container-id-6 div.sk-label:hover label.sk-toggleable__label {background-color: #d4ebff;}#sk-container-id-6 div.sk-serial::before {content: \"\";position: absolute;border-left: 1px solid gray;box-sizing: border-box;top: 0;bottom: 0;left: 50%;z-index: 0;}#sk-container-id-6 div.sk-serial {display: flex;flex-direction: column;align-items: center;background-color: white;padding-right: 0.2em;padding-left: 0.2em;position: relative;}#sk-container-id-6 div.sk-item {position: relative;z-index: 1;}#sk-container-id-6 div.sk-parallel {display: flex;align-items: stretch;justify-content: center;background-color: white;position: relative;}#sk-container-id-6 div.sk-item::before, #sk-container-id-6 div.sk-parallel-item::before {content: \"\";position: absolute;border-left: 1px solid gray;box-sizing: border-box;top: 0;bottom: 0;left: 50%;z-index: -1;}#sk-container-id-6 div.sk-parallel-item {display: flex;flex-direction: column;z-index: 1;position: relative;background-color: white;}#sk-container-id-6 div.sk-parallel-item:first-child::after {align-self: flex-end;width: 50%;}#sk-container-id-6 div.sk-parallel-item:last-child::after {align-self: flex-start;width: 50%;}#sk-container-id-6 div.sk-parallel-item:only-child::after {width: 0;}#sk-container-id-6 div.sk-dashed-wrapped {border: 1px dashed gray;margin: 0 0.4em 0.5em 0.4em;box-sizing: border-box;padding-bottom: 0.4em;background-color: white;}#sk-container-id-6 div.sk-label label {font-family: monospace;font-weight: bold;display: inline-block;line-height: 1.2em;}#sk-container-id-6 div.sk-label-container {text-align: center;}#sk-container-id-6 div.sk-container {/* jupyter's `normalize.less` sets `[hidden] { display: none; }` but bootstrap.min.css set `[hidden] { display: none !important; }` so we also need the `!important` here to be able to override the default hidden behavior on the sphinx rendered scikit-learn.org. See: https://github.com/scikit-learn/scikit-learn/issues/21755 */display: inline-block !important;position: relative;}#sk-container-id-6 div.sk-text-repr-fallback {display: none;}</style><div id=\"sk-container-id-6\" class=\"sk-top-container\"><div class=\"sk-text-repr-fallback\"><pre>SVC()</pre><b>In a Jupyter environment, please rerun this cell to show the HTML representation or trust the notebook. <br />On GitHub, the HTML representation is unable to render, please try loading this page with nbviewer.org.</b></div><div class=\"sk-container\" hidden><div class=\"sk-item\"><div class=\"sk-estimator sk-toggleable\"><input class=\"sk-toggleable__control sk-hidden--visually\" id=\"sk-estimator-id-6\" type=\"checkbox\" checked><label for=\"sk-estimator-id-6\" class=\"sk-toggleable__label sk-toggleable__label-arrow\">SVC</label><div class=\"sk-toggleable__content\"><pre>SVC()</pre></div></div></div></div></div>"
      ],
      "text/plain": [
       "SVC()"
      ]
     },
     "execution_count": 150,
     "metadata": {},
     "output_type": "execute_result"
    }
   ],
   "source": [
    "model = SVC(kernel='rbf')\n",
    "model.fit(X_train.iloc[:,3:], y_train)"
   ]
  },
  {
   "cell_type": "code",
   "execution_count": 152,
   "id": "76544f8d",
   "metadata": {},
   "outputs": [],
   "source": [
    "y_pred = model.predict(X_test.iloc[:,3:])"
   ]
  },
  {
   "cell_type": "code",
   "execution_count": 153,
   "id": "92183daa",
   "metadata": {
    "scrolled": true
   },
   "outputs": [
    {
     "name": "stdout",
     "output_type": "stream",
     "text": [
      "               precision    recall  f1-score   support\n",
      "\n",
      "    abc_dlbcl       0.42      0.24      0.31       429\n",
      "          cll       0.56      0.43      0.49      1685\n",
      "        dlbcl       1.00      0.05      0.10       118\n",
      "    gcb_dlbcl       0.63      0.07      0.13       166\n",
      "           hd       0.64      0.93      0.76      2872\n",
      "lymphadenitis       0.00      0.00      0.00        39\n",
      "        nlphl       0.39      0.26      0.31       422\n",
      "      thrlbcl       0.00      0.00      0.00        98\n",
      "  unspecified       1.00      0.01      0.02       233\n",
      "\n",
      "     accuracy                           0.60      6062\n",
      "    macro avg       0.52      0.22      0.23      6062\n",
      " weighted avg       0.59      0.60      0.54      6062\n",
      "\n"
     ]
    },
    {
     "name": "stderr",
     "output_type": "stream",
     "text": [
      "/Users/labadmin/anaconda3/envs/bonn17/lib/python3.11/site-packages/sklearn/metrics/_classification.py:1469: UndefinedMetricWarning: Precision and F-score are ill-defined and being set to 0.0 in labels with no predicted samples. Use `zero_division` parameter to control this behavior.\n",
      "  _warn_prf(average, modifier, msg_start, len(result))\n",
      "/Users/labadmin/anaconda3/envs/bonn17/lib/python3.11/site-packages/sklearn/metrics/_classification.py:1469: UndefinedMetricWarning: Precision and F-score are ill-defined and being set to 0.0 in labels with no predicted samples. Use `zero_division` parameter to control this behavior.\n",
      "  _warn_prf(average, modifier, msg_start, len(result))\n",
      "/Users/labadmin/anaconda3/envs/bonn17/lib/python3.11/site-packages/sklearn/metrics/_classification.py:1469: UndefinedMetricWarning: Precision and F-score are ill-defined and being set to 0.0 in labels with no predicted samples. Use `zero_division` parameter to control this behavior.\n",
      "  _warn_prf(average, modifier, msg_start, len(result))\n"
     ]
    }
   ],
   "source": [
    "from sklearn.metrics import classification_report\n",
    "print(classification_report(y_test, y_pred, target_names=np.asarray(labels)))"
   ]
  },
  {
   "cell_type": "code",
   "execution_count": 171,
   "id": "96926240",
   "metadata": {
    "scrolled": true
   },
   "outputs": [
    {
     "data": {
      "text/plain": [
       "<sklearn.metrics._plot.confusion_matrix.ConfusionMatrixDisplay at 0x40c778210>"
      ]
     },
     "execution_count": 171,
     "metadata": {},
     "output_type": "execute_result"
    },
    {
     "data": {
      "image/png": "[encoded data removed]",
      "text/plain": [
       "<Figure size 1500x800 with 2 Axes>"
      ]
     },
     "metadata": {},
     "output_type": "display_data"
    }
   ],
   "source": [
    "cm = confusion_matrix(y_test, y_pred, normalize='true')\n",
    "fig, ax = plt.subplots(figsize = (15,8))\n",
    "disp = ConfusionMatrixDisplay(confusion_matrix=cm,display_labels=labels)\n",
    "disp.plot(ax=ax)"
   ]
  },
  {
   "cell_type": "code",
   "execution_count": null,
   "id": "af072bdd",
   "metadata": {},
   "outputs": [],
   "source": [
    "cm = confusion_matrix(y_test, y_pred, normalize='pred')\n",
    "fig, ax = plt.subplots(figsize = (15,8))\n",
    "disp = ConfusionMatrixDisplay(confusion_matrix=cm,display_labels=labels)\n",
    "disp.plot(ax=ax)"
   ]
  },
  {
   "cell_type": "markdown",
   "id": "a6b59f88",
   "metadata": {},
   "source": [
    "# ANN"
   ]
  },
  {
   "cell_type": "code",
   "execution_count": 13,
   "id": "c35134f4-4e8e-4ffc-9758-af7b650d8138",
   "metadata": {},
   "outputs": [
    {
     "data": {
      "text/plain": [
       "array(['*', 'A', 'C', 'D', 'E', 'F', 'G', 'H', 'I', 'K', 'L', 'M', 'N',\n",
       "       'P', 'Q', 'R', 'S', 'T', 'V', 'W', 'Y', '_'], dtype='<U1')"
      ]
     },
     "execution_count": 13,
     "metadata": {},
     "output_type": "execute_result"
    }
   ],
   "source": [
    "np.unique(np.concatenate(df[\"aaSeqCDR3\"].apply(lambda x: np.unique(list(x)))))"
   ]
  },
  {
   "cell_type": "code",
   "execution_count": 25,
   "id": "ec109304-6829-4259-b75f-5ee57b66e963",
   "metadata": {},
   "outputs": [],
   "source": [
    "a = np.zeros((10,5))\n",
    "b = np.asarray([0,1,4,2,3,3,1,2,0,0])\n",
    "a[np.arange(len(a)),b] = 1"
   ]
  },
  {
   "cell_type": "code",
   "execution_count": 26,
   "id": "9f3010ae-35da-41af-afe9-07be6aac6f4a",
   "metadata": {},
   "outputs": [
    {
     "data": {
      "text/plain": [
       "array([[1., 0., 0., 0., 0.],\n",
       "       [0., 1., 0., 0., 0.],\n",
       "       [0., 0., 0., 0., 1.],\n",
       "       [0., 0., 1., 0., 0.],\n",
       "       [0., 0., 0., 1., 0.],\n",
       "       [0., 0., 0., 1., 0.],\n",
       "       [0., 1., 0., 0., 0.],\n",
       "       [0., 0., 1., 0., 0.],\n",
       "       [1., 0., 0., 0., 0.],\n",
       "       [1., 0., 0., 0., 0.]])"
      ]
     },
     "execution_count": 26,
     "metadata": {},
     "output_type": "execute_result"
    }
   ],
   "source": [
    "a"
   ]
  },
  {
   "cell_type": "code",
   "execution_count": 5,
   "id": "78cc068a-646d-4cbd-9b20-e485c29754c7",
   "metadata": {},
   "outputs": [],
   "source": [
    "from sklearn.model_selection import train_test_split"
   ]
  },
  {
   "cell_type": "code",
   "execution_count": 6,
   "id": "a7e2ea6b",
   "metadata": {},
   "outputs": [],
   "source": [
    "lymphoma_specification_dict = {\"cll\":[0,0,1,0,0,0], \n",
    "                               \"hd\":[1,0,0,0,0,0],  \n",
    "                               \"unspecified\":[0,0,0,0,0,1], \n",
    "                               \"abc_dlbcl\":[0,1,0,0,0,0], \n",
    "                               \"nlphl\":[0,0,0,1,0,0] , \n",
    "                               \"thrlbcl\":[0,1,0,0,0,0], \n",
    "                               \"dlbcl\":[0,1,0,0,0,0],\n",
    "                               \"lymphadenitis\": [0,0,0,0,1,0], \n",
    "                               \"gcb_dlbcl\": [0,1,0,0,0,0]}\n",
    "#lymphoma_specification_dict = {\"cll\":2, \"hd\":0,  \"unspecified\":5, \"abc_dlbcl\":1, \"nlphl\":3 , \"thrlbcl\":1, \"dlbcl\":1,\n",
    "#                         \"lymphadenitis\": 4, \"gcb_dlbcl\": 1}"
   ]
  },
  {
   "cell_type": "code",
   "execution_count": 7,
   "id": "21a73b6c",
   "metadata": {},
   "outputs": [],
   "source": [
    "nSeq_look_up_dict = {\"A\": [1,0,0,0], \"C\" : [0,1,0,0], \"G\" : [0,0,1,0], \"T\" : [0,0,0,1]}\n",
    "#nSeq_look_up_dict = {\"A\": 0, \"C\" : 1, \"G\" : 2, \"T\" : 3}\n",
    "def encode_nucleotides(nSeq):\n",
    "    return np.stack(list(map(lambda x: nSeq_look_up_dict[x], nSeq)))"
   ]
  },
  {
   "cell_type": "code",
   "execution_count": 144,
   "id": "e7e6668d",
   "metadata": {},
   "outputs": [],
   "source": [
    "X = df[df[\"cloneId\"] == 0][\"nSeqCDR3\"].apply(encode_nucleotides)\n",
    "Y = df[df[\"cloneId\"] == 0][\"lymphoma_specification\"].apply(lambda x: np.asarray(lymphoma_specification_dict[x]))"
   ]
  },
  {
   "cell_type": "code",
   "execution_count": 145,
   "id": "793d3894-dc64-4ef1-bf1a-a7d10aa6368b",
   "metadata": {},
   "outputs": [],
   "source": [
    "X_train, X_valid, Y_train, Y_valid = train_test_split(\n",
    "    X, Y, random_state=42\n",
    ")\n",
    "\n",
    "X_train_lens = X_train.apply(len)\n",
    "X_valid_lens = X_valid.apply(len)"
   ]
  },
  {
   "cell_type": "code",
   "execution_count": 146,
   "id": "c8b9e8dd",
   "metadata": {},
   "outputs": [],
   "source": [
    "length_with_index_dict = {}\n",
    "lengths = np.asarray(X_train.apply(len))\n",
    "for i in np.sort(np.unique(lengths)):\n",
    "    length_with_index_dict[i] = np.where(lengths == i)[0]"
   ]
  },
  {
   "cell_type": "code",
   "execution_count": 147,
   "id": "4a616c30",
   "metadata": {},
   "outputs": [],
   "source": [
    "SEED = 42\n",
    "random.seed(SEED)\n",
    "\n",
    "def apply_padding(xx, max_len, style=\"zero\"):\n",
    "    if len(xx.shape)>=1:\n",
    "        seq_length = xx.shape[0]\n",
    "    else:\n",
    "        seq_length = 1\n",
    "    padding_size = max_len - seq_length\n",
    "    if style == \"same\":\n",
    "        padding_size = tuple([padding_size] + [1 for i in range(len(xx.shape) - 1)])\n",
    "        xx = np.concatenate((xx, np.tile(xx[-1:], padding_size)), axis=0)\n",
    "    elif style == \"zero\":\n",
    "        padding_size = tuple([padding_size] + list(xx.shape[1:]))\n",
    "        xx = np.concatenate((xx, np.zeros(padding_size)), axis=0)\n",
    "    else:\n",
    "        raise ValueError(\"unkown padding style: %s\" % style) \n",
    "    return xx\n",
    "\n",
    "\n",
    "def pad_batch_online(batch_lens, batch_data, style=\"zero\"):\n",
    "    max_len = int(max(batch_lens))\n",
    "    padded_data = np.stack(list(batch_data.apply(\n",
    "        lambda x: apply_padding(x, max_len, style=style))))\n",
    "    return padded_data\n",
    "\n",
    "def create_epoch_with_same_size_batching(length_with_index_dict,batch_size, shuffle=True):\n",
    "    epoch = [] # list of batches\n",
    "    foundlings = []  # rest samples for each length which do not fit into one batch\n",
    "    \n",
    "    for length in np.sort(list(length_with_index_dict.keys())): # iterate over each unique length in training data\n",
    "        length_idxs = length_with_index_dict[length] # dictionary containing indices of samples with length\n",
    "        rest = len(length_idxs) % batch_size\n",
    "        if shuffle:\n",
    "            random.shuffle(length_idxs) # shuffle indices\n",
    "        epoch += [length_idxs[i * batch_size:(i * batch_size) + batch_size] for i in\n",
    "                  range(int(len(length_idxs) / batch_size))] # cut into batches and append to epoch\n",
    "        if rest > 0:\n",
    "            foundlings += list(length_idxs[-rest:]) # remaining indices which do not fit into one batch are stored in foundling\n",
    "    foundlings = np.asarray(foundlings)\n",
    "    rest = len(foundlings) % batch_size\n",
    "    epoch += [foundlings[i * batch_size:(i * batch_size) + batch_size] for i in\n",
    "              range(int(len(foundlings) / batch_size))] # cut foudnlings into batches (because inserted sorted this ensures minimal padding)\n",
    "    if rest > 0:\n",
    "        epoch += [foundlings[-rest:]] # put rest into one batch (allow smaller batch)\n",
    "    if shuffle:\n",
    "        random.shuffle(epoch)\n",
    "    return epoch"
   ]
  },
  {
   "cell_type": "code",
   "execution_count": 112,
   "id": "52417641-0a17-4699-9563-dcf51be39659",
   "metadata": {},
   "outputs": [],
   "source": [
    "class LinearModel(torch.nn.Module):\n",
    "    def __init__(self,\n",
    "                 input_channel = 4,\n",
    "                 output_channel = 1):\n",
    "        super().__init__()\n",
    "        \n",
    "        self.linear = torch.nn.Linear(input_channel, output_channel)\n",
    "        self.sigmoid = torch.nn.Sigmoid()\n",
    "\n",
    "\n",
    "    def forward(self, x, *args):\n",
    "        output = self.linear(x)\n",
    "        output = output.mean([1, 2])\n",
    "        output = self.sigmoid(output)\n",
    "        return output\n",
    "\n",
    "\n",
    "class NonLinearModel(torch.nn.Module):\n",
    "    def __init__(self,\n",
    "                 input_channel=4,\n",
    "                 output_channel=1,\n",
    "                 hidden_units=256,\n",
    "                 activation_function=torch.nn.LeakyReLU()):\n",
    "        \n",
    "        super().__init__()\n",
    "        self.activation_function = activation_function\n",
    "        self.non_linear = torch.nn.Linear(input_channel, hidden_units)\n",
    "        self.linear = torch.nn.Linear(hidden_units, output_channel)\n",
    "        self.sigmoid = torch.nn.Sigmoid()\n",
    "\n",
    "    def forward(self, x, *args):\n",
    "        output = self.non_linear(x)\n",
    "        output = self.activation_function(output)     \n",
    "        output = self.linear(output)\n",
    "        output = output.mean([1, 2])\n",
    "        output = self.sigmoid(output)\n",
    "           \n",
    "        return output\n",
    "\n",
    "\n",
    "class ResnetModel(torch.nn.Module):\n",
    "    def __init__(self,\n",
    "                 input_channel,\n",
    "                 output_channel,\n",
    "                 hidden_units,\n",
    "                 hidden_layers,\n",
    "                 activation_function=torch.nn.LeakyReLU()):\n",
    "        super().__init__()\n",
    "        self.input_channel = input_channel\n",
    "        self.hidden_units = hidden_units\n",
    "        self.activation_function = activation_function\n",
    "\n",
    "        self.resid_layers = torch.nn.ModuleList(\n",
    "            [torch.nn.Linear(input_channel, hidden_units)])\n",
    "        self.resid_layers = self.resid_layers.extend(torch.nn.ModuleList(\n",
    "            [torch.nn.Linear(hidden_units, hidden_units) for _ in range(hidden_layers - 1)]))\n",
    "        self.output_layer = torch.nn.Linear(hidden_units, output_channel)\n",
    "        self.softmax = torch.nn.Softmax(dim=1)\n",
    "\n",
    "    def forward(self, x, *args):\n",
    "        output = x\n",
    "        for i, block in enumerate(self.resid_layers):\n",
    "            resid = output\n",
    "            output = block(output)\n",
    "            output = self.activation_function(output)\n",
    "            if i == 0:\n",
    "                if self.input_channel == self.hidden_units:\n",
    "                    output += resid\n",
    "            else:\n",
    "                output += resid\n",
    "\n",
    "        output = self.output_layer(output)\n",
    "        output = output.mean([1])\n",
    "        output = self.softmax(output)\n",
    "        return output"
   ]
  },
  {
   "cell_type": "code",
   "execution_count": null,
   "id": "4270573f-92d0-4738-9146-51a6ab16eae6",
   "metadata": {},
   "outputs": [],
   "source": []
  },
  {
   "cell_type": "code",
   "execution_count": 156,
   "id": "1c3ea47f",
   "metadata": {},
   "outputs": [],
   "source": [
    "class LSTMNet(torch.nn.Module):\n",
    "    \n",
    "    def __init__(self,input_dim, hidden_dim,output_dim,n_layers,bidirectional,dropout):\n",
    "        \n",
    "        super(LSTMNet,self).__init__()\n",
    "        # LSTM layer process the vector sequences \n",
    "        #self.embedding = torch.nn.Embedding(vocab_size,embedding_dim)\n",
    "        \n",
    "        self.lstm = torch.nn.LSTM(input_dim,\n",
    "                            hidden_dim,\n",
    "                            num_layers = n_layers,\n",
    "                            bidirectional = bidirectional,\n",
    "                            dropout = dropout,\n",
    "                            batch_first = True\n",
    "                           )\n",
    "        \n",
    "        # Dense layer to predict \n",
    "        self.fc = torch.nn.Linear(hidden_dim,output_dim)\n",
    "        self.softmax = torch.nn.Softmax(dim=1)\n",
    "    \n",
    "    def forward(self,seq,seq_len):\n",
    "        \n",
    "        # Thanks to packing, LSTM don't see padding tokens \n",
    "        # and this makes our model better\n",
    "        #packed_input = torch.nn.utils.rnn.pack_padded_sequence(seq, seq_len.cpu(),batch_first=True, enforce_sorted = False).to(torch.float)\n",
    "        output, (h_n, _) = self.lstm(seq)\n",
    "        output = torch.stack([output[i, (last - 1).long(), :] for i, last in enumerate(seq_len)])\n",
    "        output=self.fc(output)    \n",
    "        output=self.softmax(output)\n",
    "\n",
    "        return output"
   ]
  },
  {
   "cell_type": "code",
   "execution_count": 149,
   "id": "abff17fa-0e34-4381-a795-46bff0d17448",
   "metadata": {},
   "outputs": [
    {
     "data": {
      "text/plain": [
       "<torch._C.Generator at 0x1615a8bf0>"
      ]
     },
     "execution_count": 149,
     "metadata": {},
     "output_type": "execute_result"
    }
   ],
   "source": [
    "torch.manual_seed(SEED)"
   ]
  },
  {
   "cell_type": "code",
   "execution_count": 192,
   "id": "13024f5e",
   "metadata": {},
   "outputs": [],
   "source": [
    "INPUT_DIM = 4\n",
    "NUM_HIDDEN_NODES = 256\n",
    "NUM_OUTPUT_NODES = 6\n",
    "NUM_LAYERS = 4\n",
    "BIDIRECTION = False\n",
    "DROPOUT = 0.5"
   ]
  },
  {
   "cell_type": "code",
   "execution_count": 193,
   "id": "a3c84c59",
   "metadata": {},
   "outputs": [],
   "source": [
    "model = LSTMNet(INPUT_DIM, \n",
    "                NUM_HIDDEN_NODES,\n",
    "                NUM_OUTPUT_NODES,\n",
    "                NUM_LAYERS,\n",
    "                BIDIRECTION,\n",
    "                DROPOUT\n",
    "               )"
   ]
  },
  {
   "cell_type": "code",
   "execution_count": 397,
   "id": "a639cc75-13f4-438a-b5e9-e45c05fe9fd6",
   "metadata": {},
   "outputs": [],
   "source": [
    "model = LinearModel(input_channel=1)"
   ]
  },
  {
   "cell_type": "code",
   "execution_count": 421,
   "id": "968457a2-27dd-466f-b44a-39a2f5e3c0b1",
   "metadata": {},
   "outputs": [],
   "source": [
    "model = NonLinearModel(input_channel=1)"
   ]
  },
  {
   "cell_type": "code",
   "execution_count": 114,
   "id": "378c6c94-51a0-4166-bacd-fb4ec4ccf1b7",
   "metadata": {},
   "outputs": [],
   "source": [
    "model = ResnetModel(input_channel=4,output_channel=6,hidden_layers=5,hidden_units=128)"
   ]
  },
  {
   "cell_type": "code",
   "execution_count": 376,
   "id": "34aff081-bdb0-4632-bd83-1c666c2b42df",
   "metadata": {},
   "outputs": [],
   "source": [
    "model = Deep()"
   ]
  },
  {
   "cell_type": "code",
   "execution_count": 194,
   "id": "8bffa54d",
   "metadata": {},
   "outputs": [],
   "source": [
    "#device = torch.device(\"cpu\")\n",
    "device = torch.device(\"cpu\")\n",
    "import torch.optim as optim\n",
    "model = model.to(device)\n",
    "optimizer = optim.Adam(model.parameters(),lr=0.00001)\n",
    "criterion = torch.nn.CrossEntropyLoss()\n",
    "#criterion = torch.nn.BCELoss()"
   ]
  },
  {
   "cell_type": "code",
   "execution_count": 195,
   "id": "30805ec9-2d1d-4e8d-8947-0dd43e0bb6b9",
   "metadata": {},
   "outputs": [
    {
     "data": {
      "text/plain": [
       "LSTMNet(\n",
       "  (lstm): LSTM(4, 256, num_layers=4, batch_first=True, dropout=0.5)\n",
       "  (fc): Linear(in_features=256, out_features=6, bias=True)\n",
       "  (softmax): Softmax(dim=1)\n",
       ")"
      ]
     },
     "execution_count": 195,
     "metadata": {},
     "output_type": "execute_result"
    }
   ],
   "source": [
    "model.train()"
   ]
  },
  {
   "cell_type": "code",
   "execution_count": 196,
   "id": "d420d2c1",
   "metadata": {},
   "outputs": [],
   "source": [
    "BATCH_SIZE =16\n",
    "N_EPOCHS = 200"
   ]
  },
  {
   "cell_type": "code",
   "execution_count": 82,
   "id": "41f781f5-cf5a-4444-8569-7e425db82bce",
   "metadata": {},
   "outputs": [
    {
     "data": {
      "text/plain": [
       "torch.Size([16, 66, 4])"
      ]
     },
     "execution_count": 82,
     "metadata": {},
     "output_type": "execute_result"
    }
   ],
   "source": [
    "batch_input.shape"
   ]
  },
  {
   "cell_type": "code",
   "execution_count": 81,
   "id": "2fafb20d-8564-4739-acf0-b7681cf36cf8",
   "metadata": {},
   "outputs": [
    {
     "data": {
      "text/plain": [
       "torch.Size([16, 6])"
      ]
     },
     "execution_count": 81,
     "metadata": {},
     "output_type": "execute_result"
    }
   ],
   "source": [
    "batch_output_jj.shape"
   ]
  },
  {
   "cell_type": "code",
   "execution_count": 197,
   "id": "eccd8ad6",
   "metadata": {},
   "outputs": [
    {
     "data": {
      "application/vnd.jupyter.widget-view+json": {
       "model_id": "57bafa7e03bf47e59dee9cdc0db746a7",
       "version_major": 2,
       "version_minor": 0
      },
      "text/plain": [
       "Training...:   0%|          | 0/200 [00:00<?, ?it/s]"
      ]
     },
     "metadata": {},
     "output_type": "display_data"
    },
    {
     "data": {
      "application/vnd.jupyter.widget-view+json": {
       "model_id": "",
       "version_major": 2,
       "version_minor": 0
      },
      "text/plain": [
       "Batch...:   0%|          | 0/66 [00:00<?, ?it/s]"
      ]
     },
     "metadata": {},
     "output_type": "display_data"
    },
    {
     "data": {
      "application/vnd.jupyter.widget-view+json": {
       "model_id": "",
       "version_major": 2,
       "version_minor": 0
      },
      "text/plain": [
       "Batch...:   0%|          | 0/66 [00:00<?, ?it/s]"
      ]
     },
     "metadata": {},
     "output_type": "display_data"
    },
    {
     "data": {
      "application/vnd.jupyter.widget-view+json": {
       "model_id": "",
       "version_major": 2,
       "version_minor": 0
      },
      "text/plain": [
       "Batch...:   0%|          | 0/66 [00:00<?, ?it/s]"
      ]
     },
     "metadata": {},
     "output_type": "display_data"
    },
    {
     "data": {
      "application/vnd.jupyter.widget-view+json": {
       "model_id": "",
       "version_major": 2,
       "version_minor": 0
      },
      "text/plain": [
       "Batch...:   0%|          | 0/66 [00:00<?, ?it/s]"
      ]
     },
     "metadata": {},
     "output_type": "display_data"
    },
    {
     "data": {
      "application/vnd.jupyter.widget-view+json": {
       "model_id": "",
       "version_major": 2,
       "version_minor": 0
      },
      "text/plain": [
       "Batch...:   0%|          | 0/66 [00:00<?, ?it/s]"
      ]
     },
     "metadata": {},
     "output_type": "display_data"
    },
    {
     "data": {
      "application/vnd.jupyter.widget-view+json": {
       "model_id": "",
       "version_major": 2,
       "version_minor": 0
      },
      "text/plain": [
       "Batch...:   0%|          | 0/66 [00:00<?, ?it/s]"
      ]
     },
     "metadata": {},
     "output_type": "display_data"
    },
    {
     "data": {
      "application/vnd.jupyter.widget-view+json": {
       "model_id": "",
       "version_major": 2,
       "version_minor": 0
      },
      "text/plain": [
       "Batch...:   0%|          | 0/66 [00:00<?, ?it/s]"
      ]
     },
     "metadata": {},
     "output_type": "display_data"
    },
    {
     "data": {
      "application/vnd.jupyter.widget-view+json": {
       "model_id": "",
       "version_major": 2,
       "version_minor": 0
      },
      "text/plain": [
       "Batch...:   0%|          | 0/66 [00:00<?, ?it/s]"
      ]
     },
     "metadata": {},
     "output_type": "display_data"
    },
    {
     "data": {
      "application/vnd.jupyter.widget-view+json": {
       "model_id": "",
       "version_major": 2,
       "version_minor": 0
      },
      "text/plain": [
       "Batch...:   0%|          | 0/66 [00:00<?, ?it/s]"
      ]
     },
     "metadata": {},
     "output_type": "display_data"
    },
    {
     "data": {
      "application/vnd.jupyter.widget-view+json": {
       "model_id": "",
       "version_major": 2,
       "version_minor": 0
      },
      "text/plain": [
       "Batch...:   0%|          | 0/66 [00:00<?, ?it/s]"
      ]
     },
     "metadata": {},
     "output_type": "display_data"
    },
    {
     "data": {
      "application/vnd.jupyter.widget-view+json": {
       "model_id": "",
       "version_major": 2,
       "version_minor": 0
      },
      "text/plain": [
       "Batch...:   0%|          | 0/66 [00:00<?, ?it/s]"
      ]
     },
     "metadata": {},
     "output_type": "display_data"
    },
    {
     "data": {
      "application/vnd.jupyter.widget-view+json": {
       "model_id": "",
       "version_major": 2,
       "version_minor": 0
      },
      "text/plain": [
       "Batch...:   0%|          | 0/66 [00:00<?, ?it/s]"
      ]
     },
     "metadata": {},
     "output_type": "display_data"
    },
    {
     "data": {
      "application/vnd.jupyter.widget-view+json": {
       "model_id": "",
       "version_major": 2,
       "version_minor": 0
      },
      "text/plain": [
       "Batch...:   0%|          | 0/66 [00:00<?, ?it/s]"
      ]
     },
     "metadata": {},
     "output_type": "display_data"
    },
    {
     "data": {
      "application/vnd.jupyter.widget-view+json": {
       "model_id": "",
       "version_major": 2,
       "version_minor": 0
      },
      "text/plain": [
       "Batch...:   0%|          | 0/66 [00:00<?, ?it/s]"
      ]
     },
     "metadata": {},
     "output_type": "display_data"
    },
    {
     "data": {
      "application/vnd.jupyter.widget-view+json": {
       "model_id": "",
       "version_major": 2,
       "version_minor": 0
      },
      "text/plain": [
       "Batch...:   0%|          | 0/66 [00:00<?, ?it/s]"
      ]
     },
     "metadata": {},
     "output_type": "display_data"
    },
    {
     "data": {
      "application/vnd.jupyter.widget-view+json": {
       "model_id": "",
       "version_major": 2,
       "version_minor": 0
      },
      "text/plain": [
       "Batch...:   0%|          | 0/66 [00:00<?, ?it/s]"
      ]
     },
     "metadata": {},
     "output_type": "display_data"
    },
    {
     "data": {
      "application/vnd.jupyter.widget-view+json": {
       "model_id": "",
       "version_major": 2,
       "version_minor": 0
      },
      "text/plain": [
       "Batch...:   0%|          | 0/66 [00:00<?, ?it/s]"
      ]
     },
     "metadata": {},
     "output_type": "display_data"
    },
    {
     "data": {
      "application/vnd.jupyter.widget-view+json": {
       "model_id": "",
       "version_major": 2,
       "version_minor": 0
      },
      "text/plain": [
       "Batch...:   0%|          | 0/66 [00:00<?, ?it/s]"
      ]
     },
     "metadata": {},
     "output_type": "display_data"
    },
    {
     "data": {
      "application/vnd.jupyter.widget-view+json": {
       "model_id": "",
       "version_major": 2,
       "version_minor": 0
      },
      "text/plain": [
       "Batch...:   0%|          | 0/66 [00:00<?, ?it/s]"
      ]
     },
     "metadata": {},
     "output_type": "display_data"
    },
    {
     "data": {
      "application/vnd.jupyter.widget-view+json": {
       "model_id": "",
       "version_major": 2,
       "version_minor": 0
      },
      "text/plain": [
       "Batch...:   0%|          | 0/66 [00:00<?, ?it/s]"
      ]
     },
     "metadata": {},
     "output_type": "display_data"
    },
    {
     "data": {
      "application/vnd.jupyter.widget-view+json": {
       "model_id": "",
       "version_major": 2,
       "version_minor": 0
      },
      "text/plain": [
       "Batch...:   0%|          | 0/66 [00:00<?, ?it/s]"
      ]
     },
     "metadata": {},
     "output_type": "display_data"
    },
    {
     "data": {
      "application/vnd.jupyter.widget-view+json": {
       "model_id": "",
       "version_major": 2,
       "version_minor": 0
      },
      "text/plain": [
       "Batch...:   0%|          | 0/66 [00:00<?, ?it/s]"
      ]
     },
     "metadata": {},
     "output_type": "display_data"
    },
    {
     "data": {
      "application/vnd.jupyter.widget-view+json": {
       "model_id": "",
       "version_major": 2,
       "version_minor": 0
      },
      "text/plain": [
       "Batch...:   0%|          | 0/66 [00:00<?, ?it/s]"
      ]
     },
     "metadata": {},
     "output_type": "display_data"
    },
    {
     "data": {
      "application/vnd.jupyter.widget-view+json": {
       "model_id": "",
       "version_major": 2,
       "version_minor": 0
      },
      "text/plain": [
       "Batch...:   0%|          | 0/66 [00:00<?, ?it/s]"
      ]
     },
     "metadata": {},
     "output_type": "display_data"
    },
    {
     "data": {
      "application/vnd.jupyter.widget-view+json": {
       "model_id": "",
       "version_major": 2,
       "version_minor": 0
      },
      "text/plain": [
       "Batch...:   0%|          | 0/66 [00:00<?, ?it/s]"
      ]
     },
     "metadata": {},
     "output_type": "display_data"
    },
    {
     "data": {
      "application/vnd.jupyter.widget-view+json": {
       "model_id": "",
       "version_major": 2,
       "version_minor": 0
      },
      "text/plain": [
       "Batch...:   0%|          | 0/66 [00:00<?, ?it/s]"
      ]
     },
     "metadata": {},
     "output_type": "display_data"
    },
    {
     "data": {
      "application/vnd.jupyter.widget-view+json": {
       "model_id": "",
       "version_major": 2,
       "version_minor": 0
      },
      "text/plain": [
       "Batch...:   0%|          | 0/66 [00:00<?, ?it/s]"
      ]
     },
     "metadata": {},
     "output_type": "display_data"
    },
    {
     "data": {
      "application/vnd.jupyter.widget-view+json": {
       "model_id": "",
       "version_major": 2,
       "version_minor": 0
      },
      "text/plain": [
       "Batch...:   0%|          | 0/66 [00:00<?, ?it/s]"
      ]
     },
     "metadata": {},
     "output_type": "display_data"
    },
    {
     "data": {
      "application/vnd.jupyter.widget-view+json": {
       "model_id": "",
       "version_major": 2,
       "version_minor": 0
      },
      "text/plain": [
       "Batch...:   0%|          | 0/66 [00:00<?, ?it/s]"
      ]
     },
     "metadata": {},
     "output_type": "display_data"
    },
    {
     "data": {
      "application/vnd.jupyter.widget-view+json": {
       "model_id": "",
       "version_major": 2,
       "version_minor": 0
      },
      "text/plain": [
       "Batch...:   0%|          | 0/66 [00:00<?, ?it/s]"
      ]
     },
     "metadata": {},
     "output_type": "display_data"
    },
    {
     "data": {
      "application/vnd.jupyter.widget-view+json": {
       "model_id": "",
       "version_major": 2,
       "version_minor": 0
      },
      "text/plain": [
       "Batch...:   0%|          | 0/66 [00:00<?, ?it/s]"
      ]
     },
     "metadata": {},
     "output_type": "display_data"
    },
    {
     "data": {
      "application/vnd.jupyter.widget-view+json": {
       "model_id": "",
       "version_major": 2,
       "version_minor": 0
      },
      "text/plain": [
       "Batch...:   0%|          | 0/66 [00:00<?, ?it/s]"
      ]
     },
     "metadata": {},
     "output_type": "display_data"
    },
    {
     "data": {
      "application/vnd.jupyter.widget-view+json": {
       "model_id": "",
       "version_major": 2,
       "version_minor": 0
      },
      "text/plain": [
       "Batch...:   0%|          | 0/66 [00:00<?, ?it/s]"
      ]
     },
     "metadata": {},
     "output_type": "display_data"
    },
    {
     "data": {
      "application/vnd.jupyter.widget-view+json": {
       "model_id": "",
       "version_major": 2,
       "version_minor": 0
      },
      "text/plain": [
       "Batch...:   0%|          | 0/66 [00:00<?, ?it/s]"
      ]
     },
     "metadata": {},
     "output_type": "display_data"
    },
    {
     "data": {
      "application/vnd.jupyter.widget-view+json": {
       "model_id": "",
       "version_major": 2,
       "version_minor": 0
      },
      "text/plain": [
       "Batch...:   0%|          | 0/66 [00:00<?, ?it/s]"
      ]
     },
     "metadata": {},
     "output_type": "display_data"
    },
    {
     "data": {
      "application/vnd.jupyter.widget-view+json": {
       "model_id": "",
       "version_major": 2,
       "version_minor": 0
      },
      "text/plain": [
       "Batch...:   0%|          | 0/66 [00:00<?, ?it/s]"
      ]
     },
     "metadata": {},
     "output_type": "display_data"
    },
    {
     "data": {
      "application/vnd.jupyter.widget-view+json": {
       "model_id": "",
       "version_major": 2,
       "version_minor": 0
      },
      "text/plain": [
       "Batch...:   0%|          | 0/66 [00:00<?, ?it/s]"
      ]
     },
     "metadata": {},
     "output_type": "display_data"
    },
    {
     "data": {
      "application/vnd.jupyter.widget-view+json": {
       "model_id": "",
       "version_major": 2,
       "version_minor": 0
      },
      "text/plain": [
       "Batch...:   0%|          | 0/66 [00:00<?, ?it/s]"
      ]
     },
     "metadata": {},
     "output_type": "display_data"
    },
    {
     "data": {
      "application/vnd.jupyter.widget-view+json": {
       "model_id": "",
       "version_major": 2,
       "version_minor": 0
      },
      "text/plain": [
       "Batch...:   0%|          | 0/66 [00:00<?, ?it/s]"
      ]
     },
     "metadata": {},
     "output_type": "display_data"
    },
    {
     "data": {
      "application/vnd.jupyter.widget-view+json": {
       "model_id": "",
       "version_major": 2,
       "version_minor": 0
      },
      "text/plain": [
       "Batch...:   0%|          | 0/66 [00:00<?, ?it/s]"
      ]
     },
     "metadata": {},
     "output_type": "display_data"
    },
    {
     "data": {
      "application/vnd.jupyter.widget-view+json": {
       "model_id": "",
       "version_major": 2,
       "version_minor": 0
      },
      "text/plain": [
       "Batch...:   0%|          | 0/66 [00:00<?, ?it/s]"
      ]
     },
     "metadata": {},
     "output_type": "display_data"
    },
    {
     "data": {
      "application/vnd.jupyter.widget-view+json": {
       "model_id": "",
       "version_major": 2,
       "version_minor": 0
      },
      "text/plain": [
       "Batch...:   0%|          | 0/66 [00:00<?, ?it/s]"
      ]
     },
     "metadata": {},
     "output_type": "display_data"
    },
    {
     "data": {
      "application/vnd.jupyter.widget-view+json": {
       "model_id": "",
       "version_major": 2,
       "version_minor": 0
      },
      "text/plain": [
       "Batch...:   0%|          | 0/66 [00:00<?, ?it/s]"
      ]
     },
     "metadata": {},
     "output_type": "display_data"
    },
    {
     "data": {
      "application/vnd.jupyter.widget-view+json": {
       "model_id": "",
       "version_major": 2,
       "version_minor": 0
      },
      "text/plain": [
       "Batch...:   0%|          | 0/66 [00:00<?, ?it/s]"
      ]
     },
     "metadata": {},
     "output_type": "display_data"
    },
    {
     "data": {
      "application/vnd.jupyter.widget-view+json": {
       "model_id": "",
       "version_major": 2,
       "version_minor": 0
      },
      "text/plain": [
       "Batch...:   0%|          | 0/66 [00:00<?, ?it/s]"
      ]
     },
     "metadata": {},
     "output_type": "display_data"
    },
    {
     "data": {
      "application/vnd.jupyter.widget-view+json": {
       "model_id": "",
       "version_major": 2,
       "version_minor": 0
      },
      "text/plain": [
       "Batch...:   0%|          | 0/66 [00:00<?, ?it/s]"
      ]
     },
     "metadata": {},
     "output_type": "display_data"
    },
    {
     "data": {
      "application/vnd.jupyter.widget-view+json": {
       "model_id": "",
       "version_major": 2,
       "version_minor": 0
      },
      "text/plain": [
       "Batch...:   0%|          | 0/66 [00:00<?, ?it/s]"
      ]
     },
     "metadata": {},
     "output_type": "display_data"
    },
    {
     "data": {
      "application/vnd.jupyter.widget-view+json": {
       "model_id": "",
       "version_major": 2,
       "version_minor": 0
      },
      "text/plain": [
       "Batch...:   0%|          | 0/66 [00:00<?, ?it/s]"
      ]
     },
     "metadata": {},
     "output_type": "display_data"
    },
    {
     "data": {
      "application/vnd.jupyter.widget-view+json": {
       "model_id": "",
       "version_major": 2,
       "version_minor": 0
      },
      "text/plain": [
       "Batch...:   0%|          | 0/66 [00:00<?, ?it/s]"
      ]
     },
     "metadata": {},
     "output_type": "display_data"
    },
    {
     "data": {
      "application/vnd.jupyter.widget-view+json": {
       "model_id": "",
       "version_major": 2,
       "version_minor": 0
      },
      "text/plain": [
       "Batch...:   0%|          | 0/66 [00:00<?, ?it/s]"
      ]
     },
     "metadata": {},
     "output_type": "display_data"
    },
    {
     "data": {
      "application/vnd.jupyter.widget-view+json": {
       "model_id": "",
       "version_major": 2,
       "version_minor": 0
      },
      "text/plain": [
       "Batch...:   0%|          | 0/66 [00:00<?, ?it/s]"
      ]
     },
     "metadata": {},
     "output_type": "display_data"
    },
    {
     "data": {
      "application/vnd.jupyter.widget-view+json": {
       "model_id": "",
       "version_major": 2,
       "version_minor": 0
      },
      "text/plain": [
       "Batch...:   0%|          | 0/66 [00:00<?, ?it/s]"
      ]
     },
     "metadata": {},
     "output_type": "display_data"
    },
    {
     "data": {
      "application/vnd.jupyter.widget-view+json": {
       "model_id": "",
       "version_major": 2,
       "version_minor": 0
      },
      "text/plain": [
       "Batch...:   0%|          | 0/66 [00:00<?, ?it/s]"
      ]
     },
     "metadata": {},
     "output_type": "display_data"
    },
    {
     "data": {
      "application/vnd.jupyter.widget-view+json": {
       "model_id": "",
       "version_major": 2,
       "version_minor": 0
      },
      "text/plain": [
       "Batch...:   0%|          | 0/66 [00:00<?, ?it/s]"
      ]
     },
     "metadata": {},
     "output_type": "display_data"
    },
    {
     "data": {
      "application/vnd.jupyter.widget-view+json": {
       "model_id": "03f814687db746cb8a2fe6b3337a2cee",
       "version_major": 2,
       "version_minor": 0
      },
      "text/plain": [
       "Batch...:   0%|          | 0/66 [00:00<?, ?it/s]"
      ]
     },
     "metadata": {},
     "output_type": "display_data"
    },
    {
     "ename": "KeyboardInterrupt",
     "evalue": "",
     "output_type": "error",
     "traceback": [
      "\u001b[0;31m---------------------------------------------------------------------------\u001b[0m",
      "\u001b[0;31mKeyboardInterrupt\u001b[0m                         Traceback (most recent call last)",
      "Cell \u001b[0;32mIn[197], line 37\u001b[0m\n\u001b[1;32m     33\u001b[0m \u001b[38;5;66;03m#f1score = metric(Y_hat, batch_output_jj)\u001b[39;00m\n\u001b[1;32m     34\u001b[0m \u001b[38;5;66;03m#average_epoch_metric += [f1score.item()]\u001b[39;00m\n\u001b[1;32m     36\u001b[0m running_loss \u001b[38;5;241m+\u001b[39m\u001b[38;5;241m=\u001b[39m loss\u001b[38;5;241m.\u001b[39mitem()\n\u001b[0;32m---> 37\u001b[0m \u001b[43mloss\u001b[49m\u001b[38;5;241;43m.\u001b[39;49m\u001b[43mbackward\u001b[49m\u001b[43m(\u001b[49m\u001b[43m)\u001b[49m  \u001b[38;5;66;03m# compute dloss/dx and accumulated into x.grad\u001b[39;00m\n\u001b[1;32m     38\u001b[0m optimizer\u001b[38;5;241m.\u001b[39mstep()  \u001b[38;5;66;03m# compute x += -learning_rate * x.grad\u001b[39;00m\n\u001b[1;32m     40\u001b[0m model\u001b[38;5;241m.\u001b[39meval()\n",
      "File \u001b[0;32m~/anaconda3/envs/bonn17/lib/python3.11/site-packages/torch/_tensor.py:487\u001b[0m, in \u001b[0;36mTensor.backward\u001b[0;34m(self, gradient, retain_graph, create_graph, inputs)\u001b[0m\n\u001b[1;32m    477\u001b[0m \u001b[38;5;28;01mif\u001b[39;00m has_torch_function_unary(\u001b[38;5;28mself\u001b[39m):\n\u001b[1;32m    478\u001b[0m     \u001b[38;5;28;01mreturn\u001b[39;00m handle_torch_function(\n\u001b[1;32m    479\u001b[0m         Tensor\u001b[38;5;241m.\u001b[39mbackward,\n\u001b[1;32m    480\u001b[0m         (\u001b[38;5;28mself\u001b[39m,),\n\u001b[0;32m   (...)\u001b[0m\n\u001b[1;32m    485\u001b[0m         inputs\u001b[38;5;241m=\u001b[39minputs,\n\u001b[1;32m    486\u001b[0m     )\n\u001b[0;32m--> 487\u001b[0m \u001b[43mtorch\u001b[49m\u001b[38;5;241;43m.\u001b[39;49m\u001b[43mautograd\u001b[49m\u001b[38;5;241;43m.\u001b[39;49m\u001b[43mbackward\u001b[49m\u001b[43m(\u001b[49m\n\u001b[1;32m    488\u001b[0m \u001b[43m    \u001b[49m\u001b[38;5;28;43mself\u001b[39;49m\u001b[43m,\u001b[49m\u001b[43m \u001b[49m\u001b[43mgradient\u001b[49m\u001b[43m,\u001b[49m\u001b[43m \u001b[49m\u001b[43mretain_graph\u001b[49m\u001b[43m,\u001b[49m\u001b[43m \u001b[49m\u001b[43mcreate_graph\u001b[49m\u001b[43m,\u001b[49m\u001b[43m \u001b[49m\u001b[43minputs\u001b[49m\u001b[38;5;241;43m=\u001b[39;49m\u001b[43minputs\u001b[49m\n\u001b[1;32m    489\u001b[0m \u001b[43m\u001b[49m\u001b[43m)\u001b[49m\n",
      "File \u001b[0;32m~/anaconda3/envs/bonn17/lib/python3.11/site-packages/torch/autograd/__init__.py:200\u001b[0m, in \u001b[0;36mbackward\u001b[0;34m(tensors, grad_tensors, retain_graph, create_graph, grad_variables, inputs)\u001b[0m\n\u001b[1;32m    195\u001b[0m     retain_graph \u001b[38;5;241m=\u001b[39m create_graph\n\u001b[1;32m    197\u001b[0m \u001b[38;5;66;03m# The reason we repeat same the comment below is that\u001b[39;00m\n\u001b[1;32m    198\u001b[0m \u001b[38;5;66;03m# some Python versions print out the first line of a multi-line function\u001b[39;00m\n\u001b[1;32m    199\u001b[0m \u001b[38;5;66;03m# calls in the traceback and some print out the last line\u001b[39;00m\n\u001b[0;32m--> 200\u001b[0m \u001b[43mVariable\u001b[49m\u001b[38;5;241;43m.\u001b[39;49m\u001b[43m_execution_engine\u001b[49m\u001b[38;5;241;43m.\u001b[39;49m\u001b[43mrun_backward\u001b[49m\u001b[43m(\u001b[49m\u001b[43m  \u001b[49m\u001b[38;5;66;43;03m# Calls into the C++ engine to run the backward pass\u001b[39;49;00m\n\u001b[1;32m    201\u001b[0m \u001b[43m    \u001b[49m\u001b[43mtensors\u001b[49m\u001b[43m,\u001b[49m\u001b[43m \u001b[49m\u001b[43mgrad_tensors_\u001b[49m\u001b[43m,\u001b[49m\u001b[43m \u001b[49m\u001b[43mretain_graph\u001b[49m\u001b[43m,\u001b[49m\u001b[43m \u001b[49m\u001b[43mcreate_graph\u001b[49m\u001b[43m,\u001b[49m\u001b[43m \u001b[49m\u001b[43minputs\u001b[49m\u001b[43m,\u001b[49m\n\u001b[1;32m    202\u001b[0m \u001b[43m    \u001b[49m\u001b[43mallow_unreachable\u001b[49m\u001b[38;5;241;43m=\u001b[39;49m\u001b[38;5;28;43;01mTrue\u001b[39;49;00m\u001b[43m,\u001b[49m\u001b[43m \u001b[49m\u001b[43maccumulate_grad\u001b[49m\u001b[38;5;241;43m=\u001b[39;49m\u001b[38;5;28;43;01mTrue\u001b[39;49;00m\u001b[43m)\u001b[49m\n",
      "\u001b[0;31mKeyboardInterrupt\u001b[0m: "
     ]
    }
   ],
   "source": [
    "epoch_loss = []\n",
    "epoch_acc = []\n",
    "for ii in tqdm(range(N_EPOCHS), desc ='Training...',position=0,leave=True):\n",
    "    average_epoch_loss = []\n",
    "    average_epoch_metric = []\n",
    "    average_epoch_acc = []\n",
    "    \n",
    "    running_loss = 0.0\n",
    "    epoch = create_epoch_with_same_size_batching(length_with_index_dict, BATCH_SIZE , shuffle=True)\n",
    "\n",
    "    for jj, idxs in enumerate(tqdm(epoch,desc = \"Batch...\",position=1, leave=False)): #enumerate(epoch):\n",
    "        model.train()\n",
    "        # index by indices in batch\n",
    "\n",
    "        batch_input_jj = X_train.iloc[idxs]\n",
    "        \n",
    "        batch_input_jj_lens = torch.from_numpy(X_train_lens.iloc[idxs].values).to(device)\n",
    "        \n",
    "        batch_input = pad_batch_online(batch_input_jj_lens, batch_input_jj, style=\"zero\")\n",
    "        batch_input = torch.from_numpy(batch_input).to(torch.float32).to(device)\n",
    "\n",
    "        #Y_hat = model(batch_input.squeeze())\n",
    "        Y_hat = model(batch_input, batch_input_jj_lens)\n",
    "\n",
    "        #batch_output_jj = torch.from_numpy(Y.iloc[idxs].values).to(device)\n",
    "        batch_output_jj = torch.from_numpy(np.stack(Y_train.iloc[idxs].values)).to(device)\n",
    "\n",
    "\n",
    "        optimizer.zero_grad() # set gradients to zero before performing backprop\n",
    "        loss = criterion(Y_hat.squeeze(), batch_output_jj.to(torch.float32))\n",
    "        average_epoch_loss += [loss.item()]\n",
    "        \n",
    "        #f1score = metric(Y_hat, batch_output_jj)\n",
    "        #average_epoch_metric += [f1score.item()]\n",
    "        \n",
    "        running_loss += loss.item()\n",
    "        loss.backward()  # compute dloss/dx and accumulated into x.grad\n",
    "        optimizer.step()  # compute x += -learning_rate * x.grad\n",
    "\n",
    "        model.eval()\n",
    "        #Y_hat = model(batch_input.squeeze())\n",
    "        Y_hat = model(batch_input, batch_input_jj_lens)\n",
    "        acc = (Y_hat.round().squeeze() == batch_output_jj).float().mean()\n",
    "        acc = float(acc)\n",
    "        average_epoch_acc += [acc]\n",
    "    \n",
    "    epoch_loss += [np.mean(average_epoch_loss)]\n",
    "    epoch_acc += [np.mean(average_epoch_acc)]\n",
    "    #print(\"Avg Training Loss: \" + str(np.mean(average_epoch_loss)) + \"\\n\" +\n",
    "    #      #\"Avg Training Score: \" + str(np.mean(average_epoch_metric)) + \"\\n\" +\n",
    "    #      \"Running Training Loss: \" + str(float(running_loss)))\n",
    "    #time.sleep(0.1)\n",
    "    "
   ]
  },
  {
   "cell_type": "code",
   "execution_count": 198,
   "id": "e9c35c57-532f-44c8-a03c-73a0b0387d3f",
   "metadata": {},
   "outputs": [
    {
     "data": {
      "text/plain": [
       "[<matplotlib.lines.Line2D at 0x323d7c1d0>]"
      ]
     },
     "execution_count": 198,
     "metadata": {},
     "output_type": "execute_result"
    },
    {
     "data": {
      "image/png": "[encoded data removed]",
      "text/plain": [
       "<Figure size 640x480 with 1 Axes>"
      ]
     },
     "metadata": {},
     "output_type": "display_data"
    }
   ],
   "source": [
    "fig, ax = plt.subplots()\n",
    "ax.plot(range(len(epoch_loss)), epoch_loss)"
   ]
  },
  {
   "cell_type": "code",
   "execution_count": 39,
   "id": "784df842-b45e-49d1-aec2-8f65539d9a8e",
   "metadata": {},
   "outputs": [
    {
     "data": {
      "text/plain": [
       "[<matplotlib.lines.Line2D at 0x2b96b12d0>]"
      ]
     },
     "execution_count": 39,
     "metadata": {},
     "output_type": "execute_result"
    },
    {
     "data": {
      "image/png": "[encoded data removed]",
      "text/plain": [
       "<Figure size 640x480 with 1 Axes>"
      ]
     },
     "metadata": {},
     "output_type": "display_data"
    }
   ],
   "source": [
    "fig, ax = plt.subplots()\n",
    "ax.plot(range(len(epoch_loss)), epoch_loss)"
   ]
  },
  {
   "cell_type": "code",
   "execution_count": 199,
   "id": "04869234-47b1-4ca5-8159-317b1f9b3442",
   "metadata": {},
   "outputs": [
    {
     "data": {
      "text/plain": [
       "[<matplotlib.lines.Line2D at 0x323d8cc10>]"
      ]
     },
     "execution_count": 199,
     "metadata": {},
     "output_type": "execute_result"
    },
    {
     "data": {
      "image/png": "[encoded data removed]",
      "text/plain": [
       "<Figure size 640x480 with 1 Axes>"
      ]
     },
     "metadata": {},
     "output_type": "display_data"
    }
   ],
   "source": [
    "fig, ax = plt.subplots()\n",
    "ax.plot(range(len(epoch_acc)), epoch_acc)"
   ]
  },
  {
   "cell_type": "code",
   "execution_count": 40,
   "id": "373d2e12-9df7-4196-a980-d8d0b8f4f974",
   "metadata": {},
   "outputs": [
    {
     "data": {
      "text/plain": [
       "[<matplotlib.lines.Line2D at 0x2b9694350>]"
      ]
     },
     "execution_count": 40,
     "metadata": {},
     "output_type": "execute_result"
    },
    {
     "data": {
      "image/png": "[encoded data removed]",
      "text/plain": [
       "<Figure size 640x480 with 1 Axes>"
      ]
     },
     "metadata": {},
     "output_type": "display_data"
    }
   ],
   "source": [
    "fig, ax = plt.subplots()\n",
    "ax.plot(range(len(epoch_acc)), epoch_acc)"
   ]
  },
  {
   "cell_type": "code",
   "execution_count": 200,
   "id": "5575c5c7-4d12-469a-9c13-e4ca6963280b",
   "metadata": {},
   "outputs": [
    {
     "data": {
      "application/vnd.jupyter.widget-view+json": {
       "model_id": "c15bd6fe4cfc4797ae31106834d357c3",
       "version_major": 2,
       "version_minor": 0
      },
      "text/plain": [
       "0it [00:00, ?it/s]"
      ]
     },
     "metadata": {},
     "output_type": "display_data"
    }
   ],
   "source": [
    "model.eval()\n",
    "true_labels = []\n",
    "pred_labels = []\n",
    "for i,x in tqdm(enumerate(X_valid)):\n",
    "    x_lens = torch.Tensor([X_valid_lens.iloc[i]]).to(device)\n",
    "    x = torch.from_numpy(np.expand_dims(X_valid.iloc[i],axis=0)).to(torch.float32).to(device)\n",
    "    Y_hat = model(x, x_lens)\n",
    "    batch_output_jj = torch.from_numpy(Y_valid.iloc[i]).to(device)\n",
    "\n",
    "    pred_labels += list(np.where(Y_hat.detach().numpy().round() == 1)[1])\n",
    "    true_labels += list(np.where(batch_output_jj.detach().numpy() == 1)[0])"
   ]
  },
  {
   "cell_type": "code",
   "execution_count": 179,
   "id": "629b61a4-0bf0-448c-98b2-2d270a79b423",
   "metadata": {},
   "outputs": [
    {
     "data": {
      "text/plain": [
       "array([0, 2])"
      ]
     },
     "execution_count": 179,
     "metadata": {},
     "output_type": "execute_result"
    }
   ],
   "source": [
    "np.unique(pred_labels)"
   ]
  },
  {
   "cell_type": "code",
   "execution_count": 180,
   "id": "587c8b70-d57d-4068-9bfe-d46571c5ff12",
   "metadata": {},
   "outputs": [
    {
     "data": {
      "text/plain": [
       "array([0, 1, 2, 3, 5])"
      ]
     },
     "execution_count": 180,
     "metadata": {},
     "output_type": "execute_result"
    }
   ],
   "source": [
    "np.unique(true_labels)"
   ]
  },
  {
   "cell_type": "code",
   "execution_count": 201,
   "id": "86404c12-b317-4c05-94c5-0e5d4d0f7ce2",
   "metadata": {},
   "outputs": [
    {
     "name": "stdout",
     "output_type": "stream",
     "text": [
      "              precision    recall  f1-score   support\n",
      "\n",
      "           0       0.48      0.91      0.63       133\n",
      "           1       0.00      0.00      0.00        57\n",
      "           2       0.54      0.46      0.50       113\n",
      "           3       0.00      0.00      0.00        31\n",
      "           5       0.00      0.00      0.00        14\n",
      "\n",
      "    accuracy                           0.50       348\n",
      "   macro avg       0.20      0.27      0.23       348\n",
      "weighted avg       0.36      0.50      0.40       348\n",
      "\n"
     ]
    },
    {
     "name": "stderr",
     "output_type": "stream",
     "text": [
      "/Users/labadmin/anaconda3/envs/bonn17/lib/python3.11/site-packages/sklearn/metrics/_classification.py:1469: UndefinedMetricWarning: Precision and F-score are ill-defined and being set to 0.0 in labels with no predicted samples. Use `zero_division` parameter to control this behavior.\n",
      "  _warn_prf(average, modifier, msg_start, len(result))\n",
      "/Users/labadmin/anaconda3/envs/bonn17/lib/python3.11/site-packages/sklearn/metrics/_classification.py:1469: UndefinedMetricWarning: Precision and F-score are ill-defined and being set to 0.0 in labels with no predicted samples. Use `zero_division` parameter to control this behavior.\n",
      "  _warn_prf(average, modifier, msg_start, len(result))\n",
      "/Users/labadmin/anaconda3/envs/bonn17/lib/python3.11/site-packages/sklearn/metrics/_classification.py:1469: UndefinedMetricWarning: Precision and F-score are ill-defined and being set to 0.0 in labels with no predicted samples. Use `zero_division` parameter to control this behavior.\n",
      "  _warn_prf(average, modifier, msg_start, len(result))\n"
     ]
    }
   ],
   "source": [
    "from sklearn.metrics import classification_report\n",
    "print(classificatison_report(true_labels, pred_labels))"
   ]
  },
  {
   "cell_type": "code",
   "execution_count": 129,
   "id": "699c1153-a7e5-4042-9272-1f3b1dc29218",
   "metadata": {},
   "outputs": [],
   "source": [
    "from sklearn.svm import SVC"
   ]
  },
  {
   "cell_type": "code",
   "execution_count": 183,
   "id": "3ba7b699-b7d4-4976-9da3-3514b3531630",
   "metadata": {},
   "outputs": [],
   "source": [
    "input = pad_batch_online(X_train_lens, X_train, style=\"zero\").reshape((X_train.shape[0],-1))"
   ]
  },
  {
   "cell_type": "code",
   "execution_count": 184,
   "id": "22baa392-972c-4217-a524-ddf4c5220ee2",
   "metadata": {},
   "outputs": [],
   "source": [
    "input_valid = pad_batch_online(X_valid_lens, X_valid, style=\"zero\").reshape((X_valid.shape[0],-1))"
   ]
  },
  {
   "cell_type": "code",
   "execution_count": 185,
   "id": "27a9bd0e-4409-4576-b28b-855bef17ee4c",
   "metadata": {
    "scrolled": true
   },
   "outputs": [
    {
     "data": {
      "text/html": [
       "<style>#sk-container-id-2 {color: black;}#sk-container-id-2 pre{padding: 0;}#sk-container-id-2 div.sk-toggleable {background-color: white;}#sk-container-id-2 label.sk-toggleable__label {cursor: pointer;display: block;width: 100%;margin-bottom: 0;padding: 0.3em;box-sizing: border-box;text-align: center;}#sk-container-id-2 label.sk-toggleable__label-arrow:before {content: \"▸\";float: left;margin-right: 0.25em;color: #696969;}#sk-container-id-2 label.sk-toggleable__label-arrow:hover:before {color: black;}#sk-container-id-2 div.sk-estimator:hover label.sk-toggleable__label-arrow:before {color: black;}#sk-container-id-2 div.sk-toggleable__content {max-height: 0;max-width: 0;overflow: hidden;text-align: left;background-color: #f0f8ff;}#sk-container-id-2 div.sk-toggleable__content pre {margin: 0.2em;color: black;border-radius: 0.25em;background-color: #f0f8ff;}#sk-container-id-2 input.sk-toggleable__control:checked~div.sk-toggleable__content {max-height: 200px;max-width: 100%;overflow: auto;}#sk-container-id-2 input.sk-toggleable__control:checked~label.sk-toggleable__label-arrow:before {content: \"▾\";}#sk-container-id-2 div.sk-estimator input.sk-toggleable__control:checked~label.sk-toggleable__label {background-color: #d4ebff;}#sk-container-id-2 div.sk-label input.sk-toggleable__control:checked~label.sk-toggleable__label {background-color: #d4ebff;}#sk-container-id-2 input.sk-hidden--visually {border: 0;clip: rect(1px 1px 1px 1px);clip: rect(1px, 1px, 1px, 1px);height: 1px;margin: -1px;overflow: hidden;padding: 0;position: absolute;width: 1px;}#sk-container-id-2 div.sk-estimator {font-family: monospace;background-color: #f0f8ff;border: 1px dotted black;border-radius: 0.25em;box-sizing: border-box;margin-bottom: 0.5em;}#sk-container-id-2 div.sk-estimator:hover {background-color: #d4ebff;}#sk-container-id-2 div.sk-parallel-item::after {content: \"\";width: 100%;border-bottom: 1px solid gray;flex-grow: 1;}#sk-container-id-2 div.sk-label:hover label.sk-toggleable__label {background-color: #d4ebff;}#sk-container-id-2 div.sk-serial::before {content: \"\";position: absolute;border-left: 1px solid gray;box-sizing: border-box;top: 0;bottom: 0;left: 50%;z-index: 0;}#sk-container-id-2 div.sk-serial {display: flex;flex-direction: column;align-items: center;background-color: white;padding-right: 0.2em;padding-left: 0.2em;position: relative;}#sk-container-id-2 div.sk-item {position: relative;z-index: 1;}#sk-container-id-2 div.sk-parallel {display: flex;align-items: stretch;justify-content: center;background-color: white;position: relative;}#sk-container-id-2 div.sk-item::before, #sk-container-id-2 div.sk-parallel-item::before {content: \"\";position: absolute;border-left: 1px solid gray;box-sizing: border-box;top: 0;bottom: 0;left: 50%;z-index: -1;}#sk-container-id-2 div.sk-parallel-item {display: flex;flex-direction: column;z-index: 1;position: relative;background-color: white;}#sk-container-id-2 div.sk-parallel-item:first-child::after {align-self: flex-end;width: 50%;}#sk-container-id-2 div.sk-parallel-item:last-child::after {align-self: flex-start;width: 50%;}#sk-container-id-2 div.sk-parallel-item:only-child::after {width: 0;}#sk-container-id-2 div.sk-dashed-wrapped {border: 1px dashed gray;margin: 0 0.4em 0.5em 0.4em;box-sizing: border-box;padding-bottom: 0.4em;background-color: white;}#sk-container-id-2 div.sk-label label {font-family: monospace;font-weight: bold;display: inline-block;line-height: 1.2em;}#sk-container-id-2 div.sk-label-container {text-align: center;}#sk-container-id-2 div.sk-container {/* jupyter's `normalize.less` sets `[hidden] { display: none; }` but bootstrap.min.css set `[hidden] { display: none !important; }` so we also need the `!important` here to be able to override the default hidden behavior on the sphinx rendered scikit-learn.org. See: https://github.com/scikit-learn/scikit-learn/issues/21755 */display: inline-block !important;position: relative;}#sk-container-id-2 div.sk-text-repr-fallback {display: none;}</style><div id=\"sk-container-id-2\" class=\"sk-top-container\"><div class=\"sk-text-repr-fallback\"><pre>SVC()</pre><b>In a Jupyter environment, please rerun this cell to show the HTML representation or trust the notebook. <br />On GitHub, the HTML representation is unable to render, please try loading this page with nbviewer.org.</b></div><div class=\"sk-container\" hidden><div class=\"sk-item\"><div class=\"sk-estimator sk-toggleable\"><input class=\"sk-toggleable__control sk-hidden--visually\" id=\"sk-estimator-id-2\" type=\"checkbox\" checked><label for=\"sk-estimator-id-2\" class=\"sk-toggleable__label sk-toggleable__label-arrow\">SVC</label><div class=\"sk-toggleable__content\"><pre>SVC()</pre></div></div></div></div></div>"
      ],
      "text/plain": [
       "SVC()"
      ]
     },
     "execution_count": 185,
     "metadata": {},
     "output_type": "execute_result"
    }
   ],
   "source": [
    "model = SVC(kernel='rbf')\n",
    "model.fit(input, Y_train.apply(lambda x: np.where(x==1)[0][0]))"
   ]
  },
  {
   "cell_type": "code",
   "execution_count": 186,
   "id": "e1823d32-95dc-4782-909b-64036dcf7fb0",
   "metadata": {},
   "outputs": [
    {
     "data": {
      "text/plain": [
       "array([2, 0, 3, 1, 5])"
      ]
     },
     "execution_count": 186,
     "metadata": {},
     "output_type": "execute_result"
    }
   ],
   "source": [
    "Y_valid.apply(lambda x: np.where(x==1)[0][0]).unique()"
   ]
  },
  {
   "cell_type": "code",
   "execution_count": 187,
   "id": "be4a344e-b62e-4046-ab3a-836e82b7c4f6",
   "metadata": {},
   "outputs": [],
   "source": [
    "Y_pred = model.predict(input_valid)"
   ]
  },
  {
   "cell_type": "code",
   "execution_count": 190,
   "id": "cb5a3171-4ff8-4cac-b020-1b4cdfb2489b",
   "metadata": {},
   "outputs": [
    {
     "data": {
      "text/plain": [
       "array([0, 1, 2, 3, 5])"
      ]
     },
     "execution_count": 190,
     "metadata": {},
     "output_type": "execute_result"
    }
   ],
   "source": [
    "np.unique(Y_pred)"
   ]
  },
  {
   "cell_type": "code",
   "execution_count": 191,
   "id": "265b26f1-e830-4ba9-984f-4c417be2ab13",
   "metadata": {
    "scrolled": true
   },
   "outputs": [
    {
     "name": "stdout",
     "output_type": "stream",
     "text": [
      "              precision    recall  f1-score   support\n",
      "\n",
      "           0       0.56      0.87      0.68       133\n",
      "           1       0.84      0.28      0.42        57\n",
      "           2       0.63      0.65      0.64       113\n",
      "           3       1.00      0.19      0.32        31\n",
      "           5       1.00      0.07      0.13        14\n",
      "\n",
      "    accuracy                           0.61       348\n",
      "   macro avg       0.81      0.41      0.44       348\n",
      "weighted avg       0.69      0.61      0.57       348\n",
      "\n"
     ]
    }
   ],
   "source": [
    "print(classification_report(Y_valid.apply(lambda x: np.where(x==1)[0][0]), Y_pred, ))"
   ]
  }
 ],
 "metadata": {
  "kernelspec": {
   "display_name": "Python 3 (ipykernel)",
   "language": "python",
   "name": "python3"
  },
  "language_info": {
   "codemirror_mode": {
    "name": "ipython",
    "version": 3
   },
   "file_extension": ".py",
   "mimetype": "text/x-python",
   "name": "python",
   "nbconvert_exporter": "python",
   "pygments_lexer": "ipython3",
   "version": "3.11.4"
  }
 },
 "nbformat": 4,
 "nbformat_minor": 5
}
