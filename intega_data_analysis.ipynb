{
 "cells": [
  {
   "cell_type": "code",
   "execution_count": 1,
   "id": "687645ff-c312-445f-b542-9511c03e330c",
   "metadata": {},
   "outputs": [],
   "source": [
    "import sys\n",
    "sys.path.insert(1, '/Users/labadmin/Projects/immusign')\n",
    "import shutil\n",
    "import os.path"
   ]
  },
  {
   "cell_type": "code",
   "execution_count": 2,
   "id": "daf99de0-453e-4b95-bc64-8a4fa9cefc90",
   "metadata": {},
   "outputs": [
    {
     "name": "stderr",
     "output_type": "stream",
     "text": [
      "Using `tqdm.autonotebook.tqdm` in notebook mode. Use `tqdm.tqdm` instead to force console mode (e.g. in jupyter console)\n"
     ]
    }
   ],
   "source": [
    "import numpy as np\n",
    "import pandas as pd\n",
    "from tqdm.notebook import tqdm\n",
    "np.float = float\n",
    "np.bool = bool\n",
    "np.int = int\n",
    "import matplotlib.pyplot as plt\n",
    "import seaborn as sns\n",
    "import random\n",
    "import torch\n",
    "import time\n",
    "from torch.nn.utils.rnn import pack_padded_sequence, pad_packed_sequence\n",
    "import utils\n",
    "import shap\n",
    "from sklearn.metrics import classification_report\n",
    "from sklearn.metrics import confusion_matrix, ConfusionMatrixDisplay"
   ]
  },
  {
   "cell_type": "markdown",
   "id": "857b8991-bbe0-44f2-8f0c-e2ac53982ce6",
   "metadata": {},
   "source": [
    "# Read Filereport"
   ]
  },
  {
   "cell_type": "code",
   "execution_count": 4,
   "id": "e7c2264e-79f1-4124-b70d-b2399316b865",
   "metadata": {},
   "outputs": [],
   "source": [
    "filereport = pd.read_csv(\"intega/filereport_read_run_PRJEB55475_tsv.txt\",delim_whitespace=True)\n",
    "filereport[\"filenames\"] = filereport[\"sra_ftp\"].apply(lambda x: \"_\".join(x.split(\"/\")[-1].split(\".\")[0].split(\"_\")[0:2]))\n",
    "filereport[\"stripped_patient_id\"] = filereport[\"filenames\"].apply(utils.get_stripped_pat_no)"
   ]
  },
  {
   "cell_type": "code",
   "execution_count": 7,
   "id": "29cc1220-b329-46ac-b9b2-09c2b80ddfd0",
   "metadata": {},
   "outputs": [
    {
     "data": {
      "application/vnd.jupyter.widget-view+json": {
       "model_id": "8b9a033d95d04f61b0841d49f65126a8",
       "version_major": 2,
       "version_minor": 0
      },
      "text/plain": [
       "  0%|          | 0/146 [00:00<?, ?it/s]"
      ]
     },
     "metadata": {},
     "output_type": "display_data"
    }
   ],
   "source": [
    "for file in tqdm(filereport.filenames):\n",
    "    file_name = file + \".clones.txt\"\n",
    "    dest_path = \"intega/Intega_final/\"\n",
    "    src_path = \"intega/Intega/\"\n",
    "    if not os.path.exists(dest_path + file_name):\n",
    "        shutil.copy2( src_path + file_name, dest_path)"
   ]
  },
  {
   "cell_type": "markdown",
   "id": "8c9aec58-be71-4326-b55f-f03077cdb35a",
   "metadata": {},
   "source": [
    "# Load Data read from R-Script"
   ]
  },
  {
   "cell_type": "code",
   "execution_count": 3,
   "id": "b6e913ee-07fc-4cf3-a4f0-f44abe486f23",
   "metadata": {},
   "outputs": [],
   "source": [
    "import rpy2.robjects as robjects\n",
    "robjects.r['load'](\"intega/intega_not_normalized_with_out_of_frame.RData\")\n",
    "twb = robjects.r['twb']"
   ]
  },
  {
   "cell_type": "code",
   "execution_count": 4,
   "id": "a7170f07-0642-4591-bc27-b1eebf443835",
   "metadata": {},
   "outputs": [],
   "source": [
    "df = utils.convert_rtwb_to_pdtwb(twb)"
   ]
  },
  {
   "cell_type": "code",
   "execution_count": 5,
   "id": "64f6a6ed-3bc2-46e3-b42e-7387dbb01098",
   "metadata": {},
   "outputs": [],
   "source": [
    "df[\"clones.txt.name\"] = df[\"sample\"].apply(lambda x: x + \".clones.txt\")"
   ]
  },
  {
   "cell_type": "markdown",
   "id": "54a3b449-3199-401a-8ef0-526331106d25",
   "metadata": {},
   "source": [
    "# Add metric info"
   ]
  },
  {
   "cell_type": "code",
   "execution_count": 6,
   "id": "332e03d9-f0fd-4a73-a615-d25870ec7082",
   "metadata": {},
   "outputs": [],
   "source": [
    "stats = pd.read_csv(\"intega/output/stats.csv\", sep=\";\")\n",
    "stats.rename(columns={stats.columns[0]:\"sample\"}, inplace=True)"
   ]
  },
  {
   "cell_type": "code",
   "execution_count": 7,
   "id": "d7226f17-a456-41c0-9f31-10e6920bd270",
   "metadata": {},
   "outputs": [],
   "source": [
    "df = df.merge(stats.iloc[:-2], on = \"sample\")"
   ]
  },
  {
   "cell_type": "code",
   "execution_count": 8,
   "id": "8f301077-1815-4798-ae99-f220ce78bd93",
   "metadata": {},
   "outputs": [
    {
     "data": {
      "text/plain": [
       "146"
      ]
     },
     "execution_count": 8,
     "metadata": {},
     "output_type": "execute_result"
    }
   ],
   "source": [
    "len(df[\"clones.txt.name\"].unique())"
   ]
  },
  {
   "cell_type": "markdown",
   "id": "3c77c458-beca-4cf8-95cd-36baedbbb221",
   "metadata": {},
   "source": [
    "# Get meta info"
   ]
  },
  {
   "cell_type": "markdown",
   "id": "8b88e061-d1a1-40ed-92db-7f268c12562b",
   "metadata": {},
   "source": [
    "## get disposition data"
   ]
  },
  {
   "cell_type": "code",
   "execution_count": 9,
   "id": "786ae9e3-574c-4954-b54e-3ec0f5ac07a4",
   "metadata": {},
   "outputs": [],
   "source": [
    "xl_file = pd.ExcelFile(\"intega/disposition_2022-07-01.xlsx\")\n",
    "\n",
    "dfs = {sheet_name: xl_file.parse(sheet_name) \n",
    "          for sheet_name in xl_file.sheet_names}\n",
    "disposition = dfs[\"disposition\"]"
   ]
  },
  {
   "cell_type": "code",
   "execution_count": 10,
   "id": "fd88d01b-7cd7-4a77-87c4-b66cced806bb",
   "metadata": {},
   "outputs": [
    {
     "data": {
      "text/plain": [
       "Index(['Pat-No.', 'Age [y]', 'Gender (M/F)', 'Random No.',\n",
       "       'Treatment as Randomized', 'Treatment as Treated',\n",
       "       'Prior Surgery (Yes/No)', 'HER2 Status Local (IHC 2+/3+)',\n",
       "       'HER2 Status Central', 'Tumor Proportion Score', 'Immune Cell Score',\n",
       "       'Combined Positive Score', 'Prior Drug Therapy',\n",
       "       'Therapy Duration, Any Component [mo]',\n",
       "       'Therapy Duration, All Scheduled Components [mo]',\n",
       "       'Therapy Duration, Nivolumab [mo]', 'Reason for End of Treatment',\n",
       "       'Overall Best Response (CR/PR)', 'Time to Best Response [mo]',\n",
       "       'Response at 1st Tumor Assessment (PD/SD/PR/CR/NA)',\n",
       "       'Sum of Target Lesion Diameters [mm] at Screening',\n",
       "       '% Change of Diameters (target lesions) at 1st Tumor Assessment',\n",
       "       'Best % Change of Diameters (Taget Lesions) during Tumor Assessments',\n",
       "       'PFS [mo]', 'Censoring (Yes/No)', 'No of AEs (Grade 3-5)', 'No of SAEs',\n",
       "       'OS [mo]', 'Death (Yes/No)'],\n",
       "      dtype='object')"
      ]
     },
     "execution_count": 10,
     "metadata": {},
     "output_type": "execute_result"
    }
   ],
   "source": [
    "disposition.columns"
   ]
  },
  {
   "cell_type": "markdown",
   "id": "b2a2594b-27ba-4e35-b0c6-d8b0da353137",
   "metadata": {},
   "source": [
    "## get results data"
   ]
  },
  {
   "cell_type": "code",
   "execution_count": 42,
   "id": "858f917d-eb45-4b59-81b8-ca2c58425019",
   "metadata": {},
   "outputs": [],
   "source": [
    "xl_file = pd.ExcelFile(\"intega/Ergebnisse_CDC_Her2_Aug2021_TRB.Immun_Metriken_INTEGA.xlsx\")\n",
    "\n",
    "dfs = {sheet_name: xl_file.parse(sheet_name) \n",
    "          for sheet_name in xl_file.sheet_names}\n",
    "Ergebnisse_CDC_Her2 = dfs[\"Ergebnisse_CDC_Her2_Aug2021_INT\"]\n",
    "Ergebnisse_CDC_Her2.columns = Ergebnisse_CDC_Her2.iloc[0]\n",
    "Ergebnisse_CDC_Her2 = Ergebnisse_CDC_Her2.iloc[1:].copy()\n",
    "\n",
    "\n",
    "new_colums = [ 'Zentrum',              'Pat-ID',\n",
    "                'Patient-ID',               'Probe',                   np.nan,\n",
    "             'Probenabnahme',       'Datum_Analyse',                'CTC1',\n",
    "                    'HER2-0',              'HER2-1',              'HER2-2',\n",
    "                    'HER2-3',                 'CXC',             'PD-L1-0',\n",
    "                   'PD-L1-1',             'PD-L1-2',             'PD-L1-3',\n",
    "                'Kommentare1',                   \"Kommentare2\",                   \"Kommentare3\",\n",
    "                         np.nan,                  'ID',           'all.names',\n",
    "                 'Clonality',               'Group',           'Diversity',\n",
    "                     'Group',            'Richness',               'Group']\n",
    "Ergebnisse_CDC_Her2.columns = new_colums"
   ]
  },
  {
   "cell_type": "code",
   "execution_count": 43,
   "id": "dc7d9f37-818d-4bad-b521-1d994997120c",
   "metadata": {},
   "outputs": [
    {
     "data": {
      "text/html": [
       "<div>\n",
       "<style scoped>\n",
       "    .dataframe tbody tr th:only-of-type {\n",
       "        vertical-align: middle;\n",
       "    }\n",
       "\n",
       "    .dataframe tbody tr th {\n",
       "        vertical-align: top;\n",
       "    }\n",
       "\n",
       "    .dataframe thead th {\n",
       "        text-align: right;\n",
       "    }\n",
       "</style>\n",
       "<table border=\"1\" class=\"dataframe\">\n",
       "  <thead>\n",
       "    <tr style=\"text-align: right;\">\n",
       "      <th></th>\n",
       "      <th>Zentrum</th>\n",
       "      <th>Pat-ID</th>\n",
       "      <th>Patient-ID</th>\n",
       "      <th>Probe</th>\n",
       "      <th>NaN</th>\n",
       "      <th>Probenabnahme</th>\n",
       "      <th>Datum_Analyse</th>\n",
       "      <th>CTC1</th>\n",
       "      <th>HER2-0</th>\n",
       "      <th>HER2-1</th>\n",
       "      <th>...</th>\n",
       "      <th>Kommentare3</th>\n",
       "      <th>NaN</th>\n",
       "      <th>ID</th>\n",
       "      <th>all.names</th>\n",
       "      <th>Clonality</th>\n",
       "      <th>Group</th>\n",
       "      <th>Diversity</th>\n",
       "      <th>Group</th>\n",
       "      <th>Richness</th>\n",
       "      <th>Group</th>\n",
       "    </tr>\n",
       "  </thead>\n",
       "  <tbody>\n",
       "    <tr>\n",
       "      <th>1</th>\n",
       "      <td>1</td>\n",
       "      <td>1</td>\n",
       "      <td>0001-001</td>\n",
       "      <td>Baseline</td>\n",
       "      <td>1.0</td>\n",
       "      <td>2018-03-08 00:00:00</td>\n",
       "      <td>2018-03-13 00:00:00</td>\n",
       "      <td>1</td>\n",
       "      <td>NaN</td>\n",
       "      <td>NaN</td>\n",
       "      <td>...</td>\n",
       "      <td>NaN</td>\n",
       "      <td>BL29</td>\n",
       "      <td>0001-001</td>\n",
       "      <td>Svenja-TRB-0001-001-BL-INTEGA_S100</td>\n",
       "      <td>0.094284</td>\n",
       "      <td>BL</td>\n",
       "      <td>9.551617</td>\n",
       "      <td>BL</td>\n",
       "      <td>1495</td>\n",
       "      <td>BL</td>\n",
       "    </tr>\n",
       "    <tr>\n",
       "      <th>2</th>\n",
       "      <td>1</td>\n",
       "      <td>1</td>\n",
       "      <td>0001-001</td>\n",
       "      <td>1Tag2Zyk</td>\n",
       "      <td>2.0</td>\n",
       "      <td>2018-04-05 00:00:00</td>\n",
       "      <td>2018-04-09 00:00:00</td>\n",
       "      <td>0</td>\n",
       "      <td>NaN</td>\n",
       "      <td>NaN</td>\n",
       "      <td>...</td>\n",
       "      <td>NaN</td>\n",
       "      <td>C24</td>\n",
       "      <td>0001-001</td>\n",
       "      <td>Svenja-TRB-0001-001-C2-INTEGA_S101</td>\n",
       "      <td>0.08677</td>\n",
       "      <td>C2</td>\n",
       "      <td>9.816343</td>\n",
       "      <td>C2</td>\n",
       "      <td>1721</td>\n",
       "      <td>C2</td>\n",
       "    </tr>\n",
       "    <tr>\n",
       "      <th>3</th>\n",
       "      <td>1</td>\n",
       "      <td>1</td>\n",
       "      <td>0001-001</td>\n",
       "      <td>1Tag4-5</td>\n",
       "      <td>3.0</td>\n",
       "      <td>2018-06-04 00:00:00</td>\n",
       "      <td>2018-06-06 00:00:00</td>\n",
       "      <td>0</td>\n",
       "      <td>NaN</td>\n",
       "      <td>NaN</td>\n",
       "      <td>...</td>\n",
       "      <td>NaN</td>\n",
       "      <td>NaN</td>\n",
       "      <td>NaN</td>\n",
       "      <td>NaN</td>\n",
       "      <td>NaN</td>\n",
       "      <td>NaN</td>\n",
       "      <td>NaN</td>\n",
       "      <td>NaN</td>\n",
       "      <td>NaN</td>\n",
       "      <td>NaN</td>\n",
       "    </tr>\n",
       "    <tr>\n",
       "      <th>4</th>\n",
       "      <td>1</td>\n",
       "      <td>1</td>\n",
       "      <td>0001-001</td>\n",
       "      <td>ProEnd</td>\n",
       "      <td>4.0</td>\n",
       "      <td>2018-11-29 00:00:00</td>\n",
       "      <td>2018-11-30 00:00:00</td>\n",
       "      <td>1</td>\n",
       "      <td>1</td>\n",
       "      <td>NaN</td>\n",
       "      <td>...</td>\n",
       "      <td>NaN</td>\n",
       "      <td>NaN</td>\n",
       "      <td>NaN</td>\n",
       "      <td>NaN</td>\n",
       "      <td>NaN</td>\n",
       "      <td>NaN</td>\n",
       "      <td>NaN</td>\n",
       "      <td>NaN</td>\n",
       "      <td>NaN</td>\n",
       "      <td>NaN</td>\n",
       "    </tr>\n",
       "    <tr>\n",
       "      <th>5</th>\n",
       "      <td>1</td>\n",
       "      <td>2</td>\n",
       "      <td>0001-002</td>\n",
       "      <td>Baseline</td>\n",
       "      <td>1.0</td>\n",
       "      <td>2019-02-22 00:00:00</td>\n",
       "      <td>2019-02-26 00:00:00</td>\n",
       "      <td>5</td>\n",
       "      <td>5</td>\n",
       "      <td>NaN</td>\n",
       "      <td>...</td>\n",
       "      <td>NaN</td>\n",
       "      <td>BL23</td>\n",
       "      <td>0001-002</td>\n",
       "      <td>Svenja-TRB-0001-002-BL-INTEGA_S79</td>\n",
       "      <td>0.082909</td>\n",
       "      <td>BL</td>\n",
       "      <td>9.154001</td>\n",
       "      <td>BL</td>\n",
       "      <td>1011</td>\n",
       "      <td>BL</td>\n",
       "    </tr>\n",
       "    <tr>\n",
       "      <th>...</th>\n",
       "      <td>...</td>\n",
       "      <td>...</td>\n",
       "      <td>...</td>\n",
       "      <td>...</td>\n",
       "      <td>...</td>\n",
       "      <td>...</td>\n",
       "      <td>...</td>\n",
       "      <td>...</td>\n",
       "      <td>...</td>\n",
       "      <td>...</td>\n",
       "      <td>...</td>\n",
       "      <td>...</td>\n",
       "      <td>...</td>\n",
       "      <td>...</td>\n",
       "      <td>...</td>\n",
       "      <td>...</td>\n",
       "      <td>...</td>\n",
       "      <td>...</td>\n",
       "      <td>...</td>\n",
       "      <td>...</td>\n",
       "      <td>...</td>\n",
       "    </tr>\n",
       "    <tr>\n",
       "      <th>226</th>\n",
       "      <td>38</td>\n",
       "      <td>5</td>\n",
       "      <td>0038-005</td>\n",
       "      <td>1Tag4-5</td>\n",
       "      <td>3.0</td>\n",
       "      <td>2020-04-01 00:00:00</td>\n",
       "      <td>2020-04-06 00:00:00</td>\n",
       "      <td>142</td>\n",
       "      <td>130</td>\n",
       "      <td>12</td>\n",
       "      <td>...</td>\n",
       "      <td>NaN</td>\n",
       "      <td>NaN</td>\n",
       "      <td>0038-005</td>\n",
       "      <td>NaN</td>\n",
       "      <td>0.124895</td>\n",
       "      <td>C2</td>\n",
       "      <td>8.294035</td>\n",
       "      <td>C2</td>\n",
       "      <td>713</td>\n",
       "      <td>C2</td>\n",
       "    </tr>\n",
       "    <tr>\n",
       "      <th>227</th>\n",
       "      <td>39</td>\n",
       "      <td>1</td>\n",
       "      <td>0039-001</td>\n",
       "      <td>Baseline</td>\n",
       "      <td>1.0</td>\n",
       "      <td>2019-11-21 00:00:00</td>\n",
       "      <td>2019-11-22 00:00:00</td>\n",
       "      <td>0</td>\n",
       "      <td>NaN</td>\n",
       "      <td>NaN</td>\n",
       "      <td>...</td>\n",
       "      <td>NaN</td>\n",
       "      <td>NaN</td>\n",
       "      <td>0039-001</td>\n",
       "      <td>NC-hs-TRB-0039-001-Baseline-PB-gDNA_S66</td>\n",
       "      <td>0.053723</td>\n",
       "      <td>BL</td>\n",
       "      <td>10.474131</td>\n",
       "      <td>BL</td>\n",
       "      <td>2148</td>\n",
       "      <td>BL</td>\n",
       "    </tr>\n",
       "    <tr>\n",
       "      <th>228</th>\n",
       "      <td>NaN</td>\n",
       "      <td>NaN</td>\n",
       "      <td>NaN</td>\n",
       "      <td>NaN</td>\n",
       "      <td>NaN</td>\n",
       "      <td>NaN</td>\n",
       "      <td>NaN</td>\n",
       "      <td>NaN</td>\n",
       "      <td>NaN</td>\n",
       "      <td>NaN</td>\n",
       "      <td>...</td>\n",
       "      <td>NaN</td>\n",
       "      <td>NaN</td>\n",
       "      <td>NaN</td>\n",
       "      <td>NaN</td>\n",
       "      <td>NaN</td>\n",
       "      <td>NaN</td>\n",
       "      <td>NaN</td>\n",
       "      <td>NaN</td>\n",
       "      <td>NaN</td>\n",
       "      <td>NaN</td>\n",
       "    </tr>\n",
       "    <tr>\n",
       "      <th>229</th>\n",
       "      <td>39</td>\n",
       "      <td>1</td>\n",
       "      <td>0039-001</td>\n",
       "      <td>ProEnd</td>\n",
       "      <td>4.0</td>\n",
       "      <td>2020-01-28 00:00:00</td>\n",
       "      <td>2020-01-30 00:00:00</td>\n",
       "      <td>0</td>\n",
       "      <td>NaN</td>\n",
       "      <td>NaN</td>\n",
       "      <td>...</td>\n",
       "      <td>NaN</td>\n",
       "      <td>NaN</td>\n",
       "      <td>NaN</td>\n",
       "      <td>NaN</td>\n",
       "      <td>NaN</td>\n",
       "      <td>NaN</td>\n",
       "      <td>NaN</td>\n",
       "      <td>NaN</td>\n",
       "      <td>NaN</td>\n",
       "      <td>NaN</td>\n",
       "    </tr>\n",
       "    <tr>\n",
       "      <th>230</th>\n",
       "      <td>NaN</td>\n",
       "      <td>NaN</td>\n",
       "      <td>?</td>\n",
       "      <td>NaN</td>\n",
       "      <td>NaN</td>\n",
       "      <td>NaN</td>\n",
       "      <td>NaN</td>\n",
       "      <td>NaN</td>\n",
       "      <td>NaN</td>\n",
       "      <td>NaN</td>\n",
       "      <td>...</td>\n",
       "      <td>NaN</td>\n",
       "      <td>NaN</td>\n",
       "      <td>03-019</td>\n",
       "      <td>NC-hs-TRB-03-019-Baseline-PB-gDNA_S25</td>\n",
       "      <td>0.63333</td>\n",
       "      <td>BL</td>\n",
       "      <td>2.97887</td>\n",
       "      <td>BL</td>\n",
       "      <td>279</td>\n",
       "      <td>BL</td>\n",
       "    </tr>\n",
       "  </tbody>\n",
       "</table>\n",
       "<p>230 rows × 29 columns</p>\n",
       "</div>"
      ],
      "text/plain": [
       "    Zentrum Pat-ID Patient-ID     Probe  NaN        Probenabnahme  \\\n",
       "1         1      1   0001-001  Baseline  1.0  2018-03-08 00:00:00   \n",
       "2         1      1   0001-001  1Tag2Zyk  2.0  2018-04-05 00:00:00   \n",
       "3         1      1   0001-001   1Tag4-5  3.0  2018-06-04 00:00:00   \n",
       "4         1      1   0001-001    ProEnd  4.0  2018-11-29 00:00:00   \n",
       "5         1      2   0001-002  Baseline  1.0  2019-02-22 00:00:00   \n",
       "..      ...    ...        ...       ...  ...                  ...   \n",
       "226      38      5   0038-005   1Tag4-5  3.0  2020-04-01 00:00:00   \n",
       "227      39      1   0039-001  Baseline  1.0  2019-11-21 00:00:00   \n",
       "228     NaN    NaN        NaN       NaN  NaN                  NaN   \n",
       "229      39      1   0039-001    ProEnd  4.0  2020-01-28 00:00:00   \n",
       "230     NaN    NaN          ?       NaN  NaN                  NaN   \n",
       "\n",
       "           Datum_Analyse CTC1 HER2-0 HER2-1  ... Kommentare3   NaN        ID  \\\n",
       "1    2018-03-13 00:00:00    1    NaN    NaN  ...         NaN  BL29  0001-001   \n",
       "2    2018-04-09 00:00:00    0    NaN    NaN  ...         NaN   C24  0001-001   \n",
       "3    2018-06-06 00:00:00    0    NaN    NaN  ...         NaN   NaN       NaN   \n",
       "4    2018-11-30 00:00:00    1      1    NaN  ...         NaN   NaN       NaN   \n",
       "5    2019-02-26 00:00:00    5      5    NaN  ...         NaN  BL23  0001-002   \n",
       "..                   ...  ...    ...    ...  ...         ...   ...       ...   \n",
       "226  2020-04-06 00:00:00  142    130     12  ...         NaN   NaN  0038-005   \n",
       "227  2019-11-22 00:00:00    0    NaN    NaN  ...         NaN   NaN  0039-001   \n",
       "228                  NaN  NaN    NaN    NaN  ...         NaN   NaN       NaN   \n",
       "229  2020-01-30 00:00:00    0    NaN    NaN  ...         NaN   NaN       NaN   \n",
       "230                  NaN  NaN    NaN    NaN  ...         NaN   NaN    03-019   \n",
       "\n",
       "                                   all.names Clonality Group  Diversity Group  \\\n",
       "1         Svenja-TRB-0001-001-BL-INTEGA_S100  0.094284    BL   9.551617    BL   \n",
       "2         Svenja-TRB-0001-001-C2-INTEGA_S101   0.08677    C2   9.816343    C2   \n",
       "3                                        NaN       NaN   NaN        NaN   NaN   \n",
       "4                                        NaN       NaN   NaN        NaN   NaN   \n",
       "5          Svenja-TRB-0001-002-BL-INTEGA_S79  0.082909    BL   9.154001    BL   \n",
       "..                                       ...       ...   ...        ...   ...   \n",
       "226                                      NaN  0.124895    C2   8.294035    C2   \n",
       "227  NC-hs-TRB-0039-001-Baseline-PB-gDNA_S66  0.053723    BL  10.474131    BL   \n",
       "228                                      NaN       NaN   NaN        NaN   NaN   \n",
       "229                                      NaN       NaN   NaN        NaN   NaN   \n",
       "230    NC-hs-TRB-03-019-Baseline-PB-gDNA_S25   0.63333    BL    2.97887    BL   \n",
       "\n",
       "    Richness Group  \n",
       "1       1495    BL  \n",
       "2       1721    C2  \n",
       "3        NaN   NaN  \n",
       "4        NaN   NaN  \n",
       "5       1011    BL  \n",
       "..       ...   ...  \n",
       "226      713    C2  \n",
       "227     2148    BL  \n",
       "228      NaN   NaN  \n",
       "229      NaN   NaN  \n",
       "230      279    BL  \n",
       "\n",
       "[230 rows x 29 columns]"
      ]
     },
     "execution_count": 43,
     "metadata": {},
     "output_type": "execute_result"
    }
   ],
   "source": [
    "Ergebnisse_CDC_Her2"
   ]
  },
  {
   "cell_type": "markdown",
   "id": "e22cc4a0-180c-47db-8cd9-b94def75c548",
   "metadata": {},
   "source": [
    "## get probe review"
   ]
  },
  {
   "cell_type": "code",
   "execution_count": 12,
   "id": "8172f6d5-6d04-41fd-9e88-664356f6f32d",
   "metadata": {},
   "outputs": [],
   "source": [
    "xl_file = pd.ExcelFile(\"intega/Probenübersicht Sequenzierungsstatus Intega-Studie alle Zeitpunkte_LP.xlsx\")\n",
    "\n",
    "proben_df = {sheet_name: xl_file.parse(sheet_name) \n",
    "          for sheet_name in xl_file.sheet_names}\n",
    "proben_df = proben_df[\"Probe_vorhanden\"]"
   ]
  },
  {
   "cell_type": "code",
   "execution_count": 267,
   "id": "6c7f9604-86c8-4175-8d8f-19e3c327e021",
   "metadata": {},
   "outputs": [
    {
     "data": {
      "text/plain": [
       "Index(['Status', 'Patient', 'Tumorproben', 'Tumor', 'BL', 'C2', 'C5', 'EOT/PD',\n",
       "       'Notizen', 'Cycle_EOT', 'Datum BL', 'Datum C2_sample',\n",
       "       'Datum C5_sample', 'Datum EOT_sample', 'Datum_EOT_real',\n",
       "       'week C2 sample', 'week C5 sample', 'week EOT sample',\n",
       "       'week_to_EOT_C2_sample', 'week_to_EOT_C5_sample',\n",
       "       'week_to_EOT_EOT_sample', 'Unnamed: 21', 'ja: Probe vorhanden'],\n",
       "      dtype='object')"
      ]
     },
     "execution_count": 267,
     "metadata": {},
     "output_type": "execute_result"
    }
   ],
   "source": [
    "proben_df.keys()"
   ]
  },
  {
   "cell_type": "markdown",
   "id": "42b4aeb0-e590-4820-865e-2e50656e917a",
   "metadata": {},
   "source": [
    "# Merge meta info"
   ]
  },
  {
   "cell_type": "markdown",
   "id": "887b09fa-22cc-4210-b856-110f17fb417d",
   "metadata": {},
   "source": [
    "## merge dispistion "
   ]
  },
  {
   "cell_type": "code",
   "execution_count": 13,
   "id": "74ea6fae-8d46-4264-b70b-e96f342e6dc9",
   "metadata": {},
   "outputs": [],
   "source": [
    "df[\"stripped_patient_id\"] = df[\"sample\"].apply(utils.get_stripped_pat_no)"
   ]
  },
  {
   "cell_type": "code",
   "execution_count": 14,
   "id": "fe08ce05-b56b-4568-a6c9-ece60665a70e",
   "metadata": {},
   "outputs": [],
   "source": [
    "disposition[\"stripped_patient_id\"] = disposition[\"Pat-No.\"].apply(utils.get_stripped_pat_no)"
   ]
  },
  {
   "cell_type": "code",
   "execution_count": 15,
   "id": "2534dc50-74ab-4959-ae93-47c44f3eb568",
   "metadata": {},
   "outputs": [
    {
     "name": "stdout",
     "output_type": "stream",
     "text": [
      "Patients not in disposition:  {'38-1'}\n",
      "Patients not in twb data:  {'1-3', '15-4', '35-5'}\n"
     ]
    }
   ],
   "source": [
    "print(\"Patients not in disposition: \", set(df[\"stripped_patient_id\"].unique()).difference(set(disposition[\"stripped_patient_id\"].unique())))\n",
    "print(\"Patients not in twb data: \", set(disposition[\"stripped_patient_id\"].unique()).difference(set(df[\"stripped_patient_id\"].unique())))"
   ]
  },
  {
   "cell_type": "code",
   "execution_count": 16,
   "id": "c252136a-fd94-4d7d-aec0-44f4e3879d58",
   "metadata": {},
   "outputs": [],
   "source": [
    "df = df.merge(disposition, on = \"stripped_patient_id\", how = \"left\")"
   ]
  },
  {
   "cell_type": "markdown",
   "id": "dcc731e6-1a8f-4f2d-8538-9db318f1a653",
   "metadata": {},
   "source": [
    "## merge results"
   ]
  },
  {
   "cell_type": "code",
   "execution_count": 66,
   "id": "20c4d10e-8c36-4087-8dcf-a78e1744c726",
   "metadata": {},
   "outputs": [
    {
     "data": {
      "text/plain": [
       "Index([      'Zentrum',        'Pat-ID',    'Patient-ID',         'Probe',\n",
       "                   nan, 'Probenabnahme', 'Datum_Analyse',          'CTC1',\n",
       "              'HER2-0',        'HER2-1',        'HER2-2',        'HER2-3',\n",
       "                 'CXC',       'PD-L1-0',       'PD-L1-1',       'PD-L1-2',\n",
       "             'PD-L1-3',   'Kommentare1',   'Kommentare2',   'Kommentare3',\n",
       "                   nan,            'ID',     'all.names',     'Clonality',\n",
       "               'Group',     'Diversity',         'Group',      'Richness',\n",
       "               'Group'],\n",
       "      dtype='object')"
      ]
     },
     "execution_count": 66,
     "metadata": {},
     "output_type": "execute_result"
    }
   ],
   "source": [
    "Ergebnisse_CDC_Her2.columns"
   ]
  },
  {
   "cell_type": "code",
   "execution_count": 155,
   "id": "8546ea68-ab05-4acd-b924-c2a8fd3a182b",
   "metadata": {},
   "outputs": [
    {
     "data": {
      "text/plain": [
       "'None'"
      ]
     },
     "execution_count": 155,
     "metadata": {},
     "output_type": "execute_result"
    }
   ],
   "source": [
    "str(None)"
   ]
  },
  {
   "cell_type": "code",
   "execution_count": 44,
   "id": "bcabd1d6-6760-4ecf-9670-d2b8dfff0f7a",
   "metadata": {},
   "outputs": [],
   "source": [
    "Ergebnisse_CDC_Her2[\"stripped_patient_id\"] = Ergebnisse_CDC_Her2[\"all.names\"].apply(utils.get_stripped_pat_no)\n",
    "Ergebnisse_CDC_Her2[\"Probe_cleaned\"] = Ergebnisse_CDC_Her2[\"Probe\"].apply(lambda x: \"BL\" if x in [\"Baseline\", \"BL\"] \n",
    "                                                                          else ( \"C2\" if \"2Zyk\" in str(x) else x))"
   ]
  },
  {
   "cell_type": "code",
   "execution_count": 45,
   "id": "e46a4395-5efb-4cc7-a28f-4b6f8bf8fac2",
   "metadata": {},
   "outputs": [],
   "source": [
    "Ergebnisse_CDC_Her2.loc[Ergebnisse_CDC_Her2[\"stripped_patient_id\"].isnull(), \"stripped_patient_id\"] = Ergebnisse_CDC_Her2.loc[Ergebnisse_CDC_Her2[\"stripped_patient_id\"].isnull(), \"Patient-ID\"].apply(utils.get_stripped_pat_no)"
   ]
  },
  {
   "cell_type": "code",
   "execution_count": 46,
   "id": "02599cb2-ad59-4685-8e2a-8b9f469e83d7",
   "metadata": {},
   "outputs": [
    {
     "name": "stdout",
     "output_type": "stream",
     "text": [
      "Patients not in results:  set()\n",
      "Patients not in twb data:  {'3-19', '1-3', '9-1', '15-8', '1-6', None}\n"
     ]
    }
   ],
   "source": [
    "print(\"Patients not in results: \", set(df[\"stripped_patient_id\"].unique()).difference(set(Ergebnisse_CDC_Her2[\"stripped_patient_id\"].unique())))\n",
    "print(\"Patients not in twb data: \", set(Ergebnisse_CDC_Her2[\"stripped_patient_id\"].unique()).difference(set(df[\"stripped_patient_id\"].unique())))"
   ]
  },
  {
   "cell_type": "code",
   "execution_count": 47,
   "id": "c569a46b-e5c8-4675-ac2e-b5a0b7017216",
   "metadata": {},
   "outputs": [],
   "source": [
    "Ergebnisse_per_probe_patient = Ergebnisse_CDC_Her2.groupby([\"Probe_cleaned\", \"stripped_patient_id\"]).apply(len).reset_index()"
   ]
  },
  {
   "cell_type": "code",
   "execution_count": 48,
   "id": "1a50161a-eb61-40d2-be3f-4903b1b48e0e",
   "metadata": {},
   "outputs": [
    {
     "data": {
      "text/html": [
       "<div>\n",
       "<style scoped>\n",
       "    .dataframe tbody tr th:only-of-type {\n",
       "        vertical-align: middle;\n",
       "    }\n",
       "\n",
       "    .dataframe tbody tr th {\n",
       "        vertical-align: top;\n",
       "    }\n",
       "\n",
       "    .dataframe thead th {\n",
       "        text-align: right;\n",
       "    }\n",
       "</style>\n",
       "<table border=\"1\" class=\"dataframe\">\n",
       "  <thead>\n",
       "    <tr style=\"text-align: right;\">\n",
       "      <th></th>\n",
       "      <th>Probe_cleaned</th>\n",
       "      <th>stripped_patient_id</th>\n",
       "      <th>0</th>\n",
       "    </tr>\n",
       "  </thead>\n",
       "  <tbody>\n",
       "    <tr>\n",
       "      <th>6</th>\n",
       "      <td>1Tag4-5</td>\n",
       "      <td>16-3</td>\n",
       "      <td>2</td>\n",
       "    </tr>\n",
       "    <tr>\n",
       "      <th>20</th>\n",
       "      <td>1Tag4-5</td>\n",
       "      <td>38-1</td>\n",
       "      <td>2</td>\n",
       "    </tr>\n",
       "    <tr>\n",
       "      <th>32</th>\n",
       "      <td>BL</td>\n",
       "      <td>12-1</td>\n",
       "      <td>2</td>\n",
       "    </tr>\n",
       "    <tr>\n",
       "      <th>54</th>\n",
       "      <td>BL</td>\n",
       "      <td>2-11</td>\n",
       "      <td>2</td>\n",
       "    </tr>\n",
       "    <tr>\n",
       "      <th>77</th>\n",
       "      <td>BL</td>\n",
       "      <td>27-2</td>\n",
       "      <td>2</td>\n",
       "    </tr>\n",
       "    <tr>\n",
       "      <th>103</th>\n",
       "      <td>BL</td>\n",
       "      <td>6-2</td>\n",
       "      <td>2</td>\n",
       "    </tr>\n",
       "    <tr>\n",
       "      <th>108</th>\n",
       "      <td>BL</td>\n",
       "      <td>7-6</td>\n",
       "      <td>2</td>\n",
       "    </tr>\n",
       "    <tr>\n",
       "      <th>126</th>\n",
       "      <td>C2</td>\n",
       "      <td>16-3</td>\n",
       "      <td>2</td>\n",
       "    </tr>\n",
       "    <tr>\n",
       "      <th>131</th>\n",
       "      <td>C2</td>\n",
       "      <td>2-10</td>\n",
       "      <td>2</td>\n",
       "    </tr>\n",
       "    <tr>\n",
       "      <th>140</th>\n",
       "      <td>C2</td>\n",
       "      <td>2-5</td>\n",
       "      <td>2</td>\n",
       "    </tr>\n",
       "    <tr>\n",
       "      <th>144</th>\n",
       "      <td>C2</td>\n",
       "      <td>2-9</td>\n",
       "      <td>2</td>\n",
       "    </tr>\n",
       "    <tr>\n",
       "      <th>169</th>\n",
       "      <td>C2</td>\n",
       "      <td>5-4</td>\n",
       "      <td>2</td>\n",
       "    </tr>\n",
       "    <tr>\n",
       "      <th>175</th>\n",
       "      <td>C2</td>\n",
       "      <td>7-3</td>\n",
       "      <td>2</td>\n",
       "    </tr>\n",
       "    <tr>\n",
       "      <th>176</th>\n",
       "      <td>C2</td>\n",
       "      <td>7-4</td>\n",
       "      <td>2</td>\n",
       "    </tr>\n",
       "    <tr>\n",
       "      <th>177</th>\n",
       "      <td>C2</td>\n",
       "      <td>7-5</td>\n",
       "      <td>2</td>\n",
       "    </tr>\n",
       "  </tbody>\n",
       "</table>\n",
       "</div>"
      ],
      "text/plain": [
       "    Probe_cleaned stripped_patient_id  0\n",
       "6         1Tag4-5                16-3  2\n",
       "20        1Tag4-5                38-1  2\n",
       "32             BL                12-1  2\n",
       "54             BL                2-11  2\n",
       "77             BL                27-2  2\n",
       "103            BL                 6-2  2\n",
       "108            BL                 7-6  2\n",
       "126            C2                16-3  2\n",
       "131            C2                2-10  2\n",
       "140            C2                 2-5  2\n",
       "144            C2                 2-9  2\n",
       "169            C2                 5-4  2\n",
       "175            C2                 7-3  2\n",
       "176            C2                 7-4  2\n",
       "177            C2                 7-5  2"
      ]
     },
     "execution_count": 48,
     "metadata": {},
     "output_type": "execute_result"
    }
   ],
   "source": [
    "Ergebnisse_per_probe_patient[Ergebnisse_per_probe_patient[0] > 1] "
   ]
  },
  {
   "cell_type": "code",
   "execution_count": 49,
   "id": "1d263824-cfb5-42a5-afb8-c086d1bb3fa4",
   "metadata": {},
   "outputs": [],
   "source": [
    "double_probe_patient = Ergebnisse_per_probe_patient[Ergebnisse_per_probe_patient[0] > 1][[\"Probe_cleaned\", \"stripped_patient_id\"]]"
   ]
  },
  {
   "cell_type": "markdown",
   "id": "c962589b-7aae-48f6-8c18-3cf1b6a0796a",
   "metadata": {},
   "source": [
    "### mehrere ergebnisse für gleiche patienten --> filereport_read_run_PRJEB55475_tsv"
   ]
  },
  {
   "cell_type": "code",
   "execution_count": 50,
   "id": "2ff346ca-f764-4852-a209-c84101c06453",
   "metadata": {},
   "outputs": [],
   "source": [
    "filereport = pd.read_csv(\"intega/filereport_read_run_PRJEB55475_tsv.txt\",delim_whitespace=True)"
   ]
  },
  {
   "cell_type": "code",
   "execution_count": 51,
   "id": "8cb0e8ec-1439-4b7a-b5c4-9bcaff832f1b",
   "metadata": {},
   "outputs": [
    {
     "data": {
      "text/html": [
       "<div>\n",
       "<style scoped>\n",
       "    .dataframe tbody tr th:only-of-type {\n",
       "        vertical-align: middle;\n",
       "    }\n",
       "\n",
       "    .dataframe tbody tr th {\n",
       "        vertical-align: top;\n",
       "    }\n",
       "\n",
       "    .dataframe thead th {\n",
       "        text-align: right;\n",
       "    }\n",
       "</style>\n",
       "<table border=\"1\" class=\"dataframe\">\n",
       "  <thead>\n",
       "    <tr style=\"text-align: right;\">\n",
       "      <th></th>\n",
       "      <th>run_accession</th>\n",
       "      <th>sample_accession</th>\n",
       "      <th>experiment_accession</th>\n",
       "      <th>study_accession</th>\n",
       "      <th>tax_id</th>\n",
       "      <th>scientific_name</th>\n",
       "      <th>fastq_ftp</th>\n",
       "      <th>submitted_ftp</th>\n",
       "      <th>sra_ftp</th>\n",
       "    </tr>\n",
       "  </thead>\n",
       "  <tbody>\n",
       "    <tr>\n",
       "      <th>0</th>\n",
       "      <td>ERR10747912</td>\n",
       "      <td>SAMEA112286929</td>\n",
       "      <td>ERX10200346</td>\n",
       "      <td>PRJEB55475</td>\n",
       "      <td>9606</td>\n",
       "      <td>Homo</td>\n",
       "      <td>sapiens</td>\n",
       "      <td>ftp.sra.ebi.ac.uk/vol1/fastq/ERR107/012/ERR107...</td>\n",
       "      <td>ftp.sra.ebi.ac.uk/vol1/run/ERR107/ERR10747912/...</td>\n",
       "    </tr>\n",
       "    <tr>\n",
       "      <th>1</th>\n",
       "      <td>ERR10747914</td>\n",
       "      <td>SAMEA112286931</td>\n",
       "      <td>ERX10200348</td>\n",
       "      <td>PRJEB55475</td>\n",
       "      <td>9606</td>\n",
       "      <td>Homo</td>\n",
       "      <td>sapiens</td>\n",
       "      <td>ftp.sra.ebi.ac.uk/vol1/fastq/ERR107/014/ERR107...</td>\n",
       "      <td>ftp.sra.ebi.ac.uk/vol1/run/ERR107/ERR10747914/...</td>\n",
       "    </tr>\n",
       "    <tr>\n",
       "      <th>2</th>\n",
       "      <td>ERR10747915</td>\n",
       "      <td>SAMEA112286932</td>\n",
       "      <td>ERX10200349</td>\n",
       "      <td>PRJEB55475</td>\n",
       "      <td>9606</td>\n",
       "      <td>Homo</td>\n",
       "      <td>sapiens</td>\n",
       "      <td>ftp.sra.ebi.ac.uk/vol1/fastq/ERR107/015/ERR107...</td>\n",
       "      <td>ftp.sra.ebi.ac.uk/vol1/run/ERR107/ERR10747915/...</td>\n",
       "    </tr>\n",
       "    <tr>\n",
       "      <th>3</th>\n",
       "      <td>ERR10747916</td>\n",
       "      <td>SAMEA112286933</td>\n",
       "      <td>ERX10200350</td>\n",
       "      <td>PRJEB55475</td>\n",
       "      <td>9606</td>\n",
       "      <td>Homo</td>\n",
       "      <td>sapiens</td>\n",
       "      <td>ftp.sra.ebi.ac.uk/vol1/fastq/ERR107/016/ERR107...</td>\n",
       "      <td>ftp.sra.ebi.ac.uk/vol1/run/ERR107/ERR10747916/...</td>\n",
       "    </tr>\n",
       "    <tr>\n",
       "      <th>4</th>\n",
       "      <td>ERR10747919</td>\n",
       "      <td>SAMEA112286936</td>\n",
       "      <td>ERX10200353</td>\n",
       "      <td>PRJEB55475</td>\n",
       "      <td>9606</td>\n",
       "      <td>Homo</td>\n",
       "      <td>sapiens</td>\n",
       "      <td>ftp.sra.ebi.ac.uk/vol1/fastq/ERR107/019/ERR107...</td>\n",
       "      <td>ftp.sra.ebi.ac.uk/vol1/run/ERR107/ERR10747919/...</td>\n",
       "    </tr>\n",
       "  </tbody>\n",
       "</table>\n",
       "</div>"
      ],
      "text/plain": [
       "  run_accession sample_accession experiment_accession study_accession  tax_id  \\\n",
       "0   ERR10747912   SAMEA112286929          ERX10200346      PRJEB55475    9606   \n",
       "1   ERR10747914   SAMEA112286931          ERX10200348      PRJEB55475    9606   \n",
       "2   ERR10747915   SAMEA112286932          ERX10200349      PRJEB55475    9606   \n",
       "3   ERR10747916   SAMEA112286933          ERX10200350      PRJEB55475    9606   \n",
       "4   ERR10747919   SAMEA112286936          ERX10200353      PRJEB55475    9606   \n",
       "\n",
       "  scientific_name fastq_ftp  \\\n",
       "0            Homo   sapiens   \n",
       "1            Homo   sapiens   \n",
       "2            Homo   sapiens   \n",
       "3            Homo   sapiens   \n",
       "4            Homo   sapiens   \n",
       "\n",
       "                                       submitted_ftp  \\\n",
       "0  ftp.sra.ebi.ac.uk/vol1/fastq/ERR107/012/ERR107...   \n",
       "1  ftp.sra.ebi.ac.uk/vol1/fastq/ERR107/014/ERR107...   \n",
       "2  ftp.sra.ebi.ac.uk/vol1/fastq/ERR107/015/ERR107...   \n",
       "3  ftp.sra.ebi.ac.uk/vol1/fastq/ERR107/016/ERR107...   \n",
       "4  ftp.sra.ebi.ac.uk/vol1/fastq/ERR107/019/ERR107...   \n",
       "\n",
       "                                             sra_ftp  \n",
       "0  ftp.sra.ebi.ac.uk/vol1/run/ERR107/ERR10747912/...  \n",
       "1  ftp.sra.ebi.ac.uk/vol1/run/ERR107/ERR10747914/...  \n",
       "2  ftp.sra.ebi.ac.uk/vol1/run/ERR107/ERR10747915/...  \n",
       "3  ftp.sra.ebi.ac.uk/vol1/run/ERR107/ERR10747916/...  \n",
       "4  ftp.sra.ebi.ac.uk/vol1/run/ERR107/ERR10747919/...  "
      ]
     },
     "execution_count": 51,
     "metadata": {},
     "output_type": "execute_result"
    }
   ],
   "source": [
    "filereport.head()"
   ]
  },
  {
   "cell_type": "code",
   "execution_count": 52,
   "id": "bcf9a368-f344-41f0-bb83-f9545b4bb8b4",
   "metadata": {},
   "outputs": [],
   "source": [
    "filereport[\"filenames\"] = filereport[\"sra_ftp\"].apply(lambda x: x.split(\"/\")[-1].split(\".\")[0])"
   ]
  },
  {
   "cell_type": "code",
   "execution_count": 53,
   "id": "fe5c503d-426c-40b6-a28d-5863eb47f0ec",
   "metadata": {},
   "outputs": [],
   "source": [
    "filereport[\"stripped_patient_id\"] = filereport[\"filenames\"].apply(utils.get_stripped_pat_no)"
   ]
  },
  {
   "cell_type": "code",
   "execution_count": 54,
   "id": "05605418-2c99-435b-bf95-372eb2101ea2",
   "metadata": {},
   "outputs": [
    {
     "name": "stdout",
     "output_type": "stream",
     "text": [
      "16-3 1Tag4-5\n",
      "['NC-hs-TRB-0016-003-2-Zyklus-PB-gDNA_S32_L001_R2_001', 'Dona-hs-TRB-016-003-PB-Baseline-gDNA_S124_L001_R2_001']\n",
      "\n",
      "\n",
      "38-1 1Tag4-5\n",
      "['NC-hs-TRB-0038-001-Baseline-PB-gDNA_S11_L001_R2_001', 'NC-hs-TRB-0038-001-2-Zyklus-PB-gDNA_S12_L001_R2_001']\n",
      "\n",
      "\n",
      "12-1 BL\n",
      "['NC-hs-TRB-0012-001-Baseline-PB-gDNA_S23_L001_R2_001', 'Svenja-TRB-0012-001-C2-INTEGA_S119_L001_R2_001']\n",
      "\n",
      "\n",
      "2-11 BL\n",
      "['NC-hs-TRB-0002-011-Baseline-PB-gDNA_S16_L001_R2_001', 'Svenja-TRB-0002-011-C2-INTEGA_S153_L001_R2_001']\n",
      "\n",
      "\n",
      "27-2 BL\n",
      "['Svenja-TRB-0027-002-C2-INTEGA_S141_L001_R2_001', 'Svenja-TRB-0027-002-BL-INTEGA_S140_L001_R2_001']\n",
      "Match:  Svenja-TRB-0027-002-BL-INTEGA_S140_L001_R2_001\n",
      "\n",
      "\n",
      "6-2 BL\n",
      "['NC-hs-TRB-0006-002-Baseline-PB-gDNA_S18_L001_R2_001']\n",
      "\n",
      "\n",
      "7-6 BL\n",
      "['NC-hs-TRB-0007-006-Baseline-PB-gDNA_S22_L001_R2_001']\n",
      "\n",
      "\n",
      "16-3 C2\n",
      "['NC-hs-TRB-0016-003-2-Zyklus-PB-gDNA_S32_L001_R2_001', 'Dona-hs-TRB-016-003-PB-Baseline-gDNA_S124_L001_R2_001']\n",
      "\n",
      "\n",
      "2-10 C2\n",
      "['Svenja-TRB-0002-010-BL-INTEGA_S152_L001_R2_001', 'NC-hs-TRB-0002-010-2-Zyklus-PB-gDNA_S15_L001_R2_001']\n",
      "\n",
      "\n",
      "2-5 C2\n",
      "['NC-hs-TRB-0002-005-2-Zyklus-PB-gDNA_S13_L001_R2_001', 'Dona-hs-TRB-002-005-PB-Baseline-gDNA_S102_L001_R2_001']\n",
      "\n",
      "\n",
      "2-9 C2\n",
      "['NC-hs-TRB-0002-009-2-Zyklus-PB-gDNA_S14_L001_R2_001', 'Svenja-TRB-0002-009-BL-INTEGA_S110_L001_R2_001']\n",
      "\n",
      "\n",
      "5-4 C2\n",
      "['NC-hs-TRB-0005-004-2-Zyklus-PB-gDNA_S17_L001_R2_001']\n",
      "\n",
      "\n",
      "7-3 C2\n",
      "['Svenja-TRB-0007-003-BL-INTEGA_S85_L001_R2_001', 'NC-hs-TRB-0007-003-2-Zyklus-PB-gDNA_S19_L001_R2_001']\n",
      "\n",
      "\n",
      "7-4 C2\n",
      "['NC-hs-TRB-0007-004-2-Zyklus-PB-gDNA_S20_L001_R2_001', 'Svenja-TRB-0007-004-BL-INTEGA_S84_L001_R2_001']\n",
      "\n",
      "\n",
      "7-5 C2\n",
      "['NC-hs-TRB-0007-005-2-Zyklus-PB-gDNA_S21_L001_R2_001']\n",
      "\n",
      "\n"
     ]
    }
   ],
   "source": [
    "for i, row in double_probe_patient.iterrows(): \n",
    "    id = row.stripped_patient_id\n",
    "    probe = row.Probe_cleaned\n",
    "    print(id, probe)\n",
    "    if probe == \"Baseline\":\n",
    "        probe = [\"Baseline\", \"BL\"]\n",
    "    else:\n",
    "        probe = [probe]\n",
    "    \n",
    "    filename_id = filereport[filereport[\"stripped_patient_id\"] == id][\"filenames\"]\n",
    "    print(list(filename_id))\n",
    "    for file in filename_id:\n",
    "        for p in probe:\n",
    "            if p in file:\n",
    "                print(\"Match: \",file)\n",
    "    print(\"\\n\")"
   ]
  },
  {
   "cell_type": "code",
   "execution_count": null,
   "id": "eb8b18a4-fb5a-4e77-9f37-6bfb9b94ceb4",
   "metadata": {},
   "outputs": [],
   "source": [
    "# 16-3 1Tag4-5, 38-1 1Tag4-5, 12-1 BL, 27-2 BL, 6-2 BL, 7-6 BL, 16-3 C2, 2-10 C2, 2-5 C2, 2-9 C2, 5-4 C2, \n",
    "# 7-3 C2, 7-4 C2, 7-5 C2"
   ]
  },
  {
   "cell_type": "code",
   "execution_count": 55,
   "id": "573e5338-4ca6-4345-9bde-1bdbfc2bbcab",
   "metadata": {},
   "outputs": [
    {
     "data": {
      "text/plain": [
       "Zentrum                                                    NaN\n",
       "Pat-ID                                                     NaN\n",
       "Patient-ID                                            0012-001\n",
       "Probe                                                       BL\n",
       "NaN                                                        NaN\n",
       "Probenabnahme                                              NaN\n",
       "Datum_Analyse                                              NaN\n",
       "CTC1                                                       NaN\n",
       "HER2-0                                                     NaN\n",
       "HER2-1                                                     NaN\n",
       "HER2-2                                                     NaN\n",
       "HER2-3                                                     NaN\n",
       "CXC                                                        NaN\n",
       "PD-L1-0                                                    NaN\n",
       "PD-L1-1                                                    NaN\n",
       "PD-L1-2                                                    NaN\n",
       "PD-L1-3                                                    NaN\n",
       "Kommentare1                                                NaN\n",
       "Kommentare2                                                NaN\n",
       "Kommentare3                                                NaN\n",
       "NaN                                                       C263\n",
       "ID                                                    0012-001\n",
       "all.names              NC-hs-TRB-0012-001-Baseline-PB-gDNA_S23\n",
       "Clonality                                             0.342461\n",
       "Group                                                       BL\n",
       "Diversity                                             6.841091\n",
       "Group                                                       BL\n",
       "Richness                                                  1355\n",
       "Group                                                       BL\n",
       "stripped_patient_id                                       12-1\n",
       "Probe_cleaned                                               BL\n",
       "Name: 110, dtype: object"
      ]
     },
     "execution_count": 55,
     "metadata": {},
     "output_type": "execute_result"
    }
   ],
   "source": [
    "Ergebnisse_CDC_Her2.loc[110]"
   ]
  },
  {
   "cell_type": "code",
   "execution_count": 56,
   "id": "83b5b7f7-bff6-4569-9eae-1d2eb4be2bce",
   "metadata": {},
   "outputs": [],
   "source": [
    "idx_to_drop = [142, 217, 183]\n",
    "# overwrite 109 with 110 \n",
    "idx_to_overwrite = {109:110, 48:49, 85:86, 102:103, 140:141, 46:47, 31:32, 42:43, 73:74, 93:94, 96:97, 99:100}"
   ]
  },
  {
   "cell_type": "markdown",
   "id": "53101923-8f50-4164-9b1c-e69e6c6aab8d",
   "metadata": {},
   "source": [
    "### Overwrite rows with results found in file report"
   ]
  },
  {
   "cell_type": "code",
   "execution_count": 57,
   "id": "86c54c41-3f31-485a-b51a-5366ad750340",
   "metadata": {},
   "outputs": [],
   "source": [
    "for i in idx_to_overwrite.keys():\n",
    "    j = idx_to_overwrite[i]\n",
    "    Ergebnisse_CDC_Her2.loc[i,'CTC1': 'Probe_cleaned'] = Ergebnisse_CDC_Her2.loc[j,'CTC1': 'Probe_cleaned']\n",
    "    Ergebnisse_CDC_Her2.drop(j,inplace=True)"
   ]
  },
  {
   "cell_type": "markdown",
   "id": "51ba38b3-ef97-4acc-b7f4-e54f8e9eff66",
   "metadata": {},
   "source": [
    "### Drop rows with double entry "
   ]
  },
  {
   "cell_type": "code",
   "execution_count": 58,
   "id": "3cf2141b-a93c-4f49-b199-fb932801fb66",
   "metadata": {},
   "outputs": [
    {
     "data": {
      "text/html": [
       "<div>\n",
       "<style scoped>\n",
       "    .dataframe tbody tr th:only-of-type {\n",
       "        vertical-align: middle;\n",
       "    }\n",
       "\n",
       "    .dataframe tbody tr th {\n",
       "        vertical-align: top;\n",
       "    }\n",
       "\n",
       "    .dataframe thead th {\n",
       "        text-align: right;\n",
       "    }\n",
       "</style>\n",
       "<table border=\"1\" class=\"dataframe\">\n",
       "  <thead>\n",
       "    <tr style=\"text-align: right;\">\n",
       "      <th></th>\n",
       "      <th>Zentrum</th>\n",
       "      <th>Pat-ID</th>\n",
       "      <th>Patient-ID</th>\n",
       "      <th>Probe</th>\n",
       "      <th>NaN</th>\n",
       "      <th>Probenabnahme</th>\n",
       "      <th>Datum_Analyse</th>\n",
       "      <th>CTC1</th>\n",
       "      <th>HER2-0</th>\n",
       "      <th>HER2-1</th>\n",
       "      <th>...</th>\n",
       "      <th>ID</th>\n",
       "      <th>all.names</th>\n",
       "      <th>Clonality</th>\n",
       "      <th>Group</th>\n",
       "      <th>Diversity</th>\n",
       "      <th>Group</th>\n",
       "      <th>Richness</th>\n",
       "      <th>Group</th>\n",
       "      <th>stripped_patient_id</th>\n",
       "      <th>Probe_cleaned</th>\n",
       "    </tr>\n",
       "  </thead>\n",
       "  <tbody>\n",
       "    <tr>\n",
       "      <th>142</th>\n",
       "      <td>16</td>\n",
       "      <td>3</td>\n",
       "      <td>0016-003</td>\n",
       "      <td>1Tag4-5</td>\n",
       "      <td>3.0</td>\n",
       "      <td>2018-08-16 00:00:00</td>\n",
       "      <td>2018-08-21 00:00:00</td>\n",
       "      <td>0</td>\n",
       "      <td>NaN</td>\n",
       "      <td>NaN</td>\n",
       "      <td>...</td>\n",
       "      <td>NaN</td>\n",
       "      <td>NaN</td>\n",
       "      <td>NaN</td>\n",
       "      <td>NaN</td>\n",
       "      <td>NaN</td>\n",
       "      <td>NaN</td>\n",
       "      <td>NaN</td>\n",
       "      <td>NaN</td>\n",
       "      <td>16-3</td>\n",
       "      <td>1Tag4-5</td>\n",
       "    </tr>\n",
       "    <tr>\n",
       "      <th>217</th>\n",
       "      <td>38</td>\n",
       "      <td>1</td>\n",
       "      <td>0038-001</td>\n",
       "      <td>1Tag4-5</td>\n",
       "      <td>3.0</td>\n",
       "      <td>2019-04-16 00:00:00</td>\n",
       "      <td>2019-04-18 00:00:00</td>\n",
       "      <td>0</td>\n",
       "      <td>NaN</td>\n",
       "      <td>NaN</td>\n",
       "      <td>...</td>\n",
       "      <td>NaN</td>\n",
       "      <td>NaN</td>\n",
       "      <td>NaN</td>\n",
       "      <td>NaN</td>\n",
       "      <td>NaN</td>\n",
       "      <td>NaN</td>\n",
       "      <td>NaN</td>\n",
       "      <td>NaN</td>\n",
       "      <td>38-1</td>\n",
       "      <td>1Tag4-5</td>\n",
       "    </tr>\n",
       "    <tr>\n",
       "      <th>183</th>\n",
       "      <td>27</td>\n",
       "      <td>2</td>\n",
       "      <td>0027-002</td>\n",
       "      <td>Baseline</td>\n",
       "      <td>1.0</td>\n",
       "      <td>2019-03-13 00:00:00</td>\n",
       "      <td>2019-03-15 00:00:00</td>\n",
       "      <td>10</td>\n",
       "      <td>0</td>\n",
       "      <td>1</td>\n",
       "      <td>...</td>\n",
       "      <td>NaN</td>\n",
       "      <td>NaN</td>\n",
       "      <td>NaN</td>\n",
       "      <td>NaN</td>\n",
       "      <td>NaN</td>\n",
       "      <td>NaN</td>\n",
       "      <td>NaN</td>\n",
       "      <td>NaN</td>\n",
       "      <td>27-2</td>\n",
       "      <td>BL</td>\n",
       "    </tr>\n",
       "  </tbody>\n",
       "</table>\n",
       "<p>3 rows × 31 columns</p>\n",
       "</div>"
      ],
      "text/plain": [
       "    Zentrum Pat-ID Patient-ID     Probe  NaN        Probenabnahme  \\\n",
       "142      16      3   0016-003   1Tag4-5  3.0  2018-08-16 00:00:00   \n",
       "217      38      1   0038-001   1Tag4-5  3.0  2019-04-16 00:00:00   \n",
       "183      27      2   0027-002  Baseline  1.0  2019-03-13 00:00:00   \n",
       "\n",
       "           Datum_Analyse CTC1 HER2-0 HER2-1  ...   ID all.names Clonality  \\\n",
       "142  2018-08-21 00:00:00    0    NaN    NaN  ...  NaN       NaN       NaN   \n",
       "217  2019-04-18 00:00:00    0    NaN    NaN  ...  NaN       NaN       NaN   \n",
       "183  2019-03-15 00:00:00   10      0      1  ...  NaN       NaN       NaN   \n",
       "\n",
       "    Group Diversity Group Richness Group stripped_patient_id Probe_cleaned  \n",
       "142   NaN       NaN   NaN      NaN   NaN                16-3       1Tag4-5  \n",
       "217   NaN       NaN   NaN      NaN   NaN                38-1       1Tag4-5  \n",
       "183   NaN       NaN   NaN      NaN   NaN                27-2            BL  \n",
       "\n",
       "[3 rows x 31 columns]"
      ]
     },
     "execution_count": 58,
     "metadata": {},
     "output_type": "execute_result"
    }
   ],
   "source": [
    "Ergebnisse_CDC_Her2.loc[idx_to_drop]"
   ]
  },
  {
   "cell_type": "code",
   "execution_count": 59,
   "id": "1efb9cc1-024f-4585-9e48-5e686f011140",
   "metadata": {},
   "outputs": [],
   "source": [
    "Ergebnisse_CDC_Her2.drop(idx_to_drop, inplace=True)"
   ]
  },
  {
   "cell_type": "code",
   "execution_count": 60,
   "id": "58c5b648-9f6f-4c03-92cf-b5c2b7c27cbc",
   "metadata": {},
   "outputs": [],
   "source": [
    "Ergebnisse_CDC_Her2[\"clones.txt.name\"] = Ergebnisse_CDC_Her2[\"all.names\"].apply(lambda x: x + \".clones.txt\" if not pd.isnull(x) else x)"
   ]
  },
  {
   "cell_type": "code",
   "execution_count": 61,
   "id": "a74b017c-c194-475c-a836-a6744e3a97a8",
   "metadata": {},
   "outputs": [],
   "source": [
    "df_results = df.merge(Ergebnisse_CDC_Her2, on = [\"clones.txt.name\", \"stripped_patient_id\"], how = \"left\")"
   ]
  },
  {
   "cell_type": "code",
   "execution_count": 62,
   "id": "cbc8a751-4d41-4f56-a53b-3fe3fa90815e",
   "metadata": {},
   "outputs": [
    {
     "data": {
      "text/plain": [
       "368123"
      ]
     },
     "execution_count": 62,
     "metadata": {},
     "output_type": "execute_result"
    }
   ],
   "source": [
    "len(df_results)"
   ]
  },
  {
   "cell_type": "code",
   "execution_count": 63,
   "id": "d275fefd-2584-4f45-b7e9-63281d109327",
   "metadata": {},
   "outputs": [
    {
     "data": {
      "text/html": [
       "<div>\n",
       "<style scoped>\n",
       "    .dataframe tbody tr th:only-of-type {\n",
       "        vertical-align: middle;\n",
       "    }\n",
       "\n",
       "    .dataframe tbody tr th {\n",
       "        vertical-align: top;\n",
       "    }\n",
       "\n",
       "    .dataframe thead th {\n",
       "        text-align: right;\n",
       "    }\n",
       "</style>\n",
       "<table border=\"1\" class=\"dataframe\">\n",
       "  <thead>\n",
       "    <tr style=\"text-align: right;\">\n",
       "      <th></th>\n",
       "      <th>Clonality_x</th>\n",
       "      <th>Clonality_y</th>\n",
       "    </tr>\n",
       "  </thead>\n",
       "  <tbody>\n",
       "    <tr>\n",
       "      <th>0</th>\n",
       "      <td>0,230526164079581</td>\n",
       "      <td>0.225941</td>\n",
       "    </tr>\n",
       "    <tr>\n",
       "      <th>1</th>\n",
       "      <td>0,230526164079581</td>\n",
       "      <td>0.225941</td>\n",
       "    </tr>\n",
       "    <tr>\n",
       "      <th>2</th>\n",
       "      <td>0,230526164079581</td>\n",
       "      <td>0.225941</td>\n",
       "    </tr>\n",
       "    <tr>\n",
       "      <th>3</th>\n",
       "      <td>0,230526164079581</td>\n",
       "      <td>0.225941</td>\n",
       "    </tr>\n",
       "    <tr>\n",
       "      <th>4</th>\n",
       "      <td>0,230526164079581</td>\n",
       "      <td>0.225941</td>\n",
       "    </tr>\n",
       "    <tr>\n",
       "      <th>...</th>\n",
       "      <td>...</td>\n",
       "      <td>...</td>\n",
       "    </tr>\n",
       "    <tr>\n",
       "      <th>368118</th>\n",
       "      <td>0,0733509336567334</td>\n",
       "      <td>0.058543</td>\n",
       "    </tr>\n",
       "    <tr>\n",
       "      <th>368119</th>\n",
       "      <td>0,0733509336567334</td>\n",
       "      <td>0.058543</td>\n",
       "    </tr>\n",
       "    <tr>\n",
       "      <th>368120</th>\n",
       "      <td>0,0733509336567334</td>\n",
       "      <td>0.058543</td>\n",
       "    </tr>\n",
       "    <tr>\n",
       "      <th>368121</th>\n",
       "      <td>0,0733509336567334</td>\n",
       "      <td>0.058543</td>\n",
       "    </tr>\n",
       "    <tr>\n",
       "      <th>368122</th>\n",
       "      <td>0,0733509336567334</td>\n",
       "      <td>0.058543</td>\n",
       "    </tr>\n",
       "  </tbody>\n",
       "</table>\n",
       "<p>368123 rows × 2 columns</p>\n",
       "</div>"
      ],
      "text/plain": [
       "               Clonality_x Clonality_y\n",
       "0        0,230526164079581    0.225941\n",
       "1        0,230526164079581    0.225941\n",
       "2        0,230526164079581    0.225941\n",
       "3        0,230526164079581    0.225941\n",
       "4        0,230526164079581    0.225941\n",
       "...                    ...         ...\n",
       "368118  0,0733509336567334    0.058543\n",
       "368119  0,0733509336567334    0.058543\n",
       "368120  0,0733509336567334    0.058543\n",
       "368121  0,0733509336567334    0.058543\n",
       "368122  0,0733509336567334    0.058543\n",
       "\n",
       "[368123 rows x 2 columns]"
      ]
     },
     "execution_count": 63,
     "metadata": {},
     "output_type": "execute_result"
    }
   ],
   "source": [
    "df_results[[\"Clonality_x\",\"Clonality_y\"]]"
   ]
  },
  {
   "cell_type": "markdown",
   "id": "2b714094-2099-4341-99ae-0a069a6c4f9e",
   "metadata": {},
   "source": [
    "## merge proben"
   ]
  },
  {
   "cell_type": "code",
   "execution_count": 64,
   "id": "c0c86fde-290c-4223-aee3-609a7b95a73e",
   "metadata": {},
   "outputs": [
    {
     "data": {
      "text/html": [
       "<div>\n",
       "<style scoped>\n",
       "    .dataframe tbody tr th:only-of-type {\n",
       "        vertical-align: middle;\n",
       "    }\n",
       "\n",
       "    .dataframe tbody tr th {\n",
       "        vertical-align: top;\n",
       "    }\n",
       "\n",
       "    .dataframe thead th {\n",
       "        text-align: right;\n",
       "    }\n",
       "</style>\n",
       "<table border=\"1\" class=\"dataframe\">\n",
       "  <thead>\n",
       "    <tr style=\"text-align: right;\">\n",
       "      <th></th>\n",
       "      <th>Status</th>\n",
       "      <th>Patient</th>\n",
       "      <th>Tumorproben</th>\n",
       "      <th>Tumor</th>\n",
       "      <th>BL</th>\n",
       "      <th>C2</th>\n",
       "      <th>C5</th>\n",
       "      <th>EOT/PD</th>\n",
       "      <th>Notizen</th>\n",
       "      <th>Cycle_EOT</th>\n",
       "      <th>...</th>\n",
       "      <th>Datum EOT_sample</th>\n",
       "      <th>Datum_EOT_real</th>\n",
       "      <th>week C2 sample</th>\n",
       "      <th>week C5 sample</th>\n",
       "      <th>week EOT sample</th>\n",
       "      <th>week_to_EOT_C2_sample</th>\n",
       "      <th>week_to_EOT_C5_sample</th>\n",
       "      <th>week_to_EOT_EOT_sample</th>\n",
       "      <th>Unnamed: 21</th>\n",
       "      <th>ja: Probe vorhanden</th>\n",
       "    </tr>\n",
       "  </thead>\n",
       "  <tbody>\n",
       "    <tr>\n",
       "      <th>0</th>\n",
       "      <td>NaN</td>\n",
       "      <td>0001-001</td>\n",
       "      <td>1 Paraffinblock</td>\n",
       "      <td>seq</td>\n",
       "      <td>seq</td>\n",
       "      <td>seq</td>\n",
       "      <td>seq</td>\n",
       "      <td>seq</td>\n",
       "      <td>NaN</td>\n",
       "      <td>C16</td>\n",
       "      <td>...</td>\n",
       "      <td>2018-11-29 00:00:00</td>\n",
       "      <td>2018-11-29 00:00:00</td>\n",
       "      <td>4.0</td>\n",
       "      <td>13.0</td>\n",
       "      <td>38.0</td>\n",
       "      <td>-34.0</td>\n",
       "      <td>-26.0</td>\n",
       "      <td>0.0</td>\n",
       "      <td>NaN</td>\n",
       "      <td>NA: Probe nicht vorhanden</td>\n",
       "    </tr>\n",
       "    <tr>\n",
       "      <th>1</th>\n",
       "      <td>NaN</td>\n",
       "      <td>0001-002</td>\n",
       "      <td>1 Paraffinblock</td>\n",
       "      <td>seq</td>\n",
       "      <td>seq</td>\n",
       "      <td>seq</td>\n",
       "      <td>seq</td>\n",
       "      <td>seq</td>\n",
       "      <td>NaN</td>\n",
       "      <td>C19</td>\n",
       "      <td>...</td>\n",
       "      <td>2019-11-28 00:00:00</td>\n",
       "      <td>2019-11-28 00:00:00</td>\n",
       "      <td>3.0</td>\n",
       "      <td>9.0</td>\n",
       "      <td>40.0</td>\n",
       "      <td>-38.0</td>\n",
       "      <td>-32.0</td>\n",
       "      <td>0.0</td>\n",
       "      <td>NaN</td>\n",
       "      <td>seq: Probe vorhanden und sequenziert mit GeneP...</td>\n",
       "    </tr>\n",
       "    <tr>\n",
       "      <th>2</th>\n",
       "      <td>NaN</td>\n",
       "      <td>0001-003</td>\n",
       "      <td>1 Paraffinblock</td>\n",
       "      <td>seq</td>\n",
       "      <td>?</td>\n",
       "      <td>cf</td>\n",
       "      <td>Plasma</td>\n",
       "      <td>seq</td>\n",
       "      <td>BL, C2 und C5 als 0038-001 beschriftet, Patien...</td>\n",
       "      <td>C16</td>\n",
       "      <td>...</td>\n",
       "      <td>2019-10-15 00:00:00</td>\n",
       "      <td>2019-10-15 00:00:00</td>\n",
       "      <td>3.0</td>\n",
       "      <td>9.0</td>\n",
       "      <td>35.0</td>\n",
       "      <td>-32.0</td>\n",
       "      <td>-26.0</td>\n",
       "      <td>0.0</td>\n",
       "      <td>NaN</td>\n",
       "      <td>cf: cfDNA isoliert, aber noch nicht mit GenePa...</td>\n",
       "    </tr>\n",
       "    <tr>\n",
       "      <th>3</th>\n",
       "      <td>NaN</td>\n",
       "      <td>0001-004</td>\n",
       "      <td>1 Parafinblock</td>\n",
       "      <td>seq</td>\n",
       "      <td>seq</td>\n",
       "      <td>seq</td>\n",
       "      <td>seq</td>\n",
       "      <td>NaN</td>\n",
       "      <td>NaN</td>\n",
       "      <td>C24</td>\n",
       "      <td>...</td>\n",
       "      <td>NaN</td>\n",
       "      <td>2020-09-15 00:00:00</td>\n",
       "      <td>4.0</td>\n",
       "      <td>13.0</td>\n",
       "      <td>54.0</td>\n",
       "      <td>-51.0</td>\n",
       "      <td>-42.0</td>\n",
       "      <td>NaN</td>\n",
       "      <td>NaN</td>\n",
       "      <td>g: gDNA isoliert, noch kein Gene Panel erstell...</td>\n",
       "    </tr>\n",
       "    <tr>\n",
       "      <th>4</th>\n",
       "      <td>NaN</td>\n",
       "      <td>0002-001</td>\n",
       "      <td>1 Parafinblock</td>\n",
       "      <td>seq</td>\n",
       "      <td>seq</td>\n",
       "      <td>seq</td>\n",
       "      <td>NaN</td>\n",
       "      <td>NaN</td>\n",
       "      <td>NaN</td>\n",
       "      <td>C14</td>\n",
       "      <td>...</td>\n",
       "      <td>NaN</td>\n",
       "      <td>2018-10-10 00:00:00</td>\n",
       "      <td>3.0</td>\n",
       "      <td>NaN</td>\n",
       "      <td>31.0</td>\n",
       "      <td>-28.0</td>\n",
       "      <td>NaN</td>\n",
       "      <td>NaN</td>\n",
       "      <td>NaN</td>\n",
       "      <td>Panel: PanelUPCR bereits erstellt, jedoch noch...</td>\n",
       "    </tr>\n",
       "    <tr>\n",
       "      <th>...</th>\n",
       "      <td>...</td>\n",
       "      <td>...</td>\n",
       "      <td>...</td>\n",
       "      <td>...</td>\n",
       "      <td>...</td>\n",
       "      <td>...</td>\n",
       "      <td>...</td>\n",
       "      <td>...</td>\n",
       "      <td>...</td>\n",
       "      <td>...</td>\n",
       "      <td>...</td>\n",
       "      <td>...</td>\n",
       "      <td>...</td>\n",
       "      <td>...</td>\n",
       "      <td>...</td>\n",
       "      <td>...</td>\n",
       "      <td>...</td>\n",
       "      <td>...</td>\n",
       "      <td>...</td>\n",
       "      <td>...</td>\n",
       "      <td>...</td>\n",
       "    </tr>\n",
       "    <tr>\n",
       "      <th>93</th>\n",
       "      <td>NaN</td>\n",
       "      <td>0038-002</td>\n",
       "      <td>1 Paraffinblock</td>\n",
       "      <td>seq</td>\n",
       "      <td>seq</td>\n",
       "      <td>seq</td>\n",
       "      <td>seq</td>\n",
       "      <td>seq</td>\n",
       "      <td>NaN</td>\n",
       "      <td>C31</td>\n",
       "      <td>...</td>\n",
       "      <td>2020-11-03 00:00:00</td>\n",
       "      <td>2020-11-03 00:00:00</td>\n",
       "      <td>3.0</td>\n",
       "      <td>12.0</td>\n",
       "      <td>64.0</td>\n",
       "      <td>-61.0</td>\n",
       "      <td>-52.0</td>\n",
       "      <td>0.0</td>\n",
       "      <td>NaN</td>\n",
       "      <td>NaN</td>\n",
       "    </tr>\n",
       "    <tr>\n",
       "      <th>94</th>\n",
       "      <td>NaN</td>\n",
       "      <td>0038-003</td>\n",
       "      <td>1 Paraffinblock</td>\n",
       "      <td>seq</td>\n",
       "      <td>seq</td>\n",
       "      <td>cf</td>\n",
       "      <td>NaN</td>\n",
       "      <td>seq</td>\n",
       "      <td>C3 statt C2</td>\n",
       "      <td>C7</td>\n",
       "      <td>...</td>\n",
       "      <td>2020-01-21 00:00:00</td>\n",
       "      <td>2020-01-21 00:00:00</td>\n",
       "      <td>9.0</td>\n",
       "      <td>NaN</td>\n",
       "      <td>22.0</td>\n",
       "      <td>-13.0</td>\n",
       "      <td>NaN</td>\n",
       "      <td>0.0</td>\n",
       "      <td>NaN</td>\n",
       "      <td>NaN</td>\n",
       "    </tr>\n",
       "    <tr>\n",
       "      <th>95</th>\n",
       "      <td>NaN</td>\n",
       "      <td>0038-004</td>\n",
       "      <td>1 Paraffinblock</td>\n",
       "      <td>seq</td>\n",
       "      <td>seq</td>\n",
       "      <td>EOT</td>\n",
       "      <td>NaN</td>\n",
       "      <td>seq</td>\n",
       "      <td>NaN</td>\n",
       "      <td>C2</td>\n",
       "      <td>...</td>\n",
       "      <td>2019-12-11 00:00:00</td>\n",
       "      <td>2019-12-11 00:00:00</td>\n",
       "      <td>NaN</td>\n",
       "      <td>NaN</td>\n",
       "      <td>3.0</td>\n",
       "      <td>NaN</td>\n",
       "      <td>NaN</td>\n",
       "      <td>0.0</td>\n",
       "      <td>NaN</td>\n",
       "      <td>NaN</td>\n",
       "    </tr>\n",
       "    <tr>\n",
       "      <th>96</th>\n",
       "      <td>NaN</td>\n",
       "      <td>0038-005</td>\n",
       "      <td>1 Paraffinblock</td>\n",
       "      <td>seq</td>\n",
       "      <td>seq</td>\n",
       "      <td>Panel</td>\n",
       "      <td>NaN</td>\n",
       "      <td>NaN</td>\n",
       "      <td>NaN</td>\n",
       "      <td>C3</td>\n",
       "      <td>...</td>\n",
       "      <td>NaN</td>\n",
       "      <td>2020-04-15 00:00:00</td>\n",
       "      <td>3.0</td>\n",
       "      <td>NaN</td>\n",
       "      <td>5.0</td>\n",
       "      <td>-2.0</td>\n",
       "      <td>NaN</td>\n",
       "      <td>NaN</td>\n",
       "      <td>NaN</td>\n",
       "      <td>NaN</td>\n",
       "    </tr>\n",
       "    <tr>\n",
       "      <th>97</th>\n",
       "      <td>NaN</td>\n",
       "      <td>0039-001</td>\n",
       "      <td>1 Paraffinblock</td>\n",
       "      <td>seq</td>\n",
       "      <td>seq</td>\n",
       "      <td>cf</td>\n",
       "      <td>NaN</td>\n",
       "      <td>seq</td>\n",
       "      <td>NaN</td>\n",
       "      <td>C3</td>\n",
       "      <td>...</td>\n",
       "      <td>2020-01-28 00:00:00</td>\n",
       "      <td>2020-01-28 00:00:00</td>\n",
       "      <td>7.0</td>\n",
       "      <td>NaN</td>\n",
       "      <td>10.0</td>\n",
       "      <td>-4.0</td>\n",
       "      <td>NaN</td>\n",
       "      <td>0.0</td>\n",
       "      <td>NaN</td>\n",
       "      <td>NaN</td>\n",
       "    </tr>\n",
       "  </tbody>\n",
       "</table>\n",
       "<p>98 rows × 23 columns</p>\n",
       "</div>"
      ],
      "text/plain": [
       "   Status   Patient      Tumorproben Tumor   BL     C2      C5 EOT/PD  \\\n",
       "0     NaN  0001-001  1 Paraffinblock   seq  seq    seq     seq    seq   \n",
       "1     NaN  0001-002  1 Paraffinblock   seq  seq    seq     seq    seq   \n",
       "2     NaN  0001-003  1 Paraffinblock   seq    ?     cf  Plasma    seq   \n",
       "3     NaN  0001-004   1 Parafinblock   seq  seq    seq     seq    NaN   \n",
       "4     NaN  0002-001   1 Parafinblock   seq  seq    seq     NaN    NaN   \n",
       "..    ...       ...              ...   ...  ...    ...     ...    ...   \n",
       "93    NaN  0038-002  1 Paraffinblock   seq  seq    seq     seq    seq   \n",
       "94    NaN  0038-003  1 Paraffinblock   seq  seq     cf     NaN    seq   \n",
       "95    NaN  0038-004  1 Paraffinblock   seq  seq    EOT     NaN    seq   \n",
       "96    NaN  0038-005  1 Paraffinblock   seq  seq  Panel     NaN    NaN   \n",
       "97    NaN  0039-001  1 Paraffinblock   seq  seq     cf     NaN    seq   \n",
       "\n",
       "                                              Notizen Cycle_EOT  ...  \\\n",
       "0                                                 NaN       C16  ...   \n",
       "1                                                 NaN       C19  ...   \n",
       "2   BL, C2 und C5 als 0038-001 beschriftet, Patien...       C16  ...   \n",
       "3                                                 NaN       C24  ...   \n",
       "4                                                 NaN       C14  ...   \n",
       "..                                                ...       ...  ...   \n",
       "93                                                NaN       C31  ...   \n",
       "94                                        C3 statt C2        C7  ...   \n",
       "95                                                NaN        C2  ...   \n",
       "96                                                NaN        C3  ...   \n",
       "97                                                NaN        C3  ...   \n",
       "\n",
       "       Datum EOT_sample       Datum_EOT_real week C2 sample week C5 sample  \\\n",
       "0   2018-11-29 00:00:00  2018-11-29 00:00:00            4.0           13.0   \n",
       "1   2019-11-28 00:00:00  2019-11-28 00:00:00            3.0            9.0   \n",
       "2   2019-10-15 00:00:00  2019-10-15 00:00:00            3.0            9.0   \n",
       "3                   NaN  2020-09-15 00:00:00            4.0           13.0   \n",
       "4                   NaN  2018-10-10 00:00:00            3.0            NaN   \n",
       "..                  ...                  ...            ...            ...   \n",
       "93  2020-11-03 00:00:00  2020-11-03 00:00:00            3.0           12.0   \n",
       "94  2020-01-21 00:00:00  2020-01-21 00:00:00            9.0            NaN   \n",
       "95  2019-12-11 00:00:00  2019-12-11 00:00:00            NaN            NaN   \n",
       "96                  NaN  2020-04-15 00:00:00            3.0            NaN   \n",
       "97  2020-01-28 00:00:00  2020-01-28 00:00:00            7.0            NaN   \n",
       "\n",
       "   week EOT sample  week_to_EOT_C2_sample  week_to_EOT_C5_sample  \\\n",
       "0             38.0                  -34.0                  -26.0   \n",
       "1             40.0                  -38.0                  -32.0   \n",
       "2             35.0                  -32.0                  -26.0   \n",
       "3             54.0                  -51.0                  -42.0   \n",
       "4             31.0                  -28.0                    NaN   \n",
       "..             ...                    ...                    ...   \n",
       "93            64.0                  -61.0                  -52.0   \n",
       "94            22.0                  -13.0                    NaN   \n",
       "95             3.0                    NaN                    NaN   \n",
       "96             5.0                   -2.0                    NaN   \n",
       "97            10.0                   -4.0                    NaN   \n",
       "\n",
       "    week_to_EOT_EOT_sample  Unnamed: 21  \\\n",
       "0                      0.0          NaN   \n",
       "1                      0.0          NaN   \n",
       "2                      0.0          NaN   \n",
       "3                      NaN          NaN   \n",
       "4                      NaN          NaN   \n",
       "..                     ...          ...   \n",
       "93                     0.0          NaN   \n",
       "94                     0.0          NaN   \n",
       "95                     0.0          NaN   \n",
       "96                     NaN          NaN   \n",
       "97                     0.0          NaN   \n",
       "\n",
       "                                  ja: Probe vorhanden  \n",
       "0                           NA: Probe nicht vorhanden  \n",
       "1   seq: Probe vorhanden und sequenziert mit GeneP...  \n",
       "2   cf: cfDNA isoliert, aber noch nicht mit GenePa...  \n",
       "3   g: gDNA isoliert, noch kein Gene Panel erstell...  \n",
       "4   Panel: PanelUPCR bereits erstellt, jedoch noch...  \n",
       "..                                                ...  \n",
       "93                                                NaN  \n",
       "94                                                NaN  \n",
       "95                                                NaN  \n",
       "96                                                NaN  \n",
       "97                                                NaN  \n",
       "\n",
       "[98 rows x 23 columns]"
      ]
     },
     "execution_count": 64,
     "metadata": {},
     "output_type": "execute_result"
    }
   ],
   "source": [
    "proben_df"
   ]
  },
  {
   "cell_type": "code",
   "execution_count": 65,
   "id": "2a38f2a9-e0ef-4b72-a33b-0215f7ed906c",
   "metadata": {},
   "outputs": [
    {
     "data": {
      "text/plain": [
       "Index([               'Umi.count',           'Umi.proportion',\n",
       "                     'Read.count',          'Read.proportion',\n",
       "       'CDR3.nucleotide.sequence', 'CDR3.amino.acid.sequence',\n",
       "                         'V.gene',                   'J.gene',\n",
       "                         'D.gene',                    'V.end',\n",
       "       ...\n",
       "                              nan,                       'ID',\n",
       "                      'all.names',              'Clonality_y',\n",
       "                          'Group',                'Diversity',\n",
       "                          'Group',                 'Richness',\n",
       "                          'Group',            'Probe_cleaned'],\n",
       "      dtype='object', length=103)"
      ]
     },
     "execution_count": 65,
     "metadata": {},
     "output_type": "execute_result"
    }
   ],
   "source": [
    "df_results.columns"
   ]
  },
  {
   "cell_type": "code",
   "execution_count": 66,
   "id": "b9154498-8570-4a96-ade8-9f5996cb3821",
   "metadata": {},
   "outputs": [],
   "source": [
    "proben_df[\"stripped_patient_id\"] = proben_df[\"Patient\"].apply(utils.get_stripped_pat_no)"
   ]
  },
  {
   "cell_type": "code",
   "execution_count": 67,
   "id": "a98a474f-cd66-4494-9829-dfb9d9607789",
   "metadata": {},
   "outputs": [
    {
     "name": "stdout",
     "output_type": "stream",
     "text": [
      "Patients not in disposition:  set()\n",
      "Patients not in twb data:  {'5-5', '22-5', '15-4', '1-3', '9-1', '32-2', '15-8', '35-4', '35-5', '33-2', '16-4', '24-1'}\n"
     ]
    }
   ],
   "source": [
    "print(\"Patients not in disposition: \", set(df_results[\"stripped_patient_id\"].unique()).difference(set(proben_df[\"stripped_patient_id\"].unique())))\n",
    "print(\"Patients not in twb data: \", set(proben_df[\"stripped_patient_id\"].unique()).difference(set(df_results[\"stripped_patient_id\"].unique())))"
   ]
  },
  {
   "cell_type": "code",
   "execution_count": 68,
   "id": "540c4b19-4dba-48c3-b7e1-deac221aa72a",
   "metadata": {},
   "outputs": [],
   "source": [
    "df_results = df_results.merge(proben_df, on = [\"stripped_patient_id\"], how = \"left\")"
   ]
  },
  {
   "cell_type": "code",
   "execution_count": 69,
   "id": "8580038a-d7f9-4824-a3c2-bbade297805d",
   "metadata": {},
   "outputs": [
    {
     "data": {
      "text/html": [
       "<div>\n",
       "<style scoped>\n",
       "    .dataframe tbody tr th:only-of-type {\n",
       "        vertical-align: middle;\n",
       "    }\n",
       "\n",
       "    .dataframe tbody tr th {\n",
       "        vertical-align: top;\n",
       "    }\n",
       "\n",
       "    .dataframe thead th {\n",
       "        text-align: right;\n",
       "    }\n",
       "</style>\n",
       "<table border=\"1\" class=\"dataframe\">\n",
       "  <thead>\n",
       "    <tr style=\"text-align: right;\">\n",
       "      <th></th>\n",
       "      <th>Umi.count</th>\n",
       "      <th>Umi.proportion</th>\n",
       "      <th>Read.count</th>\n",
       "      <th>Read.proportion</th>\n",
       "      <th>CDR3.nucleotide.sequence</th>\n",
       "      <th>CDR3.amino.acid.sequence</th>\n",
       "      <th>V.gene</th>\n",
       "      <th>J.gene</th>\n",
       "      <th>D.gene</th>\n",
       "      <th>V.end</th>\n",
       "      <th>...</th>\n",
       "      <th>Datum EOT_sample</th>\n",
       "      <th>Datum_EOT_real</th>\n",
       "      <th>week C2 sample</th>\n",
       "      <th>week C5 sample</th>\n",
       "      <th>week EOT sample</th>\n",
       "      <th>week_to_EOT_C2_sample</th>\n",
       "      <th>week_to_EOT_C5_sample</th>\n",
       "      <th>week_to_EOT_EOT_sample</th>\n",
       "      <th>Unnamed: 21</th>\n",
       "      <th>ja: Probe vorhanden</th>\n",
       "    </tr>\n",
       "  </thead>\n",
       "  <tbody>\n",
       "    <tr>\n",
       "      <th>0</th>\n",
       "      <td>22802</td>\n",
       "      <td>0.205514</td>\n",
       "      <td>22802</td>\n",
       "      <td>0.205514</td>\n",
       "      <td>TGCAGCGTTGAAGGTGGGACGCGCAATGAGCAGTTCTTC</td>\n",
       "      <td>CSVEGGTRNEQFF</td>\n",
       "      <td>TRBV29-1</td>\n",
       "      <td>TRBJ2-1</td>\n",
       "      <td>TRBD1, TRBD2</td>\n",
       "      <td>195</td>\n",
       "      <td>...</td>\n",
       "      <td>NaN</td>\n",
       "      <td>2018-10-10 00:00:00</td>\n",
       "      <td>3.0</td>\n",
       "      <td>NaN</td>\n",
       "      <td>31.0</td>\n",
       "      <td>-28.0</td>\n",
       "      <td>NaN</td>\n",
       "      <td>NaN</td>\n",
       "      <td>NaN</td>\n",
       "      <td>Panel: PanelUPCR bereits erstellt, jedoch noch...</td>\n",
       "    </tr>\n",
       "    <tr>\n",
       "      <th>1</th>\n",
       "      <td>2577</td>\n",
       "      <td>0.023226</td>\n",
       "      <td>2577</td>\n",
       "      <td>0.023226</td>\n",
       "      <td>TGTGCCAAAAATATTGGAGGTGACACCGGGGAGCTGTTTTTT</td>\n",
       "      <td>CAKNIGGDTGELFF</td>\n",
       "      <td>TRBV30</td>\n",
       "      <td>TRBJ2-2</td>\n",
       "      <td>TRBD2</td>\n",
       "      <td>177</td>\n",
       "      <td>...</td>\n",
       "      <td>NaN</td>\n",
       "      <td>2018-10-10 00:00:00</td>\n",
       "      <td>3.0</td>\n",
       "      <td>NaN</td>\n",
       "      <td>31.0</td>\n",
       "      <td>-28.0</td>\n",
       "      <td>NaN</td>\n",
       "      <td>NaN</td>\n",
       "      <td>NaN</td>\n",
       "      <td>Panel: PanelUPCR bereits erstellt, jedoch noch...</td>\n",
       "    </tr>\n",
       "    <tr>\n",
       "      <th>2</th>\n",
       "      <td>1961</td>\n",
       "      <td>0.017674</td>\n",
       "      <td>1961</td>\n",
       "      <td>0.017674</td>\n",
       "      <td>TGCAGCGACCCGACGGTATGCCGGACGACGCCACCGGGGAGCTGTT...</td>\n",
       "      <td>CSDPTVCR~DATGELFF</td>\n",
       "      <td>TRBV29-1</td>\n",
       "      <td>TRBJ2-2</td>\n",
       "      <td></td>\n",
       "      <td>189</td>\n",
       "      <td>...</td>\n",
       "      <td>NaN</td>\n",
       "      <td>2018-10-10 00:00:00</td>\n",
       "      <td>3.0</td>\n",
       "      <td>NaN</td>\n",
       "      <td>31.0</td>\n",
       "      <td>-28.0</td>\n",
       "      <td>NaN</td>\n",
       "      <td>NaN</td>\n",
       "      <td>NaN</td>\n",
       "      <td>Panel: PanelUPCR bereits erstellt, jedoch noch...</td>\n",
       "    </tr>\n",
       "    <tr>\n",
       "      <th>3</th>\n",
       "      <td>990</td>\n",
       "      <td>0.008923</td>\n",
       "      <td>990</td>\n",
       "      <td>0.008923</td>\n",
       "      <td>TGTGCCAGCAGTGAGGGGAGCGGGAGTGGCACAGATACGCAGTATTTT</td>\n",
       "      <td>CASSEGSGSGTDTQYF</td>\n",
       "      <td>TRBV6-1</td>\n",
       "      <td>TRBJ2-3</td>\n",
       "      <td>TRBD2</td>\n",
       "      <td>190</td>\n",
       "      <td>...</td>\n",
       "      <td>NaN</td>\n",
       "      <td>2018-10-10 00:00:00</td>\n",
       "      <td>3.0</td>\n",
       "      <td>NaN</td>\n",
       "      <td>31.0</td>\n",
       "      <td>-28.0</td>\n",
       "      <td>NaN</td>\n",
       "      <td>NaN</td>\n",
       "      <td>NaN</td>\n",
       "      <td>Panel: PanelUPCR bereits erstellt, jedoch noch...</td>\n",
       "    </tr>\n",
       "    <tr>\n",
       "      <th>4</th>\n",
       "      <td>885</td>\n",
       "      <td>0.007976</td>\n",
       "      <td>885</td>\n",
       "      <td>0.007976</td>\n",
       "      <td>TGTGCCAGCAGTGAAGGGGCCGGGGCCAACGTCCTGACTTTC</td>\n",
       "      <td>CASSEGAGANVLTF</td>\n",
       "      <td>TRBV6-1</td>\n",
       "      <td>TRBJ2-6</td>\n",
       "      <td>TRBD2</td>\n",
       "      <td>192</td>\n",
       "      <td>...</td>\n",
       "      <td>NaN</td>\n",
       "      <td>2018-10-10 00:00:00</td>\n",
       "      <td>3.0</td>\n",
       "      <td>NaN</td>\n",
       "      <td>31.0</td>\n",
       "      <td>-28.0</td>\n",
       "      <td>NaN</td>\n",
       "      <td>NaN</td>\n",
       "      <td>NaN</td>\n",
       "      <td>Panel: PanelUPCR bereits erstellt, jedoch noch...</td>\n",
       "    </tr>\n",
       "  </tbody>\n",
       "</table>\n",
       "<p>5 rows × 126 columns</p>\n",
       "</div>"
      ],
      "text/plain": [
       "   Umi.count  Umi.proportion  Read.count  Read.proportion  \\\n",
       "0      22802        0.205514       22802         0.205514   \n",
       "1       2577        0.023226        2577         0.023226   \n",
       "2       1961        0.017674        1961         0.017674   \n",
       "3        990        0.008923         990         0.008923   \n",
       "4        885        0.007976         885         0.007976   \n",
       "\n",
       "                            CDR3.nucleotide.sequence CDR3.amino.acid.sequence  \\\n",
       "0            TGCAGCGTTGAAGGTGGGACGCGCAATGAGCAGTTCTTC            CSVEGGTRNEQFF   \n",
       "1         TGTGCCAAAAATATTGGAGGTGACACCGGGGAGCTGTTTTTT           CAKNIGGDTGELFF   \n",
       "2  TGCAGCGACCCGACGGTATGCCGGACGACGCCACCGGGGAGCTGTT...        CSDPTVCR~DATGELFF   \n",
       "3   TGTGCCAGCAGTGAGGGGAGCGGGAGTGGCACAGATACGCAGTATTTT         CASSEGSGSGTDTQYF   \n",
       "4         TGTGCCAGCAGTGAAGGGGCCGGGGCCAACGTCCTGACTTTC           CASSEGAGANVLTF   \n",
       "\n",
       "     V.gene   J.gene        D.gene V.end  ... Datum EOT_sample  \\\n",
       "0  TRBV29-1  TRBJ2-1  TRBD1, TRBD2   195  ...              NaN   \n",
       "1    TRBV30  TRBJ2-2         TRBD2   177  ...              NaN   \n",
       "2  TRBV29-1  TRBJ2-2                 189  ...              NaN   \n",
       "3   TRBV6-1  TRBJ2-3         TRBD2   190  ...              NaN   \n",
       "4   TRBV6-1  TRBJ2-6         TRBD2   192  ...              NaN   \n",
       "\n",
       "        Datum_EOT_real week C2 sample  week C5 sample  week EOT sample  \\\n",
       "0  2018-10-10 00:00:00            3.0             NaN             31.0   \n",
       "1  2018-10-10 00:00:00            3.0             NaN             31.0   \n",
       "2  2018-10-10 00:00:00            3.0             NaN             31.0   \n",
       "3  2018-10-10 00:00:00            3.0             NaN             31.0   \n",
       "4  2018-10-10 00:00:00            3.0             NaN             31.0   \n",
       "\n",
       "   week_to_EOT_C2_sample week_to_EOT_C5_sample  week_to_EOT_EOT_sample  \\\n",
       "0                  -28.0                   NaN                     NaN   \n",
       "1                  -28.0                   NaN                     NaN   \n",
       "2                  -28.0                   NaN                     NaN   \n",
       "3                  -28.0                   NaN                     NaN   \n",
       "4                  -28.0                   NaN                     NaN   \n",
       "\n",
       "  Unnamed: 21                                ja: Probe vorhanden  \n",
       "0         NaN  Panel: PanelUPCR bereits erstellt, jedoch noch...  \n",
       "1         NaN  Panel: PanelUPCR bereits erstellt, jedoch noch...  \n",
       "2         NaN  Panel: PanelUPCR bereits erstellt, jedoch noch...  \n",
       "3         NaN  Panel: PanelUPCR bereits erstellt, jedoch noch...  \n",
       "4         NaN  Panel: PanelUPCR bereits erstellt, jedoch noch...  \n",
       "\n",
       "[5 rows x 126 columns]"
      ]
     },
     "execution_count": 69,
     "metadata": {},
     "output_type": "execute_result"
    }
   ],
   "source": [
    "df_results.head()"
   ]
  },
  {
   "cell_type": "code",
   "execution_count": 291,
   "id": "28331c70-7e14-4bdd-95b0-e635b26f2f7b",
   "metadata": {},
   "outputs": [],
   "source": [
    "#df_results.to_pickle(\"intega/intega_40000_reads_with_out_of_frame_merged_dispo_results_proben.pkl\")"
   ]
  },
  {
   "cell_type": "markdown",
   "id": "3551d70a-c849-4a21-be5d-1ebe2c94f305",
   "metadata": {},
   "source": [
    "# Load raw file info"
   ]
  },
  {
   "cell_type": "code",
   "execution_count": 70,
   "id": "82a3adb7-f9eb-40bb-a9aa-4818e1ffe150",
   "metadata": {},
   "outputs": [
    {
     "data": {
      "application/vnd.jupyter.widget-view+json": {
       "model_id": "c8455170f2f34d14be088715fe5d2357",
       "version_major": 2,
       "version_minor": 0
      },
      "text/plain": [
       "  0%|          | 0/146 [00:00<?, ?it/s]"
      ]
     },
     "metadata": {},
     "output_type": "display_data"
    }
   ],
   "source": [
    "df_raw = utils.read_clones_txt(np.unique(df[\"clones.txt.name\"].values), \"intega/Intega_final\")"
   ]
  },
  {
   "cell_type": "code",
   "execution_count": 295,
   "id": "32f917ba-6168-4b8c-829f-f6ab549a6c96",
   "metadata": {},
   "outputs": [
    {
     "data": {
      "text/plain": [
       "Index([               'Umi.count',           'Umi.proportion',\n",
       "                     'Read.count',          'Read.proportion',\n",
       "       'CDR3.nucleotide.sequence', 'CDR3.amino.acid.sequence',\n",
       "                         'V.gene',                   'J.gene',\n",
       "                         'D.gene',                    'V.end',\n",
       "       ...\n",
       "               'Datum EOT_sample',           'Datum_EOT_real',\n",
       "                 'week C2 sample',           'week C5 sample',\n",
       "                'week EOT sample',    'week_to_EOT_C2_sample',\n",
       "          'week_to_EOT_C5_sample',   'week_to_EOT_EOT_sample',\n",
       "                    'Unnamed: 21',      'ja: Probe vorhanden'],\n",
       "      dtype='object', length=126)"
      ]
     },
     "execution_count": 295,
     "metadata": {},
     "output_type": "execute_result"
    }
   ],
   "source": [
    "df_results.columns"
   ]
  },
  {
   "cell_type": "code",
   "execution_count": 296,
   "id": "5ff1873f-0674-483c-b550-6be6b6e2038c",
   "metadata": {},
   "outputs": [
    {
     "data": {
      "text/plain": [
       "Index(['cloneId', 'cloneCount', 'cloneFraction', 'nSeqCDR3', 'aaSeqCDR3',\n",
       "       'bestVGene', 'bestDGene', 'bestJGene', 'vBestIdentityPercent',\n",
       "       'lengthOfCDR3', 'targetSequences', 'allVGenes', 'allDGenes',\n",
       "       'allJGenes', 'allVHits', 'allDHits', 'allJHits', 'allVAlignments',\n",
       "       'allDAlignments', 'allJAlignments', 'clones.txt.name'],\n",
       "      dtype='object')"
      ]
     },
     "execution_count": 296,
     "metadata": {},
     "output_type": "execute_result"
    }
   ],
   "source": [
    "df_raw.columns"
   ]
  },
  {
   "cell_type": "markdown",
   "id": "dc1eae24-01e3-485e-a388-dff2d483d667",
   "metadata": {},
   "source": [
    "## Add correct clone Id before adding info from raw files"
   ]
  },
  {
   "cell_type": "code",
   "execution_count": 71,
   "id": "229008b8-2bbe-40a0-adcb-12851a169ffb",
   "metadata": {},
   "outputs": [
    {
     "data": {
      "application/vnd.jupyter.widget-view+json": {
       "model_id": "cf99e56651704ef5ad0d993e744ea64b",
       "version_major": 2,
       "version_minor": 0
      },
      "text/plain": [
       "  0%|          | 0/146 [00:00<?, ?it/s]"
      ]
     },
     "metadata": {},
     "output_type": "display_data"
    }
   ],
   "source": [
    "for file in tqdm(df_results[\"clones.txt.name\"].unique()):\n",
    "    df_sub_file = df_results[df_results[\"clones.txt.name\"] == file]\n",
    "    df_raw_sub_file = df_raw[df_raw[\"clones.txt.name\"] == file]\n",
    "    for i, index_row in enumerate(df_sub_file.iterrows()):\n",
    "        index, row = index_row[0], index_row[1]  \n",
    "        if row[\"CDR3.nucleotide.sequence\"] == df_raw_sub_file.iloc[i][\"nSeqCDR3\"]:\n",
    "            df_results.loc[index,\"cloneId\"] = df_raw_sub_file.iloc[i][\"cloneId\"]"
   ]
  },
  {
   "cell_type": "code",
   "execution_count": 72,
   "id": "24419d51-4ac3-4560-8d04-965f0fea46cc",
   "metadata": {},
   "outputs": [],
   "source": [
    "df_results2 = df_results.merge(df_raw, left_on=[\"clones.txt.name\", \"cloneId\", \"CDR3.nucleotide.sequence\"], right_on =[\"clones.txt.name\", \"cloneId\", \"nSeqCDR3\"], how = \"left\")"
   ]
  },
  {
   "cell_type": "code",
   "execution_count": 305,
   "id": "b6f33254-ca88-4b2f-a754-ab097e1167b9",
   "metadata": {},
   "outputs": [],
   "source": [
    "#df_results2.to_pickle(\"intega/intega_40000_reads_with_out_of_frame_merged_dispo_results_proben_raw_data.pkl\")"
   ]
  },
  {
   "cell_type": "code",
   "execution_count": 307,
   "id": "c34cfbf8-60fd-45a3-ac87-e20442aa6be3",
   "metadata": {},
   "outputs": [
    {
     "data": {
      "text/plain": [
       "['Umi.count',\n",
       " 'Umi.proportion',\n",
       " 'Read.count',\n",
       " 'Read.proportion',\n",
       " 'CDR3.nucleotide.sequence',\n",
       " 'CDR3.amino.acid.sequence',\n",
       " 'V.gene',\n",
       " 'J.gene',\n",
       " 'D.gene',\n",
       " 'V.end',\n",
       " 'J.start',\n",
       " 'D5.end',\n",
       " 'D3.end',\n",
       " 'VD.insertions',\n",
       " 'DJ.insertions',\n",
       " 'Total.insertions',\n",
       " 'sample',\n",
       " 'cloneId',\n",
       " 'clones.txt.name',\n",
       " '#Nucleotide clones',\n",
       " '#Aminoacid clonotypes',\n",
       " '%Aminoacid clonotypes',\n",
       " '#In-frames',\n",
       " '%In-frames',\n",
       " '#Out-of-frames',\n",
       " '%Out-of-frames',\n",
       " 'Sum.reads',\n",
       " 'Min.reads',\n",
       " '1st Qu.reads',\n",
       " 'Median.reads',\n",
       " 'Mean.reads',\n",
       " '3rd Qu.reads',\n",
       " 'Max.reads',\n",
       " 'Sum.UMIs',\n",
       " 'Min.UMIs',\n",
       " '1st Qu.UMIs',\n",
       " 'Median.UMIs',\n",
       " 'Mean.UMIs',\n",
       " '3rd Qu.UMIs',\n",
       " 'Max.UMIs',\n",
       " 'Clonality_x',\n",
       " 'twb.shannon',\n",
       " 'twb.simp',\n",
       " 'stripped_patient_id',\n",
       " 'Pat-No.',\n",
       " 'Age [y]',\n",
       " 'Gender (M/F)',\n",
       " 'Random No.',\n",
       " 'Treatment as Randomized',\n",
       " 'Treatment as Treated',\n",
       " 'Prior Surgery (Yes/No)',\n",
       " 'HER2 Status Local (IHC 2+/3+)',\n",
       " 'HER2 Status Central',\n",
       " 'Tumor Proportion Score',\n",
       " 'Immune Cell Score',\n",
       " 'Combined Positive Score',\n",
       " 'Prior Drug Therapy',\n",
       " 'Therapy Duration, Any Component [mo]',\n",
       " 'Therapy Duration, All Scheduled Components [mo]',\n",
       " 'Therapy Duration, Nivolumab [mo]',\n",
       " 'Reason for End of Treatment',\n",
       " 'Overall Best Response (CR/PR)',\n",
       " 'Time to Best Response [mo]',\n",
       " 'Response at 1st Tumor Assessment (PD/SD/PR/CR/NA)',\n",
       " 'Sum of Target Lesion Diameters [mm] at Screening',\n",
       " '% Change of Diameters (target lesions) at 1st Tumor Assessment',\n",
       " 'Best % Change of Diameters (Taget Lesions) during Tumor Assessments',\n",
       " 'PFS [mo]',\n",
       " 'Censoring (Yes/No)',\n",
       " 'No of AEs (Grade 3-5)',\n",
       " 'No of SAEs',\n",
       " 'OS [mo]',\n",
       " 'Death (Yes/No)',\n",
       " 'Zentrum',\n",
       " 'Pat-ID',\n",
       " 'Patient-ID',\n",
       " 'Probe',\n",
       " nan,\n",
       " 'Probenabnahme',\n",
       " 'Datum_Analyse',\n",
       " 'CTC1',\n",
       " 'HER2-0',\n",
       " 'HER2-1',\n",
       " 'HER2-2',\n",
       " 'HER2-3',\n",
       " 'CXC',\n",
       " 'PD-L1-0',\n",
       " 'PD-L1-1',\n",
       " 'PD-L1-2',\n",
       " 'PD-L1-3',\n",
       " 'Kommentare1',\n",
       " 'Kommentare2',\n",
       " 'Kommentare3',\n",
       " nan,\n",
       " 'ID',\n",
       " 'all.names',\n",
       " 'Clonality_y',\n",
       " 'Group',\n",
       " 'Diversity',\n",
       " 'Group',\n",
       " 'Richness',\n",
       " 'Group',\n",
       " 'Probe_cleaned',\n",
       " 'Status',\n",
       " 'Patient',\n",
       " 'Tumorproben',\n",
       " 'Tumor',\n",
       " 'BL',\n",
       " 'C2',\n",
       " 'C5',\n",
       " 'EOT/PD',\n",
       " 'Notizen',\n",
       " 'Cycle_EOT',\n",
       " 'Datum BL',\n",
       " 'Datum C2_sample',\n",
       " 'Datum C5_sample',\n",
       " 'Datum EOT_sample',\n",
       " 'Datum_EOT_real',\n",
       " 'week C2 sample',\n",
       " 'week C5 sample',\n",
       " 'week EOT sample',\n",
       " 'week_to_EOT_C2_sample',\n",
       " 'week_to_EOT_C5_sample',\n",
       " 'week_to_EOT_EOT_sample',\n",
       " 'Unnamed: 21',\n",
       " 'ja: Probe vorhanden',\n",
       " 'cloneCount',\n",
       " 'cloneFraction',\n",
       " 'nSeqCDR3',\n",
       " 'aaSeqCDR3',\n",
       " 'bestVGene',\n",
       " 'bestDGene',\n",
       " 'bestJGene',\n",
       " 'vBestIdentityPercent',\n",
       " 'lengthOfCDR3',\n",
       " 'targetSequences',\n",
       " 'allVGenes',\n",
       " 'allDGenes',\n",
       " 'allJGenes',\n",
       " 'allVHits',\n",
       " 'allDHits',\n",
       " 'allJHits',\n",
       " 'allVAlignments',\n",
       " 'allDAlignments',\n",
       " 'allJAlignments']"
      ]
     },
     "execution_count": 307,
     "metadata": {},
     "output_type": "execute_result"
    }
   ],
   "source": [
    "list(df_results2.columns)"
   ]
  },
  {
   "cell_type": "markdown",
   "id": "8e43ffcd-b66b-4101-ba8c-d4da74f6f59a",
   "metadata": {},
   "source": [
    "# Get rid of redundant information"
   ]
  },
  {
   "cell_type": "code",
   "execution_count": 73,
   "id": "59365cc2-b3f5-4ecc-826c-b7607101ade9",
   "metadata": {},
   "outputs": [],
   "source": [
    "df_results2.drop(columns = ['Umi.count', 'Umi.proportion', 'Sum.UMIs', 'Min.UMIs', '1st Qu.UMIs',\n",
    "       'Median.UMIs', 'Mean.UMIs', '3rd Qu.UMIs', 'Max.UMIs', 'nSeqCDR3'],inplace=True)"
   ]
  },
  {
   "cell_type": "code",
   "execution_count": 76,
   "id": "aed3a4fe-03ca-4e49-90e3-191df9b058c6",
   "metadata": {},
   "outputs": [
    {
     "data": {
      "text/plain": [
       "['Read.count',\n",
       " 'Read.proportion',\n",
       " 'CDR3.nucleotide.sequence',\n",
       " 'CDR3.amino.acid.sequence',\n",
       " 'V.gene',\n",
       " 'J.gene',\n",
       " 'D.gene',\n",
       " 'V.end',\n",
       " 'J.start',\n",
       " 'D5.end',\n",
       " 'D3.end',\n",
       " 'VD.insertions',\n",
       " 'DJ.insertions',\n",
       " 'Total.insertions',\n",
       " 'sample',\n",
       " 'cloneId',\n",
       " 'clones.txt.name',\n",
       " '#Nucleotide clones',\n",
       " '#Aminoacid clonotypes',\n",
       " '%Aminoacid clonotypes',\n",
       " '#In-frames',\n",
       " '%In-frames',\n",
       " '#Out-of-frames',\n",
       " '%Out-of-frames',\n",
       " 'Sum.reads',\n",
       " 'Min.reads',\n",
       " '1st Qu.reads',\n",
       " 'Median.reads',\n",
       " 'Mean.reads',\n",
       " '3rd Qu.reads',\n",
       " 'Max.reads',\n",
       " 'Clonality_x',\n",
       " 'twb.shannon',\n",
       " 'twb.simp',\n",
       " 'stripped_patient_id',\n",
       " 'Pat-No.',\n",
       " 'Age [y]',\n",
       " 'Gender (M/F)',\n",
       " 'Random No.',\n",
       " 'Treatment as Randomized',\n",
       " 'Treatment as Treated',\n",
       " 'Prior Surgery (Yes/No)',\n",
       " 'HER2 Status Local (IHC 2+/3+)',\n",
       " 'HER2 Status Central',\n",
       " 'Tumor Proportion Score',\n",
       " 'Immune Cell Score',\n",
       " 'Combined Positive Score',\n",
       " 'Prior Drug Therapy',\n",
       " 'Therapy Duration, Any Component [mo]',\n",
       " 'Therapy Duration, All Scheduled Components [mo]',\n",
       " 'Therapy Duration, Nivolumab [mo]',\n",
       " 'Reason for End of Treatment',\n",
       " 'Overall Best Response (CR/PR)',\n",
       " 'Time to Best Response [mo]',\n",
       " 'Response at 1st Tumor Assessment (PD/SD/PR/CR/NA)',\n",
       " 'Sum of Target Lesion Diameters [mm] at Screening',\n",
       " '% Change of Diameters (target lesions) at 1st Tumor Assessment',\n",
       " 'Best % Change of Diameters (Taget Lesions) during Tumor Assessments',\n",
       " 'PFS [mo]',\n",
       " 'Censoring (Yes/No)',\n",
       " 'No of AEs (Grade 3-5)',\n",
       " 'No of SAEs',\n",
       " 'OS [mo]',\n",
       " 'Death (Yes/No)',\n",
       " 'Zentrum',\n",
       " 'Pat-ID',\n",
       " 'Patient-ID',\n",
       " 'Probe',\n",
       " nan,\n",
       " 'Probenabnahme',\n",
       " 'Datum_Analyse',\n",
       " 'CTC1',\n",
       " 'HER2-0',\n",
       " 'HER2-1',\n",
       " 'HER2-2',\n",
       " 'HER2-3',\n",
       " 'CXC',\n",
       " 'PD-L1-0',\n",
       " 'PD-L1-1',\n",
       " 'PD-L1-2',\n",
       " 'PD-L1-3',\n",
       " 'Kommentare1',\n",
       " 'Kommentare2',\n",
       " 'Kommentare3',\n",
       " nan,\n",
       " 'ID',\n",
       " 'all.names',\n",
       " 'Clonality_y',\n",
       " 'Group',\n",
       " 'Diversity',\n",
       " 'Group',\n",
       " 'Richness',\n",
       " 'Group',\n",
       " 'Probe_cleaned',\n",
       " 'Status',\n",
       " 'Patient',\n",
       " 'Tumorproben',\n",
       " 'Tumor',\n",
       " 'BL',\n",
       " 'C2',\n",
       " 'C5',\n",
       " 'EOT/PD',\n",
       " 'Notizen',\n",
       " 'Cycle_EOT',\n",
       " 'Datum BL',\n",
       " 'Datum C2_sample',\n",
       " 'Datum C5_sample',\n",
       " 'Datum EOT_sample',\n",
       " 'Datum_EOT_real',\n",
       " 'week C2 sample',\n",
       " 'week C5 sample',\n",
       " 'week EOT sample',\n",
       " 'week_to_EOT_C2_sample',\n",
       " 'week_to_EOT_C5_sample',\n",
       " 'week_to_EOT_EOT_sample',\n",
       " 'Unnamed: 21',\n",
       " 'ja: Probe vorhanden',\n",
       " 'cloneCount',\n",
       " 'cloneFraction',\n",
       " 'aaSeqCDR3',\n",
       " 'bestVGene',\n",
       " 'bestDGene',\n",
       " 'bestJGene',\n",
       " 'vBestIdentityPercent',\n",
       " 'lengthOfCDR3',\n",
       " 'targetSequences',\n",
       " 'allVGenes',\n",
       " 'allDGenes',\n",
       " 'allJGenes',\n",
       " 'allVHits',\n",
       " 'allDHits',\n",
       " 'allJHits',\n",
       " 'allVAlignments',\n",
       " 'allDAlignments',\n",
       " 'allJAlignments']"
      ]
     },
     "execution_count": 76,
     "metadata": {},
     "output_type": "execute_result"
    }
   ],
   "source": [
    "list(df_results2.columns)"
   ]
  },
  {
   "cell_type": "code",
   "execution_count": 77,
   "id": "ffc86590-8f60-46d5-acaf-dc27be0c5f72",
   "metadata": {},
   "outputs": [
    {
     "data": {
      "text/html": [
       "<div>\n",
       "<style scoped>\n",
       "    .dataframe tbody tr th:only-of-type {\n",
       "        vertical-align: middle;\n",
       "    }\n",
       "\n",
       "    .dataframe tbody tr th {\n",
       "        vertical-align: top;\n",
       "    }\n",
       "\n",
       "    .dataframe thead th {\n",
       "        text-align: right;\n",
       "    }\n",
       "</style>\n",
       "<table border=\"1\" class=\"dataframe\">\n",
       "  <thead>\n",
       "    <tr style=\"text-align: right;\">\n",
       "      <th></th>\n",
       "      <th>Pat-No.</th>\n",
       "      <th>Pat-ID</th>\n",
       "      <th>Patient-ID</th>\n",
       "      <th>Probe</th>\n",
       "      <th>ID</th>\n",
       "      <th>all.names</th>\n",
       "      <th>Group</th>\n",
       "      <th>Group</th>\n",
       "      <th>Group</th>\n",
       "      <th>Probe_cleaned</th>\n",
       "      <th>Patient</th>\n",
       "    </tr>\n",
       "  </thead>\n",
       "  <tbody>\n",
       "    <tr>\n",
       "      <th>0</th>\n",
       "      <td>0002-001</td>\n",
       "      <td>1</td>\n",
       "      <td>0002-001</td>\n",
       "      <td>Baseline</td>\n",
       "      <td>002-001</td>\n",
       "      <td>Dona-hs-TRB-002-001-PB-Baseline-gDNA_S111</td>\n",
       "      <td>BL</td>\n",
       "      <td>BL</td>\n",
       "      <td>BL</td>\n",
       "      <td>BL</td>\n",
       "      <td>0002-001</td>\n",
       "    </tr>\n",
       "    <tr>\n",
       "      <th>1</th>\n",
       "      <td>0002-001</td>\n",
       "      <td>1</td>\n",
       "      <td>0002-001</td>\n",
       "      <td>Baseline</td>\n",
       "      <td>002-001</td>\n",
       "      <td>Dona-hs-TRB-002-001-PB-Baseline-gDNA_S111</td>\n",
       "      <td>BL</td>\n",
       "      <td>BL</td>\n",
       "      <td>BL</td>\n",
       "      <td>BL</td>\n",
       "      <td>0002-001</td>\n",
       "    </tr>\n",
       "    <tr>\n",
       "      <th>2</th>\n",
       "      <td>0002-001</td>\n",
       "      <td>1</td>\n",
       "      <td>0002-001</td>\n",
       "      <td>Baseline</td>\n",
       "      <td>002-001</td>\n",
       "      <td>Dona-hs-TRB-002-001-PB-Baseline-gDNA_S111</td>\n",
       "      <td>BL</td>\n",
       "      <td>BL</td>\n",
       "      <td>BL</td>\n",
       "      <td>BL</td>\n",
       "      <td>0002-001</td>\n",
       "    </tr>\n",
       "    <tr>\n",
       "      <th>3</th>\n",
       "      <td>0002-001</td>\n",
       "      <td>1</td>\n",
       "      <td>0002-001</td>\n",
       "      <td>Baseline</td>\n",
       "      <td>002-001</td>\n",
       "      <td>Dona-hs-TRB-002-001-PB-Baseline-gDNA_S111</td>\n",
       "      <td>BL</td>\n",
       "      <td>BL</td>\n",
       "      <td>BL</td>\n",
       "      <td>BL</td>\n",
       "      <td>0002-001</td>\n",
       "    </tr>\n",
       "    <tr>\n",
       "      <th>4</th>\n",
       "      <td>0002-001</td>\n",
       "      <td>1</td>\n",
       "      <td>0002-001</td>\n",
       "      <td>Baseline</td>\n",
       "      <td>002-001</td>\n",
       "      <td>Dona-hs-TRB-002-001-PB-Baseline-gDNA_S111</td>\n",
       "      <td>BL</td>\n",
       "      <td>BL</td>\n",
       "      <td>BL</td>\n",
       "      <td>BL</td>\n",
       "      <td>0002-001</td>\n",
       "    </tr>\n",
       "    <tr>\n",
       "      <th>...</th>\n",
       "      <td>...</td>\n",
       "      <td>...</td>\n",
       "      <td>...</td>\n",
       "      <td>...</td>\n",
       "      <td>...</td>\n",
       "      <td>...</td>\n",
       "      <td>...</td>\n",
       "      <td>...</td>\n",
       "      <td>...</td>\n",
       "      <td>...</td>\n",
       "      <td>...</td>\n",
       "    </tr>\n",
       "    <tr>\n",
       "      <th>368118</th>\n",
       "      <td>0035-002</td>\n",
       "      <td>2</td>\n",
       "      <td>0035-002</td>\n",
       "      <td>Baseline</td>\n",
       "      <td>0035-002</td>\n",
       "      <td>Svenja-TRB-0035-002-BL-INTEGA_S146</td>\n",
       "      <td>BL</td>\n",
       "      <td>BL</td>\n",
       "      <td>BL</td>\n",
       "      <td>BL</td>\n",
       "      <td>0035-002</td>\n",
       "    </tr>\n",
       "    <tr>\n",
       "      <th>368119</th>\n",
       "      <td>0035-002</td>\n",
       "      <td>2</td>\n",
       "      <td>0035-002</td>\n",
       "      <td>Baseline</td>\n",
       "      <td>0035-002</td>\n",
       "      <td>Svenja-TRB-0035-002-BL-INTEGA_S146</td>\n",
       "      <td>BL</td>\n",
       "      <td>BL</td>\n",
       "      <td>BL</td>\n",
       "      <td>BL</td>\n",
       "      <td>0035-002</td>\n",
       "    </tr>\n",
       "    <tr>\n",
       "      <th>368120</th>\n",
       "      <td>0035-002</td>\n",
       "      <td>2</td>\n",
       "      <td>0035-002</td>\n",
       "      <td>Baseline</td>\n",
       "      <td>0035-002</td>\n",
       "      <td>Svenja-TRB-0035-002-BL-INTEGA_S146</td>\n",
       "      <td>BL</td>\n",
       "      <td>BL</td>\n",
       "      <td>BL</td>\n",
       "      <td>BL</td>\n",
       "      <td>0035-002</td>\n",
       "    </tr>\n",
       "    <tr>\n",
       "      <th>368121</th>\n",
       "      <td>0035-002</td>\n",
       "      <td>2</td>\n",
       "      <td>0035-002</td>\n",
       "      <td>Baseline</td>\n",
       "      <td>0035-002</td>\n",
       "      <td>Svenja-TRB-0035-002-BL-INTEGA_S146</td>\n",
       "      <td>BL</td>\n",
       "      <td>BL</td>\n",
       "      <td>BL</td>\n",
       "      <td>BL</td>\n",
       "      <td>0035-002</td>\n",
       "    </tr>\n",
       "    <tr>\n",
       "      <th>368122</th>\n",
       "      <td>0035-002</td>\n",
       "      <td>2</td>\n",
       "      <td>0035-002</td>\n",
       "      <td>Baseline</td>\n",
       "      <td>0035-002</td>\n",
       "      <td>Svenja-TRB-0035-002-BL-INTEGA_S146</td>\n",
       "      <td>BL</td>\n",
       "      <td>BL</td>\n",
       "      <td>BL</td>\n",
       "      <td>BL</td>\n",
       "      <td>0035-002</td>\n",
       "    </tr>\n",
       "  </tbody>\n",
       "</table>\n",
       "<p>368123 rows × 11 columns</p>\n",
       "</div>"
      ],
      "text/plain": [
       "         Pat-No. Pat-ID Patient-ID     Probe        ID  \\\n",
       "0       0002-001      1   0002-001  Baseline   002-001   \n",
       "1       0002-001      1   0002-001  Baseline   002-001   \n",
       "2       0002-001      1   0002-001  Baseline   002-001   \n",
       "3       0002-001      1   0002-001  Baseline   002-001   \n",
       "4       0002-001      1   0002-001  Baseline   002-001   \n",
       "...          ...    ...        ...       ...       ...   \n",
       "368118  0035-002      2   0035-002  Baseline  0035-002   \n",
       "368119  0035-002      2   0035-002  Baseline  0035-002   \n",
       "368120  0035-002      2   0035-002  Baseline  0035-002   \n",
       "368121  0035-002      2   0035-002  Baseline  0035-002   \n",
       "368122  0035-002      2   0035-002  Baseline  0035-002   \n",
       "\n",
       "                                        all.names Group Group Group  \\\n",
       "0       Dona-hs-TRB-002-001-PB-Baseline-gDNA_S111    BL    BL    BL   \n",
       "1       Dona-hs-TRB-002-001-PB-Baseline-gDNA_S111    BL    BL    BL   \n",
       "2       Dona-hs-TRB-002-001-PB-Baseline-gDNA_S111    BL    BL    BL   \n",
       "3       Dona-hs-TRB-002-001-PB-Baseline-gDNA_S111    BL    BL    BL   \n",
       "4       Dona-hs-TRB-002-001-PB-Baseline-gDNA_S111    BL    BL    BL   \n",
       "...                                           ...   ...   ...   ...   \n",
       "368118         Svenja-TRB-0035-002-BL-INTEGA_S146    BL    BL    BL   \n",
       "368119         Svenja-TRB-0035-002-BL-INTEGA_S146    BL    BL    BL   \n",
       "368120         Svenja-TRB-0035-002-BL-INTEGA_S146    BL    BL    BL   \n",
       "368121         Svenja-TRB-0035-002-BL-INTEGA_S146    BL    BL    BL   \n",
       "368122         Svenja-TRB-0035-002-BL-INTEGA_S146    BL    BL    BL   \n",
       "\n",
       "       Probe_cleaned   Patient  \n",
       "0                 BL  0002-001  \n",
       "1                 BL  0002-001  \n",
       "2                 BL  0002-001  \n",
       "3                 BL  0002-001  \n",
       "4                 BL  0002-001  \n",
       "...              ...       ...  \n",
       "368118            BL  0035-002  \n",
       "368119            BL  0035-002  \n",
       "368120            BL  0035-002  \n",
       "368121            BL  0035-002  \n",
       "368122            BL  0035-002  \n",
       "\n",
       "[368123 rows x 11 columns]"
      ]
     },
     "execution_count": 77,
     "metadata": {},
     "output_type": "execute_result"
    }
   ],
   "source": [
    "df_results2[['Pat-No.','Pat-ID','Patient-ID', 'Probe', 'ID', 'all.names', 'Group',\n",
    " 'Probe_cleaned', 'Patient']]"
   ]
  },
  {
   "cell_type": "code",
   "execution_count": 78,
   "id": "faf627c4-a4cc-4d65-8226-94a3a2af99a4",
   "metadata": {},
   "outputs": [],
   "source": [
    "df_results2.drop(columns = ['Pat-No.','Pat-ID','Patient-ID','ID', 'all.names', 'Group','Patient'],inplace=True)"
   ]
  },
  {
   "cell_type": "code",
   "execution_count": 79,
   "id": "de711f44-743c-46c5-8094-5a9ca217c500",
   "metadata": {},
   "outputs": [
    {
     "data": {
      "text/html": [
       "<div>\n",
       "<style scoped>\n",
       "    .dataframe tbody tr th:only-of-type {\n",
       "        vertical-align: middle;\n",
       "    }\n",
       "\n",
       "    .dataframe tbody tr th {\n",
       "        vertical-align: top;\n",
       "    }\n",
       "\n",
       "    .dataframe thead th {\n",
       "        text-align: right;\n",
       "    }\n",
       "</style>\n",
       "<table border=\"1\" class=\"dataframe\">\n",
       "  <thead>\n",
       "    <tr style=\"text-align: right;\">\n",
       "      <th></th>\n",
       "      <th>Clonality_x</th>\n",
       "      <th>twb.shannon</th>\n",
       "      <th>twb.simp</th>\n",
       "      <th>Clonality_y</th>\n",
       "      <th>Diversity</th>\n",
       "      <th>Richness</th>\n",
       "    </tr>\n",
       "  </thead>\n",
       "  <tbody>\n",
       "    <tr>\n",
       "      <th>0</th>\n",
       "      <td>0,230526164079581</td>\n",
       "      <td>8,33318829492124</td>\n",
       "      <td>22,6204701668475</td>\n",
       "      <td>0.225941</td>\n",
       "      <td>7.659172</td>\n",
       "      <td>952</td>\n",
       "    </tr>\n",
       "    <tr>\n",
       "      <th>1</th>\n",
       "      <td>0,230526164079581</td>\n",
       "      <td>8,33318829492124</td>\n",
       "      <td>22,6204701668475</td>\n",
       "      <td>0.225941</td>\n",
       "      <td>7.659172</td>\n",
       "      <td>952</td>\n",
       "    </tr>\n",
       "    <tr>\n",
       "      <th>2</th>\n",
       "      <td>0,230526164079581</td>\n",
       "      <td>8,33318829492124</td>\n",
       "      <td>22,6204701668475</td>\n",
       "      <td>0.225941</td>\n",
       "      <td>7.659172</td>\n",
       "      <td>952</td>\n",
       "    </tr>\n",
       "    <tr>\n",
       "      <th>3</th>\n",
       "      <td>0,230526164079581</td>\n",
       "      <td>8,33318829492124</td>\n",
       "      <td>22,6204701668475</td>\n",
       "      <td>0.225941</td>\n",
       "      <td>7.659172</td>\n",
       "      <td>952</td>\n",
       "    </tr>\n",
       "    <tr>\n",
       "      <th>4</th>\n",
       "      <td>0,230526164079581</td>\n",
       "      <td>8,33318829492124</td>\n",
       "      <td>22,6204701668475</td>\n",
       "      <td>0.225941</td>\n",
       "      <td>7.659172</td>\n",
       "      <td>952</td>\n",
       "    </tr>\n",
       "    <tr>\n",
       "      <th>...</th>\n",
       "      <td>...</td>\n",
       "      <td>...</td>\n",
       "      <td>...</td>\n",
       "      <td>...</td>\n",
       "      <td>...</td>\n",
       "      <td>...</td>\n",
       "    </tr>\n",
       "    <tr>\n",
       "      <th>368118</th>\n",
       "      <td>0,0733509336567334</td>\n",
       "      <td>10,3883581338002</td>\n",
       "      <td>547,416817282941</td>\n",
       "      <td>0.058543</td>\n",
       "      <td>10.011364</td>\n",
       "      <td>1589</td>\n",
       "    </tr>\n",
       "    <tr>\n",
       "      <th>368119</th>\n",
       "      <td>0,0733509336567334</td>\n",
       "      <td>10,3883581338002</td>\n",
       "      <td>547,416817282941</td>\n",
       "      <td>0.058543</td>\n",
       "      <td>10.011364</td>\n",
       "      <td>1589</td>\n",
       "    </tr>\n",
       "    <tr>\n",
       "      <th>368120</th>\n",
       "      <td>0,0733509336567334</td>\n",
       "      <td>10,3883581338002</td>\n",
       "      <td>547,416817282941</td>\n",
       "      <td>0.058543</td>\n",
       "      <td>10.011364</td>\n",
       "      <td>1589</td>\n",
       "    </tr>\n",
       "    <tr>\n",
       "      <th>368121</th>\n",
       "      <td>0,0733509336567334</td>\n",
       "      <td>10,3883581338002</td>\n",
       "      <td>547,416817282941</td>\n",
       "      <td>0.058543</td>\n",
       "      <td>10.011364</td>\n",
       "      <td>1589</td>\n",
       "    </tr>\n",
       "    <tr>\n",
       "      <th>368122</th>\n",
       "      <td>0,0733509336567334</td>\n",
       "      <td>10,3883581338002</td>\n",
       "      <td>547,416817282941</td>\n",
       "      <td>0.058543</td>\n",
       "      <td>10.011364</td>\n",
       "      <td>1589</td>\n",
       "    </tr>\n",
       "  </tbody>\n",
       "</table>\n",
       "<p>368123 rows × 6 columns</p>\n",
       "</div>"
      ],
      "text/plain": [
       "               Clonality_x       twb.shannon          twb.simp Clonality_y  \\\n",
       "0        0,230526164079581  8,33318829492124  22,6204701668475    0.225941   \n",
       "1        0,230526164079581  8,33318829492124  22,6204701668475    0.225941   \n",
       "2        0,230526164079581  8,33318829492124  22,6204701668475    0.225941   \n",
       "3        0,230526164079581  8,33318829492124  22,6204701668475    0.225941   \n",
       "4        0,230526164079581  8,33318829492124  22,6204701668475    0.225941   \n",
       "...                    ...               ...               ...         ...   \n",
       "368118  0,0733509336567334  10,3883581338002  547,416817282941    0.058543   \n",
       "368119  0,0733509336567334  10,3883581338002  547,416817282941    0.058543   \n",
       "368120  0,0733509336567334  10,3883581338002  547,416817282941    0.058543   \n",
       "368121  0,0733509336567334  10,3883581338002  547,416817282941    0.058543   \n",
       "368122  0,0733509336567334  10,3883581338002  547,416817282941    0.058543   \n",
       "\n",
       "        Diversity Richness  \n",
       "0        7.659172      952  \n",
       "1        7.659172      952  \n",
       "2        7.659172      952  \n",
       "3        7.659172      952  \n",
       "4        7.659172      952  \n",
       "...           ...      ...  \n",
       "368118  10.011364     1589  \n",
       "368119  10.011364     1589  \n",
       "368120  10.011364     1589  \n",
       "368121  10.011364     1589  \n",
       "368122  10.011364     1589  \n",
       "\n",
       "[368123 rows x 6 columns]"
      ]
     },
     "execution_count": 79,
     "metadata": {},
     "output_type": "execute_result"
    }
   ],
   "source": [
    "df_results2[['Clonality_x',\n",
    " 'twb.shannon',\n",
    " 'twb.simp','Clonality_y','Diversity', 'Richness',]]"
   ]
  },
  {
   "cell_type": "code",
   "execution_count": 80,
   "id": "dbfb7e9e-e3d8-4af5-ba3c-1abf953ed7b0",
   "metadata": {},
   "outputs": [],
   "source": [
    "df_results2.rename(columns={\"Clonality_x\" : \"Clonality\", \n",
    "                            \"Clonality_y\" : \"Clonality_results\",\n",
    "                           \"Diversity\" : \"Diversity_results\", \n",
    "                           \"Richness\" : \"Richness_results\"}, inplace=True)"
   ]
  },
  {
   "cell_type": "code",
   "execution_count": 120,
   "id": "b4d33330-f107-4299-9249-20f729eff5f7",
   "metadata": {},
   "outputs": [],
   "source": [
    "df_results2[\"has_mutation\"] = df_results2[\"aaSeqCDR3\"].apply(lambda x: \"_\" in x or \"*\" in x)\n",
    "df_results2[\"Clonality\"] = df_results2[\"Clonality\"].apply(lambda x: float(x.replace(\",\",\".\").replace(\"+\",\"-\")) if type(x) == str else float(x))\n",
    "df_results2[\"twb.shannon\"] = df_results2[\"twb.shannon\"].apply(lambda x: float(x.replace(\",\",\".\").replace(\"+\",\"-\")) if type(x) == str else float(x))\n",
    "df_results2[\"twb.simp\"] = df_results2[\"twb.simp\"].apply(lambda x: float(x.replace(\",\",\".\").replace(\"+\",\"-\")) if type(x) == str else float(x))"
   ]
  },
  {
   "cell_type": "code",
   "execution_count": 81,
   "id": "642dba83-1d82-4b8e-9579-a221e9a99613",
   "metadata": {},
   "outputs": [],
   "source": [
    "df_results2.to_pickle(\"intega/intega_not_normalized_with_out_of_frame_merged_dispo_results_proben_raw_data_cleaned.pkl\")"
   ]
  },
  {
   "cell_type": "markdown",
   "id": "06e82a9b-6c0c-40cd-ade7-e673199ee69d",
   "metadata": {},
   "source": [
    "# Small Analysis"
   ]
  },
  {
   "cell_type": "code",
   "execution_count": 123,
   "id": "fa352e93-71f3-4959-9bc4-fbcec7b6f177",
   "metadata": {},
   "outputs": [],
   "source": [
    "df = pd.read_pickle(\"intega/intega_not_normalized_with_out_of_frame_merged_dispo_results_proben_raw_data_cleaned.pkl\")"
   ]
  },
  {
   "cell_type": "code",
   "execution_count": 124,
   "id": "4230681f-bc8e-45b2-bfcf-e82250c3cdcd",
   "metadata": {},
   "outputs": [
    {
     "data": {
      "text/plain": [
       "array(['Read.count', 'Read.proportion', 'CDR3.nucleotide.sequence',\n",
       "       'CDR3.amino.acid.sequence', 'V.gene', 'J.gene', 'D.gene', 'V.end',\n",
       "       'J.start', 'D5.end', 'D3.end', 'VD.insertions', 'DJ.insertions',\n",
       "       'Total.insertions', 'sample', 'cloneId', 'clones.txt.name',\n",
       "       '#Nucleotide clones', '#Aminoacid clonotypes',\n",
       "       '%Aminoacid clonotypes', '#In-frames', '%In-frames',\n",
       "       '#Out-of-frames', '%Out-of-frames', 'Sum.reads', 'Min.reads',\n",
       "       '1st Qu.reads', 'Median.reads', 'Mean.reads', '3rd Qu.reads',\n",
       "       'Max.reads', 'Clonality', 'twb.shannon', 'twb.simp',\n",
       "       'stripped_patient_id', 'Age [y]', 'Gender (M/F)', 'Random No.',\n",
       "       'Treatment as Randomized', 'Treatment as Treated',\n",
       "       'Prior Surgery (Yes/No)', 'HER2 Status Local (IHC 2+/3+)',\n",
       "       'HER2 Status Central', 'Tumor Proportion Score',\n",
       "       'Immune Cell Score', 'Combined Positive Score',\n",
       "       'Prior Drug Therapy', 'Therapy Duration, Any Component [mo]',\n",
       "       'Therapy Duration, All Scheduled Components [mo]',\n",
       "       'Therapy Duration, Nivolumab [mo]', 'Reason for End of Treatment',\n",
       "       'Overall Best Response (CR/PR)', 'Time to Best Response [mo]',\n",
       "       'Response at 1st Tumor Assessment (PD/SD/PR/CR/NA)',\n",
       "       'Sum of Target Lesion Diameters [mm] at Screening',\n",
       "       '% Change of Diameters (target lesions) at 1st Tumor Assessment',\n",
       "       'Best % Change of Diameters (Taget Lesions) during Tumor Assessments',\n",
       "       'PFS [mo]', 'Censoring (Yes/No)', 'No of AEs (Grade 3-5)',\n",
       "       'No of SAEs', 'OS [mo]', 'Death (Yes/No)', 'Zentrum', 'Probe', nan,\n",
       "       'Probenabnahme', 'Datum_Analyse', 'CTC1', 'HER2-0', 'HER2-1',\n",
       "       'HER2-2', 'HER2-3', 'CXC', 'PD-L1-0', 'PD-L1-1', 'PD-L1-2',\n",
       "       'PD-L1-3', 'Kommentare1', 'Kommentare2', 'Kommentare3', nan,\n",
       "       'Clonality_results', 'Diversity_results', 'Richness_results',\n",
       "       'Probe_cleaned', 'Status', 'Tumorproben', 'Tumor', 'BL', 'C2',\n",
       "       'C5', 'EOT/PD', 'Notizen', 'Cycle_EOT', 'Datum BL',\n",
       "       'Datum C2_sample', 'Datum C5_sample', 'Datum EOT_sample',\n",
       "       'Datum_EOT_real', 'week C2 sample', 'week C5 sample',\n",
       "       'week EOT sample', 'week_to_EOT_C2_sample',\n",
       "       'week_to_EOT_C5_sample', 'week_to_EOT_EOT_sample', 'Unnamed: 21',\n",
       "       'ja: Probe vorhanden', 'cloneCount', 'cloneFraction', 'aaSeqCDR3',\n",
       "       'bestVGene', 'bestDGene', 'bestJGene', 'vBestIdentityPercent',\n",
       "       'lengthOfCDR3', 'targetSequences', 'allVGenes', 'allDGenes',\n",
       "       'allJGenes', 'allVHits', 'allDHits', 'allJHits', 'allVAlignments',\n",
       "       'allDAlignments', 'allJAlignments', 'has_mutation'], dtype=object)"
      ]
     },
     "execution_count": 124,
     "metadata": {},
     "output_type": "execute_result"
    }
   ],
   "source": [
    "np.asarray(df.columns)"
   ]
  },
  {
   "cell_type": "code",
   "execution_count": 125,
   "id": "88e5e080-05eb-4e9c-b7e9-dc374a6e0020",
   "metadata": {},
   "outputs": [
    {
     "data": {
      "text/plain": [
       "<Axes: xlabel='Death (Yes/No)', ylabel='Count'>"
      ]
     },
     "execution_count": 125,
     "metadata": {},
     "output_type": "execute_result"
    },
    {
     "data": {
      "image/png": "[encoded data removed]",
      "text/plain": [
       "<Figure size 640x480 with 1 Axes>"
      ]
     },
     "metadata": {},
     "output_type": "display_data"
    }
   ],
   "source": [
    "sns.histplot(df.groupby(\"clones.txt.name\").first().reset_index()[\"Death (Yes/No)\"])"
   ]
  },
  {
   "cell_type": "code",
   "execution_count": 126,
   "id": "bd6f3097-467f-4a73-a33c-618f799bf8ee",
   "metadata": {},
   "outputs": [
    {
     "data": {
      "text/plain": [
       "<Axes: xlabel='OS [mo]', ylabel='Count'>"
      ]
     },
     "execution_count": 126,
     "metadata": {},
     "output_type": "execute_result"
    },
    {
     "data": {
      "image/png": "[encoded data removed]",
      "text/plain": [
       "<Figure size 640x480 with 1 Axes>"
      ]
     },
     "metadata": {},
     "output_type": "display_data"
    }
   ],
   "source": [
    "sns.histplot(df.groupby(\"clones.txt.name\").first().reset_index()[\"OS [mo]\"])"
   ]
  },
  {
   "cell_type": "code",
   "execution_count": 127,
   "id": "5948a297-f071-4c25-8e9c-b8c26b80418a",
   "metadata": {},
   "outputs": [
    {
     "data": {
      "text/plain": [
       "<Axes: xlabel='Age [y]', ylabel='Count'>"
      ]
     },
     "execution_count": 127,
     "metadata": {},
     "output_type": "execute_result"
    },
    {
     "data": {
      "image/png": "[encoded data removed]",
      "text/plain": [
       "<Figure size 640x480 with 1 Axes>"
      ]
     },
     "metadata": {},
     "output_type": "display_data"
    }
   ],
   "source": [
    "sns.histplot(df.groupby(\"clones.txt.name\").first().reset_index()['Age [y]'])"
   ]
  },
  {
   "cell_type": "code",
   "execution_count": 128,
   "id": "b68fcbe0-8575-4fa7-b0c8-4cde0cf1b2a8",
   "metadata": {},
   "outputs": [
    {
     "data": {
      "text/plain": [
       "<Axes: xlabel='Gender (M/F)', ylabel='Count'>"
      ]
     },
     "execution_count": 128,
     "metadata": {},
     "output_type": "execute_result"
    },
    {
     "data": {
      "image/png": "[encoded data removed]",
      "text/plain": [
       "<Figure size 640x480 with 1 Axes>"
      ]
     },
     "metadata": {},
     "output_type": "display_data"
    }
   ],
   "source": [
    "sns.histplot(df.groupby(\"clones.txt.name\").first().reset_index()['Gender (M/F)'])"
   ]
  },
  {
   "cell_type": "markdown",
   "id": "dbf25acb-0569-474e-8754-b68eb835f1c0",
   "metadata": {},
   "source": [
    "# Get missing Probe from file"
   ]
  },
  {
   "cell_type": "code",
   "execution_count": 129,
   "id": "a780c1a5-3463-4ce9-a9a2-debc1353dcee",
   "metadata": {},
   "outputs": [],
   "source": [
    "missing_probe_files = df[df.Probe.isnull()][\"clones.txt.name\"].unique()"
   ]
  },
  {
   "cell_type": "code",
   "execution_count": 130,
   "id": "adae015e-609c-45fb-b913-9cd2f1ba0252",
   "metadata": {},
   "outputs": [],
   "source": [
    "for file in missing_probe_files:\n",
    "    if \"Baseline\" in file or \"BL\" in file:\n",
    "        df.loc[df[\"clones.txt.name\"] == file,\"Probe\"] = \"BL\"\n",
    "        df.loc[df[\"clones.txt.name\"] == file,\"Probe_cleaned\"] = \"BL\"\n",
    "    elif \"2-Zyklus\" in file or \"C2\" in file:\n",
    "        df.loc[df[\"clones.txt.name\"] == file,\"Probe\"] = \"C2\"\n",
    "        df.loc[df[\"clones.txt.name\"] == file,\"Probe_cleaned\"] = \"C2\"\n",
    "    elif \"3-Zyklus\" in file or \"C3\" in file:\n",
    "        df.loc[df[\"clones.txt.name\"] == file,\"Probe\"] = \"C3\"\n",
    "        df.loc[df[\"clones.txt.name\"] == file,\"Probe_cleaned\"] = \"C3\""
   ]
  },
  {
   "cell_type": "markdown",
   "id": "4583b075-219c-466e-a164-ff2049b84d91",
   "metadata": {},
   "source": [
    "# Analyse Baseline Condition"
   ]
  },
  {
   "cell_type": "code",
   "execution_count": 132,
   "id": "bc8fa629-9df2-4b46-8d77-49eccffb98fc",
   "metadata": {},
   "outputs": [
    {
     "data": {
      "text/plain": [
       "0         0.230526\n",
       "1         0.230526\n",
       "2         0.230526\n",
       "3         0.230526\n",
       "4         0.230526\n",
       "            ...   \n",
       "368118    0.073351\n",
       "368119    0.073351\n",
       "368120    0.073351\n",
       "368121    0.073351\n",
       "368122    0.073351\n",
       "Name: Clonality, Length: 368123, dtype: float64"
      ]
     },
     "execution_count": 132,
     "metadata": {},
     "output_type": "execute_result"
    }
   ],
   "source": [
    "df[\"Clonality\"]"
   ]
  },
  {
   "cell_type": "code",
   "execution_count": 150,
   "id": "a1ccf370-d38f-4b36-adc7-d7a3c07eab35",
   "metadata": {},
   "outputs": [],
   "source": [
    "df_baseline = df[df[\"Probe_cleaned\"] == \"BL\"].copy()"
   ]
  },
  {
   "cell_type": "code",
   "execution_count": 134,
   "id": "b5a55530-17cd-40d0-9f88-b40ca73396e8",
   "metadata": {},
   "outputs": [],
   "source": [
    "mutations_per_patient = df_baseline[df_baseline.has_mutation].groupby(\"clones.txt.name\").apply(len).reset_index()\n",
    "total_per_patient = df_baseline.groupby(\"clones.txt.name\").apply(len).reset_index()"
   ]
  },
  {
   "cell_type": "code",
   "execution_count": 135,
   "id": "f35979ab-0ffc-4e2b-96df-301a6993c4aa",
   "metadata": {},
   "outputs": [],
   "source": [
    "mutations_per_patient = mutations_per_patient.merge(total_per_patient, on=\"clones.txt.name\",how=\"left\")\n",
    "mutations_per_patient = mutations_per_patient.merge(df_baseline[[\"clones.txt.name\",\"Death (Yes/No)\"]], on=\"clones.txt.name\", how=\"left\")"
   ]
  },
  {
   "cell_type": "code",
   "execution_count": 136,
   "id": "ef6a1dcf-84c1-4cb4-9dc4-51179bcb75c2",
   "metadata": {},
   "outputs": [],
   "source": [
    "mutations_per_patient[\"non-productive AA (%)\"] = mutations_per_patient[\"0_x\"]/mutations_per_patient[\"0_y\"] * 100"
   ]
  },
  {
   "cell_type": "code",
   "execution_count": 137,
   "id": "42ef6371-5710-47a0-bf98-d9d2b109ad51",
   "metadata": {},
   "outputs": [],
   "source": [
    "mutations_per_patient.sort_values(by=\"Death (Yes/No)\", inplace = True)"
   ]
  },
  {
   "cell_type": "code",
   "execution_count": 138,
   "id": "4ebf79f9-2967-4645-8706-4a2041ceaa32",
   "metadata": {},
   "outputs": [
    {
     "data": {
      "image/png": "[encoded data removed]",
      "text/plain": [
       "<Figure size 1000x600 with 1 Axes>"
      ]
     },
     "metadata": {},
     "output_type": "display_data"
    }
   ],
   "source": [
    "fig, ax = plt.subplots(figsize=(10, 6))\n",
    "sns.scatterplot(x='clones.txt.name', y='non-productive AA (%)', hue='Death (Yes/No)', data=mutations_per_patient) \n",
    "ax.set_xticks([])\n",
    "ax.set_ylabel(\"non-productive AA (%)\", size=12)\n",
    "ax.set_xlabel(\"Samples\", size=12)\n",
    "ax.legend(title='Death (Yes/No)')\n",
    "plt.show()"
   ]
  },
  {
   "cell_type": "markdown",
   "id": "06038ac3-c69e-46a3-b3a6-b6962373e475",
   "metadata": {},
   "source": [
    "# Classification"
   ]
  },
  {
   "cell_type": "code",
   "execution_count": 306,
   "id": "7f2b20ac-b61a-46af-a90b-d9a8054d3a4e",
   "metadata": {},
   "outputs": [],
   "source": [
    "df_baseline = df[df[\"Probe_cleaned\"] == \"BL\"].copy()"
   ]
  },
  {
   "cell_type": "code",
   "execution_count": 307,
   "id": "9c69c5a7-4e7b-452a-9c99-69d7510c6bd5",
   "metadata": {},
   "outputs": [],
   "source": [
    "top_n_clones = 50"
   ]
  },
  {
   "cell_type": "code",
   "execution_count": 308,
   "id": "af563226-2294-4fe4-a9cb-69bc9a2ddbfc",
   "metadata": {},
   "outputs": [
    {
     "data": {
      "text/plain": [
       "array(['NC-hs-TRB-0038-001-Baseline-PB-gDNA_S11.clones.txt'], dtype=object)"
      ]
     },
     "execution_count": 308,
     "metadata": {},
     "output_type": "execute_result"
    }
   ],
   "source": [
    "# Patient 0038-001 deleted\n",
    "df_baseline[df_baseline[\"Death (Yes/No)\"].isnull()][\"clones.txt.name\"].unique() \n",
    "#df_baseline[df_baseline[\"Age [y]\"].isnull()][\"clones.txt.name\"].unique() \n",
    "#df_baseline[df_baseline[\"Gender (M/F)\"].isnull()][\"clones.txt.name\"].unique()"
   ]
  },
  {
   "cell_type": "code",
   "execution_count": 309,
   "id": "d930fbf0-0b7f-4e49-8832-de1d47f33108",
   "metadata": {},
   "outputs": [
    {
     "data": {
      "text/plain": [
       "array(['IHC 2+ and ISH amplified', 'IHC 3+', 'IHC 1', 'IHC 2', nan],\n",
       "      dtype=object)"
      ]
     },
     "execution_count": 309,
     "metadata": {},
     "output_type": "execute_result"
    }
   ],
   "source": [
    "df_baseline[\"HER2 Status Central\"].unique()\n",
    "#df_baseline[\"HER2 Status Local (IHC 2+/3+)\"].unique()"
   ]
  },
  {
   "cell_type": "code",
   "execution_count": 310,
   "id": "86118760-cbb2-4ea1-a8da-b84a8d06156f",
   "metadata": {},
   "outputs": [],
   "source": [
    "df_baseline.drop(list(df_baseline[df_baseline[\"Death (Yes/No)\"].isnull()].index), inplace=True)"
   ]
  },
  {
   "cell_type": "code",
   "execution_count": 311,
   "id": "36b519fd-80c6-410e-907a-149ec1a246b4",
   "metadata": {},
   "outputs": [
    {
     "data": {
      "text/plain": [
       "['Read.count',\n",
       " 'Read.proportion',\n",
       " 'CDR3.nucleotide.sequence',\n",
       " 'CDR3.amino.acid.sequence',\n",
       " 'V.gene',\n",
       " 'J.gene',\n",
       " 'D.gene',\n",
       " 'V.end',\n",
       " 'J.start',\n",
       " 'D5.end',\n",
       " 'D3.end',\n",
       " 'VD.insertions',\n",
       " 'DJ.insertions',\n",
       " 'Total.insertions',\n",
       " 'sample',\n",
       " 'cloneId',\n",
       " 'clones.txt.name',\n",
       " '#Nucleotide clones',\n",
       " '#Aminoacid clonotypes',\n",
       " '%Aminoacid clonotypes',\n",
       " '#In-frames',\n",
       " '%In-frames',\n",
       " '#Out-of-frames',\n",
       " '%Out-of-frames',\n",
       " 'Sum.reads',\n",
       " 'Min.reads',\n",
       " '1st Qu.reads',\n",
       " 'Median.reads',\n",
       " 'Mean.reads',\n",
       " '3rd Qu.reads',\n",
       " 'Max.reads',\n",
       " 'Clonality',\n",
       " 'twb.shannon',\n",
       " 'twb.simp',\n",
       " 'stripped_patient_id',\n",
       " 'Age [y]',\n",
       " 'Gender (M/F)',\n",
       " 'Random No.',\n",
       " 'Treatment as Randomized',\n",
       " 'Treatment as Treated',\n",
       " 'Prior Surgery (Yes/No)',\n",
       " 'HER2 Status Local (IHC 2+/3+)',\n",
       " 'HER2 Status Central',\n",
       " 'Tumor Proportion Score',\n",
       " 'Immune Cell Score',\n",
       " 'Combined Positive Score',\n",
       " 'Prior Drug Therapy',\n",
       " 'Therapy Duration, Any Component [mo]',\n",
       " 'Therapy Duration, All Scheduled Components [mo]',\n",
       " 'Therapy Duration, Nivolumab [mo]',\n",
       " 'Reason for End of Treatment',\n",
       " 'Overall Best Response (CR/PR)',\n",
       " 'Time to Best Response [mo]',\n",
       " 'Response at 1st Tumor Assessment (PD/SD/PR/CR/NA)',\n",
       " 'Sum of Target Lesion Diameters [mm] at Screening',\n",
       " '% Change of Diameters (target lesions) at 1st Tumor Assessment',\n",
       " 'Best % Change of Diameters (Taget Lesions) during Tumor Assessments',\n",
       " 'PFS [mo]',\n",
       " 'Censoring (Yes/No)',\n",
       " 'No of AEs (Grade 3-5)',\n",
       " 'No of SAEs',\n",
       " 'OS [mo]',\n",
       " 'Death (Yes/No)',\n",
       " 'Zentrum',\n",
       " 'Probe',\n",
       " nan,\n",
       " 'Probenabnahme',\n",
       " 'Datum_Analyse',\n",
       " 'CTC1',\n",
       " 'HER2-0',\n",
       " 'HER2-1',\n",
       " 'HER2-2',\n",
       " 'HER2-3',\n",
       " 'CXC',\n",
       " 'PD-L1-0',\n",
       " 'PD-L1-1',\n",
       " 'PD-L1-2',\n",
       " 'PD-L1-3',\n",
       " 'Kommentare1',\n",
       " 'Kommentare2',\n",
       " 'Kommentare3',\n",
       " nan,\n",
       " 'Clonality_results',\n",
       " 'Diversity_results',\n",
       " 'Richness_results',\n",
       " 'Probe_cleaned',\n",
       " 'Status',\n",
       " 'Tumorproben',\n",
       " 'Tumor',\n",
       " 'BL',\n",
       " 'C2',\n",
       " 'C5',\n",
       " 'EOT/PD',\n",
       " 'Notizen',\n",
       " 'Cycle_EOT',\n",
       " 'Datum BL',\n",
       " 'Datum C2_sample',\n",
       " 'Datum C5_sample',\n",
       " 'Datum EOT_sample',\n",
       " 'Datum_EOT_real',\n",
       " 'week C2 sample',\n",
       " 'week C5 sample',\n",
       " 'week EOT sample',\n",
       " 'week_to_EOT_C2_sample',\n",
       " 'week_to_EOT_C5_sample',\n",
       " 'week_to_EOT_EOT_sample',\n",
       " 'Unnamed: 21',\n",
       " 'ja: Probe vorhanden',\n",
       " 'cloneCount',\n",
       " 'cloneFraction',\n",
       " 'aaSeqCDR3',\n",
       " 'bestVGene',\n",
       " 'bestDGene',\n",
       " 'bestJGene',\n",
       " 'vBestIdentityPercent',\n",
       " 'lengthOfCDR3',\n",
       " 'targetSequences',\n",
       " 'allVGenes',\n",
       " 'allDGenes',\n",
       " 'allJGenes',\n",
       " 'allVHits',\n",
       " 'allDHits',\n",
       " 'allJHits',\n",
       " 'allVAlignments',\n",
       " 'allDAlignments',\n",
       " 'allJAlignments',\n",
       " 'has_mutation']"
      ]
     },
     "execution_count": 311,
     "metadata": {},
     "output_type": "execute_result"
    }
   ],
   "source": [
    "list(df_baseline.columns)"
   ]
  },
  {
   "cell_type": "markdown",
   "id": "92952795-a6c4-4b80-bb0d-8eda7068743e",
   "metadata": {},
   "source": [
    "# Create Features"
   ]
  },
  {
   "cell_type": "code",
   "execution_count": 312,
   "id": "07220931-b6bf-461b-a72a-4cc98e3e1945",
   "metadata": {},
   "outputs": [
    {
     "data": {
      "text/plain": [
       "<module 'utils' from '/Users/labadmin/Projects/immusign/utils.py'>"
      ]
     },
     "execution_count": 312,
     "metadata": {},
     "output_type": "execute_result"
    }
   ],
   "source": [
    "import importlib\n",
    "importlib.reload(utils)"
   ]
  },
  {
   "cell_type": "code",
   "execution_count": 313,
   "id": "2eb95d7b-d52b-4e3b-8103-e61a247600ac",
   "metadata": {},
   "outputs": [
    {
     "name": "stdout",
     "output_type": "stream",
     "text": [
      "Created DataFrame with Features\n",
      "Read.proportion_1 : 0.00 % NAN float64\n",
      "Read.proportion_2 : 0.00 % NAN float64\n",
      "Read.proportion_3 : 0.00 % NAN float64\n",
      "Read.proportion_4 : 0.00 % NAN float64\n",
      "Read.proportion_5 : 0.00 % NAN float64\n",
      "Read.proportion_6 : 0.00 % NAN float64\n",
      "Read.proportion_7 : 0.00 % NAN float64\n",
      "Read.proportion_8 : 0.00 % NAN float64\n",
      "Read.proportion_9 : 0.00 % NAN float64\n",
      "Read.proportion_10 : 0.00 % NAN float64\n",
      "Read.proportion_11 : 0.00 % NAN float64\n",
      "Read.proportion_12 : 0.00 % NAN float64\n",
      "Read.proportion_13 : 0.00 % NAN float64\n",
      "Read.proportion_14 : 0.00 % NAN float64\n",
      "Read.proportion_15 : 0.00 % NAN float64\n",
      "Read.proportion_16 : 0.00 % NAN float64\n",
      "Read.proportion_17 : 0.00 % NAN float64\n",
      "Read.proportion_18 : 0.00 % NAN float64\n",
      "Read.proportion_19 : 0.00 % NAN float64\n",
      "Read.proportion_20 : 0.00 % NAN float64\n",
      "Read.proportion_21 : 0.00 % NAN float64\n",
      "Read.proportion_22 : 0.00 % NAN float64\n",
      "Read.proportion_23 : 0.00 % NAN float64\n",
      "Read.proportion_24 : 0.00 % NAN float64\n",
      "Read.proportion_25 : 0.00 % NAN float64\n",
      "Read.proportion_26 : 0.00 % NAN float64\n",
      "Read.proportion_27 : 0.00 % NAN float64\n",
      "Read.proportion_28 : 0.00 % NAN float64\n",
      "Read.proportion_29 : 0.00 % NAN float64\n",
      "Read.proportion_30 : 0.00 % NAN float64\n",
      "Read.proportion_31 : 0.00 % NAN float64\n",
      "Read.proportion_32 : 0.00 % NAN float64\n",
      "Read.proportion_33 : 0.00 % NAN float64\n",
      "Read.proportion_34 : 0.00 % NAN float64\n",
      "Read.proportion_35 : 0.00 % NAN float64\n",
      "Read.proportion_36 : 0.00 % NAN float64\n",
      "Read.proportion_37 : 0.00 % NAN float64\n",
      "Read.proportion_38 : 0.00 % NAN float64\n",
      "Read.proportion_39 : 0.00 % NAN float64\n",
      "Read.proportion_40 : 0.00 % NAN float64\n",
      "Read.proportion_41 : 0.00 % NAN float64\n",
      "Read.proportion_42 : 0.00 % NAN float64\n",
      "Read.proportion_43 : 0.00 % NAN float64\n",
      "Read.proportion_44 : 0.00 % NAN float64\n",
      "Read.proportion_45 : 0.00 % NAN float64\n",
      "Read.proportion_46 : 0.00 % NAN float64\n",
      "Read.proportion_47 : 0.00 % NAN float64\n",
      "Read.proportion_48 : 0.00 % NAN float64\n",
      "Read.proportion_49 : 0.00 % NAN float64\n",
      "Read.proportion_50 : 0.00 % NAN float64\n",
      "clones.txt.name : 0.00 % NAN object\n",
      "Clonality : 0.00 % NAN float64\n",
      "twb.shannon : 0.00 % NAN float64\n",
      "twb.simp : 0.00 % NAN float64\n",
      "HER2 Status Local (IHC 2+/3+) : 0.00 % NAN object\n",
      "Death (Yes/No) : 0.00 % NAN object\n",
      "bestVGene_1 : 0.00 % NAN object\n",
      "bestVGene_2 : 0.00 % NAN object\n",
      "bestVGene_3 : 0.00 % NAN object\n",
      "bestVGene_4 : 0.00 % NAN object\n",
      "bestVGene_5 : 0.00 % NAN object\n",
      "bestVGene_6 : 0.00 % NAN object\n",
      "bestVGene_7 : 0.00 % NAN object\n",
      "bestVGene_8 : 0.00 % NAN object\n",
      "bestVGene_9 : 0.00 % NAN object\n",
      "bestVGene_10 : 0.00 % NAN object\n",
      "bestVGene_11 : 0.00 % NAN object\n",
      "bestVGene_12 : 0.00 % NAN object\n",
      "bestVGene_13 : 0.00 % NAN object\n",
      "bestVGene_14 : 0.00 % NAN object\n",
      "bestVGene_15 : 0.00 % NAN object\n",
      "bestVGene_16 : 0.00 % NAN object\n",
      "bestVGene_17 : 0.00 % NAN object\n",
      "bestVGene_18 : 0.00 % NAN object\n",
      "bestVGene_19 : 0.00 % NAN object\n",
      "bestVGene_20 : 0.00 % NAN object\n",
      "bestVGene_21 : 0.00 % NAN object\n",
      "bestVGene_22 : 0.00 % NAN object\n",
      "bestVGene_23 : 0.00 % NAN object\n",
      "bestVGene_24 : 0.00 % NAN object\n",
      "bestVGene_25 : 0.00 % NAN object\n",
      "bestVGene_26 : 0.00 % NAN object\n",
      "bestVGene_27 : 0.00 % NAN object\n",
      "bestVGene_28 : 0.00 % NAN object\n",
      "bestVGene_29 : 0.00 % NAN object\n",
      "bestVGene_30 : 0.00 % NAN object\n",
      "bestVGene_31 : 0.00 % NAN object\n",
      "bestVGene_32 : 0.00 % NAN object\n",
      "bestVGene_33 : 0.00 % NAN object\n",
      "bestVGene_34 : 0.00 % NAN object\n",
      "bestVGene_35 : 0.00 % NAN object\n",
      "bestVGene_36 : 0.00 % NAN object\n",
      "bestVGene_37 : 0.00 % NAN object\n",
      "bestVGene_38 : 0.00 % NAN object\n",
      "bestVGene_39 : 0.00 % NAN object\n",
      "bestVGene_40 : 0.00 % NAN object\n",
      "bestVGene_41 : 0.00 % NAN object\n",
      "bestVGene_42 : 0.00 % NAN object\n",
      "bestVGene_43 : 0.00 % NAN object\n",
      "bestVGene_44 : 0.00 % NAN object\n",
      "bestVGene_45 : 0.00 % NAN object\n",
      "bestVGene_46 : 0.00 % NAN object\n",
      "bestVGene_47 : 0.00 % NAN object\n",
      "bestVGene_48 : 0.00 % NAN object\n",
      "bestVGene_49 : 0.00 % NAN object\n",
      "bestVGene_50 : 0.00 % NAN object\n",
      "bestDGene_1 : 0.00 % NAN object\n",
      "bestDGene_2 : 0.00 % NAN object\n",
      "bestDGene_3 : 0.00 % NAN object\n",
      "bestDGene_4 : 0.00 % NAN object\n",
      "bestDGene_5 : 0.00 % NAN object\n",
      "bestDGene_6 : 0.00 % NAN object\n",
      "bestDGene_7 : 0.00 % NAN object\n",
      "bestDGene_8 : 0.00 % NAN object\n",
      "bestDGene_9 : 0.00 % NAN object\n",
      "bestDGene_10 : 0.00 % NAN object\n",
      "bestDGene_11 : 0.00 % NAN object\n",
      "bestDGene_12 : 0.00 % NAN object\n",
      "bestDGene_13 : 0.00 % NAN object\n",
      "bestDGene_14 : 0.00 % NAN object\n",
      "bestDGene_15 : 0.00 % NAN object\n",
      "bestDGene_16 : 0.00 % NAN object\n",
      "bestDGene_17 : 0.00 % NAN object\n",
      "bestDGene_18 : 0.00 % NAN object\n",
      "bestDGene_19 : 0.00 % NAN object\n",
      "bestDGene_20 : 0.00 % NAN object\n",
      "bestDGene_21 : 0.00 % NAN object\n",
      "bestDGene_22 : 0.00 % NAN object\n",
      "bestDGene_23 : 0.00 % NAN object\n",
      "bestDGene_24 : 0.00 % NAN object\n",
      "bestDGene_25 : 0.00 % NAN object\n",
      "bestDGene_26 : 0.00 % NAN object\n",
      "bestDGene_27 : 0.00 % NAN object\n",
      "bestDGene_28 : 0.00 % NAN object\n",
      "bestDGene_29 : 0.00 % NAN object\n",
      "bestDGene_30 : 0.00 % NAN object\n",
      "bestDGene_31 : 0.00 % NAN object\n",
      "bestDGene_32 : 0.00 % NAN object\n",
      "bestDGene_33 : 0.00 % NAN object\n",
      "bestDGene_34 : 0.00 % NAN object\n",
      "bestDGene_35 : 0.00 % NAN object\n",
      "bestDGene_36 : 0.00 % NAN object\n",
      "bestDGene_37 : 0.00 % NAN object\n",
      "bestDGene_38 : 0.00 % NAN object\n",
      "bestDGene_39 : 0.00 % NAN object\n",
      "bestDGene_40 : 0.00 % NAN object\n",
      "bestDGene_41 : 0.00 % NAN object\n",
      "bestDGene_42 : 0.00 % NAN object\n",
      "bestDGene_43 : 0.00 % NAN object\n",
      "bestDGene_44 : 0.00 % NAN object\n",
      "bestDGene_45 : 0.00 % NAN object\n",
      "bestDGene_46 : 0.00 % NAN object\n",
      "bestDGene_47 : 0.00 % NAN object\n",
      "bestDGene_48 : 0.00 % NAN object\n",
      "bestDGene_49 : 0.00 % NAN object\n",
      "bestDGene_50 : 0.00 % NAN object\n",
      "bestJGene_1 : 0.00 % NAN object\n",
      "bestJGene_2 : 0.00 % NAN object\n",
      "bestJGene_3 : 0.00 % NAN object\n",
      "bestJGene_4 : 0.00 % NAN object\n",
      "bestJGene_5 : 0.00 % NAN object\n",
      "bestJGene_6 : 0.00 % NAN object\n",
      "bestJGene_7 : 0.00 % NAN object\n",
      "bestJGene_8 : 0.00 % NAN object\n",
      "bestJGene_9 : 0.00 % NAN object\n",
      "bestJGene_10 : 0.00 % NAN object\n",
      "bestJGene_11 : 0.00 % NAN object\n",
      "bestJGene_12 : 0.00 % NAN object\n",
      "bestJGene_13 : 0.00 % NAN object\n",
      "bestJGene_14 : 0.00 % NAN object\n",
      "bestJGene_15 : 0.00 % NAN object\n",
      "bestJGene_16 : 0.00 % NAN object\n",
      "bestJGene_17 : 0.00 % NAN object\n",
      "bestJGene_18 : 0.00 % NAN object\n",
      "bestJGene_19 : 0.00 % NAN object\n",
      "bestJGene_20 : 0.00 % NAN object\n",
      "bestJGene_21 : 0.00 % NAN object\n",
      "bestJGene_22 : 0.00 % NAN object\n",
      "bestJGene_23 : 0.00 % NAN object\n",
      "bestJGene_24 : 0.00 % NAN object\n",
      "bestJGene_25 : 0.00 % NAN object\n",
      "bestJGene_26 : 0.00 % NAN object\n",
      "bestJGene_27 : 0.00 % NAN object\n",
      "bestJGene_28 : 0.00 % NAN object\n",
      "bestJGene_29 : 0.00 % NAN object\n",
      "bestJGene_30 : 0.00 % NAN object\n",
      "bestJGene_31 : 0.00 % NAN object\n",
      "bestJGene_32 : 0.00 % NAN object\n",
      "bestJGene_33 : 0.00 % NAN object\n",
      "bestJGene_34 : 0.00 % NAN object\n",
      "bestJGene_35 : 0.00 % NAN object\n",
      "bestJGene_36 : 0.00 % NAN object\n",
      "bestJGene_37 : 0.00 % NAN object\n",
      "bestJGene_38 : 0.00 % NAN object\n",
      "bestJGene_39 : 0.00 % NAN object\n",
      "bestJGene_40 : 0.00 % NAN object\n",
      "bestJGene_41 : 0.00 % NAN object\n",
      "bestJGene_42 : 0.00 % NAN object\n",
      "bestJGene_43 : 0.00 % NAN object\n",
      "bestJGene_44 : 0.00 % NAN object\n",
      "bestJGene_45 : 0.00 % NAN object\n",
      "bestJGene_46 : 0.00 % NAN object\n",
      "bestJGene_47 : 0.00 % NAN object\n",
      "bestJGene_48 : 0.00 % NAN object\n",
      "bestJGene_49 : 0.00 % NAN object\n",
      "bestJGene_50 : 0.00 % NAN object\n",
      "has_mutation_1 : 0.00 % NAN object\n",
      "has_mutation_2 : 0.00 % NAN object\n",
      "has_mutation_3 : 0.00 % NAN object\n",
      "has_mutation_4 : 0.00 % NAN object\n",
      "has_mutation_5 : 0.00 % NAN object\n",
      "has_mutation_6 : 0.00 % NAN object\n",
      "has_mutation_7 : 0.00 % NAN object\n",
      "has_mutation_8 : 0.00 % NAN object\n",
      "has_mutation_9 : 0.00 % NAN object\n",
      "has_mutation_10 : 0.00 % NAN object\n",
      "has_mutation_11 : 0.00 % NAN object\n",
      "has_mutation_12 : 0.00 % NAN object\n",
      "has_mutation_13 : 0.00 % NAN object\n",
      "has_mutation_14 : 0.00 % NAN object\n",
      "has_mutation_15 : 0.00 % NAN object\n",
      "has_mutation_16 : 0.00 % NAN object\n",
      "has_mutation_17 : 0.00 % NAN object\n",
      "has_mutation_18 : 0.00 % NAN object\n",
      "has_mutation_19 : 0.00 % NAN object\n",
      "has_mutation_20 : 0.00 % NAN object\n",
      "has_mutation_21 : 0.00 % NAN object\n",
      "has_mutation_22 : 0.00 % NAN object\n",
      "has_mutation_23 : 0.00 % NAN object\n",
      "has_mutation_24 : 0.00 % NAN object\n",
      "has_mutation_25 : 0.00 % NAN object\n",
      "has_mutation_26 : 0.00 % NAN object\n",
      "has_mutation_27 : 0.00 % NAN object\n",
      "has_mutation_28 : 0.00 % NAN object\n",
      "has_mutation_29 : 0.00 % NAN object\n",
      "has_mutation_30 : 0.00 % NAN object\n",
      "has_mutation_31 : 0.00 % NAN object\n",
      "has_mutation_32 : 0.00 % NAN object\n",
      "has_mutation_33 : 0.00 % NAN object\n",
      "has_mutation_34 : 0.00 % NAN object\n",
      "has_mutation_35 : 0.00 % NAN object\n",
      "has_mutation_36 : 0.00 % NAN object\n",
      "has_mutation_37 : 0.00 % NAN object\n",
      "has_mutation_38 : 0.00 % NAN object\n",
      "has_mutation_39 : 0.00 % NAN object\n",
      "has_mutation_40 : 0.00 % NAN object\n",
      "has_mutation_41 : 0.00 % NAN object\n",
      "has_mutation_42 : 0.00 % NAN object\n",
      "has_mutation_43 : 0.00 % NAN object\n",
      "has_mutation_44 : 0.00 % NAN object\n",
      "has_mutation_45 : 0.00 % NAN object\n",
      "has_mutation_46 : 0.00 % NAN object\n",
      "has_mutation_47 : 0.00 % NAN object\n",
      "has_mutation_48 : 0.00 % NAN object\n",
      "has_mutation_49 : 0.00 % NAN object\n",
      "has_mutation_50 : 0.00 % NAN object\n"
     ]
    }
   ],
   "source": [
    "X = utils.create_feature_df(df_baseline, target_column=\"Death (Yes/No)\", \n",
    "    categorical_features=['bestVGene', 'bestDGene','bestJGene', 'has_mutation', 'HER2 Status Local (IHC 2+/3+)'],\n",
    "    numerical_features=['Read.proportion', 'Clonality', 'twb.shannon', 'twb.simp'],\n",
    "    top_n_clones = top_n_clones,\n",
    "    features_to_encode_wide = ['bestVGene', 'bestDGene','bestJGene', 'Read.proportion', 'has_mutation'],\n",
    "    file_id = \"clones.txt.name\",\n",
    "    clone_id = \"cloneId\",\n",
    "    wide_format =True, \n",
    "    keep_remaining_columns=False)                     "
   ]
  },
  {
   "cell_type": "code",
   "execution_count": 169,
   "id": "6121d141-08cf-4519-974e-00b35166071a",
   "metadata": {},
   "outputs": [],
   "source": [
    "# Shannon = 0 --> Eveness = 0 -- > Clonality = 1 - evenness = 0\n",
    "X.loc[X[\"Clonality\"].isnull(),\"Clonality\"] = 1.0\n",
    "# Evenness = shannon/HMAX --> hmax = 0 --> eveness = 0 --> Clonality = 1\n",
    "X[\"Clonality\"].replace(-np.inf, 0, inplace=True)\n",
    "\n",
    "X[\"Clonality\"] = X[\"Clonality\"].astype('float64')"
   ]
  },
  {
   "cell_type": "code",
   "execution_count": 314,
   "id": "d14ad980-4354-4f02-be29-3f9ffbb807c4",
   "metadata": {},
   "outputs": [],
   "source": [
    "X, labels = utils.encode_target_for_classification(X, \"Death (Yes/No)\")"
   ]
  },
  {
   "cell_type": "code",
   "execution_count": 315,
   "id": "a3c4ad0a-e918-4120-9f38-7da85d588d91",
   "metadata": {},
   "outputs": [],
   "source": [
    "X, categorical_features = utils.encode_categorical_features_for_classification(X, \n",
    "                      categorical_features=['bestVGene', 'bestDGene','bestJGene', 'has_mutation', 'HER2 Status Local (IHC 2+/3+)'], \n",
    "                      features_to_encode_wide = ['bestVGene', 'bestDGene','bestJGene', 'Read.proportion','has_mutation' ],                                                          \n",
    "                      top_n_clones=top_n_clones, \n",
    "                      wide_format=True) "
   ]
  },
  {
   "cell_type": "markdown",
   "id": "d4b5480b-1db5-41f8-9526-2a9d41e3fc1f",
   "metadata": {},
   "source": [
    "# Stratified Sampling"
   ]
  },
  {
   "cell_type": "code",
   "execution_count": 316,
   "id": "f288b490-80aa-4b7c-8adf-101575c7a253",
   "metadata": {},
   "outputs": [],
   "source": [
    "from sklearn.model_selection import StratifiedKFold"
   ]
  },
  {
   "cell_type": "code",
   "execution_count": 317,
   "id": "122b118c-6d9e-4b52-8600-85e5d74b10f4",
   "metadata": {},
   "outputs": [],
   "source": [
    "n_folds = 5\n",
    "skf = StratifiedKFold(n_splits=n_folds, shuffle = True, random_state = 42)"
   ]
  },
  {
   "cell_type": "code",
   "execution_count": 318,
   "id": "b9a203ce-3446-4ded-b619-a0e68c1f73be",
   "metadata": {},
   "outputs": [],
   "source": [
    "train_test_folds = list(skf.split(X, X[\"Death (Yes/No)_encoded\"]))"
   ]
  },
  {
   "cell_type": "code",
   "execution_count": 319,
   "id": "1bb8ed6f-5403-4049-818e-24d905cbf114",
   "metadata": {},
   "outputs": [
    {
     "data": {
      "application/vnd.jupyter.widget-view+json": {
       "model_id": "e1f4810fb0ea4f02a5bc73c421c0c904",
       "version_major": 2,
       "version_minor": 0
      },
      "text/plain": [
       "  0%|          | 0/5 [00:00<?, ?it/s]"
      ]
     },
     "metadata": {},
     "output_type": "display_data"
    }
   ],
   "source": [
    "X_train_folds = []\n",
    "y_train_folds = []\n",
    "X_test_folds = []\n",
    "y_test_folds = []\n",
    "\n",
    "stratified = True\n",
    "for i in tqdm(range(n_folds)):\n",
    "    if stratified:\n",
    "        train_folds = train_test_folds[i][0]\n",
    "        test_folds = train_test_folds[i][1]\n",
    "        X_train = X.loc[train_folds]\n",
    "        y_train = np.asarray(X_train[\"Death (Yes/No)_encoded\"])\n",
    "       \n",
    "        X_test = X.loc[test_folds]\n",
    "        y_test = np.asarray(X_test[\"Death (Yes/No)_encoded\"])\n",
    "    else:\n",
    "        train_fold = train_fold_patients[i]    \n",
    "        test_fold = test_fold_patients[i]\n",
    "        X_test = X[X[\"clones.txt.name\"].isin(test_fold)]\n",
    "        y_test = np.asarray(X_test[\"Death (Yes/No)_encoded\"])\n",
    "    \n",
    "        X_train = X[X[\"clones.txt.name\"].isin(train_fold)]\n",
    "        y_train = np.asarray(X_train[\"Death (Yes/No)_encoded\"])\n",
    "\n",
    "    X_train, numerical_features, numerical_preprocessor  = utils.scale_numerical_features(X_train, \n",
    "                      numerical_features = ['Read.proportion', 'Clonality', 'twb.shannon', 'twb.simp'],\n",
    "                     features_to_encode_wide = ['bestVGene', 'bestDGene','bestJGene', 'Read.proportion','has_mutation'],\n",
    "                      top_n_clones = top_n_clones,\n",
    "                      fit_transform = True, \n",
    "                      wide_format=True \n",
    "                      )\n",
    "    \n",
    "    X_test, numerical_features, _ = utils.scale_numerical_features(X_test, \n",
    "                      numerical_features = ['Read.proportion', 'Clonality', 'twb.shannon', 'twb.simp'], \n",
    "                      features_to_encode_wide = ['bestVGene', 'bestDGene','bestJGene', 'Read.proportion','has_mutation'],\n",
    "                      top_n_clones = top_n_clones,\n",
    "                      fit_transform = False, \n",
    "                      wide_format=True,\n",
    "                      numerical_preprocessor = numerical_preprocessor\n",
    "                      )\n",
    "\n",
    "    X_train_folds.append(X_train)\n",
    "    X_test_folds.append(X_test)\n",
    "\n",
    "    y_train_folds.append(y_train)\n",
    "    y_test_folds.append(y_test)"
   ]
  },
  {
   "cell_type": "code",
   "execution_count": 320,
   "id": "bb39bba5-7e45-41bc-85ea-cd577c09f977",
   "metadata": {},
   "outputs": [],
   "source": [
    "from imblearn.over_sampling import ADASYN, RandomOverSampler, SMOTE\n",
    "from imblearn.under_sampling import RandomUnderSampler"
   ]
  },
  {
   "cell_type": "code",
   "execution_count": 321,
   "id": "a6a018fd-0c10-499e-89df-6acf9094ba4c",
   "metadata": {},
   "outputs": [
    {
     "name": "stdout",
     "output_type": "stream",
     "text": [
      "20\n"
     ]
    }
   ],
   "source": [
    "min_sample_per_class = np.inf \n",
    "for i in range(n_folds):\n",
    "    _, counts = np.unique(y_train_folds[i], return_counts = True)\n",
    "    min_sample_per_class = min(min_sample_per_class, np.amin(counts))\n",
    "print(min_sample_per_class)"
   ]
  },
  {
   "cell_type": "code",
   "execution_count": 322,
   "id": "ab130b31-92a1-4cb1-a3b5-4820ec9934d9",
   "metadata": {},
   "outputs": [],
   "source": [
    "sampling_strategies = {\n",
    "    'None': None,\n",
    "    'adasyn': ADASYN(random_state=42),\n",
    "    'random_over': RandomOverSampler(random_state=42),\n",
    "    'smote': SMOTE(random_state=42),\n",
    "    'random_under' : RandomUnderSampler(random_state=42)\n",
    "}\n",
    "\n",
    "# ADASYN improved version of smote (KNN) synthetic data\n",
    "# Under sampling --> loose data \n",
    "# Over sampling --> see datapoints multiple times generalization?"
   ]
  },
  {
   "cell_type": "code",
   "execution_count": 323,
   "id": "1efb7ef3-f733-43a2-887e-5f945a96aaeb",
   "metadata": {},
   "outputs": [],
   "source": [
    "sampler = sampling_strategies[\"adasyn\"]"
   ]
  },
  {
   "cell_type": "code",
   "execution_count": 324,
   "id": "9e0de1c9-c69f-4194-9519-8f07339920cc",
   "metadata": {},
   "outputs": [],
   "source": [
    "from sklearn.linear_model import LogisticRegression\n",
    "from sklearn.ensemble import RandomForestClassifier\n",
    "from sklearn.svm import SVC\n",
    "import lightgbm as lgb\n",
    "from catboost import CatBoostClassifier "
   ]
  },
  {
   "cell_type": "code",
   "execution_count": 325,
   "id": "967bdac6-2b82-4d3e-bb47-982f10425c72",
   "metadata": {},
   "outputs": [],
   "source": [
    "features_fit = list(categorical_features) + list(numerical_features)"
   ]
  },
  {
   "cell_type": "code",
   "execution_count": 326,
   "id": "ca5e1509-efc3-4c11-80ce-c610a755273e",
   "metadata": {},
   "outputs": [
    {
     "data": {
      "application/vnd.jupyter.widget-view+json": {
       "model_id": "2a64bf199d28498c80570364e84f1cdc",
       "version_major": 2,
       "version_minor": 0
      },
      "text/plain": [
       "  0%|          | 0/5 [00:00<?, ?it/s]"
      ]
     },
     "metadata": {},
     "output_type": "display_data"
    }
   ],
   "source": [
    "fold_predictions = {\"dumb\" : [], \"tree\": [], \"svm\" : [], \"reg\" : [], \"cat\" : [], \"lgbm\" : []}\n",
    "coefficients = {\"tree\": [], \"svm\" : [], \"reg\" : [], \"cat\" : [], \"lgbm\" : []}\n",
    "for i, X_train in enumerate(tqdm(X_train_folds)):\n",
    "    y_train = y_train_folds[i]\n",
    "    X_test = X_test_folds[i]\n",
    "    y_test = y_test_folds[i]\n",
    "    \n",
    "    X_train, y_train = sampler.fit_resample(X_train.loc[:,features_fit], y_train)\n",
    "\n",
    "    # random forrest\n",
    "    model_tree_i = RandomForestClassifier(random_state=42)\n",
    "    model_tree_i.fit(X_train, y_train)\n",
    "\n",
    "    # logistic regression \n",
    "    model_reg_i = LogisticRegression()\n",
    "    model_reg_i.fit(X_train, y_train)\n",
    "\n",
    "    # SVM + RBF\n",
    "    model_svm_i = SVC(kernel='rbf')\n",
    "    model_svm_i.fit(X_train, y_train)\n",
    "\n",
    "    # Cat\n",
    "    model_cat_i = CatBoostClassifier(loss_function='MultiClass', verbose=False)\n",
    "    model_cat_i.fit(X_train, y_train)\n",
    "\n",
    "    # LightGBM\n",
    "    model_lgbm_i = lgb.LGBMClassifier(verbose=-1)\n",
    "    model_lgbm_i.fit(X_train, y_train)\n",
    "\n",
    "    \n",
    "    y_pred = model_tree_i.predict(X_test.loc[:,features_fit])\n",
    "    fold_predictions[\"tree\"].append(y_pred)\n",
    "\n",
    "    y_pred = model_reg_i.predict(X_test.loc[:,features_fit])\n",
    "    fold_predictions[\"reg\"].append(y_pred)\n",
    "\n",
    "    y_pred = model_svm_i.predict(X_test.loc[:,features_fit])\n",
    "    fold_predictions[\"svm\"].append(y_pred)\n",
    "\n",
    "    y_pred = model_cat_i.predict(X_test.loc[:,features_fit])\n",
    "    fold_predictions[\"cat\"].append(y_pred)\n",
    "\n",
    "    y_pred = model_lgbm_i.predict(X_test.loc[:,features_fit])\n",
    "    fold_predictions[\"lgbm\"].append(y_pred)\n",
    "\n",
    "    most_frequent_label = np.bincount(y_train).argmax()\n",
    "    fold_predictions[\"dumb\"].append([most_frequent_label for i in range(len(X_test))])\n",
    "\n",
    "    coefficients[\"tree\"].append(model_tree_i.feature_importances_)\n",
    "    coefficients[\"cat\"].append(model_cat_i.feature_importances_)\n",
    "    coefficients[\"lgbm\"].append(model_lgbm_i.feature_importances_)\n",
    "    #coefficients[\"reg\"].append(model_reg_i.coef_)\n",
    "    #coefficients_reg.append(model_svm_i.coef_)\n",
    "     \n",
    "    # Fits the explainer\n",
    "    #explainer = shap.Explainer(model_reg_i.predict, X_test.iloc[:,7:])\n",
    "    # Calculates the SHAP values - It takes some time\n",
    "    #shap_values = explainer(X_test.iloc[:,7:])\n",
    "    #shap_values_reg.append(shap_values)"
   ]
  },
  {
   "cell_type": "code",
   "execution_count": 327,
   "id": "93ef45f9-ab16-4cb2-87f9-825051940269",
   "metadata": {},
   "outputs": [
    {
     "data": {
      "application/vnd.jupyter.widget-view+json": {
       "model_id": "dd86ee4ed4ff41f0a3c6782a294c9917",
       "version_major": 2,
       "version_minor": 0
      },
      "text/plain": [
       "  0%|          | 0/5 [00:00<?, ?it/s]"
      ]
     },
     "metadata": {},
     "output_type": "display_data"
    },
    {
     "data": {
      "application/vnd.jupyter.widget-view+json": {
       "model_id": "97f134e00f6c43a5bf8579d5a0bfba8f",
       "version_major": 2,
       "version_minor": 0
      },
      "text/plain": [
       "  0%|          | 0/5 [00:00<?, ?it/s]"
      ]
     },
     "metadata": {},
     "output_type": "display_data"
    },
    {
     "data": {
      "application/vnd.jupyter.widget-view+json": {
       "model_id": "196e90d2d00742af82bf5488fa0eaf80",
       "version_major": 2,
       "version_minor": 0
      },
      "text/plain": [
       "  0%|          | 0/5 [00:00<?, ?it/s]"
      ]
     },
     "metadata": {},
     "output_type": "display_data"
    },
    {
     "data": {
      "application/vnd.jupyter.widget-view+json": {
       "model_id": "cdaa94237f634376ac66edcd979eb388",
       "version_major": 2,
       "version_minor": 0
      },
      "text/plain": [
       "  0%|          | 0/5 [00:00<?, ?it/s]"
      ]
     },
     "metadata": {},
     "output_type": "display_data"
    },
    {
     "data": {
      "application/vnd.jupyter.widget-view+json": {
       "model_id": "e583cf314fca4ed68976506a56b2b3a6",
       "version_major": 2,
       "version_minor": 0
      },
      "text/plain": [
       "  0%|          | 0/5 [00:00<?, ?it/s]"
      ]
     },
     "metadata": {},
     "output_type": "display_data"
    },
    {
     "data": {
      "application/vnd.jupyter.widget-view+json": {
       "model_id": "957b943c1b9f4f7e9c35d80f0f910480",
       "version_major": 2,
       "version_minor": 0
      },
      "text/plain": [
       "  0%|          | 0/5 [00:00<?, ?it/s]"
      ]
     },
     "metadata": {},
     "output_type": "display_data"
    },
    {
     "name": "stdout",
     "output_type": "stream",
     "text": [
      "Most Frequent Prediction\n",
      "              precision    recall  f1-score   support\n",
      "\n",
      "          No       0.20      0.60      0.30      5.00\n",
      "         Yes       0.27      0.40      0.32     10.20\n",
      "\n",
      "    accuracy                           0.46     15.20\n",
      "   macro avg       0.23      0.50      0.31     15.20\n",
      "weighted avg       0.24      0.46      0.31     15.20\n",
      "\n",
      "\n",
      "\n",
      "\n",
      "Random Forrest Classifier\n",
      "              precision    recall  f1-score   support\n",
      "\n",
      "          No       0.40      0.16      0.22      5.00\n",
      "         Yes       0.70      0.94      0.80     10.20\n",
      "\n",
      "    accuracy                           0.68     15.20\n",
      "   macro avg       0.55      0.55      0.51     15.20\n",
      "weighted avg       0.60      0.68      0.61     15.20\n",
      "\n",
      "\n",
      "\n",
      "\n",
      "SVM + RBF Kernel\n",
      "              precision    recall  f1-score   support\n",
      "\n",
      "          No       0.00      0.00      0.00      5.00\n",
      "         Yes       0.67      1.00      0.80     10.20\n",
      "\n",
      "    accuracy                           0.67     15.20\n",
      "   macro avg       0.34      0.50      0.40     15.20\n",
      "weighted avg       0.45      0.67      0.54     15.20\n",
      "\n",
      "\n",
      "\n",
      "\n",
      "Logistic Regression\n",
      "              precision    recall  f1-score   support\n",
      "\n",
      "          No       0.32      0.28      0.30      5.00\n",
      "         Yes       0.69      0.78      0.73     10.20\n",
      "\n",
      "    accuracy                           0.62     15.20\n",
      "   macro avg       0.51      0.53      0.52     15.20\n",
      "weighted avg       0.57      0.62      0.59     15.20\n",
      "\n",
      "\n",
      "\n",
      "\n",
      "CatBoost\n",
      "              precision    recall  f1-score   support\n",
      "\n",
      "          No       0.75      0.32      0.42      5.00\n",
      "         Yes       0.75      0.98      0.85     10.20\n",
      "\n",
      "    accuracy                           0.76     15.20\n",
      "   macro avg       0.75      0.65      0.63     15.20\n",
      "weighted avg       0.75      0.76      0.71     15.20\n",
      "\n",
      "\n",
      "\n",
      "\n",
      "LightGBM\n",
      "              precision    recall  f1-score   support\n",
      "\n",
      "          No       0.55      0.36      0.40      5.00\n",
      "         Yes       0.74      0.86      0.79     10.20\n",
      "\n",
      "    accuracy                           0.70     15.20\n",
      "   macro avg       0.64      0.61      0.60     15.20\n",
      "weighted avg       0.68      0.70      0.66     15.20\n",
      "\n"
     ]
    }
   ],
   "source": [
    "classification_reports = {\"dumb\": [], \"tree\": [], \"svm\" : [], \"reg\" : [], \"cat\" : [], \"lgbm\" : []}\n",
    "average_classification_reports = {\"dumb\": \"\", \"tree\": \"\", \"svm\" : \"\", \"reg\" : \"\", \"cat\" : \"\", \"lgbm\" : \"\"}\n",
    "\n",
    "for key in classification_reports.keys():  \n",
    "    for i, y_pred in enumerate(tqdm(fold_predictions[key])):\n",
    "        target_names_in_targets = np.unique(y_test_folds[i])\n",
    "        target_names = [labels[i] for i in target_names_in_targets]\n",
    "        classification_reports[key].append(classification_report(y_test_folds[i], y_pred, target_names=np.asarray(target_names),output_dict=True, zero_division=0))\n",
    "\n",
    "    average_classification_reports[key] = utils.get_averaged_classification_report(classification_reports[key])\n",
    "\n",
    "print(\"Most Frequent Prediction\")\n",
    "print(average_classification_reports[\"dumb\"])\n",
    "print(\"\\n\\n\")\n",
    "print(\"Random Forrest Classifier\")\n",
    "print(average_classification_reports[\"tree\"])\n",
    "print(\"\\n\\n\")\n",
    "print(\"SVM + RBF Kernel\")\n",
    "print(average_classification_reports[\"svm\"])\n",
    "print(\"\\n\\n\")\n",
    "print(\"Logistic Regression\")\n",
    "print(average_classification_reports[\"reg\"])\n",
    "print(\"\\n\\n\")\n",
    "print(\"CatBoost\")\n",
    "print(average_classification_reports[\"cat\"])\n",
    "print(\"\\n\\n\")\n",
    "print(\"LightGBM\")\n",
    "print(average_classification_reports[\"lgbm\"])"
   ]
  },
  {
   "cell_type": "code",
   "execution_count": 328,
   "id": "6ad291d9-4a0a-44af-9c1c-411590b9bd81",
   "metadata": {},
   "outputs": [
    {
     "data": {
      "application/vnd.jupyter.widget-view+json": {
       "model_id": "31e2245a7af54e76bedafcb9e75a4a93",
       "version_major": 2,
       "version_minor": 0
      },
      "text/plain": [
       "  0%|          | 0/5 [00:00<?, ?it/s]"
      ]
     },
     "metadata": {},
     "output_type": "display_data"
    },
    {
     "data": {
      "application/vnd.jupyter.widget-view+json": {
       "model_id": "eaafde99b9e648b1811e5726ce2ab9b2",
       "version_major": 2,
       "version_minor": 0
      },
      "text/plain": [
       "  0%|          | 0/5 [00:00<?, ?it/s]"
      ]
     },
     "metadata": {},
     "output_type": "display_data"
    },
    {
     "data": {
      "application/vnd.jupyter.widget-view+json": {
       "model_id": "6b1206cb82ae4789bfad27b0ced48eba",
       "version_major": 2,
       "version_minor": 0
      },
      "text/plain": [
       "  0%|          | 0/5 [00:00<?, ?it/s]"
      ]
     },
     "metadata": {},
     "output_type": "display_data"
    },
    {
     "data": {
      "application/vnd.jupyter.widget-view+json": {
       "model_id": "ea019f184c5449caae5b628eee8dcc66",
       "version_major": 2,
       "version_minor": 0
      },
      "text/plain": [
       "  0%|          | 0/5 [00:00<?, ?it/s]"
      ]
     },
     "metadata": {},
     "output_type": "display_data"
    },
    {
     "data": {
      "application/vnd.jupyter.widget-view+json": {
       "model_id": "74cd243697574bfab480b17d428a9d04",
       "version_major": 2,
       "version_minor": 0
      },
      "text/plain": [
       "  0%|          | 0/5 [00:00<?, ?it/s]"
      ]
     },
     "metadata": {},
     "output_type": "display_data"
    },
    {
     "data": {
      "application/vnd.jupyter.widget-view+json": {
       "model_id": "feba79eccc9c4fd6a0ba26ba34802fd2",
       "version_major": 2,
       "version_minor": 0
      },
      "text/plain": [
       "  0%|          | 0/5 [00:00<?, ?it/s]"
      ]
     },
     "metadata": {},
     "output_type": "display_data"
    },
    {
     "data": {
      "image/png": "[encoded data removed]",
      "text/plain": [
       "<Figure size 1500x800 with 2 Axes>"
      ]
     },
     "metadata": {},
     "output_type": "display_data"
    },
    {
     "data": {
      "image/png": "[encoded data removed]",
      "text/plain": [
       "<Figure size 1500x800 with 2 Axes>"
      ]
     },
     "metadata": {},
     "output_type": "display_data"
    },
    {
     "data": {
      "image/png": "[encoded data removed]",
      "text/plain": [
       "<Figure size 1500x800 with 2 Axes>"
      ]
     },
     "metadata": {},
     "output_type": "display_data"
    },
    {
     "data": {
      "image/png": "[encoded data removed]",
      "text/plain": [
       "<Figure size 1500x800 with 2 Axes>"
      ]
     },
     "metadata": {},
     "output_type": "display_data"
    },
    {
     "data": {
      "image/png": "[encoded data removed]",
      "text/plain": [
       "<Figure size 1500x800 with 2 Axes>"
      ]
     },
     "metadata": {},
     "output_type": "display_data"
    },
    {
     "data": {
      "image/png": "[encoded data removed]",
      "text/plain": [
       "<Figure size 1500x800 with 2 Axes>"
      ]
     },
     "metadata": {},
     "output_type": "display_data"
    }
   ],
   "source": [
    "for key in fold_predictions.keys():\n",
    "    cms = []\n",
    "    for i, y_pred in enumerate(tqdm(fold_predictions[key])):\n",
    "        cm = confusion_matrix(y_test_folds[i], y_pred, normalize=\"true\") # normalize over true values\n",
    "        cms.append(cm)\n",
    "    cms = np.asarray(cms)\n",
    "    \n",
    "    fig, ax = plt.subplots(figsize = (15,8))\n",
    "    disp = ConfusionMatrixDisplay(confusion_matrix=np.mean(cms,axis=0),display_labels=labels,)\n",
    "    ax.set_title(key)\n",
    "    disp.plot(ax=ax)\n",
    "    disp.ax_.get_images()[0].set_clim(0, 1)"
   ]
  },
  {
   "cell_type": "code",
   "execution_count": 329,
   "id": "e11b2556-ea47-4a0c-8f81-9e91b73e9ef7",
   "metadata": {},
   "outputs": [
    {
     "name": "stdout",
     "output_type": "stream",
     "text": [
      "(1610,)\n",
      "(1610,)\n",
      "(1610,)\n"
     ]
    },
    {
     "data": {
      "image/png": "[encoded data removed]",
      "text/plain": [
       "<Figure size 1000x600 with 1 Axes>"
      ]
     },
     "metadata": {},
     "output_type": "display_data"
    },
    {
     "data": {
      "image/png": "[encoded data removed]",
      "text/plain": [
       "<Figure size 1000x600 with 1 Axes>"
      ]
     },
     "metadata": {},
     "output_type": "display_data"
    },
    {
     "data": {
      "image/png": "[encoded data removed]",
      "text/plain": [
       "<Figure size 1000x600 with 1 Axes>"
      ]
     },
     "metadata": {},
     "output_type": "display_data"
    }
   ],
   "source": [
    "for key in [\"tree\", \"cat\", \"lgbm\"]:\n",
    "    mean_coef = np.mean(np.asarray(coefficients[key]), axis=0)\n",
    "    print(mean_coef.shape)\n",
    "    palette = sns.color_palette(palette='Blues')\n",
    "    \n",
    "    fig, ax = plt.subplots(figsize=(10, 6))\n",
    "    feature_importance = pd.DataFrame({'Feature': X_train.columns, 'Importance': mean_coef})\n",
    "    feature_importance = feature_importance.sort_values('Importance', ascending=True)\n",
    "    feature_importance.iloc[-20:].plot(x='Feature', y='Importance', kind='barh', ax=ax, label = \"Fold Average Importance\")\n",
    "    \n",
    "    #for i, cof in enumerate(coefficients[key]):\n",
    "    #    feature_importance_i = pd.DataFrame({'Feature': X_train.columns, 'Importance': cof})\n",
    "    #    feature_importance_i = feature_importance_i.sort_values('Importance', ascending=True)\n",
    "    #    feature_importance_i.iloc[-20:].plot(x='Feature', y='Importance', kind='barh', ax=ax, color =palette[i], alpha=0.4, label=\"\", legend=False)\n",
    "    ax.set_title(key)\n"
   ]
  }
 ],
 "metadata": {
  "kernelspec": {
   "display_name": "Python 3 (ipykernel)",
   "language": "python",
   "name": "python3"
  },
  "language_info": {
   "codemirror_mode": {
    "name": "ipython",
    "version": 3
   },
   "file_extension": ".py",
   "mimetype": "text/x-python",
   "name": "python",
   "nbconvert_exporter": "python",
   "pygments_lexer": "ipython3",
   "version": "3.11.4"
  }
 },
 "nbformat": 4,
 "nbformat_minor": 5
}
