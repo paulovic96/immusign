{
 "cells": [
  {
   "cell_type": "code",
   "execution_count": 1,
   "id": "fee88a39",
   "metadata": {},
   "outputs": [],
   "source": [
    "import pandas as pd\n",
    "import numpy as np\n",
    "import matplotlib.pyplot as plt\n",
    "import os\n",
    "import json\n",
    "np.bool = bool\n",
    "import seaborn as sns\n",
    "import run_classical\n",
    "import ptitprince as pt#seaborn 0.11.0\n",
    "import matplotlib.patches as mpatches\n",
    "import matplotlib.lines as mlines\n",
    "import utils\n",
    "from utils import contaminated_hds\n",
    "\n",
    "import matplotlib.patches as mpatches\n",
    "import matplotlib.lines as mlines\n",
    "from scipy import stats\n",
    "import itertools\n",
    "\n",
    "from sklearn.model_selection import StratifiedShuffleSplit, StratifiedKFold\n",
    "from imblearn.over_sampling import ADASYN, RandomOverSampler, SMOTE\n",
    "from imblearn.under_sampling import RandomUnderSampler\n",
    "\n",
    "from sklearn.ensemble import RandomForestClassifier\n",
    "from sklearn.linear_model import LogisticRegression"
   ]
  },
  {
   "cell_type": "code",
   "execution_count": 2,
   "id": "ee184cd7",
   "metadata": {},
   "outputs": [],
   "source": [
    "RESULT_PATH = \"final_evaluation/hypermutation/\"\n",
    "CONDITIONS = [\"cll_dlbcl_hd\", \"nlphl_dlbcl_hd\", \"nlphl_dlbcl_hd_cll\"]\n",
    "SAVE_PLOTS = False\n",
    "CONDITIONS_DICT = {'cll_dlbcl_hd': 'CLL_DLBCL_HD',\n",
    "                  'nlphl_dlbcl_hd': 'NLPHL_DLBCL_HD',\n",
    "                  'nlphl_dlbcl_hd_cll': 'NLPHL_DLBCL_HD_CLL'\n",
    "                  }"
   ]
  },
  {
   "cell_type": "code",
   "execution_count": 3,
   "id": "fa43915e",
   "metadata": {},
   "outputs": [],
   "source": [
    "MODELS = [\"RandomForest\", \"LogisticRegression\"]"
   ]
  },
  {
   "cell_type": "markdown",
   "id": "d833e808",
   "metadata": {},
   "source": [
    "# Load Model Results"
   ]
  },
  {
   "cell_type": "code",
   "execution_count": 4,
   "id": "db3abb1c",
   "metadata": {},
   "outputs": [],
   "source": [
    "df_conditions = pd.DataFrame()\n",
    "results_conditions_df = pd.DataFrame()\n",
    "settings_conditions_df = pd.DataFrame()\n",
    "\n",
    "for condition in CONDITIONS:\n",
    "    df, results_df, settings_df = utils.load_model_results(RESULT_PATH, condition, MODELS, \"F1\", weighted_metric=True)\n",
    "    df[\"condition\"] = condition\n",
    "    results_df[\"condition\"] = condition\n",
    "    settings_df[\"condition\"] = condition\n",
    "    \n",
    "    df_conditions = pd.concat([df_conditions, df],ignore_index = True)\n",
    "    results_conditions_df = pd.concat([results_conditions_df, results_df], ignore_index = True)\n",
    "    settings_conditions_df = pd.concat([settings_conditions_df, settings_df],  ignore_index = True)"
   ]
  },
  {
   "cell_type": "markdown",
   "id": "4ecd2606",
   "metadata": {},
   "source": [
    "## Select best model per n-clones based on validation F1 score for all conditions"
   ]
  },
  {
   "cell_type": "code",
   "execution_count": 5,
   "id": "d65d75d2",
   "metadata": {},
   "outputs": [],
   "source": [
    "best_models_per_clones = []\n",
    "\n",
    "for condition in CONDITIONS:\n",
    "    df = df_conditions[df_conditions.condition == condition]\n",
    "    for i, group in df.groupby(\"n_clones\"):\n",
    "        group_reg = group[group.model == \"LogisticRegression\"]\n",
    "        group_for = group[group.model == \"RandomForest\"]\n",
    "\n",
    "        if len(group_reg) != 0:\n",
    "            best_model_index = np.argmax(group_reg.mean_validation_F1)\n",
    "            best_models_per_clones.append(group_reg.iloc[best_model_index:best_model_index+1].index[0])\n",
    "        if len(group_for) != 0:\n",
    "            best_model_index = np.argmax(group_for.mean_validation_F1)\n",
    "            best_models_per_clones.append(group_for.iloc[best_model_index:best_model_index+1].index[0])"
   ]
  },
  {
   "cell_type": "code",
   "execution_count": 6,
   "id": "50ea0dc3",
   "metadata": {},
   "outputs": [],
   "source": [
    "df_best = df_conditions.loc[best_models_per_clones]\n",
    "df_best.sort_values(by=[\"model\",\"condition\"], inplace=True, ascending=False)"
   ]
  },
  {
   "cell_type": "markdown",
   "id": "f92e98d0",
   "metadata": {},
   "source": [
    "## Select overall best model per condition"
   ]
  },
  {
   "cell_type": "code",
   "execution_count": 7,
   "id": "94f52eca",
   "metadata": {},
   "outputs": [],
   "source": [
    "best_models_test_per_condition = {}\n",
    "best_models_valid_per_condition = {}\n",
    "best_test_reg_per_condition = {}\n",
    "best_test_for_per_condition = {}\n",
    "best_valid_reg_per_condition = {}\n",
    "best_valid_for_per_condition = {}\n",
    "for i, condition in enumerate(CONDITIONS):\n",
    "    df = df_best[df_best.condition == condition]\n",
    "    if len(df) == 0:\n",
    "        continue\n",
    "    best_models_test_per_condition[condition] = list(df.iloc[np.argmax(df.test_F1)][[\"model\", \"run\", \"n_clones\"]])\n",
    "    best_models_valid_per_condition[condition] = list(df.iloc[np.argmax(df.mean_validation_F1)][[\"model\", \"run\", \"n_clones\"]])\n",
    "    \n",
    "    df_reg = df[df.model == \"LogisticRegression\"]\n",
    "    df_for = df[df.model == \"RandomForest\"]\n",
    "    \n",
    "    best_test_reg_per_condition[condition] = list(df_reg.iloc[np.argmax(df_reg.test_F1)][[\"model\", \"run\", \"n_clones\"]])\n",
    "    best_test_for_per_condition[condition] = list(df_for.iloc[np.argmax(df_for.test_F1)][[\"model\", \"run\", \"n_clones\"]])\n",
    "    best_valid_reg_per_condition[condition] = list(df_reg.iloc[np.argmax(df_reg.mean_validation_F1)][[\"model\", \"run\", \"n_clones\"]])\n",
    "    best_valid_for_per_condition[condition] = list(df_for.iloc[np.argmax(df_for.mean_validation_F1)][[\"model\", \"run\", \"n_clones\"]])"
   ]
  },
  {
   "cell_type": "markdown",
   "id": "5d227855",
   "metadata": {},
   "source": [
    "# Review"
   ]
  },
  {
   "cell_type": "code",
   "execution_count": 8,
   "id": "485741b2",
   "metadata": {},
   "outputs": [
    {
     "name": "stdout",
     "output_type": "stream",
     "text": [
      "Number of Class 1 repertoires: 90\n",
      "Number of Class 2 repertoires: 182\n",
      "Number of Class 3 repertoires: 291\n",
      "Number of Class 4 repertoires: 348\n"
     ]
    }
   ],
   "source": [
    "path_dir = \"data/\"\n",
    "clones_dir = \"data/clones_mit_kidera\"\n",
    "comparisons = [['nlphl'], [\"dlbcl\", \"gcb_dlbcl\", \"abc_dlbcl\"], ['hd'], ['cll']]\n",
    "comparison_labels = ['nlphl', 'dlbcl', 'hd', 'cll']#\n",
    "class_files, number_of_repertoires = run_classical.load_metadata(comparisons, \"IGH\", path_dir, clones_dir)"
   ]
  },
  {
   "cell_type": "code",
   "execution_count": null,
   "id": "63861369",
   "metadata": {},
   "outputs": [],
   "source": [
    "df = pd.DataFrame()\n",
    "for key in class_files.keys():\n",
    "    for file in class_files[key]:\n",
    "        df_i = pd.read_csv(file, sep=\"\\t\")\n",
    "        df_i[\"clones.txt.name\"] = os.path.basename(file)\n",
    "        df = pd.concat([df, df_i])"
   ]
  },
  {
   "cell_type": "markdown",
   "id": "a91f2c0c",
   "metadata": {},
   "source": [
    "## nucleotide vs amino acid clonotype definition overlap"
   ]
  },
  {
   "cell_type": "code",
   "execution_count": null,
   "id": "38a66f97",
   "metadata": {},
   "outputs": [],
   "source": [
    "df_nt = df.groupby([\"clones.txt.name\"])[\"nSeqCDR3\"].unique().apply(len).reset_index()\n",
    "df_aa = df.groupby([\"clones.txt.name\"])[\"aaSeqCDR3\"].unique().apply(len).reset_index()"
   ]
  },
  {
   "cell_type": "code",
   "execution_count": null,
   "id": "16d472a0",
   "metadata": {},
   "outputs": [],
   "source": [
    "df_diff = df_nt.merge(df_aa, on = \"clones.txt.name\")"
   ]
  },
  {
   "cell_type": "code",
   "execution_count": null,
   "id": "e9b4e322",
   "metadata": {},
   "outputs": [],
   "source": [
    "df_diff[\"nSeqCDR3\"].sum()"
   ]
  },
  {
   "cell_type": "code",
   "execution_count": null,
   "id": "f2cf9c27",
   "metadata": {},
   "outputs": [],
   "source": [
    "df_diff[\"aaSeqCDR3\"].sum()"
   ]
  },
  {
   "cell_type": "code",
   "execution_count": null,
   "id": "c0c66b40",
   "metadata": {},
   "outputs": [],
   "source": [
    "df_diff[\"aaSeqCDR3\"].sum() / df_diff[\"nSeqCDR3\"].sum()"
   ]
  },
  {
   "cell_type": "markdown",
   "id": "c08883f5",
   "metadata": {},
   "source": [
    "## correlation of major metrics with sequencing depth "
   ]
  },
  {
   "cell_type": "code",
   "execution_count": null,
   "id": "39f67b32",
   "metadata": {},
   "outputs": [],
   "source": [
    "df = df[df.aaSeqCDR3.apply(lambda x: not ((\"_\" in x) or (\"*\" in x)))]"
   ]
  },
  {
   "cell_type": "code",
   "execution_count": null,
   "id": "88a83765",
   "metadata": {},
   "outputs": [],
   "source": [
    "reads = df.groupby(\"clones.txt.name\")[\"cloneCount\"].sum().reset_index(name='total_reads')\n",
    "richness = df.groupby(\"clones.txt.name\").apply(lambda x: len(x[\"aaSeqCDR3\"].unique())).reset_index(name='richness')\n",
    "clonality = df.groupby(\"clones.txt.name\").apply(lambda x: utils.get_clonset_info(x, \"clonality\")).reset_index(name='clonality')\n",
    "shannon = df.groupby(\"clones.txt.name\").apply(lambda x: utils.get_clonset_info(x, \"shannon\")).reset_index(name='shannon')\n",
    "hypermutation = df.groupby(\"clones.txt.name\").apply(lambda x: utils.get_clonset_info(x, \"hypermutation\")).reset_index(name='hypermutatedFraction')"
   ]
  },
  {
   "cell_type": "code",
   "execution_count": null,
   "id": "1e8e8150",
   "metadata": {},
   "outputs": [],
   "source": [
    "df = df.merge(reads, on = \"clones.txt.name\")\n",
    "df = df.merge(richness, on = \"clones.txt.name\")\n",
    "df = df.merge(clonality, on = \"clones.txt.name\")\n",
    "df = df.merge(shannon, on = \"clones.txt.name\")\n",
    "df = df.merge(hypermutation, on = \"clones.txt.name\")"
   ]
  },
  {
   "cell_type": "code",
   "execution_count": null,
   "id": "e09810b6",
   "metadata": {},
   "outputs": [],
   "source": [
    "from scipy import stats\n",
    "X = df.groupby(\"clones.txt.name\").first().reset_index()\n",
    "res = stats.pearsonr(X[\"total_reads\"], X[\"richness\"])\n",
    "print(res)\n",
    "res = stats.pearsonr(X[\"total_reads\"], X[\"clonality\"])\n",
    "print(res)\n",
    "res = stats.pearsonr(X[\"total_reads\"], X[\"shannon\"])\n",
    "print(res)"
   ]
  },
  {
   "cell_type": "markdown",
   "id": "670975fa",
   "metadata": {},
   "source": [
    "## feature correlation"
   ]
  },
  {
   "cell_type": "code",
   "execution_count": 18,
   "id": "d106232c",
   "metadata": {},
   "outputs": [],
   "source": [
    "feature_names = ['cloneFraction', 'lengthOfCDR3', 'clonality', 'shannon', 'richness', 'hypermutatedFraction']  + ['bestVGene', 'bestDGene', 'bestJGene'] + ['KF%i' %i for i in range(1, 11)] \n",
    "object_types = ['float64', 'int64', 'float64', 'float64', 'float64', 'float64']  +  ['object', 'object', 'object']+['float64' for i in range(10)] "
   ]
  },
  {
   "cell_type": "code",
   "execution_count": 19,
   "id": "693a16ce",
   "metadata": {},
   "outputs": [],
   "source": [
    "X, y, clone_fractions = run_classical.create_features(class_files, \n",
    "                                        feature_names, \n",
    "                                        object_types, \n",
    "                                        20, \n",
    "                                        onehot_encoding=True, \n",
    "                                        ordinal_encoding=False, \n",
    "                                        standardize=True, \n",
    "                                        genefamily=False)"
   ]
  },
  {
   "cell_type": "code",
   "execution_count": 20,
   "id": "a7a5055f",
   "metadata": {},
   "outputs": [
    {
     "data": {
      "text/plain": [
       "<Axes: >"
      ]
     },
     "execution_count": 20,
     "metadata": {},
     "output_type": "execute_result"
    },
    {
     "data": {
      "image/png": "[encoded data removed]",
      "text/plain": [
       "<Figure size 1000x800 with 2 Axes>"
      ]
     },
     "metadata": {},
     "output_type": "display_data"
    }
   ],
   "source": [
    "import matplotlib.pyplot as plt\n",
    "import seaborn as sns\n",
    "plotting_df = X[[\"clonality\", \"cloneFraction_0\", \"shannon\", \"richness\",\n",
    "                 \"bestJGene_0_IGHJ3\", \"KF7_0\", \"bestVGene_0_IGHV4/OR15-8\", \"bestVGene_0_IGHV4-34\",\n",
    "                \"bestVGene_0_IGHV4-59\", \"lengthOfCDR3_0\", \"cloneFraction_1\", \"KF8_0\", \"KF8_1\",\n",
    "                \"bestVGene_2_IGHV4-34\", \"bestJGene_0_IGHJ5\", \"bestDGene_0_IGHD6-13\", \n",
    "                \"bestVGene_1_IGHV4-34\", \"KF9_1\", \"bestDGene_1_IGHD6-13\", \"hypermutatedFraction\", \"bestJGene_0_IGHJ6\"]].copy()\n",
    "\n",
    "\n",
    "labels = [\"clonality\", \"clonotpye 1: Fraction\", \"shannon\", \"richness\",\n",
    "                 \"clonotype 1: IGHJ3\", \"clonotype 1: KF7\", \"clonotype 1: IGHV4/OR15-8\", \"clonotype 1: IGHV4-34\",\n",
    "                \"clonotype 1: IGHV4-59\", \"clonotype 1: lengthOfCDR3\", \"clonotpye 2: Fraction\", \"clonotype 1: KF8\", \"clonotype 2: KF8\",\n",
    "                \"clonotype 3: IGHV4-34\", \"clonotype 1: IGHJ5\", \"clonotpye 1: IGHD6-13\", \n",
    "                \"clonotype 2: IGHV4-34\", \"clonotype 2: KF9\", \"clonotpye 2: IGHD6-13\", \"hypermutatedFraction\", \"clonotype 1: IGHJ6\"]\n",
    "\n",
    "corr = plotting_df.corr()\n",
    "fig, ax = plt.subplots(figsize=(10,8))\n",
    "sns.heatmap(corr, ax=ax, vmin=-1, vmax=1, \n",
    "            xticklabels = labels, \n",
    "            yticklabels=labels,\n",
    "            cmap = \"coolwarm\",annot=False, annot_kws={\"fontsize\":8}, linewidths=1, linecolor='black')\n",
    "\n",
    "#plt.rcParams['svg.fonttype'] = 'none'\n",
    "#plt.savefig(\"feature_correlation.svg\", format=\"svg\", bbox_inches='tight')"
   ]
  },
  {
   "cell_type": "markdown",
   "id": "0e2a76c7",
   "metadata": {},
   "source": [
    "# Model Performance only top 3 Predictors"
   ]
  },
  {
   "cell_type": "code",
   "execution_count": 21,
   "id": "615cbf2c",
   "metadata": {},
   "outputs": [
    {
     "name": "stdout",
     "output_type": "stream",
     "text": [
      "final_evaluation/hypermutation/nlphl_dlbcl_hd_cll/outputs_LogisticRegression/output_Sep_21_124142_9AH8R_classification/settings.json\n"
     ]
    }
   ],
   "source": [
    "model = best_valid_reg_per_condition[\"nlphl_dlbcl_hd_cll\"][0]\n",
    "run = best_valid_reg_per_condition[\"nlphl_dlbcl_hd_cll\"][1]\n",
    "path = os.path.join(RESULT_PATH,condition,\"outputs_\" +model, run, \"settings.json\")\n",
    "print(path)"
   ]
  },
  {
   "cell_type": "code",
   "execution_count": 22,
   "id": "1f2aedc8",
   "metadata": {},
   "outputs": [
    {
     "data": {
      "text/html": [
       "<style>#sk-container-id-1 {color: black;}#sk-container-id-1 pre{padding: 0;}#sk-container-id-1 div.sk-toggleable {background-color: white;}#sk-container-id-1 label.sk-toggleable__label {cursor: pointer;display: block;width: 100%;margin-bottom: 0;padding: 0.3em;box-sizing: border-box;text-align: center;}#sk-container-id-1 label.sk-toggleable__label-arrow:before {content: \"▸\";float: left;margin-right: 0.25em;color: #696969;}#sk-container-id-1 label.sk-toggleable__label-arrow:hover:before {color: black;}#sk-container-id-1 div.sk-estimator:hover label.sk-toggleable__label-arrow:before {color: black;}#sk-container-id-1 div.sk-toggleable__content {max-height: 0;max-width: 0;overflow: hidden;text-align: left;background-color: #f0f8ff;}#sk-container-id-1 div.sk-toggleable__content pre {margin: 0.2em;color: black;border-radius: 0.25em;background-color: #f0f8ff;}#sk-container-id-1 input.sk-toggleable__control:checked~div.sk-toggleable__content {max-height: 200px;max-width: 100%;overflow: auto;}#sk-container-id-1 input.sk-toggleable__control:checked~label.sk-toggleable__label-arrow:before {content: \"▾\";}#sk-container-id-1 div.sk-estimator input.sk-toggleable__control:checked~label.sk-toggleable__label {background-color: #d4ebff;}#sk-container-id-1 div.sk-label input.sk-toggleable__control:checked~label.sk-toggleable__label {background-color: #d4ebff;}#sk-container-id-1 input.sk-hidden--visually {border: 0;clip: rect(1px 1px 1px 1px);clip: rect(1px, 1px, 1px, 1px);height: 1px;margin: -1px;overflow: hidden;padding: 0;position: absolute;width: 1px;}#sk-container-id-1 div.sk-estimator {font-family: monospace;background-color: #f0f8ff;border: 1px dotted black;border-radius: 0.25em;box-sizing: border-box;margin-bottom: 0.5em;}#sk-container-id-1 div.sk-estimator:hover {background-color: #d4ebff;}#sk-container-id-1 div.sk-parallel-item::after {content: \"\";width: 100%;border-bottom: 1px solid gray;flex-grow: 1;}#sk-container-id-1 div.sk-label:hover label.sk-toggleable__label {background-color: #d4ebff;}#sk-container-id-1 div.sk-serial::before {content: \"\";position: absolute;border-left: 1px solid gray;box-sizing: border-box;top: 0;bottom: 0;left: 50%;z-index: 0;}#sk-container-id-1 div.sk-serial {display: flex;flex-direction: column;align-items: center;background-color: white;padding-right: 0.2em;padding-left: 0.2em;position: relative;}#sk-container-id-1 div.sk-item {position: relative;z-index: 1;}#sk-container-id-1 div.sk-parallel {display: flex;align-items: stretch;justify-content: center;background-color: white;position: relative;}#sk-container-id-1 div.sk-item::before, #sk-container-id-1 div.sk-parallel-item::before {content: \"\";position: absolute;border-left: 1px solid gray;box-sizing: border-box;top: 0;bottom: 0;left: 50%;z-index: -1;}#sk-container-id-1 div.sk-parallel-item {display: flex;flex-direction: column;z-index: 1;position: relative;background-color: white;}#sk-container-id-1 div.sk-parallel-item:first-child::after {align-self: flex-end;width: 50%;}#sk-container-id-1 div.sk-parallel-item:last-child::after {align-self: flex-start;width: 50%;}#sk-container-id-1 div.sk-parallel-item:only-child::after {width: 0;}#sk-container-id-1 div.sk-dashed-wrapped {border: 1px dashed gray;margin: 0 0.4em 0.5em 0.4em;box-sizing: border-box;padding-bottom: 0.4em;background-color: white;}#sk-container-id-1 div.sk-label label {font-family: monospace;font-weight: bold;display: inline-block;line-height: 1.2em;}#sk-container-id-1 div.sk-label-container {text-align: center;}#sk-container-id-1 div.sk-container {/* jupyter's `normalize.less` sets `[hidden] { display: none; }` but bootstrap.min.css set `[hidden] { display: none !important; }` so we also need the `!important` here to be able to override the default hidden behavior on the sphinx rendered scikit-learn.org. See: https://github.com/scikit-learn/scikit-learn/issues/21755 */display: inline-block !important;position: relative;}#sk-container-id-1 div.sk-text-repr-fallback {display: none;}</style><div id=\"sk-container-id-1\" class=\"sk-top-container\"><div class=\"sk-text-repr-fallback\"><pre>LogisticRegression(C=1, max_iter=100000, n_jobs=8)</pre><b>In a Jupyter environment, please rerun this cell to show the HTML representation or trust the notebook. <br />On GitHub, the HTML representation is unable to render, please try loading this page with nbviewer.org.</b></div><div class=\"sk-container\" hidden><div class=\"sk-item\"><div class=\"sk-estimator sk-toggleable\"><input class=\"sk-toggleable__control sk-hidden--visually\" id=\"sk-estimator-id-1\" type=\"checkbox\" checked><label for=\"sk-estimator-id-1\" class=\"sk-toggleable__label sk-toggleable__label-arrow\">LogisticRegression</label><div class=\"sk-toggleable__content\"><pre>LogisticRegression(C=1, max_iter=100000, n_jobs=8)</pre></div></div></div></div></div>"
      ],
      "text/plain": [
       "LogisticRegression(C=1, max_iter=100000, n_jobs=8)"
      ]
     },
     "execution_count": 22,
     "metadata": {},
     "output_type": "execute_result"
    }
   ],
   "source": [
    "feature_names = ['cloneFraction', 'shannon', 'clonality']\n",
    "object_types = ['float64', 'int64', 'float64']\n",
    "\n",
    "X, y, clone_fractions = run_classical.create_features(class_files, \n",
    "                                        feature_names, \n",
    "                                        object_types, \n",
    "                                        1, \n",
    "                                        onehot_encoding=True, \n",
    "                                        ordinal_encoding=False, \n",
    "                                        standardize=True, \n",
    "                                        genefamily=False)\n",
    "\n",
    "sss = StratifiedShuffleSplit(n_splits=1, test_size=0.2, random_state=0)\n",
    "train_index, test_index =  sss.split(X, y).__next__()\n",
    "\n",
    "X_test = X.iloc[test_index]\n",
    "y_test = y[test_index]\n",
    "X = X.iloc[train_index]\n",
    "y = y[train_index]\n",
    "\n",
    "sampling_strategies = {\n",
    "    'None': None,\n",
    "    'adasyn': ADASYN(random_state=42),\n",
    "    'random_over': RandomOverSampler(random_state=42),\n",
    "    'smote': SMOTE(random_state=42),\n",
    "    'random_under' : RandomUnderSampler(random_state=42)\n",
    "    }\n",
    "\n",
    "sampler = sampling_strategies[\"random_over\"]\n",
    "\n",
    "\n",
    "if sampler is not None:\n",
    "    X, y = sampler.fit_resample(X, y)\n",
    "\n",
    "model = LogisticRegression(max_iter=100000, penalty=\"l2\", C=1, solver=\"lbfgs\", n_jobs=8)\n",
    "model.fit(X.values, y)"
   ]
  },
  {
   "cell_type": "code",
   "execution_count": 23,
   "id": "62fa13f2",
   "metadata": {},
   "outputs": [],
   "source": [
    "preds = model.predict(X_test.values)"
   ]
  },
  {
   "cell_type": "code",
   "execution_count": 24,
   "id": "11d34c93",
   "metadata": {},
   "outputs": [
    {
     "name": "stdout",
     "output_type": "stream",
     "text": [
      "              precision    recall  f1-score   support\n",
      "\n",
      "       nlphl       0.30      0.33      0.32        18\n",
      "       dlbcl       0.40      0.32      0.36        37\n",
      "          hd       0.75      0.83      0.79        58\n",
      "         cll       0.78      0.77      0.78        70\n",
      "\n",
      "    accuracy                           0.66       183\n",
      "   macro avg       0.56      0.56      0.56       183\n",
      "weighted avg       0.65      0.66      0.65       183\n",
      "\n"
     ]
    }
   ],
   "source": [
    "from sklearn.metrics import classification_report\n",
    "print(classification_report(y_test, preds, target_names=np.asarray(comparison_labels), zero_division=0))"
   ]
  },
  {
   "cell_type": "markdown",
   "id": "5551bdaa",
   "metadata": {},
   "source": [
    "# Top 10 Somatic Hypermutation "
   ]
  },
  {
   "cell_type": "code",
   "execution_count": 25,
   "id": "707495e4",
   "metadata": {},
   "outputs": [],
   "source": [
    "cond_comparison_dict = {\n",
    "    \"cll_dlbcl_hd\" : [['cll'], [\"dlbcl\", \"gcb_dlbcl\", \"abc_dlbcl\"], ['hd']],\n",
    "    \"nlphl_dlbcl_hd\" : [['nlphl'], [\"dlbcl\", \"gcb_dlbcl\", \"abc_dlbcl\"], ['hd']],\n",
    "    \"nlphl_dlbcl_hd_cll\" : [['nlphl'], [\"dlbcl\", \"gcb_dlbcl\", \"abc_dlbcl\"], ['hd'], [\"cll\"]]\n",
    "}"
   ]
  },
  {
   "cell_type": "code",
   "execution_count": 26,
   "id": "faaaf15f",
   "metadata": {},
   "outputs": [],
   "source": [
    "comparisons = cond_comparison_dict[\"nlphl_dlbcl_hd_cll\"]"
   ]
  },
  {
   "cell_type": "code",
   "execution_count": 27,
   "id": "2187468b",
   "metadata": {},
   "outputs": [
    {
     "name": "stdout",
     "output_type": "stream",
     "text": [
      "Number of Class 1 repertoires: 90\n",
      "Number of Class 2 repertoires: 182\n",
      "Number of Class 3 repertoires: 291\n",
      "Number of Class 4 repertoires: 348\n"
     ]
    }
   ],
   "source": [
    "path_dir = \"data/\"\n",
    "clones_dir = \"data/clones_mit_kidera\" \n",
    "class_files, number_of_repertoires = run_classical.load_metadata(comparisons, \"IGH\", path_dir, clones_dir)"
   ]
  },
  {
   "cell_type": "code",
   "execution_count": 28,
   "id": "e67c3232",
   "metadata": {},
   "outputs": [],
   "source": [
    "target_lanels = [\"NLPHL\", \"DLBCL\", \"HD\", \"CLL\"]"
   ]
  },
  {
   "cell_type": "code",
   "execution_count": 37,
   "id": "1d8004ec",
   "metadata": {},
   "outputs": [
    {
     "data": {
      "application/vnd.jupyter.widget-view+json": {
       "model_id": "911859f59b864f2c9b14aef98f654710",
       "version_major": 2,
       "version_minor": 0
      },
      "text/plain": [
       "  0%|          | 0/90 [00:00<?, ?it/s]"
      ]
     },
     "metadata": {},
     "output_type": "display_data"
    },
    {
     "data": {
      "application/vnd.jupyter.widget-view+json": {
       "model_id": "4e3d73cbd0184c53ab8bc00cd9642289",
       "version_major": 2,
       "version_minor": 0
      },
      "text/plain": [
       "  0%|          | 0/182 [00:00<?, ?it/s]"
      ]
     },
     "metadata": {},
     "output_type": "display_data"
    },
    {
     "data": {
      "application/vnd.jupyter.widget-view+json": {
       "model_id": "e7e9346c0b574927bda5833bfe36ca5c",
       "version_major": 2,
       "version_minor": 0
      },
      "text/plain": [
       "  0%|          | 0/291 [00:00<?, ?it/s]"
      ]
     },
     "metadata": {},
     "output_type": "display_data"
    },
    {
     "data": {
      "application/vnd.jupyter.widget-view+json": {
       "model_id": "b91ef67c69d643b2b006a14a051be663",
       "version_major": 2,
       "version_minor": 0
      },
      "text/plain": [
       "  0%|          | 0/348 [00:00<?, ?it/s]"
      ]
     },
     "metadata": {},
     "output_type": "display_data"
    }
   ],
   "source": [
    "df = pd.DataFrame()\n",
    "for i in range(len(target_lanels)):\n",
    "    files = class_files[i]\n",
    "    label = target_lanels[i]\n",
    "    df_ = utils.read_clones_txt(files, clones_txt_dict= None, normalize_read_count = None,)\n",
    "    df_[\"class\"] = label\n",
    "    df = pd.concat([df, df_])"
   ]
  },
  {
   "cell_type": "code",
   "execution_count": 38,
   "id": "8b91e423",
   "metadata": {},
   "outputs": [],
   "source": [
    "topn = 10"
   ]
  },
  {
   "cell_type": "code",
   "execution_count": 39,
   "id": "6bf7b488",
   "metadata": {},
   "outputs": [],
   "source": [
    "df_hyper = []\n",
    "df_lymph = []\n",
    "files = []\n",
    "for i, group in df.groupby(\"clones.txt.name\"):\n",
    "    group = group.sort_values(by = \"cloneId\")\n",
    "    group = group.iloc[:topn]\n",
    "    #group = group[group['vBestIdentityPercent'].notna()]\n",
    "    hyper_group = group[group.vBestIdentityPercent < 0.98]\n",
    "    per = np.sum(hyper_group.cloneFraction)\n",
    "    df_hyper.append(per)\n",
    "    df_lymph.append(group[\"class\"].iloc[0])\n",
    "    files.append(i)"
   ]
  },
  {
   "cell_type": "code",
   "execution_count": 40,
   "id": "f226ee2e",
   "metadata": {},
   "outputs": [],
   "source": [
    "df_hyp = pd.DataFrame({\"hyper\": df_hyper, \"class\": df_lymph, \"file\":files})\n",
    "df_hyp[\"hyper\"] = df_hyp[\"hyper\"]  * 100\n",
    "custom_order = ['HD', 'NLPHL', 'DLBCL', 'CLL']\n",
    "sorting_key = df_hyp['class'].map(lambda x: custom_order.index(x))\n",
    "df_hyp = df_hyp.iloc[sorting_key.argsort()]"
   ]
  },
  {
   "cell_type": "code",
   "execution_count": 41,
   "id": "315fd776",
   "metadata": {},
   "outputs": [],
   "source": [
    "SAVE_PLOTS = False"
   ]
  },
  {
   "cell_type": "code",
   "execution_count": 42,
   "id": "48f1d36c",
   "metadata": {},
   "outputs": [
    {
     "name": "stdout",
     "output_type": "stream",
     "text": [
      "HD NLPHL\n",
      "HD DLBCL\n",
      "HD CLL\n",
      "NLPHL DLBCL\n",
      "NLPHL CLL\n",
      "DLBCL CLL\n"
     ]
    },
    {
     "data": {
      "image/png": "[encoded data removed]",
      "text/plain": [
       "<Figure size 1000x666 with 1 Axes>"
      ]
     },
     "metadata": {},
     "output_type": "display_data"
    }
   ],
   "source": [
    "fig, ax = plt.subplots(figsize=(10,6.66))\n",
    "#sns.violinplot(data=X, x=\"Class\", y=\"richness\", ax=ax, width = 0.9, color=\"C0\", scale=\"count\", cut=0)\n",
    "pt.RainCloud(x = \"class\", y = \"hyper\", data = df_hyp,scale = \"count\", cut=0,\n",
    "                     width_viol = 1, width_box=0.3, offset=0.2,ax = ax, pointplot = False, \n",
    "             alpha = .8, dodge = True, palette=[\"C0\"])\n",
    "significant_combinations = []\n",
    "classes = df_hyp[\"class\"].unique()\n",
    "class_index_dict  = {}\n",
    "for i,c in enumerate(classes):\n",
    "    class_index_dict[c] = i\n",
    "combinations = itertools.combinations(classes,2)\n",
    "\n",
    "for i, j in list(combinations):\n",
    "    print(i,j)\n",
    "    data1 = df_hyp[df_hyp[\"class\"] == i].hyper\n",
    "    data2 = df_hyp[df_hyp[\"class\"] == j].hyper\n",
    "    \n",
    "    # Significance\n",
    "    U, p = stats.mannwhitneyu(data1, data2, alternative='two-sided')\n",
    "    #if p < 0.05:\n",
    "    significant_combinations.append([(i,j), p])\n",
    "      \n",
    "bottom, top = ax.get_ylim()\n",
    "y_range = top - bottom\n",
    "# Significance bars\n",
    "for i, significant_combination in enumerate(significant_combinations):   \n",
    "    # Columns corresponding to the datasets of interest\n",
    "    x1 = significant_combination[0][0]\n",
    "    x2 = significant_combination[0][1]\n",
    "    # What level is this bar among the bars above the plot?\n",
    "    level = len(significant_combinations) - i\n",
    "    # Plot the bar\n",
    "    bar_height = (y_range * 0.06 * level) + top\n",
    "    bar_tips = bar_height - (y_range * 0.02)\n",
    "    plt.plot(\n",
    "        [x1, x1, x2, x2],\n",
    "        [bar_tips, bar_height, bar_height, bar_tips], lw=1.5, c='k',clip_on=False\n",
    "    )\n",
    "    # Significance level\n",
    "    p = significant_combination[1]\n",
    "    if p < 0.001:\n",
    "        sig_symbol = '***'\n",
    "    elif p < 0.01:\n",
    "        sig_symbol = '**'\n",
    "    elif p < 0.05:\n",
    "        sig_symbol = '*'\n",
    "    else:\n",
    "        sig_symbol = ''\n",
    "    text_height = bar_height*0.99\n",
    "    plt.text((class_index_dict[x1] + class_index_dict[x2]) * 0.5, text_height, sig_symbol, ha='center', va='bottom', c='k', fontsize=15)\n",
    "\n",
    "yticks = []\n",
    "for tick in ax.get_yticklabels():\n",
    "    tick_text = tick.get_text()\n",
    "    tick_number = float(tick.get_text().replace('−', '-'))\n",
    "    if tick_number >100:\n",
    "        yticks.append(\"\")\n",
    "    else:\n",
    "        yticks.append(tick_text)\n",
    "ax.set_xticks([-0.8, 0, 1, 2, 3, 3.4])\n",
    "ax.set_yticklabels(list(yticks))\n",
    "    \n",
    "ax.set_ylim(0-100*0.1,100 + 100 * 0.1)\n",
    "ax.spines[['top']].set_visible(False)\n",
    "ax.spines[['right', 'bottom','left']].set_linewidth(2)\n",
    "ax.tick_params(axis='both', labelsize=20)\n",
    "ax.set_ylabel(\"% Hypermutation\",fontsize=25)\n",
    "ax.set_xlabel(\"\", fontsize=18)\n",
    "#ax.set_yscale('log')\n",
    "\n",
    "if SAVE_PLOTS:\n",
    "    #plt.savefig('hypermutation.svg', format=\"svg\", bbox_inches='tight')\n",
    "    plt.rcParams['svg.fonttype'] = 'none'\n",
    "    plt.savefig(\"topn_hypermutation.svg\", format=\"svg\", bbox_inches=\"tight\")"
   ]
  },
  {
   "cell_type": "markdown",
   "id": "8c892aa6",
   "metadata": {},
   "source": [
    "## Data Origin"
   ]
  },
  {
   "cell_type": "code",
   "execution_count": 29,
   "id": "d7d6fff4",
   "metadata": {},
   "outputs": [],
   "source": [
    "comparison_labels = ['NLPBL', 'DLBCL', 'HD', 'CLL']"
   ]
  },
  {
   "cell_type": "code",
   "execution_count": 30,
   "id": "f4bd65ba",
   "metadata": {},
   "outputs": [],
   "source": [
    "data_files = {}\n",
    "for i in class_files.keys():\n",
    "    data_files[comparison_labels[i]] = [x.split(\"/\")[-1] for x in class_files[i]]"
   ]
  },
  {
   "cell_type": "code",
   "execution_count": 31,
   "id": "6a60c0cb",
   "metadata": {},
   "outputs": [],
   "source": [
    "xl_meta_file = pd.ExcelFile(\"/Users/labadmin/Projects/NEU_Zuordnungen_mitMIAIRR_29.02.2024.xlsx\")\n",
    "xl_dfs = {s: xl_meta_file.parse(s) for s in xl_meta_file.sheet_names}\n",
    "db = xl_dfs[\"Zuordnungen_mitMIAIRR\"]\n",
    "db.dropna(axis=1, how='all', inplace=True)"
   ]
  },
  {
   "cell_type": "code",
   "execution_count": 32,
   "id": "00d03f79",
   "metadata": {},
   "outputs": [],
   "source": [
    "data_table = pd.DataFrame()\n",
    "for key in data_files.keys():\n",
    "    df_i = db[db[\"clones.txt.name\"].isin(data_files[key])].copy()\n",
    "    df_i.sort_values(by = \"subject_id\")\n",
    "    df_i = df_i[[\"clones.txt.name\", \"subject_id\", \"tissue\"]]\n",
    "    df_i[\"cohort\"] = key\n",
    "    data_table = pd.concat([data_table, df_i])"
   ]
  },
  {
   "cell_type": "code",
   "execution_count": 33,
   "id": "4f64145e",
   "metadata": {},
   "outputs": [],
   "source": [
    "df = pd.DataFrame()\n",
    "for key in class_files.keys():\n",
    "    for file in class_files[key]:\n",
    "        df_i = pd.read_csv(file, sep=\"\\t\")\n",
    "        df_i[\"clones.txt.name\"] = os.path.basename(file)\n",
    "        df = pd.concat([df, df_i])"
   ]
  },
  {
   "cell_type": "code",
   "execution_count": 34,
   "id": "a785e48d",
   "metadata": {},
   "outputs": [],
   "source": [
    "reads = df.groupby(\"clones.txt.name\")[\"cloneCount\"].sum().reset_index(name='total_reads')\n",
    "richness = df.groupby(\"clones.txt.name\").apply(lambda x: len(x[\"aaSeqCDR3\"].unique())).reset_index(name='richness')\n",
    "clonality = df.groupby(\"clones.txt.name\").apply(lambda x: utils.get_clonset_info(x, \"clonality\")).reset_index(name='clonality')\n",
    "shannon = df.groupby(\"clones.txt.name\").apply(lambda x: utils.get_clonset_info(x, \"shannon\")).reset_index(name='shannon')\n",
    "hypermutation = df.groupby(\"clones.txt.name\").apply(lambda x: utils.get_clonset_info(x, \"hypermutation\")).reset_index(name='hypermutatedFraction')"
   ]
  },
  {
   "cell_type": "code",
   "execution_count": 35,
   "id": "65961343",
   "metadata": {},
   "outputs": [],
   "source": [
    "df = df.merge(reads, on = \"clones.txt.name\")\n",
    "df = df.merge(richness, on = \"clones.txt.name\")\n",
    "df = df.merge(clonality, on = \"clones.txt.name\")\n",
    "df = df.merge(shannon, on = \"clones.txt.name\")\n",
    "df = df.merge(hypermutation, on = \"clones.txt.name\")"
   ]
  },
  {
   "cell_type": "code",
   "execution_count": 36,
   "id": "74a29ab3",
   "metadata": {},
   "outputs": [],
   "source": [
    "data_metric_info = df.groupby(\"clones.txt.name\").first().reset_index()"
   ]
  },
  {
   "cell_type": "code",
   "execution_count": 37,
   "id": "509be22b",
   "metadata": {},
   "outputs": [
    {
     "data": {
      "text/plain": [
       "Index(['clones.txt.name', 'cloneId', 'cloneCount', 'cloneFraction', 'nSeqCDR3',\n",
       "       'aaSeqCDR3', 'bestVGene', 'bestDGene', 'bestJGene',\n",
       "       'vBestIdentityPercent', 'lengthOfCDR3', 'targetSequences', 'allVGenes',\n",
       "       'allDGenes', 'allJGenes', 'allVHits', 'allDHits', 'allJHits',\n",
       "       'allVAlignments', 'allDAlignments', 'allJAlignments', 'KF1', 'KF2',\n",
       "       'KF3', 'KF4', 'KF5', 'KF6', 'KF7', 'KF8', 'KF9', 'KF10',\n",
       "       'dBestIdentityPercent', 'jBestIdentityPercent', 'aaSeqCDR2',\n",
       "       'aaSeqCDR1', 'aaSeqFR2', 'aaSeqFR3', 'aaSeqFR4',\n",
       "       'aaSeqImputedVDJRegion', 'total_reads', 'richness', 'clonality',\n",
       "       'shannon', 'hypermutatedFraction'],\n",
       "      dtype='object')"
      ]
     },
     "execution_count": 37,
     "metadata": {},
     "output_type": "execute_result"
    }
   ],
   "source": [
    "data_metric_info.columns"
   ]
  },
  {
   "cell_type": "code",
   "execution_count": 38,
   "id": "9a315b78",
   "metadata": {},
   "outputs": [
    {
     "data": {
      "text/html": [
       "<div>\n",
       "<style scoped>\n",
       "    .dataframe tbody tr th:only-of-type {\n",
       "        vertical-align: middle;\n",
       "    }\n",
       "\n",
       "    .dataframe tbody tr th {\n",
       "        vertical-align: top;\n",
       "    }\n",
       "\n",
       "    .dataframe thead th {\n",
       "        text-align: right;\n",
       "    }\n",
       "</style>\n",
       "<table border=\"1\" class=\"dataframe\">\n",
       "  <thead>\n",
       "    <tr style=\"text-align: right;\">\n",
       "      <th></th>\n",
       "      <th>clones.txt.name</th>\n",
       "      <th>total_reads</th>\n",
       "      <th>richness</th>\n",
       "      <th>clonality</th>\n",
       "      <th>shannon</th>\n",
       "      <th>hypermutatedFraction</th>\n",
       "    </tr>\n",
       "  </thead>\n",
       "  <tbody>\n",
       "    <tr>\n",
       "      <th>0</th>\n",
       "      <td>101-D0-Ig-gDNA-PB-Nuray-A250_S240.clones.txt</td>\n",
       "      <td>40599</td>\n",
       "      <td>195</td>\n",
       "      <td>0.081108</td>\n",
       "      <td>6.990317</td>\n",
       "      <td>0.086102</td>\n",
       "    </tr>\n",
       "    <tr>\n",
       "      <th>1</th>\n",
       "      <td>101-D28-Ig-gDNA-PB-Nuray-A250_S190.clones.txt</td>\n",
       "      <td>39073</td>\n",
       "      <td>4030</td>\n",
       "      <td>0.043305</td>\n",
       "      <td>11.457920</td>\n",
       "      <td>0.193221</td>\n",
       "    </tr>\n",
       "    <tr>\n",
       "      <th>2</th>\n",
       "      <td>105-D0-Ig-gDNA-PB-Nuray-A250_S179.clones.txt</td>\n",
       "      <td>99392</td>\n",
       "      <td>2619</td>\n",
       "      <td>0.049125</td>\n",
       "      <td>10.796991</td>\n",
       "      <td>0.197785</td>\n",
       "    </tr>\n",
       "    <tr>\n",
       "      <th>3</th>\n",
       "      <td>105-D14-Ig-gDNA-human-Nuray_S59.clones.txt</td>\n",
       "      <td>19236</td>\n",
       "      <td>3636</td>\n",
       "      <td>0.028911</td>\n",
       "      <td>11.486175</td>\n",
       "      <td>0.151463</td>\n",
       "    </tr>\n",
       "    <tr>\n",
       "      <th>4</th>\n",
       "      <td>105-D7-Ig-gDNA-human-Nuray_S58.clones.txt</td>\n",
       "      <td>18515</td>\n",
       "      <td>237</td>\n",
       "      <td>0.072602</td>\n",
       "      <td>7.316003</td>\n",
       "      <td>0.198312</td>\n",
       "    </tr>\n",
       "    <tr>\n",
       "      <th>...</th>\n",
       "      <td>...</td>\n",
       "      <td>...</td>\n",
       "      <td>...</td>\n",
       "      <td>...</td>\n",
       "      <td>...</td>\n",
       "      <td>...</td>\n",
       "    </tr>\n",
       "    <tr>\n",
       "      <th>906</th>\n",
       "      <td>Simon-Ig-CLL-I3P_S200.clones.txt</td>\n",
       "      <td>63622</td>\n",
       "      <td>14</td>\n",
       "      <td>0.752524</td>\n",
       "      <td>0.942228</td>\n",
       "      <td>0.000031</td>\n",
       "    </tr>\n",
       "    <tr>\n",
       "      <th>907</th>\n",
       "      <td>Svenja-IGH-HD121-28-10-2020_S161.clones.txt</td>\n",
       "      <td>142435</td>\n",
       "      <td>2213</td>\n",
       "      <td>0.038640</td>\n",
       "      <td>10.682427</td>\n",
       "      <td>0.218488</td>\n",
       "    </tr>\n",
       "    <tr>\n",
       "      <th>908</th>\n",
       "      <td>Svenja-IGH-HD128_S162.clones.txt</td>\n",
       "      <td>53739</td>\n",
       "      <td>1604</td>\n",
       "      <td>0.038696</td>\n",
       "      <td>10.235439</td>\n",
       "      <td>0.538559</td>\n",
       "    </tr>\n",
       "    <tr>\n",
       "      <th>909</th>\n",
       "      <td>Svenja-IGH-HD129_S163.clones.txt</td>\n",
       "      <td>94323</td>\n",
       "      <td>2771</td>\n",
       "      <td>0.034550</td>\n",
       "      <td>11.041065</td>\n",
       "      <td>0.301457</td>\n",
       "    </tr>\n",
       "    <tr>\n",
       "      <th>910</th>\n",
       "      <td>TWOIST-20-08-2015-Ig-DNA-Chris-m-binder-A250-M...</td>\n",
       "      <td>52490</td>\n",
       "      <td>21</td>\n",
       "      <td>0.983735</td>\n",
       "      <td>0.071440</td>\n",
       "      <td>0.000438</td>\n",
       "    </tr>\n",
       "  </tbody>\n",
       "</table>\n",
       "<p>911 rows × 6 columns</p>\n",
       "</div>"
      ],
      "text/plain": [
       "                                       clones.txt.name  total_reads  richness  \\\n",
       "0         101-D0-Ig-gDNA-PB-Nuray-A250_S240.clones.txt        40599       195   \n",
       "1        101-D28-Ig-gDNA-PB-Nuray-A250_S190.clones.txt        39073      4030   \n",
       "2         105-D0-Ig-gDNA-PB-Nuray-A250_S179.clones.txt        99392      2619   \n",
       "3           105-D14-Ig-gDNA-human-Nuray_S59.clones.txt        19236      3636   \n",
       "4            105-D7-Ig-gDNA-human-Nuray_S58.clones.txt        18515       237   \n",
       "..                                                 ...          ...       ...   \n",
       "906                   Simon-Ig-CLL-I3P_S200.clones.txt        63622        14   \n",
       "907        Svenja-IGH-HD121-28-10-2020_S161.clones.txt       142435      2213   \n",
       "908                   Svenja-IGH-HD128_S162.clones.txt        53739      1604   \n",
       "909                   Svenja-IGH-HD129_S163.clones.txt        94323      2771   \n",
       "910  TWOIST-20-08-2015-Ig-DNA-Chris-m-binder-A250-M...        52490        21   \n",
       "\n",
       "     clonality    shannon  hypermutatedFraction  \n",
       "0     0.081108   6.990317              0.086102  \n",
       "1     0.043305  11.457920              0.193221  \n",
       "2     0.049125  10.796991              0.197785  \n",
       "3     0.028911  11.486175              0.151463  \n",
       "4     0.072602   7.316003              0.198312  \n",
       "..         ...        ...                   ...  \n",
       "906   0.752524   0.942228              0.000031  \n",
       "907   0.038640  10.682427              0.218488  \n",
       "908   0.038696  10.235439              0.538559  \n",
       "909   0.034550  11.041065              0.301457  \n",
       "910   0.983735   0.071440              0.000438  \n",
       "\n",
       "[911 rows x 6 columns]"
      ]
     },
     "execution_count": 38,
     "metadata": {},
     "output_type": "execute_result"
    }
   ],
   "source": [
    "data_metric_info[[\"clones.txt.name\", \"total_reads\", \"richness\", \"clonality\", \"shannon\", \"hypermutatedFraction\"]]"
   ]
  },
  {
   "cell_type": "code",
   "execution_count": 39,
   "id": "03b191e6",
   "metadata": {},
   "outputs": [],
   "source": [
    "data_table = data_table.merge(data_metric_info[[\"clones.txt.name\", \"total_reads\", \"richness\", \"clonality\", \"shannon\", \"hypermutatedFraction\"]], on = \"clones.txt.name\")"
   ]
  },
  {
   "cell_type": "markdown",
   "id": "edc821fd",
   "metadata": {},
   "source": [
    "### 29. NLPBL cases "
   ]
  },
  {
   "cell_type": "code",
   "execution_count": 40,
   "id": "54bfd7d7",
   "metadata": {},
   "outputs": [],
   "source": [
    "xl_meta_file = pd.ExcelFile(\"/Volumes/tuim$/TUIM/shared/UKH_Ordner/LisaS/X_abgeschlossene_Projekte/NLPHL/Samples_NLPHL.xlsx\")\n",
    "xl_dfs = {s: xl_meta_file.parse(s) for s in xl_meta_file.sheet_names}\n",
    "used_nlpbl_samples = xl_dfs[\"Tabelle1\"]\n",
    "used_nlpbl_samples.dropna(axis=1, how='all', inplace=True)\n",
    "used_nlpbl_samples.columns = list(used_nlpbl_samples.iloc[1])\n",
    "used_nlpbl_samples = used_nlpbl_samples.iloc[2:]"
   ]
  },
  {
   "cell_type": "code",
   "execution_count": 41,
   "id": "149915ae",
   "metadata": {},
   "outputs": [],
   "source": [
    "used_nlpbl_samples_files = used_nlpbl_samples.Dateiname.dropna()\n",
    "used_nlpbl_samples_files = list(used_nlpbl_samples_files[used_nlpbl_samples_files.apply(lambda x: \"_hs_\" in str(x))])"
   ]
  },
  {
   "cell_type": "code",
   "execution_count": 42,
   "id": "a41a64f9",
   "metadata": {},
   "outputs": [],
   "source": [
    "paper_occurance = []\n",
    "found_samples = 0\n",
    "for i,file in enumerate(data_table[\"clones.txt.name\"]):\n",
    "    file = file.replace(\"-\", \"_\")\n",
    "    papers = [] \n",
    "    for j in used_nlpbl_samples_files:\n",
    "        j_ = j.replace(\"-\", \"_\")\n",
    "        if j_ in file:\n",
    "            used_nlpbl_samples_files.remove(j)\n",
    "            found_samples += 1\n",
    "            papers.append(29)\n",
    "            break\n",
    "\n",
    "    paper_occurance.append(str(papers))"
   ]
  },
  {
   "cell_type": "code",
   "execution_count": 43,
   "id": "f5c77fa6",
   "metadata": {},
   "outputs": [],
   "source": [
    "data_table[\"papers\"] = paper_occurance"
   ]
  },
  {
   "cell_type": "code",
   "execution_count": null,
   "id": "2f078893",
   "metadata": {},
   "outputs": [],
   "source": [
    "data_table.loc[data_table.subject_id.isin(data_table[data_table.papers == \"[29]\"].subject_id), \"papers\"] = \"[29]\""
   ]
  },
  {
   "cell_type": "markdown",
   "id": "4a30413e",
   "metadata": {},
   "source": [
    "### 37. Loewenkids paper"
   ]
  },
  {
   "cell_type": "code",
   "execution_count": 44,
   "id": "82204bc2",
   "metadata": {},
   "outputs": [],
   "source": [
    "xl_meta_file = pd.ExcelFile(\"/Volumes/tuim$/TUIM/shared/UKH_Ordner/LisaS/LoewenKids/Altersgruppen/Kontrollkohorte-reine-HDs/immundb_igh_HD.xlsx\")\n",
    "xl_dfs = {s: xl_meta_file.parse(s) for s in xl_meta_file.sheet_names}\n",
    "loewen_df = xl_dfs[\"Sheet 1\"]\n",
    "loewen_df.dropna(axis=1, how='all', inplace=True)"
   ]
  },
  {
   "cell_type": "code",
   "execution_count": 45,
   "id": "eb247da3",
   "metadata": {},
   "outputs": [],
   "source": [
    "for i,row in data_table[data_table[\"clones.txt.name\"].isin(loewen_df[\"clones.txt.name\"])].iterrows():\n",
    "    data_table.loc[i, \"papers\"] = str(eval(data_table.loc[i, \"papers\"]) + [37])"
   ]
  },
  {
   "cell_type": "markdown",
   "id": "cec3b700",
   "metadata": {},
   "source": [
    "### 38. HACO and DigiHero"
   ]
  },
  {
   "cell_type": "code",
   "execution_count": 51,
   "id": "61a521d1",
   "metadata": {},
   "outputs": [
    {
     "data": {
      "text/plain": [
       "'/Volumes/tuim$/TUIM/Christoph/1_Projects/COVID-19/10 - DigiHero/2_Booster_hybrid_immunity/BNT_MOD_CoV2_Impfung_2020.xlsx'"
      ]
     },
     "execution_count": 51,
     "metadata": {},
     "output_type": "execute_result"
    }
   ],
   "source": [
    "\"/Volumes/tuim$/TUIM/Christoph/1_Projects/COVID-19/10 - DigiHero/2_Booster_hybrid_immunity/BNT_MOD_CoV2_Impfung_2020.xlsx\""
   ]
  },
  {
   "cell_type": "code",
   "execution_count": 55,
   "id": "c14b0197",
   "metadata": {},
   "outputs": [],
   "source": [
    "booster_samples = db[db[\"clones.txt.name\"].apply(lambda x: \"bnt\" in x.lower() if not pd.isna(x) else False)]\n",
    "haco_samples = db[db[\"clones.txt.name\"].apply(lambda x: \"haco\" in x.lower() if not pd.isna(x) else False)]"
   ]
  },
  {
   "cell_type": "code",
   "execution_count": 58,
   "id": "5494385e",
   "metadata": {},
   "outputs": [],
   "source": [
    "covid_samples = list(booster_samples[\"clones.txt.name\"]) + list(haco_samples[\"clones.txt.name\"])"
   ]
  },
  {
   "cell_type": "code",
   "execution_count": 59,
   "id": "d4dfb965",
   "metadata": {},
   "outputs": [],
   "source": [
    "for i,row in data_table[data_table[\"clones.txt.name\"].isin(covid_samples)].iterrows():\n",
    "    data_table.loc[i, \"papers\"] = str(eval(data_table.loc[i, \"papers\"]) + [38])"
   ]
  },
  {
   "cell_type": "markdown",
   "id": "86b869ab",
   "metadata": {},
   "source": [
    "### 39. CLL"
   ]
  },
  {
   "cell_type": "code",
   "execution_count": 69,
   "id": "359b94fa",
   "metadata": {},
   "outputs": [],
   "source": [
    "xl_meta_file = pd.ExcelFile(\"/Volumes/tuim$/TUIM/shared/UKH_Ordner/LisaS/X_abgeschlossene_Projekte/CLL_R110_clonal_evolution/Pat_Listen/CLL_cohort_überischt_katrin_n167.xlsx\")\n",
    "xl_dfs = {s: xl_meta_file.parse(s) for s in xl_meta_file.sheet_names}\n",
    "used_cll_samples = xl_dfs[\"unique CLL\"]"
   ]
  },
  {
   "cell_type": "code",
   "execution_count": 74,
   "id": "568e6087",
   "metadata": {},
   "outputs": [],
   "source": [
    "cll_samples_ids = list(used_cll_samples[\"Unique identifier\"].dropna())"
   ]
  },
  {
   "cell_type": "code",
   "execution_count": 76,
   "id": "80532711",
   "metadata": {},
   "outputs": [],
   "source": [
    "for i,row in data_table[data_table[\"subject_id\"].isin(cll_samples_ids)].iterrows():\n",
    "    data_table.loc[i, \"papers\"] = str(eval(data_table.loc[i, \"papers\"]) + [39])"
   ]
  },
  {
   "cell_type": "markdown",
   "id": "620bf992",
   "metadata": {},
   "source": [
    "### 40. Rearrangements by Covid19"
   ]
  },
  {
   "cell_type": "code",
   "execution_count": 79,
   "id": "bb7008b0",
   "metadata": {},
   "outputs": [
    {
     "data": {
      "text/plain": [
       "'/Volumes/tuim$/TUIM/shared/UKH_Ordner/LisaS/X_abgeschlossene_Projekte/COVID19_2_BCR_JCI/Kohorten'"
      ]
     },
     "execution_count": 79,
     "metadata": {},
     "output_type": "execute_result"
    }
   ],
   "source": [
    "\"/Volumes/tuim$/TUIM/shared/UKH_Ordner/LisaS/X_abgeschlossene_Projekte/COVID19_2_BCR_JCI/Kohorten\""
   ]
  },
  {
   "cell_type": "code",
   "execution_count": 80,
   "id": "66c07aa9",
   "metadata": {},
   "outputs": [],
   "source": [
    "covid_study_samples = pd.read_csv(\"covid_study_samples.csv\")"
   ]
  },
  {
   "cell_type": "code",
   "execution_count": 81,
   "id": "4dbc8800",
   "metadata": {},
   "outputs": [],
   "source": [
    "for i,row in data_table[data_table[\"clones.txt.name\"].isin(covid_study_samples[\"clones.txt.name\"].unique())].iterrows():\n",
    "    data_table.loc[i, \"papers\"] = str(eval(data_table.loc[i, \"papers\"]) + [40])"
   ]
  },
  {
   "cell_type": "code",
   "execution_count": 96,
   "id": "058389af",
   "metadata": {},
   "outputs": [],
   "source": [
    "xl_meta_file = pd.ExcelFile(\"/Volumes/tuim$/TUIM/shared/UKH_Ordner/LisaS/X_abgeschlossene_Projekte/COVID19_2_BCR_JCI/Kohorten/norm-Cancer-solid.xlsx\")\n",
    "xl_dfs = {s: xl_meta_file.parse(s) for s in xl_meta_file.sheet_names}\n",
    "used_solid_samples = xl_dfs[\"Tabelle1\"]"
   ]
  },
  {
   "cell_type": "code",
   "execution_count": 102,
   "id": "744fd5bd",
   "metadata": {},
   "outputs": [],
   "source": [
    "xl_meta_file = pd.ExcelFile(\"/Volumes/tuim$/TUIM/shared/UKH_Ordner/LisaS/X_abgeschlossene_Projekte/COVID19_2_BCR_JCI/Kohorten/norm-Cancer-blood.xlsx\")\n",
    "xl_dfs = {s: xl_meta_file.parse(s) for s in xl_meta_file.sheet_names}\n",
    "used_blood_samples = xl_dfs[\"Tabelle1\"]"
   ]
  },
  {
   "cell_type": "code",
   "execution_count": 104,
   "id": "ab59ca27",
   "metadata": {},
   "outputs": [
    {
     "data": {
      "text/plain": [
       "array(['CLL'], dtype=object)"
      ]
     },
     "execution_count": 104,
     "metadata": {},
     "output_type": "execute_result"
    }
   ],
   "source": [
    "data_table[data_table[\"clones.txt.name\"].isin(used_blood_samples[\"filename\"])]"
   ]
  },
  {
   "cell_type": "markdown",
   "id": "8bc66a04",
   "metadata": {},
   "source": [
    "### 41. NGS T and B HD cohort"
   ]
  },
  {
   "cell_type": "code",
   "execution_count": 90,
   "id": "47f45f85",
   "metadata": {},
   "outputs": [
    {
     "data": {
      "text/plain": [
       "'/Volumes/tuim$/TUIM/Christoph/1_Projects/COVID-19/1 - Manuscript'"
      ]
     },
     "execution_count": 90,
     "metadata": {},
     "output_type": "execute_result"
    }
   ],
   "source": [
    "\"/Volumes/tuim$/TUIM/Christoph/1_Projects/COVID-19/1 - Manuscript\""
   ]
  },
  {
   "cell_type": "code",
   "execution_count": 93,
   "id": "334eb4ac",
   "metadata": {},
   "outputs": [],
   "source": [
    "hd_subjects = [f\"HD00{x+1}\" if x+1 < 10 else f\"HD0{x+1}\" for x in range(39)]"
   ]
  },
  {
   "cell_type": "code",
   "execution_count": 103,
   "id": "fc75e79d",
   "metadata": {},
   "outputs": [],
   "source": [
    "for i,row in data_table[data_table.subject_id.apply(lambda x: x.replace(\"-\",\"\") in hd_subjects if not pd.isna(x) else False)].iterrows():\n",
    "    data_table.loc[i, \"papers\"] = str(eval(data_table.loc[i, \"papers\"]) + [41])"
   ]
  },
  {
   "cell_type": "markdown",
   "id": "7ffcc5e3",
   "metadata": {},
   "source": [
    "### 42.  Maturation Trajectories"
   ]
  },
  {
   "cell_type": "code",
   "execution_count": null,
   "id": "dbe10606",
   "metadata": {},
   "outputs": [],
   "source": [
    "\"10 healthy individuals vaccinated with the seasonal influenza vaccine\""
   ]
  },
  {
   "cell_type": "code",
   "execution_count": 123,
   "id": "63d33092",
   "metadata": {},
   "outputs": [],
   "source": [
    "vacc_hds = [\"HD003\", \"HD79\", \"HD91\", \"HD125\", \"HD154\", \"HD155\"]"
   ]
  },
  {
   "cell_type": "code",
   "execution_count": 134,
   "id": "cc7677de",
   "metadata": {},
   "outputs": [
    {
     "data": {
      "text/plain": [
       "['HD003', 'HD79', 'HD91', 'HD125', 'HD154', 'HD155']"
      ]
     },
     "execution_count": 134,
     "metadata": {},
     "output_type": "execute_result"
    }
   ],
   "source": [
    "vacc_hds"
   ]
  },
  {
   "cell_type": "code",
   "execution_count": 136,
   "id": "70c323d4",
   "metadata": {},
   "outputs": [],
   "source": [
    "#vacc_hd_samples = db[(db.subject_id.isin(vacc_hds)) & (db.run_id == \"ML127_2_Binder21_210129\")]\n",
    "vacc_hd_samples = db[(db.subject_id.isin(vacc_hds))]"
   ]
  },
  {
   "cell_type": "code",
   "execution_count": 138,
   "id": "a9dfa7ea",
   "metadata": {},
   "outputs": [],
   "source": [
    "for i,row in data_table[data_table[\"clones.txt.name\"].isin(vacc_hd_samples[\"clones.txt.name\"].unique())].iterrows():\n",
    "    data_table.loc[i, \"papers\"] = str(eval(data_table.loc[i, \"papers\"]) + [42])"
   ]
  },
  {
   "cell_type": "markdown",
   "id": "117a9199",
   "metadata": {},
   "source": [
    "### 43. SLAMF receptors "
   ]
  },
  {
   "cell_type": "code",
   "execution_count": null,
   "id": "87d045f4",
   "metadata": {},
   "outputs": [],
   "source": [
    "possible_run_ids = ['151207_M04267_0001_000000000-AKNDT',\n",
    "       '160210_M04267_0002_000000000-AMDP1',\n",
    "       '160322_M04267_0003_000000000-ALHW9',\n",
    "       '160513_M04267_0004_000000000-ANUR2',\n",
    "       '160614_M04267_0005_000000000-APPCB',\n",
    "       '160901_M04267_0006_000000000-ARKY1',\n",
    "       '161213_M04267_0008_000000000-AY7FN',\n",
    "       '170224_M04267_0010_000000000-B467K',\n",
    "       '170330_M04267_0012_000000000-B4C99',\n",
    "       '170615_M04267_0015_000000000-B5BM3',\n",
    "       '170720_M04267_0016_000000000-B832Y',\n",
    "       '170908_M04267_0018_000000000-BBN75',\n",
    "       '171019_M04267_0019_000000000-BD5JH',\n",
    "       '171208_M04267_0021_000000000-BFJW8',\n",
    "       '180201_M04267_0023_000000000-BGTD4',\n",
    "       '180626_M04267_0028_000000000-BPR2V', 'ML90_Binder2_190208', 'ML91_Binder3_190325',\"ML95_Binder4_190510\", \n",
    "       'ML99_Binder5_190708', 'ML100_Binder6_190719','ML103_Binder7_190920', 'ML106_Binder8_191112', 'ML107_Binder9_191219',\n",
    "       'ML108_Binder10_200220']"
   ]
  },
  {
   "cell_type": "code",
   "execution_count": null,
   "id": "b97b1ade",
   "metadata": {},
   "outputs": [],
   "source": [
    "possible_cll_files = db[(db.disease_diagnosis == \"cll\") & (db.run_id.isin(possible_run_ids)) & (db.pcr_target_locus == \"IGH\")\n",
    "  & (db.study_title == \"cll\")]"
   ]
  },
  {
   "cell_type": "code",
   "execution_count": null,
   "id": "d83cf7a6",
   "metadata": {},
   "outputs": [],
   "source": [
    "for i,row in data_table[data_table[\"clones.txt.name\"].isin(possible_cll_files[\"clones.txt.name\"].unique())].iterrows():\n",
    "    data_table.loc[i, \"papers\"] = str(eval(data_table.loc[i, \"papers\"]) + [43])"
   ]
  },
  {
   "cell_type": "markdown",
   "id": "c4e9b10a",
   "metadata": {},
   "source": [
    "### 44. T-cell architecture in autoimmune  hepatitis. HDs"
   ]
  },
  {
   "cell_type": "code",
   "execution_count": null,
   "id": "90c9040d",
   "metadata": {},
   "outputs": [],
   "source": [
    "hds = pd.read_csv(\"/Volumes/tuim$/TUIM/Christoph/1_Projects/AIH/clones-txt/hd_igh_all.csv\",header=None)"
   ]
  },
  {
   "cell_type": "code",
   "execution_count": null,
   "id": "e33a0c1d",
   "metadata": {},
   "outputs": [],
   "source": [
    "for i,row in data_table[data_table[\"clones.txt.name\"].isin(hds[0].unique())].iterrows():\n",
    "    data_table.loc[i, \"papers\"] = str(eval(data_table.loc[i, \"papers\"]) + [44])"
   ]
  },
  {
   "cell_type": "markdown",
   "id": "8c2a610a",
   "metadata": {},
   "source": [
    "### 45. autoimmune cytopenias"
   ]
  },
  {
   "cell_type": "code",
   "execution_count": null,
   "id": "2325202a",
   "metadata": {},
   "outputs": [],
   "source": [
    "hds_clls = pd.read_csv(\"filereport_read_run_PRJEB33806_tsv.txt\", sep = \"\\t\")"
   ]
  },
  {
   "cell_type": "code",
   "execution_count": null,
   "id": "538d14ce",
   "metadata": {},
   "outputs": [],
   "source": [
    "data_table[data_table.subject_id.isin(hds_clls.sample_alias)]"
   ]
  },
  {
   "cell_type": "code",
   "execution_count": null,
   "id": "5012ae3f",
   "metadata": {},
   "outputs": [],
   "source": [
    "for i,row in data_table[data_table.subject_id.isin(hds_clls.sample_alias)].iterrows():\n",
    "    data_table.loc[i, \"papers\"] = str(eval(data_table.loc[i, \"papers\"]) + [44])"
   ]
  },
  {
   "cell_type": "code",
   "execution_count": null,
   "id": "31fb2214",
   "metadata": {},
   "outputs": [],
   "source": [
    "possible_run_ids = ['151207_M04267_0001_000000000-AKNDT',\n",
    "       '160210_M04267_0002_000000000-AMDP1',\n",
    "       '160322_M04267_0003_000000000-ALHW9',\n",
    "       '160513_M04267_0004_000000000-ANUR2',\n",
    "       '160614_M04267_0005_000000000-APPCB',\n",
    "       '160901_M04267_0006_000000000-ARKY1',\n",
    "       '161213_M04267_0008_000000000-AY7FN',\n",
    "       '170224_M04267_0010_000000000-B467K',\n",
    "       '170330_M04267_0012_000000000-B4C99',\n",
    "       '170615_M04267_0015_000000000-B5BM3',\n",
    "       '170720_M04267_0016_000000000-B832Y',\n",
    "       '170908_M04267_0018_000000000-BBN75',\n",
    "       '171019_M04267_0019_000000000-BD5JH',\n",
    "       '171208_M04267_0021_000000000-BFJW8',\n",
    "       '180201_M04267_0023_000000000-BGTD4',\n",
    "       '180626_M04267_0028_000000000-BPR2V', 'ML90_Binder2_190208', 'ML91_Binder3_190325',\"ML95_Binder4_190510\", \n",
    "       'ML99_Binder5_190708', 'ML100_Binder6_190719']"
   ]
  },
  {
   "cell_type": "code",
   "execution_count": null,
   "id": "a8a60298",
   "metadata": {},
   "outputs": [],
   "source": [
    "possible_files = db[(db.run_id.isin(possible_run_ids)) & (db.pcr_target_locus == \"IGH\")]"
   ]
  },
  {
   "cell_type": "code",
   "execution_count": null,
   "id": "460bf76b",
   "metadata": {},
   "outputs": [],
   "source": [
    "hds = possible_files[possible_files.disease_diagnosis == \"hd\"]\n",
    "hds = hds[hds.subject_id.apply(lambda x: \"HD\" in x if not pd.isna(x) else False)]"
   ]
  },
  {
   "cell_type": "code",
   "execution_count": null,
   "id": "7dd84173",
   "metadata": {},
   "outputs": [],
   "source": [
    "for i,row in data_table[data_table[\"clones.txt.name\"].isin(hds[\"clones.txt.name\"].unique())].iloc[:43].iterrows():\n",
    "    data_table.loc[i, \"papers\"] = str(eval(data_table.loc[i, \"papers\"]) + [45])"
   ]
  },
  {
   "cell_type": "code",
   "execution_count": null,
   "id": "16c1bd22",
   "metadata": {},
   "outputs": [],
   "source": [
    "clls = possible_files[possible_files.subject_id.apply(lambda x: \"cll\" in x.lower() if not pd.isna(x) else False)]"
   ]
  },
  {
   "cell_type": "code",
   "execution_count": null,
   "id": "580a8293",
   "metadata": {},
   "outputs": [],
   "source": [
    "for i,row in data_table[data_table[\"clones.txt.name\"].isin(clls[\"clones.txt.name\"].unique())].iloc[:12].iterrows():\n",
    "    data_table.loc[i, \"papers\"] = str(eval(data_table.loc[i, \"papers\"]) + [45])"
   ]
  },
  {
   "cell_type": "markdown",
   "id": "3c66c615",
   "metadata": {},
   "source": [
    "### 46.  Differential organization of tonic and chronic B cell antigen receptors"
   ]
  },
  {
   "cell_type": "markdown",
   "id": "a3db0687",
   "metadata": {},
   "source": [
    "### ???"
   ]
  },
  {
   "cell_type": "markdown",
   "id": "c3b56cc3",
   "metadata": {},
   "source": [
    "### 47. The phosphotyrosine phosphatase SHP2 promotes anergy in chronic lymphocytic leukemia"
   ]
  },
  {
   "cell_type": "code",
   "execution_count": null,
   "id": "0075b01a",
   "metadata": {},
   "outputs": [],
   "source": [
    "possible_run_ids = ['151207_M04267_0001_000000000-AKNDT',\n",
    "       '160210_M04267_0002_000000000-AMDP1',\n",
    "       '160322_M04267_0003_000000000-ALHW9',\n",
    "       '160513_M04267_0004_000000000-ANUR2',\n",
    "       '160614_M04267_0005_000000000-APPCB',\n",
    "       '160901_M04267_0006_000000000-ARKY1',\n",
    "       '161213_M04267_0008_000000000-AY7FN',\n",
    "       '170224_M04267_0010_000000000-B467K',\n",
    "       '170330_M04267_0012_000000000-B4C99',\n",
    "       '170615_M04267_0015_000000000-B5BM3',\n",
    "       '170720_M04267_0016_000000000-B832Y',\n",
    "       '170908_M04267_0018_000000000-BBN75',\n",
    "       '171019_M04267_0019_000000000-BD5JH',\n",
    "       '171208_M04267_0021_000000000-BFJW8',\n",
    "       '180201_M04267_0023_000000000-BGTD4',]"
   ]
  },
  {
   "cell_type": "code",
   "execution_count": null,
   "id": "e3a9423d",
   "metadata": {},
   "outputs": [],
   "source": [
    "possible_files = db[(db.run_id.isin(possible_run_ids)) & (db.pcr_target_locus == \"IGH\")]"
   ]
  },
  {
   "cell_type": "code",
   "execution_count": null,
   "id": "99ed8fbb",
   "metadata": {},
   "outputs": [],
   "source": [
    "possible_files[possible_files.disease_diagnosis.isin([\"cll\"])].subject_id.unique()"
   ]
  },
  {
   "cell_type": "code",
   "execution_count": null,
   "id": "ba305468",
   "metadata": {},
   "outputs": [],
   "source": [
    "clls = possible_files[possible_files.subject_id.apply(lambda x: \"cll\" in x.lower() if not pd.isna(x) else False)]"
   ]
  },
  {
   "cell_type": "code",
   "execution_count": null,
   "id": "8130ae87",
   "metadata": {},
   "outputs": [],
   "source": [
    "for i,row in data_table[data_table[\"clones.txt.name\"].isin(clls[\"clones.txt.name\"].unique())].iloc[:74].iterrows():\n",
    "    data_table.loc[i, \"papers\"] = str(eval(data_table.loc[i, \"papers\"]) + [47])"
   ]
  },
  {
   "cell_type": "markdown",
   "id": "b4ca7f3a",
   "metadata": {},
   "source": [
    "### 48. Dynamic changes of the normal B lymphocyte repertoire in CLL in response to ibrutinib or FCR chemo-immunotherapy"
   ]
  },
  {
   "cell_type": "code",
   "execution_count": null,
   "id": "4a32415b",
   "metadata": {},
   "outputs": [],
   "source": [
    "\"/Users/labadmin/Projects/immusign/koni-07-04-1417720-s001/2017ONCOIMM0618R-s01.pdf\""
   ]
  },
  {
   "cell_type": "code",
   "execution_count": null,
   "id": "46230a01",
   "metadata": {},
   "outputs": [],
   "source": [
    "possible_run_ids = ['151207_M04267_0001_000000000-AKNDT',\n",
    "       '160210_M04267_0002_000000000-AMDP1',\n",
    "       '160322_M04267_0003_000000000-ALHW9',\n",
    "       '160513_M04267_0004_000000000-ANUR2',\n",
    "       '160614_M04267_0005_000000000-APPCB',\n",
    "       '160901_M04267_0006_000000000-ARKY1',\n",
    "       '161213_M04267_0008_000000000-AY7FN',\n",
    "       '170224_M04267_0010_000000000-B467K',\n",
    "       '170330_M04267_0012_000000000-B4C99',\n",
    "       '170615_M04267_0015_000000000-B5BM3',\n",
    "       '170720_M04267_0016_000000000-B832Y',\n",
    "       '170908_M04267_0018_000000000-BBN75',\n",
    "       '171019_M04267_0019_000000000-BD5JH',\n",
    "       '171208_M04267_0021_000000000-BFJW8',\n",
    "       '180201_M04267_0023_000000000-BGTD4',]"
   ]
  },
  {
   "cell_type": "code",
   "execution_count": null,
   "id": "b0978149",
   "metadata": {},
   "outputs": [],
   "source": [
    "possible_files = db[(db.run_id.isin(possible_run_ids)) & (db.pcr_target_locus == \"IGH\")]"
   ]
  },
  {
   "cell_type": "code",
   "execution_count": null,
   "id": "89e31d51",
   "metadata": {},
   "outputs": [],
   "source": [
    "hds = [\"HD036\",\"HD037\",\"HD039\",\"HD051\",\"HD052\",\"HD074\",\"HD075\",\"HD076\", \"HD077\"]\n",
    "clls = ['F1', 'F2', 'F3', 'F4', 'F5', 'F6', 'F7', 'F8', 'F9','F10'] + ['I1', 'I2', 'I3', 'I4', 'I5', 'I6', 'I7', 'I8', 'I9', 'I10']\n",
    "\n",
    "samples = hds + clls"
   ]
  },
  {
   "cell_type": "code",
   "execution_count": null,
   "id": "83760d7c",
   "metadata": {},
   "outputs": [],
   "source": [
    "df_i = data_table[data_table.subject_id.isin(samples)].copy()\n",
    "df_i[\"index\"] = list(df_i.index)\n",
    "df_i = df_i.groupby(\"subject_id\").first().reset_index()\n",
    "df_i.index = list(df_i[\"index\"])"
   ]
  },
  {
   "cell_type": "code",
   "execution_count": null,
   "id": "d94e3693",
   "metadata": {},
   "outputs": [],
   "source": [
    "for i,row in df_i.iterrows():\n",
    "    data_table.loc[i, \"papers\"] = str(eval(data_table.loc[i, \"papers\"]) + [48])"
   ]
  },
  {
   "cell_type": "markdown",
   "id": "bb6cc111",
   "metadata": {},
   "source": [
    "### 49.  Clinical response to ibrutinib is accompanied by normalization of the T-cell environment in CLL-related autoimmune cytopenia"
   ]
  },
  {
   "cell_type": "code",
   "execution_count": null,
   "id": "d9deed87",
   "metadata": {},
   "outputs": [],
   "source": [
    "possible_run_ids = ['151207_M04267_0001_000000000-AKNDT',\n",
    "       '160210_M04267_0002_000000000-AMDP1',\n",
    "       '160322_M04267_0003_000000000-ALHW9']"
   ]
  },
  {
   "cell_type": "code",
   "execution_count": null,
   "id": "f8df15c9",
   "metadata": {},
   "outputs": [],
   "source": [
    "possible_files = db[(db.run_id.isin(possible_run_ids)) & (db.pcr_target_locus == \"IGH\")]"
   ]
  },
  {
   "cell_type": "code",
   "execution_count": null,
   "id": "8cd3877b",
   "metadata": {},
   "outputs": [],
   "source": [
    "clls = possible_files[possible_files.disease_diagnosis.apply(lambda x: \"cll\" in x)]"
   ]
  },
  {
   "cell_type": "code",
   "execution_count": null,
   "id": "d5efddd4",
   "metadata": {},
   "outputs": [],
   "source": [
    "for i,row in data_table[data_table[\"clones.txt.name\"].isin(clls[\"clones.txt.name\"].unique())].iterrows():\n",
    "    data_table.loc[i, \"papers\"] = str(eval(data_table.loc[i, \"papers\"]) + [49])"
   ]
  },
  {
   "cell_type": "code",
   "execution_count": null,
   "id": "9687d4f4",
   "metadata": {},
   "outputs": [],
   "source": [
    "df_missing = data_table[data_table.papers == \"[]\"]\n",
    "df_found = data_table[data_table.papers != \"[]\"]"
   ]
  },
  {
   "cell_type": "code",
   "execution_count": null,
   "id": "06425f33",
   "metadata": {},
   "outputs": [],
   "source": [
    "df_replace = df_found[df_found.subject_id.isin(df_missing.subject_id)].groupby(\"subject_id\").first()"
   ]
  },
  {
   "cell_type": "code",
   "execution_count": null,
   "id": "bdb8ca3f",
   "metadata": {},
   "outputs": [],
   "source": [
    "df_missing[df_missing.subject_id == \"HD079\"]"
   ]
  },
  {
   "cell_type": "code",
   "execution_count": null,
   "id": "2aaaa9c4",
   "metadata": {},
   "outputs": [],
   "source": [
    "for i, row in df_replace.iterrows():\n",
    "    data_table.loc[(data_table.papers == \"[]\") & (data_table.subject_id == i), \"papers\"] = row.papers"
   ]
  },
  {
   "cell_type": "code",
   "execution_count": null,
   "id": "cac512d7",
   "metadata": {},
   "outputs": [],
   "source": [
    "#data_table.to_csv(\"data_table.csv\", index=False)"
   ]
  },
  {
   "cell_type": "code",
   "execution_count": null,
   "id": "768cd774",
   "metadata": {},
   "outputs": [],
   "source": [
    "data_table = pd.read_csv(\"/Volumes/tuim$/TUIM/Paul/Anträge/immusign/data_table.csv\")"
   ]
  },
  {
   "cell_type": "code",
   "execution_count": null,
   "id": "4356f403",
   "metadata": {},
   "outputs": [],
   "source": [
    "len(data_table[data_table.cohort == \"DLBCL\"][\"subjects\"].unique())"
   ]
  },
  {
   "cell_type": "code",
   "execution_count": null,
   "id": "9e851f3a",
   "metadata": {},
   "outputs": [],
   "source": [
    "len(data_table[data_table.cohort == \"HD\"][\"subjects\"].unique())"
   ]
  },
  {
   "cell_type": "code",
   "execution_count": null,
   "id": "47cb4727",
   "metadata": {},
   "outputs": [],
   "source": [
    "len(data_table[data_table.cohort == \"CLL\"][\"subjects\"].unique())"
   ]
  },
  {
   "cell_type": "code",
   "execution_count": null,
   "id": "b55e2d99",
   "metadata": {},
   "outputs": [],
   "source": [
    "len(data_table[data_table.cohort == \"NLPBL\"][\"subjects\"].unique())"
   ]
  },
  {
   "cell_type": "markdown",
   "id": "05629eed",
   "metadata": {},
   "source": [
    "## Data Table "
   ]
  },
  {
   "cell_type": "code",
   "execution_count": 86,
   "id": "d54860de",
   "metadata": {},
   "outputs": [],
   "source": [
    "data_table = pd.read_csv(\"/Volumes/tuim$/TUIM/Paul/Anträge/immusign/data_table.csv\")"
   ]
  },
  {
   "cell_type": "code",
   "execution_count": 87,
   "id": "7cee4062",
   "metadata": {},
   "outputs": [
    {
     "data": {
      "text/plain": [
       "cohort\n",
       "CLL      196\n",
       "DLBCL    163\n",
       "HD       176\n",
       "NLPBL     43\n",
       "Name: subjects, dtype: int64"
      ]
     },
     "execution_count": 87,
     "metadata": {},
     "output_type": "execute_result"
    }
   ],
   "source": [
    "data_table.groupby(\"cohort\")[\"subjects\"].unique().apply(len)"
   ]
  },
  {
   "cell_type": "code",
   "execution_count": 88,
   "id": "c5868457",
   "metadata": {},
   "outputs": [],
   "source": [
    "data_table.drop(columns = [\"subject_id\"], inplace = True)"
   ]
  },
  {
   "cell_type": "code",
   "execution_count": 89,
   "id": "713511fc",
   "metadata": {},
   "outputs": [],
   "source": [
    "grouped = data_table.groupby([\"cohort\", \"subjects\"]).size().reset_index()\n",
    "\n",
    "\n",
    "def reset_index_per_group(group):\n",
    "    return group.reset_index(drop=True)\n",
    "\n",
    "grouped = grouped.groupby(['cohort']).apply(reset_index_per_group)\n",
    "grouped = grouped.droplevel(0)\n",
    "grouped[\"index\"] = list(grouped.index)\n",
    "grouped[\"subject_id\"] = grouped[\"cohort\"] + (grouped[\"index\"] + 1).apply(str)"
   ]
  },
  {
   "cell_type": "code",
   "execution_count": 90,
   "id": "33649602",
   "metadata": {},
   "outputs": [],
   "source": [
    "data_table = data_table.merge(grouped[[\"cohort\", \"subjects\", \"subject_id\"]], on = [\"cohort\", \"subjects\"])"
   ]
  },
  {
   "cell_type": "code",
   "execution_count": 91,
   "id": "1d33b62b",
   "metadata": {},
   "outputs": [
    {
     "data": {
      "text/html": [
       "<div>\n",
       "<style scoped>\n",
       "    .dataframe tbody tr th:only-of-type {\n",
       "        vertical-align: middle;\n",
       "    }\n",
       "\n",
       "    .dataframe tbody tr th {\n",
       "        vertical-align: top;\n",
       "    }\n",
       "\n",
       "    .dataframe thead th {\n",
       "        text-align: right;\n",
       "    }\n",
       "</style>\n",
       "<table border=\"1\" class=\"dataframe\">\n",
       "  <thead>\n",
       "    <tr style=\"text-align: right;\">\n",
       "      <th></th>\n",
       "      <th>clones.txt.name</th>\n",
       "      <th>sample_id</th>\n",
       "      <th>tissue</th>\n",
       "      <th>cohort</th>\n",
       "      <th>total_reads</th>\n",
       "      <th>richness</th>\n",
       "      <th>clonality</th>\n",
       "      <th>shannon</th>\n",
       "      <th>hypermutatedFraction</th>\n",
       "      <th>references</th>\n",
       "      <th>subjects</th>\n",
       "      <th>time_point</th>\n",
       "      <th>subject_id_old</th>\n",
       "      <th>subject_id</th>\n",
       "    </tr>\n",
       "  </thead>\n",
       "  <tbody>\n",
       "    <tr>\n",
       "      <th>0</th>\n",
       "      <td>Dona-hs-FR3IGH-5100-13-Tumor-Rezidiv-gDNA_S220...</td>\n",
       "      <td>NLPBL1</td>\n",
       "      <td>ln</td>\n",
       "      <td>NLPBL</td>\n",
       "      <td>75666</td>\n",
       "      <td>5137</td>\n",
       "      <td>0.044914</td>\n",
       "      <td>11.773070</td>\n",
       "      <td>0.247818</td>\n",
       "      <td>[29]</td>\n",
       "      <td>NLPHL02</td>\n",
       "      <td>Rez</td>\n",
       "      <td>NLPHL02_Rez</td>\n",
       "      <td>NLPBL3</td>\n",
       "    </tr>\n",
       "    <tr>\n",
       "      <th>1</th>\n",
       "      <td>Dona-hs-FR3IGH-H16768-12-Tumor-Erstdiagnose-gD...</td>\n",
       "      <td>NLPBL4</td>\n",
       "      <td>ln</td>\n",
       "      <td>NLPBL</td>\n",
       "      <td>29755</td>\n",
       "      <td>6278</td>\n",
       "      <td>0.028764</td>\n",
       "      <td>12.253196</td>\n",
       "      <td>0.199273</td>\n",
       "      <td>[29]</td>\n",
       "      <td>NLPHL02</td>\n",
       "      <td>ED</td>\n",
       "      <td>NLPHL02_ED</td>\n",
       "      <td>NLPBL3</td>\n",
       "    </tr>\n",
       "    <tr>\n",
       "      <th>2</th>\n",
       "      <td>Dona-hs-FR3IGH-15504-12-Tumor-Rezidiv2-gDNA_S2...</td>\n",
       "      <td>NLPBL2</td>\n",
       "      <td>ln</td>\n",
       "      <td>NLPBL</td>\n",
       "      <td>88194</td>\n",
       "      <td>7416</td>\n",
       "      <td>0.044320</td>\n",
       "      <td>12.286624</td>\n",
       "      <td>0.204988</td>\n",
       "      <td>[29]</td>\n",
       "      <td>NLPHL01</td>\n",
       "      <td>Rez2</td>\n",
       "      <td>NLPHL01_Rez2</td>\n",
       "      <td>NLPBL2</td>\n",
       "    </tr>\n",
       "    <tr>\n",
       "      <th>3</th>\n",
       "      <td>Dona-hs-FR3IGH-H14197-10-Tumor-Rezidiv1-gDNA_S...</td>\n",
       "      <td>NLPBL3</td>\n",
       "      <td>ln</td>\n",
       "      <td>NLPBL</td>\n",
       "      <td>136199</td>\n",
       "      <td>25201</td>\n",
       "      <td>0.024389</td>\n",
       "      <td>14.264602</td>\n",
       "      <td>0.179918</td>\n",
       "      <td>[29]</td>\n",
       "      <td>NLPHL01</td>\n",
       "      <td>Rez</td>\n",
       "      <td>NLPHL01_Rez1</td>\n",
       "      <td>NLPBL2</td>\n",
       "    </tr>\n",
       "    <tr>\n",
       "      <th>4</th>\n",
       "      <td>Dona-hs-FR3IGH-H28293-09-Tumor-Erstdiagnose-gD...</td>\n",
       "      <td>NLPBL5</td>\n",
       "      <td>ln</td>\n",
       "      <td>NLPBL</td>\n",
       "      <td>102588</td>\n",
       "      <td>8937</td>\n",
       "      <td>0.036412</td>\n",
       "      <td>12.647651</td>\n",
       "      <td>0.203072</td>\n",
       "      <td>[29]</td>\n",
       "      <td>NLPHL01</td>\n",
       "      <td>ED</td>\n",
       "      <td>NLPHL01_ED</td>\n",
       "      <td>NLPBL2</td>\n",
       "    </tr>\n",
       "    <tr>\n",
       "      <th>...</th>\n",
       "      <td>...</td>\n",
       "      <td>...</td>\n",
       "      <td>...</td>\n",
       "      <td>...</td>\n",
       "      <td>...</td>\n",
       "      <td>...</td>\n",
       "      <td>...</td>\n",
       "      <td>...</td>\n",
       "      <td>...</td>\n",
       "      <td>...</td>\n",
       "      <td>...</td>\n",
       "      <td>...</td>\n",
       "      <td>...</td>\n",
       "      <td>...</td>\n",
       "    </tr>\n",
       "    <tr>\n",
       "      <th>906</th>\n",
       "      <td>NC-hs-IGH-CLL433-pb_S60.clones.txt</td>\n",
       "      <td>CLL341</td>\n",
       "      <td>pb</td>\n",
       "      <td>CLL</td>\n",
       "      <td>33702</td>\n",
       "      <td>16</td>\n",
       "      <td>0.996049</td>\n",
       "      <td>0.015804</td>\n",
       "      <td>0.000385</td>\n",
       "      <td>NaN</td>\n",
       "      <td>CLL433</td>\n",
       "      <td>NaN</td>\n",
       "      <td>CLL433</td>\n",
       "      <td>CLL161</td>\n",
       "    </tr>\n",
       "    <tr>\n",
       "      <th>907</th>\n",
       "      <td>NC-hs-IGH-CLL-LMU01-pb_S61.clones.txt</td>\n",
       "      <td>CLL342</td>\n",
       "      <td>pb</td>\n",
       "      <td>CLL</td>\n",
       "      <td>31337</td>\n",
       "      <td>19</td>\n",
       "      <td>0.993245</td>\n",
       "      <td>0.028694</td>\n",
       "      <td>0.000606</td>\n",
       "      <td>NaN</td>\n",
       "      <td>CLL-LMU01</td>\n",
       "      <td>NaN</td>\n",
       "      <td>CLL-LMU01</td>\n",
       "      <td>CLL7</td>\n",
       "    </tr>\n",
       "    <tr>\n",
       "      <th>908</th>\n",
       "      <td>NC-hs-IGH-CLL-LMU02-pb_S62.clones.txt</td>\n",
       "      <td>CLL343</td>\n",
       "      <td>pb</td>\n",
       "      <td>CLL</td>\n",
       "      <td>54229</td>\n",
       "      <td>4</td>\n",
       "      <td>0.998325</td>\n",
       "      <td>0.003350</td>\n",
       "      <td>0.000092</td>\n",
       "      <td>NaN</td>\n",
       "      <td>CLL-LMU02</td>\n",
       "      <td>NaN</td>\n",
       "      <td>CLL-LMU02</td>\n",
       "      <td>CLL8</td>\n",
       "    </tr>\n",
       "    <tr>\n",
       "      <th>909</th>\n",
       "      <td>NC-hs-IGH-CLL431-pb_S68.clones.txt</td>\n",
       "      <td>CLL346</td>\n",
       "      <td>pb</td>\n",
       "      <td>CLL</td>\n",
       "      <td>5830</td>\n",
       "      <td>18</td>\n",
       "      <td>0.809430</td>\n",
       "      <td>0.794664</td>\n",
       "      <td>0.809865</td>\n",
       "      <td>NaN</td>\n",
       "      <td>CLL431</td>\n",
       "      <td>NaN</td>\n",
       "      <td>CLL431</td>\n",
       "      <td>CLL159</td>\n",
       "    </tr>\n",
       "    <tr>\n",
       "      <th>910</th>\n",
       "      <td>NC-hs-IGH-CLL437-pb_S70.clones.txt</td>\n",
       "      <td>CLL348</td>\n",
       "      <td>pb</td>\n",
       "      <td>CLL</td>\n",
       "      <td>41537</td>\n",
       "      <td>7</td>\n",
       "      <td>0.994860</td>\n",
       "      <td>0.014431</td>\n",
       "      <td>0.000120</td>\n",
       "      <td>NaN</td>\n",
       "      <td>CLL437</td>\n",
       "      <td>NaN</td>\n",
       "      <td>CLL437</td>\n",
       "      <td>CLL164</td>\n",
       "    </tr>\n",
       "  </tbody>\n",
       "</table>\n",
       "<p>911 rows × 14 columns</p>\n",
       "</div>"
      ],
      "text/plain": [
       "                                       clones.txt.name sample_id tissue  \\\n",
       "0    Dona-hs-FR3IGH-5100-13-Tumor-Rezidiv-gDNA_S220...    NLPBL1     ln   \n",
       "1    Dona-hs-FR3IGH-H16768-12-Tumor-Erstdiagnose-gD...    NLPBL4     ln   \n",
       "2    Dona-hs-FR3IGH-15504-12-Tumor-Rezidiv2-gDNA_S2...    NLPBL2     ln   \n",
       "3    Dona-hs-FR3IGH-H14197-10-Tumor-Rezidiv1-gDNA_S...    NLPBL3     ln   \n",
       "4    Dona-hs-FR3IGH-H28293-09-Tumor-Erstdiagnose-gD...    NLPBL5     ln   \n",
       "..                                                 ...       ...    ...   \n",
       "906                 NC-hs-IGH-CLL433-pb_S60.clones.txt    CLL341     pb   \n",
       "907              NC-hs-IGH-CLL-LMU01-pb_S61.clones.txt    CLL342     pb   \n",
       "908              NC-hs-IGH-CLL-LMU02-pb_S62.clones.txt    CLL343     pb   \n",
       "909                 NC-hs-IGH-CLL431-pb_S68.clones.txt    CLL346     pb   \n",
       "910                 NC-hs-IGH-CLL437-pb_S70.clones.txt    CLL348     pb   \n",
       "\n",
       "    cohort  total_reads  richness  clonality    shannon  hypermutatedFraction  \\\n",
       "0    NLPBL        75666      5137   0.044914  11.773070              0.247818   \n",
       "1    NLPBL        29755      6278   0.028764  12.253196              0.199273   \n",
       "2    NLPBL        88194      7416   0.044320  12.286624              0.204988   \n",
       "3    NLPBL       136199     25201   0.024389  14.264602              0.179918   \n",
       "4    NLPBL       102588      8937   0.036412  12.647651              0.203072   \n",
       "..     ...          ...       ...        ...        ...                   ...   \n",
       "906    CLL        33702        16   0.996049   0.015804              0.000385   \n",
       "907    CLL        31337        19   0.993245   0.028694              0.000606   \n",
       "908    CLL        54229         4   0.998325   0.003350              0.000092   \n",
       "909    CLL         5830        18   0.809430   0.794664              0.809865   \n",
       "910    CLL        41537         7   0.994860   0.014431              0.000120   \n",
       "\n",
       "    references   subjects time_point subject_id_old subject_id  \n",
       "0         [29]    NLPHL02        Rez    NLPHL02_Rez     NLPBL3  \n",
       "1         [29]    NLPHL02         ED     NLPHL02_ED     NLPBL3  \n",
       "2         [29]    NLPHL01       Rez2   NLPHL01_Rez2     NLPBL2  \n",
       "3         [29]    NLPHL01        Rez   NLPHL01_Rez1     NLPBL2  \n",
       "4         [29]    NLPHL01         ED     NLPHL01_ED     NLPBL2  \n",
       "..         ...        ...        ...            ...        ...  \n",
       "906        NaN     CLL433        NaN         CLL433     CLL161  \n",
       "907        NaN  CLL-LMU01        NaN      CLL-LMU01       CLL7  \n",
       "908        NaN  CLL-LMU02        NaN      CLL-LMU02       CLL8  \n",
       "909        NaN     CLL431        NaN         CLL431     CLL159  \n",
       "910        NaN     CLL437        NaN         CLL437     CLL164  \n",
       "\n",
       "[911 rows x 14 columns]"
      ]
     },
     "execution_count": 91,
     "metadata": {},
     "output_type": "execute_result"
    }
   ],
   "source": [
    "data_table"
   ]
  },
  {
   "cell_type": "code",
   "execution_count": 93,
   "id": "b334ae6e",
   "metadata": {},
   "outputs": [],
   "source": [
    "#data_table.to_csv(\"/Volumes/tuim$/TUIM/Paul/Anträge/immusign/data_table_with_subjects.csv\", index= False)"
   ]
  },
  {
   "cell_type": "code",
   "execution_count": 1,
   "id": "7dd032db-387e-457a-a2f9-639be20963e8",
   "metadata": {},
   "outputs": [],
   "source": [
    "import pandas as pd\n",
    "import numpy as np"
   ]
  },
  {
   "cell_type": "code",
   "execution_count": 4,
   "id": "be8072a1-271b-430c-973e-9e8401c02277",
   "metadata": {},
   "outputs": [],
   "source": [
    "samples = pd.read_csv(\"/Volumes/tuim$/TUIM/Paul/Anträge/immusign/supplemental_table_1.csv\")"
   ]
  },
  {
   "cell_type": "code",
   "execution_count": 7,
   "id": "2026b6e0-331c-42ac-94a9-9c93317fa858",
   "metadata": {},
   "outputs": [],
   "source": [
    "new_sample_id = samples.apply(lambda row: row.sampleID.replace(row.cohort, row.cohort + \"_S\"), axis = 1)"
   ]
  },
  {
   "cell_type": "code",
   "execution_count": 9,
   "id": "19b097fa-a97e-4cab-b32b-4c26eba54078",
   "metadata": {},
   "outputs": [
    {
     "data": {
      "text/html": [
       "<div>\n",
       "<style scoped>\n",
       "    .dataframe tbody tr th:only-of-type {\n",
       "        vertical-align: middle;\n",
       "    }\n",
       "\n",
       "    .dataframe tbody tr th {\n",
       "        vertical-align: top;\n",
       "    }\n",
       "\n",
       "    .dataframe thead th {\n",
       "        text-align: right;\n",
       "    }\n",
       "</style>\n",
       "<table border=\"1\" class=\"dataframe\">\n",
       "  <thead>\n",
       "    <tr style=\"text-align: right;\">\n",
       "      <th></th>\n",
       "      <th>cohort</th>\n",
       "      <th>subjectID</th>\n",
       "      <th>sampleID</th>\n",
       "      <th>tissue</th>\n",
       "      <th>total_reads</th>\n",
       "      <th>richness</th>\n",
       "      <th>clonality</th>\n",
       "      <th>shannon</th>\n",
       "      <th>hypermutatedFraction</th>\n",
       "      <th>references</th>\n",
       "      <th>label in references</th>\n",
       "    </tr>\n",
       "  </thead>\n",
       "  <tbody>\n",
       "    <tr>\n",
       "      <th>0</th>\n",
       "      <td>NLPBL</td>\n",
       "      <td>NLPBL3</td>\n",
       "      <td>NLPBL1</td>\n",
       "      <td>ln</td>\n",
       "      <td>75666</td>\n",
       "      <td>5137</td>\n",
       "      <td>0.044914</td>\n",
       "      <td>11.773070</td>\n",
       "      <td>0.247818</td>\n",
       "      <td>[29]</td>\n",
       "      <td>NLPHL</td>\n",
       "    </tr>\n",
       "    <tr>\n",
       "      <th>1</th>\n",
       "      <td>NLPBL</td>\n",
       "      <td>NLPBL3</td>\n",
       "      <td>NLPBL4</td>\n",
       "      <td>ln</td>\n",
       "      <td>29755</td>\n",
       "      <td>6278</td>\n",
       "      <td>0.028764</td>\n",
       "      <td>12.253196</td>\n",
       "      <td>0.199273</td>\n",
       "      <td>[29]</td>\n",
       "      <td>NLPHL</td>\n",
       "    </tr>\n",
       "    <tr>\n",
       "      <th>2</th>\n",
       "      <td>NLPBL</td>\n",
       "      <td>NLPBL2</td>\n",
       "      <td>NLPBL2</td>\n",
       "      <td>ln</td>\n",
       "      <td>88194</td>\n",
       "      <td>7416</td>\n",
       "      <td>0.044320</td>\n",
       "      <td>12.286624</td>\n",
       "      <td>0.204988</td>\n",
       "      <td>[29]</td>\n",
       "      <td>NLPHL</td>\n",
       "    </tr>\n",
       "    <tr>\n",
       "      <th>3</th>\n",
       "      <td>NLPBL</td>\n",
       "      <td>NLPBL2</td>\n",
       "      <td>NLPBL3</td>\n",
       "      <td>ln</td>\n",
       "      <td>136199</td>\n",
       "      <td>25201</td>\n",
       "      <td>0.024389</td>\n",
       "      <td>14.264602</td>\n",
       "      <td>0.179918</td>\n",
       "      <td>[29]</td>\n",
       "      <td>NLPHL</td>\n",
       "    </tr>\n",
       "    <tr>\n",
       "      <th>4</th>\n",
       "      <td>NLPBL</td>\n",
       "      <td>NLPBL2</td>\n",
       "      <td>NLPBL5</td>\n",
       "      <td>ln</td>\n",
       "      <td>102588</td>\n",
       "      <td>8937</td>\n",
       "      <td>0.036412</td>\n",
       "      <td>12.647651</td>\n",
       "      <td>0.203072</td>\n",
       "      <td>[29]</td>\n",
       "      <td>NLPHL</td>\n",
       "    </tr>\n",
       "    <tr>\n",
       "      <th>...</th>\n",
       "      <td>...</td>\n",
       "      <td>...</td>\n",
       "      <td>...</td>\n",
       "      <td>...</td>\n",
       "      <td>...</td>\n",
       "      <td>...</td>\n",
       "      <td>...</td>\n",
       "      <td>...</td>\n",
       "      <td>...</td>\n",
       "      <td>...</td>\n",
       "      <td>...</td>\n",
       "    </tr>\n",
       "    <tr>\n",
       "      <th>906</th>\n",
       "      <td>CLL</td>\n",
       "      <td>CLL161</td>\n",
       "      <td>CLL341</td>\n",
       "      <td>pb</td>\n",
       "      <td>33702</td>\n",
       "      <td>16</td>\n",
       "      <td>0.996049</td>\n",
       "      <td>0.015804</td>\n",
       "      <td>0.000385</td>\n",
       "      <td>pub. in this paper</td>\n",
       "      <td>CLL</td>\n",
       "    </tr>\n",
       "    <tr>\n",
       "      <th>907</th>\n",
       "      <td>CLL</td>\n",
       "      <td>CLL7</td>\n",
       "      <td>CLL342</td>\n",
       "      <td>pb</td>\n",
       "      <td>31337</td>\n",
       "      <td>19</td>\n",
       "      <td>0.993245</td>\n",
       "      <td>0.028694</td>\n",
       "      <td>0.000606</td>\n",
       "      <td>pub. in this paper</td>\n",
       "      <td>CLL</td>\n",
       "    </tr>\n",
       "    <tr>\n",
       "      <th>908</th>\n",
       "      <td>CLL</td>\n",
       "      <td>CLL8</td>\n",
       "      <td>CLL343</td>\n",
       "      <td>pb</td>\n",
       "      <td>54229</td>\n",
       "      <td>4</td>\n",
       "      <td>0.998325</td>\n",
       "      <td>0.003350</td>\n",
       "      <td>0.000092</td>\n",
       "      <td>pub. in this paper</td>\n",
       "      <td>CLL</td>\n",
       "    </tr>\n",
       "    <tr>\n",
       "      <th>909</th>\n",
       "      <td>CLL</td>\n",
       "      <td>CLL159</td>\n",
       "      <td>CLL346</td>\n",
       "      <td>pb</td>\n",
       "      <td>5830</td>\n",
       "      <td>18</td>\n",
       "      <td>0.809430</td>\n",
       "      <td>0.794664</td>\n",
       "      <td>0.809865</td>\n",
       "      <td>pub. in this paper</td>\n",
       "      <td>CLL</td>\n",
       "    </tr>\n",
       "    <tr>\n",
       "      <th>910</th>\n",
       "      <td>CLL</td>\n",
       "      <td>CLL164</td>\n",
       "      <td>CLL348</td>\n",
       "      <td>pb</td>\n",
       "      <td>41537</td>\n",
       "      <td>7</td>\n",
       "      <td>0.994860</td>\n",
       "      <td>0.014431</td>\n",
       "      <td>0.000120</td>\n",
       "      <td>pub. in this paper</td>\n",
       "      <td>CLL</td>\n",
       "    </tr>\n",
       "  </tbody>\n",
       "</table>\n",
       "<p>911 rows × 11 columns</p>\n",
       "</div>"
      ],
      "text/plain": [
       "    cohort subjectID sampleID tissue  total_reads  richness  clonality  \\\n",
       "0    NLPBL    NLPBL3   NLPBL1     ln        75666      5137   0.044914   \n",
       "1    NLPBL    NLPBL3   NLPBL4     ln        29755      6278   0.028764   \n",
       "2    NLPBL    NLPBL2   NLPBL2     ln        88194      7416   0.044320   \n",
       "3    NLPBL    NLPBL2   NLPBL3     ln       136199     25201   0.024389   \n",
       "4    NLPBL    NLPBL2   NLPBL5     ln       102588      8937   0.036412   \n",
       "..     ...       ...      ...    ...          ...       ...        ...   \n",
       "906    CLL    CLL161   CLL341     pb        33702        16   0.996049   \n",
       "907    CLL      CLL7   CLL342     pb        31337        19   0.993245   \n",
       "908    CLL      CLL8   CLL343     pb        54229         4   0.998325   \n",
       "909    CLL    CLL159   CLL346     pb         5830        18   0.809430   \n",
       "910    CLL    CLL164   CLL348     pb        41537         7   0.994860   \n",
       "\n",
       "       shannon  hypermutatedFraction          references label in references  \n",
       "0    11.773070              0.247818                [29]               NLPHL  \n",
       "1    12.253196              0.199273                [29]               NLPHL  \n",
       "2    12.286624              0.204988                [29]               NLPHL  \n",
       "3    14.264602              0.179918                [29]               NLPHL  \n",
       "4    12.647651              0.203072                [29]               NLPHL  \n",
       "..         ...                   ...                 ...                 ...  \n",
       "906   0.015804              0.000385  pub. in this paper                 CLL  \n",
       "907   0.028694              0.000606  pub. in this paper                 CLL  \n",
       "908   0.003350              0.000092  pub. in this paper                 CLL  \n",
       "909   0.794664              0.809865  pub. in this paper                 CLL  \n",
       "910   0.014431              0.000120  pub. in this paper                 CLL  \n",
       "\n",
       "[911 rows x 11 columns]"
      ]
     },
     "execution_count": 9,
     "metadata": {},
     "output_type": "execute_result"
    }
   ],
   "source": [
    "samples"
   ]
  },
  {
   "cell_type": "code",
   "execution_count": 10,
   "id": "4cc1b529-3c0d-48e0-b899-6a71c0e5257c",
   "metadata": {},
   "outputs": [],
   "source": [
    "samples[\"sampleID\"] = new_sample_id"
   ]
  },
  {
   "cell_type": "code",
   "execution_count": 11,
   "id": "c8b1dc4b-ed54-4d8f-a8e4-c696482a3fb9",
   "metadata": {},
   "outputs": [
    {
     "data": {
      "text/html": [
       "<div>\n",
       "<style scoped>\n",
       "    .dataframe tbody tr th:only-of-type {\n",
       "        vertical-align: middle;\n",
       "    }\n",
       "\n",
       "    .dataframe tbody tr th {\n",
       "        vertical-align: top;\n",
       "    }\n",
       "\n",
       "    .dataframe thead th {\n",
       "        text-align: right;\n",
       "    }\n",
       "</style>\n",
       "<table border=\"1\" class=\"dataframe\">\n",
       "  <thead>\n",
       "    <tr style=\"text-align: right;\">\n",
       "      <th></th>\n",
       "      <th>cohort</th>\n",
       "      <th>subjectID</th>\n",
       "      <th>sampleID</th>\n",
       "      <th>tissue</th>\n",
       "      <th>total_reads</th>\n",
       "      <th>richness</th>\n",
       "      <th>clonality</th>\n",
       "      <th>shannon</th>\n",
       "      <th>hypermutatedFraction</th>\n",
       "      <th>references</th>\n",
       "      <th>label in references</th>\n",
       "    </tr>\n",
       "  </thead>\n",
       "  <tbody>\n",
       "    <tr>\n",
       "      <th>0</th>\n",
       "      <td>NLPBL</td>\n",
       "      <td>NLPBL3</td>\n",
       "      <td>NLPBL_S1</td>\n",
       "      <td>ln</td>\n",
       "      <td>75666</td>\n",
       "      <td>5137</td>\n",
       "      <td>0.044914</td>\n",
       "      <td>11.773070</td>\n",
       "      <td>0.247818</td>\n",
       "      <td>[29]</td>\n",
       "      <td>NLPHL</td>\n",
       "    </tr>\n",
       "    <tr>\n",
       "      <th>1</th>\n",
       "      <td>NLPBL</td>\n",
       "      <td>NLPBL3</td>\n",
       "      <td>NLPBL_S4</td>\n",
       "      <td>ln</td>\n",
       "      <td>29755</td>\n",
       "      <td>6278</td>\n",
       "      <td>0.028764</td>\n",
       "      <td>12.253196</td>\n",
       "      <td>0.199273</td>\n",
       "      <td>[29]</td>\n",
       "      <td>NLPHL</td>\n",
       "    </tr>\n",
       "    <tr>\n",
       "      <th>2</th>\n",
       "      <td>NLPBL</td>\n",
       "      <td>NLPBL2</td>\n",
       "      <td>NLPBL_S2</td>\n",
       "      <td>ln</td>\n",
       "      <td>88194</td>\n",
       "      <td>7416</td>\n",
       "      <td>0.044320</td>\n",
       "      <td>12.286624</td>\n",
       "      <td>0.204988</td>\n",
       "      <td>[29]</td>\n",
       "      <td>NLPHL</td>\n",
       "    </tr>\n",
       "    <tr>\n",
       "      <th>3</th>\n",
       "      <td>NLPBL</td>\n",
       "      <td>NLPBL2</td>\n",
       "      <td>NLPBL_S3</td>\n",
       "      <td>ln</td>\n",
       "      <td>136199</td>\n",
       "      <td>25201</td>\n",
       "      <td>0.024389</td>\n",
       "      <td>14.264602</td>\n",
       "      <td>0.179918</td>\n",
       "      <td>[29]</td>\n",
       "      <td>NLPHL</td>\n",
       "    </tr>\n",
       "    <tr>\n",
       "      <th>4</th>\n",
       "      <td>NLPBL</td>\n",
       "      <td>NLPBL2</td>\n",
       "      <td>NLPBL_S5</td>\n",
       "      <td>ln</td>\n",
       "      <td>102588</td>\n",
       "      <td>8937</td>\n",
       "      <td>0.036412</td>\n",
       "      <td>12.647651</td>\n",
       "      <td>0.203072</td>\n",
       "      <td>[29]</td>\n",
       "      <td>NLPHL</td>\n",
       "    </tr>\n",
       "    <tr>\n",
       "      <th>...</th>\n",
       "      <td>...</td>\n",
       "      <td>...</td>\n",
       "      <td>...</td>\n",
       "      <td>...</td>\n",
       "      <td>...</td>\n",
       "      <td>...</td>\n",
       "      <td>...</td>\n",
       "      <td>...</td>\n",
       "      <td>...</td>\n",
       "      <td>...</td>\n",
       "      <td>...</td>\n",
       "    </tr>\n",
       "    <tr>\n",
       "      <th>906</th>\n",
       "      <td>CLL</td>\n",
       "      <td>CLL161</td>\n",
       "      <td>CLL_S341</td>\n",
       "      <td>pb</td>\n",
       "      <td>33702</td>\n",
       "      <td>16</td>\n",
       "      <td>0.996049</td>\n",
       "      <td>0.015804</td>\n",
       "      <td>0.000385</td>\n",
       "      <td>pub. in this paper</td>\n",
       "      <td>CLL</td>\n",
       "    </tr>\n",
       "    <tr>\n",
       "      <th>907</th>\n",
       "      <td>CLL</td>\n",
       "      <td>CLL7</td>\n",
       "      <td>CLL_S342</td>\n",
       "      <td>pb</td>\n",
       "      <td>31337</td>\n",
       "      <td>19</td>\n",
       "      <td>0.993245</td>\n",
       "      <td>0.028694</td>\n",
       "      <td>0.000606</td>\n",
       "      <td>pub. in this paper</td>\n",
       "      <td>CLL</td>\n",
       "    </tr>\n",
       "    <tr>\n",
       "      <th>908</th>\n",
       "      <td>CLL</td>\n",
       "      <td>CLL8</td>\n",
       "      <td>CLL_S343</td>\n",
       "      <td>pb</td>\n",
       "      <td>54229</td>\n",
       "      <td>4</td>\n",
       "      <td>0.998325</td>\n",
       "      <td>0.003350</td>\n",
       "      <td>0.000092</td>\n",
       "      <td>pub. in this paper</td>\n",
       "      <td>CLL</td>\n",
       "    </tr>\n",
       "    <tr>\n",
       "      <th>909</th>\n",
       "      <td>CLL</td>\n",
       "      <td>CLL159</td>\n",
       "      <td>CLL_S346</td>\n",
       "      <td>pb</td>\n",
       "      <td>5830</td>\n",
       "      <td>18</td>\n",
       "      <td>0.809430</td>\n",
       "      <td>0.794664</td>\n",
       "      <td>0.809865</td>\n",
       "      <td>pub. in this paper</td>\n",
       "      <td>CLL</td>\n",
       "    </tr>\n",
       "    <tr>\n",
       "      <th>910</th>\n",
       "      <td>CLL</td>\n",
       "      <td>CLL164</td>\n",
       "      <td>CLL_S348</td>\n",
       "      <td>pb</td>\n",
       "      <td>41537</td>\n",
       "      <td>7</td>\n",
       "      <td>0.994860</td>\n",
       "      <td>0.014431</td>\n",
       "      <td>0.000120</td>\n",
       "      <td>pub. in this paper</td>\n",
       "      <td>CLL</td>\n",
       "    </tr>\n",
       "  </tbody>\n",
       "</table>\n",
       "<p>911 rows × 11 columns</p>\n",
       "</div>"
      ],
      "text/plain": [
       "    cohort subjectID  sampleID tissue  total_reads  richness  clonality  \\\n",
       "0    NLPBL    NLPBL3  NLPBL_S1     ln        75666      5137   0.044914   \n",
       "1    NLPBL    NLPBL3  NLPBL_S4     ln        29755      6278   0.028764   \n",
       "2    NLPBL    NLPBL2  NLPBL_S2     ln        88194      7416   0.044320   \n",
       "3    NLPBL    NLPBL2  NLPBL_S3     ln       136199     25201   0.024389   \n",
       "4    NLPBL    NLPBL2  NLPBL_S5     ln       102588      8937   0.036412   \n",
       "..     ...       ...       ...    ...          ...       ...        ...   \n",
       "906    CLL    CLL161  CLL_S341     pb        33702        16   0.996049   \n",
       "907    CLL      CLL7  CLL_S342     pb        31337        19   0.993245   \n",
       "908    CLL      CLL8  CLL_S343     pb        54229         4   0.998325   \n",
       "909    CLL    CLL159  CLL_S346     pb         5830        18   0.809430   \n",
       "910    CLL    CLL164  CLL_S348     pb        41537         7   0.994860   \n",
       "\n",
       "       shannon  hypermutatedFraction          references label in references  \n",
       "0    11.773070              0.247818                [29]               NLPHL  \n",
       "1    12.253196              0.199273                [29]               NLPHL  \n",
       "2    12.286624              0.204988                [29]               NLPHL  \n",
       "3    14.264602              0.179918                [29]               NLPHL  \n",
       "4    12.647651              0.203072                [29]               NLPHL  \n",
       "..         ...                   ...                 ...                 ...  \n",
       "906   0.015804              0.000385  pub. in this paper                 CLL  \n",
       "907   0.028694              0.000606  pub. in this paper                 CLL  \n",
       "908   0.003350              0.000092  pub. in this paper                 CLL  \n",
       "909   0.794664              0.809865  pub. in this paper                 CLL  \n",
       "910   0.014431              0.000120  pub. in this paper                 CLL  \n",
       "\n",
       "[911 rows x 11 columns]"
      ]
     },
     "execution_count": 11,
     "metadata": {},
     "output_type": "execute_result"
    }
   ],
   "source": [
    "samples"
   ]
  },
  {
   "cell_type": "code",
   "execution_count": 12,
   "id": "2b6ba4ef-29a0-4f19-b5d0-57c3c35b4750",
   "metadata": {},
   "outputs": [],
   "source": [
    "#samples.to_csv(\"/Volumes/tuim$/TUIM/Paul/Anträge/immusign/supplemental_table_1_new.csv\")"
   ]
  },
  {
   "cell_type": "markdown",
   "id": "ed7c74da",
   "metadata": {},
   "source": [
    "# Age and sex"
   ]
  },
  {
   "cell_type": "code",
   "execution_count": 11,
   "id": "3752ad63",
   "metadata": {},
   "outputs": [],
   "source": [
    "sample_list = pd.read_csv(\"/Volumes/tuim$/TUIM/Paul/Anträge/immusign/S1_Table_ena.csv\")"
   ]
  },
  {
   "cell_type": "code",
   "execution_count": 12,
   "id": "6f780a07",
   "metadata": {},
   "outputs": [
    {
     "data": {
      "text/html": [
       "<div>\n",
       "<style scoped>\n",
       "    .dataframe tbody tr th:only-of-type {\n",
       "        vertical-align: middle;\n",
       "    }\n",
       "\n",
       "    .dataframe tbody tr th {\n",
       "        vertical-align: top;\n",
       "    }\n",
       "\n",
       "    .dataframe thead th {\n",
       "        text-align: right;\n",
       "    }\n",
       "</style>\n",
       "<table border=\"1\" class=\"dataframe\">\n",
       "  <thead>\n",
       "    <tr style=\"text-align: right;\">\n",
       "      <th></th>\n",
       "      <th>cohort</th>\n",
       "      <th>subjectID</th>\n",
       "      <th>sampleID</th>\n",
       "      <th>tissue</th>\n",
       "      <th>total_reads</th>\n",
       "      <th>richness</th>\n",
       "      <th>clonality</th>\n",
       "      <th>shannon</th>\n",
       "      <th>hypermutatedFraction</th>\n",
       "      <th>references</th>\n",
       "      <th>label in references</th>\n",
       "      <th>clones.txt.name</th>\n",
       "    </tr>\n",
       "  </thead>\n",
       "  <tbody>\n",
       "    <tr>\n",
       "      <th>0</th>\n",
       "      <td>NLPBL</td>\n",
       "      <td>NLPBL3</td>\n",
       "      <td>NLPBL_S1</td>\n",
       "      <td>ln</td>\n",
       "      <td>75666</td>\n",
       "      <td>5137</td>\n",
       "      <td>0.044914</td>\n",
       "      <td>11.773070</td>\n",
       "      <td>0.247818</td>\n",
       "      <td>[29]</td>\n",
       "      <td>NLPHL</td>\n",
       "      <td>Dona-hs-FR3IGH-5100-13-Tumor-Rezidiv-gDNA_S220...</td>\n",
       "    </tr>\n",
       "    <tr>\n",
       "      <th>1</th>\n",
       "      <td>NLPBL</td>\n",
       "      <td>NLPBL3</td>\n",
       "      <td>NLPBL_S4</td>\n",
       "      <td>ln</td>\n",
       "      <td>29755</td>\n",
       "      <td>6278</td>\n",
       "      <td>0.028764</td>\n",
       "      <td>12.253196</td>\n",
       "      <td>0.199273</td>\n",
       "      <td>[29]</td>\n",
       "      <td>NLPHL</td>\n",
       "      <td>Dona-hs-FR3IGH-H16768-12-Tumor-Erstdiagnose-gD...</td>\n",
       "    </tr>\n",
       "    <tr>\n",
       "      <th>2</th>\n",
       "      <td>NLPBL</td>\n",
       "      <td>NLPBL2</td>\n",
       "      <td>NLPBL_S2</td>\n",
       "      <td>ln</td>\n",
       "      <td>88194</td>\n",
       "      <td>7416</td>\n",
       "      <td>0.044320</td>\n",
       "      <td>12.286624</td>\n",
       "      <td>0.204988</td>\n",
       "      <td>[29]</td>\n",
       "      <td>NLPHL</td>\n",
       "      <td>Dona-hs-FR3IGH-15504-12-Tumor-Rezidiv2-gDNA_S2...</td>\n",
       "    </tr>\n",
       "    <tr>\n",
       "      <th>3</th>\n",
       "      <td>NLPBL</td>\n",
       "      <td>NLPBL2</td>\n",
       "      <td>NLPBL_S3</td>\n",
       "      <td>ln</td>\n",
       "      <td>136199</td>\n",
       "      <td>25201</td>\n",
       "      <td>0.024389</td>\n",
       "      <td>14.264602</td>\n",
       "      <td>0.179918</td>\n",
       "      <td>[29]</td>\n",
       "      <td>NLPHL</td>\n",
       "      <td>Dona-hs-FR3IGH-H14197-10-Tumor-Rezidiv1-gDNA_S...</td>\n",
       "    </tr>\n",
       "    <tr>\n",
       "      <th>4</th>\n",
       "      <td>NLPBL</td>\n",
       "      <td>NLPBL2</td>\n",
       "      <td>NLPBL_S5</td>\n",
       "      <td>ln</td>\n",
       "      <td>102588</td>\n",
       "      <td>8937</td>\n",
       "      <td>0.036412</td>\n",
       "      <td>12.647651</td>\n",
       "      <td>0.203072</td>\n",
       "      <td>[29]</td>\n",
       "      <td>NLPHL</td>\n",
       "      <td>Dona-hs-FR3IGH-H28293-09-Tumor-Erstdiagnose-gD...</td>\n",
       "    </tr>\n",
       "    <tr>\n",
       "      <th>...</th>\n",
       "      <td>...</td>\n",
       "      <td>...</td>\n",
       "      <td>...</td>\n",
       "      <td>...</td>\n",
       "      <td>...</td>\n",
       "      <td>...</td>\n",
       "      <td>...</td>\n",
       "      <td>...</td>\n",
       "      <td>...</td>\n",
       "      <td>...</td>\n",
       "      <td>...</td>\n",
       "      <td>...</td>\n",
       "    </tr>\n",
       "    <tr>\n",
       "      <th>906</th>\n",
       "      <td>CLL</td>\n",
       "      <td>CLL161</td>\n",
       "      <td>CLL_S341</td>\n",
       "      <td>pb</td>\n",
       "      <td>33702</td>\n",
       "      <td>16</td>\n",
       "      <td>0.996049</td>\n",
       "      <td>0.015804</td>\n",
       "      <td>0.000385</td>\n",
       "      <td>pub. in this paper</td>\n",
       "      <td>CLL</td>\n",
       "      <td>NC-hs-IGH-CLL433-pb_S60.clones.txt</td>\n",
       "    </tr>\n",
       "    <tr>\n",
       "      <th>907</th>\n",
       "      <td>CLL</td>\n",
       "      <td>CLL7</td>\n",
       "      <td>CLL_S342</td>\n",
       "      <td>pb</td>\n",
       "      <td>31337</td>\n",
       "      <td>19</td>\n",
       "      <td>0.993245</td>\n",
       "      <td>0.028694</td>\n",
       "      <td>0.000606</td>\n",
       "      <td>pub. in this paper</td>\n",
       "      <td>CLL</td>\n",
       "      <td>NC-hs-IGH-CLL-LMU01-pb_S61.clones.txt</td>\n",
       "    </tr>\n",
       "    <tr>\n",
       "      <th>908</th>\n",
       "      <td>CLL</td>\n",
       "      <td>CLL8</td>\n",
       "      <td>CLL_S343</td>\n",
       "      <td>pb</td>\n",
       "      <td>54229</td>\n",
       "      <td>4</td>\n",
       "      <td>0.998325</td>\n",
       "      <td>0.003350</td>\n",
       "      <td>0.000092</td>\n",
       "      <td>pub. in this paper</td>\n",
       "      <td>CLL</td>\n",
       "      <td>NC-hs-IGH-CLL-LMU02-pb_S62.clones.txt</td>\n",
       "    </tr>\n",
       "    <tr>\n",
       "      <th>909</th>\n",
       "      <td>CLL</td>\n",
       "      <td>CLL159</td>\n",
       "      <td>CLL_S346</td>\n",
       "      <td>pb</td>\n",
       "      <td>5830</td>\n",
       "      <td>18</td>\n",
       "      <td>0.809430</td>\n",
       "      <td>0.794664</td>\n",
       "      <td>0.809865</td>\n",
       "      <td>pub. in this paper</td>\n",
       "      <td>CLL</td>\n",
       "      <td>NC-hs-IGH-CLL431-pb_S68.clones.txt</td>\n",
       "    </tr>\n",
       "    <tr>\n",
       "      <th>910</th>\n",
       "      <td>CLL</td>\n",
       "      <td>CLL164</td>\n",
       "      <td>CLL_S348</td>\n",
       "      <td>pb</td>\n",
       "      <td>41537</td>\n",
       "      <td>7</td>\n",
       "      <td>0.994860</td>\n",
       "      <td>0.014431</td>\n",
       "      <td>0.000120</td>\n",
       "      <td>pub. in this paper</td>\n",
       "      <td>CLL</td>\n",
       "      <td>NC-hs-IGH-CLL437-pb_S70.clones.txt</td>\n",
       "    </tr>\n",
       "  </tbody>\n",
       "</table>\n",
       "<p>911 rows × 12 columns</p>\n",
       "</div>"
      ],
      "text/plain": [
       "    cohort subjectID  sampleID tissue  total_reads  richness  clonality  \\\n",
       "0    NLPBL    NLPBL3  NLPBL_S1     ln        75666      5137   0.044914   \n",
       "1    NLPBL    NLPBL3  NLPBL_S4     ln        29755      6278   0.028764   \n",
       "2    NLPBL    NLPBL2  NLPBL_S2     ln        88194      7416   0.044320   \n",
       "3    NLPBL    NLPBL2  NLPBL_S3     ln       136199     25201   0.024389   \n",
       "4    NLPBL    NLPBL2  NLPBL_S5     ln       102588      8937   0.036412   \n",
       "..     ...       ...       ...    ...          ...       ...        ...   \n",
       "906    CLL    CLL161  CLL_S341     pb        33702        16   0.996049   \n",
       "907    CLL      CLL7  CLL_S342     pb        31337        19   0.993245   \n",
       "908    CLL      CLL8  CLL_S343     pb        54229         4   0.998325   \n",
       "909    CLL    CLL159  CLL_S346     pb         5830        18   0.809430   \n",
       "910    CLL    CLL164  CLL_S348     pb        41537         7   0.994860   \n",
       "\n",
       "       shannon  hypermutatedFraction          references label in references  \\\n",
       "0    11.773070              0.247818                [29]               NLPHL   \n",
       "1    12.253196              0.199273                [29]               NLPHL   \n",
       "2    12.286624              0.204988                [29]               NLPHL   \n",
       "3    14.264602              0.179918                [29]               NLPHL   \n",
       "4    12.647651              0.203072                [29]               NLPHL   \n",
       "..         ...                   ...                 ...                 ...   \n",
       "906   0.015804              0.000385  pub. in this paper                 CLL   \n",
       "907   0.028694              0.000606  pub. in this paper                 CLL   \n",
       "908   0.003350              0.000092  pub. in this paper                 CLL   \n",
       "909   0.794664              0.809865  pub. in this paper                 CLL   \n",
       "910   0.014431              0.000120  pub. in this paper                 CLL   \n",
       "\n",
       "                                       clones.txt.name  \n",
       "0    Dona-hs-FR3IGH-5100-13-Tumor-Rezidiv-gDNA_S220...  \n",
       "1    Dona-hs-FR3IGH-H16768-12-Tumor-Erstdiagnose-gD...  \n",
       "2    Dona-hs-FR3IGH-15504-12-Tumor-Rezidiv2-gDNA_S2...  \n",
       "3    Dona-hs-FR3IGH-H14197-10-Tumor-Rezidiv1-gDNA_S...  \n",
       "4    Dona-hs-FR3IGH-H28293-09-Tumor-Erstdiagnose-gD...  \n",
       "..                                                 ...  \n",
       "906                 NC-hs-IGH-CLL433-pb_S60.clones.txt  \n",
       "907              NC-hs-IGH-CLL-LMU01-pb_S61.clones.txt  \n",
       "908              NC-hs-IGH-CLL-LMU02-pb_S62.clones.txt  \n",
       "909                 NC-hs-IGH-CLL431-pb_S68.clones.txt  \n",
       "910                 NC-hs-IGH-CLL437-pb_S70.clones.txt  \n",
       "\n",
       "[911 rows x 12 columns]"
      ]
     },
     "execution_count": 12,
     "metadata": {},
     "output_type": "execute_result"
    }
   ],
   "source": [
    "sample_list"
   ]
  },
  {
   "cell_type": "code",
   "execution_count": 6,
   "id": "b2e479a8",
   "metadata": {},
   "outputs": [],
   "source": [
    "xl_meta_file = pd.ExcelFile(\"/Users/labadmin/Projects/NEU_Zuordnungen_mitMIAIRR_02.05.2024.xlsx\")\n",
    "xl_dfs = {s: xl_meta_file.parse(s) for s in xl_meta_file.sheet_names}\n",
    "db = xl_dfs[\"Zuordnungen_mitMIAIRR\"]"
   ]
  },
  {
   "cell_type": "code",
   "execution_count": 14,
   "id": "3dcaccda",
   "metadata": {},
   "outputs": [],
   "source": [
    "sample_list = sample_list.merge(db[[\"subject_id\", \"run_id\", \"clones.txt.name\", \"sex\", \"dosc\", \"age\", \"dob\", \"dob.date\"]], on = \"clones.txt.name\")"
   ]
  },
  {
   "cell_type": "code",
   "execution_count": 15,
   "id": "e0515d7b",
   "metadata": {},
   "outputs": [],
   "source": [
    "#sample_list.to_csv(\"/Volumes/tuim$/TUIM/Paul/Anträge/immusign/data_ena_lookup_table.csv\")"
   ]
  },
  {
   "cell_type": "code",
   "execution_count": 2,
   "id": "63c01355-1fc0-4abe-a9fc-c263bbb94635",
   "metadata": {},
   "outputs": [],
   "source": [
    "samples = pd.read_csv(\"/Volumes/tuim$/TUIM/Paul/Anträge/immusign/data_ena_lookup_table.csv\")"
   ]
  },
  {
   "cell_type": "code",
   "execution_count": 3,
   "id": "8d58eb33-c188-4b29-a748-0cbea4ee6323",
   "metadata": {},
   "outputs": [
    {
     "data": {
      "text/html": [
       "<div>\n",
       "<style scoped>\n",
       "    .dataframe tbody tr th:only-of-type {\n",
       "        vertical-align: middle;\n",
       "    }\n",
       "\n",
       "    .dataframe tbody tr th {\n",
       "        vertical-align: top;\n",
       "    }\n",
       "\n",
       "    .dataframe thead th {\n",
       "        text-align: right;\n",
       "    }\n",
       "</style>\n",
       "<table border=\"1\" class=\"dataframe\">\n",
       "  <thead>\n",
       "    <tr style=\"text-align: right;\">\n",
       "      <th></th>\n",
       "      <th>cohort</th>\n",
       "      <th>subjectID</th>\n",
       "      <th>sampleID</th>\n",
       "      <th>tissue</th>\n",
       "      <th>total_reads</th>\n",
       "      <th>richness</th>\n",
       "      <th>clonality</th>\n",
       "      <th>shannon</th>\n",
       "      <th>hypermutatedFraction</th>\n",
       "      <th>references</th>\n",
       "      <th>label in references</th>\n",
       "      <th>clones.txt.name</th>\n",
       "      <th>subject_id</th>\n",
       "      <th>run_id</th>\n",
       "      <th>sex</th>\n",
       "      <th>dosc</th>\n",
       "      <th>age</th>\n",
       "      <th>dob</th>\n",
       "      <th>dob.date</th>\n",
       "    </tr>\n",
       "  </thead>\n",
       "  <tbody>\n",
       "    <tr>\n",
       "      <th>0</th>\n",
       "      <td>CLL</td>\n",
       "      <td>CLL91</td>\n",
       "      <td>CLL_S1</td>\n",
       "      <td>pb</td>\n",
       "      <td>27222</td>\n",
       "      <td>4</td>\n",
       "      <td>0.991715</td>\n",
       "      <td>0.016570</td>\n",
       "      <td>0.000000</td>\n",
       "      <td>[39, 40, 45, 47, 49]</td>\n",
       "      <td>CLL, blood cancer</td>\n",
       "      <td>MM048-m-binder-E250-CLL351-PB-Wurzburg-Ig-DNA-...</td>\n",
       "      <td>CLL351</td>\n",
       "      <td>151207_M04267_0001_000000000-AKNDT</td>\n",
       "      <td>male</td>\n",
       "      <td>1012015</td>\n",
       "      <td>63.0</td>\n",
       "      <td>2101951</td>\n",
       "      <td>02.10.1951</td>\n",
       "    </tr>\n",
       "    <tr>\n",
       "      <th>1</th>\n",
       "      <td>CLL</td>\n",
       "      <td>CLL165</td>\n",
       "      <td>CLL_S10</td>\n",
       "      <td>pb</td>\n",
       "      <td>35245</td>\n",
       "      <td>54</td>\n",
       "      <td>0.984727</td>\n",
       "      <td>0.087897</td>\n",
       "      <td>0.993734</td>\n",
       "      <td>[40, 49]</td>\n",
       "      <td>blood cancer</td>\n",
       "      <td>F1P-Ig-Simon-m-binder-A250_S91.clones.txt</td>\n",
       "      <td>F1</td>\n",
       "      <td>160322_M04267_0003_000000000-ALHW9</td>\n",
       "      <td>female</td>\n",
       "      <td>8032012</td>\n",
       "      <td>62.0</td>\n",
       "      <td>8081949</td>\n",
       "      <td>08.08.1949</td>\n",
       "    </tr>\n",
       "    <tr>\n",
       "      <th>2</th>\n",
       "      <td>CLL</td>\n",
       "      <td>CLL97</td>\n",
       "      <td>CLL_S100</td>\n",
       "      <td>pb</td>\n",
       "      <td>31701</td>\n",
       "      <td>38</td>\n",
       "      <td>0.565454</td>\n",
       "      <td>2.280467</td>\n",
       "      <td>0.635372</td>\n",
       "      <td>[39, 40, 45, 47]</td>\n",
       "      <td>CLL, blood cancer</td>\n",
       "      <td>CLL358-20-05-16-BCR-Simon_S227.clones.txt</td>\n",
       "      <td>CLL358</td>\n",
       "      <td>160901_M04267_0006_000000000-ARKY1</td>\n",
       "      <td>male</td>\n",
       "      <td>20052016</td>\n",
       "      <td>72.0</td>\n",
       "      <td>6081943</td>\n",
       "      <td>06.08.1943</td>\n",
       "    </tr>\n",
       "    <tr>\n",
       "      <th>3</th>\n",
       "      <td>CLL</td>\n",
       "      <td>CLL97</td>\n",
       "      <td>CLL_S101</td>\n",
       "      <td>pb</td>\n",
       "      <td>34219</td>\n",
       "      <td>87</td>\n",
       "      <td>0.633818</td>\n",
       "      <td>2.359291</td>\n",
       "      <td>0.601186</td>\n",
       "      <td>[39, 40, 45, 47]</td>\n",
       "      <td>CLL, blood cancer</td>\n",
       "      <td>CLL358-22-01-16-BCR-Simon_S224.clones.txt</td>\n",
       "      <td>CLL358</td>\n",
       "      <td>160901_M04267_0006_000000000-ARKY1</td>\n",
       "      <td>male</td>\n",
       "      <td>22012016</td>\n",
       "      <td>72.0</td>\n",
       "      <td>6081943</td>\n",
       "      <td>06.08.1943</td>\n",
       "    </tr>\n",
       "    <tr>\n",
       "      <th>4</th>\n",
       "      <td>CLL</td>\n",
       "      <td>CLL106</td>\n",
       "      <td>CLL_S102</td>\n",
       "      <td>pb</td>\n",
       "      <td>42760</td>\n",
       "      <td>272</td>\n",
       "      <td>0.647015</td>\n",
       "      <td>2.854754</td>\n",
       "      <td>0.527094</td>\n",
       "      <td>[39, 40, 45, 47]</td>\n",
       "      <td>CLL, blood cancer</td>\n",
       "      <td>CLL368-06-05-16-BCR-Simon_S222.clones.txt</td>\n",
       "      <td>CLL368</td>\n",
       "      <td>160901_M04267_0006_000000000-ARKY1</td>\n",
       "      <td>male</td>\n",
       "      <td>6052016</td>\n",
       "      <td>63.0</td>\n",
       "      <td>23071952</td>\n",
       "      <td>23.07.1952</td>\n",
       "    </tr>\n",
       "    <tr>\n",
       "      <th>...</th>\n",
       "      <td>...</td>\n",
       "      <td>...</td>\n",
       "      <td>...</td>\n",
       "      <td>...</td>\n",
       "      <td>...</td>\n",
       "      <td>...</td>\n",
       "      <td>...</td>\n",
       "      <td>...</td>\n",
       "      <td>...</td>\n",
       "      <td>...</td>\n",
       "      <td>...</td>\n",
       "      <td>...</td>\n",
       "      <td>...</td>\n",
       "      <td>...</td>\n",
       "      <td>...</td>\n",
       "      <td>...</td>\n",
       "      <td>...</td>\n",
       "      <td>...</td>\n",
       "      <td>...</td>\n",
       "    </tr>\n",
       "    <tr>\n",
       "      <th>906</th>\n",
       "      <td>NLPBL</td>\n",
       "      <td>NLPBL40</td>\n",
       "      <td>NLPBL_S87</td>\n",
       "      <td>tm</td>\n",
       "      <td>66</td>\n",
       "      <td>9</td>\n",
       "      <td>0.077276</td>\n",
       "      <td>2.924966</td>\n",
       "      <td>0.434783</td>\n",
       "      <td>pub. in this paper</td>\n",
       "      <td>NLPBL</td>\n",
       "      <td>LisaP-IGHFR3-NLPHL42-Rez-lwk3_S99.clones.txt</td>\n",
       "      <td>NLPHL42</td>\n",
       "      <td>ML121_Binder17_201009</td>\n",
       "      <td>male</td>\n",
       "      <td>1012020</td>\n",
       "      <td>52.0</td>\n",
       "      <td>29071968</td>\n",
       "      <td>NaN</td>\n",
       "    </tr>\n",
       "    <tr>\n",
       "      <th>907</th>\n",
       "      <td>HD</td>\n",
       "      <td>HD162</td>\n",
       "      <td>HD_S7</td>\n",
       "      <td>pb</td>\n",
       "      <td>19567</td>\n",
       "      <td>2305</td>\n",
       "      <td>0.024421</td>\n",
       "      <td>10.897760</td>\n",
       "      <td>0.178245</td>\n",
       "      <td>pub. in this paper</td>\n",
       "      <td>HD</td>\n",
       "      <td>HD-Mix2-250ng-1600-FR1-Ig-Anna-A250_S116.clone...</td>\n",
       "      <td>NaN</td>\n",
       "      <td>160513_M04267_0004_000000000-ANUR2</td>\n",
       "      <td>NaN</td>\n",
       "      <td>NaN</td>\n",
       "      <td>NaN</td>\n",
       "      <td>NaN</td>\n",
       "      <td>NaN</td>\n",
       "    </tr>\n",
       "    <tr>\n",
       "      <th>908</th>\n",
       "      <td>HD</td>\n",
       "      <td>HD162</td>\n",
       "      <td>HD_S8</td>\n",
       "      <td>pb</td>\n",
       "      <td>20207</td>\n",
       "      <td>2228</td>\n",
       "      <td>0.027876</td>\n",
       "      <td>10.811510</td>\n",
       "      <td>0.168656</td>\n",
       "      <td>pub. in this paper</td>\n",
       "      <td>HD</td>\n",
       "      <td>HD-Mix2-250ng-320-FR1-Ig-Anna-A250_S117.clones...</td>\n",
       "      <td>NaN</td>\n",
       "      <td>160513_M04267_0004_000000000-ANUR2</td>\n",
       "      <td>NaN</td>\n",
       "      <td>NaN</td>\n",
       "      <td>NaN</td>\n",
       "      <td>NaN</td>\n",
       "      <td>NaN</td>\n",
       "    </tr>\n",
       "    <tr>\n",
       "      <th>909</th>\n",
       "      <td>NLPBL</td>\n",
       "      <td>NLPBL8</td>\n",
       "      <td>NLPBL_S9</td>\n",
       "      <td>ln</td>\n",
       "      <td>32658</td>\n",
       "      <td>7449</td>\n",
       "      <td>0.019619</td>\n",
       "      <td>12.610470</td>\n",
       "      <td>0.175479</td>\n",
       "      <td>[29]</td>\n",
       "      <td>NLPHL</td>\n",
       "      <td>Dona-hs-IGHFR3-1149-Tumor-Erstdiagnose-gDNA_S1...</td>\n",
       "      <td>NLPHL07</td>\n",
       "      <td>ML91_Binder3_190325</td>\n",
       "      <td>male</td>\n",
       "      <td>NaN</td>\n",
       "      <td>10.0</td>\n",
       "      <td>NaN</td>\n",
       "      <td>NaN</td>\n",
       "    </tr>\n",
       "    <tr>\n",
       "      <th>910</th>\n",
       "      <td>HD</td>\n",
       "      <td>HD162</td>\n",
       "      <td>HD_S9</td>\n",
       "      <td>pb</td>\n",
       "      <td>21866</td>\n",
       "      <td>2332</td>\n",
       "      <td>0.040234</td>\n",
       "      <td>10.737239</td>\n",
       "      <td>0.159956</td>\n",
       "      <td>pub. in this paper</td>\n",
       "      <td>HD</td>\n",
       "      <td>HD-Mix2-250ng-40000-FR1-Ig-Anna-m-binder-A250_...</td>\n",
       "      <td>NaN</td>\n",
       "      <td>160513_M04267_0004_000000000-ANUR2</td>\n",
       "      <td>NaN</td>\n",
       "      <td>NaN</td>\n",
       "      <td>NaN</td>\n",
       "      <td>NaN</td>\n",
       "      <td>NaN</td>\n",
       "    </tr>\n",
       "  </tbody>\n",
       "</table>\n",
       "<p>911 rows × 19 columns</p>\n",
       "</div>"
      ],
      "text/plain": [
       "    cohort subjectID   sampleID tissue  total_reads  richness  clonality  \\\n",
       "0      CLL     CLL91     CLL_S1     pb        27222         4   0.991715   \n",
       "1      CLL    CLL165    CLL_S10     pb        35245        54   0.984727   \n",
       "2      CLL     CLL97   CLL_S100     pb        31701        38   0.565454   \n",
       "3      CLL     CLL97   CLL_S101     pb        34219        87   0.633818   \n",
       "4      CLL    CLL106   CLL_S102     pb        42760       272   0.647015   \n",
       "..     ...       ...        ...    ...          ...       ...        ...   \n",
       "906  NLPBL   NLPBL40  NLPBL_S87     tm           66         9   0.077276   \n",
       "907     HD     HD162      HD_S7     pb        19567      2305   0.024421   \n",
       "908     HD     HD162      HD_S8     pb        20207      2228   0.027876   \n",
       "909  NLPBL    NLPBL8   NLPBL_S9     ln        32658      7449   0.019619   \n",
       "910     HD     HD162      HD_S9     pb        21866      2332   0.040234   \n",
       "\n",
       "       shannon  hypermutatedFraction            references  \\\n",
       "0     0.016570              0.000000  [39, 40, 45, 47, 49]   \n",
       "1     0.087897              0.993734              [40, 49]   \n",
       "2     2.280467              0.635372      [39, 40, 45, 47]   \n",
       "3     2.359291              0.601186      [39, 40, 45, 47]   \n",
       "4     2.854754              0.527094      [39, 40, 45, 47]   \n",
       "..         ...                   ...                   ...   \n",
       "906   2.924966              0.434783    pub. in this paper   \n",
       "907  10.897760              0.178245    pub. in this paper   \n",
       "908  10.811510              0.168656    pub. in this paper   \n",
       "909  12.610470              0.175479                  [29]   \n",
       "910  10.737239              0.159956    pub. in this paper   \n",
       "\n",
       "    label in references                                    clones.txt.name  \\\n",
       "0     CLL, blood cancer  MM048-m-binder-E250-CLL351-PB-Wurzburg-Ig-DNA-...   \n",
       "1          blood cancer          F1P-Ig-Simon-m-binder-A250_S91.clones.txt   \n",
       "2     CLL, blood cancer          CLL358-20-05-16-BCR-Simon_S227.clones.txt   \n",
       "3     CLL, blood cancer          CLL358-22-01-16-BCR-Simon_S224.clones.txt   \n",
       "4     CLL, blood cancer          CLL368-06-05-16-BCR-Simon_S222.clones.txt   \n",
       "..                  ...                                                ...   \n",
       "906               NLPBL       LisaP-IGHFR3-NLPHL42-Rez-lwk3_S99.clones.txt   \n",
       "907                  HD  HD-Mix2-250ng-1600-FR1-Ig-Anna-A250_S116.clone...   \n",
       "908                  HD  HD-Mix2-250ng-320-FR1-Ig-Anna-A250_S117.clones...   \n",
       "909               NLPHL  Dona-hs-IGHFR3-1149-Tumor-Erstdiagnose-gDNA_S1...   \n",
       "910                  HD  HD-Mix2-250ng-40000-FR1-Ig-Anna-m-binder-A250_...   \n",
       "\n",
       "    subject_id                              run_id     sex      dosc   age  \\\n",
       "0       CLL351  151207_M04267_0001_000000000-AKNDT    male   1012015  63.0   \n",
       "1           F1  160322_M04267_0003_000000000-ALHW9  female   8032012  62.0   \n",
       "2       CLL358  160901_M04267_0006_000000000-ARKY1    male  20052016  72.0   \n",
       "3       CLL358  160901_M04267_0006_000000000-ARKY1    male  22012016  72.0   \n",
       "4       CLL368  160901_M04267_0006_000000000-ARKY1    male   6052016  63.0   \n",
       "..         ...                                 ...     ...       ...   ...   \n",
       "906    NLPHL42               ML121_Binder17_201009    male   1012020  52.0   \n",
       "907        NaN  160513_M04267_0004_000000000-ANUR2     NaN       NaN   NaN   \n",
       "908        NaN  160513_M04267_0004_000000000-ANUR2     NaN       NaN   NaN   \n",
       "909    NLPHL07                 ML91_Binder3_190325    male       NaN  10.0   \n",
       "910        NaN  160513_M04267_0004_000000000-ANUR2     NaN       NaN   NaN   \n",
       "\n",
       "          dob    dob.date  \n",
       "0     2101951  02.10.1951  \n",
       "1     8081949  08.08.1949  \n",
       "2     6081943  06.08.1943  \n",
       "3     6081943  06.08.1943  \n",
       "4    23071952  23.07.1952  \n",
       "..        ...         ...  \n",
       "906  29071968         NaN  \n",
       "907       NaN         NaN  \n",
       "908       NaN         NaN  \n",
       "909       NaN         NaN  \n",
       "910       NaN         NaN  \n",
       "\n",
       "[911 rows x 19 columns]"
      ]
     },
     "execution_count": 3,
     "metadata": {},
     "output_type": "execute_result"
    }
   ],
   "source": [
    "samples"
   ]
  },
  {
   "cell_type": "code",
   "execution_count": 12,
   "id": "3b7007c7-48ba-4969-b297-c3031c405e23",
   "metadata": {},
   "outputs": [],
   "source": [
    "test = db[db[\"clones.txt.name\"].isin(samples[samples.dosc.isna()][\"clones.txt.name\"])]"
   ]
  },
  {
   "cell_type": "code",
   "execution_count": 14,
   "id": "7e1fa73e-a840-4b12-a898-e1c7cbd4958a",
   "metadata": {},
   "outputs": [
    {
     "data": {
      "text/html": [
       "<div>\n",
       "<style scoped>\n",
       "    .dataframe tbody tr th:only-of-type {\n",
       "        vertical-align: middle;\n",
       "    }\n",
       "\n",
       "    .dataframe tbody tr th {\n",
       "        vertical-align: top;\n",
       "    }\n",
       "\n",
       "    .dataframe thead th {\n",
       "        text-align: right;\n",
       "    }\n",
       "</style>\n",
       "<table border=\"1\" class=\"dataframe\">\n",
       "  <thead>\n",
       "    <tr style=\"text-align: right;\">\n",
       "      <th></th>\n",
       "      <th>PCR_status</th>\n",
       "      <th>pcr_target_locus</th>\n",
       "      <th>organism</th>\n",
       "      <th>template_class</th>\n",
       "      <th>tissue</th>\n",
       "      <th>disease_diagnosis</th>\n",
       "      <th>template_quality</th>\n",
       "      <th>template_amount</th>\n",
       "      <th>clones.txt.name</th>\n",
       "      <th>samplename</th>\n",
       "      <th>...</th>\n",
       "      <th>j_call</th>\n",
       "      <th>c_call</th>\n",
       "      <th>junction</th>\n",
       "      <th>junction_aa</th>\n",
       "      <th>duplicate_count</th>\n",
       "      <th>dod</th>\n",
       "      <th>path_to_clones.txt</th>\n",
       "      <th>number_appearance</th>\n",
       "      <th>dob.date</th>\n",
       "      <th>Unnamed: 96</th>\n",
       "    </tr>\n",
       "  </thead>\n",
       "  <tbody>\n",
       "    <tr>\n",
       "      <th>2657</th>\n",
       "      <td>329</td>\n",
       "      <td>IGHFR3</td>\n",
       "      <td>hs</td>\n",
       "      <td>dna</td>\n",
       "      <td>tm</td>\n",
       "      <td>abc_dlbcl</td>\n",
       "      <td>NaN</td>\n",
       "      <td>NaN</td>\n",
       "      <td>Lisa-hsa-IGHFR3-ABC-DLBCL019-Tumor-gDNA_S66.cl...</td>\n",
       "      <td>Lisa_hsa_IGHFR3_ABC-DLBCL019_Tumor_gDNA</td>\n",
       "      <td>...</td>\n",
       "      <td>NaN</td>\n",
       "      <td>NaN</td>\n",
       "      <td>NaN</td>\n",
       "      <td>NaN</td>\n",
       "      <td>NaN</td>\n",
       "      <td>NaN</td>\n",
       "      <td>NaN</td>\n",
       "      <td>2868.0</td>\n",
       "      <td>05.09.1937</td>\n",
       "      <td>01.01.2017</td>\n",
       "    </tr>\n",
       "  </tbody>\n",
       "</table>\n",
       "<p>1 rows × 97 columns</p>\n",
       "</div>"
      ],
      "text/plain": [
       "     PCR_status pcr_target_locus organism template_class tissue  \\\n",
       "2657        329           IGHFR3       hs            dna     tm   \n",
       "\n",
       "     disease_diagnosis template_quality template_amount  \\\n",
       "2657         abc_dlbcl              NaN             NaN   \n",
       "\n",
       "                                        clones.txt.name  \\\n",
       "2657  Lisa-hsa-IGHFR3-ABC-DLBCL019-Tumor-gDNA_S66.cl...   \n",
       "\n",
       "                                   samplename  ... j_call c_call junction  \\\n",
       "2657  Lisa_hsa_IGHFR3_ABC-DLBCL019_Tumor_gDNA  ...    NaN    NaN      NaN   \n",
       "\n",
       "     junction_aa duplicate_count  dod path_to_clones.txt number_appearance  \\\n",
       "2657         NaN             NaN  NaN                NaN            2868.0   \n",
       "\n",
       "        dob.date Unnamed: 96  \n",
       "2657  05.09.1937  01.01.2017  \n",
       "\n",
       "[1 rows x 97 columns]"
      ]
     },
     "execution_count": 14,
     "metadata": {},
     "output_type": "execute_result"
    }
   ],
   "source": [
    "test[~test.iloc[:,-1].isna()]"
   ]
  },
  {
   "cell_type": "code",
   "execution_count": 106,
   "id": "666fbadc-1039-4a9a-8b2d-6aded1901d4e",
   "metadata": {},
   "outputs": [],
   "source": [
    "import sys\n",
    "sys.path.insert(1, '../tuim')\n",
    "import utils"
   ]
  },
  {
   "cell_type": "code",
   "execution_count": 15,
   "id": "02a04e4c-b139-4a4f-96be-21d9b070d690",
   "metadata": {},
   "outputs": [],
   "source": [
    "samples = pd.read_csv(\"/Volumes/tuim$/TUIM/Paul/Anträge/immusign/data_ena_lookup_table.csv\")"
   ]
  },
  {
   "cell_type": "code",
   "execution_count": 77,
   "id": "b1b8a3d1-c484-455d-b9c6-9e340b8195df",
   "metadata": {},
   "outputs": [],
   "source": [
    "date_dict = {\"1012015\" : \"2015-10-01\",\n",
    "\"8032012\" : \"2012-03-08\",\n",
    "\"20052016\" : \"2016-05-20\",\n",
    "\"22012016\" : \"2016-01-22\",\n",
    "\"6052016\" : \"2016-05-06\",\n",
    "\"10062016\" : \"2016-06-10\",\n",
    "\"31072012\" : \"2012-07-31\",\n",
    "'15012016' : \"2016-01-15\",\n",
    "'28042016': \"2016-04-28\", \n",
    "'2017' : \"2017\", \n",
    "'1032017' : \"2017-03-10\",\n",
    "'1052012' : \"2012-05-10\",\n",
    "'15102014' : \"2014-10-15\",\n",
    "'112.015' : \"2015-11-20\", \n",
    "'1092015' : \"2015-09-10\",\n",
    "'8032017' : \"2017-03-08\",\n",
    "'1022015' : \"2015-02-10\",\n",
    "'32015' : \"2015-01-01\"}\n"
   ]
  },
  {
   "cell_type": "code",
   "execution_count": 78,
   "id": "e628f505-cee7-4ce6-98af-4cb23da96e4c",
   "metadata": {},
   "outputs": [],
   "source": [
    "from datetime import datetime\n",
    "# Function to convert date strings\n",
    "def convert_date(date_str):\n",
    "    # Check if the string is in DDMMYYYY format\n",
    "    if len(date_str) == 8:\n",
    "        date_obj = datetime.strptime(date_str, '%d%m%Y')\n",
    "    # Check if the string is in DMMYYYY format\n",
    "    elif len(date_str) == 7:\n",
    "        date_obj = datetime.strptime(date_str, '%d%m%Y')\n",
    "    elif len(date_str) == 4:\n",
    "        return date_str     \n",
    "        #raise ValueError(f\"Unexpected date format: {date_str}\")\n",
    "    # Return the date in YYYY-MM-DD format\n",
    "    return date_obj.strftime('%Y-%m-%d')"
   ]
  },
  {
   "cell_type": "code",
   "execution_count": 79,
   "id": "11af3290-66db-4eac-b58c-391e68f1d7fe",
   "metadata": {},
   "outputs": [],
   "source": [
    "date_strings = ['18122015', '1022011', '4052016', '2112016', '28072015',\n",
    "       '23092016', '7102016', '7062015', '7122011', '3052017', '31032017',\n",
    "       '6062017', '19052017', '1052010', '19042010', '29112010',\n",
    "       '3052011', '14062017', '17052017', '22022017', '28062017',\n",
    "       '7042015', '22022012', '15102010', '9102013', '6072015', '4092015',\n",
    "       '19092017', '11092017', '24082017', '9102017', '7012014',\n",
    "       '22102015', '14112012', '27012014', '23062014', '16072015',\n",
    "       '8022018', '16012018', '5042018', '12042018', '29052018',\n",
    "    '3012012','2020', '10112015',\n",
    "       '19082009', '2019', '14052012', '2022', '2021', '13082010',\n",
    "       '6052012', '22052009', '9102015', '11122013', '17022015',\n",
    "       '27012016', '25032014', '3112015', '4122014', '12112015',\n",
    "       '10122014', '19112015', '13012014', '6012015', '17122015',\n",
    "       '22012014', '11022015', '20082015', '9122015', '23012014',\n",
    "       '8012015', '11012016', '13012016', '29012014', '7012015',\n",
    "       '23122015', '20112015', '21012015', '20012016', '5022014',\n",
    "       '26012015', '14012015', '21082014', '3032014', '17102012',\n",
    "       '29012013', '18032016', '19022016', '1092012', '1012016',\n",
    "       '1012017', '1012018', '1012010', '1012001', '1012006', '1012005',\n",
    "       '1012004', '1012019', '2018', '1012014', '1072012',\n",
    "       '1022017', '1032015', '2016', '7112017', '8112017', '28052018', '28102020', '29012020', '1012012','1012007', '1032011','27072020',\n",
    "       '1012003', '11032015', '1012011', '20062017','7072017','1011993', '1012013',\n",
    "       '1012009', '7022020', '1012020', '1012008','1011987','1011994','1012000','1012002']\n",
    "\n",
    "for i in date_strings:\n",
    "    date_dict[i] = convert_date(i)"
   ]
  },
  {
   "cell_type": "code",
   "execution_count": 80,
   "id": "b0064514-63f7-4bdf-b97d-9bef7b6de8e2",
   "metadata": {},
   "outputs": [],
   "source": [
    "date_strings = ['20190214', '20190221', '20170106', '20190205', '20190401', '20190410', '20190605', '20190710','20200417',\n",
    "'20200421','20201111', '20201028', '20201104','20201228']"
   ]
  },
  {
   "cell_type": "code",
   "execution_count": 81,
   "id": "8d49baed-7471-4854-b84d-91285d3cecff",
   "metadata": {},
   "outputs": [],
   "source": [
    "for i in date_strings:\n",
    "    date_obj = datetime.strptime(i, '%Y%m%d')\n",
    "    date_dict[i] = date_obj.strftime('%Y-%m-%d')"
   ]
  },
  {
   "cell_type": "code",
   "execution_count": 82,
   "id": "93787f56-53c0-4c0f-9e30-f926826e0de1",
   "metadata": {},
   "outputs": [],
   "source": [
    "date_strings = [    \n",
    "    '23.06.2014','14.11.2017', '20.07.2012', '23.01.2018', '09.03.2017',\n",
    "       '06.03.2018', '07.11.2017', '28.05.2018', '11.04.2017',\n",
    "       '25.04.2017', '27.04.2017', '02.08.2017', '01.06.2018',\n",
    "       '31.01.2017', '18.05.2017', '19.03.2020', '20.03.2020', '01.01.2013', '01.01.2019', '01.01.2018', '01.01.2014',\n",
    "       '01.01.2012', '01.01.2010','01.01.2009']"
   ]
  },
  {
   "cell_type": "code",
   "execution_count": 83,
   "id": "f1023244-90a2-4cd0-a2bb-2ba40bb93234",
   "metadata": {},
   "outputs": [],
   "source": [
    "for i in date_strings:\n",
    "    date_obj = datetime.strptime(i, '%d.%m.%Y')\n",
    "    date_dict[i] = date_obj.strftime('%Y-%m-%d')"
   ]
  },
  {
   "cell_type": "code",
   "execution_count": 84,
   "id": "a6634c99-e797-4e2e-b955-03f980e4c418",
   "metadata": {},
   "outputs": [
    {
     "data": {
      "text/plain": [
       "set()"
      ]
     },
     "execution_count": 84,
     "metadata": {},
     "output_type": "execute_result"
    }
   ],
   "source": [
    "set(samples.dosc.unique()) - set(date_dict.keys())"
   ]
  },
  {
   "cell_type": "code",
   "execution_count": 85,
   "id": "3db12249-dda1-485c-a5fe-f802b0723e86",
   "metadata": {},
   "outputs": [],
   "source": [
    "samples[\"dosc_new\"] = samples.dosc.map(date_dict)"
   ]
  },
  {
   "cell_type": "code",
   "execution_count": 87,
   "id": "b907b912-98da-40d8-88c8-4d6076b6ff2b",
   "metadata": {},
   "outputs": [
    {
     "data": {
      "text/plain": [
       "array(['2015-10-01', '2012-03-08', '2016-05-20', '2016-01-22',\n",
       "       '2016-05-06', '2016-06-10', '2012-07-31', '2016-01-15',\n",
       "       '2016-04-28', '2017', '2017-03-10', '2012-05-10', '2014-10-15',\n",
       "       '2015-11-20', '2015-09-10', '2017-03-08', '2015-02-10',\n",
       "       '2015-12-18', '2011-02-10', '2016-05-04', '2016-01-21',\n",
       "       '2015-07-28', '2016-09-23', '2016-10-07', '2015-06-07',\n",
       "       '2011-12-07', '2017-05-30', '2017-03-31', '2017-06-06',\n",
       "       '2017-05-19', '2010-05-10', '2010-04-19', '2010-11-29',\n",
       "       '2011-05-30', '2017-06-14', '2017-05-17', '2017-02-22',\n",
       "       '2017-06-28', '2015-04-07', '2012-02-22', '2010-10-15',\n",
       "       '2013-10-09', '2015-07-06', '2015-09-04', '2017-09-19',\n",
       "       '2017-09-11', '2017-08-24', '2017-10-09', '2014-01-07',\n",
       "       '2015-10-22', '2012-11-14', '2014-01-27', '2014-06-23',\n",
       "       '2015-07-16', '2018-02-08', '2018-01-16', '2018-04-05',\n",
       "       '2018-04-12', '2018-05-29', '2017-01-06', '2019-02-05',\n",
       "       '2012-01-30', '2019-02-14', '2019-02-21', '2019-04-01',\n",
       "       '2019-04-10', '2019-06-05', '2019-07-10', '2020', '2015-11-10',\n",
       "       '2009-08-19', '2019', '2012-05-14', '2022', '2021', '2010-08-13',\n",
       "       '2012-05-06', '2009-05-22', '2015-10-09', '2013-12-11',\n",
       "       '2015-02-17', '2016-01-27', '2014-03-25', '2015-01-31',\n",
       "       '2014-12-04', '2015-11-12', '2014-12-10', '2015-11-19',\n",
       "       '2014-01-13', '2015-01-06', '2015-12-17', '2014-01-22',\n",
       "       '2015-02-11', '2015-08-20', '2015-12-09', '2014-01-23',\n",
       "       '2015-01-08', '2016-01-11', '2016-01-13', '2014-01-29',\n",
       "       '2015-01-07', '2015-12-23', '2015-01-21', '2016-01-20',\n",
       "       '2014-02-05', '2015-01-26', '2015-01-14', '2014-08-21',\n",
       "       '2014-03-30', '2012-10-17', '2013-01-29', '2016-03-18',\n",
       "       '2016-02-19', '2012-09-10', '2016-01-10', '2017-01-10',\n",
       "       '2018-01-10', '2010-01-10', '2001-01-10', '2006-01-10',\n",
       "       '2005-01-10', '2004-01-10', '2019-01-10', '2018', '2014-01-10',\n",
       "       '2012-07-10', '2017-02-10', '2015-03-10', '2016', '2017-11-07',\n",
       "       '2017-11-08', '2018-05-28', '2017-11-14', '2012-07-20',\n",
       "       '2018-01-23', '2017-03-09', '2018-03-06', '2017-04-11',\n",
       "       '2017-04-25', '2017-04-27', '2017-08-02', '2018-06-01',\n",
       "       '2017-01-31', '2017-05-18', '2020-03-19', '2020-03-20',\n",
       "       '2020-04-17', '2020-04-21', '2020-07-27', '2020-11-11',\n",
       "       '2020-10-28', '2020-11-04', '2020-01-29', '2020-12-28',\n",
       "       '2003-01-10', '2012-01-10', '2007-01-10', '2011-03-10',\n",
       "       '2015-01-01', '2015-03-11', '2011-01-10', '2017-06-20',\n",
       "       '2017-07-07', '2013-01-01', '2019-01-01', '2018-01-01',\n",
       "       '2014-01-01', '2012-01-01', '2002-01-10', '2000-01-10',\n",
       "       '2010-01-01', '2008-01-10', '2009-01-01', '1987-01-10',\n",
       "       '1994-01-10', '1993-01-10', '2013-01-10', '2009-01-10',\n",
       "       '2020-02-07', '2020-01-10'], dtype=object)"
      ]
     },
     "execution_count": 87,
     "metadata": {},
     "output_type": "execute_result"
    }
   ],
   "source": [
    "samples[\"dosc_new\"].unique()"
   ]
  },
  {
   "cell_type": "code",
   "execution_count": 93,
   "id": "85da025b-7e35-4f37-be56-60c19ce7532a",
   "metadata": {},
   "outputs": [],
   "source": [
    "samples[\"sample_title\"] = samples[\"sampleID\"] + \"_hs_\" + \"IGH_\" + samples[\"tissue\"]"
   ]
  },
  {
   "cell_type": "code",
   "execution_count": 98,
   "id": "da56faa7-e05f-44dd-99b0-5efbf626b7e0",
   "metadata": {},
   "outputs": [],
   "source": [
    "samples[\"sample_description\"] = samples[\"sampleID\"] + \"_\" + samples[\"tissue\"]"
   ]
  },
  {
   "cell_type": "code",
   "execution_count": 99,
   "id": "e5c86ddb-7f14-4458-9972-a6c41e389afb",
   "metadata": {},
   "outputs": [],
   "source": [
    "#samples.to_csv(\"/Volumes/tuim$/TUIM/Paul/Anträge/immusign/data_ena_lookup_table_new.csv\")"
   ]
  },
  {
   "cell_type": "code",
   "execution_count": 100,
   "id": "4853f35a-9da5-46cc-bdc5-31ce23124d8b",
   "metadata": {},
   "outputs": [
    {
     "data": {
      "text/html": [
       "<div>\n",
       "<style scoped>\n",
       "    .dataframe tbody tr th:only-of-type {\n",
       "        vertical-align: middle;\n",
       "    }\n",
       "\n",
       "    .dataframe tbody tr th {\n",
       "        vertical-align: top;\n",
       "    }\n",
       "\n",
       "    .dataframe thead th {\n",
       "        text-align: right;\n",
       "    }\n",
       "</style>\n",
       "<table border=\"1\" class=\"dataframe\">\n",
       "  <thead>\n",
       "    <tr style=\"text-align: right;\">\n",
       "      <th></th>\n",
       "      <th>cohort</th>\n",
       "      <th>subjectID</th>\n",
       "      <th>sampleID</th>\n",
       "      <th>tissue</th>\n",
       "      <th>total_reads</th>\n",
       "      <th>richness</th>\n",
       "      <th>clonality</th>\n",
       "      <th>shannon</th>\n",
       "      <th>hypermutatedFraction</th>\n",
       "      <th>references</th>\n",
       "      <th>...</th>\n",
       "      <th>subject_id</th>\n",
       "      <th>run_id</th>\n",
       "      <th>sex</th>\n",
       "      <th>dosc</th>\n",
       "      <th>age</th>\n",
       "      <th>dob</th>\n",
       "      <th>dob.date</th>\n",
       "      <th>dosc_new</th>\n",
       "      <th>sample_title</th>\n",
       "      <th>sample_description</th>\n",
       "    </tr>\n",
       "  </thead>\n",
       "  <tbody>\n",
       "    <tr>\n",
       "      <th>0</th>\n",
       "      <td>CLL</td>\n",
       "      <td>CLL91</td>\n",
       "      <td>CLL_S1</td>\n",
       "      <td>pb</td>\n",
       "      <td>27222</td>\n",
       "      <td>4</td>\n",
       "      <td>0.991715</td>\n",
       "      <td>0.016570</td>\n",
       "      <td>0.000000</td>\n",
       "      <td>[39, 40, 45, 47, 49]</td>\n",
       "      <td>...</td>\n",
       "      <td>CLL351</td>\n",
       "      <td>151207_M04267_0001_000000000-AKNDT</td>\n",
       "      <td>male</td>\n",
       "      <td>1012015</td>\n",
       "      <td>63</td>\n",
       "      <td>2101951</td>\n",
       "      <td>02.10.1951</td>\n",
       "      <td>2015-10-01</td>\n",
       "      <td>CLL_S1_hs_IGH_pb</td>\n",
       "      <td>CLL_S1_pb</td>\n",
       "    </tr>\n",
       "    <tr>\n",
       "      <th>1</th>\n",
       "      <td>CLL</td>\n",
       "      <td>CLL165</td>\n",
       "      <td>CLL_S10</td>\n",
       "      <td>pb</td>\n",
       "      <td>35245</td>\n",
       "      <td>54</td>\n",
       "      <td>0.984727</td>\n",
       "      <td>0.087897</td>\n",
       "      <td>0.993734</td>\n",
       "      <td>[40, 49]</td>\n",
       "      <td>...</td>\n",
       "      <td>F1</td>\n",
       "      <td>160322_M04267_0003_000000000-ALHW9</td>\n",
       "      <td>female</td>\n",
       "      <td>8032012</td>\n",
       "      <td>62</td>\n",
       "      <td>8081949</td>\n",
       "      <td>08.08.1949</td>\n",
       "      <td>2012-03-08</td>\n",
       "      <td>CLL_S10_hs_IGH_pb</td>\n",
       "      <td>CLL_S10_pb</td>\n",
       "    </tr>\n",
       "    <tr>\n",
       "      <th>2</th>\n",
       "      <td>CLL</td>\n",
       "      <td>CLL97</td>\n",
       "      <td>CLL_S100</td>\n",
       "      <td>pb</td>\n",
       "      <td>31701</td>\n",
       "      <td>38</td>\n",
       "      <td>0.565454</td>\n",
       "      <td>2.280467</td>\n",
       "      <td>0.635372</td>\n",
       "      <td>[39, 40, 45, 47]</td>\n",
       "      <td>...</td>\n",
       "      <td>CLL358</td>\n",
       "      <td>160901_M04267_0006_000000000-ARKY1</td>\n",
       "      <td>male</td>\n",
       "      <td>20052016</td>\n",
       "      <td>72</td>\n",
       "      <td>6081943</td>\n",
       "      <td>06.08.1943</td>\n",
       "      <td>2016-05-20</td>\n",
       "      <td>CLL_S100_hs_IGH_pb</td>\n",
       "      <td>CLL_S100_pb</td>\n",
       "    </tr>\n",
       "    <tr>\n",
       "      <th>3</th>\n",
       "      <td>CLL</td>\n",
       "      <td>CLL97</td>\n",
       "      <td>CLL_S101</td>\n",
       "      <td>pb</td>\n",
       "      <td>34219</td>\n",
       "      <td>87</td>\n",
       "      <td>0.633818</td>\n",
       "      <td>2.359291</td>\n",
       "      <td>0.601186</td>\n",
       "      <td>[39, 40, 45, 47]</td>\n",
       "      <td>...</td>\n",
       "      <td>CLL358</td>\n",
       "      <td>160901_M04267_0006_000000000-ARKY1</td>\n",
       "      <td>male</td>\n",
       "      <td>22012016</td>\n",
       "      <td>72</td>\n",
       "      <td>6081943</td>\n",
       "      <td>06.08.1943</td>\n",
       "      <td>2016-01-22</td>\n",
       "      <td>CLL_S101_hs_IGH_pb</td>\n",
       "      <td>CLL_S101_pb</td>\n",
       "    </tr>\n",
       "    <tr>\n",
       "      <th>4</th>\n",
       "      <td>CLL</td>\n",
       "      <td>CLL106</td>\n",
       "      <td>CLL_S102</td>\n",
       "      <td>pb</td>\n",
       "      <td>42760</td>\n",
       "      <td>272</td>\n",
       "      <td>0.647015</td>\n",
       "      <td>2.854754</td>\n",
       "      <td>0.527094</td>\n",
       "      <td>[39, 40, 45, 47]</td>\n",
       "      <td>...</td>\n",
       "      <td>CLL368</td>\n",
       "      <td>160901_M04267_0006_000000000-ARKY1</td>\n",
       "      <td>male</td>\n",
       "      <td>6052016</td>\n",
       "      <td>63</td>\n",
       "      <td>23071952</td>\n",
       "      <td>23.07.1952</td>\n",
       "      <td>2016-05-06</td>\n",
       "      <td>CLL_S102_hs_IGH_pb</td>\n",
       "      <td>CLL_S102_pb</td>\n",
       "    </tr>\n",
       "    <tr>\n",
       "      <th>...</th>\n",
       "      <td>...</td>\n",
       "      <td>...</td>\n",
       "      <td>...</td>\n",
       "      <td>...</td>\n",
       "      <td>...</td>\n",
       "      <td>...</td>\n",
       "      <td>...</td>\n",
       "      <td>...</td>\n",
       "      <td>...</td>\n",
       "      <td>...</td>\n",
       "      <td>...</td>\n",
       "      <td>...</td>\n",
       "      <td>...</td>\n",
       "      <td>...</td>\n",
       "      <td>...</td>\n",
       "      <td>...</td>\n",
       "      <td>...</td>\n",
       "      <td>...</td>\n",
       "      <td>...</td>\n",
       "      <td>...</td>\n",
       "      <td>...</td>\n",
       "    </tr>\n",
       "    <tr>\n",
       "      <th>906</th>\n",
       "      <td>NLPBL</td>\n",
       "      <td>NLPBL40</td>\n",
       "      <td>NLPBL_S87</td>\n",
       "      <td>tm</td>\n",
       "      <td>66</td>\n",
       "      <td>9</td>\n",
       "      <td>0.077276</td>\n",
       "      <td>2.924966</td>\n",
       "      <td>0.434783</td>\n",
       "      <td>pub. in this paper</td>\n",
       "      <td>...</td>\n",
       "      <td>NLPHL42</td>\n",
       "      <td>ML121_Binder17_201009</td>\n",
       "      <td>male</td>\n",
       "      <td>1012020</td>\n",
       "      <td>52</td>\n",
       "      <td>29071968</td>\n",
       "      <td>NaN</td>\n",
       "      <td>2020-01-10</td>\n",
       "      <td>NLPBL_S87_hs_IGH_tm</td>\n",
       "      <td>NLPBL_S87_tm</td>\n",
       "    </tr>\n",
       "    <tr>\n",
       "      <th>907</th>\n",
       "      <td>HD</td>\n",
       "      <td>HD162</td>\n",
       "      <td>HD_S7</td>\n",
       "      <td>pb</td>\n",
       "      <td>19567</td>\n",
       "      <td>2305</td>\n",
       "      <td>0.024421</td>\n",
       "      <td>10.897760</td>\n",
       "      <td>0.178245</td>\n",
       "      <td>pub. in this paper</td>\n",
       "      <td>...</td>\n",
       "      <td>NaN</td>\n",
       "      <td>160513_M04267_0004_000000000-ANUR2</td>\n",
       "      <td>unknown</td>\n",
       "      <td>2016</td>\n",
       "      <td>unknown</td>\n",
       "      <td>NaN</td>\n",
       "      <td>NaN</td>\n",
       "      <td>2016</td>\n",
       "      <td>HD_S7_hs_IGH_pb</td>\n",
       "      <td>HD_S7_pb</td>\n",
       "    </tr>\n",
       "    <tr>\n",
       "      <th>908</th>\n",
       "      <td>HD</td>\n",
       "      <td>HD162</td>\n",
       "      <td>HD_S8</td>\n",
       "      <td>pb</td>\n",
       "      <td>20207</td>\n",
       "      <td>2228</td>\n",
       "      <td>0.027876</td>\n",
       "      <td>10.811510</td>\n",
       "      <td>0.168656</td>\n",
       "      <td>pub. in this paper</td>\n",
       "      <td>...</td>\n",
       "      <td>NaN</td>\n",
       "      <td>160513_M04267_0004_000000000-ANUR2</td>\n",
       "      <td>unknown</td>\n",
       "      <td>2016</td>\n",
       "      <td>unknown</td>\n",
       "      <td>NaN</td>\n",
       "      <td>NaN</td>\n",
       "      <td>2016</td>\n",
       "      <td>HD_S8_hs_IGH_pb</td>\n",
       "      <td>HD_S8_pb</td>\n",
       "    </tr>\n",
       "    <tr>\n",
       "      <th>909</th>\n",
       "      <td>NLPBL</td>\n",
       "      <td>NLPBL8</td>\n",
       "      <td>NLPBL_S9</td>\n",
       "      <td>ln</td>\n",
       "      <td>32658</td>\n",
       "      <td>7449</td>\n",
       "      <td>0.019619</td>\n",
       "      <td>12.610470</td>\n",
       "      <td>0.175479</td>\n",
       "      <td>[29]</td>\n",
       "      <td>...</td>\n",
       "      <td>NLPHL07</td>\n",
       "      <td>ML91_Binder3_190325</td>\n",
       "      <td>male</td>\n",
       "      <td>2019</td>\n",
       "      <td>10</td>\n",
       "      <td>NaN</td>\n",
       "      <td>NaN</td>\n",
       "      <td>2019</td>\n",
       "      <td>NLPBL_S9_hs_IGH_ln</td>\n",
       "      <td>NLPBL_S9_ln</td>\n",
       "    </tr>\n",
       "    <tr>\n",
       "      <th>910</th>\n",
       "      <td>HD</td>\n",
       "      <td>HD162</td>\n",
       "      <td>HD_S9</td>\n",
       "      <td>pb</td>\n",
       "      <td>21866</td>\n",
       "      <td>2332</td>\n",
       "      <td>0.040234</td>\n",
       "      <td>10.737239</td>\n",
       "      <td>0.159956</td>\n",
       "      <td>pub. in this paper</td>\n",
       "      <td>...</td>\n",
       "      <td>NaN</td>\n",
       "      <td>160513_M04267_0004_000000000-ANUR2</td>\n",
       "      <td>unknown</td>\n",
       "      <td>2016</td>\n",
       "      <td>unknown</td>\n",
       "      <td>NaN</td>\n",
       "      <td>NaN</td>\n",
       "      <td>2016</td>\n",
       "      <td>HD_S9_hs_IGH_pb</td>\n",
       "      <td>HD_S9_pb</td>\n",
       "    </tr>\n",
       "  </tbody>\n",
       "</table>\n",
       "<p>911 rows × 22 columns</p>\n",
       "</div>"
      ],
      "text/plain": [
       "    cohort subjectID   sampleID tissue  total_reads  richness  clonality  \\\n",
       "0      CLL     CLL91     CLL_S1     pb        27222         4   0.991715   \n",
       "1      CLL    CLL165    CLL_S10     pb        35245        54   0.984727   \n",
       "2      CLL     CLL97   CLL_S100     pb        31701        38   0.565454   \n",
       "3      CLL     CLL97   CLL_S101     pb        34219        87   0.633818   \n",
       "4      CLL    CLL106   CLL_S102     pb        42760       272   0.647015   \n",
       "..     ...       ...        ...    ...          ...       ...        ...   \n",
       "906  NLPBL   NLPBL40  NLPBL_S87     tm           66         9   0.077276   \n",
       "907     HD     HD162      HD_S7     pb        19567      2305   0.024421   \n",
       "908     HD     HD162      HD_S8     pb        20207      2228   0.027876   \n",
       "909  NLPBL    NLPBL8   NLPBL_S9     ln        32658      7449   0.019619   \n",
       "910     HD     HD162      HD_S9     pb        21866      2332   0.040234   \n",
       "\n",
       "       shannon  hypermutatedFraction            references  ... subject_id  \\\n",
       "0     0.016570              0.000000  [39, 40, 45, 47, 49]  ...     CLL351   \n",
       "1     0.087897              0.993734              [40, 49]  ...         F1   \n",
       "2     2.280467              0.635372      [39, 40, 45, 47]  ...     CLL358   \n",
       "3     2.359291              0.601186      [39, 40, 45, 47]  ...     CLL358   \n",
       "4     2.854754              0.527094      [39, 40, 45, 47]  ...     CLL368   \n",
       "..         ...                   ...                   ...  ...        ...   \n",
       "906   2.924966              0.434783    pub. in this paper  ...    NLPHL42   \n",
       "907  10.897760              0.178245    pub. in this paper  ...        NaN   \n",
       "908  10.811510              0.168656    pub. in this paper  ...        NaN   \n",
       "909  12.610470              0.175479                  [29]  ...    NLPHL07   \n",
       "910  10.737239              0.159956    pub. in this paper  ...        NaN   \n",
       "\n",
       "                                 run_id      sex      dosc      age       dob  \\\n",
       "0    151207_M04267_0001_000000000-AKNDT     male   1012015       63   2101951   \n",
       "1    160322_M04267_0003_000000000-ALHW9   female   8032012       62   8081949   \n",
       "2    160901_M04267_0006_000000000-ARKY1     male  20052016       72   6081943   \n",
       "3    160901_M04267_0006_000000000-ARKY1     male  22012016       72   6081943   \n",
       "4    160901_M04267_0006_000000000-ARKY1     male   6052016       63  23071952   \n",
       "..                                  ...      ...       ...      ...       ...   \n",
       "906               ML121_Binder17_201009     male   1012020       52  29071968   \n",
       "907  160513_M04267_0004_000000000-ANUR2  unknown      2016  unknown       NaN   \n",
       "908  160513_M04267_0004_000000000-ANUR2  unknown      2016  unknown       NaN   \n",
       "909                 ML91_Binder3_190325     male      2019       10       NaN   \n",
       "910  160513_M04267_0004_000000000-ANUR2  unknown      2016  unknown       NaN   \n",
       "\n",
       "       dob.date    dosc_new         sample_title sample_description  \n",
       "0    02.10.1951  2015-10-01     CLL_S1_hs_IGH_pb          CLL_S1_pb  \n",
       "1    08.08.1949  2012-03-08    CLL_S10_hs_IGH_pb         CLL_S10_pb  \n",
       "2    06.08.1943  2016-05-20   CLL_S100_hs_IGH_pb        CLL_S100_pb  \n",
       "3    06.08.1943  2016-01-22   CLL_S101_hs_IGH_pb        CLL_S101_pb  \n",
       "4    23.07.1952  2016-05-06   CLL_S102_hs_IGH_pb        CLL_S102_pb  \n",
       "..          ...         ...                  ...                ...  \n",
       "906         NaN  2020-01-10  NLPBL_S87_hs_IGH_tm       NLPBL_S87_tm  \n",
       "907         NaN        2016      HD_S7_hs_IGH_pb           HD_S7_pb  \n",
       "908         NaN        2016      HD_S8_hs_IGH_pb           HD_S8_pb  \n",
       "909         NaN        2019   NLPBL_S9_hs_IGH_ln        NLPBL_S9_ln  \n",
       "910         NaN        2016      HD_S9_hs_IGH_pb           HD_S9_pb  \n",
       "\n",
       "[911 rows x 22 columns]"
      ]
     },
     "execution_count": 100,
     "metadata": {},
     "output_type": "execute_result"
    }
   ],
   "source": [
    "samples"
   ]
  },
  {
   "cell_type": "code",
   "execution_count": 103,
   "id": "cf7209cf-9907-4a9f-b849-b42550b9f3a8",
   "metadata": {},
   "outputs": [],
   "source": [
    "samples[\"new_sample_name\"] = samples[\"sample_title\"] + \".clones.txt\""
   ]
  },
  {
   "cell_type": "code",
   "execution_count": 105,
   "id": "969f1ace-ad81-4fa3-b3f5-ac0669fdeb95",
   "metadata": {},
   "outputs": [],
   "source": [
    "#samples.to_csv(\"/Volumes/tuim$/TUIM/Paul/Anträge/immusign/data_ena_lookup_table_new.csv\")"
   ]
  },
  {
   "cell_type": "code",
   "execution_count": 114,
   "id": "5ad8a619-5a1c-4111-a48c-fc2c4de47a19",
   "metadata": {},
   "outputs": [],
   "source": [
    "import shutil\n",
    "import os\n",
    "clones_dir = \"data/clones_mit_kidera\"\n",
    "target_dir = \"/Volumes/tuim$/TUIM/Paul/Anträge/immusign/ena/clone_files\"\n",
    "for i, row in samples.iterrows():\n",
    "    #print(os.path.join(clones_dir, row[\"clones.txt.name\"]), os.path.join(target_dir,row[\"new_sample_name\"]))\n",
    "    shutil.copyfile(os.path.join(clones_dir, row[\"clones.txt.name\"]), os.path.join(target_dir,row[\"new_sample_name\"]))"
   ]
  },
  {
   "cell_type": "code",
   "execution_count": 127,
   "id": "cbe0f96d-5cdd-4973-be23-ee059343be97",
   "metadata": {},
   "outputs": [],
   "source": [
    "import os\n",
    "import hashlib\n",
    "\n",
    "def generate_md5_checksum(file_path):\n",
    "    \"\"\"Generate MD5 checksum for a given file.\"\"\"\n",
    "    hash_md5 = hashlib.md5()\n",
    "    with open(file_path, \"rb\") as f:\n",
    "        for chunk in iter(lambda: f.read(4096), b\"\"):\n",
    "            hash_md5.update(chunk)\n",
    "    return hash_md5.hexdigest()\n",
    "\n",
    "def create_individual_checksum_files(directory):\n",
    "    \"\"\"Create individual checksum files for each file in a directory.\"\"\"\n",
    "    for root, dirs, files in os.walk(directory):\n",
    "        for file in files:\n",
    "            file_path = os.path.join(root, file)\n",
    "            md5_checksum = generate_md5_checksum(file_path)\n",
    "            checksum_file_path = f\"{file_path}.md5\"\n",
    "            with open(checksum_file_path, 'w') as checksum_file:\n",
    "                checksum_file.write(md5_checksum + \"\\n\")\n"
   ]
  },
  {
   "cell_type": "code",
   "execution_count": 117,
   "id": "950dc784-f39d-45b8-b50c-5b03f3cb77aa",
   "metadata": {},
   "outputs": [],
   "source": [
    "files = os.listdir(\"/Users/labadmin/Projects/immusign/ena/clone_files\")"
   ]
  },
  {
   "cell_type": "code",
   "execution_count": 128,
   "id": "eda24162-c0af-43a5-bebd-066af227f762",
   "metadata": {},
   "outputs": [],
   "source": [
    "create_individual_checksum_files(\"/Users/labadmin/Projects/immusign/ena/clone_files\")"
   ]
  },
  {
   "cell_type": "code",
   "execution_count": 124,
   "id": "84973452-3c7e-4147-9488-8635a08982bf",
   "metadata": {},
   "outputs": [],
   "source": [
    "samples[\"checksum_files\"] = samples[\"new_sample_name\"] + \".md5\""
   ]
  },
  {
   "cell_type": "code",
   "execution_count": 147,
   "id": "b55be816-2af7-4ace-ae57-899ad75c8079",
   "metadata": {},
   "outputs": [],
   "source": [
    "samples[\"new_sample_name_cram\"] = samples[\"new_sample_name\"] + \".cram\""
   ]
  },
  {
   "cell_type": "code",
   "execution_count": 148,
   "id": "12d89354-044f-46b3-b020-e6781d8207db",
   "metadata": {},
   "outputs": [
    {
     "data": {
      "text/html": [
       "<div>\n",
       "<style scoped>\n",
       "    .dataframe tbody tr th:only-of-type {\n",
       "        vertical-align: middle;\n",
       "    }\n",
       "\n",
       "    .dataframe tbody tr th {\n",
       "        vertical-align: top;\n",
       "    }\n",
       "\n",
       "    .dataframe thead th {\n",
       "        text-align: right;\n",
       "    }\n",
       "</style>\n",
       "<table border=\"1\" class=\"dataframe\">\n",
       "  <thead>\n",
       "    <tr style=\"text-align: right;\">\n",
       "      <th></th>\n",
       "      <th>cohort</th>\n",
       "      <th>subjectID</th>\n",
       "      <th>sampleID</th>\n",
       "      <th>tissue</th>\n",
       "      <th>total_reads</th>\n",
       "      <th>richness</th>\n",
       "      <th>clonality</th>\n",
       "      <th>shannon</th>\n",
       "      <th>hypermutatedFraction</th>\n",
       "      <th>references</th>\n",
       "      <th>...</th>\n",
       "      <th>age</th>\n",
       "      <th>dob</th>\n",
       "      <th>dob.date</th>\n",
       "      <th>dosc_new</th>\n",
       "      <th>sample_title</th>\n",
       "      <th>sample_description</th>\n",
       "      <th>new_sample_name</th>\n",
       "      <th>checksum_files</th>\n",
       "      <th>checksum_numbers</th>\n",
       "      <th>new_sample_name_cram</th>\n",
       "    </tr>\n",
       "  </thead>\n",
       "  <tbody>\n",
       "    <tr>\n",
       "      <th>0</th>\n",
       "      <td>CLL</td>\n",
       "      <td>CLL91</td>\n",
       "      <td>CLL_S1</td>\n",
       "      <td>pb</td>\n",
       "      <td>27222</td>\n",
       "      <td>4</td>\n",
       "      <td>0.991715</td>\n",
       "      <td>0.016570</td>\n",
       "      <td>0.000000</td>\n",
       "      <td>[39, 40, 45, 47, 49]</td>\n",
       "      <td>...</td>\n",
       "      <td>63</td>\n",
       "      <td>2101951</td>\n",
       "      <td>02.10.1951</td>\n",
       "      <td>2015-10-01</td>\n",
       "      <td>CLL_S1_hs_IGH_pb</td>\n",
       "      <td>CLL_S1_pb</td>\n",
       "      <td>CLL_S1_hs_IGH_pb.clones.txt</td>\n",
       "      <td>CLL_S1_hs_IGH_pb.clones.txt.md5</td>\n",
       "      <td>84b4ea17a0b52708ca036f6ab6931229</td>\n",
       "      <td>CLL_S1_hs_IGH_pb.clones.txt.cram</td>\n",
       "    </tr>\n",
       "    <tr>\n",
       "      <th>1</th>\n",
       "      <td>CLL</td>\n",
       "      <td>CLL165</td>\n",
       "      <td>CLL_S10</td>\n",
       "      <td>pb</td>\n",
       "      <td>35245</td>\n",
       "      <td>54</td>\n",
       "      <td>0.984727</td>\n",
       "      <td>0.087897</td>\n",
       "      <td>0.993734</td>\n",
       "      <td>[40, 49]</td>\n",
       "      <td>...</td>\n",
       "      <td>62</td>\n",
       "      <td>8081949</td>\n",
       "      <td>08.08.1949</td>\n",
       "      <td>2012-03-08</td>\n",
       "      <td>CLL_S10_hs_IGH_pb</td>\n",
       "      <td>CLL_S10_pb</td>\n",
       "      <td>CLL_S10_hs_IGH_pb.clones.txt</td>\n",
       "      <td>CLL_S10_hs_IGH_pb.clones.txt.md5</td>\n",
       "      <td>d7309f825b7a632e82c9e171c1aeee39</td>\n",
       "      <td>CLL_S10_hs_IGH_pb.clones.txt.cram</td>\n",
       "    </tr>\n",
       "    <tr>\n",
       "      <th>2</th>\n",
       "      <td>CLL</td>\n",
       "      <td>CLL97</td>\n",
       "      <td>CLL_S100</td>\n",
       "      <td>pb</td>\n",
       "      <td>31701</td>\n",
       "      <td>38</td>\n",
       "      <td>0.565454</td>\n",
       "      <td>2.280467</td>\n",
       "      <td>0.635372</td>\n",
       "      <td>[39, 40, 45, 47]</td>\n",
       "      <td>...</td>\n",
       "      <td>72</td>\n",
       "      <td>6081943</td>\n",
       "      <td>06.08.1943</td>\n",
       "      <td>2016-05-20</td>\n",
       "      <td>CLL_S100_hs_IGH_pb</td>\n",
       "      <td>CLL_S100_pb</td>\n",
       "      <td>CLL_S100_hs_IGH_pb.clones.txt</td>\n",
       "      <td>CLL_S100_hs_IGH_pb.clones.txt.md5</td>\n",
       "      <td>b9b728edda5951dafdb68b8d072c9fb8</td>\n",
       "      <td>CLL_S100_hs_IGH_pb.clones.txt.cram</td>\n",
       "    </tr>\n",
       "    <tr>\n",
       "      <th>3</th>\n",
       "      <td>CLL</td>\n",
       "      <td>CLL97</td>\n",
       "      <td>CLL_S101</td>\n",
       "      <td>pb</td>\n",
       "      <td>34219</td>\n",
       "      <td>87</td>\n",
       "      <td>0.633818</td>\n",
       "      <td>2.359291</td>\n",
       "      <td>0.601186</td>\n",
       "      <td>[39, 40, 45, 47]</td>\n",
       "      <td>...</td>\n",
       "      <td>72</td>\n",
       "      <td>6081943</td>\n",
       "      <td>06.08.1943</td>\n",
       "      <td>2016-01-22</td>\n",
       "      <td>CLL_S101_hs_IGH_pb</td>\n",
       "      <td>CLL_S101_pb</td>\n",
       "      <td>CLL_S101_hs_IGH_pb.clones.txt</td>\n",
       "      <td>CLL_S101_hs_IGH_pb.clones.txt.md5</td>\n",
       "      <td>7acb3f18149b3c5ead8e41ab90b5045a</td>\n",
       "      <td>CLL_S101_hs_IGH_pb.clones.txt.cram</td>\n",
       "    </tr>\n",
       "    <tr>\n",
       "      <th>4</th>\n",
       "      <td>CLL</td>\n",
       "      <td>CLL106</td>\n",
       "      <td>CLL_S102</td>\n",
       "      <td>pb</td>\n",
       "      <td>42760</td>\n",
       "      <td>272</td>\n",
       "      <td>0.647015</td>\n",
       "      <td>2.854754</td>\n",
       "      <td>0.527094</td>\n",
       "      <td>[39, 40, 45, 47]</td>\n",
       "      <td>...</td>\n",
       "      <td>63</td>\n",
       "      <td>23071952</td>\n",
       "      <td>23.07.1952</td>\n",
       "      <td>2016-05-06</td>\n",
       "      <td>CLL_S102_hs_IGH_pb</td>\n",
       "      <td>CLL_S102_pb</td>\n",
       "      <td>CLL_S102_hs_IGH_pb.clones.txt</td>\n",
       "      <td>CLL_S102_hs_IGH_pb.clones.txt.md5</td>\n",
       "      <td>883b903cb163e5e2b7adf34f49f5b7fe</td>\n",
       "      <td>CLL_S102_hs_IGH_pb.clones.txt.cram</td>\n",
       "    </tr>\n",
       "    <tr>\n",
       "      <th>...</th>\n",
       "      <td>...</td>\n",
       "      <td>...</td>\n",
       "      <td>...</td>\n",
       "      <td>...</td>\n",
       "      <td>...</td>\n",
       "      <td>...</td>\n",
       "      <td>...</td>\n",
       "      <td>...</td>\n",
       "      <td>...</td>\n",
       "      <td>...</td>\n",
       "      <td>...</td>\n",
       "      <td>...</td>\n",
       "      <td>...</td>\n",
       "      <td>...</td>\n",
       "      <td>...</td>\n",
       "      <td>...</td>\n",
       "      <td>...</td>\n",
       "      <td>...</td>\n",
       "      <td>...</td>\n",
       "      <td>...</td>\n",
       "      <td>...</td>\n",
       "    </tr>\n",
       "    <tr>\n",
       "      <th>906</th>\n",
       "      <td>NLPBL</td>\n",
       "      <td>NLPBL40</td>\n",
       "      <td>NLPBL_S87</td>\n",
       "      <td>tm</td>\n",
       "      <td>66</td>\n",
       "      <td>9</td>\n",
       "      <td>0.077276</td>\n",
       "      <td>2.924966</td>\n",
       "      <td>0.434783</td>\n",
       "      <td>pub. in this paper</td>\n",
       "      <td>...</td>\n",
       "      <td>52</td>\n",
       "      <td>29071968</td>\n",
       "      <td>NaN</td>\n",
       "      <td>2020-01-10</td>\n",
       "      <td>NLPBL_S87_hs_IGH_tm</td>\n",
       "      <td>NLPBL_S87_tm</td>\n",
       "      <td>NLPBL_S87_hs_IGH_tm.clones.txt</td>\n",
       "      <td>NLPBL_S87_hs_IGH_tm.clones.txt.md5</td>\n",
       "      <td>d20e4b13f539ae3fec9189079e0150d8</td>\n",
       "      <td>NLPBL_S87_hs_IGH_tm.clones.txt.cram</td>\n",
       "    </tr>\n",
       "    <tr>\n",
       "      <th>907</th>\n",
       "      <td>HD</td>\n",
       "      <td>HD162</td>\n",
       "      <td>HD_S7</td>\n",
       "      <td>pb</td>\n",
       "      <td>19567</td>\n",
       "      <td>2305</td>\n",
       "      <td>0.024421</td>\n",
       "      <td>10.897760</td>\n",
       "      <td>0.178245</td>\n",
       "      <td>pub. in this paper</td>\n",
       "      <td>...</td>\n",
       "      <td>unknown</td>\n",
       "      <td>NaN</td>\n",
       "      <td>NaN</td>\n",
       "      <td>2016</td>\n",
       "      <td>HD_S7_hs_IGH_pb</td>\n",
       "      <td>HD_S7_pb</td>\n",
       "      <td>HD_S7_hs_IGH_pb.clones.txt</td>\n",
       "      <td>HD_S7_hs_IGH_pb.clones.txt.md5</td>\n",
       "      <td>3dbe684d3fafce5db826700ebf76dcb1</td>\n",
       "      <td>HD_S7_hs_IGH_pb.clones.txt.cram</td>\n",
       "    </tr>\n",
       "    <tr>\n",
       "      <th>908</th>\n",
       "      <td>HD</td>\n",
       "      <td>HD162</td>\n",
       "      <td>HD_S8</td>\n",
       "      <td>pb</td>\n",
       "      <td>20207</td>\n",
       "      <td>2228</td>\n",
       "      <td>0.027876</td>\n",
       "      <td>10.811510</td>\n",
       "      <td>0.168656</td>\n",
       "      <td>pub. in this paper</td>\n",
       "      <td>...</td>\n",
       "      <td>unknown</td>\n",
       "      <td>NaN</td>\n",
       "      <td>NaN</td>\n",
       "      <td>2016</td>\n",
       "      <td>HD_S8_hs_IGH_pb</td>\n",
       "      <td>HD_S8_pb</td>\n",
       "      <td>HD_S8_hs_IGH_pb.clones.txt</td>\n",
       "      <td>HD_S8_hs_IGH_pb.clones.txt.md5</td>\n",
       "      <td>114d206a7d2d85f598684b7a81f4aac3</td>\n",
       "      <td>HD_S8_hs_IGH_pb.clones.txt.cram</td>\n",
       "    </tr>\n",
       "    <tr>\n",
       "      <th>909</th>\n",
       "      <td>NLPBL</td>\n",
       "      <td>NLPBL8</td>\n",
       "      <td>NLPBL_S9</td>\n",
       "      <td>ln</td>\n",
       "      <td>32658</td>\n",
       "      <td>7449</td>\n",
       "      <td>0.019619</td>\n",
       "      <td>12.610470</td>\n",
       "      <td>0.175479</td>\n",
       "      <td>[29]</td>\n",
       "      <td>...</td>\n",
       "      <td>10</td>\n",
       "      <td>NaN</td>\n",
       "      <td>NaN</td>\n",
       "      <td>2019</td>\n",
       "      <td>NLPBL_S9_hs_IGH_ln</td>\n",
       "      <td>NLPBL_S9_ln</td>\n",
       "      <td>NLPBL_S9_hs_IGH_ln.clones.txt</td>\n",
       "      <td>NLPBL_S9_hs_IGH_ln.clones.txt.md5</td>\n",
       "      <td>e68630eb0b65bb3dbaefc777ee005ea6</td>\n",
       "      <td>NLPBL_S9_hs_IGH_ln.clones.txt.cram</td>\n",
       "    </tr>\n",
       "    <tr>\n",
       "      <th>910</th>\n",
       "      <td>HD</td>\n",
       "      <td>HD162</td>\n",
       "      <td>HD_S9</td>\n",
       "      <td>pb</td>\n",
       "      <td>21866</td>\n",
       "      <td>2332</td>\n",
       "      <td>0.040234</td>\n",
       "      <td>10.737239</td>\n",
       "      <td>0.159956</td>\n",
       "      <td>pub. in this paper</td>\n",
       "      <td>...</td>\n",
       "      <td>unknown</td>\n",
       "      <td>NaN</td>\n",
       "      <td>NaN</td>\n",
       "      <td>2016</td>\n",
       "      <td>HD_S9_hs_IGH_pb</td>\n",
       "      <td>HD_S9_pb</td>\n",
       "      <td>HD_S9_hs_IGH_pb.clones.txt</td>\n",
       "      <td>HD_S9_hs_IGH_pb.clones.txt.md5</td>\n",
       "      <td>459a7c287d6c881ce792284337873c91</td>\n",
       "      <td>HD_S9_hs_IGH_pb.clones.txt.cram</td>\n",
       "    </tr>\n",
       "  </tbody>\n",
       "</table>\n",
       "<p>911 rows × 26 columns</p>\n",
       "</div>"
      ],
      "text/plain": [
       "    cohort subjectID   sampleID tissue  total_reads  richness  clonality  \\\n",
       "0      CLL     CLL91     CLL_S1     pb        27222         4   0.991715   \n",
       "1      CLL    CLL165    CLL_S10     pb        35245        54   0.984727   \n",
       "2      CLL     CLL97   CLL_S100     pb        31701        38   0.565454   \n",
       "3      CLL     CLL97   CLL_S101     pb        34219        87   0.633818   \n",
       "4      CLL    CLL106   CLL_S102     pb        42760       272   0.647015   \n",
       "..     ...       ...        ...    ...          ...       ...        ...   \n",
       "906  NLPBL   NLPBL40  NLPBL_S87     tm           66         9   0.077276   \n",
       "907     HD     HD162      HD_S7     pb        19567      2305   0.024421   \n",
       "908     HD     HD162      HD_S8     pb        20207      2228   0.027876   \n",
       "909  NLPBL    NLPBL8   NLPBL_S9     ln        32658      7449   0.019619   \n",
       "910     HD     HD162      HD_S9     pb        21866      2332   0.040234   \n",
       "\n",
       "       shannon  hypermutatedFraction            references  ...      age  \\\n",
       "0     0.016570              0.000000  [39, 40, 45, 47, 49]  ...       63   \n",
       "1     0.087897              0.993734              [40, 49]  ...       62   \n",
       "2     2.280467              0.635372      [39, 40, 45, 47]  ...       72   \n",
       "3     2.359291              0.601186      [39, 40, 45, 47]  ...       72   \n",
       "4     2.854754              0.527094      [39, 40, 45, 47]  ...       63   \n",
       "..         ...                   ...                   ...  ...      ...   \n",
       "906   2.924966              0.434783    pub. in this paper  ...       52   \n",
       "907  10.897760              0.178245    pub. in this paper  ...  unknown   \n",
       "908  10.811510              0.168656    pub. in this paper  ...  unknown   \n",
       "909  12.610470              0.175479                  [29]  ...       10   \n",
       "910  10.737239              0.159956    pub. in this paper  ...  unknown   \n",
       "\n",
       "          dob    dob.date    dosc_new         sample_title sample_description  \\\n",
       "0     2101951  02.10.1951  2015-10-01     CLL_S1_hs_IGH_pb          CLL_S1_pb   \n",
       "1     8081949  08.08.1949  2012-03-08    CLL_S10_hs_IGH_pb         CLL_S10_pb   \n",
       "2     6081943  06.08.1943  2016-05-20   CLL_S100_hs_IGH_pb        CLL_S100_pb   \n",
       "3     6081943  06.08.1943  2016-01-22   CLL_S101_hs_IGH_pb        CLL_S101_pb   \n",
       "4    23071952  23.07.1952  2016-05-06   CLL_S102_hs_IGH_pb        CLL_S102_pb   \n",
       "..        ...         ...         ...                  ...                ...   \n",
       "906  29071968         NaN  2020-01-10  NLPBL_S87_hs_IGH_tm       NLPBL_S87_tm   \n",
       "907       NaN         NaN        2016      HD_S7_hs_IGH_pb           HD_S7_pb   \n",
       "908       NaN         NaN        2016      HD_S8_hs_IGH_pb           HD_S8_pb   \n",
       "909       NaN         NaN        2019   NLPBL_S9_hs_IGH_ln        NLPBL_S9_ln   \n",
       "910       NaN         NaN        2016      HD_S9_hs_IGH_pb           HD_S9_pb   \n",
       "\n",
       "                    new_sample_name                      checksum_files  \\\n",
       "0       CLL_S1_hs_IGH_pb.clones.txt     CLL_S1_hs_IGH_pb.clones.txt.md5   \n",
       "1      CLL_S10_hs_IGH_pb.clones.txt    CLL_S10_hs_IGH_pb.clones.txt.md5   \n",
       "2     CLL_S100_hs_IGH_pb.clones.txt   CLL_S100_hs_IGH_pb.clones.txt.md5   \n",
       "3     CLL_S101_hs_IGH_pb.clones.txt   CLL_S101_hs_IGH_pb.clones.txt.md5   \n",
       "4     CLL_S102_hs_IGH_pb.clones.txt   CLL_S102_hs_IGH_pb.clones.txt.md5   \n",
       "..                              ...                                 ...   \n",
       "906  NLPBL_S87_hs_IGH_tm.clones.txt  NLPBL_S87_hs_IGH_tm.clones.txt.md5   \n",
       "907      HD_S7_hs_IGH_pb.clones.txt      HD_S7_hs_IGH_pb.clones.txt.md5   \n",
       "908      HD_S8_hs_IGH_pb.clones.txt      HD_S8_hs_IGH_pb.clones.txt.md5   \n",
       "909   NLPBL_S9_hs_IGH_ln.clones.txt   NLPBL_S9_hs_IGH_ln.clones.txt.md5   \n",
       "910      HD_S9_hs_IGH_pb.clones.txt      HD_S9_hs_IGH_pb.clones.txt.md5   \n",
       "\n",
       "                     checksum_numbers                 new_sample_name_cram  \n",
       "0    84b4ea17a0b52708ca036f6ab6931229     CLL_S1_hs_IGH_pb.clones.txt.cram  \n",
       "1    d7309f825b7a632e82c9e171c1aeee39    CLL_S10_hs_IGH_pb.clones.txt.cram  \n",
       "2    b9b728edda5951dafdb68b8d072c9fb8   CLL_S100_hs_IGH_pb.clones.txt.cram  \n",
       "3    7acb3f18149b3c5ead8e41ab90b5045a   CLL_S101_hs_IGH_pb.clones.txt.cram  \n",
       "4    883b903cb163e5e2b7adf34f49f5b7fe   CLL_S102_hs_IGH_pb.clones.txt.cram  \n",
       "..                                ...                                  ...  \n",
       "906  d20e4b13f539ae3fec9189079e0150d8  NLPBL_S87_hs_IGH_tm.clones.txt.cram  \n",
       "907  3dbe684d3fafce5db826700ebf76dcb1      HD_S7_hs_IGH_pb.clones.txt.cram  \n",
       "908  114d206a7d2d85f598684b7a81f4aac3      HD_S8_hs_IGH_pb.clones.txt.cram  \n",
       "909  e68630eb0b65bb3dbaefc777ee005ea6   NLPBL_S9_hs_IGH_ln.clones.txt.cram  \n",
       "910  459a7c287d6c881ce792284337873c91      HD_S9_hs_IGH_pb.clones.txt.cram  \n",
       "\n",
       "[911 rows x 26 columns]"
      ]
     },
     "execution_count": 148,
     "metadata": {},
     "output_type": "execute_result"
    }
   ],
   "source": [
    "samples"
   ]
  },
  {
   "cell_type": "code",
   "execution_count": 136,
   "id": "bebe48e5-0573-4337-a25c-b0a11087aeb7",
   "metadata": {},
   "outputs": [],
   "source": [
    "def extract_numbers_from_filename(filename):\n",
    "    \"\"\"Extract numbers from a given filename.\"\"\"\n",
    "    return re.findall(r'\\d+', filename)"
   ]
  },
  {
   "cell_type": "code",
   "execution_count": 143,
   "id": "391c8a96-5451-4cc2-96fe-f7cd44e4fbfe",
   "metadata": {},
   "outputs": [],
   "source": [
    "import re\n",
    "numbers = []\n",
    "for file_name in samples[\"checksum_files\"]:\n",
    "    file_path = os.path.join(\"/Users/labadmin/Projects/immusign/ena/clone_files\",file_name)\n",
    "    with open(file_path) as f:\n",
    "        numbers.append(f.read().strip())"
   ]
  },
  {
   "cell_type": "code",
   "execution_count": 145,
   "id": "93db7f1f-d399-42e1-ba79-3343fdd8388a",
   "metadata": {},
   "outputs": [],
   "source": [
    "samples[\"checksum_numbers\"] = numbers"
   ]
  },
  {
   "cell_type": "code",
   "execution_count": 146,
   "id": "1a79c9dd-086e-4a8e-a5a7-a2cc05d53ab3",
   "metadata": {},
   "outputs": [],
   "source": [
    "#samples.to_csv(\"data_ena_lookup_table_final.csv\")"
   ]
  },
  {
   "cell_type": "code",
   "execution_count": 149,
   "id": "e1d3b25b-9220-4b5b-8521-80f5b8b40d82",
   "metadata": {},
   "outputs": [],
   "source": [
    "import shutil\n",
    "import os\n",
    "clones_dir = \"/Users/labadmin/Projects/immusign/ena/clone_files\"\n",
    "target_dir = \"/Users/labadmin/Projects/immusign/ena/cram_files\"\n",
    "for i, row in samples.iterrows():\n",
    "    #print(os.path.join(clones_dir, row[\"clones.txt.name\"]), os.path.join(target_dir,row[\"new_sample_name\"]))\n",
    "    shutil.copyfile(os.path.join(clones_dir, row[\"new_sample_name\"]), os.path.join(target_dir,row[\"new_sample_name_cram\"]))"
   ]
  },
  {
   "cell_type": "code",
   "execution_count": 150,
   "id": "d8e782e7-e8f1-4547-a5fa-1ed18374cfdf",
   "metadata": {},
   "outputs": [],
   "source": [
    "create_individual_checksum_files(\"/Users/labadmin/Projects/immusign/ena/cram_files\")"
   ]
  },
  {
   "cell_type": "code",
   "execution_count": 151,
   "id": "bbb7fc14-bc86-4469-acc6-e0b7e546fe19",
   "metadata": {},
   "outputs": [],
   "source": [
    "samples[\"cram_checksum_files\"] = samples[\"new_sample_name_cram\"] + \".md5\""
   ]
  },
  {
   "cell_type": "code",
   "execution_count": 152,
   "id": "dd0d1d82-ae0b-4365-8adc-a63af186efb2",
   "metadata": {},
   "outputs": [],
   "source": [
    "import re\n",
    "numbers = []\n",
    "for file_name in samples[\"cram_checksum_files\"]:\n",
    "    file_path = os.path.join(\"/Users/labadmin/Projects/immusign/ena/cram_files\",file_name)\n",
    "    with open(file_path) as f:\n",
    "        numbers.append(f.read().strip())"
   ]
  },
  {
   "cell_type": "code",
   "execution_count": 153,
   "id": "511e49cf-cc3d-41fc-ba39-b2beee97e10d",
   "metadata": {},
   "outputs": [],
   "source": [
    "samples[\"cram_checksum_numbers\"] = numbers"
   ]
  },
  {
   "cell_type": "code",
   "execution_count": 154,
   "id": "2ae752e9-e370-4a85-89ae-2cfa8f42cf14",
   "metadata": {},
   "outputs": [],
   "source": [
    "#samples.to_csv(\"data_ena_lookup_table_final.csv\")"
   ]
  }
 ],
 "metadata": {
  "kernelspec": {
   "display_name": "Python 3 (ipykernel)",
   "language": "python",
   "name": "python3"
  },
  "language_info": {
   "codemirror_mode": {
    "name": "ipython",
    "version": 3
   },
   "file_extension": ".py",
   "mimetype": "text/x-python",
   "name": "python",
   "nbconvert_exporter": "python",
   "pygments_lexer": "ipython3",
   "version": "3.11.6"
  }
 },
 "nbformat": 4,
 "nbformat_minor": 5
}
