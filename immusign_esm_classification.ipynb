{
 "cells": [
  {
   "cell_type": "code",
   "execution_count": 1,
   "id": "0588149f",
   "metadata": {},
   "outputs": [],
   "source": [
    "import pandas as pd\n",
    "import numpy as np"
   ]
  },
  {
   "cell_type": "code",
   "execution_count": 2,
   "id": "873ce39b",
   "metadata": {},
   "outputs": [],
   "source": [
    "df = pd.read_pickle(\"immusign/immusign_not_normalized_with_out_of_frame_merged_raw_data_cleaned_olga_pgen.pkl\")"
   ]
  },
  {
   "cell_type": "code",
   "execution_count": 4,
   "id": "342d3366",
   "metadata": {},
   "outputs": [],
   "source": [
    "df = df[df.bestVGene.apply(lambda x: \"IGH\" in x)].copy()"
   ]
  },
  {
   "cell_type": "code",
   "execution_count": 7,
   "id": "8276e941",
   "metadata": {},
   "outputs": [],
   "source": [
    "embeddings = np.load(\"aa_cdr3_embeddings.npy\")"
   ]
  },
  {
   "cell_type": "code",
   "execution_count": 8,
   "id": "6db2f9d4",
   "metadata": {},
   "outputs": [],
   "source": [
    "with open(\"sorted_index_aa_cdr3.txt\", \"r\") as file:\n",
    "    indx = [int(line.strip()) for line in file]"
   ]
  },
  {
   "cell_type": "code",
   "execution_count": 9,
   "id": "d3055cf3",
   "metadata": {},
   "outputs": [
    {
     "data": {
      "text/plain": [
       "(3015432, 320)"
      ]
     },
     "execution_count": 9,
     "metadata": {},
     "output_type": "execute_result"
    }
   ],
   "source": [
    "embeddings.shape"
   ]
  },
  {
   "cell_type": "code",
   "execution_count": 19,
   "id": "557651d7",
   "metadata": {},
   "outputs": [
    {
     "data": {
      "text/plain": [
       "['dlbcl']"
      ]
     },
     "execution_count": 19,
     "metadata": {},
     "output_type": "execute_result"
    }
   ],
   "source": [
    "b = {\"dlbcl\" : [\"dlbcl_1\", \"dlbcl_2\", \"dlbcl_3\"]}\n",
    "list(b.keys())"
   ]
  },
  {
   "cell_type": "code",
   "execution_count": 10,
   "id": "83e22b7e",
   "metadata": {},
   "outputs": [],
   "source": [
    "emb_Series = pd.Series(list(embeddings), index = indx)"
   ]
  },
  {
   "cell_type": "code",
   "execution_count": 11,
   "id": "521d5020",
   "metadata": {
    "scrolled": true
   },
   "outputs": [
    {
     "data": {
      "text/plain": [
       "490911     [-0.035199735313653946, -0.40712404251098633, ...\n",
       "928286     [-0.011515339836478233, -0.1602695882320404, 0...\n",
       "2331508    [0.07461756467819214, -0.3007756471633911, 0.3...\n",
       "2116561    [0.07644666731357574, -0.24223890900611877, 0....\n",
       "2873765    [-0.03712927922606468, -0.2712849974632263, 0....\n",
       "                                 ...                        \n",
       "1228685    [0.22848033905029297, -0.6120370626449585, 0.3...\n",
       "1200382    [0.1784563660621643, -0.47329482436180115, 0.2...\n",
       "1228349    [0.14060892164707184, -0.5106889605522156, 0.1...\n",
       "920947     [0.1475306749343872, -0.3870342969894409, 0.14...\n",
       "1199882    [0.16787230968475342, -0.5873712301254272, 0.1...\n",
       "Length: 3015432, dtype: object"
      ]
     },
     "execution_count": 11,
     "metadata": {},
     "output_type": "execute_result"
    }
   ],
   "source": [
    "emb_Series"
   ]
  },
  {
   "cell_type": "code",
   "execution_count": 12,
   "id": "7dbdf7a6",
   "metadata": {},
   "outputs": [],
   "source": [
    "df[\"esm_embedding\"] = emb_Series"
   ]
  },
  {
   "cell_type": "code",
   "execution_count": 13,
   "id": "70115328",
   "metadata": {},
   "outputs": [
    {
     "data": {
      "text/plain": [
       "Index(['Read.count', 'Read.proportion', 'CDR3.nucleotide.sequence',\n",
       "       'CDR3.amino.acid.sequence', 'V.gene', 'J.gene', 'D.gene', 'V.end',\n",
       "       'J.start', 'D5.end', 'D3.end', 'VD.insertions', 'DJ.insertions',\n",
       "       'Total.insertions', 'sample', 'cloneId', 'clones.txt.name',\n",
       "       '#Nucleotide clones', '#Aminoacid clonotypes', '%Aminoacid clonotypes',\n",
       "       '#In-frames', '%In-frames', '#Out-of-frames', '%Out-of-frames',\n",
       "       'Sum.reads', 'Min.reads', '1st Qu.reads', 'Median.reads', 'Mean.reads',\n",
       "       '3rd Qu.reads', 'Max.reads', 'Clonality', 'twb.shannon', 'twb.simp',\n",
       "       'pcr_target_locus', 'organism', 'template', 'tissue', 'lymphoma_type',\n",
       "       'lymphoma_specification', 'subject_id', 'sex', 'dosc', 'age', 'dob',\n",
       "       'cloneCount', 'cloneFraction', 'aaSeqCDR3', 'bestVGene', 'bestDGene',\n",
       "       'bestJGene', 'vBestIdentityPercent', 'lengthOfCDR3', 'targetSequences',\n",
       "       'allVGenes', 'allDGenes', 'allJGenes', 'allVHits', 'allDHits',\n",
       "       'allJHits', 'allVAlignments', 'allDAlignments', 'allJAlignments', 'KF1',\n",
       "       'KF2', 'KF3', 'KF4', 'KF5', 'KF6', 'KF7', 'KF8', 'KF9', 'KF10',\n",
       "       'dBestIdentityPercent', 'jBestIdentityPercent', 'aaSeqCDR2',\n",
       "       'aaSeqCDR1', 'aaSeqFR2', 'aaSeqFR3', 'aaSeqFR4',\n",
       "       'aaSeqImputedVDJRegion', 'has_mutation', 'olga_pgen_cdr3',\n",
       "       'olga_pgen_aa', 'esm_embedding'],\n",
       "      dtype='object')"
      ]
     },
     "execution_count": 13,
     "metadata": {},
     "output_type": "execute_result"
    }
   ],
   "source": [
    "df.columns"
   ]
  },
  {
   "cell_type": "code",
   "execution_count": 14,
   "id": "d4404c8f",
   "metadata": {},
   "outputs": [],
   "source": [
    "#df.to_pickle(\"immusign/immusign_not_normalized_with_out_of_frame_merged_raw_data_cleaned_olga_pgen_embeddings_igh.pkl\")"
   ]
  },
  {
   "cell_type": "code",
   "execution_count": 11,
   "id": "e1cdbd65",
   "metadata": {},
   "outputs": [],
   "source": [
    "embedded_df = pd.DataFrame(columns=[\"clones.txt.name\", \"lymphoma_specification\", \"sum_rep_embedding\", \"mean_rep_embedding\"])\n",
    "for i, group in df.groupby(\"clones.txt.name\"): \n",
    "    sum_rep_embedding = sum(group.cloneCount * group.esm_embedding)\n",
    "    mean_rep_embedding = np.mean(group.cloneCount * group.esm_embedding)\n",
    "    embedded_df.loc[len(embedded_df)] = [i, group.lymphoma_specification.iloc[0], sum_rep_embedding, mean_rep_embedding]"
   ]
  },
  {
   "cell_type": "code",
   "execution_count": 24,
   "id": "09434f22",
   "metadata": {},
   "outputs": [],
   "source": [
    "cloneFraction = []\n",
    "for name, group in df.groupby(\"clones.txt.name\"):\n",
    "    cloneFraction.append(group['cloneFraction'].values[0])"
   ]
  },
  {
   "cell_type": "code",
   "execution_count": 33,
   "id": "6a8907d1",
   "metadata": {},
   "outputs": [],
   "source": [
    "from run_embedding_classification import load_data\n",
    "from sklearn.model_selection import StratifiedShuffleSplit, StratifiedKFold"
   ]
  },
  {
   "cell_type": "code",
   "execution_count": 34,
   "id": "4145fe80",
   "metadata": {},
   "outputs": [],
   "source": [
    "comparisons = [['nlphl'], [\"dlbcl\", \"gcb_dlbcl\", \"abc_dlbcl\"], ['hd']]\n",
    "X, y, clone_fraction = load_data(comparisons, dict(embedding_method = \"sum\", standardize=True))\n",
    "    \n",
    "sss = StratifiedShuffleSplit(n_splits=1, test_size=0.1, random_state=0)\n",
    "train_index, test_index =  sss.split(X, y).__next__()"
   ]
  },
  {
   "cell_type": "code",
   "execution_count": 44,
   "id": "fd89cd43",
   "metadata": {},
   "outputs": [],
   "source": [
    "y_test = y[test_index]\n",
    "clone_fractions_test = clone_fraction[test_index]"
   ]
  },
  {
   "cell_type": "code",
   "execution_count": 45,
   "id": "f8169ad2",
   "metadata": {},
   "outputs": [],
   "source": [
    "low_cf = np.array([1 if ((clone_fractions_test[i] < 0.2) & (y_test[i] == 1)) else 0 for i in range(len(y_test))])"
   ]
  },
  {
   "cell_type": "code",
   "execution_count": 46,
   "id": "0a2e2b23",
   "metadata": {},
   "outputs": [
    {
     "data": {
      "text/plain": [
       "array([0, 0, 0, 0, 0, 0, 0, 0, 0, 0, 0, 0, 0, 0, 0, 0, 0, 0, 0, 0, 0, 0,\n",
       "       0, 0, 0, 0, 0, 0, 0, 0, 0, 0, 0, 0, 1, 0, 0, 0, 0, 0, 0, 0, 0, 0,\n",
       "       0, 0, 0, 0, 0, 0, 0, 0, 0, 0, 1, 0, 0])"
      ]
     },
     "execution_count": 46,
     "metadata": {},
     "output_type": "execute_result"
    }
   ],
   "source": [
    "low_cf"
   ]
  },
  {
   "cell_type": "code",
   "execution_count": 42,
   "id": "217ae1c7",
   "metadata": {},
   "outputs": [],
   "source": [
    "cloneFraction = []\n",
    "for name, group in df.sort_values([\"clones.txt.name\", \"cloneFraction\"], ascending= [True, False]).groupby(\"clones.txt.name\"):\n",
    "    cloneFraction.append(group['cloneFraction'].values[0])"
   ]
  },
  {
   "cell_type": "code",
   "execution_count": 43,
   "id": "a2df7293",
   "metadata": {},
   "outputs": [
    {
     "data": {
      "text/plain": [
       "0.945342886386899"
      ]
     },
     "execution_count": 43,
     "metadata": {},
     "output_type": "execute_result"
    }
   ],
   "source": [
    "cloneFraction[-1]"
   ]
  },
  {
   "cell_type": "code",
   "execution_count": 13,
   "id": "7e81fb15",
   "metadata": {},
   "outputs": [
    {
     "data": {
      "text/plain": [
       "0      [-5.1116039277146905, -29.137987727117547, 23....\n",
       "1      [-0.2723304237522835, -1.5325474960537375, 1.0...\n",
       "2      [-1.3149673660833432, -6.072691107484191, 3.99...\n",
       "3      [-0.16132844263844306, -0.8450560320630321, 0....\n",
       "4      [-5.784918720465211, -16.96502570461249, 13.70...\n",
       "                             ...                        \n",
       "946    [-1.850489331969237, -9.623783821055655, 6.860...\n",
       "947    [-0.7415266025494346, -5.490423128809423, 3.87...\n",
       "948    [-0.9697154581567277, -5.217679438721445, 3.64...\n",
       "949    [-122.75003280341514, 380.4147959887272, -360....\n",
       "950    [-5.244017513644506, 3.5301658865881334, 14.40...\n",
       "Name: mean_rep_embedding, Length: 951, dtype: object"
      ]
     },
     "execution_count": 13,
     "metadata": {},
     "output_type": "execute_result"
    }
   ],
   "source": [
    "embedded_df.mean_rep_embedding"
   ]
  },
  {
   "cell_type": "code",
   "execution_count": 14,
   "id": "fcc7abbb",
   "metadata": {},
   "outputs": [
    {
     "data": {
      "text/plain": [
       "(320,)"
      ]
     },
     "execution_count": 14,
     "metadata": {},
     "output_type": "execute_result"
    }
   ],
   "source": [
    "embedded_df.iloc[0].mean_rep_embedding.shape"
   ]
  },
  {
   "cell_type": "code",
   "execution_count": 17,
   "id": "1967dd85",
   "metadata": {},
   "outputs": [
    {
     "data": {
      "text/plain": [
       "array(['hd', 'gcb_dlbcl', 'cll', 'unspecified', 'dlbcl', 'nlphl',\n",
       "       'abc_dlbcl', 'thrlbcl', 'lymphadenitis'], dtype=object)"
      ]
     },
     "execution_count": 17,
     "metadata": {},
     "output_type": "execute_result"
    }
   ],
   "source": [
    "df.lymphoma_specification.unique()"
   ]
  },
  {
   "cell_type": "code",
   "execution_count": 18,
   "id": "de359eb4",
   "metadata": {},
   "outputs": [],
   "source": [
    "import utils\n",
    "from sklearn.model_selection import StratifiedKFold, StratifiedShuffleSplit\n",
    "import torch\n",
    "from sklearn.svm import SVC\n",
    "from sklearn.metrics import classification_report\n",
    "from sklearn.linear_model import LogisticRegression\n",
    "from sklearn.ensemble import RandomForestClassifier"
   ]
  },
  {
   "cell_type": "code",
   "execution_count": 19,
   "id": "334956e1",
   "metadata": {},
   "outputs": [],
   "source": [
    "comparisons = [['nlphl'], [\"dlbcl\", \"gcb_dlbcl\", \"abc_dlbcl\"], ['hd']]\n",
    "comparison_labels = ['nlphl', 'dlbcl', 'hd']"
   ]
  },
  {
   "cell_type": "code",
   "execution_count": 27,
   "id": "ea0c717e",
   "metadata": {},
   "outputs": [],
   "source": [
    "X = embedded_df[embedded_df.lymphoma_specification.isin(sum(comparisons,[]))]"
   ]
  },
  {
   "cell_type": "code",
   "execution_count": 29,
   "id": "7e1d9643",
   "metadata": {},
   "outputs": [
    {
     "name": "stderr",
     "output_type": "stream",
     "text": [
      "/var/folders/lj/8f2m9cts7c1_dl0lwj330pyr0000gq/T/ipykernel_12077/416818564.py:1: SettingWithCopyWarning: \n",
      "A value is trying to be set on a copy of a slice from a DataFrame.\n",
      "Try using .loc[row_indexer,col_indexer] = value instead\n",
      "\n",
      "See the caveats in the documentation: https://pandas.pydata.org/pandas-docs/stable/user_guide/indexing.html#returning-a-view-versus-a-copy\n",
      "  X.loc[:, \"lymphoma_specification_grouped\"] = X[\"lymphoma_specification\"].apply(lambda x: \"dlbcl\" if x in comparisons[1] else x)\n"
     ]
    }
   ],
   "source": [
    "X.loc[:, \"lymphoma_specification_grouped\"] = X[\"lymphoma_specification\"].apply(lambda x: \"dlbcl\" if x in comparisons[1] else x)"
   ]
  },
  {
   "cell_type": "code",
   "execution_count": 30,
   "id": "8fa18a61",
   "metadata": {},
   "outputs": [
    {
     "data": {
      "text/html": [
       "<div>\n",
       "<style scoped>\n",
       "    .dataframe tbody tr th:only-of-type {\n",
       "        vertical-align: middle;\n",
       "    }\n",
       "\n",
       "    .dataframe tbody tr th {\n",
       "        vertical-align: top;\n",
       "    }\n",
       "\n",
       "    .dataframe thead th {\n",
       "        text-align: right;\n",
       "    }\n",
       "</style>\n",
       "<table border=\"1\" class=\"dataframe\">\n",
       "  <thead>\n",
       "    <tr style=\"text-align: right;\">\n",
       "      <th></th>\n",
       "      <th>clones.txt.name</th>\n",
       "      <th>lymphoma_specification</th>\n",
       "      <th>sum_rep_embedding</th>\n",
       "      <th>mean_rep_embedding</th>\n",
       "      <th>lymphoma_specification_grouped</th>\n",
       "    </tr>\n",
       "  </thead>\n",
       "  <tbody>\n",
       "    <tr>\n",
       "      <th>0</th>\n",
       "      <td>101-D0-Ig-gDNA-PB-Nuray-A250_S240.clones.txt</td>\n",
       "      <td>hd</td>\n",
       "      <td>[-996.7627659043646, -5681.907606787921, 4671....</td>\n",
       "      <td>[-5.1116039277146905, -29.137987727117547, 23....</td>\n",
       "      <td>hd</td>\n",
       "    </tr>\n",
       "    <tr>\n",
       "      <th>1</th>\n",
       "      <td>101-D28-Ig-gDNA-PB-Nuray-A250_S190.clones.txt</td>\n",
       "      <td>hd</td>\n",
       "      <td>[-1099.3979206879685, -6186.894241568938, 4243...</td>\n",
       "      <td>[-0.2723304237522835, -1.5325474960537375, 1.0...</td>\n",
       "      <td>hd</td>\n",
       "    </tr>\n",
       "    <tr>\n",
       "      <th>2</th>\n",
       "      <td>105-D0-Ig-gDNA-PB-Nuray-A250_S179.clones.txt</td>\n",
       "      <td>hd</td>\n",
       "      <td>[-3454.4192707009424, -15952.95953936097, 1049...</td>\n",
       "      <td>[-1.3149673660833432, -6.072691107484191, 3.99...</td>\n",
       "      <td>hd</td>\n",
       "    </tr>\n",
       "    <tr>\n",
       "      <th>3</th>\n",
       "      <td>105-D14-Ig-gDNA-human-Nuray_S59.clones.txt</td>\n",
       "      <td>hd</td>\n",
       "      <td>[-587.8808449744865, -3079.384180837689, 2222....</td>\n",
       "      <td>[-0.16132844263844306, -0.8450560320630321, 0....</td>\n",
       "      <td>hd</td>\n",
       "    </tr>\n",
       "    <tr>\n",
       "      <th>4</th>\n",
       "      <td>105-D28-Ig-gDNA-PB-Nuray-A250_S180.clones.txt</td>\n",
       "      <td>hd</td>\n",
       "      <td>[-3470.951232279127, -10179.015422767494, 8223...</td>\n",
       "      <td>[-5.784918720465211, -16.96502570461249, 13.70...</td>\n",
       "      <td>hd</td>\n",
       "    </tr>\n",
       "    <tr>\n",
       "      <th>...</th>\n",
       "      <td>...</td>\n",
       "      <td>...</td>\n",
       "      <td>...</td>\n",
       "      <td>...</td>\n",
       "      <td>...</td>\n",
       "    </tr>\n",
       "    <tr>\n",
       "      <th>905</th>\n",
       "      <td>Nils-hs-IGHFR3-ABC-DLBCL025-Tumor-DNA_S123.clo...</td>\n",
       "      <td>abc_dlbcl</td>\n",
       "      <td>[1961.7858209034894, -3991.7462378870696, -273...</td>\n",
       "      <td>[56.05102345438541, -114.04989251105913, -78.2...</td>\n",
       "      <td>dlbcl</td>\n",
       "    </tr>\n",
       "    <tr>\n",
       "      <th>906</th>\n",
       "      <td>Nils-hs-IGHFR3-ABC-DLBCL026-Tumor-DNA_S163.clo...</td>\n",
       "      <td>abc_dlbcl</td>\n",
       "      <td>[-1731.6538629457355, -4002.3668360710144, 114...</td>\n",
       "      <td>[-288.6089771576226, -667.0611393451691, 190.9...</td>\n",
       "      <td>dlbcl</td>\n",
       "    </tr>\n",
       "    <tr>\n",
       "      <th>946</th>\n",
       "      <td>Svenja-IGH-HD121-28-10-2020_S161.clones.txt</td>\n",
       "      <td>hd</td>\n",
       "      <td>[-4109.936806303675, -21374.42386656461, 15237...</td>\n",
       "      <td>[-1.850489331969237, -9.623783821055655, 6.860...</td>\n",
       "      <td>hd</td>\n",
       "    </tr>\n",
       "    <tr>\n",
       "      <th>947</th>\n",
       "      <td>Svenja-IGH-HD128_S162.clones.txt</td>\n",
       "      <td>hd</td>\n",
       "      <td>[-1196.8239365147874, -8861.542929898409, 6252...</td>\n",
       "      <td>[-0.7415266025494346, -5.490423128809423, 3.87...</td>\n",
       "      <td>hd</td>\n",
       "    </tr>\n",
       "    <tr>\n",
       "      <th>948</th>\n",
       "      <td>Svenja-IGH-HD129_S163.clones.txt</td>\n",
       "      <td>hd</td>\n",
       "      <td>[-2707.4455591735837, -14567.760992910276, 101...</td>\n",
       "      <td>[-0.9697154581567277, -5.217679438721445, 3.64...</td>\n",
       "      <td>hd</td>\n",
       "    </tr>\n",
       "  </tbody>\n",
       "</table>\n",
       "<p>572 rows × 5 columns</p>\n",
       "</div>"
      ],
      "text/plain": [
       "                                       clones.txt.name lymphoma_specification  \\\n",
       "0         101-D0-Ig-gDNA-PB-Nuray-A250_S240.clones.txt                     hd   \n",
       "1        101-D28-Ig-gDNA-PB-Nuray-A250_S190.clones.txt                     hd   \n",
       "2         105-D0-Ig-gDNA-PB-Nuray-A250_S179.clones.txt                     hd   \n",
       "3           105-D14-Ig-gDNA-human-Nuray_S59.clones.txt                     hd   \n",
       "4        105-D28-Ig-gDNA-PB-Nuray-A250_S180.clones.txt                     hd   \n",
       "..                                                 ...                    ...   \n",
       "905  Nils-hs-IGHFR3-ABC-DLBCL025-Tumor-DNA_S123.clo...              abc_dlbcl   \n",
       "906  Nils-hs-IGHFR3-ABC-DLBCL026-Tumor-DNA_S163.clo...              abc_dlbcl   \n",
       "946        Svenja-IGH-HD121-28-10-2020_S161.clones.txt                     hd   \n",
       "947                   Svenja-IGH-HD128_S162.clones.txt                     hd   \n",
       "948                   Svenja-IGH-HD129_S163.clones.txt                     hd   \n",
       "\n",
       "                                     sum_rep_embedding  \\\n",
       "0    [-996.7627659043646, -5681.907606787921, 4671....   \n",
       "1    [-1099.3979206879685, -6186.894241568938, 4243...   \n",
       "2    [-3454.4192707009424, -15952.95953936097, 1049...   \n",
       "3    [-587.8808449744865, -3079.384180837689, 2222....   \n",
       "4    [-3470.951232279127, -10179.015422767494, 8223...   \n",
       "..                                                 ...   \n",
       "905  [1961.7858209034894, -3991.7462378870696, -273...   \n",
       "906  [-1731.6538629457355, -4002.3668360710144, 114...   \n",
       "946  [-4109.936806303675, -21374.42386656461, 15237...   \n",
       "947  [-1196.8239365147874, -8861.542929898409, 6252...   \n",
       "948  [-2707.4455591735837, -14567.760992910276, 101...   \n",
       "\n",
       "                                    mean_rep_embedding  \\\n",
       "0    [-5.1116039277146905, -29.137987727117547, 23....   \n",
       "1    [-0.2723304237522835, -1.5325474960537375, 1.0...   \n",
       "2    [-1.3149673660833432, -6.072691107484191, 3.99...   \n",
       "3    [-0.16132844263844306, -0.8450560320630321, 0....   \n",
       "4    [-5.784918720465211, -16.96502570461249, 13.70...   \n",
       "..                                                 ...   \n",
       "905  [56.05102345438541, -114.04989251105913, -78.2...   \n",
       "906  [-288.6089771576226, -667.0611393451691, 190.9...   \n",
       "946  [-1.850489331969237, -9.623783821055655, 6.860...   \n",
       "947  [-0.7415266025494346, -5.490423128809423, 3.87...   \n",
       "948  [-0.9697154581567277, -5.217679438721445, 3.64...   \n",
       "\n",
       "    lymphoma_specification_grouped  \n",
       "0                               hd  \n",
       "1                               hd  \n",
       "2                               hd  \n",
       "3                               hd  \n",
       "4                               hd  \n",
       "..                             ...  \n",
       "905                          dlbcl  \n",
       "906                          dlbcl  \n",
       "946                             hd  \n",
       "947                             hd  \n",
       "948                             hd  \n",
       "\n",
       "[572 rows x 5 columns]"
      ]
     },
     "execution_count": 30,
     "metadata": {},
     "output_type": "execute_result"
    }
   ],
   "source": [
    "X"
   ]
  },
  {
   "cell_type": "code",
   "execution_count": 31,
   "id": "e7b53ec2",
   "metadata": {},
   "outputs": [],
   "source": [
    "X, labels = utils.encode_target_for_classification(X, \"lymphoma_specification_grouped\")"
   ]
  },
  {
   "cell_type": "code",
   "execution_count": 32,
   "id": "2243d0cc",
   "metadata": {},
   "outputs": [],
   "source": [
    "sss = StratifiedShuffleSplit(n_splits=1, test_size=0.1, random_state=0)\n",
    "train_index, test_index =  sss.split(X, X[\"lymphoma_specification_grouped\"]).__next__()"
   ]
  },
  {
   "cell_type": "code",
   "execution_count": 33,
   "id": "e043271d",
   "metadata": {},
   "outputs": [],
   "source": [
    "Y_train = np.asarray(list(X.iloc[train_index][\"lymphoma_specification_grouped_encoded\"]))\n",
    "Y_test = np.asarray(list(X.iloc[test_index][\"lymphoma_specification_grouped_encoded\"]))"
   ]
  },
  {
   "cell_type": "code",
   "execution_count": 35,
   "id": "5c759428",
   "metadata": {},
   "outputs": [],
   "source": [
    "X_test = X.iloc[test_index].copy()\n",
    "X_test_sum = np.concatenate(list(X_test[\"sum_rep_embedding\"].apply(lambda x: x.reshape((1,-1)))))\n",
    "X_test_mean = np.concatenate(list(X_test[\"mean_rep_embedding\"].apply(lambda x: x.reshape((1,-1)))))\n",
    "X_train = X.iloc[train_index].copy()\n",
    "X_train_sum = np.concatenate(list(X_train[\"sum_rep_embedding\"].apply(lambda x: x.reshape((1,-1)))))\n",
    "X_train_mean = np.concatenate(list(X_train[\"mean_rep_embedding\"].apply(lambda x: x.reshape((1,-1)))))\n",
    "\n",
    "sum_means = np.mean(X_train_sum, axis=0)\n",
    "mean_means = np.mean(X_train_mean, axis=0)\n",
    "sum_stds = np.std(X_train_sum, axis=0)\n",
    "mean_stds = np.std(X_train_mean, axis=0)"
   ]
  },
  {
   "cell_type": "code",
   "execution_count": 88,
   "id": "20e446fa",
   "metadata": {},
   "outputs": [],
   "source": [
    "X_train_sum_normalized = (X_train_sum-sum_means)/sum_stds\n",
    "X_test_sum_normalized = (X_test_sum-sum_means)/sum_stds"
   ]
  },
  {
   "cell_type": "code",
   "execution_count": 89,
   "id": "1a9b88f0",
   "metadata": {},
   "outputs": [],
   "source": [
    "X_train_mean_normalized = (X_train_mean-mean_means)/mean_stds\n",
    "X_test_mean_normalized = (X_test_mean-mean_means)/mean_stds"
   ]
  },
  {
   "cell_type": "code",
   "execution_count": 37,
   "id": "839ce8c9",
   "metadata": {},
   "outputs": [
    {
     "data": {
      "text/plain": [
       "Index(['lymphoma_specification_grouped_encoded', 'clones.txt.name',\n",
       "       'lymphoma_specification', 'sum_rep_embedding', 'mean_rep_embedding',\n",
       "       'lymphoma_specification_grouped'],\n",
       "      dtype='object')"
      ]
     },
     "execution_count": 37,
     "metadata": {},
     "output_type": "execute_result"
    }
   ],
   "source": [
    "X.columns"
   ]
  },
  {
   "cell_type": "markdown",
   "id": "94110057",
   "metadata": {},
   "source": [
    "# Standard Classification"
   ]
  },
  {
   "cell_type": "code",
   "execution_count": 102,
   "id": "5dcb6cac",
   "metadata": {},
   "outputs": [],
   "source": [
    "model = SVC(kernel='linear', max_iter=100000000)\n",
    "#model = LogisticRegression(max_iter=1000)\n",
    "#model = RandomForestClassifier(n_estimators=100, max_depth=16)"
   ]
  },
  {
   "cell_type": "code",
   "execution_count": 103,
   "id": "eb510c1b",
   "metadata": {},
   "outputs": [
    {
     "data": {
      "text/html": [
       "<style>#sk-container-id-17 {color: black;}#sk-container-id-17 pre{padding: 0;}#sk-container-id-17 div.sk-toggleable {background-color: white;}#sk-container-id-17 label.sk-toggleable__label {cursor: pointer;display: block;width: 100%;margin-bottom: 0;padding: 0.3em;box-sizing: border-box;text-align: center;}#sk-container-id-17 label.sk-toggleable__label-arrow:before {content: \"▸\";float: left;margin-right: 0.25em;color: #696969;}#sk-container-id-17 label.sk-toggleable__label-arrow:hover:before {color: black;}#sk-container-id-17 div.sk-estimator:hover label.sk-toggleable__label-arrow:before {color: black;}#sk-container-id-17 div.sk-toggleable__content {max-height: 0;max-width: 0;overflow: hidden;text-align: left;background-color: #f0f8ff;}#sk-container-id-17 div.sk-toggleable__content pre {margin: 0.2em;color: black;border-radius: 0.25em;background-color: #f0f8ff;}#sk-container-id-17 input.sk-toggleable__control:checked~div.sk-toggleable__content {max-height: 200px;max-width: 100%;overflow: auto;}#sk-container-id-17 input.sk-toggleable__control:checked~label.sk-toggleable__label-arrow:before {content: \"▾\";}#sk-container-id-17 div.sk-estimator input.sk-toggleable__control:checked~label.sk-toggleable__label {background-color: #d4ebff;}#sk-container-id-17 div.sk-label input.sk-toggleable__control:checked~label.sk-toggleable__label {background-color: #d4ebff;}#sk-container-id-17 input.sk-hidden--visually {border: 0;clip: rect(1px 1px 1px 1px);clip: rect(1px, 1px, 1px, 1px);height: 1px;margin: -1px;overflow: hidden;padding: 0;position: absolute;width: 1px;}#sk-container-id-17 div.sk-estimator {font-family: monospace;background-color: #f0f8ff;border: 1px dotted black;border-radius: 0.25em;box-sizing: border-box;margin-bottom: 0.5em;}#sk-container-id-17 div.sk-estimator:hover {background-color: #d4ebff;}#sk-container-id-17 div.sk-parallel-item::after {content: \"\";width: 100%;border-bottom: 1px solid gray;flex-grow: 1;}#sk-container-id-17 div.sk-label:hover label.sk-toggleable__label {background-color: #d4ebff;}#sk-container-id-17 div.sk-serial::before {content: \"\";position: absolute;border-left: 1px solid gray;box-sizing: border-box;top: 0;bottom: 0;left: 50%;z-index: 0;}#sk-container-id-17 div.sk-serial {display: flex;flex-direction: column;align-items: center;background-color: white;padding-right: 0.2em;padding-left: 0.2em;position: relative;}#sk-container-id-17 div.sk-item {position: relative;z-index: 1;}#sk-container-id-17 div.sk-parallel {display: flex;align-items: stretch;justify-content: center;background-color: white;position: relative;}#sk-container-id-17 div.sk-item::before, #sk-container-id-17 div.sk-parallel-item::before {content: \"\";position: absolute;border-left: 1px solid gray;box-sizing: border-box;top: 0;bottom: 0;left: 50%;z-index: -1;}#sk-container-id-17 div.sk-parallel-item {display: flex;flex-direction: column;z-index: 1;position: relative;background-color: white;}#sk-container-id-17 div.sk-parallel-item:first-child::after {align-self: flex-end;width: 50%;}#sk-container-id-17 div.sk-parallel-item:last-child::after {align-self: flex-start;width: 50%;}#sk-container-id-17 div.sk-parallel-item:only-child::after {width: 0;}#sk-container-id-17 div.sk-dashed-wrapped {border: 1px dashed gray;margin: 0 0.4em 0.5em 0.4em;box-sizing: border-box;padding-bottom: 0.4em;background-color: white;}#sk-container-id-17 div.sk-label label {font-family: monospace;font-weight: bold;display: inline-block;line-height: 1.2em;}#sk-container-id-17 div.sk-label-container {text-align: center;}#sk-container-id-17 div.sk-container {/* jupyter's `normalize.less` sets `[hidden] { display: none; }` but bootstrap.min.css set `[hidden] { display: none !important; }` so we also need the `!important` here to be able to override the default hidden behavior on the sphinx rendered scikit-learn.org. See: https://github.com/scikit-learn/scikit-learn/issues/21755 */display: inline-block !important;position: relative;}#sk-container-id-17 div.sk-text-repr-fallback {display: none;}</style><div id=\"sk-container-id-17\" class=\"sk-top-container\"><div class=\"sk-text-repr-fallback\"><pre>SVC(kernel=&#x27;linear&#x27;, max_iter=100000000)</pre><b>In a Jupyter environment, please rerun this cell to show the HTML representation or trust the notebook. <br />On GitHub, the HTML representation is unable to render, please try loading this page with nbviewer.org.</b></div><div class=\"sk-container\" hidden><div class=\"sk-item\"><div class=\"sk-estimator sk-toggleable\"><input class=\"sk-toggleable__control sk-hidden--visually\" id=\"sk-estimator-id-17\" type=\"checkbox\" checked><label for=\"sk-estimator-id-17\" class=\"sk-toggleable__label sk-toggleable__label-arrow\">SVC</label><div class=\"sk-toggleable__content\"><pre>SVC(kernel=&#x27;linear&#x27;, max_iter=100000000)</pre></div></div></div></div></div>"
      ],
      "text/plain": [
       "SVC(kernel='linear', max_iter=100000000)"
      ]
     },
     "execution_count": 103,
     "metadata": {},
     "output_type": "execute_result"
    }
   ],
   "source": [
    "model.fit(X_train_sum_normalized,Y_train)"
   ]
  },
  {
   "cell_type": "code",
   "execution_count": 104,
   "id": "9a220c85",
   "metadata": {},
   "outputs": [],
   "source": [
    "Y_pred = model.predict(X_test_sum_normalized)"
   ]
  },
  {
   "cell_type": "code",
   "execution_count": 93,
   "id": "02b168e7",
   "metadata": {},
   "outputs": [
    {
     "name": "stdout",
     "output_type": "stream",
     "text": [
      "Mean Repertoire Embedding\n",
      "              precision    recall  f1-score   support\n",
      "\n",
      "       dlbcl       0.86      0.67      0.75        18\n",
      "          hd       0.78      1.00      0.87        31\n",
      "       nlphl       0.50      0.22      0.31         9\n",
      "\n",
      "    accuracy                           0.78        58\n",
      "   macro avg       0.71      0.63      0.64        58\n",
      "weighted avg       0.76      0.78      0.75        58\n",
      "\n"
     ]
    }
   ],
   "source": [
    "print(\"Mean Repertoire Embedding\")\n",
    "print(classification_report(Y_test, Y_pred,target_names=labels))"
   ]
  },
  {
   "cell_type": "code",
   "execution_count": 97,
   "id": "a310e3e0",
   "metadata": {},
   "outputs": [
    {
     "name": "stdout",
     "output_type": "stream",
     "text": [
      "Mean Normalized Repertoire Embedding\n",
      "              precision    recall  f1-score   support\n",
      "\n",
      "       dlbcl       1.00      0.28      0.43        18\n",
      "          hd       0.58      1.00      0.74        31\n",
      "       nlphl       0.00      0.00      0.00         9\n",
      "\n",
      "    accuracy                           0.62        58\n",
      "   macro avg       0.53      0.43      0.39        58\n",
      "weighted avg       0.62      0.62      0.53        58\n",
      "\n"
     ]
    },
    {
     "name": "stderr",
     "output_type": "stream",
     "text": [
      "/Users/labadmin/anaconda3/envs/bonn17/lib/python3.11/site-packages/sklearn/metrics/_classification.py:1469: UndefinedMetricWarning: Precision and F-score are ill-defined and being set to 0.0 in labels with no predicted samples. Use `zero_division` parameter to control this behavior.\n",
      "  _warn_prf(average, modifier, msg_start, len(result))\n",
      "/Users/labadmin/anaconda3/envs/bonn17/lib/python3.11/site-packages/sklearn/metrics/_classification.py:1469: UndefinedMetricWarning: Precision and F-score are ill-defined and being set to 0.0 in labels with no predicted samples. Use `zero_division` parameter to control this behavior.\n",
      "  _warn_prf(average, modifier, msg_start, len(result))\n",
      "/Users/labadmin/anaconda3/envs/bonn17/lib/python3.11/site-packages/sklearn/metrics/_classification.py:1469: UndefinedMetricWarning: Precision and F-score are ill-defined and being set to 0.0 in labels with no predicted samples. Use `zero_division` parameter to control this behavior.\n",
      "  _warn_prf(average, modifier, msg_start, len(result))\n"
     ]
    }
   ],
   "source": [
    "print(\"Mean Normalized Repertoire Embedding\")\n",
    "print(classification_report(Y_test, Y_pred,target_names=labels))"
   ]
  },
  {
   "cell_type": "code",
   "execution_count": 101,
   "id": "d87571bd",
   "metadata": {},
   "outputs": [
    {
     "name": "stdout",
     "output_type": "stream",
     "text": [
      "Sum Repertoire Embedding\n",
      "              precision    recall  f1-score   support\n",
      "\n",
      "       dlbcl       0.77      0.56      0.65        18\n",
      "          hd       0.85      0.90      0.88        31\n",
      "       nlphl       0.42      0.56      0.48         9\n",
      "\n",
      "    accuracy                           0.74        58\n",
      "   macro avg       0.68      0.67      0.67        58\n",
      "weighted avg       0.76      0.74      0.74        58\n",
      "\n"
     ]
    }
   ],
   "source": [
    "print(\"Sum Repertoire Embedding\")\n",
    "print(classification_report(Y_test, Y_pred,target_names=labels))"
   ]
  },
  {
   "cell_type": "code",
   "execution_count": 105,
   "id": "e85c412c",
   "metadata": {},
   "outputs": [
    {
     "name": "stdout",
     "output_type": "stream",
     "text": [
      "Sum Normalized Repertoire Embedding\n",
      "              precision    recall  f1-score   support\n",
      "\n",
      "       dlbcl       0.70      0.78      0.74        18\n",
      "          hd       0.88      0.90      0.89        31\n",
      "       nlphl       0.50      0.33      0.40         9\n",
      "\n",
      "    accuracy                           0.78        58\n",
      "   macro avg       0.69      0.67      0.68        58\n",
      "weighted avg       0.76      0.78      0.77        58\n",
      "\n"
     ]
    }
   ],
   "source": [
    "print(\"Sum Normalized Repertoire Embedding\")\n",
    "print(classification_report(Y_test, Y_pred,target_names=labels))"
   ]
  },
  {
   "cell_type": "code",
   "execution_count": 44,
   "id": "3f3a2033",
   "metadata": {},
   "outputs": [],
   "source": [
    "import umap"
   ]
  },
  {
   "cell_type": "code",
   "execution_count": 50,
   "id": "8ba67706",
   "metadata": {},
   "outputs": [],
   "source": [
    "embeddings = np.concatenate(list(X[\"rep_embedding\"].apply(lambda x: x.reshape((1,-1)))))\n",
    "#means = np.mean(embeddings, axis=0)\n",
    "#stds = np.std(embeddings, axis=0)\n",
    "#embeddings = (embeddings-means)/stds\n",
    "\n",
    "\n",
    "lymphoma_labels = np.asarray(list(X[\"lymphoma_specification_grouped_encoded\"]))\n",
    "X_embedded_umap = umap.UMAP(n_components=2).fit_transform(embeddings)"
   ]
  },
  {
   "cell_type": "code",
   "execution_count": 46,
   "id": "eb4e70d8",
   "metadata": {},
   "outputs": [
    {
     "data": {
      "text/plain": [
       "['dlbcl', 'hd', 'nlphl']"
      ]
     },
     "execution_count": 46,
     "metadata": {},
     "output_type": "execute_result"
    }
   ],
   "source": [
    "labels"
   ]
  },
  {
   "cell_type": "code",
   "execution_count": 51,
   "id": "a78217d8",
   "metadata": {
    "scrolled": true
   },
   "outputs": [
    {
     "data": {
      "text/plain": [
       "<matplotlib.legend.Legend at 0x29d8f7e10>"
      ]
     },
     "execution_count": 51,
     "metadata": {},
     "output_type": "execute_result"
    },
    {
     "data": {
      "image/png": "[encoded data removed]",
      "text/plain": [
       "<Figure size 1500x800 with 1 Axes>"
      ]
     },
     "metadata": {},
     "output_type": "display_data"
    }
   ],
   "source": [
    "%matplotlib inline\n",
    "#%matplotlib widget\n",
    "from mpl_toolkits.mplot3d import Axes3D\n",
    "import matplotlib.pyplot as plt\n",
    "import matplotlib.patches as mpatches\n",
    "\n",
    "colors= [\"C0\", \"C1\", \"C2\", \"C3\", \"C4\", \"C5\", \"C6\", \"C7\", \"C8\", \"C9\"]\n",
    "c=[]\n",
    "for y in lymphoma_labels:\n",
    "    c.append(colors[y])\n",
    "\"\"\"\n",
    "fig = plt.figure()\n",
    "ax = fig.add_subplot(111, projection='3d')\n",
    "ax.scatter(X_embedded_umap[:,0], X_embedded_umap[:,1], X_embedded_umap[:,2], c=c)    \n",
    "\"\"\"\n",
    "fig, ax = plt.subplots(figsize=(15,8))\n",
    "ax.scatter(X_embedded_umap[:,0], X_embedded_umap[:,1], c=c)\n",
    "\n",
    "handles = []\n",
    "for i in range(len(labels)):\n",
    "    handles.append(mpatches.Patch(color=colors[i], label=labels[i]))\n",
    "ax.legend(handles=handles, ncols=3)\n"
   ]
  },
  {
   "cell_type": "markdown",
   "id": "fb2e37ca",
   "metadata": {},
   "source": [
    "# ANN Classification"
   ]
  },
  {
   "cell_type": "code",
   "execution_count": 106,
   "id": "bb224943",
   "metadata": {},
   "outputs": [],
   "source": [
    "from tqdm import tqdm\n",
    "import torch"
   ]
  },
  {
   "cell_type": "code",
   "execution_count": 119,
   "id": "433711d4",
   "metadata": {},
   "outputs": [],
   "source": [
    "import model_zoo\n",
    "import matplotlib.pyplot as plt"
   ]
  },
  {
   "cell_type": "code",
   "execution_count": 160,
   "id": "be5f4acd",
   "metadata": {},
   "outputs": [],
   "source": [
    "model = model_zoo.NonLinearModel(input_channel = 320, output_channel=3, hidden_units=1280, hidden_layers=3 ,global_average_pooling=False)"
   ]
  },
  {
   "cell_type": "code",
   "execution_count": 176,
   "id": "7c7260bf",
   "metadata": {},
   "outputs": [],
   "source": [
    "model = model_zoo.ResnetModel(input_channel = 320, output_channel=3, hidden_units=1280,hidden_layers=3, global_average_pooling=False)"
   ]
  },
  {
   "cell_type": "code",
   "execution_count": 177,
   "id": "347d4164",
   "metadata": {},
   "outputs": [
    {
     "data": {
      "text/plain": [
       "ResnetModel(\n",
       "  (activation_function): LeakyReLU(negative_slope=0.01)\n",
       "  (resid_layers): ModuleList(\n",
       "    (0): Linear(in_features=320, out_features=1280, bias=True)\n",
       "    (1-2): 2 x Linear(in_features=1280, out_features=1280, bias=True)\n",
       "  )\n",
       "  (output_layer): Linear(in_features=1280, out_features=3, bias=True)\n",
       ")"
      ]
     },
     "execution_count": 177,
     "metadata": {},
     "output_type": "execute_result"
    }
   ],
   "source": [
    "device = torch.device(\"cpu\")\n",
    "model.to(device)"
   ]
  },
  {
   "cell_type": "code",
   "execution_count": 178,
   "id": "aeacf156",
   "metadata": {},
   "outputs": [],
   "source": [
    "import torch.optim as optim\n",
    "optimizer = optim.Adam(model.parameters(),lr=0.000001)\n",
    "criterion = torch.nn.CrossEntropyLoss()"
   ]
  },
  {
   "cell_type": "code",
   "execution_count": 179,
   "id": "162d1817",
   "metadata": {},
   "outputs": [
    {
     "name": "stdout",
     "output_type": "stream",
     "text": [
      "1e-06\n",
      "1e-06\n"
     ]
    }
   ],
   "source": [
    "for g in optimizer.param_groups:\n",
    "    print(g['lr'])\n",
    "    #g['lr'] = 1e-06\n",
    "    print(g['lr'])"
   ]
  },
  {
   "cell_type": "code",
   "execution_count": 180,
   "id": "0f91f253",
   "metadata": {},
   "outputs": [],
   "source": [
    "from torch.utils.data import DataLoader, TensorDataset"
   ]
  },
  {
   "cell_type": "code",
   "execution_count": 181,
   "id": "c0c66251",
   "metadata": {},
   "outputs": [],
   "source": [
    "# Assuming X_df is your input features DataFrame and y_df is your target labels DataFrame\n",
    "#X_train_tensor = torch.tensor(np.expand_dims(X_train,axis=1), dtype=torch.float32).to(device)\n",
    "X_train_tensor = torch.tensor(X_train_mean_normalized, dtype=torch.float32).to(device)\n",
    "y_train_tensor = torch.tensor(Y_train, dtype=torch.float32).to(device)\n",
    "\n",
    "X_test_tensor = torch.tensor(X_test_mean_normalized, dtype=torch.float32).to(device)\n",
    "y_test_tensor = torch.tensor(Y_test, dtype=torch.float32).to(device)"
   ]
  },
  {
   "cell_type": "code",
   "execution_count": 182,
   "id": "f53436c0",
   "metadata": {},
   "outputs": [],
   "source": [
    "dataset = TensorDataset(X_train_tensor, y_train_tensor)"
   ]
  },
  {
   "cell_type": "code",
   "execution_count": 183,
   "id": "418b0f18",
   "metadata": {},
   "outputs": [],
   "source": [
    "batch_size = 8  # Adjust the batch size according to your needs\n",
    "dataloader = DataLoader(dataset, batch_size=batch_size, shuffle=True)\n",
    "N_EPOCHS = 1000"
   ]
  },
  {
   "cell_type": "code",
   "execution_count": 184,
   "id": "968ae6bb",
   "metadata": {},
   "outputs": [
    {
     "name": "stderr",
     "output_type": "stream",
     "text": [
      "Training...: 100%|████████████████████████████████████████████████████████████████████████████████████████████████████████████████| 1000/1000 [13:45<00:00,  1.21it/s]\n"
     ]
    }
   ],
   "source": [
    "epoch_loss = []\n",
    "for i in tqdm(range(N_EPOCHS), desc ='Training...'):\n",
    "    average_epoch_loss = []\n",
    "    \n",
    "    running_loss = 0.0\n",
    "\n",
    "    for batch_x, batch_y in dataloader:\n",
    "        #epoch_loss = []\n",
    "    \n",
    "        #epoch_acc = []\n",
    "        \n",
    "        Y_hat = model(batch_x)\n",
    "        optimizer.zero_grad() # set gradients to zero before performing backprop\n",
    "        targets = torch.tensor(utils.one_hot_from_label(batch_y.cpu().numpy().astype(int), n_classes=3)).to(device, dtype=torch.float32)\n",
    "        loss = criterion(Y_hat, targets)\n",
    "        \n",
    "        average_epoch_loss += [loss.item()]\n",
    "        \n",
    "        running_loss += loss.item()\n",
    "        loss.backward()  # compute dloss/dx and accumulated into x.grad\n",
    "        optimizer.step()  # compute x += -learning_rate * x.grad\n",
    "\n",
    "    \n",
    "    epoch_loss += [np.mean(average_epoch_loss)]"
   ]
  },
  {
   "cell_type": "code",
   "execution_count": 22,
   "id": "a4c18a6e",
   "metadata": {},
   "outputs": [
    {
     "data": {
      "text/plain": [
       "2"
      ]
     },
     "execution_count": 22,
     "metadata": {},
     "output_type": "execute_result"
    }
   ],
   "source": [
    "len(b)"
   ]
  },
  {
   "cell_type": "code",
   "execution_count": 185,
   "id": "52330d89",
   "metadata": {},
   "outputs": [
    {
     "data": {
      "text/plain": [
       "[<matplotlib.lines.Line2D at 0x2d5f62a10>]"
      ]
     },
     "execution_count": 185,
     "metadata": {},
     "output_type": "execute_result"
    },
    {
     "data": {
      "image/png": "[encoded data removed]",
      "text/plain": [
       "<Figure size 640x480 with 1 Axes>"
      ]
     },
     "metadata": {},
     "output_type": "display_data"
    }
   ],
   "source": [
    "fig, ax = plt.subplots()\n",
    "ax.plot(range(len(epoch_loss )), epoch_loss)"
   ]
  },
  {
   "cell_type": "code",
   "execution_count": 186,
   "id": "47656bf6",
   "metadata": {},
   "outputs": [
    {
     "name": "stderr",
     "output_type": "stream",
     "text": [
      "100%|████████████████████████████████████████████████████████████████████████████████████████████████████████████████████████████████| 58/58 [00:00<00:00, 703.45it/s]\n"
     ]
    }
   ],
   "source": [
    "test_loss = []\n",
    "pred_labels = []\n",
    "true_labels = []\n",
    "for i in tqdm(range(len(X_test_tensor))):\n",
    "    x = X_test_tensor[i:i+1]\n",
    "    y = y_test_tensor[i:i+1]\n",
    "    y = torch.tensor(utils.one_hot_from_label(y.cpu().numpy().astype(int), n_classes=3))\n",
    "    with torch.no_grad():\n",
    "        Y_hat = model(x)\n",
    "        loss = criterion(Y_hat.cpu(), y)\n",
    "        Y_hat = torch.nn.functional.softmax(Y_hat, dim=1)\n",
    "    \n",
    "    pred_labels += [np.argmax(Y_hat.detach().cpu().numpy(),axis=1)]\n",
    "    true_labels += [np.argmax(y.detach().cpu().numpy())]\n",
    "    test_loss += [loss.item()]"
   ]
  },
  {
   "cell_type": "code",
   "execution_count": null,
   "id": "f24f0aa6",
   "metadata": {},
   "outputs": [],
   "source": [
    "print()"
   ]
  },
  {
   "cell_type": "code",
   "execution_count": 136,
   "id": "ddf5696f",
   "metadata": {},
   "outputs": [
    {
     "name": "stdout",
     "output_type": "stream",
     "text": [
      "Sum Repertoire Embedding\n",
      "              precision    recall  f1-score   support\n",
      "\n",
      "       dlbcl       0.93      0.72      0.81        18\n",
      "          hd       0.74      1.00      0.85        31\n",
      "       nlphl       0.50      0.11      0.18         9\n",
      "\n",
      "    accuracy                           0.78        58\n",
      "   macro avg       0.72      0.61      0.61        58\n",
      "weighted avg       0.76      0.78      0.73        58\n",
      "\n"
     ]
    }
   ],
   "source": [
    "print(\"Sum Repertoire Embedding\")\n",
    "print(classification_report(true_labels, pred_labels, target_names=labels))"
   ]
  },
  {
   "cell_type": "code",
   "execution_count": 159,
   "id": "cfb4a1ce",
   "metadata": {},
   "outputs": [
    {
     "name": "stdout",
     "output_type": "stream",
     "text": [
      "Sum Normalized Repertoire Embedding\n",
      "              precision    recall  f1-score   support\n",
      "\n",
      "       dlbcl       0.74      0.94      0.83        18\n",
      "          hd       0.87      0.87      0.87        31\n",
      "       nlphl       0.75      0.33      0.46         9\n",
      "\n",
      "    accuracy                           0.81        58\n",
      "   macro avg       0.79      0.72      0.72        58\n",
      "weighted avg       0.81      0.81      0.79        58\n",
      "\n"
     ]
    }
   ],
   "source": [
    "print(\"Sum Normalized Repertoire Embedding\")\n",
    "print(classification_report(true_labels, pred_labels, target_names=labels))"
   ]
  },
  {
   "cell_type": "code",
   "execution_count": 175,
   "id": "5c533766",
   "metadata": {},
   "outputs": [
    {
     "name": "stdout",
     "output_type": "stream",
     "text": [
      "Mean Repertoire Embedding\n",
      "              precision    recall  f1-score   support\n",
      "\n",
      "       dlbcl       0.79      0.83      0.81        18\n",
      "          hd       0.81      0.94      0.87        31\n",
      "       nlphl       0.67      0.22      0.33         9\n",
      "\n",
      "    accuracy                           0.79        58\n",
      "   macro avg       0.75      0.66      0.67        58\n",
      "weighted avg       0.78      0.79      0.77        58\n",
      "\n"
     ]
    }
   ],
   "source": [
    "print(\"Mean Repertoire Embedding\")\n",
    "print(classification_report(true_labels, pred_labels, target_names=labels))"
   ]
  },
  {
   "cell_type": "code",
   "execution_count": 187,
   "id": "3ff4373d",
   "metadata": {},
   "outputs": [
    {
     "name": "stdout",
     "output_type": "stream",
     "text": [
      "Mean Normalized Repertoire Embedding\n",
      "              precision    recall  f1-score   support\n",
      "\n",
      "       dlbcl       0.79      0.61      0.69        18\n",
      "          hd       0.66      0.94      0.77        31\n",
      "       nlphl       0.00      0.00      0.00         9\n",
      "\n",
      "    accuracy                           0.69        58\n",
      "   macro avg       0.48      0.52      0.49        58\n",
      "weighted avg       0.60      0.69      0.63        58\n",
      "\n"
     ]
    },
    {
     "name": "stderr",
     "output_type": "stream",
     "text": [
      "/Users/labadmin/anaconda3/envs/bonn17/lib/python3.11/site-packages/sklearn/metrics/_classification.py:1469: UndefinedMetricWarning: Precision and F-score are ill-defined and being set to 0.0 in labels with no predicted samples. Use `zero_division` parameter to control this behavior.\n",
      "  _warn_prf(average, modifier, msg_start, len(result))\n",
      "/Users/labadmin/anaconda3/envs/bonn17/lib/python3.11/site-packages/sklearn/metrics/_classification.py:1469: UndefinedMetricWarning: Precision and F-score are ill-defined and being set to 0.0 in labels with no predicted samples. Use `zero_division` parameter to control this behavior.\n",
      "  _warn_prf(average, modifier, msg_start, len(result))\n",
      "/Users/labadmin/anaconda3/envs/bonn17/lib/python3.11/site-packages/sklearn/metrics/_classification.py:1469: UndefinedMetricWarning: Precision and F-score are ill-defined and being set to 0.0 in labels with no predicted samples. Use `zero_division` parameter to control this behavior.\n",
      "  _warn_prf(average, modifier, msg_start, len(result))\n"
     ]
    }
   ],
   "source": [
    "print(\"Mean Normalized Repertoire Embedding\")\n",
    "print(classification_report(true_labels, pred_labels, target_names=labels))"
   ]
  },
  {
   "cell_type": "code",
   "execution_count": 456,
   "id": "e56f2737",
   "metadata": {},
   "outputs": [],
   "source": [
    "df_rep_size = df.groupby(\"clones.txt.name\").apply(len).reset_index().sort_values(by=0)"
   ]
  },
  {
   "cell_type": "code",
   "execution_count": 457,
   "id": "f8171186",
   "metadata": {},
   "outputs": [
    {
     "data": {
      "text/html": [
       "<div>\n",
       "<style scoped>\n",
       "    .dataframe tbody tr th:only-of-type {\n",
       "        vertical-align: middle;\n",
       "    }\n",
       "\n",
       "    .dataframe tbody tr th {\n",
       "        vertical-align: top;\n",
       "    }\n",
       "\n",
       "    .dataframe thead th {\n",
       "        text-align: right;\n",
       "    }\n",
       "</style>\n",
       "<table border=\"1\" class=\"dataframe\">\n",
       "  <thead>\n",
       "    <tr style=\"text-align: right;\">\n",
       "      <th></th>\n",
       "      <th>clones.txt.name</th>\n",
       "      <th>0</th>\n",
       "    </tr>\n",
       "  </thead>\n",
       "  <tbody>\n",
       "    <tr>\n",
       "      <th>584</th>\n",
       "      <td>LisaP-IGH-CLL-P20082-1_S140.clones.txt</td>\n",
       "      <td>1</td>\n",
       "    </tr>\n",
       "    <tr>\n",
       "      <th>850</th>\n",
       "      <td>NC-hs-IGH-CLL177-pb_S37.clones.txt</td>\n",
       "      <td>1</td>\n",
       "    </tr>\n",
       "    <tr>\n",
       "      <th>673</th>\n",
       "      <td>LisaS-hs-FR3-DLBCL39_S105.clones.txt</td>\n",
       "      <td>1</td>\n",
       "    </tr>\n",
       "    <tr>\n",
       "      <th>532</th>\n",
       "      <td>Jenny-hs-IGH-CLL093-PB-gDNA_S48.clones.txt</td>\n",
       "      <td>1</td>\n",
       "    </tr>\n",
       "    <tr>\n",
       "      <th>531</th>\n",
       "      <td>Jenny-hs-IGH-CLL062-PB-gDNA_S39.clones.txt</td>\n",
       "      <td>1</td>\n",
       "    </tr>\n",
       "    <tr>\n",
       "      <th>...</th>\n",
       "      <td>...</td>\n",
       "      <td>...</td>\n",
       "    </tr>\n",
       "    <tr>\n",
       "      <th>742</th>\n",
       "      <td>LisaS-hs-FR3-NLPHL-HD-Lymphadenitis-5_S164.clo...</td>\n",
       "      <td>20999</td>\n",
       "    </tr>\n",
       "    <tr>\n",
       "      <th>733</th>\n",
       "      <td>LisaS-hs-FR3-NLPHL-38-ED_S116.clones.txt</td>\n",
       "      <td>21246</td>\n",
       "    </tr>\n",
       "    <tr>\n",
       "      <th>415</th>\n",
       "      <td>Dona-hs-FR3IGH-K259-10-Tumor-Erstdiagnose-gDNA...</td>\n",
       "      <td>22486</td>\n",
       "    </tr>\n",
       "    <tr>\n",
       "      <th>412</th>\n",
       "      <td>Dona-hs-FR3IGH-H14197-10-Tumor-Rezidiv1-gDNA_S...</td>\n",
       "      <td>25347</td>\n",
       "    </tr>\n",
       "    <tr>\n",
       "      <th>722</th>\n",
       "      <td>LisaS-hs-FR3-NLPHL-28-ED_S66.clones.txt</td>\n",
       "      <td>32096</td>\n",
       "    </tr>\n",
       "  </tbody>\n",
       "</table>\n",
       "<p>951 rows × 2 columns</p>\n",
       "</div>"
      ],
      "text/plain": [
       "                                       clones.txt.name      0\n",
       "584             LisaP-IGH-CLL-P20082-1_S140.clones.txt      1\n",
       "850                 NC-hs-IGH-CLL177-pb_S37.clones.txt      1\n",
       "673               LisaS-hs-FR3-DLBCL39_S105.clones.txt      1\n",
       "532         Jenny-hs-IGH-CLL093-PB-gDNA_S48.clones.txt      1\n",
       "531         Jenny-hs-IGH-CLL062-PB-gDNA_S39.clones.txt      1\n",
       "..                                                 ...    ...\n",
       "742  LisaS-hs-FR3-NLPHL-HD-Lymphadenitis-5_S164.clo...  20999\n",
       "733           LisaS-hs-FR3-NLPHL-38-ED_S116.clones.txt  21246\n",
       "415  Dona-hs-FR3IGH-K259-10-Tumor-Erstdiagnose-gDNA...  22486\n",
       "412  Dona-hs-FR3IGH-H14197-10-Tumor-Rezidiv1-gDNA_S...  25347\n",
       "722            LisaS-hs-FR3-NLPHL-28-ED_S66.clones.txt  32096\n",
       "\n",
       "[951 rows x 2 columns]"
      ]
     },
     "execution_count": 457,
     "metadata": {},
     "output_type": "execute_result"
    }
   ],
   "source": [
    "df_rep_size"
   ]
  },
  {
   "cell_type": "code",
   "execution_count": 469,
   "id": "d960b445",
   "metadata": {},
   "outputs": [
    {
     "data": {
      "text/plain": [
       "(array([    1,     2,     3,     4,     5,     6,     7,     8,     9,\n",
       "           10,    11,    12,    13,    14,    15,    16,    17,    18,\n",
       "           19,    20,    21,    22,    23,    24,    25,    26,    27,\n",
       "           28,    29,    30,    31,    32,    33,    34,    35,    36,\n",
       "           37,    38,    39,    40,    41,    42,    44,    45,    46,\n",
       "           47,    48,    49,    50,    51,    52,    53,    54,    55,\n",
       "           56,    57,    58,    59,    60,    61,    62,    63,    65,\n",
       "           67,    68,    72,    74,    77,    78,    79,    80,    81,\n",
       "           82,    83,    85,    87,    89,    90,    91,    93,    95,\n",
       "           96,   100,   103,   104,   106,   108,   109,   118,   119,\n",
       "          121,   122,   126,   127,   129,   132,   134,   136,   138,\n",
       "          145,   148,   149,   152,   153,   156,   159,   160,   162,\n",
       "          166,   168,   169,   171,   172,   174,   176,   181,   186,\n",
       "          192,   195,   196,   197,   204,   210,   214,   215,   216,\n",
       "          218,   219,   220,   223,   224,   226,   229,   230,   239,\n",
       "          240,   241,   243,   245,   247,   254,   270,   273,   274,\n",
       "          277,   295,   303,   309,   312,   313,   315,   319,   320,\n",
       "          325,   326,   331,   343,   351,   358,   360,   363,   374,\n",
       "          375,   380,   383,   396,   399,   402,   405,   407,   408,\n",
       "          418,   428,   432,   454,   463,   465,   468,   472,   491,\n",
       "          503,   509,   513,   524,   531,   544,   546,   557,   566,\n",
       "          577,   578,   584,   585,   590,   595,   596,   600,   611,\n",
       "          634,   639,   661,   663,   666,   671,   673,   676,   684,\n",
       "          687,   690,   697,   708,   757,   759,   771,   788,   799,\n",
       "          800,   805,   815,   816,   826,   831,   833,   834,   848,\n",
       "          854,   856,   864,   866,   873,   886,   893,   911,   916,\n",
       "          918,   920,   934,   940,   944,   946,   949,   953,   965,\n",
       "          968,   976,   978,  1058,  1061,  1062,  1064,  1094,  1095,\n",
       "         1099,  1101,  1104,  1113,  1121,  1128,  1129,  1130,  1134,\n",
       "         1141,  1149,  1159,  1166,  1175,  1177,  1178,  1182,  1194,\n",
       "         1205,  1211,  1216,  1220,  1227,  1229,  1231,  1251,  1260,\n",
       "         1277,  1281,  1289,  1301,  1305,  1325,  1330,  1334,  1337,\n",
       "         1340,  1353,  1383,  1401,  1402,  1408,  1432,  1440,  1445,\n",
       "         1456,  1489,  1494,  1497,  1504,  1508,  1516,  1524,  1534,\n",
       "         1539,  1548,  1553,  1567,  1588,  1596,  1598,  1608,  1614,\n",
       "         1656,  1663,  1692,  1695,  1700,  1702,  1726,  1736,  1740,\n",
       "         1741,  1776,  1784,  1795,  1800,  1806,  1812,  1818,  1823,\n",
       "         1829,  1839,  1846,  1850,  1857,  1890,  1915,  1917,  1942,\n",
       "         1948,  1961,  1969,  1990,  1995,  2003,  2014,  2027,  2042,\n",
       "         2111,  2132,  2142,  2191,  2197,  2203,  2221,  2232,  2233,\n",
       "         2239,  2247,  2248,  2260,  2275,  2279,  2288,  2291,  2298,\n",
       "         2305,  2307,  2324,  2331,  2335,  2340,  2378,  2389,  2398,\n",
       "         2419,  2456,  2457,  2471,  2478,  2494,  2508,  2531,  2532,\n",
       "         2533,  2541,  2555,  2577,  2581,  2597,  2620,  2627,  2646,\n",
       "         2659,  2674,  2713,  2719,  2745,  2792,  2803,  2814,  2818,\n",
       "         2822,  2837,  2855,  2861,  2909,  2913,  2918,  2935,  2947,\n",
       "         2954,  3024,  3038,  3066,  3076,  3162,  3168,  3190,  3191,\n",
       "         3229,  3246,  3253,  3268,  3296,  3313,  3380,  3400,  3405,\n",
       "         3413,  3433,  3459,  3466,  3487,  3564,  3596,  3597,  3598,\n",
       "         3644,  3693,  3696,  3700,  3706,  3739,  3766,  3801,  3824,\n",
       "         3833,  3838,  3848,  3849,  3888,  3891,  3948,  3951,  3992,\n",
       "         4037,  4122,  4132,  4156,  4206,  4226,  4282,  4300,  4314,\n",
       "         4355,  4468,  4473,  4476,  4490,  4532,  4559,  4590,  4601,\n",
       "         4765,  4794,  4841,  4977,  4981,  5069,  5073,  5103,  5135,\n",
       "         5143,  5189,  5201,  5211,  5245,  5250,  5252,  5272,  5331,\n",
       "         5346,  5376,  5456,  5532,  5582,  5683,  5780,  5834,  5886,\n",
       "         5917,  5968,  6051,  6211,  6306,  6328,  6395,  6445,  6563,\n",
       "         6656,  6931,  7047,  7466,  7532,  7810,  7812,  7911,  8410,\n",
       "         8542,  8642,  8850,  9046,  9197,  9204,  9670,  9915, 10064,\n",
       "        10183, 10585, 11231, 11577, 11746, 11898, 13454, 14043, 14083,\n",
       "        14463, 14851, 14856, 15843, 16338, 16893, 17020, 18525, 20999,\n",
       "        21246, 22486, 25347, 32096]),\n",
       " array([12, 25, 33, 29, 21, 25, 15, 22, 15,  9, 11,  9,  7,  7,  8,  8, 10,\n",
       "        10, 10,  7,  5,  4,  3,  7,  4,  5,  4,  4,  6,  3,  5,  4,  3,  2,\n",
       "         4,  3,  2,  8,  2,  3,  6,  2,  6,  3,  2,  4,  1,  2,  1,  5,  3,\n",
       "         1,  3,  2,  2,  1,  1,  1,  1,  1,  3,  1,  2,  1,  2,  1,  1,  1,\n",
       "         2,  2,  2,  3,  1,  1,  1,  2,  1,  1,  1,  2,  3,  1,  1,  1,  1,\n",
       "         1,  1,  1,  1,  1,  1,  1,  1,  1,  1,  2,  1,  1,  1,  1,  1,  1,\n",
       "         2,  2,  1,  1,  2,  1,  1,  1,  1,  1,  1,  1,  1,  1,  1,  1,  1,\n",
       "         1,  1,  1,  1,  1,  3,  1,  1,  1,  1,  1,  1,  2,  1,  1,  1,  2,\n",
       "         1,  1,  1,  1,  1,  1,  1,  1,  1,  1,  1,  1,  1,  1,  1,  1,  1,\n",
       "         1,  2,  2,  1,  1,  1,  1,  1,  1,  1,  1,  1,  1,  1,  1,  1,  1,\n",
       "         1,  1,  1,  1,  1,  1,  1,  1,  1,  1,  1,  1,  1,  1,  1,  1,  1,\n",
       "         1,  1,  2,  1,  1,  1,  1,  1,  1,  1,  1,  1,  1,  1,  1,  1,  1,\n",
       "         1,  2,  1,  2,  1,  1,  1,  1,  1,  1,  1,  1,  1,  1,  1,  1,  1,\n",
       "         1,  1,  1,  1,  1,  1,  1,  1,  1,  1,  1,  1,  1,  1,  1,  2,  1,\n",
       "         2,  1,  1,  1,  1,  1,  1,  1,  1,  1,  1,  1,  1,  1,  1,  1,  1,\n",
       "         1,  1,  1,  1,  1,  2,  1,  1,  1,  1,  1,  1,  1,  1,  1,  1,  1,\n",
       "         2,  1,  1,  1,  1,  1,  1,  1,  1,  1,  1,  1,  1,  1,  1,  1,  1,\n",
       "         1,  1,  1,  2,  1,  1,  1,  1,  1,  1,  1,  1,  2,  1,  1,  1,  1,\n",
       "         1,  1,  1,  1,  1,  1,  1,  1,  1,  2,  1,  1,  1,  1,  1,  1,  1,\n",
       "         1,  1,  2,  1,  1,  1,  1,  1,  1,  1,  1,  1,  1,  1,  1,  1,  1,\n",
       "         1,  1,  1,  1,  1,  1,  1,  1,  1,  1,  1,  1,  1,  1,  1,  1,  1,\n",
       "         1,  1,  1,  1,  1,  1,  1,  1,  1,  1,  1,  1,  1,  1,  1,  1,  1,\n",
       "         1,  1,  1,  1,  1,  1,  1,  1,  1,  1,  1,  1,  1,  1,  1,  2,  1,\n",
       "         1,  1,  1,  1,  1,  1,  1,  1,  1,  1,  1,  1,  1,  1,  1,  1,  1,\n",
       "         1,  1,  1,  1,  1,  1,  1,  1,  1,  1,  1,  1,  1,  1,  1,  1,  1,\n",
       "         1,  1,  1,  1,  1,  1,  1,  1,  1,  1,  1,  1,  1,  1,  2,  1,  1,\n",
       "         1,  1,  1,  1,  1,  1,  1,  1,  1,  1,  1,  1,  1,  1,  1,  1,  1,\n",
       "         1,  1,  1,  1,  1,  1,  1,  1,  1,  1,  1,  1,  1,  1,  1,  1,  1,\n",
       "         1,  1,  1,  1,  1,  1,  1,  1,  1,  1,  1,  1,  1,  1,  1,  1,  1,\n",
       "         1,  1,  1,  1,  1,  1,  1,  1,  1,  1,  1,  1,  1,  1,  1,  1,  1,\n",
       "         1,  1,  1,  1,  1,  1,  1,  1,  1,  1,  1,  1,  1,  1,  1,  1,  1,\n",
       "         1,  1,  1,  1,  1,  1,  1,  1,  1,  1,  1,  1,  1,  1,  1,  1,  1,\n",
       "         1,  1,  1,  1,  1,  1,  1,  1,  1]))"
      ]
     },
     "execution_count": 469,
     "metadata": {},
     "output_type": "execute_result"
    }
   ],
   "source": [
    "np.unique(df_rep_size[0], return_counts=True)"
   ]
  },
  {
   "cell_type": "code",
   "execution_count": 463,
   "id": "618ba655",
   "metadata": {},
   "outputs": [],
   "source": [
    "df_rep_size_larger_5 = df[df[\"Read.count\"] >5].groupby(\"clones.txt.name\").apply(len).reset_index().sort_values(by=0)"
   ]
  },
  {
   "cell_type": "code",
   "execution_count": 464,
   "id": "52ed07cc",
   "metadata": {},
   "outputs": [
    {
     "data": {
      "text/html": [
       "<div>\n",
       "<style scoped>\n",
       "    .dataframe tbody tr th:only-of-type {\n",
       "        vertical-align: middle;\n",
       "    }\n",
       "\n",
       "    .dataframe tbody tr th {\n",
       "        vertical-align: top;\n",
       "    }\n",
       "\n",
       "    .dataframe thead th {\n",
       "        text-align: right;\n",
       "    }\n",
       "</style>\n",
       "<table border=\"1\" class=\"dataframe\">\n",
       "  <thead>\n",
       "    <tr style=\"text-align: right;\">\n",
       "      <th></th>\n",
       "      <th>clones.txt.name</th>\n",
       "      <th>0</th>\n",
       "    </tr>\n",
       "  </thead>\n",
       "  <tbody>\n",
       "    <tr>\n",
       "      <th>525</th>\n",
       "      <td>Jenny-hs-IGH-CLL093-PB-gDNA_S48.clones.txt</td>\n",
       "      <td>1</td>\n",
       "    </tr>\n",
       "    <tr>\n",
       "      <th>768</th>\n",
       "      <td>LisaS-hs-ighFR3-NLPHL41-Rez2-20-Ampl_S167.clon...</td>\n",
       "      <td>1</td>\n",
       "    </tr>\n",
       "    <tr>\n",
       "      <th>524</th>\n",
       "      <td>Jenny-hs-IGH-CLL062-PB-gDNA_S39.clones.txt</td>\n",
       "      <td>1</td>\n",
       "    </tr>\n",
       "    <tr>\n",
       "      <th>854</th>\n",
       "      <td>NC-hs-IGH-CLL421-pb_S54.clones.txt</td>\n",
       "      <td>1</td>\n",
       "    </tr>\n",
       "    <tr>\n",
       "      <th>856</th>\n",
       "      <td>NC-hs-IGH-CLL423-pb_S56.clones.txt</td>\n",
       "      <td>1</td>\n",
       "    </tr>\n",
       "    <tr>\n",
       "      <th>...</th>\n",
       "      <td>...</td>\n",
       "      <td>...</td>\n",
       "    </tr>\n",
       "    <tr>\n",
       "      <th>81</th>\n",
       "      <td>20211210-hs-IGH-BNT-7-1-CoVac-pb_S38.clones.txt</td>\n",
       "      <td>6849</td>\n",
       "    </tr>\n",
       "    <tr>\n",
       "      <th>423</th>\n",
       "      <td>Dona-hs-IGHFR3-K130-14-Tumor-Rezidiv-gDNA_S275...</td>\n",
       "      <td>7292</td>\n",
       "    </tr>\n",
       "    <tr>\n",
       "      <th>72</th>\n",
       "      <td>20211210-hs-IGH-BNT-17-1-CoVac-pb_S57.clones.txt</td>\n",
       "      <td>7304</td>\n",
       "    </tr>\n",
       "    <tr>\n",
       "      <th>730</th>\n",
       "      <td>LisaS-hs-FR3-NLPHL-HD-Lymphadenitis-4_S163.clo...</td>\n",
       "      <td>7831</td>\n",
       "    </tr>\n",
       "    <tr>\n",
       "      <th>405</th>\n",
       "      <td>Dona-hs-FR3IGH-H14197-10-Tumor-Rezidiv1-gDNA_S...</td>\n",
       "      <td>8611</td>\n",
       "    </tr>\n",
       "  </tbody>\n",
       "</table>\n",
       "<p>938 rows × 2 columns</p>\n",
       "</div>"
      ],
      "text/plain": [
       "                                       clones.txt.name     0\n",
       "525         Jenny-hs-IGH-CLL093-PB-gDNA_S48.clones.txt     1\n",
       "768  LisaS-hs-ighFR3-NLPHL41-Rez2-20-Ampl_S167.clon...     1\n",
       "524         Jenny-hs-IGH-CLL062-PB-gDNA_S39.clones.txt     1\n",
       "854                 NC-hs-IGH-CLL421-pb_S54.clones.txt     1\n",
       "856                 NC-hs-IGH-CLL423-pb_S56.clones.txt     1\n",
       "..                                                 ...   ...\n",
       "81     20211210-hs-IGH-BNT-7-1-CoVac-pb_S38.clones.txt  6849\n",
       "423  Dona-hs-IGHFR3-K130-14-Tumor-Rezidiv-gDNA_S275...  7292\n",
       "72    20211210-hs-IGH-BNT-17-1-CoVac-pb_S57.clones.txt  7304\n",
       "730  LisaS-hs-FR3-NLPHL-HD-Lymphadenitis-4_S163.clo...  7831\n",
       "405  Dona-hs-FR3IGH-H14197-10-Tumor-Rezidiv1-gDNA_S...  8611\n",
       "\n",
       "[938 rows x 2 columns]"
      ]
     },
     "execution_count": 464,
     "metadata": {},
     "output_type": "execute_result"
    }
   ],
   "source": [
    "df_rep_size_larger_5"
   ]
  },
  {
   "cell_type": "code",
   "execution_count": 468,
   "id": "4ec15be6",
   "metadata": {},
   "outputs": [
    {
     "data": {
      "text/plain": [
       "(array([   1,    2,    3,    4,    5,    6,    7,    8,    9,   10,   11,\n",
       "          12,   13,   14,   15,   16,   17,   18,   20,   21,   22,   23,\n",
       "          24,   26,   27,   28,   29,   30,   31,   32,   33,   34,   35,\n",
       "          36,   38,   39,   40,   41,   42,   43,   44,   45,   46,   47,\n",
       "          48,   49,   52,   53,   54,   56,   57,   59,   60,   61,   62,\n",
       "          64,   66,   72,   74,   78,   79,   82,   85,   88,   89,   90,\n",
       "          92,   94,   98,  100,  101,  103,  104,  105,  106,  109,  110,\n",
       "         112,  118,  122,  123,  125,  129,  137,  139,  141,  142,  143,\n",
       "         150,  151,  152,  153,  156,  160,  167,  175,  177,  178,  182,\n",
       "         184,  185,  188,  189,  196,  200,  210,  218,  220,  221,  235,\n",
       "         237,  251,  253,  254,  255,  265,  273,  278,  282,  289,  292,\n",
       "         293,  296,  298,  300,  304,  305,  308,  311,  316,  319,  321,\n",
       "         322,  323,  330,  333,  336,  340,  343,  359,  361,  364,  370,\n",
       "         372,  373,  378,  382,  391,  406,  408,  427,  430,  431,  433,\n",
       "         440,  442,  445,  447,  455,  459,  467,  468,  470,  471,  491,\n",
       "         492,  503,  511,  513,  520,  526,  527,  529,  545,  548,  550,\n",
       "         553,  554,  558,  560,  564,  570,  581,  583,  602,  604,  617,\n",
       "         627,  641,  642,  646,  657,  659,  676,  678,  694,  700,  701,\n",
       "         704,  712,  715,  718,  725,  741,  747,  751,  761,  763,  773,\n",
       "         776,  804,  808,  814,  815,  819,  833,  840,  861,  863,  865,\n",
       "         867,  869,  873,  874,  876,  883,  884,  895,  899,  915,  928,\n",
       "         948,  955,  962,  965,  968,  978,  990,  992, 1004, 1023, 1025,\n",
       "        1030, 1032, 1035, 1048, 1061, 1066, 1068, 1069, 1077, 1079, 1088,\n",
       "        1093, 1096, 1101, 1110, 1111, 1117, 1120, 1127, 1141, 1143, 1146,\n",
       "        1147, 1154, 1176, 1177, 1178, 1180, 1184, 1186, 1188, 1189, 1192,\n",
       "        1208, 1218, 1228, 1241, 1276, 1277, 1290, 1303, 1305, 1307, 1321,\n",
       "        1324, 1336, 1339, 1343, 1349, 1371, 1387, 1406, 1410, 1417, 1422,\n",
       "        1424, 1442, 1445, 1459, 1476, 1479, 1484, 1489, 1490, 1492, 1495,\n",
       "        1508, 1527, 1528, 1547, 1563, 1564, 1579, 1583, 1587, 1605, 1614,\n",
       "        1628, 1640, 1650, 1659, 1665, 1679, 1701, 1703, 1709, 1710, 1711,\n",
       "        1719, 1731, 1751, 1759, 1780, 1823, 1833, 1843, 1872, 1889, 1895,\n",
       "        1897, 1898, 1909, 1935, 1955, 1989, 2007, 2011, 2022, 2034, 2037,\n",
       "        2038, 2045, 2069, 2078, 2082, 2102, 2119, 2165, 2173, 2183, 2187,\n",
       "        2195, 2197, 2208, 2223, 2231, 2242, 2252, 2307, 2316, 2344, 2350,\n",
       "        2351, 2353, 2381, 2386, 2396, 2404, 2426, 2445, 2448, 2455, 2465,\n",
       "        2480, 2502, 2505, 2509, 2547, 2555, 2567, 2573, 2575, 2650, 2665,\n",
       "        2668, 2673, 2681, 2682, 2693, 2697, 2721, 2750, 2758, 2762, 2771,\n",
       "        2773, 2810, 2823, 2838, 2852, 2866, 2929, 2943, 2967, 3001, 3014,\n",
       "        3018, 3047, 3055, 3140, 3149, 3201, 3205, 3268, 3272, 3292, 3322,\n",
       "        3327, 3343, 3351, 3366, 3386, 3430, 3466, 3470, 3535, 3560, 3568,\n",
       "        3573, 3595, 3607, 3616, 3628, 3648, 3706, 3763, 3800, 3843, 3844,\n",
       "        3894, 4095, 4117, 4126, 4169, 4244, 4253, 4277, 4307, 4455, 4538,\n",
       "        4563, 4612, 4623, 4773, 4888, 4929, 4936, 5411, 5745, 6005, 6023,\n",
       "        6434, 6849, 7292, 7304, 7831, 8611]),\n",
       " array([70, 81, 48, 45, 25, 14, 15, 15,  9,  9,  6,  9, 10,  6,  6,  9,  2,\n",
       "         3,  4,  4,  5,  4,  5,  3,  6,  3,  3,  3,  3,  1,  2,  2,  2,  1,\n",
       "         1,  1,  1,  3,  4,  1,  4,  3,  3,  6,  2,  3,  2,  2,  1,  2,  1,\n",
       "         1,  1,  3,  2,  2,  1,  1,  2,  1,  1,  1,  2,  1,  2,  2,  1,  1,\n",
       "         2,  2,  1,  1,  1,  1,  1,  1,  2,  1,  3,  1,  1,  1,  1,  2,  1,\n",
       "         1,  1,  1,  1,  2,  1,  1,  2,  1,  1,  1,  3,  1,  1,  1,  1,  1,\n",
       "         1,  2,  2,  1,  1,  1,  1,  1,  1,  1,  1,  1,  1,  1,  1,  1,  1,\n",
       "         1,  1,  1,  1,  1,  1,  1,  1,  1,  1,  1,  1,  1,  1,  1,  1,  1,\n",
       "         1,  1,  1,  1,  1,  1,  1,  1,  1,  1,  1,  1,  1,  1,  2,  1,  1,\n",
       "         1,  1,  1,  1,  1,  1,  1,  1,  1,  1,  1,  1,  1,  1,  1,  1,  1,\n",
       "         1,  2,  2,  1,  1,  1,  1,  1,  1,  1,  1,  1,  2,  1,  1,  1,  1,\n",
       "         1,  1,  1,  1,  1,  1,  1,  1,  2,  1,  1,  1,  1,  1,  1,  1,  1,\n",
       "         1,  1,  1,  1,  1,  1,  1,  1,  1,  1,  1,  1,  1,  1,  1,  1,  1,\n",
       "         1,  2,  2,  1,  1,  1,  1,  2,  1,  1,  1,  1,  1,  1,  1,  1,  1,\n",
       "         1,  1,  1,  1,  1,  1,  1,  1,  1,  1,  1,  1,  1,  1,  2,  1,  2,\n",
       "         1,  2,  2,  1,  1,  1,  1,  1,  1,  1,  1,  2,  2,  1,  1,  1,  1,\n",
       "         1,  1,  1,  1,  2,  1,  1,  1,  1,  1,  1,  1,  1,  1,  1,  1,  1,\n",
       "         1,  1,  1,  1,  1,  1,  1,  1,  1,  1,  1,  1,  1,  1,  1,  1,  1,\n",
       "         1,  1,  1,  1,  1,  1,  1,  1,  1,  1,  1,  1,  1,  1,  1,  1,  1,\n",
       "         1,  1,  1,  1,  1,  1,  1,  2,  1,  1,  1,  1,  1,  1,  1,  1,  1,\n",
       "         1,  1,  1,  1,  1,  1,  1,  1,  1,  1,  1,  1,  1,  1,  1,  1,  1,\n",
       "         1,  1,  1,  1,  1,  1,  1,  1,  1,  1,  1,  1,  1,  1,  1,  1,  1,\n",
       "         1,  1,  1,  1,  1,  1,  1,  1,  1,  1,  1,  1,  1,  1,  1,  1,  1,\n",
       "         1,  1,  1,  1,  1,  1,  1,  1,  1,  1,  1,  1,  1,  1,  1,  1,  1,\n",
       "         1,  1,  1,  2,  1,  1,  1,  1,  1,  1,  1,  1,  1,  1,  1,  1,  1,\n",
       "         1,  1,  1,  1,  1,  1,  1,  1,  1,  1,  1,  1,  1,  1,  1,  1,  1,\n",
       "         1,  1,  1,  1,  1,  1,  1,  1,  1,  1,  1,  1,  1,  1,  1,  1,  1,\n",
       "         1,  1,  1,  1,  1,  1,  1,  1,  1,  1,  1,  1,  1,  1,  1,  1,  1,\n",
       "         1,  1,  1]))"
      ]
     },
     "execution_count": 468,
     "metadata": {},
     "output_type": "execute_result"
    }
   ],
   "source": [
    "np.unique(df_rep_size_larger_5[0], return_counts=True)"
   ]
  },
  {
   "cell_type": "code",
   "execution_count": 465,
   "id": "e77fbd8e",
   "metadata": {},
   "outputs": [
    {
     "data": {
      "text/html": [
       "<div>\n",
       "<style scoped>\n",
       "    .dataframe tbody tr th:only-of-type {\n",
       "        vertical-align: middle;\n",
       "    }\n",
       "\n",
       "    .dataframe tbody tr th {\n",
       "        vertical-align: top;\n",
       "    }\n",
       "\n",
       "    .dataframe thead th {\n",
       "        text-align: right;\n",
       "    }\n",
       "</style>\n",
       "<table border=\"1\" class=\"dataframe\">\n",
       "  <thead>\n",
       "    <tr style=\"text-align: right;\">\n",
       "      <th></th>\n",
       "      <th>Read.count</th>\n",
       "      <th>Read.proportion</th>\n",
       "      <th>CDR3.nucleotide.sequence</th>\n",
       "      <th>CDR3.amino.acid.sequence</th>\n",
       "      <th>V.gene</th>\n",
       "      <th>J.gene</th>\n",
       "      <th>D.gene</th>\n",
       "      <th>V.end</th>\n",
       "      <th>J.start</th>\n",
       "      <th>D5.end</th>\n",
       "      <th>...</th>\n",
       "      <th>aaSeqCDR2</th>\n",
       "      <th>aaSeqCDR1</th>\n",
       "      <th>aaSeqFR2</th>\n",
       "      <th>aaSeqFR3</th>\n",
       "      <th>aaSeqFR4</th>\n",
       "      <th>aaSeqImputedVDJRegion</th>\n",
       "      <th>has_mutation</th>\n",
       "      <th>olga_pgen_cdr3</th>\n",
       "      <th>olga_pgen_aa</th>\n",
       "      <th>esm_embedding</th>\n",
       "    </tr>\n",
       "  </thead>\n",
       "  <tbody>\n",
       "    <tr>\n",
       "      <th>2247284</th>\n",
       "      <td>7982</td>\n",
       "      <td>1.0</td>\n",
       "      <td>TGTGCGAGGGACAGTGGGACCTACTCTCTTGACTACTGG</td>\n",
       "      <td>CARDSGTYSLDYW</td>\n",
       "      <td>IGHV3-21, IGHV3-21, IGHV3-21, IGHV3-21, IGHV3-21</td>\n",
       "      <td>IGHJ4, IGHJ4</td>\n",
       "      <td>IGHD1-26, IGHD6-19</td>\n",
       "      <td>11</td>\n",
       "      <td>21</td>\n",
       "      <td>12</td>\n",
       "      <td>...</td>\n",
       "      <td>NaN</td>\n",
       "      <td>NaN</td>\n",
       "      <td>NaN</td>\n",
       "      <td>NaN</td>\n",
       "      <td>NaN</td>\n",
       "      <td>NaN</td>\n",
       "      <td>False</td>\n",
       "      <td>4.077528e-17</td>\n",
       "      <td>9.118636e-12</td>\n",
       "      <td>[-0.037519533187150955, -0.2069951891899109, 0...</td>\n",
       "    </tr>\n",
       "  </tbody>\n",
       "</table>\n",
       "<p>1 rows × 85 columns</p>\n",
       "</div>"
      ],
      "text/plain": [
       "         Read.count  Read.proportion                 CDR3.nucleotide.sequence  \\\n",
       "2247284        7982              1.0  TGTGCGAGGGACAGTGGGACCTACTCTCTTGACTACTGG   \n",
       "\n",
       "        CDR3.amino.acid.sequence  \\\n",
       "2247284            CARDSGTYSLDYW   \n",
       "\n",
       "                                                   V.gene        J.gene  \\\n",
       "2247284  IGHV3-21, IGHV3-21, IGHV3-21, IGHV3-21, IGHV3-21  IGHJ4, IGHJ4   \n",
       "\n",
       "                     D.gene V.end J.start D5.end  ... aaSeqCDR2  aaSeqCDR1  \\\n",
       "2247284  IGHD1-26, IGHD6-19    11      21     12  ...       NaN        NaN   \n",
       "\n",
       "         aaSeqFR2  aaSeqFR3 aaSeqFR4 aaSeqImputedVDJRegion has_mutation  \\\n",
       "2247284       NaN       NaN      NaN                   NaN        False   \n",
       "\n",
       "        olga_pgen_cdr3  olga_pgen_aa  \\\n",
       "2247284   4.077528e-17  9.118636e-12   \n",
       "\n",
       "                                             esm_embedding  \n",
       "2247284  [-0.037519533187150955, -0.2069951891899109, 0...  \n",
       "\n",
       "[1 rows x 85 columns]"
      ]
     },
     "execution_count": 465,
     "metadata": {},
     "output_type": "execute_result"
    }
   ],
   "source": [
    "df[df[\"clones.txt.name\"] == \"LisaP-IGH-CLL-P20082-1_S140.clones.txt\"]"
   ]
  },
  {
   "cell_type": "code",
   "execution_count": 245,
   "id": "6f0f6c5e",
   "metadata": {},
   "outputs": [
    {
     "data": {
      "text/html": [
       "<div>\n",
       "<style scoped>\n",
       "    .dataframe tbody tr th:only-of-type {\n",
       "        vertical-align: middle;\n",
       "    }\n",
       "\n",
       "    .dataframe tbody tr th {\n",
       "        vertical-align: top;\n",
       "    }\n",
       "\n",
       "    .dataframe thead th {\n",
       "        text-align: right;\n",
       "    }\n",
       "</style>\n",
       "<table border=\"1\" class=\"dataframe\">\n",
       "  <thead>\n",
       "    <tr style=\"text-align: right;\">\n",
       "      <th></th>\n",
       "      <th>clones.txt.name</th>\n",
       "      <th>cloneCount</th>\n",
       "    </tr>\n",
       "  </thead>\n",
       "  <tbody>\n",
       "    <tr>\n",
       "      <th>125</th>\n",
       "      <td>AP-hs-IGH-CLL062-PB-gDNA_S149.clones.txt</td>\n",
       "      <td>5</td>\n",
       "    </tr>\n",
       "    <tr>\n",
       "      <th>375</th>\n",
       "      <td>Dona-HD036-IGH-Wiederholung_S35.clones.txt</td>\n",
       "      <td>7</td>\n",
       "    </tr>\n",
       "    <tr>\n",
       "      <th>613</th>\n",
       "      <td>LisaS-hs-FR3-DLBCL-KM-Inf-01_S130.clones.txt</td>\n",
       "      <td>8</td>\n",
       "    </tr>\n",
       "    <tr>\n",
       "      <th>673</th>\n",
       "      <td>LisaS-hs-FR3-DLBCL39_S105.clones.txt</td>\n",
       "      <td>9</td>\n",
       "    </tr>\n",
       "    <tr>\n",
       "      <th>780</th>\n",
       "      <td>LisaS-hs-ighFR3-NLPHL41-Rez2-20-Ampl_S167.clon...</td>\n",
       "      <td>10</td>\n",
       "    </tr>\n",
       "    <tr>\n",
       "      <th>...</th>\n",
       "      <td>...</td>\n",
       "      <td>...</td>\n",
       "    </tr>\n",
       "    <tr>\n",
       "      <th>668</th>\n",
       "      <td>LisaS-hs-FR3-DLBCL37-II_S42.clones.txt</td>\n",
       "      <td>262420</td>\n",
       "    </tr>\n",
       "    <tr>\n",
       "      <th>433</th>\n",
       "      <td>F10P-Ig-CLL-Simon_S166.clones.txt</td>\n",
       "      <td>269683</td>\n",
       "    </tr>\n",
       "    <tr>\n",
       "      <th>506</th>\n",
       "      <td>I5P-Ig-CLL-Simon_S167.clones.txt</td>\n",
       "      <td>394506</td>\n",
       "    </tr>\n",
       "    <tr>\n",
       "      <th>442</th>\n",
       "      <td>F4P-Ig-CLL-Simon_S163.clones.txt</td>\n",
       "      <td>477272</td>\n",
       "    </tr>\n",
       "    <tr>\n",
       "      <th>452</th>\n",
       "      <td>F8P-Ig-CLL-Simon_S165.clones.txt</td>\n",
       "      <td>552993</td>\n",
       "    </tr>\n",
       "  </tbody>\n",
       "</table>\n",
       "<p>951 rows × 2 columns</p>\n",
       "</div>"
      ],
      "text/plain": [
       "                                       clones.txt.name  cloneCount\n",
       "125           AP-hs-IGH-CLL062-PB-gDNA_S149.clones.txt           5\n",
       "375         Dona-HD036-IGH-Wiederholung_S35.clones.txt           7\n",
       "613       LisaS-hs-FR3-DLBCL-KM-Inf-01_S130.clones.txt           8\n",
       "673               LisaS-hs-FR3-DLBCL39_S105.clones.txt           9\n",
       "780  LisaS-hs-ighFR3-NLPHL41-Rez2-20-Ampl_S167.clon...          10\n",
       "..                                                 ...         ...\n",
       "668             LisaS-hs-FR3-DLBCL37-II_S42.clones.txt      262420\n",
       "433                  F10P-Ig-CLL-Simon_S166.clones.txt      269683\n",
       "506                   I5P-Ig-CLL-Simon_S167.clones.txt      394506\n",
       "442                   F4P-Ig-CLL-Simon_S163.clones.txt      477272\n",
       "452                   F8P-Ig-CLL-Simon_S165.clones.txt      552993\n",
       "\n",
       "[951 rows x 2 columns]"
      ]
     },
     "execution_count": 245,
     "metadata": {},
     "output_type": "execute_result"
    }
   ],
   "source": [
    "df.groupby(\"clones.txt.name\")[\"cloneCount\"].apply(sum).reset_index().sort_values(by=\"cloneCount\")"
   ]
  },
  {
   "cell_type": "code",
   "execution_count": null,
   "id": "63613941",
   "metadata": {},
   "outputs": [],
   "source": []
  },
  {
   "cell_type": "code",
   "execution_count": 223,
   "id": "2e0a932d",
   "metadata": {},
   "outputs": [],
   "source": [
    "target_column = \"lymphoma_specification_grouped_encoded\""
   ]
  },
  {
   "cell_type": "code",
   "execution_count": 74,
   "id": "99acede6",
   "metadata": {},
   "outputs": [],
   "source": [
    "X_test = X.iloc[test_index].copy()\n",
    "X = X.iloc[train_index].copy()"
   ]
  },
  {
   "cell_type": "code",
   "execution_count": 75,
   "id": "51513de7",
   "metadata": {},
   "outputs": [],
   "source": [
    "n_folds = 5"
   ]
  },
  {
   "cell_type": "code",
   "execution_count": 76,
   "id": "ef8ea645",
   "metadata": {},
   "outputs": [],
   "source": [
    "skf = StratifiedKFold(n_splits=n_folds, shuffle = True, random_state = 42)"
   ]
  },
  {
   "cell_type": "code",
   "execution_count": 77,
   "id": "d096bc8d",
   "metadata": {},
   "outputs": [],
   "source": [
    "train_valid_folds = list(skf.split(X, X[target_column]))"
   ]
  },
  {
   "cell_type": "code",
   "execution_count": 79,
   "id": "707f28a0",
   "metadata": {},
   "outputs": [],
   "source": [
    "X_train_folds = []\n",
    "y_train_folds = []\n",
    "X_valid_folds = []\n",
    "y_valid_folds = []\n",
    "\n",
    "for i in range(n_folds):\n",
    "    \n",
    "    train_folds = train_valid_folds[i][0]\n",
    "    valid_folds = train_valid_folds[i][1]\n",
    "    X_train = X.iloc[train_folds]\n",
    "    y_train = np.asarray(X_train[target_column])\n",
    "       \n",
    "    X_valid = X.iloc[valid_folds]\n",
    "    y_valid = np.asarray(X_valid[target_column])"
   ]
  },
  {
   "cell_type": "code",
   "execution_count": null,
   "id": "06e8d3dc",
   "metadata": {},
   "outputs": [],
   "source": [
    "for i, X_train in enumerate(tqdm(X_train_folds)):\n",
    "    y_train = y_train_folds[i]\n",
    "    X_valid = X_valid_folds[i]\n",
    "    y_valid = y_valid_folds[i]\n",
    "    "
   ]
  },
  {
   "cell_type": "code",
   "execution_count": 86,
   "id": "d6b2a2c4",
   "metadata": {},
   "outputs": [],
   "source": [
    "INPUT_DIM = 320\n",
    "NUM_HIDDEN_NODES =1028\n",
    "NUM_OUTPUT_NODES = 3\n",
    "NUM_LAYERS = 2\n",
    "DROPOUT = 0.5\n",
    "\n",
    "\n",
    "model = model_zoo.ResnetModel(input_channel=INPUT_DIM,output_channel=NUM_OUTPUT_NODES,hidden_layers=NUM_LAYERS,hidden_units=NUM_HIDDEN_NODES)\n",
    "model.train()\n",
    "device = torch.device(\"mps\")\n",
    "\n",
    "import torch.optim as optim\n",
    "model = model.to(device)\n",
    "optimizer = optim.Adam(model.parameters(),lr=0.001)\n",
    "criterion = torch.nn.CrossEntropyLoss()\n",
    "\n",
    "BATCH_SIZE =16\n",
    "N_EPOCHS = 100"
   ]
  },
  {
   "cell_type": "code",
   "execution_count": null,
   "id": "5c7198cc",
   "metadata": {},
   "outputs": [],
   "source": []
  },
  {
   "cell_type": "code",
   "execution_count": null,
   "id": "0439a766",
   "metadata": {},
   "outputs": [],
   "source": [
    "epoch_loss = []\n",
    "epoch_acc = []\n",
    "for ii in tqdm(range(N_EPOCHS), desc ='Training...',position=0,leave=True):\n",
    "    average_epoch_loss = []\n",
    "    average_epoch_metric = []\n",
    "    average_epoch_acc = []\n",
    "    \n",
    "    running_loss = 0.0\n",
    "    epoch = create_epoch_with_same_size_batching(length_with_index_dict, BATCH_SIZE , shuffle=True)\n",
    "\n",
    "    for jj, idxs in enumerate(tqdm(epoch,desc = \"Batch...\",position=1, leave=False)): #enumerate(epoch):\n",
    "        model.train()\n",
    "        # index by indices in batch\n",
    "\n",
    "        batch_input_jj = X_train.iloc[idxs]\n",
    "        \n",
    "        batch_input_jj_lens = torch.from_numpy(X_train_lens.iloc[idxs].values)#.to(device)\n",
    "        \n",
    "        batch_input = pad_batch_online(batch_input_jj_lens, batch_input_jj, style=\"zero\")\n",
    "        batch_input = torch.from_numpy(batch_input).to(device, dtype=torch.float32)\n",
    "\n",
    "       \n",
    "        Y_hat = model(batch_input, batch_input_jj_lens)\n",
    "\n",
    "        batch_output_jj = torch.from_numpy(np.stack(Y_train.iloc[idxs].values)).to(device, dtype=torch.float32)\n",
    "\n",
    "\n",
    "        optimizer.zero_grad() # set gradients to zero before performing backprop\n",
    "        loss = criterion(Y_hat.squeeze(), batch_output_jj.to(torch.float32))\n",
    "        average_epoch_loss += [loss.item()]\n",
    "        \n",
    "        #f1score = metric(Y_hat, batch_output_jj)\n",
    "        #average_epoch_metric += [f1score.item()]\n",
    "        \n",
    "        running_loss += loss.item()\n",
    "        loss.backward()  # compute dloss/dx and accumulated into x.grad\n",
    "        optimizer.step()  # compute x += -learning_rate * x.grad\n",
    "\n",
    "        model.eval()\n",
    "        Y_hat = model(batch_input, batch_input_jj_lens)\n",
    "        Y_hat = torch.nn.functional.softmax(Y_hat, dim=1)\n",
    "        \n",
    "        pred_labels = np.argmax(Y_hat.detach().cpu().numpy(),axis=1)\n",
    "        true_labels = np.argmax(batch_output_jj.detach().cpu().numpy(), axis=1)\n",
    "        \n",
    "        acc = np.mean(pred_labels == true_labels)\n",
    "        average_epoch_acc += [acc]\n",
    "    \n",
    "    epoch_loss += [np.mean(average_epoch_loss)]\n",
    "    epoch_acc += [np.mean(average_epoch_acc)]\n",
    "    #print(\"Avg Training Loss: \" + str(np.mean(average_epoch_loss)) + \"\\n\" +\n",
    "    #      #\"Avg Training Score: \" + str(np.mean(average_epoch_metric)) + \"\\n\" +\n",
    "    #      \"Running Training Loss: \" + str(float(running_loss)))\n",
    "    #time.sleep(0.1)\n",
    "    "
   ]
  }
 ],
 "metadata": {
  "kernelspec": {
   "display_name": "Python 3 (ipykernel)",
   "language": "python",
   "name": "python3"
  },
  "language_info": {
   "codemirror_mode": {
    "name": "ipython",
    "version": 3
   },
   "file_extension": ".py",
   "mimetype": "text/x-python",
   "name": "python",
   "nbconvert_exporter": "python",
   "pygments_lexer": "ipython3",
   "version": "3.11.5"
  }
 },
 "nbformat": 4,
 "nbformat_minor": 5
}
